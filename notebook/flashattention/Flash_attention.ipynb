{
 "cells": [
  {
   "cell_type": "markdown",
   "id": "e232fd8a-d5ee-4bb7-9226-1b8648b694f2",
   "metadata": {},
   "source": [
    "# 手撕 Flash Attention Pytorch实现"
   ]
  },
  {
   "cell_type": "markdown",
   "id": "171c80e3-ee11-4512-8a7a-6bc5055160fc",
   "metadata": {},
   "source": [
    "![](./flash.png)"
   ]
  },
  {
   "cell_type": "markdown",
   "id": "63fb215c-d0b2-4ef0-960a-03000d3112a5",
   "metadata": {},
   "source": [
    "## 1. 设定分块矩阵"
   ]
  },
  {
   "cell_type": "code",
   "execution_count": 3,
   "id": "f8f3b45c-576b-4774-badd-73abd2f926b7",
   "metadata": {},
   "outputs": [],
   "source": [
    "import torch\n",
    "from einops import rearrange\n",
    "\n",
    "NEG_INF = -1e10  # -infinity\n",
    "EPSILON = 1e-10\n",
    "\n",
    "Q_LEN = 6\n",
    "K_LEN = 6\n",
    "Q_BLOCK_SIZE = 3 # \n",
    "KV_BLOCK_SIZE = 3\n",
    "Tr = Q_LEN // Q_BLOCK_SIZE\n",
    "Tc = K_LEN // KV_BLOCK_SIZE\n",
    "\n",
    "Q = torch.randn(1, 1, Q_LEN, 4, requires_grad=True).to(device='cpu')\n",
    "K = torch.randn(1, 1, K_LEN, 4, requires_grad=True).to(device='cpu')\n",
    "V = torch.randn(1, 1, K_LEN, 4, requires_grad=True).to(device='cpu')\n",
    "O = torch.zeros_like(Q, requires_grad=True)\n",
    "l = torch.zeros(Q.shape[:-1])[..., None]\n",
    "m = torch.ones(Q.shape[:-1])[..., None] * NEG_INF\n",
    "\n",
    "Q_BLOCKS = torch.split(Q, Q_BLOCK_SIZE, dim=2)\n",
    "K_BLOCKS = torch.split(K, KV_BLOCK_SIZE, dim=2)\n",
    "V_BLOCKS = torch.split(V, KV_BLOCK_SIZE, dim=2)\n",
    "O_BLOCKS = list(torch.split(O, Q_BLOCK_SIZE, dim=2))\n",
    "l_BLOCKS = list(torch.split(l, Q_BLOCK_SIZE, dim=2))\n",
    "m_BLOCKS = list(torch.split(m, Q_BLOCK_SIZE, dim=2))"
   ]
  },
  {
   "cell_type": "markdown",
   "id": "5bddb567-ca06-4217-9ef6-ae6721d9f08c",
   "metadata": {},
   "source": [
    "## 2. 计算Flash Attention"
   ]
  },
  {
   "cell_type": "code",
   "execution_count": 5,
   "id": "66dc0f23-19a4-46ad-9a4c-f911c470a02d",
   "metadata": {},
   "outputs": [
    {
     "data": {
      "text/html": [
       "<pre style=\"white-space:pre;overflow-x:auto;line-height:normal;font-family:Menlo,'DejaVu Sans Mono',consolas,'Courier New',monospace\">-----------Attn : Q<span style=\"color: #008080; text-decoration-color: #008080; font-weight: bold\">0x</span>K0---------\n",
       "</pre>\n"
      ],
      "text/plain": [
       "-----------Attn : Q\u001b[1;36m0x\u001b[0mK0---------\n"
      ]
     },
     "metadata": {},
     "output_type": "display_data"
    },
    {
     "data": {
      "text/html": [
       "<pre style=\"white-space:pre;overflow-x:auto;line-height:normal;font-family:Menlo,'DejaVu Sans Mono',consolas,'Courier New',monospace\"><span style=\"color: #800080; text-decoration-color: #800080; font-weight: bold\">tensor</span><span style=\"font-weight: bold\">([[[[</span> <span style=\"color: #008080; text-decoration-color: #008080; font-weight: bold\">0.7635</span>, <span style=\"color: #008080; text-decoration-color: #008080; font-weight: bold\">-0.7526</span>,  <span style=\"color: #008080; text-decoration-color: #008080; font-weight: bold\">0.0517</span>, <span style=\"color: #008080; text-decoration-color: #008080; font-weight: bold\">-0.1423</span><span style=\"font-weight: bold\">]</span>,\n",
       "          <span style=\"font-weight: bold\">[</span> <span style=\"color: #008080; text-decoration-color: #008080; font-weight: bold\">1.1500</span>,  <span style=\"color: #008080; text-decoration-color: #008080; font-weight: bold\">1.3530</span>, <span style=\"color: #008080; text-decoration-color: #008080; font-weight: bold\">-0.5210</span>, <span style=\"color: #008080; text-decoration-color: #008080; font-weight: bold\">-0.5599</span><span style=\"font-weight: bold\">]</span>,\n",
       "          <span style=\"font-weight: bold\">[</span> <span style=\"color: #008080; text-decoration-color: #008080; font-weight: bold\">0.8521</span>, <span style=\"color: #008080; text-decoration-color: #008080; font-weight: bold\">-0.1451</span>,  <span style=\"color: #008080; text-decoration-color: #008080; font-weight: bold\">0.1048</span>, <span style=\"color: #008080; text-decoration-color: #008080; font-weight: bold\">-0.1800</span><span style=\"font-weight: bold\">]]]]</span>, <span style=\"color: #808000; text-decoration-color: #808000\">grad_fn</span>=<span style=\"font-weight: bold\">&lt;</span><span style=\"color: #ff00ff; text-decoration-color: #ff00ff; font-weight: bold\">AddBackward0</span><span style=\"font-weight: bold\">&gt;)</span>\n",
       "</pre>\n"
      ],
      "text/plain": [
       "\u001b[1;35mtensor\u001b[0m\u001b[1m(\u001b[0m\u001b[1m[\u001b[0m\u001b[1m[\u001b[0m\u001b[1m[\u001b[0m\u001b[1m[\u001b[0m \u001b[1;36m0.7635\u001b[0m, \u001b[1;36m-0.7526\u001b[0m,  \u001b[1;36m0.0517\u001b[0m, \u001b[1;36m-0.1423\u001b[0m\u001b[1m]\u001b[0m,\n",
       "          \u001b[1m[\u001b[0m \u001b[1;36m1.1500\u001b[0m,  \u001b[1;36m1.3530\u001b[0m, \u001b[1;36m-0.5210\u001b[0m, \u001b[1;36m-0.5599\u001b[0m\u001b[1m]\u001b[0m,\n",
       "          \u001b[1m[\u001b[0m \u001b[1;36m0.8521\u001b[0m, \u001b[1;36m-0.1451\u001b[0m,  \u001b[1;36m0.1048\u001b[0m, \u001b[1;36m-0.1800\u001b[0m\u001b[1m]\u001b[0m\u001b[1m]\u001b[0m\u001b[1m]\u001b[0m\u001b[1m]\u001b[0m, \u001b[33mgrad_fn\u001b[0m=\u001b[1m<\u001b[0m\u001b[1;95mAddBackward0\u001b[0m\u001b[1m>\u001b[0m\u001b[1m)\u001b[0m\n"
      ]
     },
     "metadata": {},
     "output_type": "display_data"
    },
    {
     "data": {
      "text/html": [
       "<pre style=\"white-space:pre;overflow-x:auto;line-height:normal;font-family:Menlo,'DejaVu Sans Mono',consolas,'Courier New',monospace\"><span style=\"color: #800080; text-decoration-color: #800080; font-weight: bold\">tensor</span><span style=\"font-weight: bold\">([[[[</span><span style=\"color: #008080; text-decoration-color: #008080; font-weight: bold\">0</span>., <span style=\"color: #008080; text-decoration-color: #008080; font-weight: bold\">0</span>., <span style=\"color: #008080; text-decoration-color: #008080; font-weight: bold\">0</span>., <span style=\"color: #008080; text-decoration-color: #008080; font-weight: bold\">0</span>.<span style=\"font-weight: bold\">]</span>,\n",
       "          <span style=\"font-weight: bold\">[</span><span style=\"color: #008080; text-decoration-color: #008080; font-weight: bold\">0</span>., <span style=\"color: #008080; text-decoration-color: #008080; font-weight: bold\">0</span>., <span style=\"color: #008080; text-decoration-color: #008080; font-weight: bold\">0</span>., <span style=\"color: #008080; text-decoration-color: #008080; font-weight: bold\">0</span>.<span style=\"font-weight: bold\">]</span>,\n",
       "          <span style=\"font-weight: bold\">[</span><span style=\"color: #008080; text-decoration-color: #008080; font-weight: bold\">0</span>., <span style=\"color: #008080; text-decoration-color: #008080; font-weight: bold\">0</span>., <span style=\"color: #008080; text-decoration-color: #008080; font-weight: bold\">0</span>., <span style=\"color: #008080; text-decoration-color: #008080; font-weight: bold\">0</span>.<span style=\"font-weight: bold\">]]]]</span>, <span style=\"color: #808000; text-decoration-color: #808000\">grad_fn</span>=<span style=\"font-weight: bold\">&lt;</span><span style=\"color: #ff00ff; text-decoration-color: #ff00ff; font-weight: bold\">SplitBackward0</span><span style=\"font-weight: bold\">&gt;)</span>\n",
       "</pre>\n"
      ],
      "text/plain": [
       "\u001b[1;35mtensor\u001b[0m\u001b[1m(\u001b[0m\u001b[1m[\u001b[0m\u001b[1m[\u001b[0m\u001b[1m[\u001b[0m\u001b[1m[\u001b[0m\u001b[1;36m0\u001b[0m., \u001b[1;36m0\u001b[0m., \u001b[1;36m0\u001b[0m., \u001b[1;36m0\u001b[0m.\u001b[1m]\u001b[0m,\n",
       "          \u001b[1m[\u001b[0m\u001b[1;36m0\u001b[0m., \u001b[1;36m0\u001b[0m., \u001b[1;36m0\u001b[0m., \u001b[1;36m0\u001b[0m.\u001b[1m]\u001b[0m,\n",
       "          \u001b[1m[\u001b[0m\u001b[1;36m0\u001b[0m., \u001b[1;36m0\u001b[0m., \u001b[1;36m0\u001b[0m., \u001b[1;36m0\u001b[0m.\u001b[1m]\u001b[0m\u001b[1m]\u001b[0m\u001b[1m]\u001b[0m\u001b[1m]\u001b[0m, \u001b[33mgrad_fn\u001b[0m=\u001b[1m<\u001b[0m\u001b[1;95mSplitBackward0\u001b[0m\u001b[1m>\u001b[0m\u001b[1m)\u001b[0m\n"
      ]
     },
     "metadata": {},
     "output_type": "display_data"
    },
    {
     "data": {
      "text/html": [
       "<pre style=\"white-space:pre;overflow-x:auto;line-height:normal;font-family:Menlo,'DejaVu Sans Mono',consolas,'Courier New',monospace\">\n",
       "\n",
       "</pre>\n"
      ],
      "text/plain": [
       "\n",
       "\n"
      ]
     },
     "metadata": {},
     "output_type": "display_data"
    },
    {
     "data": {
      "text/html": [
       "<pre style=\"white-space:pre;overflow-x:auto;line-height:normal;font-family:Menlo,'DejaVu Sans Mono',consolas,'Courier New',monospace\">-----------Attn : Q1xK0---------\n",
       "</pre>\n"
      ],
      "text/plain": [
       "-----------Attn : Q1xK0---------\n"
      ]
     },
     "metadata": {},
     "output_type": "display_data"
    },
    {
     "data": {
      "text/html": [
       "<pre style=\"white-space:pre;overflow-x:auto;line-height:normal;font-family:Menlo,'DejaVu Sans Mono',consolas,'Courier New',monospace\"><span style=\"color: #800080; text-decoration-color: #800080; font-weight: bold\">tensor</span><span style=\"font-weight: bold\">([[[[</span> <span style=\"color: #008080; text-decoration-color: #008080; font-weight: bold\">0.7635</span>, <span style=\"color: #008080; text-decoration-color: #008080; font-weight: bold\">-0.7526</span>,  <span style=\"color: #008080; text-decoration-color: #008080; font-weight: bold\">0.0517</span>, <span style=\"color: #008080; text-decoration-color: #008080; font-weight: bold\">-0.1423</span><span style=\"font-weight: bold\">]</span>,\n",
       "          <span style=\"font-weight: bold\">[</span> <span style=\"color: #008080; text-decoration-color: #008080; font-weight: bold\">1.1500</span>,  <span style=\"color: #008080; text-decoration-color: #008080; font-weight: bold\">1.3530</span>, <span style=\"color: #008080; text-decoration-color: #008080; font-weight: bold\">-0.5210</span>, <span style=\"color: #008080; text-decoration-color: #008080; font-weight: bold\">-0.5599</span><span style=\"font-weight: bold\">]</span>,\n",
       "          <span style=\"font-weight: bold\">[</span> <span style=\"color: #008080; text-decoration-color: #008080; font-weight: bold\">0.8521</span>, <span style=\"color: #008080; text-decoration-color: #008080; font-weight: bold\">-0.1451</span>,  <span style=\"color: #008080; text-decoration-color: #008080; font-weight: bold\">0.1048</span>, <span style=\"color: #008080; text-decoration-color: #008080; font-weight: bold\">-0.1800</span><span style=\"font-weight: bold\">]]]]</span>, <span style=\"color: #808000; text-decoration-color: #808000\">grad_fn</span>=<span style=\"font-weight: bold\">&lt;</span><span style=\"color: #ff00ff; text-decoration-color: #ff00ff; font-weight: bold\">AddBackward0</span><span style=\"font-weight: bold\">&gt;)</span>\n",
       "</pre>\n"
      ],
      "text/plain": [
       "\u001b[1;35mtensor\u001b[0m\u001b[1m(\u001b[0m\u001b[1m[\u001b[0m\u001b[1m[\u001b[0m\u001b[1m[\u001b[0m\u001b[1m[\u001b[0m \u001b[1;36m0.7635\u001b[0m, \u001b[1;36m-0.7526\u001b[0m,  \u001b[1;36m0.0517\u001b[0m, \u001b[1;36m-0.1423\u001b[0m\u001b[1m]\u001b[0m,\n",
       "          \u001b[1m[\u001b[0m \u001b[1;36m1.1500\u001b[0m,  \u001b[1;36m1.3530\u001b[0m, \u001b[1;36m-0.5210\u001b[0m, \u001b[1;36m-0.5599\u001b[0m\u001b[1m]\u001b[0m,\n",
       "          \u001b[1m[\u001b[0m \u001b[1;36m0.8521\u001b[0m, \u001b[1;36m-0.1451\u001b[0m,  \u001b[1;36m0.1048\u001b[0m, \u001b[1;36m-0.1800\u001b[0m\u001b[1m]\u001b[0m\u001b[1m]\u001b[0m\u001b[1m]\u001b[0m\u001b[1m]\u001b[0m, \u001b[33mgrad_fn\u001b[0m=\u001b[1m<\u001b[0m\u001b[1;95mAddBackward0\u001b[0m\u001b[1m>\u001b[0m\u001b[1m)\u001b[0m\n"
      ]
     },
     "metadata": {},
     "output_type": "display_data"
    },
    {
     "data": {
      "text/html": [
       "<pre style=\"white-space:pre;overflow-x:auto;line-height:normal;font-family:Menlo,'DejaVu Sans Mono',consolas,'Courier New',monospace\"><span style=\"color: #800080; text-decoration-color: #800080; font-weight: bold\">tensor</span><span style=\"font-weight: bold\">([[[[</span> <span style=\"color: #008080; text-decoration-color: #008080; font-weight: bold\">1.1792</span>,  <span style=\"color: #008080; text-decoration-color: #008080; font-weight: bold\">1.5286</span>, <span style=\"color: #008080; text-decoration-color: #008080; font-weight: bold\">-0.5398</span>, <span style=\"color: #008080; text-decoration-color: #008080; font-weight: bold\">-0.5838</span><span style=\"font-weight: bold\">]</span>,\n",
       "          <span style=\"font-weight: bold\">[</span> <span style=\"color: #008080; text-decoration-color: #008080; font-weight: bold\">0.8137</span>, <span style=\"color: #008080; text-decoration-color: #008080; font-weight: bold\">-0.3840</span>,  <span style=\"color: #008080; text-decoration-color: #008080; font-weight: bold\">0.1177</span>, <span style=\"color: #008080; text-decoration-color: #008080; font-weight: bold\">-0.1524</span><span style=\"font-weight: bold\">]</span>,\n",
       "          <span style=\"font-weight: bold\">[</span> <span style=\"color: #008080; text-decoration-color: #008080; font-weight: bold\">0.8614</span>, <span style=\"color: #008080; text-decoration-color: #008080; font-weight: bold\">-0.0307</span>,  <span style=\"color: #008080; text-decoration-color: #008080; font-weight: bold\">0.1853</span>, <span style=\"color: #008080; text-decoration-color: #008080; font-weight: bold\">-0.1604</span><span style=\"font-weight: bold\">]]]]</span>, <span style=\"color: #808000; text-decoration-color: #808000\">grad_fn</span>=<span style=\"font-weight: bold\">&lt;</span><span style=\"color: #ff00ff; text-decoration-color: #ff00ff; font-weight: bold\">AddBackward0</span><span style=\"font-weight: bold\">&gt;)</span>\n",
       "</pre>\n"
      ],
      "text/plain": [
       "\u001b[1;35mtensor\u001b[0m\u001b[1m(\u001b[0m\u001b[1m[\u001b[0m\u001b[1m[\u001b[0m\u001b[1m[\u001b[0m\u001b[1m[\u001b[0m \u001b[1;36m1.1792\u001b[0m,  \u001b[1;36m1.5286\u001b[0m, \u001b[1;36m-0.5398\u001b[0m, \u001b[1;36m-0.5838\u001b[0m\u001b[1m]\u001b[0m,\n",
       "          \u001b[1m[\u001b[0m \u001b[1;36m0.8137\u001b[0m, \u001b[1;36m-0.3840\u001b[0m,  \u001b[1;36m0.1177\u001b[0m, \u001b[1;36m-0.1524\u001b[0m\u001b[1m]\u001b[0m,\n",
       "          \u001b[1m[\u001b[0m \u001b[1;36m0.8614\u001b[0m, \u001b[1;36m-0.0307\u001b[0m,  \u001b[1;36m0.1853\u001b[0m, \u001b[1;36m-0.1604\u001b[0m\u001b[1m]\u001b[0m\u001b[1m]\u001b[0m\u001b[1m]\u001b[0m\u001b[1m]\u001b[0m, \u001b[33mgrad_fn\u001b[0m=\u001b[1m<\u001b[0m\u001b[1;95mAddBackward0\u001b[0m\u001b[1m>\u001b[0m\u001b[1m)\u001b[0m\n"
      ]
     },
     "metadata": {},
     "output_type": "display_data"
    },
    {
     "data": {
      "text/html": [
       "<pre style=\"white-space:pre;overflow-x:auto;line-height:normal;font-family:Menlo,'DejaVu Sans Mono',consolas,'Courier New',monospace\">\n",
       "\n",
       "</pre>\n"
      ],
      "text/plain": [
       "\n",
       "\n"
      ]
     },
     "metadata": {},
     "output_type": "display_data"
    },
    {
     "data": {
      "text/html": [
       "<pre style=\"white-space:pre;overflow-x:auto;line-height:normal;font-family:Menlo,'DejaVu Sans Mono',consolas,'Courier New',monospace\">-----------Attn : Q<span style=\"color: #008080; text-decoration-color: #008080; font-weight: bold\">0x</span>K1---------\n",
       "</pre>\n"
      ],
      "text/plain": [
       "-----------Attn : Q\u001b[1;36m0x\u001b[0mK1---------\n"
      ]
     },
     "metadata": {},
     "output_type": "display_data"
    },
    {
     "data": {
      "text/html": [
       "<pre style=\"white-space:pre;overflow-x:auto;line-height:normal;font-family:Menlo,'DejaVu Sans Mono',consolas,'Courier New',monospace\"><span style=\"color: #800080; text-decoration-color: #800080; font-weight: bold\">tensor</span><span style=\"font-weight: bold\">([[[[</span> <span style=\"color: #008080; text-decoration-color: #008080; font-weight: bold\">0.8079</span>, <span style=\"color: #008080; text-decoration-color: #008080; font-weight: bold\">-0.7476</span>,  <span style=\"color: #008080; text-decoration-color: #008080; font-weight: bold\">0.0581</span>, <span style=\"color: #008080; text-decoration-color: #008080; font-weight: bold\">-0.1573</span><span style=\"font-weight: bold\">]</span>,\n",
       "          <span style=\"font-weight: bold\">[</span> <span style=\"color: #008080; text-decoration-color: #008080; font-weight: bold\">1.8556</span>, <span style=\"color: #008080; text-decoration-color: #008080; font-weight: bold\">-0.3380</span>, <span style=\"color: #008080; text-decoration-color: #008080; font-weight: bold\">-0.3364</span>,  <span style=\"color: #008080; text-decoration-color: #008080; font-weight: bold\">0.2566</span><span style=\"font-weight: bold\">]</span>,\n",
       "          <span style=\"font-weight: bold\">[</span> <span style=\"color: #008080; text-decoration-color: #008080; font-weight: bold\">1.0651</span>, <span style=\"color: #008080; text-decoration-color: #008080; font-weight: bold\">-0.2864</span>,  <span style=\"color: #008080; text-decoration-color: #008080; font-weight: bold\">0.1042</span>, <span style=\"color: #008080; text-decoration-color: #008080; font-weight: bold\">-0.1167</span><span style=\"font-weight: bold\">]]]]</span>, <span style=\"color: #808000; text-decoration-color: #808000\">grad_fn</span>=<span style=\"font-weight: bold\">&lt;</span><span style=\"color: #ff00ff; text-decoration-color: #ff00ff; font-weight: bold\">AddBackward0</span><span style=\"font-weight: bold\">&gt;)</span>\n",
       "</pre>\n"
      ],
      "text/plain": [
       "\u001b[1;35mtensor\u001b[0m\u001b[1m(\u001b[0m\u001b[1m[\u001b[0m\u001b[1m[\u001b[0m\u001b[1m[\u001b[0m\u001b[1m[\u001b[0m \u001b[1;36m0.8079\u001b[0m, \u001b[1;36m-0.7476\u001b[0m,  \u001b[1;36m0.0581\u001b[0m, \u001b[1;36m-0.1573\u001b[0m\u001b[1m]\u001b[0m,\n",
       "          \u001b[1m[\u001b[0m \u001b[1;36m1.8556\u001b[0m, \u001b[1;36m-0.3380\u001b[0m, \u001b[1;36m-0.3364\u001b[0m,  \u001b[1;36m0.2566\u001b[0m\u001b[1m]\u001b[0m,\n",
       "          \u001b[1m[\u001b[0m \u001b[1;36m1.0651\u001b[0m, \u001b[1;36m-0.2864\u001b[0m,  \u001b[1;36m0.1042\u001b[0m, \u001b[1;36m-0.1167\u001b[0m\u001b[1m]\u001b[0m\u001b[1m]\u001b[0m\u001b[1m]\u001b[0m\u001b[1m]\u001b[0m, \u001b[33mgrad_fn\u001b[0m=\u001b[1m<\u001b[0m\u001b[1;95mAddBackward0\u001b[0m\u001b[1m>\u001b[0m\u001b[1m)\u001b[0m\n"
      ]
     },
     "metadata": {},
     "output_type": "display_data"
    },
    {
     "data": {
      "text/html": [
       "<pre style=\"white-space:pre;overflow-x:auto;line-height:normal;font-family:Menlo,'DejaVu Sans Mono',consolas,'Courier New',monospace\"><span style=\"color: #800080; text-decoration-color: #800080; font-weight: bold\">tensor</span><span style=\"font-weight: bold\">([[[[</span> <span style=\"color: #008080; text-decoration-color: #008080; font-weight: bold\">1.1792</span>,  <span style=\"color: #008080; text-decoration-color: #008080; font-weight: bold\">1.5286</span>, <span style=\"color: #008080; text-decoration-color: #008080; font-weight: bold\">-0.5398</span>, <span style=\"color: #008080; text-decoration-color: #008080; font-weight: bold\">-0.5838</span><span style=\"font-weight: bold\">]</span>,\n",
       "          <span style=\"font-weight: bold\">[</span> <span style=\"color: #008080; text-decoration-color: #008080; font-weight: bold\">0.8137</span>, <span style=\"color: #008080; text-decoration-color: #008080; font-weight: bold\">-0.3840</span>,  <span style=\"color: #008080; text-decoration-color: #008080; font-weight: bold\">0.1177</span>, <span style=\"color: #008080; text-decoration-color: #008080; font-weight: bold\">-0.1524</span><span style=\"font-weight: bold\">]</span>,\n",
       "          <span style=\"font-weight: bold\">[</span> <span style=\"color: #008080; text-decoration-color: #008080; font-weight: bold\">0.8614</span>, <span style=\"color: #008080; text-decoration-color: #008080; font-weight: bold\">-0.0307</span>,  <span style=\"color: #008080; text-decoration-color: #008080; font-weight: bold\">0.1853</span>, <span style=\"color: #008080; text-decoration-color: #008080; font-weight: bold\">-0.1604</span><span style=\"font-weight: bold\">]]]]</span>, <span style=\"color: #808000; text-decoration-color: #808000\">grad_fn</span>=<span style=\"font-weight: bold\">&lt;</span><span style=\"color: #ff00ff; text-decoration-color: #ff00ff; font-weight: bold\">AddBackward0</span><span style=\"font-weight: bold\">&gt;)</span>\n",
       "</pre>\n"
      ],
      "text/plain": [
       "\u001b[1;35mtensor\u001b[0m\u001b[1m(\u001b[0m\u001b[1m[\u001b[0m\u001b[1m[\u001b[0m\u001b[1m[\u001b[0m\u001b[1m[\u001b[0m \u001b[1;36m1.1792\u001b[0m,  \u001b[1;36m1.5286\u001b[0m, \u001b[1;36m-0.5398\u001b[0m, \u001b[1;36m-0.5838\u001b[0m\u001b[1m]\u001b[0m,\n",
       "          \u001b[1m[\u001b[0m \u001b[1;36m0.8137\u001b[0m, \u001b[1;36m-0.3840\u001b[0m,  \u001b[1;36m0.1177\u001b[0m, \u001b[1;36m-0.1524\u001b[0m\u001b[1m]\u001b[0m,\n",
       "          \u001b[1m[\u001b[0m \u001b[1;36m0.8614\u001b[0m, \u001b[1;36m-0.0307\u001b[0m,  \u001b[1;36m0.1853\u001b[0m, \u001b[1;36m-0.1604\u001b[0m\u001b[1m]\u001b[0m\u001b[1m]\u001b[0m\u001b[1m]\u001b[0m\u001b[1m]\u001b[0m, \u001b[33mgrad_fn\u001b[0m=\u001b[1m<\u001b[0m\u001b[1;95mAddBackward0\u001b[0m\u001b[1m>\u001b[0m\u001b[1m)\u001b[0m\n"
      ]
     },
     "metadata": {},
     "output_type": "display_data"
    },
    {
     "data": {
      "text/html": [
       "<pre style=\"white-space:pre;overflow-x:auto;line-height:normal;font-family:Menlo,'DejaVu Sans Mono',consolas,'Courier New',monospace\">\n",
       "\n",
       "</pre>\n"
      ],
      "text/plain": [
       "\n",
       "\n"
      ]
     },
     "metadata": {},
     "output_type": "display_data"
    },
    {
     "data": {
      "text/html": [
       "<pre style=\"white-space:pre;overflow-x:auto;line-height:normal;font-family:Menlo,'DejaVu Sans Mono',consolas,'Courier New',monospace\">-----------Attn : Q1xK1---------\n",
       "</pre>\n"
      ],
      "text/plain": [
       "-----------Attn : Q1xK1---------\n"
      ]
     },
     "metadata": {},
     "output_type": "display_data"
    },
    {
     "data": {
      "text/html": [
       "<pre style=\"white-space:pre;overflow-x:auto;line-height:normal;font-family:Menlo,'DejaVu Sans Mono',consolas,'Courier New',monospace\"><span style=\"color: #800080; text-decoration-color: #800080; font-weight: bold\">tensor</span><span style=\"font-weight: bold\">([[[[</span> <span style=\"color: #008080; text-decoration-color: #008080; font-weight: bold\">0.8079</span>, <span style=\"color: #008080; text-decoration-color: #008080; font-weight: bold\">-0.7476</span>,  <span style=\"color: #008080; text-decoration-color: #008080; font-weight: bold\">0.0581</span>, <span style=\"color: #008080; text-decoration-color: #008080; font-weight: bold\">-0.1573</span><span style=\"font-weight: bold\">]</span>,\n",
       "          <span style=\"font-weight: bold\">[</span> <span style=\"color: #008080; text-decoration-color: #008080; font-weight: bold\">1.8556</span>, <span style=\"color: #008080; text-decoration-color: #008080; font-weight: bold\">-0.3380</span>, <span style=\"color: #008080; text-decoration-color: #008080; font-weight: bold\">-0.3364</span>,  <span style=\"color: #008080; text-decoration-color: #008080; font-weight: bold\">0.2566</span><span style=\"font-weight: bold\">]</span>,\n",
       "          <span style=\"font-weight: bold\">[</span> <span style=\"color: #008080; text-decoration-color: #008080; font-weight: bold\">1.0651</span>, <span style=\"color: #008080; text-decoration-color: #008080; font-weight: bold\">-0.2864</span>,  <span style=\"color: #008080; text-decoration-color: #008080; font-weight: bold\">0.1042</span>, <span style=\"color: #008080; text-decoration-color: #008080; font-weight: bold\">-0.1167</span><span style=\"font-weight: bold\">]]]]</span>, <span style=\"color: #808000; text-decoration-color: #808000\">grad_fn</span>=<span style=\"font-weight: bold\">&lt;</span><span style=\"color: #ff00ff; text-decoration-color: #ff00ff; font-weight: bold\">AddBackward0</span><span style=\"font-weight: bold\">&gt;)</span>\n",
       "</pre>\n"
      ],
      "text/plain": [
       "\u001b[1;35mtensor\u001b[0m\u001b[1m(\u001b[0m\u001b[1m[\u001b[0m\u001b[1m[\u001b[0m\u001b[1m[\u001b[0m\u001b[1m[\u001b[0m \u001b[1;36m0.8079\u001b[0m, \u001b[1;36m-0.7476\u001b[0m,  \u001b[1;36m0.0581\u001b[0m, \u001b[1;36m-0.1573\u001b[0m\u001b[1m]\u001b[0m,\n",
       "          \u001b[1m[\u001b[0m \u001b[1;36m1.8556\u001b[0m, \u001b[1;36m-0.3380\u001b[0m, \u001b[1;36m-0.3364\u001b[0m,  \u001b[1;36m0.2566\u001b[0m\u001b[1m]\u001b[0m,\n",
       "          \u001b[1m[\u001b[0m \u001b[1;36m1.0651\u001b[0m, \u001b[1;36m-0.2864\u001b[0m,  \u001b[1;36m0.1042\u001b[0m, \u001b[1;36m-0.1167\u001b[0m\u001b[1m]\u001b[0m\u001b[1m]\u001b[0m\u001b[1m]\u001b[0m\u001b[1m]\u001b[0m, \u001b[33mgrad_fn\u001b[0m=\u001b[1m<\u001b[0m\u001b[1;95mAddBackward0\u001b[0m\u001b[1m>\u001b[0m\u001b[1m)\u001b[0m\n"
      ]
     },
     "metadata": {},
     "output_type": "display_data"
    },
    {
     "data": {
      "text/html": [
       "<pre style=\"white-space:pre;overflow-x:auto;line-height:normal;font-family:Menlo,'DejaVu Sans Mono',consolas,'Courier New',monospace\"><span style=\"color: #800080; text-decoration-color: #800080; font-weight: bold\">tensor</span><span style=\"font-weight: bold\">([[[[</span> <span style=\"color: #008080; text-decoration-color: #008080; font-weight: bold\">1.2649</span>,  <span style=\"color: #008080; text-decoration-color: #008080; font-weight: bold\">1.0774</span>, <span style=\"color: #008080; text-decoration-color: #008080; font-weight: bold\">-0.3792</span>, <span style=\"color: #008080; text-decoration-color: #008080; font-weight: bold\">-0.4560</span><span style=\"font-weight: bold\">]</span>,\n",
       "          <span style=\"font-weight: bold\">[</span> <span style=\"color: #008080; text-decoration-color: #008080; font-weight: bold\">1.3142</span>, <span style=\"color: #008080; text-decoration-color: #008080; font-weight: bold\">-0.5549</span>,  <span style=\"color: #008080; text-decoration-color: #008080; font-weight: bold\">0.0909</span>, <span style=\"color: #008080; text-decoration-color: #008080; font-weight: bold\">-0.2419</span><span style=\"font-weight: bold\">]</span>,\n",
       "          <span style=\"font-weight: bold\">[</span> <span style=\"color: #008080; text-decoration-color: #008080; font-weight: bold\">1.2212</span>, <span style=\"color: #008080; text-decoration-color: #008080; font-weight: bold\">-0.3228</span>,  <span style=\"color: #008080; text-decoration-color: #008080; font-weight: bold\">0.1693</span>, <span style=\"color: #008080; text-decoration-color: #008080; font-weight: bold\">-0.2085</span><span style=\"font-weight: bold\">]]]]</span>, <span style=\"color: #808000; text-decoration-color: #808000\">grad_fn</span>=<span style=\"font-weight: bold\">&lt;</span><span style=\"color: #ff00ff; text-decoration-color: #ff00ff; font-weight: bold\">AddBackward0</span><span style=\"font-weight: bold\">&gt;)</span>\n",
       "</pre>\n"
      ],
      "text/plain": [
       "\u001b[1;35mtensor\u001b[0m\u001b[1m(\u001b[0m\u001b[1m[\u001b[0m\u001b[1m[\u001b[0m\u001b[1m[\u001b[0m\u001b[1m[\u001b[0m \u001b[1;36m1.2649\u001b[0m,  \u001b[1;36m1.0774\u001b[0m, \u001b[1;36m-0.3792\u001b[0m, \u001b[1;36m-0.4560\u001b[0m\u001b[1m]\u001b[0m,\n",
       "          \u001b[1m[\u001b[0m \u001b[1;36m1.3142\u001b[0m, \u001b[1;36m-0.5549\u001b[0m,  \u001b[1;36m0.0909\u001b[0m, \u001b[1;36m-0.2419\u001b[0m\u001b[1m]\u001b[0m,\n",
       "          \u001b[1m[\u001b[0m \u001b[1;36m1.2212\u001b[0m, \u001b[1;36m-0.3228\u001b[0m,  \u001b[1;36m0.1693\u001b[0m, \u001b[1;36m-0.2085\u001b[0m\u001b[1m]\u001b[0m\u001b[1m]\u001b[0m\u001b[1m]\u001b[0m\u001b[1m]\u001b[0m, \u001b[33mgrad_fn\u001b[0m=\u001b[1m<\u001b[0m\u001b[1;95mAddBackward0\u001b[0m\u001b[1m>\u001b[0m\u001b[1m)\u001b[0m\n"
      ]
     },
     "metadata": {},
     "output_type": "display_data"
    },
    {
     "data": {
      "text/html": [
       "<pre style=\"white-space:pre;overflow-x:auto;line-height:normal;font-family:Menlo,'DejaVu Sans Mono',consolas,'Courier New',monospace\">\n",
       "\n",
       "</pre>\n"
      ],
      "text/plain": [
       "\n",
       "\n"
      ]
     },
     "metadata": {},
     "output_type": "display_data"
    }
   ],
   "source": [
    "# 先 KV 后 Q \n",
    "for j in range(Tc):\n",
    "    Kj = K_BLOCKS[j]\n",
    "    Vj = V_BLOCKS[j]\n",
    "    for i in range(Tr):\n",
    "        Qi = Q_BLOCKS[i]\n",
    "        Oi = O_BLOCKS[i]\n",
    "        li = l_BLOCKS[i]\n",
    "        mi = m_BLOCKS[i]\n",
    "\n",
    "        S_ij = torch.einsum('... i d, ... j d -> ... i j', Qi, Kj)\n",
    "        m_block_ij, _ = torch.max(S_ij, dim=-1, keepdims=True)\n",
    "        P_ij = torch.exp(S_ij - m_block_ij)\n",
    "        l_block_ij = torch.sum(P_ij, dim=-1, keepdims=True) + EPSILON\n",
    "        P_ij_Vj = torch.einsum('... i j, ... j d -> ... i d', P_ij, Vj)\n",
    "        \n",
    "        mi_new = torch.maximum(m_block_ij, mi)\n",
    "        \n",
    "        li_new = torch.exp(mi - mi_new) * li  \\\n",
    "               + torch.exp(m_block_ij - mi_new) * l_block_ij \n",
    "\n",
    "        O_BLOCKS[i] = (li / li_new) * torch.exp(mi - mi_new) * Oi \\\n",
    "                    +(torch.exp(m_block_ij - mi_new) / li_new) * P_ij_Vj\n",
    "        print(f'-----------Attn : Q{i}xK{j}---------')\n",
    "#         print(O_BLOCKS[i].shape)\n",
    "        print(O_BLOCKS[0])\n",
    "        print(O_BLOCKS[1])\n",
    "        print('\\n')\n",
    "        \n",
    "        l_BLOCKS[i] = li_new\n",
    "        m_BLOCKS[i] = mi_new\n",
    "\n",
    "O = torch.cat(O_BLOCKS, dim=2)\n",
    "l = torch.cat(l_BLOCKS, dim=2)\n",
    "m = torch.cat(m_BLOCKS, dim=2)"
   ]
  },
  {
   "cell_type": "markdown",
   "id": "350e7c34-78fd-4b84-a753-40ccd03cd433",
   "metadata": {},
   "source": [
    "# Flash Attention2"
   ]
  },
  {
   "cell_type": "markdown",
   "id": "99cad8ab-ec9d-433f-8579-b67752a6e3b1",
   "metadata": {},
   "source": [
    "Flash Attntion2 相较1最终要的特点就是改变内外循环，从而减少O的交换"
   ]
  },
  {
   "cell_type": "markdown",
   "id": "7eaaf14a-f0bf-428b-bee7-a77ccaf64044",
   "metadata": {},
   "source": [
    "![](./flash2.png)"
   ]
  },
  {
   "cell_type": "code",
   "execution_count": 6,
   "id": "f1cd4c85-5a60-4a7a-a1e2-f6e6e50c5b9d",
   "metadata": {},
   "outputs": [],
   "source": [
    "# author: 小冬瓜AIGC\n",
    "import torch\n",
    "from einops import rearrange\n",
    "\n",
    "Q_BLOCK_SIZE = 3\n",
    "KV_BLOCK_SIZE = 3\n",
    "NEG_INF = -1e10  # -infinity\n",
    "EPSILON = 1e-10\n",
    "Q_LEN = 6\n",
    "K_LEN = 6\n",
    "Tr = Q_LEN // Q_BLOCK_SIZE # Q循环\n",
    "Tc = K_LEN // KV_BLOCK_SIZE # KV 循环 \n",
    "\n",
    "Q = torch.randn(1, 1, 6, 4, requires_grad=True).to(device='cpu')\n",
    "K = torch.randn(1, 1, 6, 4, requires_grad=True).to(device='cpu')\n",
    "V = torch.randn(1, 1, 6, 4, requires_grad=True).to(device='cpu')\n",
    "O = torch.zeros_like(Q, requires_grad=True)\n",
    "l = torch.zeros(Q.shape[:-1])[..., None]\n",
    "m = torch.ones(Q.shape[:-1])[..., None] * NEG_INF\n",
    "\n",
    "Q_BLOCKS = torch.split(Q, Q_BLOCK_SIZE, dim=2)\n",
    "K_BLOCKS = torch.split(K, KV_BLOCK_SIZE, dim=2)\n",
    "V_BLOCKS = torch.split(V, KV_BLOCK_SIZE, dim=2)\n",
    "O_BLOCKS = list(torch.split(O, Q_BLOCK_SIZE, dim=2))\n",
    "l_BLOCKS = list(torch.split(l, Q_BLOCK_SIZE, dim=2))\n",
    "m_BLOCKS = list(torch.split(m, Q_BLOCK_SIZE, dim=2))"
   ]
  },
  {
   "cell_type": "markdown",
   "id": "343d8c1f-2f37-4a1b-8e8b-da0ec784314e",
   "metadata": {},
   "source": [
    "Flash Attention 每个步骤都要做scaled处理， Flash Attention2 只在最后做scaled"
   ]
  },
  {
   "cell_type": "markdown",
   "id": "48d47446-9f83-4928-b7a1-072efccdcdb7",
   "metadata": {},
   "source": [
    "$$\n",
    "\\begin{align} O^{(2)}&=diag(l^{(1)}/l^{(2)})^{-1}O^{(1)}+diag(l^{(2)})^{-1}e^{S^{(2)}-m^{(2)}}V^{(2)} \\end{align}\n",
    "$$"
   ]
  },
  {
   "cell_type": "markdown",
   "id": "3fe52a41-c7b5-4390-985b-04ab58d89430",
   "metadata": {},
   "source": [
    "![](./flash_scaled.png)_"
   ]
  },
  {
   "cell_type": "markdown",
   "id": "fa0df99a-3d88-44c0-b899-a41bdba942e0",
   "metadata": {},
   "source": [
    "$$\n",
    "\\begin{align} \\widetilde{O}^{(2)} &= diag(l^{(1)})^{-1}O^{(1)}+e^{S^{(2)}-m^{(2)}}V^{(2)} \\\\ O^{(2)} &= diag(l^{(2)})^{-1}\\widetilde{O}^{(2)} \\\\  O^{(N)} &= diag(l^{(N)})^{-1}\\widetilde{O}^{(N)} \\end{align}\n",
    "$$"
   ]
  },
  {
   "cell_type": "code",
   "execution_count": 2,
   "id": "5c040018-d4ec-4387-94f3-9bb278982e82",
   "metadata": {},
   "outputs": [
    {
     "data": {
      "text/html": [
       "<pre style=\"white-space:pre;overflow-x:auto;line-height:normal;font-family:Menlo,'DejaVu Sans Mono',consolas,'Courier New',monospace\">-----------O0 = <span style=\"color: #800080; text-decoration-color: #800080; font-weight: bold\">attn</span><span style=\"font-weight: bold\">(</span> Q0, KV<span style=\"font-weight: bold\">[</span><span style=\"color: #008080; text-decoration-color: #008080; font-weight: bold\">0</span><span style=\"font-weight: bold\">])</span>---------\n",
       "</pre>\n"
      ],
      "text/plain": [
       "-----------O0 = \u001b[1;35mattn\u001b[0m\u001b[1m(\u001b[0m Q0, KV\u001b[1m[\u001b[0m\u001b[1;36m0\u001b[0m\u001b[1m]\u001b[0m\u001b[1m)\u001b[0m---------\n"
      ]
     },
     "metadata": {},
     "output_type": "display_data"
    },
    {
     "data": {
      "text/html": [
       "<pre style=\"white-space:pre;overflow-x:auto;line-height:normal;font-family:Menlo,'DejaVu Sans Mono',consolas,'Courier New',monospace\"><span style=\"color: #800080; text-decoration-color: #800080; font-weight: bold\">tensor</span><span style=\"font-weight: bold\">([[[[</span><span style=\"color: #008080; text-decoration-color: #008080; font-weight: bold\">-0.2135</span>, <span style=\"color: #008080; text-decoration-color: #008080; font-weight: bold\">-0.4783</span>,  <span style=\"color: #008080; text-decoration-color: #008080; font-weight: bold\">0.6653</span>, <span style=\"color: #008080; text-decoration-color: #008080; font-weight: bold\">-1.6356</span><span style=\"font-weight: bold\">]</span>,\n",
       "          <span style=\"font-weight: bold\">[</span> <span style=\"color: #008080; text-decoration-color: #008080; font-weight: bold\">0.6038</span>,  <span style=\"color: #008080; text-decoration-color: #008080; font-weight: bold\">1.9621</span>, <span style=\"color: #008080; text-decoration-color: #008080; font-weight: bold\">-1.6474</span>, <span style=\"color: #008080; text-decoration-color: #008080; font-weight: bold\">-2.2015</span><span style=\"font-weight: bold\">]</span>,\n",
       "          <span style=\"font-weight: bold\">[</span> <span style=\"color: #008080; text-decoration-color: #008080; font-weight: bold\">0.6543</span>,  <span style=\"color: #008080; text-decoration-color: #008080; font-weight: bold\">1.9929</span>, <span style=\"color: #008080; text-decoration-color: #008080; font-weight: bold\">-1.6862</span>, <span style=\"color: #008080; text-decoration-color: #008080; font-weight: bold\">-2.1673</span><span style=\"font-weight: bold\">]]]]</span>, <span style=\"color: #808000; text-decoration-color: #808000\">grad_fn</span>=<span style=\"font-weight: bold\">&lt;</span><span style=\"color: #ff00ff; text-decoration-color: #ff00ff; font-weight: bold\">AddBackward0</span><span style=\"font-weight: bold\">&gt;)</span>\n",
       "</pre>\n"
      ],
      "text/plain": [
       "\u001b[1;35mtensor\u001b[0m\u001b[1m(\u001b[0m\u001b[1m[\u001b[0m\u001b[1m[\u001b[0m\u001b[1m[\u001b[0m\u001b[1m[\u001b[0m\u001b[1;36m-0.2135\u001b[0m, \u001b[1;36m-0.4783\u001b[0m,  \u001b[1;36m0.6653\u001b[0m, \u001b[1;36m-1.6356\u001b[0m\u001b[1m]\u001b[0m,\n",
       "          \u001b[1m[\u001b[0m \u001b[1;36m0.6038\u001b[0m,  \u001b[1;36m1.9621\u001b[0m, \u001b[1;36m-1.6474\u001b[0m, \u001b[1;36m-2.2015\u001b[0m\u001b[1m]\u001b[0m,\n",
       "          \u001b[1m[\u001b[0m \u001b[1;36m0.6543\u001b[0m,  \u001b[1;36m1.9929\u001b[0m, \u001b[1;36m-1.6862\u001b[0m, \u001b[1;36m-2.1673\u001b[0m\u001b[1m]\u001b[0m\u001b[1m]\u001b[0m\u001b[1m]\u001b[0m\u001b[1m]\u001b[0m, \u001b[33mgrad_fn\u001b[0m=\u001b[1m<\u001b[0m\u001b[1;95mAddBackward0\u001b[0m\u001b[1m>\u001b[0m\u001b[1m)\u001b[0m\n"
      ]
     },
     "metadata": {},
     "output_type": "display_data"
    },
    {
     "data": {
      "text/html": [
       "<pre style=\"white-space:pre;overflow-x:auto;line-height:normal;font-family:Menlo,'DejaVu Sans Mono',consolas,'Courier New',monospace\">-----------O0 = <span style=\"color: #800080; text-decoration-color: #800080; font-weight: bold\">attn</span><span style=\"font-weight: bold\">(</span> Q0, KV<span style=\"font-weight: bold\">[</span><span style=\"color: #008080; text-decoration-color: #008080; font-weight: bold\">1</span><span style=\"font-weight: bold\">])</span>---------\n",
       "</pre>\n"
      ],
      "text/plain": [
       "-----------O0 = \u001b[1;35mattn\u001b[0m\u001b[1m(\u001b[0m Q0, KV\u001b[1m[\u001b[0m\u001b[1;36m1\u001b[0m\u001b[1m]\u001b[0m\u001b[1m)\u001b[0m---------\n"
      ]
     },
     "metadata": {},
     "output_type": "display_data"
    },
    {
     "data": {
      "text/html": [
       "<pre style=\"white-space:pre;overflow-x:auto;line-height:normal;font-family:Menlo,'DejaVu Sans Mono',consolas,'Courier New',monospace\"><span style=\"color: #800080; text-decoration-color: #800080; font-weight: bold\">tensor</span><span style=\"font-weight: bold\">([[[[</span> <span style=\"color: #008080; text-decoration-color: #008080; font-weight: bold\">0.7904</span>, <span style=\"color: #008080; text-decoration-color: #008080; font-weight: bold\">-0.9252</span>, <span style=\"color: #008080; text-decoration-color: #008080; font-weight: bold\">-2.3112</span>, <span style=\"color: #008080; text-decoration-color: #008080; font-weight: bold\">-1.1009</span><span style=\"font-weight: bold\">]</span>,\n",
       "          <span style=\"font-weight: bold\">[</span> <span style=\"color: #008080; text-decoration-color: #008080; font-weight: bold\">0.7641</span>, <span style=\"color: #008080; text-decoration-color: #008080; font-weight: bold\">-0.9668</span>, <span style=\"color: #008080; text-decoration-color: #008080; font-weight: bold\">-2.3473</span>, <span style=\"color: #008080; text-decoration-color: #008080; font-weight: bold\">-1.1087</span><span style=\"font-weight: bold\">]</span>,\n",
       "          <span style=\"font-weight: bold\">[</span><span style=\"color: #008080; text-decoration-color: #008080; font-weight: bold\">-1.3296</span>, <span style=\"color: #008080; text-decoration-color: #008080; font-weight: bold\">-0.5212</span>, <span style=\"color: #008080; text-decoration-color: #008080; font-weight: bold\">-1.1518</span>,  <span style=\"color: #008080; text-decoration-color: #008080; font-weight: bold\">0.2756</span><span style=\"font-weight: bold\">]]]]</span>, <span style=\"color: #808000; text-decoration-color: #808000\">grad_fn</span>=<span style=\"font-weight: bold\">&lt;</span><span style=\"color: #ff00ff; text-decoration-color: #ff00ff; font-weight: bold\">AddBackward0</span><span style=\"font-weight: bold\">&gt;)</span>\n",
       "</pre>\n"
      ],
      "text/plain": [
       "\u001b[1;35mtensor\u001b[0m\u001b[1m(\u001b[0m\u001b[1m[\u001b[0m\u001b[1m[\u001b[0m\u001b[1m[\u001b[0m\u001b[1m[\u001b[0m \u001b[1;36m0.7904\u001b[0m, \u001b[1;36m-0.9252\u001b[0m, \u001b[1;36m-2.3112\u001b[0m, \u001b[1;36m-1.1009\u001b[0m\u001b[1m]\u001b[0m,\n",
       "          \u001b[1m[\u001b[0m \u001b[1;36m0.7641\u001b[0m, \u001b[1;36m-0.9668\u001b[0m, \u001b[1;36m-2.3473\u001b[0m, \u001b[1;36m-1.1087\u001b[0m\u001b[1m]\u001b[0m,\n",
       "          \u001b[1m[\u001b[0m\u001b[1;36m-1.3296\u001b[0m, \u001b[1;36m-0.5212\u001b[0m, \u001b[1;36m-1.1518\u001b[0m,  \u001b[1;36m0.2756\u001b[0m\u001b[1m]\u001b[0m\u001b[1m]\u001b[0m\u001b[1m]\u001b[0m\u001b[1m]\u001b[0m, \u001b[33mgrad_fn\u001b[0m=\u001b[1m<\u001b[0m\u001b[1;95mAddBackward0\u001b[0m\u001b[1m>\u001b[0m\u001b[1m)\u001b[0m\n"
      ]
     },
     "metadata": {},
     "output_type": "display_data"
    },
    {
     "data": {
      "text/html": [
       "<pre style=\"white-space:pre;overflow-x:auto;line-height:normal;font-family:Menlo,'DejaVu Sans Mono',consolas,'Courier New',monospace\">-----------O1 = <span style=\"color: #800080; text-decoration-color: #800080; font-weight: bold\">attn</span><span style=\"font-weight: bold\">(</span> Q1, KV<span style=\"font-weight: bold\">[</span><span style=\"color: #008080; text-decoration-color: #008080; font-weight: bold\">0</span><span style=\"font-weight: bold\">])</span>---------\n",
       "</pre>\n"
      ],
      "text/plain": [
       "-----------O1 = \u001b[1;35mattn\u001b[0m\u001b[1m(\u001b[0m Q1, KV\u001b[1m[\u001b[0m\u001b[1;36m0\u001b[0m\u001b[1m]\u001b[0m\u001b[1m)\u001b[0m---------\n"
      ]
     },
     "metadata": {},
     "output_type": "display_data"
    },
    {
     "data": {
      "text/html": [
       "<pre style=\"white-space:pre;overflow-x:auto;line-height:normal;font-family:Menlo,'DejaVu Sans Mono',consolas,'Courier New',monospace\"><span style=\"color: #800080; text-decoration-color: #800080; font-weight: bold\">tensor</span><span style=\"font-weight: bold\">([[[[</span> <span style=\"color: #008080; text-decoration-color: #008080; font-weight: bold\">0.3425</span>,  <span style=\"color: #008080; text-decoration-color: #008080; font-weight: bold\">1.8362</span>, <span style=\"color: #008080; text-decoration-color: #008080; font-weight: bold\">-1.4927</span>, <span style=\"color: #008080; text-decoration-color: #008080; font-weight: bold\">-2.2582</span><span style=\"font-weight: bold\">]</span>,\n",
       "          <span style=\"font-weight: bold\">[</span> <span style=\"color: #008080; text-decoration-color: #008080; font-weight: bold\">1.3855</span>,  <span style=\"color: #008080; text-decoration-color: #008080; font-weight: bold\">1.3566</span>, <span style=\"color: #008080; text-decoration-color: #008080; font-weight: bold\">-1.3693</span>, <span style=\"color: #008080; text-decoration-color: #008080; font-weight: bold\">-0.5180</span><span style=\"font-weight: bold\">]</span>,\n",
       "          <span style=\"font-weight: bold\">[</span><span style=\"color: #008080; text-decoration-color: #008080; font-weight: bold\">-0.2295</span>, <span style=\"color: #008080; text-decoration-color: #008080; font-weight: bold\">-0.5334</span>,  <span style=\"color: #008080; text-decoration-color: #008080; font-weight: bold\">0.7115</span>, <span style=\"color: #008080; text-decoration-color: #008080; font-weight: bold\">-1.5742</span><span style=\"font-weight: bold\">]]]]</span>, <span style=\"color: #808000; text-decoration-color: #808000\">grad_fn</span>=<span style=\"font-weight: bold\">&lt;</span><span style=\"color: #ff00ff; text-decoration-color: #ff00ff; font-weight: bold\">AddBackward0</span><span style=\"font-weight: bold\">&gt;)</span>\n",
       "</pre>\n"
      ],
      "text/plain": [
       "\u001b[1;35mtensor\u001b[0m\u001b[1m(\u001b[0m\u001b[1m[\u001b[0m\u001b[1m[\u001b[0m\u001b[1m[\u001b[0m\u001b[1m[\u001b[0m \u001b[1;36m0.3425\u001b[0m,  \u001b[1;36m1.8362\u001b[0m, \u001b[1;36m-1.4927\u001b[0m, \u001b[1;36m-2.2582\u001b[0m\u001b[1m]\u001b[0m,\n",
       "          \u001b[1m[\u001b[0m \u001b[1;36m1.3855\u001b[0m,  \u001b[1;36m1.3566\u001b[0m, \u001b[1;36m-1.3693\u001b[0m, \u001b[1;36m-0.5180\u001b[0m\u001b[1m]\u001b[0m,\n",
       "          \u001b[1m[\u001b[0m\u001b[1;36m-0.2295\u001b[0m, \u001b[1;36m-0.5334\u001b[0m,  \u001b[1;36m0.7115\u001b[0m, \u001b[1;36m-1.5742\u001b[0m\u001b[1m]\u001b[0m\u001b[1m]\u001b[0m\u001b[1m]\u001b[0m\u001b[1m]\u001b[0m, \u001b[33mgrad_fn\u001b[0m=\u001b[1m<\u001b[0m\u001b[1;95mAddBackward0\u001b[0m\u001b[1m>\u001b[0m\u001b[1m)\u001b[0m\n"
      ]
     },
     "metadata": {},
     "output_type": "display_data"
    },
    {
     "data": {
      "text/html": [
       "<pre style=\"white-space:pre;overflow-x:auto;line-height:normal;font-family:Menlo,'DejaVu Sans Mono',consolas,'Courier New',monospace\">-----------O1 = <span style=\"color: #800080; text-decoration-color: #800080; font-weight: bold\">attn</span><span style=\"font-weight: bold\">(</span> Q1, KV<span style=\"font-weight: bold\">[</span><span style=\"color: #008080; text-decoration-color: #008080; font-weight: bold\">1</span><span style=\"font-weight: bold\">])</span>---------\n",
       "</pre>\n"
      ],
      "text/plain": [
       "-----------O1 = \u001b[1;35mattn\u001b[0m\u001b[1m(\u001b[0m Q1, KV\u001b[1m[\u001b[0m\u001b[1;36m1\u001b[0m\u001b[1m]\u001b[0m\u001b[1m)\u001b[0m---------\n"
      ]
     },
     "metadata": {},
     "output_type": "display_data"
    },
    {
     "data": {
      "text/html": [
       "<pre style=\"white-space:pre;overflow-x:auto;line-height:normal;font-family:Menlo,'DejaVu Sans Mono',consolas,'Courier New',monospace\"><span style=\"color: #800080; text-decoration-color: #800080; font-weight: bold\">tensor</span><span style=\"font-weight: bold\">([[[[</span><span style=\"color: #008080; text-decoration-color: #008080; font-weight: bold\">-0.8458</span>, <span style=\"color: #008080; text-decoration-color: #008080; font-weight: bold\">-1.3041</span>, <span style=\"color: #008080; text-decoration-color: #008080; font-weight: bold\">-1.1890</span>, <span style=\"color: #008080; text-decoration-color: #008080; font-weight: bold\">-0.2464</span><span style=\"font-weight: bold\">]</span>,\n",
       "          <span style=\"font-weight: bold\">[</span><span style=\"color: #008080; text-decoration-color: #008080; font-weight: bold\">-0.8405</span>, <span style=\"color: #008080; text-decoration-color: #008080; font-weight: bold\">-1.0774</span>, <span style=\"color: #008080; text-decoration-color: #008080; font-weight: bold\">-1.6372</span>, <span style=\"color: #008080; text-decoration-color: #008080; font-weight: bold\">-0.2429</span><span style=\"font-weight: bold\">]</span>,\n",
       "          <span style=\"font-weight: bold\">[</span> <span style=\"color: #008080; text-decoration-color: #008080; font-weight: bold\">1.0866</span>, <span style=\"color: #008080; text-decoration-color: #008080; font-weight: bold\">-0.8237</span>, <span style=\"color: #008080; text-decoration-color: #008080; font-weight: bold\">-2.0620</span>, <span style=\"color: #008080; text-decoration-color: #008080; font-weight: bold\">-1.1687</span><span style=\"font-weight: bold\">]]]]</span>, <span style=\"color: #808000; text-decoration-color: #808000\">grad_fn</span>=<span style=\"font-weight: bold\">&lt;</span><span style=\"color: #ff00ff; text-decoration-color: #ff00ff; font-weight: bold\">AddBackward0</span><span style=\"font-weight: bold\">&gt;)</span>\n",
       "</pre>\n"
      ],
      "text/plain": [
       "\u001b[1;35mtensor\u001b[0m\u001b[1m(\u001b[0m\u001b[1m[\u001b[0m\u001b[1m[\u001b[0m\u001b[1m[\u001b[0m\u001b[1m[\u001b[0m\u001b[1;36m-0.8458\u001b[0m, \u001b[1;36m-1.3041\u001b[0m, \u001b[1;36m-1.1890\u001b[0m, \u001b[1;36m-0.2464\u001b[0m\u001b[1m]\u001b[0m,\n",
       "          \u001b[1m[\u001b[0m\u001b[1;36m-0.8405\u001b[0m, \u001b[1;36m-1.0774\u001b[0m, \u001b[1;36m-1.6372\u001b[0m, \u001b[1;36m-0.2429\u001b[0m\u001b[1m]\u001b[0m,\n",
       "          \u001b[1m[\u001b[0m \u001b[1;36m1.0866\u001b[0m, \u001b[1;36m-0.8237\u001b[0m, \u001b[1;36m-2.0620\u001b[0m, \u001b[1;36m-1.1687\u001b[0m\u001b[1m]\u001b[0m\u001b[1m]\u001b[0m\u001b[1m]\u001b[0m\u001b[1m]\u001b[0m, \u001b[33mgrad_fn\u001b[0m=\u001b[1m<\u001b[0m\u001b[1;95mAddBackward0\u001b[0m\u001b[1m>\u001b[0m\u001b[1m)\u001b[0m\n"
      ]
     },
     "metadata": {},
     "output_type": "display_data"
    }
   ],
   "source": [
    "# start with Q\n",
    "for i in range(Tr):\n",
    "    Qi = Q_BLOCKS[i]\n",
    "    Oi = O_BLOCKS[i]\n",
    "    li = l_BLOCKS[i]\n",
    "    mi = m_BLOCKS[i]\n",
    "    \n",
    "    for j in range(Tc):\n",
    "        #if j>i: \n",
    "        #    continue    # ignore masked      \n",
    "        Kj = K_BLOCKS[j]\n",
    "        Vj = V_BLOCKS[j]\n",
    "\n",
    "        S_ij = Qi @ Kj.transpose(2,3)\n",
    "        m_block_ij, _ = torch.max(S_ij, dim=-1, keepdims=True)\n",
    "        mi_new = torch.maximum(m_block_ij, mi)\n",
    "        P_ij_hat = torch.exp(S_ij - mi_new)\n",
    "        l_block_ij = torch.sum(P_ij_hat, dim=-1, keepdims=True) + EPSILON\n",
    "        li_new = torch.exp(mi - mi_new) * li  + l_block_ij \n",
    "        O_i = torch.exp(mi - mi_new) * Oi + P_ij_hat @ Vj\n",
    "          \n",
    "        print(f'-----------O{i} = attn( Q{i}, KV[{j}])---------')\n",
    "        print(O_i)\n",
    "        \n",
    "    O_BLOCKS[i] = O_i / li_new # 最后做Scaled\n",
    "    l_BLOCKS[i] = li_new\n",
    "    m_BLOCKS[i] = mi_new\n",
    "    \n",
    "O = torch.cat(O_BLOCKS, dim=2)\n",
    "l = torch.cat(l_BLOCKS, dim=2)\n",
    "m = torch.cat(m_BLOCKS, dim=2)"
   ]
  },
  {
   "cell_type": "code",
   "execution_count": null,
   "id": "5916b025-22a1-4819-93c1-7296d824b393",
   "metadata": {},
   "outputs": [],
   "source": []
  }
 ],
 "metadata": {
  "kernelspec": {
   "display_name": "Python 3 (ipykernel)",
   "language": "python",
   "name": "python3"
  },
  "language_info": {
   "codemirror_mode": {
    "name": "ipython",
    "version": 3
   },
   "file_extension": ".py",
   "mimetype": "text/x-python",
   "name": "python",
   "nbconvert_exporter": "python",
   "pygments_lexer": "ipython3",
   "version": "3.9.18"
  }
 },
 "nbformat": 4,
 "nbformat_minor": 5
}
