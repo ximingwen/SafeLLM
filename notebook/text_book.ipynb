{
 "cells": [
  {
   "cell_type": "code",
   "execution_count": 1,
   "metadata": {},
   "outputs": [
    {
     "data": {
      "text/html": [
       "<pre style=\"white-space:pre;overflow-x:auto;line-height:normal;font-family:Menlo,'DejaVu Sans Mono',consolas,'Courier New',monospace\">药理学.txt <span style=\"color: #008080; text-decoration-color: #008080; font-weight: bold\">593239</span> <span style=\"color: #008080; text-decoration-color: #008080; font-weight: bold\">1159</span>\n",
       "</pre>\n"
      ],
      "text/plain": [
       "药理学.txt \u001b[1;36m593239\u001b[0m \u001b[1;36m1159\u001b[0m\n"
      ]
     },
     "metadata": {},
     "output_type": "display_data"
    },
    {
     "data": {
      "text/html": [
       "<pre style=\"white-space:pre;overflow-x:auto;line-height:normal;font-family:Menlo,'DejaVu Sans Mono',consolas,'Courier New',monospace\">法医学.txt <span style=\"color: #008080; text-decoration-color: #008080; font-weight: bold\">250537</span> <span style=\"color: #008080; text-decoration-color: #008080; font-weight: bold\">490</span>\n",
       "</pre>\n"
      ],
      "text/plain": [
       "法医学.txt \u001b[1;36m250537\u001b[0m \u001b[1;36m490\u001b[0m\n"
      ]
     },
     "metadata": {},
     "output_type": "display_data"
    },
    {
     "data": {
      "text/html": [
       "<pre style=\"white-space:pre;overflow-x:auto;line-height:normal;font-family:Menlo,'DejaVu Sans Mono',consolas,'Courier New',monospace\">医学伦理学.txt <span style=\"color: #008080; text-decoration-color: #008080; font-weight: bold\">272344</span> <span style=\"color: #008080; text-decoration-color: #008080; font-weight: bold\">532</span>\n",
       "</pre>\n"
      ],
      "text/plain": [
       "医学伦理学.txt \u001b[1;36m272344\u001b[0m \u001b[1;36m532\u001b[0m\n"
      ]
     },
     "metadata": {},
     "output_type": "display_data"
    },
    {
     "data": {
      "text/html": [
       "<pre style=\"white-space:pre;overflow-x:auto;line-height:normal;font-family:Menlo,'DejaVu Sans Mono',consolas,'Courier New',monospace\">医学免疫学.txt <span style=\"color: #008080; text-decoration-color: #008080; font-weight: bold\">230883</span> <span style=\"color: #008080; text-decoration-color: #008080; font-weight: bold\">451</span>\n",
       "</pre>\n"
      ],
      "text/plain": [
       "医学免疫学.txt \u001b[1;36m230883\u001b[0m \u001b[1;36m451\u001b[0m\n"
      ]
     },
     "metadata": {},
     "output_type": "display_data"
    },
    {
     "data": {
      "text/html": [
       "<pre style=\"white-space:pre;overflow-x:auto;line-height:normal;font-family:Menlo,'DejaVu Sans Mono',consolas,'Courier New',monospace\">人体寄生虫学.txt <span style=\"color: #008080; text-decoration-color: #008080; font-weight: bold\">326966</span> <span style=\"color: #008080; text-decoration-color: #008080; font-weight: bold\">639</span>\n",
       "</pre>\n"
      ],
      "text/plain": [
       "人体寄生虫学.txt \u001b[1;36m326966\u001b[0m \u001b[1;36m639\u001b[0m\n"
      ]
     },
     "metadata": {},
     "output_type": "display_data"
    },
    {
     "data": {
      "text/html": [
       "<pre style=\"white-space:pre;overflow-x:auto;line-height:normal;font-family:Menlo,'DejaVu Sans Mono',consolas,'Courier New',monospace\">妇产科学.txt <span style=\"color: #008080; text-decoration-color: #008080; font-weight: bold\">513027</span> <span style=\"color: #008080; text-decoration-color: #008080; font-weight: bold\">1003</span>\n",
       "</pre>\n"
      ],
      "text/plain": [
       "妇产科学.txt \u001b[1;36m513027\u001b[0m \u001b[1;36m1003\u001b[0m\n"
      ]
     },
     "metadata": {},
     "output_type": "display_data"
    },
    {
     "data": {
      "text/html": [
       "<pre style=\"white-space:pre;overflow-x:auto;line-height:normal;font-family:Menlo,'DejaVu Sans Mono',consolas,'Courier New',monospace\">传染病学.txt <span style=\"color: #008080; text-decoration-color: #008080; font-weight: bold\">515806</span> <span style=\"color: #008080; text-decoration-color: #008080; font-weight: bold\">1008</span>\n",
       "</pre>\n"
      ],
      "text/plain": [
       "传染病学.txt \u001b[1;36m515806\u001b[0m \u001b[1;36m1008\u001b[0m\n"
      ]
     },
     "metadata": {},
     "output_type": "display_data"
    },
    {
     "data": {
      "text/html": [
       "<pre style=\"white-space:pre;overflow-x:auto;line-height:normal;font-family:Menlo,'DejaVu Sans Mono',consolas,'Courier New',monospace\">神经病学.txt <span style=\"color: #008080; text-decoration-color: #008080; font-weight: bold\">520185</span> <span style=\"color: #008080; text-decoration-color: #008080; font-weight: bold\">1016</span>\n",
       "</pre>\n"
      ],
      "text/plain": [
       "神经病学.txt \u001b[1;36m520185\u001b[0m \u001b[1;36m1016\u001b[0m\n"
      ]
     },
     "metadata": {},
     "output_type": "display_data"
    },
    {
     "data": {
      "text/html": [
       "<pre style=\"white-space:pre;overflow-x:auto;line-height:normal;font-family:Menlo,'DejaVu Sans Mono',consolas,'Courier New',monospace\">生物化学与分子生物学.txt <span style=\"color: #008080; text-decoration-color: #008080; font-weight: bold\">577564</span> <span style=\"color: #008080; text-decoration-color: #008080; font-weight: bold\">1129</span>\n",
       "</pre>\n"
      ],
      "text/plain": [
       "生物化学与分子生物学.txt \u001b[1;36m577564\u001b[0m \u001b[1;36m1129\u001b[0m\n"
      ]
     },
     "metadata": {},
     "output_type": "display_data"
    },
    {
     "data": {
      "text/html": [
       "<pre style=\"white-space:pre;overflow-x:auto;line-height:normal;font-family:Menlo,'DejaVu Sans Mono',consolas,'Courier New',monospace\">内科学.txt <span style=\"color: #008080; text-decoration-color: #008080; font-weight: bold\">1039219</span> <span style=\"color: #008080; text-decoration-color: #008080; font-weight: bold\">2030</span>\n",
       "</pre>\n"
      ],
      "text/plain": [
       "内科学.txt \u001b[1;36m1039219\u001b[0m \u001b[1;36m2030\u001b[0m\n"
      ]
     },
     "metadata": {},
     "output_type": "display_data"
    },
    {
     "data": {
      "text/html": [
       "<pre style=\"white-space:pre;overflow-x:auto;line-height:normal;font-family:Menlo,'DejaVu Sans Mono',consolas,'Courier New',monospace\">医学影像学.txt <span style=\"color: #008080; text-decoration-color: #008080; font-weight: bold\">390749</span> <span style=\"color: #008080; text-decoration-color: #008080; font-weight: bold\">764</span>\n",
       "</pre>\n"
      ],
      "text/plain": [
       "医学影像学.txt \u001b[1;36m390749\u001b[0m \u001b[1;36m764\u001b[0m\n"
      ]
     },
     "metadata": {},
     "output_type": "display_data"
    },
    {
     "data": {
      "text/html": [
       "<pre style=\"white-space:pre;overflow-x:auto;line-height:normal;font-family:Menlo,'DejaVu Sans Mono',consolas,'Courier New',monospace\">生理学.txt <span style=\"color: #008080; text-decoration-color: #008080; font-weight: bold\">525188</span> <span style=\"color: #008080; text-decoration-color: #008080; font-weight: bold\">1026</span>\n",
       "</pre>\n"
      ],
      "text/plain": [
       "生理学.txt \u001b[1;36m525188\u001b[0m \u001b[1;36m1026\u001b[0m\n"
      ]
     },
     "metadata": {},
     "output_type": "display_data"
    },
    {
     "data": {
      "text/html": [
       "<pre style=\"white-space:pre;overflow-x:auto;line-height:normal;font-family:Menlo,'DejaVu Sans Mono',consolas,'Courier New',monospace\">临床药理学.txt <span style=\"color: #008080; text-decoration-color: #008080; font-weight: bold\">640520</span> <span style=\"color: #008080; text-decoration-color: #008080; font-weight: bold\">1252</span>\n",
       "</pre>\n"
      ],
      "text/plain": [
       "临床药理学.txt \u001b[1;36m640520\u001b[0m \u001b[1;36m1252\u001b[0m\n"
      ]
     },
     "metadata": {},
     "output_type": "display_data"
    },
    {
     "data": {
      "text/html": [
       "<pre style=\"white-space:pre;overflow-x:auto;line-height:normal;font-family:Menlo,'DejaVu Sans Mono',consolas,'Courier New',monospace\">医学遗传学.txt <span style=\"color: #008080; text-decoration-color: #008080; font-weight: bold\">288867</span> <span style=\"color: #008080; text-decoration-color: #008080; font-weight: bold\">565</span>\n",
       "</pre>\n"
      ],
      "text/plain": [
       "医学遗传学.txt \u001b[1;36m288867\u001b[0m \u001b[1;36m565\u001b[0m\n"
      ]
     },
     "metadata": {},
     "output_type": "display_data"
    },
    {
     "data": {
      "text/html": [
       "<pre style=\"white-space:pre;overflow-x:auto;line-height:normal;font-family:Menlo,'DejaVu Sans Mono',consolas,'Courier New',monospace\">医学生物学.txt <span style=\"color: #008080; text-decoration-color: #008080; font-weight: bold\">270389</span> <span style=\"color: #008080; text-decoration-color: #008080; font-weight: bold\">529</span>\n",
       "</pre>\n"
      ],
      "text/plain": [
       "医学生物学.txt \u001b[1;36m270389\u001b[0m \u001b[1;36m529\u001b[0m\n"
      ]
     },
     "metadata": {},
     "output_type": "display_data"
    },
    {
     "data": {
      "text/html": [
       "<pre style=\"white-space:pre;overflow-x:auto;line-height:normal;font-family:Menlo,'DejaVu Sans Mono',consolas,'Courier New',monospace\">病理学.txt <span style=\"color: #008080; text-decoration-color: #008080; font-weight: bold\">413557</span> <span style=\"color: #008080; text-decoration-color: #008080; font-weight: bold\">808</span>\n",
       "</pre>\n"
      ],
      "text/plain": [
       "病理学.txt \u001b[1;36m413557\u001b[0m \u001b[1;36m808\u001b[0m\n"
      ]
     },
     "metadata": {},
     "output_type": "display_data"
    },
    {
     "data": {
      "text/html": [
       "<pre style=\"white-space:pre;overflow-x:auto;line-height:normal;font-family:Menlo,'DejaVu Sans Mono',consolas,'Courier New',monospace\">医学微生物学.txt <span style=\"color: #008080; text-decoration-color: #008080; font-weight: bold\">407079</span> <span style=\"color: #008080; text-decoration-color: #008080; font-weight: bold\">796</span>\n",
       "</pre>\n"
      ],
      "text/plain": [
       "医学微生物学.txt \u001b[1;36m407079\u001b[0m \u001b[1;36m796\u001b[0m\n"
      ]
     },
     "metadata": {},
     "output_type": "display_data"
    },
    {
     "data": {
      "text/html": [
       "<pre style=\"white-space:pre;overflow-x:auto;line-height:normal;font-family:Menlo,'DejaVu Sans Mono',consolas,'Courier New',monospace\">医学心理学.txt <span style=\"color: #008080; text-decoration-color: #008080; font-weight: bold\">332589</span> <span style=\"color: #008080; text-decoration-color: #008080; font-weight: bold\">650</span>\n",
       "</pre>\n"
      ],
      "text/plain": [
       "医学心理学.txt \u001b[1;36m332589\u001b[0m \u001b[1;36m650\u001b[0m\n"
      ]
     },
     "metadata": {},
     "output_type": "display_data"
    },
    {
     "data": {
      "text/html": [
       "<pre style=\"white-space:pre;overflow-x:auto;line-height:normal;font-family:Menlo,'DejaVu Sans Mono',consolas,'Courier New',monospace\">外科学.txt <span style=\"color: #008080; text-decoration-color: #008080; font-weight: bold\">884036</span> <span style=\"color: #008080; text-decoration-color: #008080; font-weight: bold\">1727</span>\n",
       "</pre>\n"
      ],
      "text/plain": [
       "外科学.txt \u001b[1;36m884036\u001b[0m \u001b[1;36m1727\u001b[0m\n"
      ]
     },
     "metadata": {},
     "output_type": "display_data"
    },
    {
     "data": {
      "text/html": [
       "<pre style=\"white-space:pre;overflow-x:auto;line-height:normal;font-family:Menlo,'DejaVu Sans Mono',consolas,'Courier New',monospace\">卫生学.txt <span style=\"color: #008080; text-decoration-color: #008080; font-weight: bold\">510256</span> <span style=\"color: #008080; text-decoration-color: #008080; font-weight: bold\">997</span>\n",
       "</pre>\n"
      ],
      "text/plain": [
       "卫生学.txt \u001b[1;36m510256\u001b[0m \u001b[1;36m997\u001b[0m\n"
      ]
     },
     "metadata": {},
     "output_type": "display_data"
    },
    {
     "data": {
      "text/html": [
       "<pre style=\"white-space:pre;overflow-x:auto;line-height:normal;font-family:Menlo,'DejaVu Sans Mono',consolas,'Courier New',monospace\">系统解剖学.txt <span style=\"color: #008080; text-decoration-color: #008080; font-weight: bold\">301936</span> <span style=\"color: #008080; text-decoration-color: #008080; font-weight: bold\">590</span>\n",
       "</pre>\n"
      ],
      "text/plain": [
       "系统解剖学.txt \u001b[1;36m301936\u001b[0m \u001b[1;36m590\u001b[0m\n"
      ]
     },
     "metadata": {},
     "output_type": "display_data"
    },
    {
     "data": {
      "text/html": [
       "<pre style=\"white-space:pre;overflow-x:auto;line-height:normal;font-family:Menlo,'DejaVu Sans Mono',consolas,'Courier New',monospace\">精神病学.txt <span style=\"color: #008080; text-decoration-color: #008080; font-weight: bold\">429109</span> <span style=\"color: #008080; text-decoration-color: #008080; font-weight: bold\">839</span>\n",
       "</pre>\n"
      ],
      "text/plain": [
       "精神病学.txt \u001b[1;36m429109\u001b[0m \u001b[1;36m839\u001b[0m\n"
      ]
     },
     "metadata": {},
     "output_type": "display_data"
    },
    {
     "data": {
      "text/html": [
       "<pre style=\"white-space:pre;overflow-x:auto;line-height:normal;font-family:Menlo,'DejaVu Sans Mono',consolas,'Courier New',monospace\">卫生法.txt <span style=\"color: #008080; text-decoration-color: #008080; font-weight: bold\">448050</span> <span style=\"color: #008080; text-decoration-color: #008080; font-weight: bold\">876</span>\n",
       "</pre>\n"
      ],
      "text/plain": [
       "卫生法.txt \u001b[1;36m448050\u001b[0m \u001b[1;36m876\u001b[0m\n"
      ]
     },
     "metadata": {},
     "output_type": "display_data"
    },
    {
     "data": {
      "text/html": [
       "<pre style=\"white-space:pre;overflow-x:auto;line-height:normal;font-family:Menlo,'DejaVu Sans Mono',consolas,'Courier New',monospace\">诊断学.txt <span style=\"color: #008080; text-decoration-color: #008080; font-weight: bold\">566309</span> <span style=\"color: #008080; text-decoration-color: #008080; font-weight: bold\">1107</span>\n",
       "</pre>\n"
      ],
      "text/plain": [
       "诊断学.txt \u001b[1;36m566309\u001b[0m \u001b[1;36m1107\u001b[0m\n"
      ]
     },
     "metadata": {},
     "output_type": "display_data"
    },
    {
     "data": {
      "text/html": [
       "<pre style=\"white-space:pre;overflow-x:auto;line-height:normal;font-family:Menlo,'DejaVu Sans Mono',consolas,'Courier New',monospace\">耳鼻咽喉头颈外科学.txt <span style=\"color: #008080; text-decoration-color: #008080; font-weight: bold\">446544</span> <span style=\"color: #008080; text-decoration-color: #008080; font-weight: bold\">873</span>\n",
       "</pre>\n"
      ],
      "text/plain": [
       "耳鼻咽喉头颈外科学.txt \u001b[1;36m446544\u001b[0m \u001b[1;36m873\u001b[0m\n"
      ]
     },
     "metadata": {},
     "output_type": "display_data"
    },
    {
     "data": {
      "text/html": [
       "<pre style=\"white-space:pre;overflow-x:auto;line-height:normal;font-family:Menlo,'DejaVu Sans Mono',consolas,'Courier New',monospace\">医患沟通.txt <span style=\"color: #008080; text-decoration-color: #008080; font-weight: bold\">311036</span> <span style=\"color: #008080; text-decoration-color: #008080; font-weight: bold\">608</span>\n",
       "</pre>\n"
      ],
      "text/plain": [
       "医患沟通.txt \u001b[1;36m311036\u001b[0m \u001b[1;36m608\u001b[0m\n"
      ]
     },
     "metadata": {},
     "output_type": "display_data"
    },
    {
     "data": {
      "text/html": [
       "<pre style=\"white-space:pre;overflow-x:auto;line-height:normal;font-family:Menlo,'DejaVu Sans Mono',consolas,'Courier New',monospace\">医学导论.txt <span style=\"color: #008080; text-decoration-color: #008080; font-weight: bold\">280481</span> <span style=\"color: #008080; text-decoration-color: #008080; font-weight: bold\">548</span>\n",
       "</pre>\n"
      ],
      "text/plain": [
       "医学导论.txt \u001b[1;36m280481\u001b[0m \u001b[1;36m548\u001b[0m\n"
      ]
     },
     "metadata": {},
     "output_type": "display_data"
    },
    {
     "data": {
      "text/html": [
       "<pre style=\"white-space:pre;overflow-x:auto;line-height:normal;font-family:Menlo,'DejaVu Sans Mono',consolas,'Courier New',monospace\">预防医学.txt <span style=\"color: #008080; text-decoration-color: #008080; font-weight: bold\">571471</span> <span style=\"color: #008080; text-decoration-color: #008080; font-weight: bold\">1117</span>\n",
       "</pre>\n"
      ],
      "text/plain": [
       "预防医学.txt \u001b[1;36m571471\u001b[0m \u001b[1;36m1117\u001b[0m\n"
      ]
     },
     "metadata": {},
     "output_type": "display_data"
    },
    {
     "data": {
      "text/html": [
       "<pre style=\"white-space:pre;overflow-x:auto;line-height:normal;font-family:Menlo,'DejaVu Sans Mono',consolas,'Courier New',monospace\">组织学与胚胎学.txt <span style=\"color: #008080; text-decoration-color: #008080; font-weight: bold\">239754</span> <span style=\"color: #008080; text-decoration-color: #008080; font-weight: bold\">469</span>\n",
       "</pre>\n"
      ],
      "text/plain": [
       "组织学与胚胎学.txt \u001b[1;36m239754\u001b[0m \u001b[1;36m469\u001b[0m\n"
      ]
     },
     "metadata": {},
     "output_type": "display_data"
    },
    {
     "data": {
      "text/html": [
       "<pre style=\"white-space:pre;overflow-x:auto;line-height:normal;font-family:Menlo,'DejaVu Sans Mono',consolas,'Courier New',monospace\">病理生理学.txt <span style=\"color: #008080; text-decoration-color: #008080; font-weight: bold\">327145</span> <span style=\"color: #008080; text-decoration-color: #008080; font-weight: bold\">639</span>\n",
       "</pre>\n"
      ],
      "text/plain": [
       "病理生理学.txt \u001b[1;36m327145\u001b[0m \u001b[1;36m639\u001b[0m\n"
      ]
     },
     "metadata": {},
     "output_type": "display_data"
    },
    {
     "data": {
      "text/html": [
       "<pre style=\"white-space:pre;overflow-x:auto;line-height:normal;font-family:Menlo,'DejaVu Sans Mono',consolas,'Courier New',monospace\">医学细胞生物学.txt <span style=\"color: #008080; text-decoration-color: #008080; font-weight: bold\">497876</span> <span style=\"color: #008080; text-decoration-color: #008080; font-weight: bold\">973</span>\n",
       "</pre>\n"
      ],
      "text/plain": [
       "医学细胞生物学.txt \u001b[1;36m497876\u001b[0m \u001b[1;36m973\u001b[0m\n"
      ]
     },
     "metadata": {},
     "output_type": "display_data"
    },
    {
     "data": {
      "text/html": [
       "<pre style=\"white-space:pre;overflow-x:auto;line-height:normal;font-family:Menlo,'DejaVu Sans Mono',consolas,'Courier New',monospace\">局部解剖学.txt <span style=\"color: #008080; text-decoration-color: #008080; font-weight: bold\">248736</span> <span style=\"color: #008080; text-decoration-color: #008080; font-weight: bold\">486</span>\n",
       "</pre>\n"
      ],
      "text/plain": [
       "局部解剖学.txt \u001b[1;36m248736\u001b[0m \u001b[1;36m486\u001b[0m\n"
      ]
     },
     "metadata": {},
     "output_type": "display_data"
    },
    {
     "data": {
      "text/html": [
       "<pre style=\"white-space:pre;overflow-x:auto;line-height:normal;font-family:Menlo,'DejaVu Sans Mono',consolas,'Courier New',monospace\">儿科学.txt <span style=\"color: #008080; text-decoration-color: #008080; font-weight: bold\">560920</span> <span style=\"color: #008080; text-decoration-color: #008080; font-weight: bold\">1096</span>\n",
       "</pre>\n"
      ],
      "text/plain": [
       "儿科学.txt \u001b[1;36m560920\u001b[0m \u001b[1;36m1096\u001b[0m\n"
      ]
     },
     "metadata": {},
     "output_type": "display_data"
    },
    {
     "data": {
      "text/html": [
       "<pre style=\"white-space:pre;overflow-x:auto;line-height:normal;font-family:Menlo,'DejaVu Sans Mono',consolas,'Courier New',monospace\"><span style=\"color: #008080; text-decoration-color: #008080; font-weight: bold\">28792</span>\n",
       "</pre>\n"
      ],
      "text/plain": [
       "\u001b[1;36m28792\u001b[0m\n"
      ]
     },
     "metadata": {},
     "output_type": "display_data"
    }
   ],
   "source": [
    "from datasets import Dataset\n",
    "import os\n",
    "\n",
    "# 定义文本文件所在的文件夹路径\n",
    "folder_path = \"./../med_qa_textbook\"\n",
    "texts = []\n",
    "\n",
    "\n",
    "def split_string(text, chunk_size):\n",
    "    chunks = [text[i : i + chunk_size] for i in range(0, len(text), chunk_size)]\n",
    "    return chunks\n",
    "\n",
    "\n",
    "chunk_size = 512\n",
    "\n",
    "for file_name in os.listdir(folder_path):\n",
    "    if file_name.endswith(\".txt\"):\n",
    "        file_path = os.path.join(folder_path, file_name)\n",
    "        with open(file_path, \"r\", encoding=\"utf-8\") as file:\n",
    "            text = file.read()\n",
    "            text_chunk = split_string(text, chunk_size)\n",
    "            print(file_name, len(text), len(text_chunk))\n",
    "            texts.extend(text_chunk)\n",
    "\n",
    "print(len(texts))"
   ]
  },
  {
   "cell_type": "code",
   "execution_count": null,
   "metadata": {},
   "outputs": [],
   "source": []
  },
  {
   "cell_type": "code",
   "execution_count": null,
   "metadata": {},
   "outputs": [
    {
     "ename": "",
     "evalue": "",
     "output_type": "error",
     "traceback": [
      "\u001b[1;31mThe Kernel crashed while executing code in the the current cell or a previous cell. Please review the code in the cell(s) to identify a possible cause of the failure. Click <a href='https://aka.ms/vscodeJupyterKernelCrash'>here</a> for more info. View Jupyter <a href='command:jupyter.viewOutput'>log</a> for further details."
     ]
    }
   ],
   "source": [
    "from datasets import Dataset\n",
    "dataset = Dataset.from_dict({\"text\": texts})"
   ]
  },
  {
   "cell_type": "code",
   "execution_count": null,
   "metadata": {},
   "outputs": [],
   "source": [
    "dataset.save_to_disk('./second_pretrained_datasets')"
   ]
  }
 ],
 "metadata": {
  "kernelspec": {
   "display_name": "safe-rlhf",
   "language": "python",
   "name": "python3"
  },
  "language_info": {
   "codemirror_mode": {
    "name": "ipython",
    "version": 3
   },
   "file_extension": ".py",
   "mimetype": "text/x-python",
   "name": "python",
   "nbconvert_exporter": "python",
   "pygments_lexer": "ipython3",
   "version": "3.11.7"
  }
 },
 "nbformat": 4,
 "nbformat_minor": 2
}
