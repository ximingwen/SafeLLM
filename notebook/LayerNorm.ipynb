{
 "cells": [
  {
   "cell_type": "markdown",
   "id": "2183f848-d938-4d47-a72a-9795314c897a",
   "metadata": {},
   "source": [
    "# LayerNorm"
   ]
  },
  {
   "cell_type": "markdown",
   "id": "cb6ac2ed-ece9-4b34-98a6-e22e4b7f7455",
   "metadata": {},
   "source": [
    "![ln](./image/layernorm.png)"
   ]
  },
  {
   "cell_type": "code",
   "execution_count": 4,
   "id": "b7203039-c544-4d8b-8857-42486b8acf12",
   "metadata": {},
   "outputs": [
    {
     "data": {
      "text/plain": [
       "<torch._C.Generator at 0x114475030>"
      ]
     },
     "execution_count": 4,
     "metadata": {},
     "output_type": "execute_result"
    }
   ],
   "source": [
    "import torch\n",
    "import torch.nn as nn\n",
    "# import torch.nn as F\n",
    "from torch.optim import Adam\n",
    "torch.manual_seed(42)"
   ]
  },
  {
   "cell_type": "markdown",
   "id": "e738b6af-97e5-4df1-9359-d4467966439b",
   "metadata": {},
   "source": [
    "# 训练数据和标签"
   ]
  },
  {
   "cell_type": "code",
   "execution_count": 5,
   "id": "851c04dc-ef6c-42da-b5ad-f97fa084c213",
   "metadata": {},
   "outputs": [
    {
     "data": {
      "text/html": [
       "<pre style=\"white-space:pre;overflow-x:auto;line-height:normal;font-family:Menlo,'DejaVu Sans Mono',consolas,'Courier New',monospace\"><span style=\"color: #800080; text-decoration-color: #800080; font-weight: bold\">tensor</span><span style=\"font-weight: bold\">([[[</span><span style=\"color: #008080; text-decoration-color: #008080; font-weight: bold\">1.9269</span>, <span style=\"color: #008080; text-decoration-color: #008080; font-weight: bold\">1.4873</span>, <span style=\"color: #008080; text-decoration-color: #008080; font-weight: bold\">0.9007</span>, <span style=\"color: #008080; text-decoration-color: #008080; font-weight: bold\">2.1055</span>, <span style=\"color: #008080; text-decoration-color: #008080; font-weight: bold\">0.6784</span>, <span style=\"color: #008080; text-decoration-color: #008080; font-weight: bold\">1.2345</span><span style=\"font-weight: bold\">]</span>,\n",
       "         <span style=\"font-weight: bold\">[</span><span style=\"color: #008080; text-decoration-color: #008080; font-weight: bold\">0.0431</span>, <span style=\"color: #008080; text-decoration-color: #008080; font-weight: bold\">1.6047</span>, <span style=\"color: #008080; text-decoration-color: #008080; font-weight: bold\">0.7521</span>, <span style=\"color: #008080; text-decoration-color: #008080; font-weight: bold\">1.6487</span>, <span style=\"color: #008080; text-decoration-color: #008080; font-weight: bold\">0.3925</span>, <span style=\"color: #008080; text-decoration-color: #008080; font-weight: bold\">1.4036</span><span style=\"font-weight: bold\">]</span>,\n",
       "         <span style=\"font-weight: bold\">[</span><span style=\"color: #008080; text-decoration-color: #008080; font-weight: bold\">0.7279</span>, <span style=\"color: #008080; text-decoration-color: #008080; font-weight: bold\">0.5594</span>, <span style=\"color: #008080; text-decoration-color: #008080; font-weight: bold\">0.7688</span>, <span style=\"color: #008080; text-decoration-color: #008080; font-weight: bold\">0.7624</span>, <span style=\"color: #008080; text-decoration-color: #008080; font-weight: bold\">1.6423</span>, <span style=\"color: #008080; text-decoration-color: #008080; font-weight: bold\">0.1596</span><span style=\"font-weight: bold\">]]</span>,\n",
       "\n",
       "        <span style=\"font-weight: bold\">[[</span><span style=\"color: #008080; text-decoration-color: #008080; font-weight: bold\">0.4974</span>, <span style=\"color: #008080; text-decoration-color: #008080; font-weight: bold\">0.4396</span>, <span style=\"color: #008080; text-decoration-color: #008080; font-weight: bold\">0.3189</span>, <span style=\"color: #008080; text-decoration-color: #008080; font-weight: bold\">0.4245</span>, <span style=\"color: #008080; text-decoration-color: #008080; font-weight: bold\">0.3057</span>, <span style=\"color: #008080; text-decoration-color: #008080; font-weight: bold\">0.7746</span><span style=\"font-weight: bold\">]</span>,\n",
       "         <span style=\"font-weight: bold\">[</span><span style=\"color: #008080; text-decoration-color: #008080; font-weight: bold\">0.0349</span>, <span style=\"color: #008080; text-decoration-color: #008080; font-weight: bold\">0.3211</span>, <span style=\"color: #008080; text-decoration-color: #008080; font-weight: bold\">1.5736</span>, <span style=\"color: #008080; text-decoration-color: #008080; font-weight: bold\">0.8455</span>, <span style=\"color: #008080; text-decoration-color: #008080; font-weight: bold\">1.2742</span>, <span style=\"color: #008080; text-decoration-color: #008080; font-weight: bold\">2.1228</span><span style=\"font-weight: bold\">]</span>,\n",
       "         <span style=\"font-weight: bold\">[</span><span style=\"color: #008080; text-decoration-color: #008080; font-weight: bold\">1.2347</span>, <span style=\"color: #008080; text-decoration-color: #008080; font-weight: bold\">0.4879</span>, <span style=\"color: #008080; text-decoration-color: #008080; font-weight: bold\">1.4181</span>, <span style=\"color: #008080; text-decoration-color: #008080; font-weight: bold\">0.8963</span>, <span style=\"color: #008080; text-decoration-color: #008080; font-weight: bold\">0.0499</span>, <span style=\"color: #008080; text-decoration-color: #008080; font-weight: bold\">2.2667</span><span style=\"font-weight: bold\">]]])</span>\n",
       "</pre>\n"
      ],
      "text/plain": [
       "\u001b[1;35mtensor\u001b[0m\u001b[1m(\u001b[0m\u001b[1m[\u001b[0m\u001b[1m[\u001b[0m\u001b[1m[\u001b[0m\u001b[1;36m1.9269\u001b[0m, \u001b[1;36m1.4873\u001b[0m, \u001b[1;36m0.9007\u001b[0m, \u001b[1;36m2.1055\u001b[0m, \u001b[1;36m0.6784\u001b[0m, \u001b[1;36m1.2345\u001b[0m\u001b[1m]\u001b[0m,\n",
       "         \u001b[1m[\u001b[0m\u001b[1;36m0.0431\u001b[0m, \u001b[1;36m1.6047\u001b[0m, \u001b[1;36m0.7521\u001b[0m, \u001b[1;36m1.6487\u001b[0m, \u001b[1;36m0.3925\u001b[0m, \u001b[1;36m1.4036\u001b[0m\u001b[1m]\u001b[0m,\n",
       "         \u001b[1m[\u001b[0m\u001b[1;36m0.7279\u001b[0m, \u001b[1;36m0.5594\u001b[0m, \u001b[1;36m0.7688\u001b[0m, \u001b[1;36m0.7624\u001b[0m, \u001b[1;36m1.6423\u001b[0m, \u001b[1;36m0.1596\u001b[0m\u001b[1m]\u001b[0m\u001b[1m]\u001b[0m,\n",
       "\n",
       "        \u001b[1m[\u001b[0m\u001b[1m[\u001b[0m\u001b[1;36m0.4974\u001b[0m, \u001b[1;36m0.4396\u001b[0m, \u001b[1;36m0.3189\u001b[0m, \u001b[1;36m0.4245\u001b[0m, \u001b[1;36m0.3057\u001b[0m, \u001b[1;36m0.7746\u001b[0m\u001b[1m]\u001b[0m,\n",
       "         \u001b[1m[\u001b[0m\u001b[1;36m0.0349\u001b[0m, \u001b[1;36m0.3211\u001b[0m, \u001b[1;36m1.5736\u001b[0m, \u001b[1;36m0.8455\u001b[0m, \u001b[1;36m1.2742\u001b[0m, \u001b[1;36m2.1228\u001b[0m\u001b[1m]\u001b[0m,\n",
       "         \u001b[1m[\u001b[0m\u001b[1;36m1.2347\u001b[0m, \u001b[1;36m0.4879\u001b[0m, \u001b[1;36m1.4181\u001b[0m, \u001b[1;36m0.8963\u001b[0m, \u001b[1;36m0.0499\u001b[0m, \u001b[1;36m2.2667\u001b[0m\u001b[1m]\u001b[0m\u001b[1m]\u001b[0m\u001b[1m]\u001b[0m\u001b[1m)\u001b[0m\n"
      ]
     },
     "metadata": {},
     "output_type": "display_data"
    },
    {
     "data": {
      "text/html": [
       "<pre style=\"white-space:pre;overflow-x:auto;line-height:normal;font-family:Menlo,'DejaVu Sans Mono',consolas,'Courier New',monospace\"><span style=\"color: #800080; text-decoration-color: #800080; font-weight: bold\">torch.Size</span><span style=\"font-weight: bold\">([</span><span style=\"color: #008080; text-decoration-color: #008080; font-weight: bold\">2</span>, <span style=\"color: #008080; text-decoration-color: #008080; font-weight: bold\">3</span>, <span style=\"color: #008080; text-decoration-color: #008080; font-weight: bold\">6</span><span style=\"font-weight: bold\">])</span>\n",
       "</pre>\n"
      ],
      "text/plain": [
       "\u001b[1;35mtorch.Size\u001b[0m\u001b[1m(\u001b[0m\u001b[1m[\u001b[0m\u001b[1;36m2\u001b[0m, \u001b[1;36m3\u001b[0m, \u001b[1;36m6\u001b[0m\u001b[1m]\u001b[0m\u001b[1m)\u001b[0m\n"
      ]
     },
     "metadata": {},
     "output_type": "display_data"
    },
    {
     "data": {
      "text/plain": [
       "tensor([0, 1, 0, 1, 1, 0])"
      ]
     },
     "execution_count": 5,
     "metadata": {},
     "output_type": "execute_result"
    }
   ],
   "source": [
    "data = torch.randn(2,3,6) \n",
    "data = torch.abs(data) # 将所有数据都放置到第一象限\n",
    "label = torch.tensor([[0,1,0], [1,1,0]], dtype=torch.long)\n",
    "print(data)\n",
    "print(data.shape)\n",
    "label.view(-1)"
   ]
  },
  {
   "cell_type": "code",
   "execution_count": 18,
   "id": "6b5fa462-863c-4f0f-b162-dfbbebb8849e",
   "metadata": {},
   "outputs": [
    {
     "data": {
      "image/png": "[encoded data removed]",
      "text/plain": [
       "<Figure size 640x480 with 1 Axes>"
      ]
     },
     "metadata": {},
     "output_type": "display_data"
    }
   ],
   "source": [
    "import matplotlib.pyplot as plt\n",
    "\n",
    "# 仅取前两维度\n",
    "plt.scatter(data.view(-1,d)[:,0].tolist(), \n",
    "            data.view(-1,d)[:,1].tolist(), \n",
    "            label='source data', \n",
    "            marker='x' ) # 原始数据\n",
    "plt.xlim([-2, 2])\n",
    "plt.ylim([-2, 2])\n",
    "plt.grid(True, which='both')\n",
    "plt.axhline(y=0, color='k', linestyle='-')\n",
    "plt.axvline(x=0, color='k', linestyle='-')\n",
    "\n",
    "plt.legend()\n",
    "plt.title('source data d1, d2 distribution')\n",
    "plt.xlabel('d1')\n",
    "plt.ylabel('d2')\n",
    "plt.show()"
   ]
  },
  {
   "cell_type": "markdown",
   "id": "30af1216-fe43-45a5-9b7f-ddc32696437c",
   "metadata": {},
   "source": [
    "# LayerNorm pytorch实现"
   ]
  },
  {
   "cell_type": "code",
   "execution_count": 19,
   "id": "74224f4b-7373-4e39-8eb1-f7f2f59825d2",
   "metadata": {},
   "outputs": [],
   "source": [
    "class LayerNorm(nn.Module):\n",
    "    def __init__(self, d_model, eps=1e-12):\n",
    "        super(LayerNorm, self).__init__()\n",
    "        self.gamma = nn.Parameter(torch.ones(d_model))\n",
    "        self.beta = nn.Parameter(torch.zeros(d_model))\n",
    "        self.eps = eps\n",
    "        self.w = nn.Linear(d_model,2) # 2分类任务\n",
    "\n",
    "    def forward(self, x):\n",
    "        # layernorm作用在(-1) 最后一维进行归一化\n",
    "        mean = x.mean(-1, keepdim=True)\n",
    "        var = x.var(-1, unbiased=False, keepdim=True)\n",
    "        out_mean_var = (x - mean) / torch.sqrt(var + self.eps)\n",
    "        out = self.gamma * out_mean_var + self.beta # feature level\n",
    "        head = self.w(out)\n",
    "        return mean, var, out_mean_var, out, head"
   ]
  },
  {
   "cell_type": "markdown",
   "id": "9b5ca416-db70-4b2d-bca4-884af43f74e6",
   "metadata": {},
   "source": [
    "# LayerNorm debug"
   ]
  },
  {
   "cell_type": "code",
   "execution_count": 8,
   "id": "bfb170e3-af9e-42a6-9a7d-0dda25318eae",
   "metadata": {},
   "outputs": [
    {
     "data": {
      "text/html": [
       "<pre style=\"white-space:pre;overflow-x:auto;line-height:normal;font-family:Menlo,'DejaVu Sans Mono',consolas,'Courier New',monospace\">token level mean <span style=\"color: #800080; text-decoration-color: #800080\">/</span> var\n",
       "</pre>\n"
      ],
      "text/plain": [
       "token level mean \u001b[35m/\u001b[0m var\n"
      ]
     },
     "metadata": {},
     "output_type": "display_data"
    },
    {
     "data": {
      "text/html": [
       "<pre style=\"white-space:pre;overflow-x:auto;line-height:normal;font-family:Menlo,'DejaVu Sans Mono',consolas,'Courier New',monospace\"><span style=\"color: #800080; text-decoration-color: #800080; font-weight: bold\">tensor</span><span style=\"font-weight: bold\">([[</span><span style=\"color: #008080; text-decoration-color: #008080; font-weight: bold\">2</span>.<span style=\"font-weight: bold\">]</span>,\n",
       "        <span style=\"font-weight: bold\">[</span><span style=\"color: #008080; text-decoration-color: #008080; font-weight: bold\">5</span>.<span style=\"font-weight: bold\">]])</span>\n",
       "</pre>\n"
      ],
      "text/plain": [
       "\u001b[1;35mtensor\u001b[0m\u001b[1m(\u001b[0m\u001b[1m[\u001b[0m\u001b[1m[\u001b[0m\u001b[1;36m2\u001b[0m.\u001b[1m]\u001b[0m,\n",
       "        \u001b[1m[\u001b[0m\u001b[1;36m5\u001b[0m.\u001b[1m]\u001b[0m\u001b[1m]\u001b[0m\u001b[1m)\u001b[0m\n"
      ]
     },
     "metadata": {},
     "output_type": "display_data"
    },
    {
     "data": {
      "text/html": [
       "<pre style=\"white-space:pre;overflow-x:auto;line-height:normal;font-family:Menlo,'DejaVu Sans Mono',consolas,'Courier New',monospace\"><span style=\"color: #800080; text-decoration-color: #800080; font-weight: bold\">tensor</span><span style=\"font-weight: bold\">([[</span><span style=\"color: #008080; text-decoration-color: #008080; font-weight: bold\">0.6667</span><span style=\"font-weight: bold\">]</span>,\n",
       "        <span style=\"font-weight: bold\">[</span><span style=\"color: #008080; text-decoration-color: #008080; font-weight: bold\">0.6667</span><span style=\"font-weight: bold\">]])</span>\n",
       "</pre>\n"
      ],
      "text/plain": [
       "\u001b[1;35mtensor\u001b[0m\u001b[1m(\u001b[0m\u001b[1m[\u001b[0m\u001b[1m[\u001b[0m\u001b[1;36m0.6667\u001b[0m\u001b[1m]\u001b[0m,\n",
       "        \u001b[1m[\u001b[0m\u001b[1;36m0.6667\u001b[0m\u001b[1m]\u001b[0m\u001b[1m]\u001b[0m\u001b[1m)\u001b[0m\n"
      ]
     },
     "metadata": {},
     "output_type": "display_data"
    },
    {
     "data": {
      "text/html": [
       "<pre style=\"white-space:pre;overflow-x:auto;line-height:normal;font-family:Menlo,'DejaVu Sans Mono',consolas,'Courier New',monospace\">feature level Scaled &amp; shift\n",
       "</pre>\n"
      ],
      "text/plain": [
       "feature level Scaled & shift\n"
      ]
     },
     "metadata": {},
     "output_type": "display_data"
    },
    {
     "data": {
      "text/html": [
       "<pre style=\"white-space:pre;overflow-x:auto;line-height:normal;font-family:Menlo,'DejaVu Sans Mono',consolas,'Courier New',monospace\"><span style=\"color: #800080; text-decoration-color: #800080; font-weight: bold\">tensor</span><span style=\"font-weight: bold\">([</span><span style=\"color: #008080; text-decoration-color: #008080; font-weight: bold\">1</span>, <span style=\"color: #008080; text-decoration-color: #008080; font-weight: bold\">2</span>, <span style=\"color: #008080; text-decoration-color: #008080; font-weight: bold\">3</span><span style=\"font-weight: bold\">])</span>\n",
       "</pre>\n"
      ],
      "text/plain": [
       "\u001b[1;35mtensor\u001b[0m\u001b[1m(\u001b[0m\u001b[1m[\u001b[0m\u001b[1;36m1\u001b[0m, \u001b[1;36m2\u001b[0m, \u001b[1;36m3\u001b[0m\u001b[1m]\u001b[0m\u001b[1m)\u001b[0m\n"
      ]
     },
     "metadata": {},
     "output_type": "display_data"
    },
    {
     "data": {
      "text/plain": [
       "tensor([[  11.,  104., 1009.],\n",
       "        [  14.,  110., 1018.]])"
      ]
     },
     "execution_count": 8,
     "metadata": {},
     "output_type": "execute_result"
    }
   ],
   "source": [
    "dummy_data = torch.tensor([[1,2,3],[4,5,6]], dtype=torch.float32)\n",
    "print('token level mean / var')\n",
    "print(dummy_data.mean(-1, keepdim=True))\n",
    "print(dummy_data.var(-1, unbiased=False, keepdim=True))\n",
    "\n",
    "print('feature level Scaled & shift')\n",
    "gamma = torch.tensor([1,2,3])\n",
    "beta = torch.tensor([10,100,1000])\n",
    "print(gamma)\n",
    "gamma * dummy_data + beta"
   ]
  },
  {
   "cell_type": "code",
   "execution_count": 9,
   "id": "7689313e-fa13-4452-a0ca-153d2adaf75d",
   "metadata": {},
   "outputs": [],
   "source": [
    "b, n, d = data.shape"
   ]
  },
  {
   "cell_type": "code",
   "execution_count": 10,
   "id": "90e0db3d-90b5-4a48-9453-a28b8fb92de7",
   "metadata": {},
   "outputs": [
    {
     "data": {
      "text/html": [
       "<pre style=\"white-space:pre;overflow-x:auto;line-height:normal;font-family:Menlo,'DejaVu Sans Mono',consolas,'Courier New',monospace\">Parameter containing:\n",
       "<span style=\"color: #800080; text-decoration-color: #800080; font-weight: bold\">tensor</span><span style=\"font-weight: bold\">([</span><span style=\"color: #008080; text-decoration-color: #008080; font-weight: bold\">1</span>., <span style=\"color: #008080; text-decoration-color: #008080; font-weight: bold\">1</span>., <span style=\"color: #008080; text-decoration-color: #008080; font-weight: bold\">1</span>., <span style=\"color: #008080; text-decoration-color: #008080; font-weight: bold\">1</span>., <span style=\"color: #008080; text-decoration-color: #008080; font-weight: bold\">1</span>., <span style=\"color: #008080; text-decoration-color: #008080; font-weight: bold\">1</span>.<span style=\"font-weight: bold\">]</span>, <span style=\"color: #808000; text-decoration-color: #808000\">requires_grad</span>=<span style=\"color: #00ff00; text-decoration-color: #00ff00; font-style: italic\">True</span><span style=\"font-weight: bold\">)</span>\n",
       "</pre>\n"
      ],
      "text/plain": [
       "Parameter containing:\n",
       "\u001b[1;35mtensor\u001b[0m\u001b[1m(\u001b[0m\u001b[1m[\u001b[0m\u001b[1;36m1\u001b[0m., \u001b[1;36m1\u001b[0m., \u001b[1;36m1\u001b[0m., \u001b[1;36m1\u001b[0m., \u001b[1;36m1\u001b[0m., \u001b[1;36m1\u001b[0m.\u001b[1m]\u001b[0m, \u001b[33mrequires_grad\u001b[0m=\u001b[3;92mTrue\u001b[0m\u001b[1m)\u001b[0m\n"
      ]
     },
     "metadata": {},
     "output_type": "display_data"
    },
    {
     "data": {
      "text/html": [
       "<pre style=\"white-space:pre;overflow-x:auto;line-height:normal;font-family:Menlo,'DejaVu Sans Mono',consolas,'Courier New',monospace\">Parameter containing:\n",
       "<span style=\"color: #800080; text-decoration-color: #800080; font-weight: bold\">tensor</span><span style=\"font-weight: bold\">([</span><span style=\"color: #008080; text-decoration-color: #008080; font-weight: bold\">0</span>., <span style=\"color: #008080; text-decoration-color: #008080; font-weight: bold\">0</span>., <span style=\"color: #008080; text-decoration-color: #008080; font-weight: bold\">0</span>., <span style=\"color: #008080; text-decoration-color: #008080; font-weight: bold\">0</span>., <span style=\"color: #008080; text-decoration-color: #008080; font-weight: bold\">0</span>., <span style=\"color: #008080; text-decoration-color: #008080; font-weight: bold\">0</span>.<span style=\"font-weight: bold\">]</span>, <span style=\"color: #808000; text-decoration-color: #808000\">requires_grad</span>=<span style=\"color: #00ff00; text-decoration-color: #00ff00; font-style: italic\">True</span><span style=\"font-weight: bold\">)</span>\n",
       "</pre>\n"
      ],
      "text/plain": [
       "Parameter containing:\n",
       "\u001b[1;35mtensor\u001b[0m\u001b[1m(\u001b[0m\u001b[1m[\u001b[0m\u001b[1;36m0\u001b[0m., \u001b[1;36m0\u001b[0m., \u001b[1;36m0\u001b[0m., \u001b[1;36m0\u001b[0m., \u001b[1;36m0\u001b[0m., \u001b[1;36m0\u001b[0m.\u001b[1m]\u001b[0m, \u001b[33mrequires_grad\u001b[0m=\u001b[3;92mTrue\u001b[0m\u001b[1m)\u001b[0m\n"
      ]
     },
     "metadata": {},
     "output_type": "display_data"
    }
   ],
   "source": [
    "ln = LayerNorm(d)\n",
    "print(ln.gamma)\n",
    "print(ln.beta)"
   ]
  },
  {
   "cell_type": "markdown",
   "id": "2582e054-4c40-4e1a-9493-f8cb973e3263",
   "metadata": {},
   "source": [
    "# LayerNorm 输出"
   ]
  },
  {
   "cell_type": "code",
   "execution_count": 11,
   "id": "2830d9df-66cd-48f0-b06f-3469e11c459c",
   "metadata": {},
   "outputs": [],
   "source": [
    "mean, var, out_mean_var, out, pred  = ln(data)"
   ]
  },
  {
   "cell_type": "code",
   "execution_count": 12,
   "id": "211fdb98-93a3-4519-9562-2374e976a5c9",
   "metadata": {},
   "outputs": [
    {
     "data": {
      "text/html": [
       "<pre style=\"white-space:pre;overflow-x:auto;line-height:normal;font-family:Menlo,'DejaVu Sans Mono',consolas,'Courier New',monospace\">n个数据有n个mean:\n",
       " <span style=\"color: #800080; text-decoration-color: #800080; font-weight: bold\">tensor</span><span style=\"font-weight: bold\">([[[</span><span style=\"color: #008080; text-decoration-color: #008080; font-weight: bold\">1.3889</span><span style=\"font-weight: bold\">]</span>,\n",
       "         <span style=\"font-weight: bold\">[</span><span style=\"color: #008080; text-decoration-color: #008080; font-weight: bold\">0.9741</span><span style=\"font-weight: bold\">]</span>,\n",
       "         <span style=\"font-weight: bold\">[</span><span style=\"color: #008080; text-decoration-color: #008080; font-weight: bold\">0.7701</span><span style=\"font-weight: bold\">]]</span>,\n",
       "\n",
       "        <span style=\"font-weight: bold\">[[</span><span style=\"color: #008080; text-decoration-color: #008080; font-weight: bold\">0.4601</span><span style=\"font-weight: bold\">]</span>,\n",
       "         <span style=\"font-weight: bold\">[</span><span style=\"color: #008080; text-decoration-color: #008080; font-weight: bold\">1.0287</span><span style=\"font-weight: bold\">]</span>,\n",
       "         <span style=\"font-weight: bold\">[</span><span style=\"color: #008080; text-decoration-color: #008080; font-weight: bold\">1.0589</span><span style=\"font-weight: bold\">]]])</span>\n",
       "</pre>\n"
      ],
      "text/plain": [
       "n个数据有n个mean:\n",
       " \u001b[1;35mtensor\u001b[0m\u001b[1m(\u001b[0m\u001b[1m[\u001b[0m\u001b[1m[\u001b[0m\u001b[1m[\u001b[0m\u001b[1;36m1.3889\u001b[0m\u001b[1m]\u001b[0m,\n",
       "         \u001b[1m[\u001b[0m\u001b[1;36m0.9741\u001b[0m\u001b[1m]\u001b[0m,\n",
       "         \u001b[1m[\u001b[0m\u001b[1;36m0.7701\u001b[0m\u001b[1m]\u001b[0m\u001b[1m]\u001b[0m,\n",
       "\n",
       "        \u001b[1m[\u001b[0m\u001b[1m[\u001b[0m\u001b[1;36m0.4601\u001b[0m\u001b[1m]\u001b[0m,\n",
       "         \u001b[1m[\u001b[0m\u001b[1;36m1.0287\u001b[0m\u001b[1m]\u001b[0m,\n",
       "         \u001b[1m[\u001b[0m\u001b[1;36m1.0589\u001b[0m\u001b[1m]\u001b[0m\u001b[1m]\u001b[0m\u001b[1m]\u001b[0m\u001b[1m)\u001b[0m\n"
      ]
     },
     "metadata": {},
     "output_type": "display_data"
    },
    {
     "data": {
      "text/html": [
       "<pre style=\"white-space:pre;overflow-x:auto;line-height:normal;font-family:Menlo,'DejaVu Sans Mono',consolas,'Courier New',monospace\">n个数据有n个var:\n",
       " <span style=\"color: #800080; text-decoration-color: #800080; font-weight: bold\">tensor</span><span style=\"font-weight: bold\">([[[</span><span style=\"color: #008080; text-decoration-color: #008080; font-weight: bold\">0.2633</span><span style=\"font-weight: bold\">]</span>,\n",
       "         <span style=\"font-weight: bold\">[</span><span style=\"color: #008080; text-decoration-color: #008080; font-weight: bold\">0.3819</span><span style=\"font-weight: bold\">]</span>,\n",
       "         <span style=\"font-weight: bold\">[</span><span style=\"color: #008080; text-decoration-color: #008080; font-weight: bold\">0.1966</span><span style=\"font-weight: bold\">]]</span>,\n",
       "\n",
       "        <span style=\"font-weight: bold\">[[</span><span style=\"color: #008080; text-decoration-color: #008080; font-weight: bold\">0.0243</span><span style=\"font-weight: bold\">]</span>,\n",
       "         <span style=\"font-weight: bold\">[</span><span style=\"color: #008080; text-decoration-color: #008080; font-weight: bold\">0.5127</span><span style=\"font-weight: bold\">]</span>,\n",
       "         <span style=\"font-weight: bold\">[</span><span style=\"color: #008080; text-decoration-color: #008080; font-weight: bold\">0.4982</span><span style=\"font-weight: bold\">]]])</span>\n",
       "</pre>\n"
      ],
      "text/plain": [
       "n个数据有n个var:\n",
       " \u001b[1;35mtensor\u001b[0m\u001b[1m(\u001b[0m\u001b[1m[\u001b[0m\u001b[1m[\u001b[0m\u001b[1m[\u001b[0m\u001b[1;36m0.2633\u001b[0m\u001b[1m]\u001b[0m,\n",
       "         \u001b[1m[\u001b[0m\u001b[1;36m0.3819\u001b[0m\u001b[1m]\u001b[0m,\n",
       "         \u001b[1m[\u001b[0m\u001b[1;36m0.1966\u001b[0m\u001b[1m]\u001b[0m\u001b[1m]\u001b[0m,\n",
       "\n",
       "        \u001b[1m[\u001b[0m\u001b[1m[\u001b[0m\u001b[1;36m0.0243\u001b[0m\u001b[1m]\u001b[0m,\n",
       "         \u001b[1m[\u001b[0m\u001b[1;36m0.5127\u001b[0m\u001b[1m]\u001b[0m,\n",
       "         \u001b[1m[\u001b[0m\u001b[1;36m0.4982\u001b[0m\u001b[1m]\u001b[0m\u001b[1m]\u001b[0m\u001b[1m]\u001b[0m\u001b[1m)\u001b[0m\n"
      ]
     },
     "metadata": {},
     "output_type": "display_data"
    },
    {
     "data": {
      "text/html": [
       "<pre style=\"white-space:pre;overflow-x:auto;line-height:normal;font-family:Menlo,'DejaVu Sans Mono',consolas,'Courier New',monospace\">不同数据找不同的mean和var做归一化变换：\n",
       " <span style=\"color: #800080; text-decoration-color: #800080; font-weight: bold\">tensor</span><span style=\"font-weight: bold\">([[[</span> <span style=\"color: #008080; text-decoration-color: #008080; font-weight: bold\">1.0486</span>,  <span style=\"color: #008080; text-decoration-color: #008080; font-weight: bold\">0.1917</span>, <span style=\"color: #008080; text-decoration-color: #008080; font-weight: bold\">-0.9514</span>,  <span style=\"color: #008080; text-decoration-color: #008080; font-weight: bold\">1.3967</span>, <span style=\"color: #008080; text-decoration-color: #008080; font-weight: bold\">-1.3847</span>, <span style=\"color: #008080; text-decoration-color: #008080; font-weight: bold\">-0.3008</span><span style=\"font-weight: bold\">]</span>,\n",
       "         <span style=\"font-weight: bold\">[</span><span style=\"color: #008080; text-decoration-color: #008080; font-weight: bold\">-1.5065</span>,  <span style=\"color: #008080; text-decoration-color: #008080; font-weight: bold\">1.0203</span>, <span style=\"color: #008080; text-decoration-color: #008080; font-weight: bold\">-0.3592</span>,  <span style=\"color: #008080; text-decoration-color: #008080; font-weight: bold\">1.0916</span>, <span style=\"color: #008080; text-decoration-color: #008080; font-weight: bold\">-0.9411</span>,  <span style=\"color: #008080; text-decoration-color: #008080; font-weight: bold\">0.6950</span><span style=\"font-weight: bold\">]</span>,\n",
       "         <span style=\"font-weight: bold\">[</span><span style=\"color: #008080; text-decoration-color: #008080; font-weight: bold\">-0.0952</span>, <span style=\"color: #008080; text-decoration-color: #008080; font-weight: bold\">-0.4751</span>, <span style=\"color: #008080; text-decoration-color: #008080; font-weight: bold\">-0.0028</span>, <span style=\"color: #008080; text-decoration-color: #008080; font-weight: bold\">-0.0172</span>,  <span style=\"color: #008080; text-decoration-color: #008080; font-weight: bold\">1.9671</span>, <span style=\"color: #008080; text-decoration-color: #008080; font-weight: bold\">-1.3768</span><span style=\"font-weight: bold\">]]</span>,\n",
       "\n",
       "        <span style=\"font-weight: bold\">[[</span> <span style=\"color: #008080; text-decoration-color: #008080; font-weight: bold\">0.2392</span>, <span style=\"color: #008080; text-decoration-color: #008080; font-weight: bold\">-0.1317</span>, <span style=\"color: #008080; text-decoration-color: #008080; font-weight: bold\">-0.9062</span>, <span style=\"color: #008080; text-decoration-color: #008080; font-weight: bold\">-0.2284</span>, <span style=\"color: #008080; text-decoration-color: #008080; font-weight: bold\">-0.9906</span>,  <span style=\"color: #008080; text-decoration-color: #008080; font-weight: bold\">2.0176</span><span style=\"font-weight: bold\">]</span>,\n",
       "         <span style=\"font-weight: bold\">[</span><span style=\"color: #008080; text-decoration-color: #008080; font-weight: bold\">-1.3879</span>, <span style=\"color: #008080; text-decoration-color: #008080; font-weight: bold\">-0.9882</span>,  <span style=\"color: #008080; text-decoration-color: #008080; font-weight: bold\">0.7611</span>, <span style=\"color: #008080; text-decoration-color: #008080; font-weight: bold\">-0.2559</span>,  <span style=\"color: #008080; text-decoration-color: #008080; font-weight: bold\">0.3428</span>,  <span style=\"color: #008080; text-decoration-color: #008080; font-weight: bold\">1.5281</span><span style=\"font-weight: bold\">]</span>,\n",
       "         <span style=\"font-weight: bold\">[</span> <span style=\"color: #008080; text-decoration-color: #008080; font-weight: bold\">0.2490</span>, <span style=\"color: #008080; text-decoration-color: #008080; font-weight: bold\">-0.8090</span>,  <span style=\"color: #008080; text-decoration-color: #008080; font-weight: bold\">0.5088</span>, <span style=\"color: #008080; text-decoration-color: #008080; font-weight: bold\">-0.2304</span>, <span style=\"color: #008080; text-decoration-color: #008080; font-weight: bold\">-1.4295</span>,  <span style=\"color: #008080; text-decoration-color: #008080; font-weight: bold\">1.7112</span><span style=\"font-weight: bold\">]]])</span>\n",
       "</pre>\n"
      ],
      "text/plain": [
       "不同数据找不同的mean和var做归一化变换：\n",
       " \u001b[1;35mtensor\u001b[0m\u001b[1m(\u001b[0m\u001b[1m[\u001b[0m\u001b[1m[\u001b[0m\u001b[1m[\u001b[0m \u001b[1;36m1.0486\u001b[0m,  \u001b[1;36m0.1917\u001b[0m, \u001b[1;36m-0.9514\u001b[0m,  \u001b[1;36m1.3967\u001b[0m, \u001b[1;36m-1.3847\u001b[0m, \u001b[1;36m-0.3008\u001b[0m\u001b[1m]\u001b[0m,\n",
       "         \u001b[1m[\u001b[0m\u001b[1;36m-1.5065\u001b[0m,  \u001b[1;36m1.0203\u001b[0m, \u001b[1;36m-0.3592\u001b[0m,  \u001b[1;36m1.0916\u001b[0m, \u001b[1;36m-0.9411\u001b[0m,  \u001b[1;36m0.6950\u001b[0m\u001b[1m]\u001b[0m,\n",
       "         \u001b[1m[\u001b[0m\u001b[1;36m-0.0952\u001b[0m, \u001b[1;36m-0.4751\u001b[0m, \u001b[1;36m-0.0028\u001b[0m, \u001b[1;36m-0.0172\u001b[0m,  \u001b[1;36m1.9671\u001b[0m, \u001b[1;36m-1.3768\u001b[0m\u001b[1m]\u001b[0m\u001b[1m]\u001b[0m,\n",
       "\n",
       "        \u001b[1m[\u001b[0m\u001b[1m[\u001b[0m \u001b[1;36m0.2392\u001b[0m, \u001b[1;36m-0.1317\u001b[0m, \u001b[1;36m-0.9062\u001b[0m, \u001b[1;36m-0.2284\u001b[0m, \u001b[1;36m-0.9906\u001b[0m,  \u001b[1;36m2.0176\u001b[0m\u001b[1m]\u001b[0m,\n",
       "         \u001b[1m[\u001b[0m\u001b[1;36m-1.3879\u001b[0m, \u001b[1;36m-0.9882\u001b[0m,  \u001b[1;36m0.7611\u001b[0m, \u001b[1;36m-0.2559\u001b[0m,  \u001b[1;36m0.3428\u001b[0m,  \u001b[1;36m1.5281\u001b[0m\u001b[1m]\u001b[0m,\n",
       "         \u001b[1m[\u001b[0m \u001b[1;36m0.2490\u001b[0m, \u001b[1;36m-0.8090\u001b[0m,  \u001b[1;36m0.5088\u001b[0m, \u001b[1;36m-0.2304\u001b[0m, \u001b[1;36m-1.4295\u001b[0m,  \u001b[1;36m1.7112\u001b[0m\u001b[1m]\u001b[0m\u001b[1m]\u001b[0m\u001b[1m]\u001b[0m\u001b[1m)\u001b[0m\n"
      ]
     },
     "metadata": {},
     "output_type": "display_data"
    },
    {
     "data": {
      "text/html": [
       "<pre style=\"white-space:pre;overflow-x:auto;line-height:normal;font-family:Menlo,'DejaVu Sans Mono',consolas,'Courier New',monospace\">缩放+偏移:\n",
       " <span style=\"color: #800080; text-decoration-color: #800080; font-weight: bold\">tensor</span><span style=\"font-weight: bold\">([[[</span> <span style=\"color: #008080; text-decoration-color: #008080; font-weight: bold\">1.0486</span>,  <span style=\"color: #008080; text-decoration-color: #008080; font-weight: bold\">0.1917</span>, <span style=\"color: #008080; text-decoration-color: #008080; font-weight: bold\">-0.9514</span>,  <span style=\"color: #008080; text-decoration-color: #008080; font-weight: bold\">1.3967</span>, <span style=\"color: #008080; text-decoration-color: #008080; font-weight: bold\">-1.3847</span>, <span style=\"color: #008080; text-decoration-color: #008080; font-weight: bold\">-0.3008</span><span style=\"font-weight: bold\">]</span>,\n",
       "         <span style=\"font-weight: bold\">[</span><span style=\"color: #008080; text-decoration-color: #008080; font-weight: bold\">-1.5065</span>,  <span style=\"color: #008080; text-decoration-color: #008080; font-weight: bold\">1.0203</span>, <span style=\"color: #008080; text-decoration-color: #008080; font-weight: bold\">-0.3592</span>,  <span style=\"color: #008080; text-decoration-color: #008080; font-weight: bold\">1.0916</span>, <span style=\"color: #008080; text-decoration-color: #008080; font-weight: bold\">-0.9411</span>,  <span style=\"color: #008080; text-decoration-color: #008080; font-weight: bold\">0.6950</span><span style=\"font-weight: bold\">]</span>,\n",
       "         <span style=\"font-weight: bold\">[</span><span style=\"color: #008080; text-decoration-color: #008080; font-weight: bold\">-0.0952</span>, <span style=\"color: #008080; text-decoration-color: #008080; font-weight: bold\">-0.4751</span>, <span style=\"color: #008080; text-decoration-color: #008080; font-weight: bold\">-0.0028</span>, <span style=\"color: #008080; text-decoration-color: #008080; font-weight: bold\">-0.0172</span>,  <span style=\"color: #008080; text-decoration-color: #008080; font-weight: bold\">1.9671</span>, <span style=\"color: #008080; text-decoration-color: #008080; font-weight: bold\">-1.3768</span><span style=\"font-weight: bold\">]]</span>,\n",
       "\n",
       "        <span style=\"font-weight: bold\">[[</span> <span style=\"color: #008080; text-decoration-color: #008080; font-weight: bold\">0.2392</span>, <span style=\"color: #008080; text-decoration-color: #008080; font-weight: bold\">-0.1317</span>, <span style=\"color: #008080; text-decoration-color: #008080; font-weight: bold\">-0.9062</span>, <span style=\"color: #008080; text-decoration-color: #008080; font-weight: bold\">-0.2284</span>, <span style=\"color: #008080; text-decoration-color: #008080; font-weight: bold\">-0.9906</span>,  <span style=\"color: #008080; text-decoration-color: #008080; font-weight: bold\">2.0176</span><span style=\"font-weight: bold\">]</span>,\n",
       "         <span style=\"font-weight: bold\">[</span><span style=\"color: #008080; text-decoration-color: #008080; font-weight: bold\">-1.3879</span>, <span style=\"color: #008080; text-decoration-color: #008080; font-weight: bold\">-0.9882</span>,  <span style=\"color: #008080; text-decoration-color: #008080; font-weight: bold\">0.7611</span>, <span style=\"color: #008080; text-decoration-color: #008080; font-weight: bold\">-0.2559</span>,  <span style=\"color: #008080; text-decoration-color: #008080; font-weight: bold\">0.3428</span>,  <span style=\"color: #008080; text-decoration-color: #008080; font-weight: bold\">1.5281</span><span style=\"font-weight: bold\">]</span>,\n",
       "         <span style=\"font-weight: bold\">[</span> <span style=\"color: #008080; text-decoration-color: #008080; font-weight: bold\">0.2490</span>, <span style=\"color: #008080; text-decoration-color: #008080; font-weight: bold\">-0.8090</span>,  <span style=\"color: #008080; text-decoration-color: #008080; font-weight: bold\">0.5088</span>, <span style=\"color: #008080; text-decoration-color: #008080; font-weight: bold\">-0.2304</span>, <span style=\"color: #008080; text-decoration-color: #008080; font-weight: bold\">-1.4295</span>,  <span style=\"color: #008080; text-decoration-color: #008080; font-weight: bold\">1.7112</span><span style=\"font-weight: bold\">]]]</span>,\n",
       "       <span style=\"color: #808000; text-decoration-color: #808000\">grad_fn</span>=<span style=\"font-weight: bold\">&lt;</span><span style=\"color: #ff00ff; text-decoration-color: #ff00ff; font-weight: bold\">AddBackward0</span><span style=\"font-weight: bold\">&gt;)</span>\n",
       "</pre>\n"
      ],
      "text/plain": [
       "缩放+偏移:\n",
       " \u001b[1;35mtensor\u001b[0m\u001b[1m(\u001b[0m\u001b[1m[\u001b[0m\u001b[1m[\u001b[0m\u001b[1m[\u001b[0m \u001b[1;36m1.0486\u001b[0m,  \u001b[1;36m0.1917\u001b[0m, \u001b[1;36m-0.9514\u001b[0m,  \u001b[1;36m1.3967\u001b[0m, \u001b[1;36m-1.3847\u001b[0m, \u001b[1;36m-0.3008\u001b[0m\u001b[1m]\u001b[0m,\n",
       "         \u001b[1m[\u001b[0m\u001b[1;36m-1.5065\u001b[0m,  \u001b[1;36m1.0203\u001b[0m, \u001b[1;36m-0.3592\u001b[0m,  \u001b[1;36m1.0916\u001b[0m, \u001b[1;36m-0.9411\u001b[0m,  \u001b[1;36m0.6950\u001b[0m\u001b[1m]\u001b[0m,\n",
       "         \u001b[1m[\u001b[0m\u001b[1;36m-0.0952\u001b[0m, \u001b[1;36m-0.4751\u001b[0m, \u001b[1;36m-0.0028\u001b[0m, \u001b[1;36m-0.0172\u001b[0m,  \u001b[1;36m1.9671\u001b[0m, \u001b[1;36m-1.3768\u001b[0m\u001b[1m]\u001b[0m\u001b[1m]\u001b[0m,\n",
       "\n",
       "        \u001b[1m[\u001b[0m\u001b[1m[\u001b[0m \u001b[1;36m0.2392\u001b[0m, \u001b[1;36m-0.1317\u001b[0m, \u001b[1;36m-0.9062\u001b[0m, \u001b[1;36m-0.2284\u001b[0m, \u001b[1;36m-0.9906\u001b[0m,  \u001b[1;36m2.0176\u001b[0m\u001b[1m]\u001b[0m,\n",
       "         \u001b[1m[\u001b[0m\u001b[1;36m-1.3879\u001b[0m, \u001b[1;36m-0.9882\u001b[0m,  \u001b[1;36m0.7611\u001b[0m, \u001b[1;36m-0.2559\u001b[0m,  \u001b[1;36m0.3428\u001b[0m,  \u001b[1;36m1.5281\u001b[0m\u001b[1m]\u001b[0m,\n",
       "         \u001b[1m[\u001b[0m \u001b[1;36m0.2490\u001b[0m, \u001b[1;36m-0.8090\u001b[0m,  \u001b[1;36m0.5088\u001b[0m, \u001b[1;36m-0.2304\u001b[0m, \u001b[1;36m-1.4295\u001b[0m,  \u001b[1;36m1.7112\u001b[0m\u001b[1m]\u001b[0m\u001b[1m]\u001b[0m\u001b[1m]\u001b[0m,\n",
       "       \u001b[33mgrad_fn\u001b[0m=\u001b[1m<\u001b[0m\u001b[1;95mAddBackward0\u001b[0m\u001b[1m>\u001b[0m\u001b[1m)\u001b[0m\n"
      ]
     },
     "metadata": {},
     "output_type": "display_data"
    }
   ],
   "source": [
    "print('n个数据有n个mean:\\n', mean)\n",
    "print('n个数据有n个var:\\n', var)\n",
    "print('不同数据找不同的mean和var做归一化变换：\\n', out_mean_var)\n",
    "print('缩放+偏移:\\n', out)"
   ]
  },
  {
   "cell_type": "markdown",
   "id": "3ea19f1b-aa3a-4c65-b54e-4765d60caac4",
   "metadata": {},
   "source": [
    "# 带LayerNorm的分类模型训练"
   ]
  },
  {
   "cell_type": "code",
   "execution_count": 13,
   "id": "097ff185-fbe2-4594-bdd5-fbe171093a3b",
   "metadata": {},
   "outputs": [],
   "source": [
    "criterion = nn.CrossEntropyLoss()\n",
    "optimizer = Adam(params=ln.parameters(),)"
   ]
  },
  {
   "cell_type": "code",
   "execution_count": 20,
   "id": "c7d40499-38f4-4be2-9883-a01777ea31cb",
   "metadata": {},
   "outputs": [
    {
     "data": {
      "text/html": [
       "<pre style=\"white-space:pre;overflow-x:auto;line-height:normal;font-family:Menlo,'DejaVu Sans Mono',consolas,'Courier New',monospace\"><span style=\"color: #800080; text-decoration-color: #800080; font-weight: bold\">tensor</span><span style=\"font-weight: bold\">(</span><span style=\"color: #008080; text-decoration-color: #008080; font-weight: bold\">0.1044</span>, <span style=\"color: #808000; text-decoration-color: #808000\">grad_fn</span>=<span style=\"font-weight: bold\">&lt;</span><span style=\"color: #ff00ff; text-decoration-color: #ff00ff; font-weight: bold\">MeanBackward0</span><span style=\"font-weight: bold\">&gt;)</span>\n",
       "</pre>\n"
      ],
      "text/plain": [
       "\u001b[1;35mtensor\u001b[0m\u001b[1m(\u001b[0m\u001b[1;36m0.1044\u001b[0m, \u001b[33mgrad_fn\u001b[0m=\u001b[1m<\u001b[0m\u001b[1;95mMeanBackward0\u001b[0m\u001b[1m>\u001b[0m\u001b[1m)\u001b[0m\n"
      ]
     },
     "metadata": {},
     "output_type": "display_data"
    },
    {
     "data": {
      "text/html": [
       "<pre style=\"white-space:pre;overflow-x:auto;line-height:normal;font-family:Menlo,'DejaVu Sans Mono',consolas,'Courier New',monospace\"><span style=\"color: #800080; text-decoration-color: #800080; font-weight: bold\">tensor</span><span style=\"font-weight: bold\">(</span><span style=\"color: #008080; text-decoration-color: #008080; font-weight: bold\">0.0817</span>, <span style=\"color: #808000; text-decoration-color: #808000\">grad_fn</span>=<span style=\"font-weight: bold\">&lt;</span><span style=\"color: #ff00ff; text-decoration-color: #ff00ff; font-weight: bold\">MeanBackward0</span><span style=\"font-weight: bold\">&gt;)</span>\n",
       "</pre>\n"
      ],
      "text/plain": [
       "\u001b[1;35mtensor\u001b[0m\u001b[1m(\u001b[0m\u001b[1;36m0.0817\u001b[0m, \u001b[33mgrad_fn\u001b[0m=\u001b[1m<\u001b[0m\u001b[1;95mMeanBackward0\u001b[0m\u001b[1m>\u001b[0m\u001b[1m)\u001b[0m\n"
      ]
     },
     "metadata": {},
     "output_type": "display_data"
    },
    {
     "data": {
      "text/html": [
       "<pre style=\"white-space:pre;overflow-x:auto;line-height:normal;font-family:Menlo,'DejaVu Sans Mono',consolas,'Courier New',monospace\"><span style=\"color: #800080; text-decoration-color: #800080; font-weight: bold\">tensor</span><span style=\"font-weight: bold\">(</span><span style=\"color: #008080; text-decoration-color: #008080; font-weight: bold\">0.0651</span>, <span style=\"color: #808000; text-decoration-color: #808000\">grad_fn</span>=<span style=\"font-weight: bold\">&lt;</span><span style=\"color: #ff00ff; text-decoration-color: #ff00ff; font-weight: bold\">MeanBackward0</span><span style=\"font-weight: bold\">&gt;)</span>\n",
       "</pre>\n"
      ],
      "text/plain": [
       "\u001b[1;35mtensor\u001b[0m\u001b[1m(\u001b[0m\u001b[1;36m0.0651\u001b[0m, \u001b[33mgrad_fn\u001b[0m=\u001b[1m<\u001b[0m\u001b[1;95mMeanBackward0\u001b[0m\u001b[1m>\u001b[0m\u001b[1m)\u001b[0m\n"
      ]
     },
     "metadata": {},
     "output_type": "display_data"
    },
    {
     "data": {
      "text/html": [
       "<pre style=\"white-space:pre;overflow-x:auto;line-height:normal;font-family:Menlo,'DejaVu Sans Mono',consolas,'Courier New',monospace\"><span style=\"color: #800080; text-decoration-color: #800080; font-weight: bold\">tensor</span><span style=\"font-weight: bold\">(</span><span style=\"color: #008080; text-decoration-color: #008080; font-weight: bold\">0.0526</span>, <span style=\"color: #808000; text-decoration-color: #808000\">grad_fn</span>=<span style=\"font-weight: bold\">&lt;</span><span style=\"color: #ff00ff; text-decoration-color: #ff00ff; font-weight: bold\">MeanBackward0</span><span style=\"font-weight: bold\">&gt;)</span>\n",
       "</pre>\n"
      ],
      "text/plain": [
       "\u001b[1;35mtensor\u001b[0m\u001b[1m(\u001b[0m\u001b[1;36m0.0526\u001b[0m, \u001b[33mgrad_fn\u001b[0m=\u001b[1m<\u001b[0m\u001b[1;95mMeanBackward0\u001b[0m\u001b[1m>\u001b[0m\u001b[1m)\u001b[0m\n"
      ]
     },
     "metadata": {},
     "output_type": "display_data"
    },
    {
     "data": {
      "text/html": [
       "<pre style=\"white-space:pre;overflow-x:auto;line-height:normal;font-family:Menlo,'DejaVu Sans Mono',consolas,'Courier New',monospace\"><span style=\"color: #800080; text-decoration-color: #800080; font-weight: bold\">tensor</span><span style=\"font-weight: bold\">(</span><span style=\"color: #008080; text-decoration-color: #008080; font-weight: bold\">0.0432</span>, <span style=\"color: #808000; text-decoration-color: #808000\">grad_fn</span>=<span style=\"font-weight: bold\">&lt;</span><span style=\"color: #ff00ff; text-decoration-color: #ff00ff; font-weight: bold\">MeanBackward0</span><span style=\"font-weight: bold\">&gt;)</span>\n",
       "</pre>\n"
      ],
      "text/plain": [
       "\u001b[1;35mtensor\u001b[0m\u001b[1m(\u001b[0m\u001b[1;36m0.0432\u001b[0m, \u001b[33mgrad_fn\u001b[0m=\u001b[1m<\u001b[0m\u001b[1;95mMeanBackward0\u001b[0m\u001b[1m>\u001b[0m\u001b[1m)\u001b[0m\n"
      ]
     },
     "metadata": {},
     "output_type": "display_data"
    },
    {
     "data": {
      "text/html": [
       "<pre style=\"white-space:pre;overflow-x:auto;line-height:normal;font-family:Menlo,'DejaVu Sans Mono',consolas,'Courier New',monospace\"><span style=\"color: #800080; text-decoration-color: #800080; font-weight: bold\">tensor</span><span style=\"font-weight: bold\">(</span><span style=\"color: #008080; text-decoration-color: #008080; font-weight: bold\">0.0359</span>, <span style=\"color: #808000; text-decoration-color: #808000\">grad_fn</span>=<span style=\"font-weight: bold\">&lt;</span><span style=\"color: #ff00ff; text-decoration-color: #ff00ff; font-weight: bold\">MeanBackward0</span><span style=\"font-weight: bold\">&gt;)</span>\n",
       "</pre>\n"
      ],
      "text/plain": [
       "\u001b[1;35mtensor\u001b[0m\u001b[1m(\u001b[0m\u001b[1;36m0.0359\u001b[0m, \u001b[33mgrad_fn\u001b[0m=\u001b[1m<\u001b[0m\u001b[1;95mMeanBackward0\u001b[0m\u001b[1m>\u001b[0m\u001b[1m)\u001b[0m\n"
      ]
     },
     "metadata": {},
     "output_type": "display_data"
    },
    {
     "data": {
      "text/html": [
       "<pre style=\"white-space:pre;overflow-x:auto;line-height:normal;font-family:Menlo,'DejaVu Sans Mono',consolas,'Courier New',monospace\"><span style=\"color: #800080; text-decoration-color: #800080; font-weight: bold\">tensor</span><span style=\"font-weight: bold\">(</span><span style=\"color: #008080; text-decoration-color: #008080; font-weight: bold\">0.0302</span>, <span style=\"color: #808000; text-decoration-color: #808000\">grad_fn</span>=<span style=\"font-weight: bold\">&lt;</span><span style=\"color: #ff00ff; text-decoration-color: #ff00ff; font-weight: bold\">MeanBackward0</span><span style=\"font-weight: bold\">&gt;)</span>\n",
       "</pre>\n"
      ],
      "text/plain": [
       "\u001b[1;35mtensor\u001b[0m\u001b[1m(\u001b[0m\u001b[1;36m0.0302\u001b[0m, \u001b[33mgrad_fn\u001b[0m=\u001b[1m<\u001b[0m\u001b[1;95mMeanBackward0\u001b[0m\u001b[1m>\u001b[0m\u001b[1m)\u001b[0m\n"
      ]
     },
     "metadata": {},
     "output_type": "display_data"
    },
    {
     "data": {
      "text/html": [
       "<pre style=\"white-space:pre;overflow-x:auto;line-height:normal;font-family:Menlo,'DejaVu Sans Mono',consolas,'Courier New',monospace\"><span style=\"color: #800080; text-decoration-color: #800080; font-weight: bold\">tensor</span><span style=\"font-weight: bold\">(</span><span style=\"color: #008080; text-decoration-color: #008080; font-weight: bold\">0.0257</span>, <span style=\"color: #808000; text-decoration-color: #808000\">grad_fn</span>=<span style=\"font-weight: bold\">&lt;</span><span style=\"color: #ff00ff; text-decoration-color: #ff00ff; font-weight: bold\">MeanBackward0</span><span style=\"font-weight: bold\">&gt;)</span>\n",
       "</pre>\n"
      ],
      "text/plain": [
       "\u001b[1;35mtensor\u001b[0m\u001b[1m(\u001b[0m\u001b[1;36m0.0257\u001b[0m, \u001b[33mgrad_fn\u001b[0m=\u001b[1m<\u001b[0m\u001b[1;95mMeanBackward0\u001b[0m\u001b[1m>\u001b[0m\u001b[1m)\u001b[0m\n"
      ]
     },
     "metadata": {},
     "output_type": "display_data"
    },
    {
     "data": {
      "text/html": [
       "<pre style=\"white-space:pre;overflow-x:auto;line-height:normal;font-family:Menlo,'DejaVu Sans Mono',consolas,'Courier New',monospace\"><span style=\"color: #800080; text-decoration-color: #800080; font-weight: bold\">tensor</span><span style=\"font-weight: bold\">(</span><span style=\"color: #008080; text-decoration-color: #008080; font-weight: bold\">0.0220</span>, <span style=\"color: #808000; text-decoration-color: #808000\">grad_fn</span>=<span style=\"font-weight: bold\">&lt;</span><span style=\"color: #ff00ff; text-decoration-color: #ff00ff; font-weight: bold\">MeanBackward0</span><span style=\"font-weight: bold\">&gt;)</span>\n",
       "</pre>\n"
      ],
      "text/plain": [
       "\u001b[1;35mtensor\u001b[0m\u001b[1m(\u001b[0m\u001b[1;36m0.0220\u001b[0m, \u001b[33mgrad_fn\u001b[0m=\u001b[1m<\u001b[0m\u001b[1;95mMeanBackward0\u001b[0m\u001b[1m>\u001b[0m\u001b[1m)\u001b[0m\n"
      ]
     },
     "metadata": {},
     "output_type": "display_data"
    },
    {
     "data": {
      "text/html": [
       "<pre style=\"white-space:pre;overflow-x:auto;line-height:normal;font-family:Menlo,'DejaVu Sans Mono',consolas,'Courier New',monospace\"><span style=\"color: #800080; text-decoration-color: #800080; font-weight: bold\">tensor</span><span style=\"font-weight: bold\">(</span><span style=\"color: #008080; text-decoration-color: #008080; font-weight: bold\">0.0190</span>, <span style=\"color: #808000; text-decoration-color: #808000\">grad_fn</span>=<span style=\"font-weight: bold\">&lt;</span><span style=\"color: #ff00ff; text-decoration-color: #ff00ff; font-weight: bold\">MeanBackward0</span><span style=\"font-weight: bold\">&gt;)</span>\n",
       "</pre>\n"
      ],
      "text/plain": [
       "\u001b[1;35mtensor\u001b[0m\u001b[1m(\u001b[0m\u001b[1;36m0.0190\u001b[0m, \u001b[33mgrad_fn\u001b[0m=\u001b[1m<\u001b[0m\u001b[1;95mMeanBackward0\u001b[0m\u001b[1m>\u001b[0m\u001b[1m)\u001b[0m\n"
      ]
     },
     "metadata": {},
     "output_type": "display_data"
    },
    {
     "data": {
      "text/html": [
       "<pre style=\"white-space:pre;overflow-x:auto;line-height:normal;font-family:Menlo,'DejaVu Sans Mono',consolas,'Courier New',monospace\">不同维度的特征有不同的缩放因子和偏移\n",
       "</pre>\n"
      ],
      "text/plain": [
       "不同维度的特征有不同的缩放因子和偏移\n"
      ]
     },
     "metadata": {},
     "output_type": "display_data"
    },
    {
     "data": {
      "text/html": [
       "<pre style=\"white-space:pre;overflow-x:auto;line-height:normal;font-family:Menlo,'DejaVu Sans Mono',consolas,'Courier New',monospace\">layer_norm BETA:  Parameter containing:\n",
       "<span style=\"color: #800080; text-decoration-color: #800080; font-weight: bold\">tensor</span><span style=\"font-weight: bold\">([</span> <span style=\"color: #008080; text-decoration-color: #008080; font-weight: bold\">0.0823</span>, <span style=\"color: #008080; text-decoration-color: #008080; font-weight: bold\">-0.0858</span>,  <span style=\"color: #008080; text-decoration-color: #008080; font-weight: bold\">0.4060</span>, <span style=\"color: #008080; text-decoration-color: #008080; font-weight: bold\">-0.0734</span>, <span style=\"color: #008080; text-decoration-color: #008080; font-weight: bold\">-0.7113</span>, <span style=\"color: #008080; text-decoration-color: #008080; font-weight: bold\">-0.6759</span><span style=\"font-weight: bold\">]</span>,\n",
       "       <span style=\"color: #808000; text-decoration-color: #808000\">requires_grad</span>=<span style=\"color: #00ff00; text-decoration-color: #00ff00; font-style: italic\">True</span><span style=\"font-weight: bold\">)</span>\n",
       "</pre>\n"
      ],
      "text/plain": [
       "layer_norm BETA:  Parameter containing:\n",
       "\u001b[1;35mtensor\u001b[0m\u001b[1m(\u001b[0m\u001b[1m[\u001b[0m \u001b[1;36m0.0823\u001b[0m, \u001b[1;36m-0.0858\u001b[0m,  \u001b[1;36m0.4060\u001b[0m, \u001b[1;36m-0.0734\u001b[0m, \u001b[1;36m-0.7113\u001b[0m, \u001b[1;36m-0.6759\u001b[0m\u001b[1m]\u001b[0m,\n",
       "       \u001b[33mrequires_grad\u001b[0m=\u001b[3;92mTrue\u001b[0m\u001b[1m)\u001b[0m\n"
      ]
     },
     "metadata": {},
     "output_type": "display_data"
    },
    {
     "data": {
      "text/html": [
       "<pre style=\"white-space:pre;overflow-x:auto;line-height:normal;font-family:Menlo,'DejaVu Sans Mono',consolas,'Courier New',monospace\">layer_norm GAMMA:  Parameter containing:\n",
       "<span style=\"color: #800080; text-decoration-color: #800080; font-weight: bold\">tensor</span><span style=\"font-weight: bold\">([</span><span style=\"color: #008080; text-decoration-color: #008080; font-weight: bold\">1.4926</span>, <span style=\"color: #008080; text-decoration-color: #008080; font-weight: bold\">1.3700</span>, <span style=\"color: #008080; text-decoration-color: #008080; font-weight: bold\">2.1920</span>, <span style=\"color: #008080; text-decoration-color: #008080; font-weight: bold\">1.8049</span>, <span style=\"color: #008080; text-decoration-color: #008080; font-weight: bold\">2.4572</span>, <span style=\"color: #008080; text-decoration-color: #008080; font-weight: bold\">2.5740</span><span style=\"font-weight: bold\">]</span>, <span style=\"color: #808000; text-decoration-color: #808000\">requires_grad</span>=<span style=\"color: #00ff00; text-decoration-color: #00ff00; font-style: italic\">True</span><span style=\"font-weight: bold\">)</span>\n",
       "</pre>\n"
      ],
      "text/plain": [
       "layer_norm GAMMA:  Parameter containing:\n",
       "\u001b[1;35mtensor\u001b[0m\u001b[1m(\u001b[0m\u001b[1m[\u001b[0m\u001b[1;36m1.4926\u001b[0m, \u001b[1;36m1.3700\u001b[0m, \u001b[1;36m2.1920\u001b[0m, \u001b[1;36m1.8049\u001b[0m, \u001b[1;36m2.4572\u001b[0m, \u001b[1;36m2.5740\u001b[0m\u001b[1m]\u001b[0m, \u001b[33mrequires_grad\u001b[0m=\u001b[3;92mTrue\u001b[0m\u001b[1m)\u001b[0m\n"
      ]
     },
     "metadata": {},
     "output_type": "display_data"
    }
   ],
   "source": [
    "ln_outputs = []\n",
    "out_mean_vars = []\n",
    "for i in range(1000):\n",
    "    _,_,out_mean_var,ln_out,head =ln(data)\n",
    "    optimizer.zero_grad()\n",
    "    loss = criterion(head.view(-1, 2), label.view(-1))\n",
    "    # loss = criterion(head, label)\n",
    "    loss.backward()\n",
    "    optimizer.step()\n",
    "    if i%100 == 0:\n",
    "        print(loss.mean())\n",
    "    # print(out)\n",
    "    ln_outputs.append(ln_out)\n",
    "    out_mean_vars.append(out_mean_var)\n",
    "print('不同维度的特征有不同的缩放因子和偏移')\n",
    "print('layer_norm BETA: ', ln.beta)\n",
    "print('layer_norm GAMMA: ', ln.gamma)"
   ]
  },
  {
   "cell_type": "markdown",
   "id": "d4d9970f-6326-4729-85e0-533034090cd9",
   "metadata": {},
   "source": [
    "# 提取前两维特征可视化"
   ]
  },
  {
   "cell_type": "code",
   "execution_count": 15,
   "id": "9a5567d7-1751-4987-ae7c-bb400f6d9c4c",
   "metadata": {},
   "outputs": [],
   "source": [
    "xy = [ item.view(-1,d) for item in ln_outputs]\n",
    "x = [ tmp[:,0].tolist() for tmp in xy]\n",
    "y = [ tmp[:,1].tolist() for tmp in xy]\n",
    "\n",
    "MV_xy = [ item.view(-1,d) for item in out_mean_vars]\n",
    "MV_x = [ tmp[:,0].tolist() for tmp in MV_xy]\n",
    "MV_y = [ tmp[:,1].tolist() for tmp in MV_xy]"
   ]
  },
  {
   "cell_type": "code",
   "execution_count": 16,
   "id": "957b4b52-bc7c-49cd-991e-eb25c4a54e6f",
   "metadata": {},
   "outputs": [
    {
     "data": {
      "image/png": "[encoded data removed]",
      "text/plain": [
       "<Figure size 640x480 with 1 Axes>"
      ]
     },
     "metadata": {},
     "output_type": "display_data"
    }
   ],
   "source": [
    "import matplotlib.pyplot as plt\n",
    "\n",
    "# 仅取前两维度\n",
    "plt.scatter(x, y, label='layernorm(data)', marker='.') #  laynernorm后的数据\n",
    "plt.scatter(MV_x, MV_y, label='feature normalize', marker='.') #  token特征归一化的数据\n",
    "plt.scatter(data.view(-1,d)[:,0].tolist(), \n",
    "            data.view(-1,d)[:,1].tolist(), \n",
    "            label='source data', \n",
    "            marker='x' ) # 原始数据\n",
    "plt.xlim([-2, 2])\n",
    "plt.ylim([-2, 2])\n",
    "plt.grid(True, which='both')\n",
    "plt.axhline(y=0, color='k', linestyle='-')\n",
    "plt.axvline(x=0, color='k', linestyle='-')\n",
    "\n",
    "plt.legend()\n",
    "\n",
    "plt.title('batch2x3token two-dimension(1,2) layernorm')\n",
    "plt.xlabel('d1')\n",
    "plt.ylabel('d2')\n",
    "\n",
    "plt.show()"
   ]
  },
  {
   "cell_type": "code",
   "execution_count": 17,
   "id": "f3fdb844-0027-42ad-b4d1-dc15e952eeec",
   "metadata": {},
   "outputs": [
    {
     "data": {
      "image/png": "[encoded data removed]",
      "text/plain": [
       "<Figure size 640x480 with 1 Axes>"
      ]
     },
     "metadata": {},
     "output_type": "display_data"
    }
   ],
   "source": [
    "d1=2\n",
    "d2=3\n",
    "\n",
    "xy = [ item.view(-1,d) for item in ln_outputs]\n",
    "x = [ tmp[:,d1].tolist() for tmp in xy]\n",
    "y = [ tmp[:,d2].tolist() for tmp in xy]\n",
    "\n",
    "MV_xy = [ item.view(-1,d) for item in out_mean_vars]\n",
    "MV_x = [ tmp[:,d1].tolist() for tmp in MV_xy]\n",
    "MV_y = [ tmp[:,d2].tolist() for tmp in MV_xy]\n",
    "\n",
    "import matplotlib.pyplot as plt\n",
    "\n",
    "# 仅取前两维度\n",
    "plt.scatter(x, y, label='ln(data)', marker='.') #  laynernorm后的数据\n",
    "plt.scatter(MV_x, MV_y, label='pre ln(data)', marker='.') #  token特征归一化的数据\n",
    "plt.scatter(data.view(-1,d)[:,d1].tolist(), \n",
    "            data.view(-1,d)[:,d2].tolist(), \n",
    "            label='data', \n",
    "            marker='x' ) # 原始数据\n",
    "plt.xlim([-2, 2])\n",
    "plt.ylim([-2, 2])\n",
    "plt.grid(True, which='both')\n",
    "plt.axhline(y=0, color='k', linestyle='-')\n",
    "plt.axvline(x=0, color='k', linestyle='-')\n",
    "\n",
    "plt.title('three-token two-dimension(3,4) layernorm')\n",
    "plt.xlabel('d3')\n",
    "plt.ylabel('d4')\n",
    "\n",
    "plt.show()\n"
   ]
  },
  {
   "cell_type": "code",
   "execution_count": null,
   "id": "c2c58d5f-9488-43fb-9705-e9bc6478c3ea",
   "metadata": {},
   "outputs": [],
   "source": []
  }
 ],
 "metadata": {
  "kernelspec": {
   "display_name": "Python 3 (ipykernel)",
   "language": "python",
   "name": "python3"
  },
  "language_info": {
   "codemirror_mode": {
    "name": "ipython",
    "version": 3
   },
   "file_extension": ".py",
   "mimetype": "text/x-python",
   "name": "python",
   "nbconvert_exporter": "python",
   "pygments_lexer": "ipython3",
   "version": "3.11.9"
  }
 },
 "nbformat": 4,
 "nbformat_minor": 5
}
