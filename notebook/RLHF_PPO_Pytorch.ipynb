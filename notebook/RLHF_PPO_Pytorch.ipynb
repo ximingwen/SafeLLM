{
 "cells": [
  {
   "cell_type": "markdown",
   "id": "95148180-5fbe-479c-b544-573f1609a78d",
   "metadata": {},
   "source": [
    "# RLHF-PPO Pytorch Implemention"
   ]
  },
  {
   "cell_type": "markdown",
   "id": "4ccfbfbd-3332-44e9-a31c-d2446394ba93",
   "metadata": {},
   "source": [
    "Author: *xiaodongguaAIGC*\n",
    "\n",
    "Github: *dhcode-cpp*"
   ]
  },
  {
   "cell_type": "markdown",
   "id": "5183c431-dc82-4138-ac92-f903069da22e",
   "metadata": {},
   "source": [
    "# define basic function"
   ]
  },
  {
   "cell_type": "markdown",
   "id": "cff6fc12-f4eb-400a-a365-3a3e3fa7b05d",
   "metadata": {},
   "source": [
    "## config"
   ]
  },
  {
   "cell_type": "code",
   "execution_count": 1,
   "id": "6180ae44-a1c1-47eb-b902-a60532cb92ce",
   "metadata": {},
   "outputs": [],
   "source": [
    "vocab_size = 32\n",
    "hidden_size = 256\n",
    "intermediate_size = 512\n",
    "num_hidden_layers = 2\n",
    "num_attention_heads = 4\n",
    "num_key_value_heads = 4\n",
    "batch_size = 2\n",
    "length_x = 6\n",
    "max_new_tokens = 5"
   ]
  },
  {
   "cell_type": "markdown",
   "id": "0f71186f-30d3-486c-adf9-cc015239b490",
   "metadata": {},
   "source": [
    "## pretrained model"
   ]
  },
  {
   "cell_type": "code",
   "execution_count": 2,
   "id": "01dd89e1-4af9-4b04-90a3-81d454ed5018",
   "metadata": {},
   "outputs": [],
   "source": [
    "import torch\n",
    "import torch.nn.functional as F\n",
    "from transformers import LlamaModel, LlamaConfig, LlamaForCausalLM, LlamaForSequenceClassification\n",
    "\n",
    "torch.manual_seed(1)\n",
    "\n",
    "# 加载模型\n",
    "config = LlamaConfig(vocab_size=vocab_size,      # default is 32000\n",
    "                     hidden_size=hidden_size,\n",
    "                     intermediate_size=intermediate_size,\n",
    "                     num_hidden_layers=num_hidden_layers,\n",
    "                     num_attention_heads=num_attention_heads,\n",
    "                     num_key_value_heads=num_key_value_heads,\n",
    "                     )\n",
    "model = LlamaForCausalLM(config)\n",
    "model.config.pad_token_id = model.config.eos_token_id\n",
    "model.save_pretrained('./lm_pretrained')"
   ]
  },
  {
   "cell_type": "code",
   "execution_count": 5,
   "id": "c744b359-ff99-43b9-858f-853ab48be841",
   "metadata": {},
   "outputs": [
    {
     "data": {
      "text/html": [
       "<pre style=\"white-space:pre;overflow-x:auto;line-height:normal;font-family:Menlo,'DejaVu Sans Mono',consolas,'Courier New',monospace\"><span style=\"color: #800080; text-decoration-color: #800080; font-weight: bold\">torch.Size</span><span style=\"font-weight: bold\">([</span><span style=\"color: #008080; text-decoration-color: #008080; font-weight: bold\">2</span>, <span style=\"color: #008080; text-decoration-color: #008080; font-weight: bold\">6</span><span style=\"font-weight: bold\">])</span>\n",
       "</pre>\n"
      ],
      "text/plain": [
       "\u001b[1;35mtorch.Size\u001b[0m\u001b[1m(\u001b[0m\u001b[1m[\u001b[0m\u001b[1;36m2\u001b[0m, \u001b[1;36m6\u001b[0m\u001b[1m]\u001b[0m\u001b[1m)\u001b[0m\n"
      ]
     },
     "metadata": {},
     "output_type": "display_data"
    },
    {
     "data": {
      "text/html": [
       "<pre style=\"white-space:pre;overflow-x:auto;line-height:normal;font-family:Menlo,'DejaVu Sans Mono',consolas,'Courier New',monospace\"><span style=\"color: #800080; text-decoration-color: #800080; font-weight: bold\">tensor</span><span style=\"font-weight: bold\">([[</span> <span style=\"color: #008080; text-decoration-color: #008080; font-weight: bold\">7</span>, <span style=\"color: #008080; text-decoration-color: #008080; font-weight: bold\">17</span>,  <span style=\"color: #008080; text-decoration-color: #008080; font-weight: bold\">6</span>,  <span style=\"color: #008080; text-decoration-color: #008080; font-weight: bold\">1</span>, <span style=\"color: #008080; text-decoration-color: #008080; font-weight: bold\">11</span>, <span style=\"color: #008080; text-decoration-color: #008080; font-weight: bold\">28</span><span style=\"font-weight: bold\">]</span>,\n",
       "        <span style=\"font-weight: bold\">[</span><span style=\"color: #008080; text-decoration-color: #008080; font-weight: bold\">11</span>,  <span style=\"color: #008080; text-decoration-color: #008080; font-weight: bold\">5</span>, <span style=\"color: #008080; text-decoration-color: #008080; font-weight: bold\">30</span>, <span style=\"color: #008080; text-decoration-color: #008080; font-weight: bold\">22</span>, <span style=\"color: #008080; text-decoration-color: #008080; font-weight: bold\">18</span>,  <span style=\"color: #008080; text-decoration-color: #008080; font-weight: bold\">5</span><span style=\"font-weight: bold\">]])</span>\n",
       "</pre>\n"
      ],
      "text/plain": [
       "\u001b[1;35mtensor\u001b[0m\u001b[1m(\u001b[0m\u001b[1m[\u001b[0m\u001b[1m[\u001b[0m \u001b[1;36m7\u001b[0m, \u001b[1;36m17\u001b[0m,  \u001b[1;36m6\u001b[0m,  \u001b[1;36m1\u001b[0m, \u001b[1;36m11\u001b[0m, \u001b[1;36m28\u001b[0m\u001b[1m]\u001b[0m,\n",
       "        \u001b[1m[\u001b[0m\u001b[1;36m11\u001b[0m,  \u001b[1;36m5\u001b[0m, \u001b[1;36m30\u001b[0m, \u001b[1;36m22\u001b[0m, \u001b[1;36m18\u001b[0m,  \u001b[1;36m5\u001b[0m\u001b[1m]\u001b[0m\u001b[1m]\u001b[0m\u001b[1m)\u001b[0m\n"
      ]
     },
     "metadata": {},
     "output_type": "display_data"
    }
   ],
   "source": [
    "x = torch.randint(0, vocab_size, (batch_size, length_x))\n",
    "xy = torch.randint(0, vocab_size, (batch_size, length_x + max_new_tokens))\n",
    "print(x.shape)\n",
    "print(x)"
   ]
  },
  {
   "cell_type": "code",
   "execution_count": 6,
   "id": "4814b689-b27e-4725-a66f-7d110c98236b",
   "metadata": {},
   "outputs": [
    {
     "data": {
      "text/html": [
       "<pre style=\"white-space:pre;overflow-x:auto;line-height:normal;font-family:Menlo,'DejaVu Sans Mono',consolas,'Courier New',monospace\"><span style=\"color: #800080; text-decoration-color: #800080; font-weight: bold\">tensor</span><span style=\"font-weight: bold\">([[</span><span style=\"color: #008080; text-decoration-color: #008080; font-weight: bold\">0</span>., <span style=\"color: #008080; text-decoration-color: #008080; font-weight: bold\">0</span>., <span style=\"color: #008080; text-decoration-color: #008080; font-weight: bold\">0</span>., <span style=\"color: #008080; text-decoration-color: #008080; font-weight: bold\">0</span>., <span style=\"color: #008080; text-decoration-color: #008080; font-weight: bold\">0</span>., <span style=\"color: #008080; text-decoration-color: #008080; font-weight: bold\">0</span>., <span style=\"color: #008080; text-decoration-color: #008080; font-weight: bold\">1</span>., <span style=\"color: #008080; text-decoration-color: #008080; font-weight: bold\">1</span>., <span style=\"color: #008080; text-decoration-color: #008080; font-weight: bold\">1</span>., <span style=\"color: #008080; text-decoration-color: #008080; font-weight: bold\">1</span>., <span style=\"color: #008080; text-decoration-color: #008080; font-weight: bold\">1</span>.<span style=\"font-weight: bold\">]</span>,\n",
       "        <span style=\"font-weight: bold\">[</span><span style=\"color: #008080; text-decoration-color: #008080; font-weight: bold\">0</span>., <span style=\"color: #008080; text-decoration-color: #008080; font-weight: bold\">0</span>., <span style=\"color: #008080; text-decoration-color: #008080; font-weight: bold\">0</span>., <span style=\"color: #008080; text-decoration-color: #008080; font-weight: bold\">0</span>., <span style=\"color: #008080; text-decoration-color: #008080; font-weight: bold\">0</span>., <span style=\"color: #008080; text-decoration-color: #008080; font-weight: bold\">0</span>., <span style=\"color: #008080; text-decoration-color: #008080; font-weight: bold\">1</span>., <span style=\"color: #008080; text-decoration-color: #008080; font-weight: bold\">1</span>., <span style=\"color: #008080; text-decoration-color: #008080; font-weight: bold\">1</span>., <span style=\"color: #008080; text-decoration-color: #008080; font-weight: bold\">1</span>., <span style=\"color: #008080; text-decoration-color: #008080; font-weight: bold\">1</span>.<span style=\"font-weight: bold\">]])</span>\n",
       "</pre>\n"
      ],
      "text/plain": [
       "\u001b[1;35mtensor\u001b[0m\u001b[1m(\u001b[0m\u001b[1m[\u001b[0m\u001b[1m[\u001b[0m\u001b[1;36m0\u001b[0m., \u001b[1;36m0\u001b[0m., \u001b[1;36m0\u001b[0m., \u001b[1;36m0\u001b[0m., \u001b[1;36m0\u001b[0m., \u001b[1;36m0\u001b[0m., \u001b[1;36m1\u001b[0m., \u001b[1;36m1\u001b[0m., \u001b[1;36m1\u001b[0m., \u001b[1;36m1\u001b[0m., \u001b[1;36m1\u001b[0m.\u001b[1m]\u001b[0m,\n",
       "        \u001b[1m[\u001b[0m\u001b[1;36m0\u001b[0m., \u001b[1;36m0\u001b[0m., \u001b[1;36m0\u001b[0m., \u001b[1;36m0\u001b[0m., \u001b[1;36m0\u001b[0m., \u001b[1;36m0\u001b[0m., \u001b[1;36m1\u001b[0m., \u001b[1;36m1\u001b[0m., \u001b[1;36m1\u001b[0m., \u001b[1;36m1\u001b[0m., \u001b[1;36m1\u001b[0m.\u001b[1m]\u001b[0m\u001b[1m]\u001b[0m\u001b[1m)\u001b[0m\n"
      ]
     },
     "metadata": {},
     "output_type": "display_data"
    }
   ],
   "source": [
    "mask_zero = torch.zeros(batch_size, length_x)\n",
    "mask = torch.ones(batch_size, length_x+max_new_tokens)\n",
    "mask[:, :length_x] = mask_zero\n",
    "print(mask)"
   ]
  },
  {
   "cell_type": "markdown",
   "id": "e68bd51c-30c8-471d-99fb-4bc531ffa204",
   "metadata": {},
   "source": [
    "## lm model generate"
   ]
  },
  {
   "cell_type": "markdown",
   "id": "4c320729-3605-4165-b48f-95d10702f179",
   "metadata": {},
   "source": [
    "https://huggingface.co/docs/transformers/main_classes/text_generation"
   ]
  },
  {
   "cell_type": "code",
   "execution_count": 7,
   "id": "a30454e7-ad83-460c-a591-b5853e366d72",
   "metadata": {},
   "outputs": [
    {
     "data": {
      "text/html": [
       "<pre style=\"white-space:pre;overflow-x:auto;line-height:normal;font-family:Menlo,'DejaVu Sans Mono',consolas,'Courier New',monospace\">input: <span style=\"color: #800080; text-decoration-color: #800080; font-weight: bold\">tensor</span><span style=\"font-weight: bold\">([[</span> <span style=\"color: #008080; text-decoration-color: #008080; font-weight: bold\">7</span>, <span style=\"color: #008080; text-decoration-color: #008080; font-weight: bold\">17</span>,  <span style=\"color: #008080; text-decoration-color: #008080; font-weight: bold\">6</span>,  <span style=\"color: #008080; text-decoration-color: #008080; font-weight: bold\">1</span>, <span style=\"color: #008080; text-decoration-color: #008080; font-weight: bold\">11</span>, <span style=\"color: #008080; text-decoration-color: #008080; font-weight: bold\">28</span><span style=\"font-weight: bold\">]</span>,\n",
       "        <span style=\"font-weight: bold\">[</span><span style=\"color: #008080; text-decoration-color: #008080; font-weight: bold\">11</span>,  <span style=\"color: #008080; text-decoration-color: #008080; font-weight: bold\">5</span>, <span style=\"color: #008080; text-decoration-color: #008080; font-weight: bold\">30</span>, <span style=\"color: #008080; text-decoration-color: #008080; font-weight: bold\">22</span>, <span style=\"color: #008080; text-decoration-color: #008080; font-weight: bold\">18</span>,  <span style=\"color: #008080; text-decoration-color: #008080; font-weight: bold\">5</span><span style=\"font-weight: bold\">]])</span>\n",
       "</pre>\n"
      ],
      "text/plain": [
       "input: \u001b[1;35mtensor\u001b[0m\u001b[1m(\u001b[0m\u001b[1m[\u001b[0m\u001b[1m[\u001b[0m \u001b[1;36m7\u001b[0m, \u001b[1;36m17\u001b[0m,  \u001b[1;36m6\u001b[0m,  \u001b[1;36m1\u001b[0m, \u001b[1;36m11\u001b[0m, \u001b[1;36m28\u001b[0m\u001b[1m]\u001b[0m,\n",
       "        \u001b[1m[\u001b[0m\u001b[1;36m11\u001b[0m,  \u001b[1;36m5\u001b[0m, \u001b[1;36m30\u001b[0m, \u001b[1;36m22\u001b[0m, \u001b[1;36m18\u001b[0m,  \u001b[1;36m5\u001b[0m\u001b[1m]\u001b[0m\u001b[1m]\u001b[0m\u001b[1m)\u001b[0m\n"
      ]
     },
     "metadata": {},
     "output_type": "display_data"
    },
    {
     "name": "stderr",
     "output_type": "stream",
     "text": [
      "The attention mask and the pad token id were not set. As a consequence, you may observe unexpected behavior. Please pass your input's `attention_mask` to obtain reliable results.\n",
      "Setting `pad_token_id` to `eos_token_id`:2 for open-end generation.\n"
     ]
    },
    {
     "data": {
      "text/html": [
       "<pre style=\"white-space:pre;overflow-x:auto;line-height:normal;font-family:Menlo,'DejaVu Sans Mono',consolas,'Courier New',monospace\">lm output:\n",
       " <span style=\"color: #800080; text-decoration-color: #800080; font-weight: bold\">tensor</span><span style=\"font-weight: bold\">([[</span> <span style=\"color: #008080; text-decoration-color: #008080; font-weight: bold\">7</span>, <span style=\"color: #008080; text-decoration-color: #008080; font-weight: bold\">17</span>,  <span style=\"color: #008080; text-decoration-color: #008080; font-weight: bold\">6</span>,  <span style=\"color: #008080; text-decoration-color: #008080; font-weight: bold\">1</span>, <span style=\"color: #008080; text-decoration-color: #008080; font-weight: bold\">11</span>, <span style=\"color: #008080; text-decoration-color: #008080; font-weight: bold\">28</span>, <span style=\"color: #008080; text-decoration-color: #008080; font-weight: bold\">30</span>, <span style=\"color: #008080; text-decoration-color: #008080; font-weight: bold\">20</span>,  <span style=\"color: #008080; text-decoration-color: #008080; font-weight: bold\">6</span>, <span style=\"color: #008080; text-decoration-color: #008080; font-weight: bold\">30</span>,  <span style=\"color: #008080; text-decoration-color: #008080; font-weight: bold\">0</span><span style=\"font-weight: bold\">]</span>,\n",
       "        <span style=\"font-weight: bold\">[</span><span style=\"color: #008080; text-decoration-color: #008080; font-weight: bold\">11</span>,  <span style=\"color: #008080; text-decoration-color: #008080; font-weight: bold\">5</span>, <span style=\"color: #008080; text-decoration-color: #008080; font-weight: bold\">30</span>, <span style=\"color: #008080; text-decoration-color: #008080; font-weight: bold\">22</span>, <span style=\"color: #008080; text-decoration-color: #008080; font-weight: bold\">18</span>,  <span style=\"color: #008080; text-decoration-color: #008080; font-weight: bold\">5</span>, <span style=\"color: #008080; text-decoration-color: #008080; font-weight: bold\">26</span>, <span style=\"color: #008080; text-decoration-color: #008080; font-weight: bold\">26</span>, <span style=\"color: #008080; text-decoration-color: #008080; font-weight: bold\">26</span>, <span style=\"color: #008080; text-decoration-color: #008080; font-weight: bold\">26</span>,  <span style=\"color: #008080; text-decoration-color: #008080; font-weight: bold\">0</span><span style=\"font-weight: bold\">]])</span>\n",
       "</pre>\n"
      ],
      "text/plain": [
       "lm output:\n",
       " \u001b[1;35mtensor\u001b[0m\u001b[1m(\u001b[0m\u001b[1m[\u001b[0m\u001b[1m[\u001b[0m \u001b[1;36m7\u001b[0m, \u001b[1;36m17\u001b[0m,  \u001b[1;36m6\u001b[0m,  \u001b[1;36m1\u001b[0m, \u001b[1;36m11\u001b[0m, \u001b[1;36m28\u001b[0m, \u001b[1;36m30\u001b[0m, \u001b[1;36m20\u001b[0m,  \u001b[1;36m6\u001b[0m, \u001b[1;36m30\u001b[0m,  \u001b[1;36m0\u001b[0m\u001b[1m]\u001b[0m,\n",
       "        \u001b[1m[\u001b[0m\u001b[1;36m11\u001b[0m,  \u001b[1;36m5\u001b[0m, \u001b[1;36m30\u001b[0m, \u001b[1;36m22\u001b[0m, \u001b[1;36m18\u001b[0m,  \u001b[1;36m5\u001b[0m, \u001b[1;36m26\u001b[0m, \u001b[1;36m26\u001b[0m, \u001b[1;36m26\u001b[0m, \u001b[1;36m26\u001b[0m,  \u001b[1;36m0\u001b[0m\u001b[1m]\u001b[0m\u001b[1m]\u001b[0m\u001b[1m)\u001b[0m\n"
      ]
     },
     "metadata": {},
     "output_type": "display_data"
    },
    {
     "data": {
      "text/html": [
       "<pre style=\"white-space:pre;overflow-x:auto;line-height:normal;font-family:Menlo,'DejaVu Sans Mono',consolas,'Courier New',monospace\">lm output shape:\n",
       "\n",
       "<span style=\"color: #800080; text-decoration-color: #800080; font-weight: bold\">torch.Size</span><span style=\"font-weight: bold\">([</span><span style=\"color: #008080; text-decoration-color: #008080; font-weight: bold\">2</span>, <span style=\"color: #008080; text-decoration-color: #008080; font-weight: bold\">11</span><span style=\"font-weight: bold\">])</span>\n",
       "</pre>\n"
      ],
      "text/plain": [
       "lm output shape:\n",
       "\n",
       "\u001b[1;35mtorch.Size\u001b[0m\u001b[1m(\u001b[0m\u001b[1m[\u001b[0m\u001b[1;36m2\u001b[0m, \u001b[1;36m11\u001b[0m\u001b[1m]\u001b[0m\u001b[1m)\u001b[0m\n"
      ]
     },
     "metadata": {},
     "output_type": "display_data"
    }
   ],
   "source": [
    "def get_generate(model, x, max_new_tokens):\n",
    "    idx = {'input_ids': x}  # ignore mask\n",
    "    y = model.generate(**idx,\n",
    "                       max_new_tokens=max_new_tokens,\n",
    "                       forced_eos_token_id=True)\n",
    "    return y\n",
    "\n",
    "\n",
    "print('input:', x)\n",
    "gen_xy = get_generate(model, x, max_new_tokens)\n",
    "print('lm output:\\n', gen_xy)\n",
    "print('lm output shape:\\n', gen_xy.shape)"
   ]
  },
  {
   "cell_type": "markdown",
   "id": "1ed50636-b4b4-41c7-a4af-5ed9fa627ac0",
   "metadata": {},
   "source": [
    "## reward model"
   ]
  },
  {
   "cell_type": "code",
   "execution_count": 8,
   "id": "d3f2fdf0-32ad-4c19-9217-2eb166278b67",
   "metadata": {},
   "outputs": [
    {
     "name": "stderr",
     "output_type": "stream",
     "text": [
      "Some weights of LlamaForSequenceClassification were not initialized from the model checkpoint at ./lm_pretrained and are newly initialized: ['score.weight']\n",
      "You should probably TRAIN this model on a down-stream task to be able to use it for predictions and inference.\n"
     ]
    },
    {
     "data": {
      "text/html": [
       "<pre style=\"white-space:pre;overflow-x:auto;line-height:normal;font-family:Menlo,'DejaVu Sans Mono',consolas,'Courier New',monospace\"><span style=\"color: #800080; text-decoration-color: #800080; font-weight: bold\">LlamaForSequenceClassification</span><span style=\"font-weight: bold\">(</span>\n",
       "  <span style=\"font-weight: bold\">(</span>model<span style=\"font-weight: bold\">)</span>: <span style=\"color: #800080; text-decoration-color: #800080; font-weight: bold\">LlamaModel</span><span style=\"font-weight: bold\">(</span>\n",
       "    <span style=\"font-weight: bold\">(</span>embed_tokens<span style=\"font-weight: bold\">)</span>: <span style=\"color: #800080; text-decoration-color: #800080; font-weight: bold\">Embedding</span><span style=\"font-weight: bold\">(</span><span style=\"color: #008080; text-decoration-color: #008080; font-weight: bold\">32</span>, <span style=\"color: #008080; text-decoration-color: #008080; font-weight: bold\">256</span>, <span style=\"color: #808000; text-decoration-color: #808000\">padding_idx</span>=<span style=\"color: #008080; text-decoration-color: #008080; font-weight: bold\">2</span><span style=\"font-weight: bold\">)</span>\n",
       "    <span style=\"font-weight: bold\">(</span>layers<span style=\"font-weight: bold\">)</span>: <span style=\"color: #800080; text-decoration-color: #800080; font-weight: bold\">ModuleList</span><span style=\"font-weight: bold\">(</span>\n",
       "      <span style=\"font-weight: bold\">(</span><span style=\"color: #008080; text-decoration-color: #008080; font-weight: bold\">0</span>-<span style=\"color: #008080; text-decoration-color: #008080; font-weight: bold\">1</span><span style=\"font-weight: bold\">)</span>: <span style=\"color: #008080; text-decoration-color: #008080; font-weight: bold\">2</span> x <span style=\"color: #800080; text-decoration-color: #800080; font-weight: bold\">LlamaDecoderLayer</span><span style=\"font-weight: bold\">(</span>\n",
       "        <span style=\"font-weight: bold\">(</span>self_attn<span style=\"font-weight: bold\">)</span>: <span style=\"color: #800080; text-decoration-color: #800080; font-weight: bold\">LlamaSdpaAttention</span><span style=\"font-weight: bold\">(</span>\n",
       "          <span style=\"font-weight: bold\">(</span>q_proj<span style=\"font-weight: bold\">)</span>: <span style=\"color: #800080; text-decoration-color: #800080; font-weight: bold\">Linear</span><span style=\"font-weight: bold\">(</span><span style=\"color: #808000; text-decoration-color: #808000\">in_features</span>=<span style=\"color: #008080; text-decoration-color: #008080; font-weight: bold\">256</span>, <span style=\"color: #808000; text-decoration-color: #808000\">out_features</span>=<span style=\"color: #008080; text-decoration-color: #008080; font-weight: bold\">256</span>, <span style=\"color: #808000; text-decoration-color: #808000\">bias</span>=<span style=\"color: #ff0000; text-decoration-color: #ff0000; font-style: italic\">False</span><span style=\"font-weight: bold\">)</span>\n",
       "          <span style=\"font-weight: bold\">(</span>k_proj<span style=\"font-weight: bold\">)</span>: <span style=\"color: #800080; text-decoration-color: #800080; font-weight: bold\">Linear</span><span style=\"font-weight: bold\">(</span><span style=\"color: #808000; text-decoration-color: #808000\">in_features</span>=<span style=\"color: #008080; text-decoration-color: #008080; font-weight: bold\">256</span>, <span style=\"color: #808000; text-decoration-color: #808000\">out_features</span>=<span style=\"color: #008080; text-decoration-color: #008080; font-weight: bold\">256</span>, <span style=\"color: #808000; text-decoration-color: #808000\">bias</span>=<span style=\"color: #ff0000; text-decoration-color: #ff0000; font-style: italic\">False</span><span style=\"font-weight: bold\">)</span>\n",
       "          <span style=\"font-weight: bold\">(</span>v_proj<span style=\"font-weight: bold\">)</span>: <span style=\"color: #800080; text-decoration-color: #800080; font-weight: bold\">Linear</span><span style=\"font-weight: bold\">(</span><span style=\"color: #808000; text-decoration-color: #808000\">in_features</span>=<span style=\"color: #008080; text-decoration-color: #008080; font-weight: bold\">256</span>, <span style=\"color: #808000; text-decoration-color: #808000\">out_features</span>=<span style=\"color: #008080; text-decoration-color: #008080; font-weight: bold\">256</span>, <span style=\"color: #808000; text-decoration-color: #808000\">bias</span>=<span style=\"color: #ff0000; text-decoration-color: #ff0000; font-style: italic\">False</span><span style=\"font-weight: bold\">)</span>\n",
       "          <span style=\"font-weight: bold\">(</span>o_proj<span style=\"font-weight: bold\">)</span>: <span style=\"color: #800080; text-decoration-color: #800080; font-weight: bold\">Linear</span><span style=\"font-weight: bold\">(</span><span style=\"color: #808000; text-decoration-color: #808000\">in_features</span>=<span style=\"color: #008080; text-decoration-color: #008080; font-weight: bold\">256</span>, <span style=\"color: #808000; text-decoration-color: #808000\">out_features</span>=<span style=\"color: #008080; text-decoration-color: #008080; font-weight: bold\">256</span>, <span style=\"color: #808000; text-decoration-color: #808000\">bias</span>=<span style=\"color: #ff0000; text-decoration-color: #ff0000; font-style: italic\">False</span><span style=\"font-weight: bold\">)</span>\n",
       "          <span style=\"font-weight: bold\">(</span>rotary_emb<span style=\"font-weight: bold\">)</span>: <span style=\"color: #800080; text-decoration-color: #800080; font-weight: bold\">LlamaRotaryEmbedding</span><span style=\"font-weight: bold\">()</span>\n",
       "        <span style=\"font-weight: bold\">)</span>\n",
       "        <span style=\"font-weight: bold\">(</span>mlp<span style=\"font-weight: bold\">)</span>: <span style=\"color: #800080; text-decoration-color: #800080; font-weight: bold\">LlamaMLP</span><span style=\"font-weight: bold\">(</span>\n",
       "          <span style=\"font-weight: bold\">(</span>gate_proj<span style=\"font-weight: bold\">)</span>: <span style=\"color: #800080; text-decoration-color: #800080; font-weight: bold\">Linear</span><span style=\"font-weight: bold\">(</span><span style=\"color: #808000; text-decoration-color: #808000\">in_features</span>=<span style=\"color: #008080; text-decoration-color: #008080; font-weight: bold\">256</span>, <span style=\"color: #808000; text-decoration-color: #808000\">out_features</span>=<span style=\"color: #008080; text-decoration-color: #008080; font-weight: bold\">512</span>, <span style=\"color: #808000; text-decoration-color: #808000\">bias</span>=<span style=\"color: #ff0000; text-decoration-color: #ff0000; font-style: italic\">False</span><span style=\"font-weight: bold\">)</span>\n",
       "          <span style=\"font-weight: bold\">(</span>up_proj<span style=\"font-weight: bold\">)</span>: <span style=\"color: #800080; text-decoration-color: #800080; font-weight: bold\">Linear</span><span style=\"font-weight: bold\">(</span><span style=\"color: #808000; text-decoration-color: #808000\">in_features</span>=<span style=\"color: #008080; text-decoration-color: #008080; font-weight: bold\">256</span>, <span style=\"color: #808000; text-decoration-color: #808000\">out_features</span>=<span style=\"color: #008080; text-decoration-color: #008080; font-weight: bold\">512</span>, <span style=\"color: #808000; text-decoration-color: #808000\">bias</span>=<span style=\"color: #ff0000; text-decoration-color: #ff0000; font-style: italic\">False</span><span style=\"font-weight: bold\">)</span>\n",
       "          <span style=\"font-weight: bold\">(</span>down_proj<span style=\"font-weight: bold\">)</span>: <span style=\"color: #800080; text-decoration-color: #800080; font-weight: bold\">Linear</span><span style=\"font-weight: bold\">(</span><span style=\"color: #808000; text-decoration-color: #808000\">in_features</span>=<span style=\"color: #008080; text-decoration-color: #008080; font-weight: bold\">512</span>, <span style=\"color: #808000; text-decoration-color: #808000\">out_features</span>=<span style=\"color: #008080; text-decoration-color: #008080; font-weight: bold\">256</span>, <span style=\"color: #808000; text-decoration-color: #808000\">bias</span>=<span style=\"color: #ff0000; text-decoration-color: #ff0000; font-style: italic\">False</span><span style=\"font-weight: bold\">)</span>\n",
       "          <span style=\"font-weight: bold\">(</span>act_fn<span style=\"font-weight: bold\">)</span>: <span style=\"color: #800080; text-decoration-color: #800080; font-weight: bold\">SiLU</span><span style=\"font-weight: bold\">()</span>\n",
       "        <span style=\"font-weight: bold\">)</span>\n",
       "        <span style=\"font-weight: bold\">(</span>input_layernorm<span style=\"font-weight: bold\">)</span>: <span style=\"color: #800080; text-decoration-color: #800080; font-weight: bold\">LlamaRMSNorm</span><span style=\"font-weight: bold\">()</span>\n",
       "        <span style=\"font-weight: bold\">(</span>post_attention_layernorm<span style=\"font-weight: bold\">)</span>: <span style=\"color: #800080; text-decoration-color: #800080; font-weight: bold\">LlamaRMSNorm</span><span style=\"font-weight: bold\">()</span>\n",
       "      <span style=\"font-weight: bold\">)</span>\n",
       "    <span style=\"font-weight: bold\">)</span>\n",
       "    <span style=\"font-weight: bold\">(</span>norm<span style=\"font-weight: bold\">)</span>: <span style=\"color: #800080; text-decoration-color: #800080; font-weight: bold\">LlamaRMSNorm</span><span style=\"font-weight: bold\">()</span>\n",
       "  <span style=\"font-weight: bold\">)</span>\n",
       "  <span style=\"font-weight: bold\">(</span>score<span style=\"font-weight: bold\">)</span>: <span style=\"color: #800080; text-decoration-color: #800080; font-weight: bold\">Linear</span><span style=\"font-weight: bold\">(</span><span style=\"color: #808000; text-decoration-color: #808000\">in_features</span>=<span style=\"color: #008080; text-decoration-color: #008080; font-weight: bold\">256</span>, <span style=\"color: #808000; text-decoration-color: #808000\">out_features</span>=<span style=\"color: #008080; text-decoration-color: #008080; font-weight: bold\">1</span>, <span style=\"color: #808000; text-decoration-color: #808000\">bias</span>=<span style=\"color: #ff0000; text-decoration-color: #ff0000; font-style: italic\">False</span><span style=\"font-weight: bold\">)</span>\n",
       "<span style=\"font-weight: bold\">)</span>\n",
       "</pre>\n"
      ],
      "text/plain": [
       "\u001b[1;35mLlamaForSequenceClassification\u001b[0m\u001b[1m(\u001b[0m\n",
       "  \u001b[1m(\u001b[0mmodel\u001b[1m)\u001b[0m: \u001b[1;35mLlamaModel\u001b[0m\u001b[1m(\u001b[0m\n",
       "    \u001b[1m(\u001b[0membed_tokens\u001b[1m)\u001b[0m: \u001b[1;35mEmbedding\u001b[0m\u001b[1m(\u001b[0m\u001b[1;36m32\u001b[0m, \u001b[1;36m256\u001b[0m, \u001b[33mpadding_idx\u001b[0m=\u001b[1;36m2\u001b[0m\u001b[1m)\u001b[0m\n",
       "    \u001b[1m(\u001b[0mlayers\u001b[1m)\u001b[0m: \u001b[1;35mModuleList\u001b[0m\u001b[1m(\u001b[0m\n",
       "      \u001b[1m(\u001b[0m\u001b[1;36m0\u001b[0m-\u001b[1;36m1\u001b[0m\u001b[1m)\u001b[0m: \u001b[1;36m2\u001b[0m x \u001b[1;35mLlamaDecoderLayer\u001b[0m\u001b[1m(\u001b[0m\n",
       "        \u001b[1m(\u001b[0mself_attn\u001b[1m)\u001b[0m: \u001b[1;35mLlamaSdpaAttention\u001b[0m\u001b[1m(\u001b[0m\n",
       "          \u001b[1m(\u001b[0mq_proj\u001b[1m)\u001b[0m: \u001b[1;35mLinear\u001b[0m\u001b[1m(\u001b[0m\u001b[33min_features\u001b[0m=\u001b[1;36m256\u001b[0m, \u001b[33mout_features\u001b[0m=\u001b[1;36m256\u001b[0m, \u001b[33mbias\u001b[0m=\u001b[3;91mFalse\u001b[0m\u001b[1m)\u001b[0m\n",
       "          \u001b[1m(\u001b[0mk_proj\u001b[1m)\u001b[0m: \u001b[1;35mLinear\u001b[0m\u001b[1m(\u001b[0m\u001b[33min_features\u001b[0m=\u001b[1;36m256\u001b[0m, \u001b[33mout_features\u001b[0m=\u001b[1;36m256\u001b[0m, \u001b[33mbias\u001b[0m=\u001b[3;91mFalse\u001b[0m\u001b[1m)\u001b[0m\n",
       "          \u001b[1m(\u001b[0mv_proj\u001b[1m)\u001b[0m: \u001b[1;35mLinear\u001b[0m\u001b[1m(\u001b[0m\u001b[33min_features\u001b[0m=\u001b[1;36m256\u001b[0m, \u001b[33mout_features\u001b[0m=\u001b[1;36m256\u001b[0m, \u001b[33mbias\u001b[0m=\u001b[3;91mFalse\u001b[0m\u001b[1m)\u001b[0m\n",
       "          \u001b[1m(\u001b[0mo_proj\u001b[1m)\u001b[0m: \u001b[1;35mLinear\u001b[0m\u001b[1m(\u001b[0m\u001b[33min_features\u001b[0m=\u001b[1;36m256\u001b[0m, \u001b[33mout_features\u001b[0m=\u001b[1;36m256\u001b[0m, \u001b[33mbias\u001b[0m=\u001b[3;91mFalse\u001b[0m\u001b[1m)\u001b[0m\n",
       "          \u001b[1m(\u001b[0mrotary_emb\u001b[1m)\u001b[0m: \u001b[1;35mLlamaRotaryEmbedding\u001b[0m\u001b[1m(\u001b[0m\u001b[1m)\u001b[0m\n",
       "        \u001b[1m)\u001b[0m\n",
       "        \u001b[1m(\u001b[0mmlp\u001b[1m)\u001b[0m: \u001b[1;35mLlamaMLP\u001b[0m\u001b[1m(\u001b[0m\n",
       "          \u001b[1m(\u001b[0mgate_proj\u001b[1m)\u001b[0m: \u001b[1;35mLinear\u001b[0m\u001b[1m(\u001b[0m\u001b[33min_features\u001b[0m=\u001b[1;36m256\u001b[0m, \u001b[33mout_features\u001b[0m=\u001b[1;36m512\u001b[0m, \u001b[33mbias\u001b[0m=\u001b[3;91mFalse\u001b[0m\u001b[1m)\u001b[0m\n",
       "          \u001b[1m(\u001b[0mup_proj\u001b[1m)\u001b[0m: \u001b[1;35mLinear\u001b[0m\u001b[1m(\u001b[0m\u001b[33min_features\u001b[0m=\u001b[1;36m256\u001b[0m, \u001b[33mout_features\u001b[0m=\u001b[1;36m512\u001b[0m, \u001b[33mbias\u001b[0m=\u001b[3;91mFalse\u001b[0m\u001b[1m)\u001b[0m\n",
       "          \u001b[1m(\u001b[0mdown_proj\u001b[1m)\u001b[0m: \u001b[1;35mLinear\u001b[0m\u001b[1m(\u001b[0m\u001b[33min_features\u001b[0m=\u001b[1;36m512\u001b[0m, \u001b[33mout_features\u001b[0m=\u001b[1;36m256\u001b[0m, \u001b[33mbias\u001b[0m=\u001b[3;91mFalse\u001b[0m\u001b[1m)\u001b[0m\n",
       "          \u001b[1m(\u001b[0mact_fn\u001b[1m)\u001b[0m: \u001b[1;35mSiLU\u001b[0m\u001b[1m(\u001b[0m\u001b[1m)\u001b[0m\n",
       "        \u001b[1m)\u001b[0m\n",
       "        \u001b[1m(\u001b[0minput_layernorm\u001b[1m)\u001b[0m: \u001b[1;35mLlamaRMSNorm\u001b[0m\u001b[1m(\u001b[0m\u001b[1m)\u001b[0m\n",
       "        \u001b[1m(\u001b[0mpost_attention_layernorm\u001b[1m)\u001b[0m: \u001b[1;35mLlamaRMSNorm\u001b[0m\u001b[1m(\u001b[0m\u001b[1m)\u001b[0m\n",
       "      \u001b[1m)\u001b[0m\n",
       "    \u001b[1m)\u001b[0m\n",
       "    \u001b[1m(\u001b[0mnorm\u001b[1m)\u001b[0m: \u001b[1;35mLlamaRMSNorm\u001b[0m\u001b[1m(\u001b[0m\u001b[1m)\u001b[0m\n",
       "  \u001b[1m)\u001b[0m\n",
       "  \u001b[1m(\u001b[0mscore\u001b[1m)\u001b[0m: \u001b[1;35mLinear\u001b[0m\u001b[1m(\u001b[0m\u001b[33min_features\u001b[0m=\u001b[1;36m256\u001b[0m, \u001b[33mout_features\u001b[0m=\u001b[1;36m1\u001b[0m, \u001b[33mbias\u001b[0m=\u001b[3;91mFalse\u001b[0m\u001b[1m)\u001b[0m\n",
       "\u001b[1m)\u001b[0m\n"
      ]
     },
     "metadata": {},
     "output_type": "display_data"
    }
   ],
   "source": [
    "model_rm = LlamaForSequenceClassification.from_pretrained(\n",
    "    './lm_pretrained', num_labels=1)\n",
    "print(model_rm)"
   ]
  },
  {
   "cell_type": "markdown",
   "id": "e6a83081-cf15-4dc5-9d7a-56bf7b037b8f",
   "metadata": {},
   "source": [
    "## rm get reward"
   ]
  },
  {
   "cell_type": "code",
   "execution_count": 11,
   "id": "313658e0-89a2-46aa-ba47-ef2259a22a0e",
   "metadata": {},
   "outputs": [
    {
     "data": {
      "text/html": [
       "<pre style=\"white-space:pre;overflow-x:auto;line-height:normal;font-family:Menlo,'DejaVu Sans Mono',consolas,'Courier New',monospace\"><span style=\"color: #800080; text-decoration-color: #800080; font-weight: bold\">tensor</span><span style=\"font-weight: bold\">([[</span> <span style=\"color: #008080; text-decoration-color: #008080; font-weight: bold\">7</span>, <span style=\"color: #008080; text-decoration-color: #008080; font-weight: bold\">17</span>,  <span style=\"color: #008080; text-decoration-color: #008080; font-weight: bold\">6</span>,  <span style=\"color: #008080; text-decoration-color: #008080; font-weight: bold\">1</span>, <span style=\"color: #008080; text-decoration-color: #008080; font-weight: bold\">11</span>, <span style=\"color: #008080; text-decoration-color: #008080; font-weight: bold\">28</span>, <span style=\"color: #008080; text-decoration-color: #008080; font-weight: bold\">30</span>, <span style=\"color: #008080; text-decoration-color: #008080; font-weight: bold\">20</span>,  <span style=\"color: #008080; text-decoration-color: #008080; font-weight: bold\">6</span>, <span style=\"color: #008080; text-decoration-color: #008080; font-weight: bold\">30</span>,  <span style=\"color: #008080; text-decoration-color: #008080; font-weight: bold\">0</span><span style=\"font-weight: bold\">]</span>,\n",
       "        <span style=\"font-weight: bold\">[</span><span style=\"color: #008080; text-decoration-color: #008080; font-weight: bold\">11</span>,  <span style=\"color: #008080; text-decoration-color: #008080; font-weight: bold\">5</span>, <span style=\"color: #008080; text-decoration-color: #008080; font-weight: bold\">30</span>, <span style=\"color: #008080; text-decoration-color: #008080; font-weight: bold\">22</span>, <span style=\"color: #008080; text-decoration-color: #008080; font-weight: bold\">18</span>,  <span style=\"color: #008080; text-decoration-color: #008080; font-weight: bold\">5</span>, <span style=\"color: #008080; text-decoration-color: #008080; font-weight: bold\">26</span>, <span style=\"color: #008080; text-decoration-color: #008080; font-weight: bold\">26</span>, <span style=\"color: #008080; text-decoration-color: #008080; font-weight: bold\">26</span>, <span style=\"color: #008080; text-decoration-color: #008080; font-weight: bold\">26</span>,  <span style=\"color: #008080; text-decoration-color: #008080; font-weight: bold\">0</span><span style=\"font-weight: bold\">]])</span>\n",
       "</pre>\n"
      ],
      "text/plain": [
       "\u001b[1;35mtensor\u001b[0m\u001b[1m(\u001b[0m\u001b[1m[\u001b[0m\u001b[1m[\u001b[0m \u001b[1;36m7\u001b[0m, \u001b[1;36m17\u001b[0m,  \u001b[1;36m6\u001b[0m,  \u001b[1;36m1\u001b[0m, \u001b[1;36m11\u001b[0m, \u001b[1;36m28\u001b[0m, \u001b[1;36m30\u001b[0m, \u001b[1;36m20\u001b[0m,  \u001b[1;36m6\u001b[0m, \u001b[1;36m30\u001b[0m,  \u001b[1;36m0\u001b[0m\u001b[1m]\u001b[0m,\n",
       "        \u001b[1m[\u001b[0m\u001b[1;36m11\u001b[0m,  \u001b[1;36m5\u001b[0m, \u001b[1;36m30\u001b[0m, \u001b[1;36m22\u001b[0m, \u001b[1;36m18\u001b[0m,  \u001b[1;36m5\u001b[0m, \u001b[1;36m26\u001b[0m, \u001b[1;36m26\u001b[0m, \u001b[1;36m26\u001b[0m, \u001b[1;36m26\u001b[0m,  \u001b[1;36m0\u001b[0m\u001b[1m]\u001b[0m\u001b[1m]\u001b[0m\u001b[1m)\u001b[0m\n"
      ]
     },
     "metadata": {},
     "output_type": "display_data"
    },
    {
     "data": {
      "text/html": [
       "<pre style=\"white-space:pre;overflow-x:auto;line-height:normal;font-family:Menlo,'DejaVu Sans Mono',consolas,'Courier New',monospace\"><span style=\"color: #800080; text-decoration-color: #800080; font-weight: bold\">tensor</span><span style=\"font-weight: bold\">([[</span><span style=\"color: #008080; text-decoration-color: #008080; font-weight: bold\">0.4214</span><span style=\"font-weight: bold\">]</span>,\n",
       "        <span style=\"font-weight: bold\">[</span><span style=\"color: #008080; text-decoration-color: #008080; font-weight: bold\">0.7454</span><span style=\"font-weight: bold\">]]</span>, <span style=\"color: #808000; text-decoration-color: #808000\">grad_fn</span>=<span style=\"font-weight: bold\">&lt;</span><span style=\"color: #ff00ff; text-decoration-color: #ff00ff; font-weight: bold\">IndexBackward0</span><span style=\"font-weight: bold\">&gt;)</span>\n",
       "</pre>\n"
      ],
      "text/plain": [
       "\u001b[1;35mtensor\u001b[0m\u001b[1m(\u001b[0m\u001b[1m[\u001b[0m\u001b[1m[\u001b[0m\u001b[1;36m0.4214\u001b[0m\u001b[1m]\u001b[0m,\n",
       "        \u001b[1m[\u001b[0m\u001b[1;36m0.7454\u001b[0m\u001b[1m]\u001b[0m\u001b[1m]\u001b[0m, \u001b[33mgrad_fn\u001b[0m=\u001b[1m<\u001b[0m\u001b[1;95mIndexBackward0\u001b[0m\u001b[1m>\u001b[0m\u001b[1m)\u001b[0m\n"
      ]
     },
     "metadata": {},
     "output_type": "display_data"
    }
   ],
   "source": [
    "def get_reward(rm_model, x):\n",
    "    idx = {'input_ids': x}  # ignore mask\n",
    "    y = model_rm(**idx).logits\n",
    "    return y\n",
    "\n",
    "\n",
    "print(gen_xy)\n",
    "rm_xy = get_reward(model_rm, gen_xy)\n",
    "print(rm_xy)"
   ]
  },
  {
   "cell_type": "markdown",
   "id": "bd05ae29-bc02-4fef-b2c1-b9b4641f1f25",
   "metadata": {},
   "source": [
    "# PPO Pipeline"
   ]
  },
  {
   "cell_type": "markdown",
   "id": "ceb62874-f383-4597-8743-82eea6b624bc",
   "metadata": {},
   "source": [
    "### ppo config"
   ]
  },
  {
   "cell_type": "code",
   "execution_count": 12,
   "id": "6363c4e4-e9d7-415b-ad37-4da59075e864",
   "metadata": {},
   "outputs": [
    {
     "data": {
      "text/html": [
       "<pre style=\"white-space:pre;overflow-x:auto;line-height:normal;font-family:Menlo,'DejaVu Sans Mono',consolas,'Courier New',monospace\">ppo_epochs:<span style=\"color: #008080; text-decoration-color: #008080; font-weight: bold\">3</span>\n",
       "mini_batch_siz<span style=\"color: #00ff00; text-decoration-color: #00ff00; font-weight: bold\">e:1</span>\n",
       "epochs:<span style=\"color: #008080; text-decoration-color: #008080; font-weight: bold\">2</span>\n",
       "kl_ctl:<span style=\"color: #008080; text-decoration-color: #008080; font-weight: bold\">0.01</span>\n",
       "</pre>\n"
      ],
      "text/plain": [
       "ppo_epochs:\u001b[1;36m3\u001b[0m\n",
       "mini_batch_siz\u001b[1;92me:1\u001b[0m\n",
       "epochs:\u001b[1;36m2\u001b[0m\n",
       "kl_ctl:\u001b[1;36m0.01\u001b[0m\n"
      ]
     },
     "metadata": {},
     "output_type": "display_data"
    }
   ],
   "source": [
    "class PPOConfig():\n",
    "    def __init__(self):\n",
    "        self.ppo_epochs = 3\n",
    "        self.mini_batch_size = 1\n",
    "        self.epochs = 2\n",
    "        self.kl_ctl = 0.01\n",
    "        self.vl_coef = 0.01\n",
    "        self.lam = 0.9\n",
    "        self.gamma = 0.9\n",
    "        self.cliprange_value = 0.2\n",
    "        self.cliprange = 0.2\n",
    "        # self.param = {'gamma':0.9, 'lambda':0.9,}\n",
    "\n",
    "    def __str__(self):\n",
    "        return f'ppo_epochs:{self.ppo_epochs}\\nmini_batch_size:{self.mini_batch_size}\\nepochs:{self.epochs}\\nkl_ctl:{self.kl_ctl}'\n",
    "\n",
    "\n",
    "ppo_config = PPOConfig()\n",
    "print(ppo_config)"
   ]
  },
  {
   "cell_type": "markdown",
   "id": "8f5eb14c-3080-4890-a61b-bb031898951b",
   "metadata": {},
   "source": [
    "### PPO models"
   ]
  },
  {
   "cell_type": "code",
   "execution_count": 13,
   "id": "6e775cdb-36be-4bc7-92f0-8b040852ccaa",
   "metadata": {},
   "outputs": [],
   "source": [
    "# model -> [sft] -> model_ref\n",
    "# model_ref -> model_rm\n",
    "# model_ref -> model_actor\n",
    "# model_rm -> model_critic\n",
    "model_ref = LlamaForCausalLM(config)\n",
    "# model_critic = LlamaForSequenceClassification.from_pretrained('./lm_pretrained', num_labels=1)"
   ]
  },
  {
   "cell_type": "markdown",
   "id": "67a5eca3-27f0-4a9d-b9a3-3ae4c6e1c00f",
   "metadata": {},
   "source": [
    "### model critic"
   ]
  },
  {
   "cell_type": "code",
   "execution_count": 14,
   "id": "9e7b807c-5ec5-4234-a313-b0fe69399d41",
   "metadata": {},
   "outputs": [
    {
     "data": {
      "text/html": [
       "<pre style=\"white-space:pre;overflow-x:auto;line-height:normal;font-family:Menlo,'DejaVu Sans Mono',consolas,'Courier New',monospace\"><span style=\"color: #800080; text-decoration-color: #800080; font-weight: bold\">tensor</span><span style=\"font-weight: bold\">([[</span> <span style=\"color: #008080; text-decoration-color: #008080; font-weight: bold\">3</span>,  <span style=\"color: #008080; text-decoration-color: #008080; font-weight: bold\">2</span>, <span style=\"color: #008080; text-decoration-color: #008080; font-weight: bold\">21</span>, <span style=\"color: #008080; text-decoration-color: #008080; font-weight: bold\">16</span>, <span style=\"color: #008080; text-decoration-color: #008080; font-weight: bold\">31</span>, <span style=\"color: #008080; text-decoration-color: #008080; font-weight: bold\">21</span>, <span style=\"color: #008080; text-decoration-color: #008080; font-weight: bold\">18</span>, <span style=\"color: #008080; text-decoration-color: #008080; font-weight: bold\">27</span>,  <span style=\"color: #008080; text-decoration-color: #008080; font-weight: bold\">8</span>, <span style=\"color: #008080; text-decoration-color: #008080; font-weight: bold\">11</span>,  <span style=\"color: #008080; text-decoration-color: #008080; font-weight: bold\">4</span><span style=\"font-weight: bold\">]</span>,\n",
       "        <span style=\"font-weight: bold\">[</span> <span style=\"color: #008080; text-decoration-color: #008080; font-weight: bold\">7</span>,  <span style=\"color: #008080; text-decoration-color: #008080; font-weight: bold\">3</span>, <span style=\"color: #008080; text-decoration-color: #008080; font-weight: bold\">11</span>, <span style=\"color: #008080; text-decoration-color: #008080; font-weight: bold\">27</span>, <span style=\"color: #008080; text-decoration-color: #008080; font-weight: bold\">13</span>,  <span style=\"color: #008080; text-decoration-color: #008080; font-weight: bold\">4</span>, <span style=\"color: #008080; text-decoration-color: #008080; font-weight: bold\">19</span>, <span style=\"color: #008080; text-decoration-color: #008080; font-weight: bold\">29</span>, <span style=\"color: #008080; text-decoration-color: #008080; font-weight: bold\">26</span>,  <span style=\"color: #008080; text-decoration-color: #008080; font-weight: bold\">3</span>, <span style=\"color: #008080; text-decoration-color: #008080; font-weight: bold\">23</span><span style=\"font-weight: bold\">]])</span>\n",
       "</pre>\n"
      ],
      "text/plain": [
       "\u001b[1;35mtensor\u001b[0m\u001b[1m(\u001b[0m\u001b[1m[\u001b[0m\u001b[1m[\u001b[0m \u001b[1;36m3\u001b[0m,  \u001b[1;36m2\u001b[0m, \u001b[1;36m21\u001b[0m, \u001b[1;36m16\u001b[0m, \u001b[1;36m31\u001b[0m, \u001b[1;36m21\u001b[0m, \u001b[1;36m18\u001b[0m, \u001b[1;36m27\u001b[0m,  \u001b[1;36m8\u001b[0m, \u001b[1;36m11\u001b[0m,  \u001b[1;36m4\u001b[0m\u001b[1m]\u001b[0m,\n",
       "        \u001b[1m[\u001b[0m \u001b[1;36m7\u001b[0m,  \u001b[1;36m3\u001b[0m, \u001b[1;36m11\u001b[0m, \u001b[1;36m27\u001b[0m, \u001b[1;36m13\u001b[0m,  \u001b[1;36m4\u001b[0m, \u001b[1;36m19\u001b[0m, \u001b[1;36m29\u001b[0m, \u001b[1;36m26\u001b[0m,  \u001b[1;36m3\u001b[0m, \u001b[1;36m23\u001b[0m\u001b[1m]\u001b[0m\u001b[1m]\u001b[0m\u001b[1m)\u001b[0m\n"
      ]
     },
     "metadata": {},
     "output_type": "display_data"
    },
    {
     "data": {
      "text/html": [
       "<pre style=\"white-space:pre;overflow-x:auto;line-height:normal;font-family:Menlo,'DejaVu Sans Mono',consolas,'Courier New',monospace\"><span style=\"color: #800080; text-decoration-color: #800080; font-weight: bold\">tensor</span><span style=\"font-weight: bold\">([[</span> <span style=\"color: #008080; text-decoration-color: #008080; font-weight: bold\">0.6379</span>,  <span style=\"color: #008080; text-decoration-color: #008080; font-weight: bold\">0.8124</span>,  <span style=\"color: #008080; text-decoration-color: #008080; font-weight: bold\">0.9475</span>,  <span style=\"color: #008080; text-decoration-color: #008080; font-weight: bold\">1.3293</span>,  <span style=\"color: #008080; text-decoration-color: #008080; font-weight: bold\">1.5653</span>,  <span style=\"color: #008080; text-decoration-color: #008080; font-weight: bold\">1.8487</span>,  <span style=\"color: #008080; text-decoration-color: #008080; font-weight: bold\">1.4692</span>,  <span style=\"color: #008080; text-decoration-color: #008080; font-weight: bold\">1.2117</span>,\n",
       "          <span style=\"color: #008080; text-decoration-color: #008080; font-weight: bold\">1.6160</span>,  <span style=\"color: #008080; text-decoration-color: #008080; font-weight: bold\">1.2856</span>,  <span style=\"color: #008080; text-decoration-color: #008080; font-weight: bold\">0.9910</span><span style=\"font-weight: bold\">]</span>,\n",
       "        <span style=\"font-weight: bold\">[</span><span style=\"color: #008080; text-decoration-color: #008080; font-weight: bold\">-0.6929</span>, <span style=\"color: #008080; text-decoration-color: #008080; font-weight: bold\">-0.1668</span>,  <span style=\"color: #008080; text-decoration-color: #008080; font-weight: bold\">0.3139</span>, <span style=\"color: #008080; text-decoration-color: #008080; font-weight: bold\">-0.2659</span>,  <span style=\"color: #008080; text-decoration-color: #008080; font-weight: bold\">0.3015</span>,  <span style=\"color: #008080; text-decoration-color: #008080; font-weight: bold\">0.2497</span>, <span style=\"color: #008080; text-decoration-color: #008080; font-weight: bold\">-0.0748</span>, <span style=\"color: #008080; text-decoration-color: #008080; font-weight: bold\">-0.0441</span>,\n",
       "         <span style=\"color: #008080; text-decoration-color: #008080; font-weight: bold\">-0.1106</span>,  <span style=\"color: #008080; text-decoration-color: #008080; font-weight: bold\">0.0822</span>,  <span style=\"color: #008080; text-decoration-color: #008080; font-weight: bold\">0.0668</span><span style=\"font-weight: bold\">]]</span>, <span style=\"color: #808000; text-decoration-color: #808000\">grad_fn</span>=<span style=\"font-weight: bold\">&lt;</span><span style=\"color: #ff00ff; text-decoration-color: #ff00ff; font-weight: bold\">SelectBackward0</span><span style=\"font-weight: bold\">&gt;)</span>\n",
       "</pre>\n"
      ],
      "text/plain": [
       "\u001b[1;35mtensor\u001b[0m\u001b[1m(\u001b[0m\u001b[1m[\u001b[0m\u001b[1m[\u001b[0m \u001b[1;36m0.6379\u001b[0m,  \u001b[1;36m0.8124\u001b[0m,  \u001b[1;36m0.9475\u001b[0m,  \u001b[1;36m1.3293\u001b[0m,  \u001b[1;36m1.5653\u001b[0m,  \u001b[1;36m1.8487\u001b[0m,  \u001b[1;36m1.4692\u001b[0m,  \u001b[1;36m1.2117\u001b[0m,\n",
       "          \u001b[1;36m1.6160\u001b[0m,  \u001b[1;36m1.2856\u001b[0m,  \u001b[1;36m0.9910\u001b[0m\u001b[1m]\u001b[0m,\n",
       "        \u001b[1m[\u001b[0m\u001b[1;36m-0.6929\u001b[0m, \u001b[1;36m-0.1668\u001b[0m,  \u001b[1;36m0.3139\u001b[0m, \u001b[1;36m-0.2659\u001b[0m,  \u001b[1;36m0.3015\u001b[0m,  \u001b[1;36m0.2497\u001b[0m, \u001b[1;36m-0.0748\u001b[0m, \u001b[1;36m-0.0441\u001b[0m,\n",
       "         \u001b[1;36m-0.1106\u001b[0m,  \u001b[1;36m0.0822\u001b[0m,  \u001b[1;36m0.0668\u001b[0m\u001b[1m]\u001b[0m\u001b[1m]\u001b[0m, \u001b[33mgrad_fn\u001b[0m=\u001b[1m<\u001b[0m\u001b[1;95mSelectBackward0\u001b[0m\u001b[1m>\u001b[0m\u001b[1m)\u001b[0m\n"
      ]
     },
     "metadata": {},
     "output_type": "display_data"
    }
   ],
   "source": [
    "config = LlamaConfig(vocab_size=vocab_size,      # default is 32000\n",
    "                     hidden_size=hidden_size,\n",
    "                     intermediate_size=intermediate_size,\n",
    "                     num_hidden_layers=num_hidden_layers,\n",
    "                     num_attention_heads=num_attention_heads,\n",
    "                     num_key_value_heads=num_key_value_heads,\n",
    "                     )\n",
    "model_base = LlamaForCausalLM(config)\n",
    "model_base.config.pad_token_id = model_base.config.eos_token_id\n",
    "\n",
    "\n",
    "class ModelValueHead(torch.nn.Module):\n",
    "    def __init__(self, model):\n",
    "        super().__init__()\n",
    "        self.model = model\n",
    "        self.dropout = torch.nn.Dropout(0.05)\n",
    "        self.summary = torch.nn.Linear(model.config.hidden_size, 1)\n",
    "\n",
    "    def forward(self, xy):\n",
    "        hidden_states = model(**xy, output_hidden_states=True).hidden_states\n",
    "        last_hidden_states = hidden_states[-1]\n",
    "        # print(last_hidden_states.shape)\n",
    "        output = self.dropout(last_hidden_states)\n",
    "        output = self.summary(output)[:, :, 0]\n",
    "        return output\n",
    "\n",
    "\n",
    "def get_values(model, xy):\n",
    "    idx = {'input_ids': xy}\n",
    "    value = model(idx)\n",
    "    return value\n",
    "\n",
    "\n",
    "model_critic = ModelValueHead(model_base)\n",
    "\n",
    "print(xy)\n",
    "value = get_values(model_critic, xy)\n",
    "print(value)"
   ]
  },
  {
   "cell_type": "code",
   "execution_count": 15,
   "id": "1061431a-299b-4fd6-b828-f0131fd7f255",
   "metadata": {},
   "outputs": [],
   "source": [
    "class PPOModels():\n",
    "    def __init__(self, model_actor, model_ref, model_rm, model_critic):\n",
    "        self.actor = model_actor\n",
    "        self.ref = model_ref\n",
    "        self.rm = model_rm\n",
    "        self.critic = model_critic\n",
    "\n",
    "\n",
    "model_ref.eval()\n",
    "model_rm.eval()\n",
    "models = PPOModels(model, model_ref, model_rm, model_critic)"
   ]
  },
  {
   "cell_type": "markdown",
   "id": "793a7bd1-99ed-47ba-b098-9880037b792b",
   "metadata": {},
   "source": [
    "## PPO Pipeline"
   ]
  },
  {
   "cell_type": "code",
   "execution_count": 16,
   "id": "c63b8d9f-be8a-4d12-88ab-9ddd1baf430c",
   "metadata": {},
   "outputs": [],
   "source": [
    "def void_ppo_step(models, ppo_config, x, xy, rewards):\n",
    "    # just for show pipeline\n",
    "    return 0.1, 0.2"
   ]
  },
  {
   "cell_type": "code",
   "execution_count": 17,
   "id": "8bb1013c-2186-4825-9e17-4d307246592d",
   "metadata": {},
   "outputs": [
    {
     "data": {
      "text/html": [
       "<pre style=\"white-space:pre;overflow-x:auto;line-height:normal;font-family:Menlo,'DejaVu Sans Mono',consolas,'Courier New',monospace\"><span style=\"color: #800080; text-decoration-color: #800080; font-weight: bold\">tensor</span><span style=\"font-weight: bold\">([[</span> <span style=\"color: #008080; text-decoration-color: #008080; font-weight: bold\">7</span>, <span style=\"color: #008080; text-decoration-color: #008080; font-weight: bold\">17</span>,  <span style=\"color: #008080; text-decoration-color: #008080; font-weight: bold\">6</span>,  <span style=\"color: #008080; text-decoration-color: #008080; font-weight: bold\">1</span>, <span style=\"color: #008080; text-decoration-color: #008080; font-weight: bold\">11</span>, <span style=\"color: #008080; text-decoration-color: #008080; font-weight: bold\">28</span><span style=\"font-weight: bold\">]</span>,\n",
       "        <span style=\"font-weight: bold\">[</span><span style=\"color: #008080; text-decoration-color: #008080; font-weight: bold\">11</span>,  <span style=\"color: #008080; text-decoration-color: #008080; font-weight: bold\">5</span>, <span style=\"color: #008080; text-decoration-color: #008080; font-weight: bold\">30</span>, <span style=\"color: #008080; text-decoration-color: #008080; font-weight: bold\">22</span>, <span style=\"color: #008080; text-decoration-color: #008080; font-weight: bold\">18</span>,  <span style=\"color: #008080; text-decoration-color: #008080; font-weight: bold\">5</span><span style=\"font-weight: bold\">]])</span>\n",
       "</pre>\n"
      ],
      "text/plain": [
       "\u001b[1;35mtensor\u001b[0m\u001b[1m(\u001b[0m\u001b[1m[\u001b[0m\u001b[1m[\u001b[0m \u001b[1;36m7\u001b[0m, \u001b[1;36m17\u001b[0m,  \u001b[1;36m6\u001b[0m,  \u001b[1;36m1\u001b[0m, \u001b[1;36m11\u001b[0m, \u001b[1;36m28\u001b[0m\u001b[1m]\u001b[0m,\n",
       "        \u001b[1m[\u001b[0m\u001b[1;36m11\u001b[0m,  \u001b[1;36m5\u001b[0m, \u001b[1;36m30\u001b[0m, \u001b[1;36m22\u001b[0m, \u001b[1;36m18\u001b[0m,  \u001b[1;36m5\u001b[0m\u001b[1m]\u001b[0m\u001b[1m]\u001b[0m\u001b[1m)\u001b[0m\n"
      ]
     },
     "metadata": {},
     "output_type": "display_data"
    },
    {
     "name": "stderr",
     "output_type": "stream",
     "text": [
      "The attention mask and the pad token id were not set. As a consequence, you may observe unexpected behavior. Please pass your input's `attention_mask` to obtain reliable results.\n",
      "Setting `pad_token_id` to `eos_token_id`:2 for open-end generation.\n"
     ]
    },
    {
     "data": {
      "text/html": [
       "<pre style=\"white-space:pre;overflow-x:auto;line-height:normal;font-family:Menlo,'DejaVu Sans Mono',consolas,'Courier New',monospace\"><span style=\"color: #800080; text-decoration-color: #800080; font-weight: bold\">tensor</span><span style=\"font-weight: bold\">([[</span> <span style=\"color: #008080; text-decoration-color: #008080; font-weight: bold\">7</span>, <span style=\"color: #008080; text-decoration-color: #008080; font-weight: bold\">17</span>,  <span style=\"color: #008080; text-decoration-color: #008080; font-weight: bold\">6</span>,  <span style=\"color: #008080; text-decoration-color: #008080; font-weight: bold\">1</span>, <span style=\"color: #008080; text-decoration-color: #008080; font-weight: bold\">11</span>, <span style=\"color: #008080; text-decoration-color: #008080; font-weight: bold\">28</span>, <span style=\"color: #008080; text-decoration-color: #008080; font-weight: bold\">30</span>, <span style=\"color: #008080; text-decoration-color: #008080; font-weight: bold\">20</span>,  <span style=\"color: #008080; text-decoration-color: #008080; font-weight: bold\">6</span>, <span style=\"color: #008080; text-decoration-color: #008080; font-weight: bold\">30</span>,  <span style=\"color: #008080; text-decoration-color: #008080; font-weight: bold\">0</span><span style=\"font-weight: bold\">]</span>,\n",
       "        <span style=\"font-weight: bold\">[</span><span style=\"color: #008080; text-decoration-color: #008080; font-weight: bold\">11</span>,  <span style=\"color: #008080; text-decoration-color: #008080; font-weight: bold\">5</span>, <span style=\"color: #008080; text-decoration-color: #008080; font-weight: bold\">30</span>, <span style=\"color: #008080; text-decoration-color: #008080; font-weight: bold\">22</span>, <span style=\"color: #008080; text-decoration-color: #008080; font-weight: bold\">18</span>,  <span style=\"color: #008080; text-decoration-color: #008080; font-weight: bold\">5</span>, <span style=\"color: #008080; text-decoration-color: #008080; font-weight: bold\">26</span>, <span style=\"color: #008080; text-decoration-color: #008080; font-weight: bold\">26</span>, <span style=\"color: #008080; text-decoration-color: #008080; font-weight: bold\">26</span>, <span style=\"color: #008080; text-decoration-color: #008080; font-weight: bold\">26</span>,  <span style=\"color: #008080; text-decoration-color: #008080; font-weight: bold\">0</span><span style=\"font-weight: bold\">]])</span>\n",
       "</pre>\n"
      ],
      "text/plain": [
       "\u001b[1;35mtensor\u001b[0m\u001b[1m(\u001b[0m\u001b[1m[\u001b[0m\u001b[1m[\u001b[0m \u001b[1;36m7\u001b[0m, \u001b[1;36m17\u001b[0m,  \u001b[1;36m6\u001b[0m,  \u001b[1;36m1\u001b[0m, \u001b[1;36m11\u001b[0m, \u001b[1;36m28\u001b[0m, \u001b[1;36m30\u001b[0m, \u001b[1;36m20\u001b[0m,  \u001b[1;36m6\u001b[0m, \u001b[1;36m30\u001b[0m,  \u001b[1;36m0\u001b[0m\u001b[1m]\u001b[0m,\n",
       "        \u001b[1m[\u001b[0m\u001b[1;36m11\u001b[0m,  \u001b[1;36m5\u001b[0m, \u001b[1;36m30\u001b[0m, \u001b[1;36m22\u001b[0m, \u001b[1;36m18\u001b[0m,  \u001b[1;36m5\u001b[0m, \u001b[1;36m26\u001b[0m, \u001b[1;36m26\u001b[0m, \u001b[1;36m26\u001b[0m, \u001b[1;36m26\u001b[0m,  \u001b[1;36m0\u001b[0m\u001b[1m]\u001b[0m\u001b[1m]\u001b[0m\u001b[1m)\u001b[0m\n"
      ]
     },
     "metadata": {},
     "output_type": "display_data"
    },
    {
     "data": {
      "text/html": [
       "<pre style=\"white-space:pre;overflow-x:auto;line-height:normal;font-family:Menlo,'DejaVu Sans Mono',consolas,'Courier New',monospace\"><span style=\"color: #800080; text-decoration-color: #800080; font-weight: bold\">tensor</span><span style=\"font-weight: bold\">([[</span><span style=\"color: #008080; text-decoration-color: #008080; font-weight: bold\">0.4214</span><span style=\"font-weight: bold\">]</span>,\n",
       "        <span style=\"font-weight: bold\">[</span><span style=\"color: #008080; text-decoration-color: #008080; font-weight: bold\">0.7454</span><span style=\"font-weight: bold\">]]</span>, <span style=\"color: #808000; text-decoration-color: #808000\">grad_fn</span>=<span style=\"font-weight: bold\">&lt;</span><span style=\"color: #ff00ff; text-decoration-color: #ff00ff; font-weight: bold\">IndexBackward0</span><span style=\"font-weight: bold\">&gt;)</span>\n",
       "</pre>\n"
      ],
      "text/plain": [
       "\u001b[1;35mtensor\u001b[0m\u001b[1m(\u001b[0m\u001b[1m[\u001b[0m\u001b[1m[\u001b[0m\u001b[1;36m0.4214\u001b[0m\u001b[1m]\u001b[0m,\n",
       "        \u001b[1m[\u001b[0m\u001b[1;36m0.7454\u001b[0m\u001b[1m]\u001b[0m\u001b[1m]\u001b[0m, \u001b[33mgrad_fn\u001b[0m=\u001b[1m<\u001b[0m\u001b[1;95mIndexBackward0\u001b[0m\u001b[1m>\u001b[0m\u001b[1m)\u001b[0m\n"
      ]
     },
     "metadata": {},
     "output_type": "display_data"
    },
    {
     "data": {
      "text/html": [
       "<pre style=\"white-space:pre;overflow-x:auto;line-height:normal;font-family:Menlo,'DejaVu Sans Mono',consolas,'Courier New',monospace\"><span style=\"color: #800080; text-decoration-color: #800080; font-weight: bold\">tensor</span><span style=\"font-weight: bold\">([[</span> <span style=\"color: #008080; text-decoration-color: #008080; font-weight: bold\">7</span>, <span style=\"color: #008080; text-decoration-color: #008080; font-weight: bold\">17</span>,  <span style=\"color: #008080; text-decoration-color: #008080; font-weight: bold\">6</span>,  <span style=\"color: #008080; text-decoration-color: #008080; font-weight: bold\">1</span>, <span style=\"color: #008080; text-decoration-color: #008080; font-weight: bold\">11</span>, <span style=\"color: #008080; text-decoration-color: #008080; font-weight: bold\">28</span><span style=\"font-weight: bold\">]</span>,\n",
       "        <span style=\"font-weight: bold\">[</span><span style=\"color: #008080; text-decoration-color: #008080; font-weight: bold\">11</span>,  <span style=\"color: #008080; text-decoration-color: #008080; font-weight: bold\">5</span>, <span style=\"color: #008080; text-decoration-color: #008080; font-weight: bold\">30</span>, <span style=\"color: #008080; text-decoration-color: #008080; font-weight: bold\">22</span>, <span style=\"color: #008080; text-decoration-color: #008080; font-weight: bold\">18</span>,  <span style=\"color: #008080; text-decoration-color: #008080; font-weight: bold\">5</span><span style=\"font-weight: bold\">]])</span>\n",
       "</pre>\n"
      ],
      "text/plain": [
       "\u001b[1;35mtensor\u001b[0m\u001b[1m(\u001b[0m\u001b[1m[\u001b[0m\u001b[1m[\u001b[0m \u001b[1;36m7\u001b[0m, \u001b[1;36m17\u001b[0m,  \u001b[1;36m6\u001b[0m,  \u001b[1;36m1\u001b[0m, \u001b[1;36m11\u001b[0m, \u001b[1;36m28\u001b[0m\u001b[1m]\u001b[0m,\n",
       "        \u001b[1m[\u001b[0m\u001b[1;36m11\u001b[0m,  \u001b[1;36m5\u001b[0m, \u001b[1;36m30\u001b[0m, \u001b[1;36m22\u001b[0m, \u001b[1;36m18\u001b[0m,  \u001b[1;36m5\u001b[0m\u001b[1m]\u001b[0m\u001b[1m]\u001b[0m\u001b[1m)\u001b[0m\n"
      ]
     },
     "metadata": {},
     "output_type": "display_data"
    },
    {
     "name": "stderr",
     "output_type": "stream",
     "text": [
      "The attention mask and the pad token id were not set. As a consequence, you may observe unexpected behavior. Please pass your input's `attention_mask` to obtain reliable results.\n",
      "Setting `pad_token_id` to `eos_token_id`:2 for open-end generation.\n"
     ]
    },
    {
     "data": {
      "text/html": [
       "<pre style=\"white-space:pre;overflow-x:auto;line-height:normal;font-family:Menlo,'DejaVu Sans Mono',consolas,'Courier New',monospace\"><span style=\"color: #800080; text-decoration-color: #800080; font-weight: bold\">tensor</span><span style=\"font-weight: bold\">([[</span> <span style=\"color: #008080; text-decoration-color: #008080; font-weight: bold\">7</span>, <span style=\"color: #008080; text-decoration-color: #008080; font-weight: bold\">17</span>,  <span style=\"color: #008080; text-decoration-color: #008080; font-weight: bold\">6</span>,  <span style=\"color: #008080; text-decoration-color: #008080; font-weight: bold\">1</span>, <span style=\"color: #008080; text-decoration-color: #008080; font-weight: bold\">11</span>, <span style=\"color: #008080; text-decoration-color: #008080; font-weight: bold\">28</span>, <span style=\"color: #008080; text-decoration-color: #008080; font-weight: bold\">30</span>, <span style=\"color: #008080; text-decoration-color: #008080; font-weight: bold\">20</span>,  <span style=\"color: #008080; text-decoration-color: #008080; font-weight: bold\">6</span>, <span style=\"color: #008080; text-decoration-color: #008080; font-weight: bold\">30</span>,  <span style=\"color: #008080; text-decoration-color: #008080; font-weight: bold\">0</span><span style=\"font-weight: bold\">]</span>,\n",
       "        <span style=\"font-weight: bold\">[</span><span style=\"color: #008080; text-decoration-color: #008080; font-weight: bold\">11</span>,  <span style=\"color: #008080; text-decoration-color: #008080; font-weight: bold\">5</span>, <span style=\"color: #008080; text-decoration-color: #008080; font-weight: bold\">30</span>, <span style=\"color: #008080; text-decoration-color: #008080; font-weight: bold\">22</span>, <span style=\"color: #008080; text-decoration-color: #008080; font-weight: bold\">18</span>,  <span style=\"color: #008080; text-decoration-color: #008080; font-weight: bold\">5</span>, <span style=\"color: #008080; text-decoration-color: #008080; font-weight: bold\">26</span>, <span style=\"color: #008080; text-decoration-color: #008080; font-weight: bold\">26</span>, <span style=\"color: #008080; text-decoration-color: #008080; font-weight: bold\">26</span>, <span style=\"color: #008080; text-decoration-color: #008080; font-weight: bold\">26</span>,  <span style=\"color: #008080; text-decoration-color: #008080; font-weight: bold\">0</span><span style=\"font-weight: bold\">]])</span>\n",
       "</pre>\n"
      ],
      "text/plain": [
       "\u001b[1;35mtensor\u001b[0m\u001b[1m(\u001b[0m\u001b[1m[\u001b[0m\u001b[1m[\u001b[0m \u001b[1;36m7\u001b[0m, \u001b[1;36m17\u001b[0m,  \u001b[1;36m6\u001b[0m,  \u001b[1;36m1\u001b[0m, \u001b[1;36m11\u001b[0m, \u001b[1;36m28\u001b[0m, \u001b[1;36m30\u001b[0m, \u001b[1;36m20\u001b[0m,  \u001b[1;36m6\u001b[0m, \u001b[1;36m30\u001b[0m,  \u001b[1;36m0\u001b[0m\u001b[1m]\u001b[0m,\n",
       "        \u001b[1m[\u001b[0m\u001b[1;36m11\u001b[0m,  \u001b[1;36m5\u001b[0m, \u001b[1;36m30\u001b[0m, \u001b[1;36m22\u001b[0m, \u001b[1;36m18\u001b[0m,  \u001b[1;36m5\u001b[0m, \u001b[1;36m26\u001b[0m, \u001b[1;36m26\u001b[0m, \u001b[1;36m26\u001b[0m, \u001b[1;36m26\u001b[0m,  \u001b[1;36m0\u001b[0m\u001b[1m]\u001b[0m\u001b[1m]\u001b[0m\u001b[1m)\u001b[0m\n"
      ]
     },
     "metadata": {},
     "output_type": "display_data"
    },
    {
     "data": {
      "text/html": [
       "<pre style=\"white-space:pre;overflow-x:auto;line-height:normal;font-family:Menlo,'DejaVu Sans Mono',consolas,'Courier New',monospace\"><span style=\"color: #800080; text-decoration-color: #800080; font-weight: bold\">tensor</span><span style=\"font-weight: bold\">([[</span><span style=\"color: #008080; text-decoration-color: #008080; font-weight: bold\">0.4214</span><span style=\"font-weight: bold\">]</span>,\n",
       "        <span style=\"font-weight: bold\">[</span><span style=\"color: #008080; text-decoration-color: #008080; font-weight: bold\">0.7454</span><span style=\"font-weight: bold\">]]</span>, <span style=\"color: #808000; text-decoration-color: #808000\">grad_fn</span>=<span style=\"font-weight: bold\">&lt;</span><span style=\"color: #ff00ff; text-decoration-color: #ff00ff; font-weight: bold\">IndexBackward0</span><span style=\"font-weight: bold\">&gt;)</span>\n",
       "</pre>\n"
      ],
      "text/plain": [
       "\u001b[1;35mtensor\u001b[0m\u001b[1m(\u001b[0m\u001b[1m[\u001b[0m\u001b[1m[\u001b[0m\u001b[1;36m0.4214\u001b[0m\u001b[1m]\u001b[0m,\n",
       "        \u001b[1m[\u001b[0m\u001b[1;36m0.7454\u001b[0m\u001b[1m]\u001b[0m\u001b[1m]\u001b[0m, \u001b[33mgrad_fn\u001b[0m=\u001b[1m<\u001b[0m\u001b[1;95mIndexBackward0\u001b[0m\u001b[1m>\u001b[0m\u001b[1m)\u001b[0m\n"
      ]
     },
     "metadata": {},
     "output_type": "display_data"
    },
    {
     "data": {
      "text/html": [
       "<pre style=\"white-space:pre;overflow-x:auto;line-height:normal;font-family:Menlo,'DejaVu Sans Mono',consolas,'Courier New',monospace\"><span style=\"color: #008080; text-decoration-color: #008080; font-weight: bold\">0.1</span>\n",
       "</pre>\n"
      ],
      "text/plain": [
       "\u001b[1;36m0.1\u001b[0m\n"
      ]
     },
     "metadata": {},
     "output_type": "display_data"
    },
    {
     "data": {
      "text/html": [
       "<pre style=\"white-space:pre;overflow-x:auto;line-height:normal;font-family:Menlo,'DejaVu Sans Mono',consolas,'Courier New',monospace\"><span style=\"color: #008080; text-decoration-color: #008080; font-weight: bold\">0.2</span>\n",
       "</pre>\n"
      ],
      "text/plain": [
       "\u001b[1;36m0.2\u001b[0m\n"
      ]
     },
     "metadata": {},
     "output_type": "display_data"
    }
   ],
   "source": [
    "def ppo_train(models,\n",
    "              ppo_config,\n",
    "              ppo_step,\n",
    "              x):\n",
    "    for i in range(ppo_config.epochs):\n",
    "        # use dataloader get batch\n",
    "        print(x)\n",
    "        xy = get_generate(models.actor, x, max_new_tokens)\n",
    "        print(xy)\n",
    "        rewards = get_reward(models.rm, xy)\n",
    "        print(rewards)\n",
    "        loss, reward = ppo_step(models, ppo_config, x, xy, rewards)\n",
    "    return loss, reward\n",
    "\n",
    "\n",
    "loss, reward = ppo_train(models, ppo_config, void_ppo_step, x)\n",
    "print(loss)\n",
    "print(reward)"
   ]
  },
  {
   "cell_type": "markdown",
   "id": "623ddc4c-bd8c-4aa8-9836-f77132c566b5",
   "metadata": {},
   "source": [
    "## ppo_step pipeline"
   ]
  },
  {
   "cell_type": "markdown",
   "id": "877ff3d4-a085-44d6-b061-f00daf0d1e8e",
   "metadata": {},
   "source": [
    "1. make experience\n",
    "2. ppo_train"
   ]
  },
  {
   "cell_type": "markdown",
   "id": "e14e29d0-0f30-424b-928f-8be1963cd114",
   "metadata": {},
   "source": [
    "### define ppo experience dict"
   ]
  },
  {
   "cell_type": "code",
   "execution_count": 18,
   "id": "c9d2b264-7c24-495c-ae74-0bccf9bb01cb",
   "metadata": {},
   "outputs": [],
   "source": [
    "ppo_batchs = {\n",
    "    'prompt': None,\n",
    "    'sequence': None,\n",
    "    'mask': None,\n",
    "    'logprobs_ref': None,\n",
    "    'logprobs_old': None,\n",
    "    'logprobs': None,\n",
    "    'values_old': None,\n",
    "    'values': None,\n",
    "    'rewards': None,\n",
    "    'rewards_kl': None,\n",
    "    'loss': None,\n",
    "    'logits': None,\n",
    "}\n",
    "\n",
    "ppo_batchs['prompt'] = x\n",
    "ppo_batchs['sequence'] = xy\n",
    "ppo_batchs['mask'] = mask"
   ]
  },
  {
   "cell_type": "markdown",
   "id": "498a6381-d67b-46e0-b62d-4655dfc48e5b",
   "metadata": {},
   "source": [
    "### Forward Get Policy"
   ]
  },
  {
   "cell_type": "code",
   "execution_count": 19,
   "id": "958b94cb-ee08-4afe-bb07-42a7d11e6d7e",
   "metadata": {},
   "outputs": [
    {
     "data": {
      "text/html": [
       "<pre style=\"white-space:pre;overflow-x:auto;line-height:normal;font-family:Menlo,'DejaVu Sans Mono',consolas,'Courier New',monospace\">one of logits: <span style=\"color: #800080; text-decoration-color: #800080; font-weight: bold\">tensor</span><span style=\"font-weight: bold\">([[</span> <span style=\"color: #008080; text-decoration-color: #008080; font-weight: bold\">0.7250</span>, <span style=\"color: #008080; text-decoration-color: #008080; font-weight: bold\">-0.4507</span>,  <span style=\"color: #008080; text-decoration-color: #008080; font-weight: bold\">1.0910</span>, <span style=\"color: #008080; text-decoration-color: #008080; font-weight: bold\">-0.3271</span>, <span style=\"color: #008080; text-decoration-color: #008080; font-weight: bold\">-1.2161</span>, <span style=\"color: #008080; text-decoration-color: #008080; font-weight: bold\">-0.8386</span>, <span style=\"color: #008080; text-decoration-color: #008080; font-weight: bold\">-2.1642</span>, <span style=\"color: #008080; text-decoration-color: #008080; font-weight: bold\">-0.4984</span>,\n",
       "          <span style=\"color: #008080; text-decoration-color: #008080; font-weight: bold\">1.7428</span>,  <span style=\"color: #008080; text-decoration-color: #008080; font-weight: bold\">0.7939</span>, <span style=\"color: #008080; text-decoration-color: #008080; font-weight: bold\">-0.3338</span>,  <span style=\"color: #008080; text-decoration-color: #008080; font-weight: bold\">0.1734</span>, <span style=\"color: #008080; text-decoration-color: #008080; font-weight: bold\">-0.9755</span>,  <span style=\"color: #008080; text-decoration-color: #008080; font-weight: bold\">1.3061</span>,  <span style=\"color: #008080; text-decoration-color: #008080; font-weight: bold\">0.7058</span>, <span style=\"color: #008080; text-decoration-color: #008080; font-weight: bold\">-0.8236</span>,\n",
       "         <span style=\"color: #008080; text-decoration-color: #008080; font-weight: bold\">-0.0927</span>,  <span style=\"color: #008080; text-decoration-color: #008080; font-weight: bold\">0.2694</span>,  <span style=\"color: #008080; text-decoration-color: #008080; font-weight: bold\">1.0248</span>, <span style=\"color: #008080; text-decoration-color: #008080; font-weight: bold\">-0.3739</span>,  <span style=\"color: #008080; text-decoration-color: #008080; font-weight: bold\">0.5990</span>,  <span style=\"color: #008080; text-decoration-color: #008080; font-weight: bold\">0.2219</span>, <span style=\"color: #008080; text-decoration-color: #008080; font-weight: bold\">-1.8697</span>,  <span style=\"color: #008080; text-decoration-color: #008080; font-weight: bold\">1.4419</span>,\n",
       "          <span style=\"color: #008080; text-decoration-color: #008080; font-weight: bold\">0.1668</span>,  <span style=\"color: #008080; text-decoration-color: #008080; font-weight: bold\">0.1829</span>,  <span style=\"color: #008080; text-decoration-color: #008080; font-weight: bold\">0.2971</span>,  <span style=\"color: #008080; text-decoration-color: #008080; font-weight: bold\">1.3877</span>,  <span style=\"color: #008080; text-decoration-color: #008080; font-weight: bold\">2.6458</span>, <span style=\"color: #008080; text-decoration-color: #008080; font-weight: bold\">-0.5310</span>, <span style=\"color: #008080; text-decoration-color: #008080; font-weight: bold\">-1.2883</span>, <span style=\"color: #008080; text-decoration-color: #008080; font-weight: bold\">-0.4366</span><span style=\"font-weight: bold\">]])</span>\n",
       "</pre>\n"
      ],
      "text/plain": [
       "one of logits: \u001b[1;35mtensor\u001b[0m\u001b[1m(\u001b[0m\u001b[1m[\u001b[0m\u001b[1m[\u001b[0m \u001b[1;36m0.7250\u001b[0m, \u001b[1;36m-0.4507\u001b[0m,  \u001b[1;36m1.0910\u001b[0m, \u001b[1;36m-0.3271\u001b[0m, \u001b[1;36m-1.2161\u001b[0m, \u001b[1;36m-0.8386\u001b[0m, \u001b[1;36m-2.1642\u001b[0m, \u001b[1;36m-0.4984\u001b[0m,\n",
       "          \u001b[1;36m1.7428\u001b[0m,  \u001b[1;36m0.7939\u001b[0m, \u001b[1;36m-0.3338\u001b[0m,  \u001b[1;36m0.1734\u001b[0m, \u001b[1;36m-0.9755\u001b[0m,  \u001b[1;36m1.3061\u001b[0m,  \u001b[1;36m0.7058\u001b[0m, \u001b[1;36m-0.8236\u001b[0m,\n",
       "         \u001b[1;36m-0.0927\u001b[0m,  \u001b[1;36m0.2694\u001b[0m,  \u001b[1;36m1.0248\u001b[0m, \u001b[1;36m-0.3739\u001b[0m,  \u001b[1;36m0.5990\u001b[0m,  \u001b[1;36m0.2219\u001b[0m, \u001b[1;36m-1.8697\u001b[0m,  \u001b[1;36m1.4419\u001b[0m,\n",
       "          \u001b[1;36m0.1668\u001b[0m,  \u001b[1;36m0.1829\u001b[0m,  \u001b[1;36m0.2971\u001b[0m,  \u001b[1;36m1.3877\u001b[0m,  \u001b[1;36m2.6458\u001b[0m, \u001b[1;36m-0.5310\u001b[0m, \u001b[1;36m-1.2883\u001b[0m, \u001b[1;36m-0.4366\u001b[0m\u001b[1m]\u001b[0m\u001b[1m]\u001b[0m\u001b[1m)\u001b[0m\n"
      ]
     },
     "metadata": {},
     "output_type": "display_data"
    },
    {
     "data": {
      "text/html": [
       "<pre style=\"white-space:pre;overflow-x:auto;line-height:normal;font-family:Menlo,'DejaVu Sans Mono',consolas,'Courier New',monospace\">one of lobp: <span style=\"color: #800080; text-decoration-color: #800080; font-weight: bold\">tensor</span><span style=\"font-weight: bold\">([[</span><span style=\"color: #008080; text-decoration-color: #008080; font-weight: bold\">-3.3810</span>, <span style=\"color: #008080; text-decoration-color: #008080; font-weight: bold\">-4.5566</span>, <span style=\"color: #008080; text-decoration-color: #008080; font-weight: bold\">-3.0149</span>, <span style=\"color: #008080; text-decoration-color: #008080; font-weight: bold\">-4.4330</span>, <span style=\"color: #008080; text-decoration-color: #008080; font-weight: bold\">-5.3220</span>, <span style=\"color: #008080; text-decoration-color: #008080; font-weight: bold\">-4.9445</span>, <span style=\"color: #008080; text-decoration-color: #008080; font-weight: bold\">-6.2701</span>, <span style=\"color: #008080; text-decoration-color: #008080; font-weight: bold\">-4.6044</span>,\n",
       "         <span style=\"color: #008080; text-decoration-color: #008080; font-weight: bold\">-2.3632</span>, <span style=\"color: #008080; text-decoration-color: #008080; font-weight: bold\">-3.3121</span>, <span style=\"color: #008080; text-decoration-color: #008080; font-weight: bold\">-4.4397</span>, <span style=\"color: #008080; text-decoration-color: #008080; font-weight: bold\">-3.9325</span>, <span style=\"color: #008080; text-decoration-color: #008080; font-weight: bold\">-5.0814</span>, <span style=\"color: #008080; text-decoration-color: #008080; font-weight: bold\">-2.7999</span>, <span style=\"color: #008080; text-decoration-color: #008080; font-weight: bold\">-3.4001</span>, <span style=\"color: #008080; text-decoration-color: #008080; font-weight: bold\">-4.9296</span>,\n",
       "         <span style=\"color: #008080; text-decoration-color: #008080; font-weight: bold\">-4.1986</span>, <span style=\"color: #008080; text-decoration-color: #008080; font-weight: bold\">-3.8365</span>, <span style=\"color: #008080; text-decoration-color: #008080; font-weight: bold\">-3.0811</span>, <span style=\"color: #008080; text-decoration-color: #008080; font-weight: bold\">-4.4798</span>, <span style=\"color: #008080; text-decoration-color: #008080; font-weight: bold\">-3.5069</span>, <span style=\"color: #008080; text-decoration-color: #008080; font-weight: bold\">-3.8841</span>, <span style=\"color: #008080; text-decoration-color: #008080; font-weight: bold\">-5.9757</span>, <span style=\"color: #008080; text-decoration-color: #008080; font-weight: bold\">-2.6641</span>,\n",
       "         <span style=\"color: #008080; text-decoration-color: #008080; font-weight: bold\">-3.9392</span>, <span style=\"color: #008080; text-decoration-color: #008080; font-weight: bold\">-3.9230</span>, <span style=\"color: #008080; text-decoration-color: #008080; font-weight: bold\">-3.8089</span>, <span style=\"color: #008080; text-decoration-color: #008080; font-weight: bold\">-2.7182</span>, <span style=\"color: #008080; text-decoration-color: #008080; font-weight: bold\">-1.4601</span>, <span style=\"color: #008080; text-decoration-color: #008080; font-weight: bold\">-4.6370</span>, <span style=\"color: #008080; text-decoration-color: #008080; font-weight: bold\">-5.3942</span>, <span style=\"color: #008080; text-decoration-color: #008080; font-weight: bold\">-4.5426</span><span style=\"font-weight: bold\">]])</span>\n",
       "</pre>\n"
      ],
      "text/plain": [
       "one of lobp: \u001b[1;35mtensor\u001b[0m\u001b[1m(\u001b[0m\u001b[1m[\u001b[0m\u001b[1m[\u001b[0m\u001b[1;36m-3.3810\u001b[0m, \u001b[1;36m-4.5566\u001b[0m, \u001b[1;36m-3.0149\u001b[0m, \u001b[1;36m-4.4330\u001b[0m, \u001b[1;36m-5.3220\u001b[0m, \u001b[1;36m-4.9445\u001b[0m, \u001b[1;36m-6.2701\u001b[0m, \u001b[1;36m-4.6044\u001b[0m,\n",
       "         \u001b[1;36m-2.3632\u001b[0m, \u001b[1;36m-3.3121\u001b[0m, \u001b[1;36m-4.4397\u001b[0m, \u001b[1;36m-3.9325\u001b[0m, \u001b[1;36m-5.0814\u001b[0m, \u001b[1;36m-2.7999\u001b[0m, \u001b[1;36m-3.4001\u001b[0m, \u001b[1;36m-4.9296\u001b[0m,\n",
       "         \u001b[1;36m-4.1986\u001b[0m, \u001b[1;36m-3.8365\u001b[0m, \u001b[1;36m-3.0811\u001b[0m, \u001b[1;36m-4.4798\u001b[0m, \u001b[1;36m-3.5069\u001b[0m, \u001b[1;36m-3.8841\u001b[0m, \u001b[1;36m-5.9757\u001b[0m, \u001b[1;36m-2.6641\u001b[0m,\n",
       "         \u001b[1;36m-3.9392\u001b[0m, \u001b[1;36m-3.9230\u001b[0m, \u001b[1;36m-3.8089\u001b[0m, \u001b[1;36m-2.7182\u001b[0m, \u001b[1;36m-1.4601\u001b[0m, \u001b[1;36m-4.6370\u001b[0m, \u001b[1;36m-5.3942\u001b[0m, \u001b[1;36m-4.5426\u001b[0m\u001b[1m]\u001b[0m\u001b[1m]\u001b[0m\u001b[1m)\u001b[0m\n"
      ]
     },
     "metadata": {},
     "output_type": "display_data"
    },
    {
     "data": {
      "text/html": [
       "<pre style=\"white-space:pre;overflow-x:auto;line-height:normal;font-family:Menlo,'DejaVu Sans Mono',consolas,'Courier New',monospace\">logp get labels<span style=\"font-weight: bold\">[</span><span style=\"color: #008080; text-decoration-color: #008080; font-weight: bold\">-1</span><span style=\"font-weight: bold\">]</span> <span style=\"color: #800080; text-decoration-color: #800080; font-weight: bold\">tensor</span><span style=\"font-weight: bold\">([[</span><span style=\"color: #008080; text-decoration-color: #008080; font-weight: bold\">-5.3220</span><span style=\"font-weight: bold\">]])</span>\n",
       "</pre>\n"
      ],
      "text/plain": [
       "logp get labels\u001b[1m[\u001b[0m\u001b[1;36m-1\u001b[0m\u001b[1m]\u001b[0m \u001b[1;35mtensor\u001b[0m\u001b[1m(\u001b[0m\u001b[1m[\u001b[0m\u001b[1m[\u001b[0m\u001b[1;36m-5.3220\u001b[0m\u001b[1m]\u001b[0m\u001b[1m]\u001b[0m\u001b[1m)\u001b[0m\n"
      ]
     },
     "metadata": {},
     "output_type": "display_data"
    },
    {
     "data": {
      "text/html": [
       "<pre style=\"white-space:pre;overflow-x:auto;line-height:normal;font-family:Menlo,'DejaVu Sans Mono',consolas,'Courier New',monospace\">one of logpy: <span style=\"color: #800080; text-decoration-color: #800080; font-weight: bold\">tensor</span><span style=\"font-weight: bold\">([</span><span style=\"color: #008080; text-decoration-color: #008080; font-weight: bold\">-5.3220</span><span style=\"font-weight: bold\">])</span>\n",
       "</pre>\n"
      ],
      "text/plain": [
       "one of logpy: \u001b[1;35mtensor\u001b[0m\u001b[1m(\u001b[0m\u001b[1m[\u001b[0m\u001b[1;36m-5.3220\u001b[0m\u001b[1m]\u001b[0m\u001b[1m)\u001b[0m\n"
      ]
     },
     "metadata": {},
     "output_type": "display_data"
    }
   ],
   "source": [
    "def logprobs_from_logits(logits, labels, gather=True):\n",
    "    logp = F.log_softmax(logits, dim=2)\n",
    "    logpy = torch.gather(logp, 2, labels.unsqueeze(2)).squeeze(-1)\n",
    "    return logpy, logp\n",
    "\n",
    "\n",
    "# get policy\n",
    "logits = torch.randn(1, 5, vocab_size)\n",
    "labels = torch.tensor([[3, 2, 4, 3, 2]])\n",
    "logpy, logp = logprobs_from_logits(logits, labels)\n",
    "\n",
    "# get prob\n",
    "idx = 2\n",
    "print('one of logits:', logits[:, idx, :])\n",
    "print('one of lobp:', logp[:, idx, :])\n",
    "print('logp get labels[-1]', logp[:, idx, labels[:, idx]])\n",
    "print('one of logpy:', logpy[:, idx])"
   ]
  },
  {
   "cell_type": "code",
   "execution_count": 20,
   "id": "68c1f5a2-338f-46a1-93b8-540ac992255d",
   "metadata": {},
   "outputs": [
    {
     "data": {
      "text/html": [
       "<pre style=\"white-space:pre;overflow-x:auto;line-height:normal;font-family:Menlo,'DejaVu Sans Mono',consolas,'Courier New',monospace\"><span style=\"color: #800080; text-decoration-color: #800080; font-weight: bold\">tensor</span><span style=\"font-weight: bold\">([[</span> <span style=\"color: #008080; text-decoration-color: #008080; font-weight: bold\">3</span>,  <span style=\"color: #008080; text-decoration-color: #008080; font-weight: bold\">2</span>, <span style=\"color: #008080; text-decoration-color: #008080; font-weight: bold\">21</span>, <span style=\"color: #008080; text-decoration-color: #008080; font-weight: bold\">16</span>, <span style=\"color: #008080; text-decoration-color: #008080; font-weight: bold\">31</span>, <span style=\"color: #008080; text-decoration-color: #008080; font-weight: bold\">21</span>, <span style=\"color: #008080; text-decoration-color: #008080; font-weight: bold\">18</span>, <span style=\"color: #008080; text-decoration-color: #008080; font-weight: bold\">27</span>,  <span style=\"color: #008080; text-decoration-color: #008080; font-weight: bold\">8</span>, <span style=\"color: #008080; text-decoration-color: #008080; font-weight: bold\">11</span>,  <span style=\"color: #008080; text-decoration-color: #008080; font-weight: bold\">4</span><span style=\"font-weight: bold\">]</span>,\n",
       "        <span style=\"font-weight: bold\">[</span> <span style=\"color: #008080; text-decoration-color: #008080; font-weight: bold\">7</span>,  <span style=\"color: #008080; text-decoration-color: #008080; font-weight: bold\">3</span>, <span style=\"color: #008080; text-decoration-color: #008080; font-weight: bold\">11</span>, <span style=\"color: #008080; text-decoration-color: #008080; font-weight: bold\">27</span>, <span style=\"color: #008080; text-decoration-color: #008080; font-weight: bold\">13</span>,  <span style=\"color: #008080; text-decoration-color: #008080; font-weight: bold\">4</span>, <span style=\"color: #008080; text-decoration-color: #008080; font-weight: bold\">19</span>, <span style=\"color: #008080; text-decoration-color: #008080; font-weight: bold\">29</span>, <span style=\"color: #008080; text-decoration-color: #008080; font-weight: bold\">26</span>,  <span style=\"color: #008080; text-decoration-color: #008080; font-weight: bold\">3</span>, <span style=\"color: #008080; text-decoration-color: #008080; font-weight: bold\">23</span><span style=\"font-weight: bold\">]])</span>\n",
       "</pre>\n"
      ],
      "text/plain": [
       "\u001b[1;35mtensor\u001b[0m\u001b[1m(\u001b[0m\u001b[1m[\u001b[0m\u001b[1m[\u001b[0m \u001b[1;36m3\u001b[0m,  \u001b[1;36m2\u001b[0m, \u001b[1;36m21\u001b[0m, \u001b[1;36m16\u001b[0m, \u001b[1;36m31\u001b[0m, \u001b[1;36m21\u001b[0m, \u001b[1;36m18\u001b[0m, \u001b[1;36m27\u001b[0m,  \u001b[1;36m8\u001b[0m, \u001b[1;36m11\u001b[0m,  \u001b[1;36m4\u001b[0m\u001b[1m]\u001b[0m,\n",
       "        \u001b[1m[\u001b[0m \u001b[1;36m7\u001b[0m,  \u001b[1;36m3\u001b[0m, \u001b[1;36m11\u001b[0m, \u001b[1;36m27\u001b[0m, \u001b[1;36m13\u001b[0m,  \u001b[1;36m4\u001b[0m, \u001b[1;36m19\u001b[0m, \u001b[1;36m29\u001b[0m, \u001b[1;36m26\u001b[0m,  \u001b[1;36m3\u001b[0m, \u001b[1;36m23\u001b[0m\u001b[1m]\u001b[0m\u001b[1m]\u001b[0m\u001b[1m)\u001b[0m\n"
      ]
     },
     "metadata": {},
     "output_type": "display_data"
    },
    {
     "data": {
      "text/html": [
       "<pre style=\"white-space:pre;overflow-x:auto;line-height:normal;font-family:Menlo,'DejaVu Sans Mono',consolas,'Courier New',monospace\"><span style=\"color: #800080; text-decoration-color: #800080; font-weight: bold\">torch.Size</span><span style=\"font-weight: bold\">([</span><span style=\"color: #008080; text-decoration-color: #008080; font-weight: bold\">2</span>, <span style=\"color: #008080; text-decoration-color: #008080; font-weight: bold\">11</span>, <span style=\"color: #008080; text-decoration-color: #008080; font-weight: bold\">32</span><span style=\"font-weight: bold\">])</span>\n",
       "</pre>\n"
      ],
      "text/plain": [
       "\u001b[1;35mtorch.Size\u001b[0m\u001b[1m(\u001b[0m\u001b[1m[\u001b[0m\u001b[1;36m2\u001b[0m, \u001b[1;36m11\u001b[0m, \u001b[1;36m32\u001b[0m\u001b[1m]\u001b[0m\u001b[1m)\u001b[0m\n"
      ]
     },
     "metadata": {},
     "output_type": "display_data"
    },
    {
     "data": {
      "text/html": [
       "<pre style=\"white-space:pre;overflow-x:auto;line-height:normal;font-family:Menlo,'DejaVu Sans Mono',consolas,'Courier New',monospace\"><span style=\"color: #800080; text-decoration-color: #800080; font-weight: bold\">torch.Size</span><span style=\"font-weight: bold\">([</span><span style=\"color: #008080; text-decoration-color: #008080; font-weight: bold\">2</span>, <span style=\"color: #008080; text-decoration-color: #008080; font-weight: bold\">11</span><span style=\"font-weight: bold\">])</span>\n",
       "</pre>\n"
      ],
      "text/plain": [
       "\u001b[1;35mtorch.Size\u001b[0m\u001b[1m(\u001b[0m\u001b[1m[\u001b[0m\u001b[1;36m2\u001b[0m, \u001b[1;36m11\u001b[0m\u001b[1m]\u001b[0m\u001b[1m)\u001b[0m\n"
      ]
     },
     "metadata": {},
     "output_type": "display_data"
    }
   ],
   "source": [
    "def get_logits(model, xy):\n",
    "    idx = {'input_ids': xy}  # ignore mask\n",
    "    logits = model(**idx).logits\n",
    "    return logits\n",
    "\n",
    "\n",
    "print(xy)\n",
    "logits = get_logits(models.actor, xy)\n",
    "print(logits.shape)\n",
    "probs, _ = logprobs_from_logits(logits, xy, True)\n",
    "print(probs.shape)"
   ]
  },
  {
   "cell_type": "markdown",
   "id": "cc4f90d0-5580-4c40-957c-a84ccac74e89",
   "metadata": {},
   "source": [
    "### PPO Forward Code"
   ]
  },
  {
   "cell_type": "code",
   "execution_count": 21,
   "id": "2e3de883-692a-47a5-bf19-5606ff9057cb",
   "metadata": {},
   "outputs": [
    {
     "data": {
      "text/html": [
       "<pre style=\"white-space:pre;overflow-x:auto;line-height:normal;font-family:Menlo,'DejaVu Sans Mono',consolas,'Courier New',monospace\"><span style=\"color: #800080; text-decoration-color: #800080; font-weight: bold\">torch.Size</span><span style=\"font-weight: bold\">([</span><span style=\"color: #008080; text-decoration-color: #008080; font-weight: bold\">2</span>, <span style=\"color: #008080; text-decoration-color: #008080; font-weight: bold\">11</span><span style=\"font-weight: bold\">])</span>\n",
       "</pre>\n"
      ],
      "text/plain": [
       "\u001b[1;35mtorch.Size\u001b[0m\u001b[1m(\u001b[0m\u001b[1m[\u001b[0m\u001b[1;36m2\u001b[0m, \u001b[1;36m11\u001b[0m\u001b[1m]\u001b[0m\u001b[1m)\u001b[0m\n"
      ]
     },
     "metadata": {},
     "output_type": "display_data"
    },
    {
     "data": {
      "text/html": [
       "<pre style=\"white-space:pre;overflow-x:auto;line-height:normal;font-family:Menlo,'DejaVu Sans Mono',consolas,'Courier New',monospace\"><span style=\"color: #800080; text-decoration-color: #800080; font-weight: bold\">torch.Size</span><span style=\"font-weight: bold\">([</span><span style=\"color: #008080; text-decoration-color: #008080; font-weight: bold\">2</span>, <span style=\"color: #008080; text-decoration-color: #008080; font-weight: bold\">11</span><span style=\"font-weight: bold\">])</span>\n",
       "</pre>\n"
      ],
      "text/plain": [
       "\u001b[1;35mtorch.Size\u001b[0m\u001b[1m(\u001b[0m\u001b[1m[\u001b[0m\u001b[1;36m2\u001b[0m, \u001b[1;36m11\u001b[0m\u001b[1m]\u001b[0m\u001b[1m)\u001b[0m\n"
      ]
     },
     "metadata": {},
     "output_type": "display_data"
    },
    {
     "data": {
      "text/html": [
       "<pre style=\"white-space:pre;overflow-x:auto;line-height:normal;font-family:Menlo,'DejaVu Sans Mono',consolas,'Courier New',monospace\"><span style=\"color: #800080; text-decoration-color: #800080; font-weight: bold\">torch.Size</span><span style=\"font-weight: bold\">([</span><span style=\"color: #008080; text-decoration-color: #008080; font-weight: bold\">2</span>, <span style=\"color: #008080; text-decoration-color: #008080; font-weight: bold\">11</span><span style=\"font-weight: bold\">])</span>\n",
       "</pre>\n"
      ],
      "text/plain": [
       "\u001b[1;35mtorch.Size\u001b[0m\u001b[1m(\u001b[0m\u001b[1m[\u001b[0m\u001b[1;36m2\u001b[0m, \u001b[1;36m11\u001b[0m\u001b[1m]\u001b[0m\u001b[1m)\u001b[0m\n"
      ]
     },
     "metadata": {},
     "output_type": "display_data"
    }
   ],
   "source": [
    "def batch_forward(model_policy, model_value, xy):\n",
    "    logits = get_logits(model_policy, xy)\n",
    "    logprobs, _ = logprobs_from_logits(logits, xy, True)\n",
    "    values = None\n",
    "    if model_value != None:\n",
    "        values = get_values(model_value, xy)\n",
    "    return logprobs, values, logits\n",
    "\n",
    "\n",
    "with torch.no_grad():\n",
    "    logprobs_ref, _, _ = batch_forward(models.ref, None, xy)\n",
    "logprobs_old, values_old, _ = batch_forward(models.actor, models.critic, xy)\n",
    "\n",
    "print(logprobs_ref.shape)\n",
    "print(logprobs_old.shape)\n",
    "print(values_old.shape)\n",
    "\n",
    "ppo_batchs['logprobs_ref'] = logprobs_ref\n",
    "ppo_batchs['logprobs_old'] = logprobs_old\n",
    "ppo_batchs['values_old'] = values_old"
   ]
  },
  {
   "cell_type": "markdown",
   "id": "0a7817ff-9141-4c21-8ff3-2c0b952e268f",
   "metadata": {},
   "source": [
    "### reward with KL"
   ]
  },
  {
   "cell_type": "code",
   "execution_count": 33,
   "id": "f86f8717-850a-449e-b2b6-63d9cab56ca6",
   "metadata": {},
   "outputs": [
    {
     "data": {
      "text/html": [
       "<pre style=\"white-space:pre;overflow-x:auto;line-height:normal;font-family:Menlo,'DejaVu Sans Mono',consolas,'Courier New',monospace\">only kl\n",
       "</pre>\n"
      ],
      "text/plain": [
       "only kl\n"
      ]
     },
     "metadata": {},
     "output_type": "display_data"
    },
    {
     "data": {
      "text/html": [
       "<pre style=\"white-space:pre;overflow-x:auto;line-height:normal;font-family:Menlo,'DejaVu Sans Mono',consolas,'Courier New',monospace\"><span style=\"color: #800080; text-decoration-color: #800080; font-weight: bold\">tensor</span><span style=\"font-weight: bold\">([</span><span style=\"color: #008080; text-decoration-color: #008080; font-weight: bold\">-0.0011</span>, <span style=\"color: #008080; text-decoration-color: #008080; font-weight: bold\">-0.0009</span>,  <span style=\"color: #008080; text-decoration-color: #008080; font-weight: bold\">0.0033</span>, <span style=\"color: #008080; text-decoration-color: #008080; font-weight: bold\">-0.0012</span>,  <span style=\"color: #008080; text-decoration-color: #008080; font-weight: bold\">0.0006</span>,  <span style=\"color: #008080; text-decoration-color: #008080; font-weight: bold\">0.0029</span>,  <span style=\"color: #008080; text-decoration-color: #008080; font-weight: bold\">0.0013</span>, <span style=\"color: #008080; text-decoration-color: #008080; font-weight: bold\">-0.0078</span>,\n",
       "        <span style=\"color: #008080; text-decoration-color: #008080; font-weight: bold\">-0.0012</span>, <span style=\"color: #008080; text-decoration-color: #008080; font-weight: bold\">-0.0053</span>, <span style=\"color: #008080; text-decoration-color: #008080; font-weight: bold\">-0.0019</span><span style=\"font-weight: bold\">]</span>, <span style=\"color: #808000; text-decoration-color: #808000\">grad_fn</span>=<span style=\"font-weight: bold\">&lt;</span><span style=\"color: #ff00ff; text-decoration-color: #ff00ff; font-weight: bold\">SliceBackward0</span><span style=\"font-weight: bold\">&gt;)</span>\n",
       "</pre>\n"
      ],
      "text/plain": [
       "\u001b[1;35mtensor\u001b[0m\u001b[1m(\u001b[0m\u001b[1m[\u001b[0m\u001b[1;36m-0.0011\u001b[0m, \u001b[1;36m-0.0009\u001b[0m,  \u001b[1;36m0.0033\u001b[0m, \u001b[1;36m-0.0012\u001b[0m,  \u001b[1;36m0.0006\u001b[0m,  \u001b[1;36m0.0029\u001b[0m,  \u001b[1;36m0.0013\u001b[0m, \u001b[1;36m-0.0078\u001b[0m,\n",
       "        \u001b[1;36m-0.0012\u001b[0m, \u001b[1;36m-0.0053\u001b[0m, \u001b[1;36m-0.0019\u001b[0m\u001b[1m]\u001b[0m, \u001b[33mgrad_fn\u001b[0m=\u001b[1m<\u001b[0m\u001b[1;95mSliceBackward0\u001b[0m\u001b[1m>\u001b[0m\u001b[1m)\u001b[0m\n"
      ]
     },
     "metadata": {},
     "output_type": "display_data"
    },
    {
     "data": {
      "text/html": [
       "<pre style=\"white-space:pre;overflow-x:auto;line-height:normal;font-family:Menlo,'DejaVu Sans Mono',consolas,'Courier New',monospace\"><span style=\"color: #800080; text-decoration-color: #800080; font-weight: bold\">tensor</span><span style=\"font-weight: bold\">(</span><span style=\"color: #008080; text-decoration-color: #008080; font-weight: bold\">-0.0019</span>, <span style=\"color: #808000; text-decoration-color: #808000\">grad_fn</span>=<span style=\"font-weight: bold\">&lt;</span><span style=\"color: #ff00ff; text-decoration-color: #ff00ff; font-weight: bold\">SelectBackward0</span><span style=\"font-weight: bold\">&gt;)</span>\n",
       "</pre>\n"
      ],
      "text/plain": [
       "\u001b[1;35mtensor\u001b[0m\u001b[1m(\u001b[0m\u001b[1;36m-0.0019\u001b[0m, \u001b[33mgrad_fn\u001b[0m=\u001b[1m<\u001b[0m\u001b[1;95mSelectBackward0\u001b[0m\u001b[1m>\u001b[0m\u001b[1m)\u001b[0m\n"
      ]
     },
     "metadata": {},
     "output_type": "display_data"
    },
    {
     "data": {
      "text/html": [
       "<pre style=\"white-space:pre;overflow-x:auto;line-height:normal;font-family:Menlo,'DejaVu Sans Mono',consolas,'Courier New',monospace\">reward with kl\n",
       "</pre>\n"
      ],
      "text/plain": [
       "reward with kl\n"
      ]
     },
     "metadata": {},
     "output_type": "display_data"
    },
    {
     "data": {
      "text/html": [
       "<pre style=\"white-space:pre;overflow-x:auto;line-height:normal;font-family:Menlo,'DejaVu Sans Mono',consolas,'Courier New',monospace\"><span style=\"color: #800080; text-decoration-color: #800080; font-weight: bold\">tensor</span><span style=\"font-weight: bold\">([</span><span style=\"color: #008080; text-decoration-color: #008080; font-weight: bold\">-1.0923e-03</span>, <span style=\"color: #008080; text-decoration-color: #008080; font-weight: bold\">-8.7936e-04</span>,  <span style=\"color: #008080; text-decoration-color: #008080; font-weight: bold\">3.2610e-03</span>, <span style=\"color: #008080; text-decoration-color: #008080; font-weight: bold\">-1.2097e-03</span>,  <span style=\"color: #008080; text-decoration-color: #008080; font-weight: bold\">6.1776e-04</span>,\n",
       "         <span style=\"color: #008080; text-decoration-color: #008080; font-weight: bold\">2.8765e-03</span>,  <span style=\"color: #008080; text-decoration-color: #008080; font-weight: bold\">1.2557e-03</span>, <span style=\"color: #008080; text-decoration-color: #008080; font-weight: bold\">-7.8435e-03</span>, <span style=\"color: #008080; text-decoration-color: #008080; font-weight: bold\">-1.1751e-03</span>, <span style=\"color: #008080; text-decoration-color: #008080; font-weight: bold\">-5.2777e-03</span>,\n",
       "         <span style=\"color: #008080; text-decoration-color: #008080; font-weight: bold\">1.0046e+02</span><span style=\"font-weight: bold\">]</span>, <span style=\"color: #808000; text-decoration-color: #808000\">grad_fn</span>=<span style=\"font-weight: bold\">&lt;</span><span style=\"color: #ff00ff; text-decoration-color: #ff00ff; font-weight: bold\">SliceBackward0</span><span style=\"font-weight: bold\">&gt;)</span>\n",
       "</pre>\n"
      ],
      "text/plain": [
       "\u001b[1;35mtensor\u001b[0m\u001b[1m(\u001b[0m\u001b[1m[\u001b[0m\u001b[1;36m-1.0923e-03\u001b[0m, \u001b[1;36m-8.7936e-04\u001b[0m,  \u001b[1;36m3.2610e-03\u001b[0m, \u001b[1;36m-1.2097e-03\u001b[0m,  \u001b[1;36m6.1776e-04\u001b[0m,\n",
       "         \u001b[1;36m2.8765e-03\u001b[0m,  \u001b[1;36m1.2557e-03\u001b[0m, \u001b[1;36m-7.8435e-03\u001b[0m, \u001b[1;36m-1.1751e-03\u001b[0m, \u001b[1;36m-5.2777e-03\u001b[0m,\n",
       "         \u001b[1;36m1.0046e+02\u001b[0m\u001b[1m]\u001b[0m, \u001b[33mgrad_fn\u001b[0m=\u001b[1m<\u001b[0m\u001b[1;95mSliceBackward0\u001b[0m\u001b[1m>\u001b[0m\u001b[1m)\u001b[0m\n"
      ]
     },
     "metadata": {},
     "output_type": "display_data"
    },
    {
     "data": {
      "text/html": [
       "<pre style=\"white-space:pre;overflow-x:auto;line-height:normal;font-family:Menlo,'DejaVu Sans Mono',consolas,'Courier New',monospace\"><span style=\"color: #800080; text-decoration-color: #800080; font-weight: bold\">tensor</span><span style=\"font-weight: bold\">(</span><span style=\"color: #008080; text-decoration-color: #008080; font-weight: bold\">100.4612</span>, <span style=\"color: #808000; text-decoration-color: #808000\">grad_fn</span>=<span style=\"font-weight: bold\">&lt;</span><span style=\"color: #ff00ff; text-decoration-color: #ff00ff; font-weight: bold\">SelectBackward0</span><span style=\"font-weight: bold\">&gt;)</span>\n",
       "</pre>\n"
      ],
      "text/plain": [
       "\u001b[1;35mtensor\u001b[0m\u001b[1m(\u001b[0m\u001b[1;36m100.4612\u001b[0m, \u001b[33mgrad_fn\u001b[0m=\u001b[1m<\u001b[0m\u001b[1;95mSelectBackward0\u001b[0m\u001b[1m>\u001b[0m\u001b[1m)\u001b[0m\n"
      ]
     },
     "metadata": {},
     "output_type": "display_data"
    },
    {
     "data": {
      "text/html": [
       "<pre style=\"white-space:pre;overflow-x:auto;line-height:normal;font-family:Menlo,'DejaVu Sans Mono',consolas,'Courier New',monospace\">compute rewards with kl for PPO\n",
       "</pre>\n"
      ],
      "text/plain": [
       "compute rewards with kl for PPO\n"
      ]
     },
     "metadata": {},
     "output_type": "display_data"
    },
    {
     "data": {
      "text/html": [
       "<pre style=\"white-space:pre;overflow-x:auto;line-height:normal;font-family:Menlo,'DejaVu Sans Mono',consolas,'Courier New',monospace\"><span style=\"color: #800080; text-decoration-color: #800080; font-weight: bold\">tensor</span><span style=\"font-weight: bold\">([[</span><span style=\"color: #008080; text-decoration-color: #008080; font-weight: bold\">-0.0011</span>, <span style=\"color: #008080; text-decoration-color: #008080; font-weight: bold\">-0.0009</span>,  <span style=\"color: #008080; text-decoration-color: #008080; font-weight: bold\">0.0033</span>, <span style=\"color: #008080; text-decoration-color: #008080; font-weight: bold\">-0.0012</span>,  <span style=\"color: #008080; text-decoration-color: #008080; font-weight: bold\">0.0006</span>,  <span style=\"color: #008080; text-decoration-color: #008080; font-weight: bold\">0.0029</span>,  <span style=\"color: #008080; text-decoration-color: #008080; font-weight: bold\">0.0013</span>, <span style=\"color: #008080; text-decoration-color: #008080; font-weight: bold\">-0.0078</span>,\n",
       "         <span style=\"color: #008080; text-decoration-color: #008080; font-weight: bold\">-0.0012</span>, <span style=\"color: #008080; text-decoration-color: #008080; font-weight: bold\">-0.0053</span>, <span style=\"color: #008080; text-decoration-color: #008080; font-weight: bold\">-0.0030</span><span style=\"font-weight: bold\">]</span>,\n",
       "        <span style=\"font-weight: bold\">[</span> <span style=\"color: #008080; text-decoration-color: #008080; font-weight: bold\">0.0038</span>,  <span style=\"color: #008080; text-decoration-color: #008080; font-weight: bold\">0.0049</span>, <span style=\"color: #008080; text-decoration-color: #008080; font-weight: bold\">-0.0026</span>, <span style=\"color: #008080; text-decoration-color: #008080; font-weight: bold\">-0.0017</span>, <span style=\"color: #008080; text-decoration-color: #008080; font-weight: bold\">-0.0022</span>,  <span style=\"color: #008080; text-decoration-color: #008080; font-weight: bold\">0.0016</span>, <span style=\"color: #008080; text-decoration-color: #008080; font-weight: bold\">-0.0026</span>,  <span style=\"color: #008080; text-decoration-color: #008080; font-weight: bold\">0.0027</span>,\n",
       "         <span style=\"color: #008080; text-decoration-color: #008080; font-weight: bold\">-0.0014</span>,  <span style=\"color: #008080; text-decoration-color: #008080; font-weight: bold\">0.0050</span>,  <span style=\"color: #008080; text-decoration-color: #008080; font-weight: bold\">0.0040</span><span style=\"font-weight: bold\">]]</span>, <span style=\"color: #808000; text-decoration-color: #808000\">grad_fn</span>=<span style=\"font-weight: bold\">&lt;</span><span style=\"color: #ff00ff; text-decoration-color: #ff00ff; font-weight: bold\">CopySlices</span><span style=\"font-weight: bold\">&gt;)</span>\n",
       "</pre>\n"
      ],
      "text/plain": [
       "\u001b[1;35mtensor\u001b[0m\u001b[1m(\u001b[0m\u001b[1m[\u001b[0m\u001b[1m[\u001b[0m\u001b[1;36m-0.0011\u001b[0m, \u001b[1;36m-0.0009\u001b[0m,  \u001b[1;36m0.0033\u001b[0m, \u001b[1;36m-0.0012\u001b[0m,  \u001b[1;36m0.0006\u001b[0m,  \u001b[1;36m0.0029\u001b[0m,  \u001b[1;36m0.0013\u001b[0m, \u001b[1;36m-0.0078\u001b[0m,\n",
       "         \u001b[1;36m-0.0012\u001b[0m, \u001b[1;36m-0.0053\u001b[0m, \u001b[1;36m-0.0030\u001b[0m\u001b[1m]\u001b[0m,\n",
       "        \u001b[1m[\u001b[0m \u001b[1;36m0.0038\u001b[0m,  \u001b[1;36m0.0049\u001b[0m, \u001b[1;36m-0.0026\u001b[0m, \u001b[1;36m-0.0017\u001b[0m, \u001b[1;36m-0.0022\u001b[0m,  \u001b[1;36m0.0016\u001b[0m, \u001b[1;36m-0.0026\u001b[0m,  \u001b[1;36m0.0027\u001b[0m,\n",
       "         \u001b[1;36m-0.0014\u001b[0m,  \u001b[1;36m0.0050\u001b[0m,  \u001b[1;36m0.0040\u001b[0m\u001b[1m]\u001b[0m\u001b[1m]\u001b[0m, \u001b[33mgrad_fn\u001b[0m=\u001b[1m<\u001b[0m\u001b[1;95mCopySlices\u001b[0m\u001b[1m>\u001b[0m\u001b[1m)\u001b[0m\n"
      ]
     },
     "metadata": {},
     "output_type": "display_data"
    }
   ],
   "source": [
    "def compute_rewards_kl(\n",
    "    reward,\n",
    "    ref_logprobs,\n",
    "    old_logprobs,\n",
    "    kl_ctl,\n",
    "):\n",
    "    kl = logprobs_old[:, :] - logprobs_ref[:, :]\n",
    "    kl_reward = -kl_ctl * kl\n",
    "    kl_reward[:, -1] += reward[:, 0]\n",
    "    return kl_reward\n",
    "\n",
    "\n",
    "kl_ctl = 0.01\n",
    "score = 100.0  # obeserver the value\n",
    "kl = logprobs_old - logprobs_ref\n",
    "reward = -kl_ctl * kl\n",
    "print('only kl')\n",
    "print(reward[0, :])\n",
    "print(reward[0, -1])\n",
    "print('reward with kl')\n",
    "reward[:, -1] += (rm_xy[:, 0] + score)\n",
    "print(reward[0, :])\n",
    "print(reward[0, -1])\n",
    "\n",
    "print('compute rewards with kl for PPO')\n",
    "rm_xy = torch.randn(2, 1)\n",
    "reward_kl = compute_rewards_kl(rm_xy, logprobs_ref, logprobs_old, 0.01)\n",
    "print(reward_kl)\n",
    "ppo_batchs['rewards'] = rm_xy\n",
    "ppo_batchs['rewards_kl'] = reward_kl"
   ]
  },
  {
   "cell_type": "markdown",
   "id": "c9992e03-a6c4-4050-bf23-d8c605a7855a",
   "metadata": {},
   "source": [
    "about reward tips\n",
    "\n",
    "pad token id = 1\n",
    "\n",
    "input :\n",
    "\n",
    "x1 : 3, 4, 6, 8, 20, 29, 30, 2\n",
    "\n",
    "x2 : 8, 2, 6, 9, 13, 2,  1, 1\n",
    "\n",
    "x1 mask:\n",
    "\n",
    "x1 : 1, 1, 1, 1, 1,  1,  1,  1\n",
    "\n",
    "x2 mask:\n",
    "\n",
    "x1 : 1, 1, 1, 1, 1,  1,  0,  0\n",
    "\n",
    "KL+rewards\n",
    "\n",
    "x1 : 1, 1, 1, 1, 1,  1,  1,  [1]+rewards\n",
    "\n",
    "x1 : 1, 1, 1, 1, 1,  [1]+rewards,  0,  0"
   ]
  },
  {
   "cell_type": "markdown",
   "id": "10868bed-84ec-49bf-bdd1-f327ba8d7b34",
   "metadata": {},
   "source": [
    "### data before ppo_train"
   ]
  },
  {
   "cell_type": "code",
   "execution_count": 34,
   "id": "00e0f7a5-560d-4b19-b5ff-23fc674676fb",
   "metadata": {},
   "outputs": [
    {
     "data": {
      "text/html": [
       "<pre style=\"white-space:pre;overflow-x:auto;line-height:normal;font-family:Menlo,'DejaVu Sans Mono',consolas,'Courier New',monospace\"></pre>\n"
      ],
      "text/plain": []
     },
     "metadata": {},
     "output_type": "display_data"
    },
    {
     "data": {
      "text/plain": [
       "\n",
       "\u001b[1m{\u001b[0m\n",
       "\u001b[2;32m│   \u001b[0m\u001b[32m'prompt'\u001b[0m: \u001b[1;35mtensor\u001b[0m\u001b[1m(\u001b[0m\u001b[1m[\u001b[0m\u001b[1m[\u001b[0m \u001b[1;36m7\u001b[0m, \u001b[1;36m17\u001b[0m,  \u001b[1;36m6\u001b[0m,  \u001b[1;36m1\u001b[0m, \u001b[1;36m11\u001b[0m, \u001b[1;36m28\u001b[0m\u001b[1m]\u001b[0m,\n",
       "\u001b[2;32m│   │   \u001b[0m\u001b[1m[\u001b[0m\u001b[1;36m11\u001b[0m,  \u001b[1;36m5\u001b[0m, \u001b[1;36m30\u001b[0m, \u001b[1;36m22\u001b[0m, \u001b[1;36m18\u001b[0m,  \u001b[1;36m5\u001b[0m\u001b[1m]\u001b[0m\u001b[1m]\u001b[0m\u001b[1m)\u001b[0m,\n",
       "\u001b[2;32m│   \u001b[0m\u001b[32m'sequence'\u001b[0m: \u001b[1;35mtensor\u001b[0m\u001b[1m(\u001b[0m\u001b[1m[\u001b[0m\u001b[1m[\u001b[0m \u001b[1;36m3\u001b[0m,  \u001b[1;36m2\u001b[0m, \u001b[1;36m21\u001b[0m, \u001b[1;36m16\u001b[0m, \u001b[1;36m31\u001b[0m, \u001b[1;36m21\u001b[0m, \u001b[1;36m18\u001b[0m, \u001b[1;36m27\u001b[0m,  \u001b[1;36m8\u001b[0m, \u001b[1;36m11\u001b[0m,  \u001b[1;36m4\u001b[0m\u001b[1m]\u001b[0m,\n",
       "\u001b[2;32m│   │   \u001b[0m\u001b[1m[\u001b[0m \u001b[1;36m7\u001b[0m,  \u001b[1;36m3\u001b[0m, \u001b[1;36m11\u001b[0m, \u001b[1;36m27\u001b[0m, \u001b[1;36m13\u001b[0m,  \u001b[1;36m4\u001b[0m, \u001b[1;36m19\u001b[0m, \u001b[1;36m29\u001b[0m, \u001b[1;36m26\u001b[0m,  \u001b[1;36m3\u001b[0m, \u001b[1;36m23\u001b[0m\u001b[1m]\u001b[0m\u001b[1m]\u001b[0m\u001b[1m)\u001b[0m,\n",
       "\u001b[2;32m│   \u001b[0m\u001b[32m'mask'\u001b[0m: \u001b[1;35mtensor\u001b[0m\u001b[1m(\u001b[0m\u001b[1m[\u001b[0m\u001b[1m[\u001b[0m\u001b[1;36m0\u001b[0m., \u001b[1;36m0\u001b[0m., \u001b[1;36m0\u001b[0m., \u001b[1;36m0\u001b[0m., \u001b[1;36m0\u001b[0m., \u001b[1;36m0\u001b[0m., \u001b[1;36m1\u001b[0m., \u001b[1;36m1\u001b[0m., \u001b[1;36m1\u001b[0m., \u001b[1;36m1\u001b[0m., \u001b[1;36m1\u001b[0m.\u001b[1m]\u001b[0m,\n",
       "\u001b[2;32m│   │   \u001b[0m\u001b[1m[\u001b[0m\u001b[1;36m0\u001b[0m., \u001b[1;36m0\u001b[0m., \u001b[1;36m0\u001b[0m., \u001b[1;36m0\u001b[0m., \u001b[1;36m0\u001b[0m., \u001b[1;36m0\u001b[0m., \u001b[1;36m1\u001b[0m., \u001b[1;36m1\u001b[0m., \u001b[1;36m1\u001b[0m., \u001b[1;36m1\u001b[0m., \u001b[1;36m1\u001b[0m.\u001b[1m]\u001b[0m\u001b[1m]\u001b[0m\u001b[1m)\u001b[0m,\n",
       "\u001b[2;32m│   \u001b[0m\u001b[32m'logprobs_ref'\u001b[0m: \u001b[1;35mtensor\u001b[0m\u001b[1m(\u001b[0m\u001b[1m[\u001b[0m\u001b[1m[\u001b[0m\u001b[1;36m-3.2797\u001b[0m, \u001b[1;36m-3.9794\u001b[0m, \u001b[1;36m-3.3771\u001b[0m, \u001b[1;36m-3.5436\u001b[0m, \u001b[1;36m-3.6296\u001b[0m, \u001b[1;36m-3.3818\u001b[0m, \u001b[1;36m-3.8935\u001b[0m, \u001b[1;36m-3.7257\u001b[0m,\n",
       "\u001b[2;32m│   │    \u001b[0m\u001b[1;36m-3.7764\u001b[0m, \u001b[1;36m-3.2362\u001b[0m, \u001b[1;36m-3.6417\u001b[0m\u001b[1m]\u001b[0m,\n",
       "\u001b[2;32m│   │   \u001b[0m\u001b[1m[\u001b[0m\u001b[1;36m-2.9919\u001b[0m, \u001b[1;36m-3.1163\u001b[0m, \u001b[1;36m-3.1112\u001b[0m, \u001b[1;36m-3.7207\u001b[0m, \u001b[1;36m-3.5101\u001b[0m, \u001b[1;36m-3.5335\u001b[0m, \u001b[1;36m-3.5303\u001b[0m, \u001b[1;36m-3.1816\u001b[0m,\n",
       "\u001b[2;32m│   │    \u001b[0m\u001b[1;36m-3.3280\u001b[0m, \u001b[1;36m-3.0611\u001b[0m, \u001b[1;36m-3.6552\u001b[0m\u001b[1m]\u001b[0m\u001b[1m]\u001b[0m\u001b[1m)\u001b[0m,\n",
       "\u001b[2;32m│   \u001b[0m\u001b[32m'logprobs_old'\u001b[0m: \u001b[1;35mtensor\u001b[0m\u001b[1m(\u001b[0m\u001b[1m[\u001b[0m\u001b[1m[\u001b[0m\u001b[1;36m-3.1704\u001b[0m, \u001b[1;36m-3.8914\u001b[0m, \u001b[1;36m-3.7032\u001b[0m, \u001b[1;36m-3.4227\u001b[0m, \u001b[1;36m-3.6914\u001b[0m, \u001b[1;36m-3.6695\u001b[0m, \u001b[1;36m-4.0191\u001b[0m, \u001b[1;36m-2.9413\u001b[0m,\n",
       "\u001b[2;32m│   │    \u001b[0m\u001b[1;36m-3.6589\u001b[0m, \u001b[1;36m-2.7084\u001b[0m, \u001b[1;36m-3.4496\u001b[0m\u001b[1m]\u001b[0m,\n",
       "\u001b[2;32m│   │   \u001b[0m\u001b[1m[\u001b[0m\u001b[1;36m-3.3709\u001b[0m, \u001b[1;36m-3.6106\u001b[0m, \u001b[1;36m-2.8478\u001b[0m, \u001b[1;36m-3.5536\u001b[0m, \u001b[1;36m-3.2888\u001b[0m, \u001b[1;36m-3.6936\u001b[0m, \u001b[1;36m-3.2728\u001b[0m, \u001b[1;36m-3.4517\u001b[0m,\n",
       "\u001b[2;32m│   │    \u001b[0m\u001b[1;36m-3.1879\u001b[0m, \u001b[1;36m-3.5649\u001b[0m, \u001b[1;36m-3.6766\u001b[0m\u001b[1m]\u001b[0m\u001b[1m]\u001b[0m, \u001b[33mgrad_fn\u001b[0m=\u001b[1m<\u001b[0m\u001b[1;95mSqueezeBackward1\u001b[0m\u001b[39m>\u001b[0m\u001b[1;39m)\u001b[0m\u001b[39m,\u001b[0m\n",
       "\u001b[2;32m│   \u001b[0m\u001b[32m'logprobs'\u001b[0m\u001b[39m: \u001b[0m\u001b[1;35mtensor\u001b[0m\u001b[1;39m(\u001b[0m\u001b[1;39m[\u001b[0m\u001b[1;39m[\u001b[0m\u001b[1;36m-3.1704\u001b[0m\u001b[39m, \u001b[0m\u001b[1;36m-3.8914\u001b[0m\u001b[39m, \u001b[0m\u001b[1;36m-3.7032\u001b[0m\u001b[39m, \u001b[0m\u001b[1;36m-3.4227\u001b[0m\u001b[39m, \u001b[0m\u001b[1;36m-3.6914\u001b[0m\u001b[39m, \u001b[0m\u001b[1;36m-3.6695\u001b[0m\u001b[39m, \u001b[0m\u001b[1;36m-4.0191\u001b[0m\u001b[39m, \u001b[0m\u001b[1;36m-2.9413\u001b[0m\u001b[39m,\u001b[0m\n",
       "\u001b[2;32m│   │    \u001b[0m\u001b[1;36m-3.6589\u001b[0m\u001b[39m, \u001b[0m\u001b[1;36m-2.7084\u001b[0m\u001b[39m, \u001b[0m\u001b[1;36m-3.4496\u001b[0m\u001b[1;39m]\u001b[0m\u001b[39m,\u001b[0m\n",
       "\u001b[2;32m│   │   \u001b[0m\u001b[1;39m[\u001b[0m\u001b[1;36m-3.3709\u001b[0m\u001b[39m, \u001b[0m\u001b[1;36m-3.6106\u001b[0m\u001b[39m, \u001b[0m\u001b[1;36m-2.8478\u001b[0m\u001b[39m, \u001b[0m\u001b[1;36m-3.5536\u001b[0m\u001b[39m, \u001b[0m\u001b[1;36m-3.2888\u001b[0m\u001b[39m, \u001b[0m\u001b[1;36m-3.6936\u001b[0m\u001b[39m, \u001b[0m\u001b[1;36m-3.2728\u001b[0m\u001b[39m, \u001b[0m\u001b[1;36m-3.4517\u001b[0m\u001b[39m,\u001b[0m\n",
       "\u001b[2;32m│   │    \u001b[0m\u001b[1;36m-3.1879\u001b[0m\u001b[39m, \u001b[0m\u001b[1;36m-3.5649\u001b[0m\u001b[39m, \u001b[0m\u001b[1;36m-3.6766\u001b[0m\u001b[1;39m]\u001b[0m\u001b[1;39m]\u001b[0m\u001b[39m, \u001b[0m\u001b[33mgrad_fn\u001b[0m\u001b[39m=<SqueezeBackward1>\u001b[0m\u001b[1;39m)\u001b[0m\u001b[39m,\u001b[0m\n",
       "\u001b[2;32m│   \u001b[0m\u001b[32m'values_old'\u001b[0m\u001b[39m: \u001b[0m\u001b[1;35mtensor\u001b[0m\u001b[1;39m(\u001b[0m\u001b[1;39m[\u001b[0m\u001b[1;39m[\u001b[0m\u001b[39m \u001b[0m\u001b[1;36m0.4037\u001b[0m\u001b[39m,  \u001b[0m\u001b[1;36m0.5650\u001b[0m\u001b[39m,  \u001b[0m\u001b[1;36m1.1206\u001b[0m\u001b[39m,  \u001b[0m\u001b[1;36m1.3727\u001b[0m\u001b[39m,  \u001b[0m\u001b[1;36m1.5973\u001b[0m\u001b[39m,  \u001b[0m\u001b[1;36m1.4748\u001b[0m\u001b[39m,  \u001b[0m\u001b[1;36m1.5315\u001b[0m\u001b[39m,  \u001b[0m\u001b[1;36m1.2411\u001b[0m\u001b[39m,\u001b[0m\n",
       "\u001b[2;32m│   │     \u001b[0m\u001b[1;36m1.4551\u001b[0m\u001b[39m,  \u001b[0m\u001b[1;36m1.3217\u001b[0m\u001b[39m,  \u001b[0m\u001b[1;36m1.1747\u001b[0m\u001b[1;39m]\u001b[0m\u001b[39m,\u001b[0m\n",
       "\u001b[2;32m│   │   \u001b[0m\u001b[1;39m[\u001b[0m\u001b[1;36m-0.5438\u001b[0m\u001b[39m, \u001b[0m\u001b[1;36m-0.1715\u001b[0m\u001b[39m,  \u001b[0m\u001b[1;36m0.0838\u001b[0m\u001b[39m, \u001b[0m\u001b[1;36m-0.4835\u001b[0m\u001b[39m,  \u001b[0m\u001b[1;36m0.3192\u001b[0m\u001b[39m,  \u001b[0m\u001b[1;36m0.2480\u001b[0m\u001b[39m, \u001b[0m\u001b[1;36m-0.1122\u001b[0m\u001b[39m,  \u001b[0m\u001b[1;36m0.0394\u001b[0m\u001b[39m,\u001b[0m\n",
       "\u001b[2;32m│   │    \u001b[0m\u001b[1;36m-0.4591\u001b[0m\u001b[39m,  \u001b[0m\u001b[1;36m0.0104\u001b[0m\u001b[39m,  \u001b[0m\u001b[1;36m0.0802\u001b[0m\u001b[1;39m]\u001b[0m\u001b[1;39m]\u001b[0m\u001b[39m, \u001b[0m\u001b[33mgrad_fn\u001b[0m\u001b[39m=<SelectBackward0>\u001b[0m\u001b[1;39m)\u001b[0m\u001b[39m,\u001b[0m\n",
       "\u001b[2;32m│   \u001b[0m\u001b[32m'values'\u001b[0m\u001b[39m: \u001b[0m\u001b[1;35mtensor\u001b[0m\u001b[1;39m(\u001b[0m\u001b[1;39m[\u001b[0m\u001b[1;39m[\u001b[0m\u001b[39m \u001b[0m\u001b[1;36m0.5617\u001b[0m\u001b[39m,  \u001b[0m\u001b[1;36m0.8911\u001b[0m\u001b[39m,  \u001b[0m\u001b[1;36m1.2824\u001b[0m\u001b[39m,  \u001b[0m\u001b[1;36m1.4201\u001b[0m\u001b[39m,  \u001b[0m\u001b[1;36m1.5914\u001b[0m\u001b[39m,  \u001b[0m\u001b[1;36m1.4869\u001b[0m\u001b[39m,  \u001b[0m\u001b[1;36m1.6545\u001b[0m\u001b[39m,  \u001b[0m\u001b[1;36m1.2830\u001b[0m\u001b[39m,\u001b[0m\n",
       "\u001b[2;32m│   │     \u001b[0m\u001b[1;36m1.5520\u001b[0m\u001b[39m,  \u001b[0m\u001b[1;36m1.1043\u001b[0m\u001b[39m,  \u001b[0m\u001b[1;36m1.0550\u001b[0m\u001b[1;39m]\u001b[0m\u001b[39m,\u001b[0m\n",
       "\u001b[2;32m│   │   \u001b[0m\u001b[1;39m[\u001b[0m\u001b[1;36m-0.6336\u001b[0m\u001b[39m, \u001b[0m\u001b[1;36m-0.1412\u001b[0m\u001b[39m,  \u001b[0m\u001b[1;36m0.1788\u001b[0m\u001b[39m, \u001b[0m\u001b[1;36m-0.1909\u001b[0m\u001b[39m,  \u001b[0m\u001b[1;36m0.1089\u001b[0m\u001b[39m,  \u001b[0m\u001b[1;36m0.0324\u001b[0m\u001b[39m, \u001b[0m\u001b[1;36m-0.1538\u001b[0m\u001b[39m, \u001b[0m\u001b[1;36m-0.2682\u001b[0m\u001b[39m,\u001b[0m\n",
       "\u001b[2;32m│   │    \u001b[0m\u001b[1;36m-0.4156\u001b[0m\u001b[39m,  \u001b[0m\u001b[1;36m0.1052\u001b[0m\u001b[39m,  \u001b[0m\u001b[1;36m0.3065\u001b[0m\u001b[1;39m]\u001b[0m\u001b[1;39m]\u001b[0m\u001b[39m, \u001b[0m\u001b[33mgrad_fn\u001b[0m\u001b[39m=<SelectBackward0>\u001b[0m\u001b[1;39m)\u001b[0m\u001b[39m,\u001b[0m\n",
       "\u001b[2;32m│   \u001b[0m\u001b[32m'rewards'\u001b[0m\u001b[39m: \u001b[0m\u001b[1;35mtensor\u001b[0m\u001b[1;39m(\u001b[0m\u001b[1;39m[\u001b[0m\u001b[1;39m[\u001b[0m\u001b[1;36m-0.4233\u001b[0m\u001b[1;39m]\u001b[0m\u001b[39m,\u001b[0m\n",
       "\u001b[2;32m│   │   \u001b[0m\u001b[1;39m[\u001b[0m\u001b[1;36m-0.3428\u001b[0m\u001b[1;39m]\u001b[0m\u001b[1;39m]\u001b[0m\u001b[1;39m)\u001b[0m\u001b[39m,\u001b[0m\n",
       "\u001b[2;32m│   \u001b[0m\u001b[32m'rewards_kl'\u001b[0m\u001b[39m: \u001b[0m\u001b[1;35mtensor\u001b[0m\u001b[1;39m(\u001b[0m\u001b[1;39m[\u001b[0m\u001b[1;39m[\u001b[0m\u001b[1;36m-0.0011\u001b[0m\u001b[39m, \u001b[0m\u001b[1;36m-0.0009\u001b[0m\u001b[39m,  \u001b[0m\u001b[1;36m0.0033\u001b[0m\u001b[39m, \u001b[0m\u001b[1;36m-0.0012\u001b[0m\u001b[39m,  \u001b[0m\u001b[1;36m0.0006\u001b[0m\u001b[39m,  \u001b[0m\u001b[1;36m0.0029\u001b[0m\u001b[39m,  \u001b[0m\u001b[1;36m0.0013\u001b[0m\u001b[39m, \u001b[0m\u001b[1;36m-0.0078\u001b[0m\u001b[39m,\u001b[0m\n",
       "\u001b[2;32m│   │    \u001b[0m\u001b[1;36m-0.0012\u001b[0m\u001b[39m, \u001b[0m\u001b[1;36m-0.0053\u001b[0m\u001b[39m, \u001b[0m\u001b[1;36m-0.0030\u001b[0m\u001b[1;39m]\u001b[0m\u001b[39m,\u001b[0m\n",
       "\u001b[2;32m│   │   \u001b[0m\u001b[1;39m[\u001b[0m\u001b[39m \u001b[0m\u001b[1;36m0.0038\u001b[0m\u001b[39m,  \u001b[0m\u001b[1;36m0.0049\u001b[0m\u001b[39m, \u001b[0m\u001b[1;36m-0.0026\u001b[0m\u001b[39m, \u001b[0m\u001b[1;36m-0.0017\u001b[0m\u001b[39m, \u001b[0m\u001b[1;36m-0.0022\u001b[0m\u001b[39m,  \u001b[0m\u001b[1;36m0.0016\u001b[0m\u001b[39m, \u001b[0m\u001b[1;36m-0.0026\u001b[0m\u001b[39m,  \u001b[0m\u001b[1;36m0.0027\u001b[0m\u001b[39m,\u001b[0m\n",
       "\u001b[2;32m│   │    \u001b[0m\u001b[1;36m-0.0014\u001b[0m\u001b[39m,  \u001b[0m\u001b[1;36m0.0050\u001b[0m\u001b[39m,  \u001b[0m\u001b[1;36m0.0040\u001b[0m\u001b[1;39m]\u001b[0m\u001b[1;39m]\u001b[0m\u001b[39m, \u001b[0m\u001b[33mgrad_fn\u001b[0m\u001b[39m=<CopySlices>\u001b[0m\u001b[1;39m)\u001b[0m\u001b[39m,\u001b[0m\n",
       "\u001b[2;32m│   \u001b[0m\u001b[32m'loss'\u001b[0m\u001b[39m: \u001b[0m\u001b[3;35mNone\u001b[0m\u001b[39m,\u001b[0m\n",
       "\u001b[2;32m│   \u001b[0m\u001b[32m'logits'\u001b[0m\u001b[39m: \u001b[0m\u001b[1;35mtensor\u001b[0m\u001b[1;39m(\u001b[0m\u001b[1;39m[\u001b[0m\u001b[1;39m[\u001b[0m\u001b[1;39m[\u001b[0m\u001b[1;36m-2.9141e-01\u001b[0m\u001b[39m, \u001b[0m\u001b[1;36m-2.3078e-01\u001b[0m\u001b[39m, \u001b[0m\u001b[1;36m-4.4092e-01\u001b[0m\u001b[39m,  \u001b[0m\u001b[1;36m3.1467e-01\u001b[0m\u001b[39m,  \u001b[0m\u001b[1;36m7.3815e-02\u001b[0m\u001b[39m,\u001b[0m\n",
       "\u001b[2;32m│   │      \u001b[0m\u001b[1;36m2.3336e-01\u001b[0m\u001b[39m, \u001b[0m\u001b[1;36m-1.0261e-01\u001b[0m\u001b[39m, \u001b[0m\u001b[1;36m-5.1662e-01\u001b[0m\u001b[39m,  \u001b[0m\u001b[1;36m1.0788e-01\u001b[0m\u001b[39m, \u001b[0m\u001b[1;36m-5.3807e-02\u001b[0m\u001b[39m,\u001b[0m\n",
       "\u001b[2;32m│   │      \u001b[0m\u001b[1;36m6.6215e-02\u001b[0m\u001b[39m,  \u001b[0m\u001b[1;36m1.9772e-01\u001b[0m\u001b[39m, \u001b[0m\u001b[1;36m-1.1797e-01\u001b[0m\u001b[39m, \u001b[0m\u001b[1;36m-6.8881e-02\u001b[0m\u001b[39m,  \u001b[0m\u001b[1;36m3.0796e-02\u001b[0m\u001b[39m,\u001b[0m\n",
       "\u001b[2;32m│   │      \u001b[0m\u001b[1;36m1.5639e-01\u001b[0m\u001b[39m,  \u001b[0m\u001b[1;36m1.4710e-01\u001b[0m\u001b[39m, \u001b[0m\u001b[1;36m-6.5384e-02\u001b[0m\u001b[39m, \u001b[0m\u001b[1;36m-3.0084e-01\u001b[0m\u001b[39m,  \u001b[0m\u001b[1;36m4.0951e-01\u001b[0m\u001b[39m,\u001b[0m\n",
       "\u001b[2;32m│   │      \u001b[0m\u001b[1;36m6.0962e-01\u001b[0m\u001b[39m,  \u001b[0m\u001b[1;36m2.0662e-01\u001b[0m\u001b[39m, \u001b[0m\u001b[1;36m-3.6570e-01\u001b[0m\u001b[39m,  \u001b[0m\u001b[1;36m2.2405e-02\u001b[0m\u001b[39m, \u001b[0m\u001b[1;36m-4.3202e-02\u001b[0m\u001b[39m,\u001b[0m\n",
       "\u001b[2;32m│   │     \u001b[0m\u001b[1;36m-3.0117e-01\u001b[0m\u001b[39m,  \u001b[0m\u001b[1;36m2.6883e-02\u001b[0m\u001b[39m,  \u001b[0m\u001b[1;36m1.5225e-01\u001b[0m\u001b[39m, \u001b[0m\u001b[1;36m-4.2351e-01\u001b[0m\u001b[39m,  \u001b[0m\u001b[1;36m1.1622e-01\u001b[0m\u001b[39m,\u001b[0m\n",
       "\u001b[2;32m│   │      \u001b[0m\u001b[1;36m2.0323e-01\u001b[0m\u001b[39m, \u001b[0m\u001b[1;36m-1.7224e-01\u001b[0m\u001b[1;39m]\u001b[0m\u001b[39m,\u001b[0m\n",
       "\u001b[2;32m│   │    \u001b[0m\u001b[1;39m[\u001b[0m\u001b[39m \u001b[0m\u001b[1;36m1.7116e-01\u001b[0m\u001b[39m, \u001b[0m\u001b[1;36m-1.3915e-01\u001b[0m\u001b[39m, \u001b[0m\u001b[1;36m-3.7983e-01\u001b[0m\u001b[39m,  \u001b[0m\u001b[1;36m2.3101e-01\u001b[0m\u001b[39m, \u001b[0m\u001b[1;36m-2.0881e-01\u001b[0m\u001b[39m,\u001b[0m\n",
       "\u001b[2;32m│   │      \u001b[0m\u001b[1;36m1.6951e-01\u001b[0m\u001b[39m,  \u001b[0m\u001b[1;36m1.7153e-01\u001b[0m\u001b[39m, \u001b[0m\u001b[1;36m-8.2568e-01\u001b[0m\u001b[39m,  \u001b[0m\u001b[1;36m1.2967e-01\u001b[0m\u001b[39m, \u001b[0m\u001b[1;36m-2.8406e-01\u001b[0m\u001b[39m,\u001b[0m\n",
       "\u001b[2;32m│   │     \u001b[0m\u001b[1;36m-2.7890e-02\u001b[0m\u001b[39m,  \u001b[0m\u001b[1;36m6.8381e-01\u001b[0m\u001b[39m,  \u001b[0m\u001b[1;36m1.9228e-01\u001b[0m\u001b[39m, \u001b[0m\u001b[1;36m-3.4845e-02\u001b[0m\u001b[39m, \u001b[0m\u001b[1;36m-2.2157e-01\u001b[0m\u001b[39m,\u001b[0m\n",
       "\u001b[2;32m│   │      \u001b[0m\u001b[1;36m2.4607e-01\u001b[0m\u001b[39m,  \u001b[0m\u001b[1;36m4.0112e-02\u001b[0m\u001b[39m,  \u001b[0m\u001b[1;36m3.2355e-01\u001b[0m\u001b[39m, \u001b[0m\u001b[1;36m-4.3763e-01\u001b[0m\u001b[39m, \u001b[0m\u001b[1;36m-2.5645e-02\u001b[0m\u001b[39m,\u001b[0m\n",
       "\u001b[2;32m│   │      \u001b[0m\u001b[1;36m3.9134e-01\u001b[0m\u001b[39m, \u001b[0m\u001b[1;36m-2.4255e-01\u001b[0m\u001b[39m,  \u001b[0m\u001b[1;36m1.4322e-01\u001b[0m\u001b[39m,  \u001b[0m\u001b[1;36m7.6041e-04\u001b[0m\u001b[39m,  \u001b[0m\u001b[1;36m2.2418e-01\u001b[0m\u001b[39m,\u001b[0m\n",
       "\u001b[2;32m│   │     \u001b[0m\u001b[1;36m-3.2726e-01\u001b[0m\u001b[39m,  \u001b[0m\u001b[1;36m2.1264e-01\u001b[0m\u001b[39m,  \u001b[0m\u001b[1;36m3.6522e-01\u001b[0m\u001b[39m, \u001b[0m\u001b[1;36m-3.8521e-01\u001b[0m\u001b[39m,  \u001b[0m\u001b[1;36m1.3221e-01\u001b[0m\u001b[39m,\u001b[0m\n",
       "\u001b[2;32m│   │      \u001b[0m\u001b[1;36m3.7866e-03\u001b[0m\u001b[39m, \u001b[0m\u001b[1;36m-1.7415e-01\u001b[0m\u001b[1;39m]\u001b[0m\u001b[39m,\u001b[0m\n",
       "\u001b[2;32m│   │    \u001b[0m\u001b[1;39m[\u001b[0m\u001b[39m \u001b[0m\u001b[1;36m2.2526e-01\u001b[0m\u001b[39m, \u001b[0m\u001b[1;36m-2.0581e-01\u001b[0m\u001b[39m, \u001b[0m\u001b[1;36m-3.5515e-01\u001b[0m\u001b[39m,  \u001b[0m\u001b[1;36m4.1750e-02\u001b[0m\u001b[39m,  \u001b[0m\u001b[1;36m2.0791e-02\u001b[0m\u001b[39m,\u001b[0m\n",
       "\u001b[2;32m│   │      \u001b[0m\u001b[1;36m2.6506e-01\u001b[0m\u001b[39m,  \u001b[0m\u001b[1;36m3.1328e-01\u001b[0m\u001b[39m, \u001b[0m\u001b[1;36m-4.9314e-01\u001b[0m\u001b[39m,  \u001b[0m\u001b[1;36m2.3665e-01\u001b[0m\u001b[39m,  \u001b[0m\u001b[1;36m6.5306e-02\u001b[0m\u001b[39m,\u001b[0m\n",
       "\u001b[2;32m│   │     \u001b[0m\u001b[1;36m-4.4244e-01\u001b[0m\u001b[39m,  \u001b[0m\u001b[1;36m7.2106e-01\u001b[0m\u001b[39m,  \u001b[0m\u001b[1;36m2.3617e-01\u001b[0m\u001b[39m, \u001b[0m\u001b[1;36m-1.8132e-01\u001b[0m\u001b[39m, \u001b[0m\u001b[1;36m-1.9663e-01\u001b[0m\u001b[39m,\u001b[0m\n",
       "\u001b[2;32m│   │      \u001b[0m\u001b[1;36m2.3336e-01\u001b[0m\u001b[39m,  \u001b[0m\u001b[1;36m2.6515e-02\u001b[0m\u001b[39m,  \u001b[0m\u001b[1;36m3.3128e-01\u001b[0m\u001b[39m, \u001b[0m\u001b[1;36m-6.1750e-01\u001b[0m\u001b[39m, \u001b[0m\u001b[1;36m-1.3576e-01\u001b[0m\u001b[39m,\u001b[0m\n",
       "\u001b[2;32m│   │      \u001b[0m\u001b[1;36m3.9121e-01\u001b[0m\u001b[39m, \u001b[0m\u001b[1;36m-1.7041e-01\u001b[0m\u001b[39m,  \u001b[0m\u001b[1;36m1.3463e-01\u001b[0m\u001b[39m, \u001b[0m\u001b[1;36m-2.7857e-01\u001b[0m\u001b[39m,  \u001b[0m\u001b[1;36m3.6622e-01\u001b[0m\u001b[39m,\u001b[0m\n",
       "\u001b[2;32m│   │     \u001b[0m\u001b[1;36m-1.9625e-01\u001b[0m\u001b[39m,  \u001b[0m\u001b[1;36m6.8053e-02\u001b[0m\u001b[39m,  \u001b[0m\u001b[1;36m7.2521e-01\u001b[0m\u001b[39m, \u001b[0m\u001b[1;36m-7.3560e-01\u001b[0m\u001b[39m,  \u001b[0m\u001b[1;36m2.8994e-01\u001b[0m\u001b[39m,\u001b[0m\n",
       "\u001b[2;32m│   │     \u001b[0m\u001b[1;36m-1.0810e-01\u001b[0m\u001b[39m, \u001b[0m\u001b[1;36m-3.2995e-01\u001b[0m\u001b[1;39m]\u001b[0m\u001b[39m,\u001b[0m\n",
       "\u001b[2;32m│   │    \u001b[0m\u001b[1;39m[\u001b[0m\u001b[39m \u001b[0m\u001b[1;36m2.5728e-01\u001b[0m\u001b[39m, \u001b[0m\u001b[1;36m-2.3800e-01\u001b[0m\u001b[39m, \u001b[0m\u001b[1;36m-3.6303e-01\u001b[0m\u001b[39m, \u001b[0m\u001b[1;36m-7.6463e-02\u001b[0m\u001b[39m,  \u001b[0m\u001b[1;36m6.4079e-03\u001b[0m\u001b[39m,\u001b[0m\n",
       "\u001b[2;32m│   │      \u001b[0m\u001b[1;36m9.7700e-02\u001b[0m\u001b[39m, \u001b[0m\u001b[1;36m-8.2348e-02\u001b[0m\u001b[39m, \u001b[0m\u001b[1;36m-5.9503e-01\u001b[0m\u001b[39m,  \u001b[0m\u001b[1;36m3.5240e-02\u001b[0m\u001b[39m,  \u001b[0m\u001b[1;36m2.4716e-02\u001b[0m\u001b[39m,\u001b[0m\n",
       "\u001b[2;32m│   │     \u001b[0m\u001b[1;36m-2.6025e-01\u001b[0m\u001b[39m,  \u001b[0m\u001b[1;36m7.7423e-01\u001b[0m\u001b[39m,  \u001b[0m\u001b[1;36m2.9201e-01\u001b[0m\u001b[39m, \u001b[0m\u001b[1;36m-1.3588e-01\u001b[0m\u001b[39m, \u001b[0m\u001b[1;36m-3.4053e-02\u001b[0m\u001b[39m,\u001b[0m\n",
       "\u001b[2;32m│   │      \u001b[0m\u001b[1;36m3.8255e-01\u001b[0m\u001b[39m,  \u001b[0m\u001b[1;36m7.2180e-02\u001b[0m\u001b[39m,  \u001b[0m\u001b[1;36m2.8551e-01\u001b[0m\u001b[39m, \u001b[0m\u001b[1;36m-8.3311e-01\u001b[0m\u001b[39m, \u001b[0m\u001b[1;36m-1.6609e-01\u001b[0m\u001b[39m,\u001b[0m\n",
       "\u001b[2;32m│   │      \u001b[0m\u001b[1;36m1.6344e-01\u001b[0m\u001b[39m, \u001b[0m\u001b[1;36m-1.6694e-01\u001b[0m\u001b[39m,  \u001b[0m\u001b[1;36m8.9974e-02\u001b[0m\u001b[39m, \u001b[0m\u001b[1;36m-5.5195e-01\u001b[0m\u001b[39m,  \u001b[0m\u001b[1;36m1.5331e-01\u001b[0m\u001b[39m,\u001b[0m\n",
       "\u001b[2;32m│   │     \u001b[0m\u001b[1;36m-1.6975e-01\u001b[0m\u001b[39m,  \u001b[0m\u001b[1;36m3.3836e-01\u001b[0m\u001b[39m,  \u001b[0m\u001b[1;36m7.3927e-01\u001b[0m\u001b[39m, \u001b[0m\u001b[1;36m-6.7911e-01\u001b[0m\u001b[39m, \u001b[0m\u001b[1;36m-2.2448e-02\u001b[0m\u001b[39m,\u001b[0m\n",
       "\u001b[2;32m│   │     \u001b[0m\u001b[1;36m-2.1397e-01\u001b[0m\u001b[39m, \u001b[0m\u001b[1;36m-1.7959e-01\u001b[0m\u001b[1;39m]\u001b[0m\u001b[39m,\u001b[0m\n",
       "\u001b[2;32m│   │    \u001b[0m\u001b[1;39m[\u001b[0m\u001b[39m \u001b[0m\u001b[1;36m2.0541e-01\u001b[0m\u001b[39m,  \u001b[0m\u001b[1;36m2.2370e-02\u001b[0m\u001b[39m, \u001b[0m\u001b[1;36m-4.4313e-01\u001b[0m\u001b[39m, \u001b[0m\u001b[1;36m-1.8442e-01\u001b[0m\u001b[39m, \u001b[0m\u001b[1;36m-5.0390e-02\u001b[0m\u001b[39m,\u001b[0m\n",
       "\u001b[2;32m│   │      \u001b[0m\u001b[1;36m1.0596e-02\u001b[0m\u001b[39m, \u001b[0m\u001b[1;36m-9.5072e-02\u001b[0m\u001b[39m, \u001b[0m\u001b[1;36m-7.4384e-01\u001b[0m\u001b[39m, \u001b[0m\u001b[1;36m-4.5014e-02\u001b[0m\u001b[39m,  \u001b[0m\u001b[1;36m1.5089e-01\u001b[0m\u001b[39m,\u001b[0m\n",
       "\u001b[2;32m│   │     \u001b[0m\u001b[1;36m-1.9259e-01\u001b[0m\u001b[39m,  \u001b[0m\u001b[1;36m5.7809e-01\u001b[0m\u001b[39m,  \u001b[0m\u001b[1;36m3.0243e-02\u001b[0m\u001b[39m, \u001b[0m\u001b[1;36m-9.6543e-02\u001b[0m\u001b[39m, \u001b[0m\u001b[1;36m-1.7711e-01\u001b[0m\u001b[39m,\u001b[0m\n",
       "\u001b[2;32m│   │      \u001b[0m\u001b[1;36m4.2731e-01\u001b[0m\u001b[39m, \u001b[0m\u001b[1;36m-1.7386e-01\u001b[0m\u001b[39m,  \u001b[0m\u001b[1;36m1.8470e-01\u001b[0m\u001b[39m, \u001b[0m\u001b[1;36m-5.5789e-01\u001b[0m\u001b[39m, \u001b[0m\u001b[1;36m-4.0884e-01\u001b[0m\u001b[39m,\u001b[0m\n",
       "\u001b[2;32m│   │      \u001b[0m\u001b[1;36m8.5359e-02\u001b[0m\u001b[39m,  \u001b[0m\u001b[1;36m2.2059e-02\u001b[0m\u001b[39m, \u001b[0m\u001b[1;36m-7.6904e-02\u001b[0m\u001b[39m, \u001b[0m\u001b[1;36m-5.5548e-01\u001b[0m\u001b[39m,  \u001b[0m\u001b[1;36m8.9501e-02\u001b[0m\u001b[39m,\u001b[0m\n",
       "\u001b[2;32m│   │     \u001b[0m\u001b[1;36m-2.6162e-01\u001b[0m\u001b[39m,  \u001b[0m\u001b[1;36m6.6122e-01\u001b[0m\u001b[39m,  \u001b[0m\u001b[1;36m6.1417e-01\u001b[0m\u001b[39m, \u001b[0m\u001b[1;36m-5.6409e-01\u001b[0m\u001b[39m, \u001b[0m\u001b[1;36m-1.9958e-01\u001b[0m\u001b[39m,\u001b[0m\n",
       "\u001b[2;32m│   │     \u001b[0m\u001b[1;36m-2.6276e-01\u001b[0m\u001b[39m, \u001b[0m\u001b[1;36m-2.3850e-01\u001b[0m\u001b[1;39m]\u001b[0m\u001b[39m,\u001b[0m\n",
       "\u001b[2;32m│   │    \u001b[0m\u001b[1;39m[\u001b[0m\u001b[39m \u001b[0m\u001b[1;36m1.6354e-01\u001b[0m\u001b[39m, \u001b[0m\u001b[1;36m-1.2169e-01\u001b[0m\u001b[39m, \u001b[0m\u001b[1;36m-4.2067e-01\u001b[0m\u001b[39m, \u001b[0m\u001b[1;36m-3.5327e-01\u001b[0m\u001b[39m,  \u001b[0m\u001b[1;36m2.2779e-02\u001b[0m\u001b[39m,\u001b[0m\n",
       "\u001b[2;32m│   │      \u001b[0m\u001b[1;36m1.2695e-01\u001b[0m\u001b[39m, \u001b[0m\u001b[1;36m-6.6251e-03\u001b[0m\u001b[39m, \u001b[0m\u001b[1;36m-4.7782e-01\u001b[0m\u001b[39m,  \u001b[0m\u001b[1;36m7.5369e-02\u001b[0m\u001b[39m,  \u001b[0m\u001b[1;36m2.9437e-01\u001b[0m\u001b[39m,\u001b[0m\n",
       "\u001b[2;32m│   │     \u001b[0m\u001b[1;36m-5.8642e-01\u001b[0m\u001b[39m,  \u001b[0m\u001b[1;36m7.0546e-01\u001b[0m\u001b[39m,  \u001b[0m\u001b[1;36m7.1659e-02\u001b[0m\u001b[39m, \u001b[0m\u001b[1;36m-1.3733e-01\u001b[0m\u001b[39m, \u001b[0m\u001b[1;36m-8.0484e-02\u001b[0m\u001b[39m,\u001b[0m\n",
       "\u001b[2;32m│   │      \u001b[0m\u001b[1;36m4.8058e-01\u001b[0m\u001b[39m, \u001b[0m\u001b[1;36m-2.3041e-02\u001b[0m\u001b[39m,  \u001b[0m\u001b[1;36m3.2556e-01\u001b[0m\u001b[39m, \u001b[0m\u001b[1;36m-6.3804e-01\u001b[0m\u001b[39m, \u001b[0m\u001b[1;36m-3.0510e-01\u001b[0m\u001b[39m,\u001b[0m\n",
       "\u001b[2;32m│   │      \u001b[0m\u001b[1;36m1.7076e-01\u001b[0m\u001b[39m, \u001b[0m\u001b[1;36m-1.7831e-01\u001b[0m\u001b[39m,  \u001b[0m\u001b[1;36m1.4362e-01\u001b[0m\u001b[39m, \u001b[0m\u001b[1;36m-5.2993e-01\u001b[0m\u001b[39m,  \u001b[0m\u001b[1;36m4.1406e-01\u001b[0m\u001b[39m,\u001b[0m\n",
       "\u001b[2;32m│   │     \u001b[0m\u001b[1;36m-1.8665e-01\u001b[0m\u001b[39m,  \u001b[0m\u001b[1;36m4.2765e-01\u001b[0m\u001b[39m,  \u001b[0m\u001b[1;36m6.6789e-01\u001b[0m\u001b[39m, \u001b[0m\u001b[1;36m-7.3054e-01\u001b[0m\u001b[39m,  \u001b[0m\u001b[1;36m4.4867e-02\u001b[0m\u001b[39m,\u001b[0m\n",
       "\u001b[2;32m│   │     \u001b[0m\u001b[1;36m-3.4214e-01\u001b[0m\u001b[39m, \u001b[0m\u001b[1;36m-3.7762e-01\u001b[0m\u001b[1;39m]\u001b[0m\u001b[39m,\u001b[0m\n",
       "\u001b[2;32m│   │    \u001b[0m\u001b[1;39m[\u001b[0m\u001b[39m \u001b[0m\u001b[1;36m7.9280e-02\u001b[0m\u001b[39m, \u001b[0m\u001b[1;36m-1.3680e-01\u001b[0m\u001b[39m, \u001b[0m\u001b[1;36m-4.8249e-01\u001b[0m\u001b[39m, \u001b[0m\u001b[1;36m-1.9972e-01\u001b[0m\u001b[39m,  \u001b[0m\u001b[1;36m9.3478e-02\u001b[0m\u001b[39m,\u001b[0m\n",
       "\u001b[2;32m│   │      \u001b[0m\u001b[1;36m9.4343e-02\u001b[0m\u001b[39m, \u001b[0m\u001b[1;36m-2.1445e-01\u001b[0m\u001b[39m, \u001b[0m\u001b[1;36m-4.6158e-01\u001b[0m\u001b[39m, \u001b[0m\u001b[1;36m-2.9200e-01\u001b[0m\u001b[39m,  \u001b[0m\u001b[1;36m5.8901e-02\u001b[0m\u001b[39m,\u001b[0m\n",
       "\u001b[2;32m│   │     \u001b[0m\u001b[1;36m-4.0848e-01\u001b[0m\u001b[39m,  \u001b[0m\u001b[1;36m7.5683e-01\u001b[0m\u001b[39m,  \u001b[0m\u001b[1;36m1.1540e-01\u001b[0m\u001b[39m, \u001b[0m\u001b[1;36m-1.9067e-01\u001b[0m\u001b[39m, \u001b[0m\u001b[1;36m-1.7652e-01\u001b[0m\u001b[39m,\u001b[0m\n",
       "\u001b[2;32m│   │      \u001b[0m\u001b[1;36m4.9907e-01\u001b[0m\u001b[39m, \u001b[0m\u001b[1;36m-2.1340e-01\u001b[0m\u001b[39m,  \u001b[0m\u001b[1;36m3.0294e-01\u001b[0m\u001b[39m, \u001b[0m\u001b[1;36m-5.7575e-01\u001b[0m\u001b[39m, \u001b[0m\u001b[1;36m-3.1524e-01\u001b[0m\u001b[39m,\u001b[0m\n",
       "\u001b[2;32m│   │      \u001b[0m\u001b[1;36m4.5778e-02\u001b[0m\u001b[39m, \u001b[0m\u001b[1;36m-1.5027e-01\u001b[0m\u001b[39m,  \u001b[0m\u001b[1;36m9.1262e-02\u001b[0m\u001b[39m, \u001b[0m\u001b[1;36m-7.6200e-01\u001b[0m\u001b[39m,  \u001b[0m\u001b[1;36m3.9121e-02\u001b[0m\u001b[39m,\u001b[0m\n",
       "\u001b[2;32m│   │     \u001b[0m\u001b[1;36m-2.2336e-01\u001b[0m\u001b[39m,  \u001b[0m\u001b[1;36m4.8647e-01\u001b[0m\u001b[39m,  \u001b[0m\u001b[1;36m5.9745e-01\u001b[0m\u001b[39m, \u001b[0m\u001b[1;36m-4.0878e-01\u001b[0m\u001b[39m, \u001b[0m\u001b[1;36m-2.6633e-01\u001b[0m\u001b[39m,\u001b[0m\n",
       "\u001b[2;32m│   │     \u001b[0m\u001b[1;36m-1.9123e-01\u001b[0m\u001b[39m, \u001b[0m\u001b[1;36m-2.6916e-01\u001b[0m\u001b[1;39m]\u001b[0m\u001b[39m,\u001b[0m\n",
       "\u001b[2;32m│   │    \u001b[0m\u001b[1;39m[\u001b[0m\u001b[39m \u001b[0m\u001b[1;36m2.0915e-01\u001b[0m\u001b[39m,  \u001b[0m\u001b[1;36m8.2527e-02\u001b[0m\u001b[39m, \u001b[0m\u001b[1;36m-4.8809e-01\u001b[0m\u001b[39m, \u001b[0m\u001b[1;36m-3.9396e-01\u001b[0m\u001b[39m, \u001b[0m\u001b[1;36m-1.0980e-01\u001b[0m\u001b[39m,\u001b[0m\n",
       "\u001b[2;32m│   │      \u001b[0m\u001b[1;36m8.6790e-02\u001b[0m\u001b[39m, \u001b[0m\u001b[1;36m-2.0541e-01\u001b[0m\u001b[39m, \u001b[0m\u001b[1;36m-4.4733e-01\u001b[0m\u001b[39m, \u001b[0m\u001b[1;36m-1.4175e-01\u001b[0m\u001b[39m,  \u001b[0m\u001b[1;36m1.4449e-01\u001b[0m\u001b[39m,\u001b[0m\n",
       "\u001b[2;32m│   │     \u001b[0m\u001b[1;36m-3.5574e-01\u001b[0m\u001b[39m,  \u001b[0m\u001b[1;36m5.5577e-01\u001b[0m\u001b[39m,  \u001b[0m\u001b[1;36m3.6382e-02\u001b[0m\u001b[39m, \u001b[0m\u001b[1;36m-2.3774e-01\u001b[0m\u001b[39m, \u001b[0m\u001b[1;36m-1.2666e-01\u001b[0m\u001b[39m,\u001b[0m\n",
       "\u001b[2;32m│   │      \u001b[0m\u001b[1;36m4.6854e-01\u001b[0m\u001b[39m,  \u001b[0m\u001b[1;36m4.4762e-04\u001b[0m\u001b[39m,  \u001b[0m\u001b[1;36m1.6370e-01\u001b[0m\u001b[39m, \u001b[0m\u001b[1;36m-5.4746e-01\u001b[0m\u001b[39m, \u001b[0m\u001b[1;36m-4.4650e-01\u001b[0m\u001b[39m,\u001b[0m\n",
       "\u001b[2;32m│   │      \u001b[0m\u001b[1;36m1.0585e-01\u001b[0m\u001b[39m, \u001b[0m\u001b[1;36m-2.0889e-01\u001b[0m\u001b[39m, \u001b[0m\u001b[1;36m-1.5368e-01\u001b[0m\u001b[39m, \u001b[0m\u001b[1;36m-7.4424e-01\u001b[0m\u001b[39m,  \u001b[0m\u001b[1;36m4.7253e-02\u001b[0m\u001b[39m,\u001b[0m\n",
       "\u001b[2;32m│   │     \u001b[0m\u001b[1;36m-3.8721e-01\u001b[0m\u001b[39m,  \u001b[0m\u001b[1;36m5.6166e-01\u001b[0m\u001b[39m,  \u001b[0m\u001b[1;36m4.7607e-01\u001b[0m\u001b[39m, \u001b[0m\u001b[1;36m-5.1349e-01\u001b[0m\u001b[39m, \u001b[0m\u001b[1;36m-1.9982e-01\u001b[0m\u001b[39m,\u001b[0m\n",
       "\u001b[2;32m│   │     \u001b[0m\u001b[1;36m-2.2677e-01\u001b[0m\u001b[39m, \u001b[0m\u001b[1;36m-3.3769e-01\u001b[0m\u001b[1;39m]\u001b[0m\u001b[39m,\u001b[0m\n",
       "\u001b[2;32m│   │    \u001b[0m\u001b[1;39m[\u001b[0m\u001b[39m \u001b[0m\u001b[1;36m7.8309e-02\u001b[0m\u001b[39m, \u001b[0m\u001b[1;36m-1.6769e-01\u001b[0m\u001b[39m, \u001b[0m\u001b[1;36m-4.3259e-01\u001b[0m\u001b[39m, \u001b[0m\u001b[1;36m-3.0268e-01\u001b[0m\u001b[39m,  \u001b[0m\u001b[1;36m1.6724e-02\u001b[0m\u001b[39m,\u001b[0m\n",
       "\u001b[2;32m│   │      \u001b[0m\u001b[1;36m1.6810e-02\u001b[0m\u001b[39m, \u001b[0m\u001b[1;36m-9.1006e-02\u001b[0m\u001b[39m, \u001b[0m\u001b[1;36m-3.8463e-01\u001b[0m\u001b[39m, \u001b[0m\u001b[1;36m-2.3169e-01\u001b[0m\u001b[39m,  \u001b[0m\u001b[1;36m1.6282e-01\u001b[0m\u001b[39m,\u001b[0m\n",
       "\u001b[2;32m│   │     \u001b[0m\u001b[1;36m-3.4511e-01\u001b[0m\u001b[39m,  \u001b[0m\u001b[1;36m5.3912e-01\u001b[0m\u001b[39m, \u001b[0m\u001b[1;36m-9.2263e-02\u001b[0m\u001b[39m, \u001b[0m\u001b[1;36m-3.5038e-01\u001b[0m\u001b[39m, \u001b[0m\u001b[1;36m-2.1431e-02\u001b[0m\u001b[39m,\u001b[0m\n",
       "\u001b[2;32m│   │      \u001b[0m\u001b[1;36m6.6434e-01\u001b[0m\u001b[39m, \u001b[0m\u001b[1;36m-7.6531e-02\u001b[0m\u001b[39m,  \u001b[0m\u001b[1;36m9.3441e-02\u001b[0m\u001b[39m, \u001b[0m\u001b[1;36m-4.6037e-01\u001b[0m\u001b[39m, \u001b[0m\u001b[1;36m-2.8221e-01\u001b[0m\u001b[39m,\u001b[0m\n",
       "\u001b[2;32m│   │      \u001b[0m\u001b[1;36m1.9677e-01\u001b[0m\u001b[39m, \u001b[0m\u001b[1;36m-2.2990e-01\u001b[0m\u001b[39m,  \u001b[0m\u001b[1;36m7.5164e-02\u001b[0m\u001b[39m, \u001b[0m\u001b[1;36m-6.9823e-01\u001b[0m\u001b[39m, \u001b[0m\u001b[1;36m-2.6265e-02\u001b[0m\u001b[39m,\u001b[0m\n",
       "\u001b[2;32m│   │     \u001b[0m\u001b[1;36m-2.2995e-01\u001b[0m\u001b[39m,  \u001b[0m\u001b[1;36m4.2064e-01\u001b[0m\u001b[39m,  \u001b[0m\u001b[1;36m5.1642e-01\u001b[0m\u001b[39m, \u001b[0m\u001b[1;36m-5.0503e-01\u001b[0m\u001b[39m, \u001b[0m\u001b[1;36m-1.2235e-01\u001b[0m\u001b[39m,\u001b[0m\n",
       "\u001b[2;32m│   │     \u001b[0m\u001b[1;36m-3.1319e-01\u001b[0m\u001b[39m, \u001b[0m\u001b[1;36m-3.0889e-01\u001b[0m\u001b[1;39m]\u001b[0m\u001b[39m,\u001b[0m\n",
       "\u001b[2;32m│   │    \u001b[0m\u001b[1;39m[\u001b[0m\u001b[39m \u001b[0m\u001b[1;36m2.0242e-01\u001b[0m\u001b[39m,  \u001b[0m\u001b[1;36m2.6825e-02\u001b[0m\u001b[39m, \u001b[0m\u001b[1;36m-4.5110e-01\u001b[0m\u001b[39m, \u001b[0m\u001b[1;36m-4.0805e-01\u001b[0m\u001b[39m, \u001b[0m\u001b[1;36m-7.1884e-02\u001b[0m\u001b[39m,\u001b[0m\n",
       "\u001b[2;32m│   │      \u001b[0m\u001b[1;36m2.4606e-01\u001b[0m\u001b[39m, \u001b[0m\u001b[1;36m-2.2764e-02\u001b[0m\u001b[39m, \u001b[0m\u001b[1;36m-4.9260e-01\u001b[0m\u001b[39m, \u001b[0m\u001b[1;36m-2.4503e-01\u001b[0m\u001b[39m,  \u001b[0m\u001b[1;36m1.7325e-01\u001b[0m\u001b[39m,\u001b[0m\n",
       "\u001b[2;32m│   │     \u001b[0m\u001b[1;36m-2.8487e-01\u001b[0m\u001b[39m,  \u001b[0m\u001b[1;36m7.5707e-01\u001b[0m\u001b[39m,  \u001b[0m\u001b[1;36m1.0777e-01\u001b[0m\u001b[39m, \u001b[0m\u001b[1;36m-2.9874e-01\u001b[0m\u001b[39m, \u001b[0m\u001b[1;36m-9.5648e-02\u001b[0m\u001b[39m,\u001b[0m\n",
       "\u001b[2;32m│   │      \u001b[0m\u001b[1;36m4.9169e-01\u001b[0m\u001b[39m, \u001b[0m\u001b[1;36m-1.2763e-01\u001b[0m\u001b[39m,  \u001b[0m\u001b[1;36m2.0070e-01\u001b[0m\u001b[39m, \u001b[0m\u001b[1;36m-4.6786e-01\u001b[0m\u001b[39m, \u001b[0m\u001b[1;36m-3.3680e-01\u001b[0m\u001b[39m,\u001b[0m\n",
       "\u001b[2;32m│   │      \u001b[0m\u001b[1;36m1.9086e-01\u001b[0m\u001b[39m, \u001b[0m\u001b[1;36m-1.3286e-01\u001b[0m\u001b[39m, \u001b[0m\u001b[1;36m-9.1881e-02\u001b[0m\u001b[39m, \u001b[0m\u001b[1;36m-5.7352e-01\u001b[0m\u001b[39m, \u001b[0m\u001b[1;36m-4.5288e-03\u001b[0m\u001b[39m,\u001b[0m\n",
       "\u001b[2;32m│   │     \u001b[0m\u001b[1;36m-2.0855e-01\u001b[0m\u001b[39m,  \u001b[0m\u001b[1;36m6.5096e-01\u001b[0m\u001b[39m,  \u001b[0m\u001b[1;36m4.4067e-01\u001b[0m\u001b[39m, \u001b[0m\u001b[1;36m-5.7314e-01\u001b[0m\u001b[39m, \u001b[0m\u001b[1;36m-5.8301e-02\u001b[0m\u001b[39m,\u001b[0m\n",
       "\u001b[2;32m│   │     \u001b[0m\u001b[1;36m-2.3761e-01\u001b[0m\u001b[39m, \u001b[0m\u001b[1;36m-2.1452e-01\u001b[0m\u001b[1;39m]\u001b[0m\u001b[39m,\u001b[0m\n",
       "\u001b[2;32m│   │    \u001b[0m\u001b[1;39m[\u001b[0m\u001b[39m \u001b[0m\u001b[1;36m1.8780e-01\u001b[0m\u001b[39m,  \u001b[0m\u001b[1;36m6.2783e-02\u001b[0m\u001b[39m, \u001b[0m\u001b[1;36m-4.6163e-01\u001b[0m\u001b[39m, \u001b[0m\u001b[1;36m-4.5305e-01\u001b[0m\u001b[39m,  \u001b[0m\u001b[1;36m6.0266e-04\u001b[0m\u001b[39m,\u001b[0m\n",
       "\u001b[2;32m│   │      \u001b[0m\u001b[1;36m2.1883e-01\u001b[0m\u001b[39m, \u001b[0m\u001b[1;36m-3.1765e-02\u001b[0m\u001b[39m, \u001b[0m\u001b[1;36m-6.4387e-01\u001b[0m\u001b[39m, \u001b[0m\u001b[1;36m-2.1117e-01\u001b[0m\u001b[39m,  \u001b[0m\u001b[1;36m1.8674e-01\u001b[0m\u001b[39m,\u001b[0m\n",
       "\u001b[2;32m│   │     \u001b[0m\u001b[1;36m-2.1831e-01\u001b[0m\u001b[39m,  \u001b[0m\u001b[1;36m5.5684e-01\u001b[0m\u001b[39m, \u001b[0m\u001b[1;36m-2.1346e-01\u001b[0m\u001b[39m, \u001b[0m\u001b[1;36m-1.7274e-01\u001b[0m\u001b[39m,  \u001b[0m\u001b[1;36m7.9192e-02\u001b[0m\u001b[39m,\u001b[0m\n",
       "\u001b[2;32m│   │      \u001b[0m\u001b[1;36m5.2477e-01\u001b[0m\u001b[39m,  \u001b[0m\u001b[1;36m3.2306e-02\u001b[0m\u001b[39m,  \u001b[0m\u001b[1;36m2.5237e-01\u001b[0m\u001b[39m, \u001b[0m\u001b[1;36m-3.5488e-01\u001b[0m\u001b[39m, \u001b[0m\u001b[1;36m-4.3769e-01\u001b[0m\u001b[39m,\u001b[0m\n",
       "\u001b[2;32m│   │      \u001b[0m\u001b[1;36m1.1760e-01\u001b[0m\u001b[39m, \u001b[0m\u001b[1;36m-2.3693e-01\u001b[0m\u001b[39m,  \u001b[0m\u001b[1;36m1.1001e-01\u001b[0m\u001b[39m, \u001b[0m\u001b[1;36m-6.8596e-01\u001b[0m\u001b[39m,  \u001b[0m\u001b[1;36m1.5812e-02\u001b[0m\u001b[39m,\u001b[0m\n",
       "\u001b[2;32m│   │     \u001b[0m\u001b[1;36m-2.1289e-01\u001b[0m\u001b[39m,  \u001b[0m\u001b[1;36m5.3101e-01\u001b[0m\u001b[39m,  \u001b[0m\u001b[1;36m3.9206e-01\u001b[0m\u001b[39m, \u001b[0m\u001b[1;36m-5.7805e-01\u001b[0m\u001b[39m, \u001b[0m\u001b[1;36m-1.5252e-01\u001b[0m\u001b[39m,\u001b[0m\n",
       "\u001b[2;32m│   │     \u001b[0m\u001b[1;36m-2.7923e-01\u001b[0m\u001b[39m, \u001b[0m\u001b[1;36m-1.4672e-01\u001b[0m\u001b[1;39m]\u001b[0m\u001b[1;39m]\u001b[0m\u001b[39m,\u001b[0m\n",
       "\u001b[2;32m│   │   \u001b[0m\n",
       "\u001b[2;32m│   │   \u001b[0m\u001b[1;39m[\u001b[0m\u001b[1;39m[\u001b[0m\u001b[39m \u001b[0m\u001b[1;36m1.6516e-01\u001b[0m\u001b[39m, \u001b[0m\u001b[1;36m-3.8709e-01\u001b[0m\u001b[39m, \u001b[0m\u001b[1;36m-7.3606e-02\u001b[0m\u001b[39m, \u001b[0m\u001b[1;36m-4.5945e-01\u001b[0m\u001b[39m,  \u001b[0m\u001b[1;36m1.6454e-01\u001b[0m\u001b[39m,\u001b[0m\n",
       "\u001b[2;32m│   │      \u001b[0m\u001b[1;36m4.6253e-03\u001b[0m\u001b[39m,  \u001b[0m\u001b[1;36m3.0754e-01\u001b[0m\u001b[39m,  \u001b[0m\u001b[1;36m1.6040e-01\u001b[0m\u001b[39m, \u001b[0m\u001b[1;36m-3.5832e-02\u001b[0m\u001b[39m,  \u001b[0m\u001b[1;36m2.4419e-01\u001b[0m\u001b[39m,\u001b[0m\n",
       "\u001b[2;32m│   │     \u001b[0m\u001b[1;36m-2.8857e-02\u001b[0m\u001b[39m,  \u001b[0m\u001b[1;36m4.6933e-01\u001b[0m\u001b[39m, \u001b[0m\u001b[1;36m-3.3599e-01\u001b[0m\u001b[39m,  \u001b[0m\u001b[1;36m7.2972e-01\u001b[0m\u001b[39m, \u001b[0m\u001b[1;36m-1.6001e-01\u001b[0m\u001b[39m,\u001b[0m\n",
       "\u001b[2;32m│   │     \u001b[0m\u001b[1;36m-2.2981e-01\u001b[0m\u001b[39m,  \u001b[0m\u001b[1;36m4.9051e-02\u001b[0m\u001b[39m,  \u001b[0m\u001b[1;36m4.2412e-01\u001b[0m\u001b[39m,  \u001b[0m\u001b[1;36m1.3322e-01\u001b[0m\u001b[39m, \u001b[0m\u001b[1;36m-3.3225e-01\u001b[0m\u001b[39m,\u001b[0m\n",
       "\u001b[2;32m│   │      \u001b[0m\u001b[1;36m1.0066e-01\u001b[0m\u001b[39m,  \u001b[0m\u001b[1;36m1.6477e-01\u001b[0m\u001b[39m, \u001b[0m\u001b[1;36m-1.0464e-01\u001b[0m\u001b[39m, \u001b[0m\u001b[1;36m-2.6505e-01\u001b[0m\u001b[39m,  \u001b[0m\u001b[1;36m2.5371e-01\u001b[0m\u001b[39m,\u001b[0m\n",
       "\u001b[2;32m│   │     \u001b[0m\u001b[1;36m-2.4672e-01\u001b[0m\u001b[39m, \u001b[0m\u001b[1;36m-3.4423e-01\u001b[0m\u001b[39m,  \u001b[0m\u001b[1;36m2.0274e-01\u001b[0m\u001b[39m, \u001b[0m\u001b[1;36m-2.0190e-02\u001b[0m\u001b[39m,  \u001b[0m\u001b[1;36m3.8387e-01\u001b[0m\u001b[39m,\u001b[0m\n",
       "\u001b[2;32m│   │     \u001b[0m\u001b[1;36m-1.7013e-02\u001b[0m\u001b[39m, \u001b[0m\u001b[1;36m-4.3642e-02\u001b[0m\u001b[1;39m]\u001b[0m\u001b[39m,\u001b[0m\n",
       "\u001b[2;32m│   │    \u001b[0m\u001b[1;39m[\u001b[0m\u001b[1;36m-7.4558e-02\u001b[0m\u001b[39m, \u001b[0m\u001b[1;36m-4.8926e-01\u001b[0m\u001b[39m, \u001b[0m\u001b[1;36m-3.4035e-01\u001b[0m\u001b[39m, \u001b[0m\u001b[1;36m-9.9913e-02\u001b[0m\u001b[39m,  \u001b[0m\u001b[1;36m1.7870e-02\u001b[0m\u001b[39m,\u001b[0m\n",
       "\u001b[2;32m│   │      \u001b[0m\u001b[1;36m1.6485e-01\u001b[0m\u001b[39m,  \u001b[0m\u001b[1;36m3.6949e-01\u001b[0m\u001b[39m, \u001b[0m\u001b[1;36m-2.6449e-01\u001b[0m\u001b[39m, \u001b[0m\u001b[1;36m-4.1682e-02\u001b[0m\u001b[39m,  \u001b[0m\u001b[1;36m1.9024e-01\u001b[0m\u001b[39m,\u001b[0m\n",
       "\u001b[2;32m│   │      \u001b[0m\u001b[1;36m3.7961e-02\u001b[0m\u001b[39m,  \u001b[0m\u001b[1;36m3.9617e-01\u001b[0m\u001b[39m, \u001b[0m\u001b[1;36m-3.1455e-01\u001b[0m\u001b[39m,  \u001b[0m\u001b[1;36m4.0304e-01\u001b[0m\u001b[39m, \u001b[0m\u001b[1;36m-1.3707e-01\u001b[0m\u001b[39m,\u001b[0m\n",
       "\u001b[2;32m│   │     \u001b[0m\u001b[1;36m-2.8458e-01\u001b[0m\u001b[39m,  \u001b[0m\u001b[1;36m2.0129e-01\u001b[0m\u001b[39m,  \u001b[0m\u001b[1;36m2.7816e-01\u001b[0m\u001b[39m, \u001b[0m\u001b[1;36m-2.0111e-01\u001b[0m\u001b[39m,  \u001b[0m\u001b[1;36m3.8143e-02\u001b[0m\u001b[39m,\u001b[0m\n",
       "\u001b[2;32m│   │      \u001b[0m\u001b[1;36m5.0758e-01\u001b[0m\u001b[39m,  \u001b[0m\u001b[1;36m4.1082e-01\u001b[0m\u001b[39m, \u001b[0m\u001b[1;36m-4.2129e-01\u001b[0m\u001b[39m, \u001b[0m\u001b[1;36m-1.4597e-01\u001b[0m\u001b[39m,  \u001b[0m\u001b[1;36m1.0307e-01\u001b[0m\u001b[39m,\u001b[0m\n",
       "\u001b[2;32m│   │     \u001b[0m\u001b[1;36m-3.9279e-01\u001b[0m\u001b[39m, \u001b[0m\u001b[1;36m-2.7119e-01\u001b[0m\u001b[39m,  \u001b[0m\u001b[1;36m3.0272e-01\u001b[0m\u001b[39m, \u001b[0m\u001b[1;36m-1.4467e-01\u001b[0m\u001b[39m,  \u001b[0m\u001b[1;36m1.9915e-01\u001b[0m\u001b[39m,\u001b[0m\n",
       "\u001b[2;32m│   │      \u001b[0m\u001b[1;36m3.8435e-01\u001b[0m\u001b[39m, \u001b[0m\u001b[1;36m-2.0867e-01\u001b[0m\u001b[1;39m]\u001b[0m\u001b[39m,\u001b[0m\n",
       "\u001b[2;32m│   │    \u001b[0m\u001b[1;39m[\u001b[0m\u001b[1;36m-3.4802e-01\u001b[0m\u001b[39m, \u001b[0m\u001b[1;36m-2.2825e-01\u001b[0m\u001b[39m, \u001b[0m\u001b[1;36m-3.5529e-01\u001b[0m\u001b[39m, \u001b[0m\u001b[1;36m-2.6172e-01\u001b[0m\u001b[39m, \u001b[0m\u001b[1;36m-2.2336e-02\u001b[0m\u001b[39m,\u001b[0m\n",
       "\u001b[2;32m│   │      \u001b[0m\u001b[1;36m2.6127e-01\u001b[0m\u001b[39m,  \u001b[0m\u001b[1;36m3.7355e-01\u001b[0m\u001b[39m, \u001b[0m\u001b[1;36m-2.6493e-01\u001b[0m\u001b[39m,  \u001b[0m\u001b[1;36m2.1480e-02\u001b[0m\u001b[39m,  \u001b[0m\u001b[1;36m1.3850e-01\u001b[0m\u001b[39m,\u001b[0m\n",
       "\u001b[2;32m│   │      \u001b[0m\u001b[1;36m1.0962e-01\u001b[0m\u001b[39m,  \u001b[0m\u001b[1;36m6.7182e-01\u001b[0m\u001b[39m, \u001b[0m\u001b[1;36m-2.2394e-01\u001b[0m\u001b[39m,  \u001b[0m\u001b[1;36m3.0515e-01\u001b[0m\u001b[39m,  \u001b[0m\u001b[1;36m6.7791e-02\u001b[0m\u001b[39m,\u001b[0m\n",
       "\u001b[2;32m│   │     \u001b[0m\u001b[1;36m-2.9881e-01\u001b[0m\u001b[39m,  \u001b[0m\u001b[1;36m1.0715e-01\u001b[0m\u001b[39m,  \u001b[0m\u001b[1;36m4.9885e-02\u001b[0m\u001b[39m, \u001b[0m\u001b[1;36m-2.2266e-01\u001b[0m\u001b[39m,  \u001b[0m\u001b[1;36m1.2056e-01\u001b[0m\u001b[39m,\u001b[0m\n",
       "\u001b[2;32m│   │      \u001b[0m\u001b[1;36m4.6018e-01\u001b[0m\u001b[39m,  \u001b[0m\u001b[1;36m3.5101e-01\u001b[0m\u001b[39m, \u001b[0m\u001b[1;36m-3.5328e-01\u001b[0m\u001b[39m, \u001b[0m\u001b[1;36m-1.0768e-01\u001b[0m\u001b[39m,  \u001b[0m\u001b[1;36m5.4070e-03\u001b[0m\u001b[39m,\u001b[0m\n",
       "\u001b[2;32m│   │     \u001b[0m\u001b[1;36m-1.4420e-01\u001b[0m\u001b[39m, \u001b[0m\u001b[1;36m-1.5782e-01\u001b[0m\u001b[39m,  \u001b[0m\u001b[1;36m1.4993e-01\u001b[0m\u001b[39m, \u001b[0m\u001b[1;36m-3.9918e-01\u001b[0m\u001b[39m,  \u001b[0m\u001b[1;36m5.3259e-01\u001b[0m\u001b[39m,\u001b[0m\n",
       "\u001b[2;32m│   │      \u001b[0m\u001b[1;36m3.2654e-01\u001b[0m\u001b[39m, \u001b[0m\u001b[1;36m-2.9260e-01\u001b[0m\u001b[1;39m]\u001b[0m\u001b[39m,\u001b[0m\n",
       "\u001b[2;32m│   │    \u001b[0m\u001b[1;39m[\u001b[0m\u001b[1;36m-2.3829e-01\u001b[0m\u001b[39m, \u001b[0m\u001b[1;36m-7.0547e-02\u001b[0m\u001b[39m, \u001b[0m\u001b[1;36m-2.8726e-01\u001b[0m\u001b[39m, \u001b[0m\u001b[1;36m-2.5699e-01\u001b[0m\u001b[39m, \u001b[0m\u001b[1;36m-1.1256e-01\u001b[0m\u001b[39m,\u001b[0m\n",
       "\u001b[2;32m│   │      \u001b[0m\u001b[1;36m1.1607e-01\u001b[0m\u001b[39m,  \u001b[0m\u001b[1;36m2.8980e-01\u001b[0m\u001b[39m, \u001b[0m\u001b[1;36m-3.1389e-01\u001b[0m\u001b[39m,  \u001b[0m\u001b[1;36m3.1957e-01\u001b[0m\u001b[39m,  \u001b[0m\u001b[1;36m3.1108e-01\u001b[0m\u001b[39m,\u001b[0m\n",
       "\u001b[2;32m│   │      \u001b[0m\u001b[1;36m4.1999e-01\u001b[0m\u001b[39m,  \u001b[0m\u001b[1;36m5.1734e-01\u001b[0m\u001b[39m, \u001b[0m\u001b[1;36m-1.8984e-01\u001b[0m\u001b[39m,  \u001b[0m\u001b[1;36m2.5167e-01\u001b[0m\u001b[39m,  \u001b[0m\u001b[1;36m4.0380e-02\u001b[0m\u001b[39m,\u001b[0m\n",
       "\u001b[2;32m│   │     \u001b[0m\u001b[1;36m-1.9407e-01\u001b[0m\u001b[39m,  \u001b[0m\u001b[1;36m2.5661e-01\u001b[0m\u001b[39m,  \u001b[0m\u001b[1;36m8.7557e-02\u001b[0m\u001b[39m, \u001b[0m\u001b[1;36m-3.8751e-02\u001b[0m\u001b[39m,  \u001b[0m\u001b[1;36m1.1305e-01\u001b[0m\u001b[39m,\u001b[0m\n",
       "\u001b[2;32m│   │      \u001b[0m\u001b[1;36m4.5989e-01\u001b[0m\u001b[39m,  \u001b[0m\u001b[1;36m4.0931e-01\u001b[0m\u001b[39m, \u001b[0m\u001b[1;36m-4.5172e-01\u001b[0m\u001b[39m, \u001b[0m\u001b[1;36m-1.7560e-01\u001b[0m\u001b[39m, \u001b[0m\u001b[1;36m-1.7299e-01\u001b[0m\u001b[39m,\u001b[0m\n",
       "\u001b[2;32m│   │     \u001b[0m\u001b[1;36m-1.0113e-01\u001b[0m\u001b[39m, \u001b[0m\u001b[1;36m-1.1262e-01\u001b[0m\u001b[39m, \u001b[0m\u001b[1;36m-1.8438e-02\u001b[0m\u001b[39m, \u001b[0m\u001b[1;36m-3.6429e-01\u001b[0m\u001b[39m,  \u001b[0m\u001b[1;36m3.8055e-01\u001b[0m\u001b[39m,\u001b[0m\n",
       "\u001b[2;32m│   │      \u001b[0m\u001b[1;36m4.9983e-01\u001b[0m\u001b[39m, \u001b[0m\u001b[1;36m-5.1607e-01\u001b[0m\u001b[1;39m]\u001b[0m\u001b[39m,\u001b[0m\n",
       "\u001b[2;32m│   │    \u001b[0m\u001b[1;39m[\u001b[0m\u001b[1;36m-2.2295e-01\u001b[0m\u001b[39m, \u001b[0m\u001b[1;36m-1.1396e-01\u001b[0m\u001b[39m, \u001b[0m\u001b[1;36m-7.0574e-03\u001b[0m\u001b[39m, \u001b[0m\u001b[1;36m-1.0553e-01\u001b[0m\u001b[39m, \u001b[0m\u001b[1;36m-2.6223e-01\u001b[0m\u001b[39m,\u001b[0m\n",
       "\u001b[2;32m│   │      \u001b[0m\u001b[1;36m1.2642e-01\u001b[0m\u001b[39m,  \u001b[0m\u001b[1;36m2.9560e-01\u001b[0m\u001b[39m, \u001b[0m\u001b[1;36m-1.3295e-02\u001b[0m\u001b[39m,  \u001b[0m\u001b[1;36m2.8055e-01\u001b[0m\u001b[39m,  \u001b[0m\u001b[1;36m1.9339e-01\u001b[0m\u001b[39m,\u001b[0m\n",
       "\u001b[2;32m│   │      \u001b[0m\u001b[1;36m3.3370e-01\u001b[0m\u001b[39m,  \u001b[0m\u001b[1;36m4.8414e-01\u001b[0m\u001b[39m, \u001b[0m\u001b[1;36m-2.8866e-01\u001b[0m\u001b[39m,  \u001b[0m\u001b[1;36m2.8186e-01\u001b[0m\u001b[39m,  \u001b[0m\u001b[1;36m1.1260e-01\u001b[0m\u001b[39m,\u001b[0m\n",
       "\u001b[2;32m│   │      \u001b[0m\u001b[1;36m8.0107e-02\u001b[0m\u001b[39m,  \u001b[0m\u001b[1;36m2.1795e-01\u001b[0m\u001b[39m,  \u001b[0m\u001b[1;36m1.8178e-01\u001b[0m\u001b[39m,  \u001b[0m\u001b[1;36m7.3868e-02\u001b[0m\u001b[39m,  \u001b[0m\u001b[1;36m4.0110e-01\u001b[0m\u001b[39m,\u001b[0m\n",
       "\u001b[2;32m│   │      \u001b[0m\u001b[1;36m4.3338e-01\u001b[0m\u001b[39m,  \u001b[0m\u001b[1;36m3.8996e-01\u001b[0m\u001b[39m, \u001b[0m\u001b[1;36m-1.1479e-01\u001b[0m\u001b[39m, \u001b[0m\u001b[1;36m-7.5292e-02\u001b[0m\u001b[39m, \u001b[0m\u001b[1;36m-3.2897e-01\u001b[0m\u001b[39m,\u001b[0m\n",
       "\u001b[2;32m│   │     \u001b[0m\u001b[1;36m-1.0699e-01\u001b[0m\u001b[39m,  \u001b[0m\u001b[1;36m1.4775e-02\u001b[0m\u001b[39m, \u001b[0m\u001b[1;36m-5.1134e-02\u001b[0m\u001b[39m, \u001b[0m\u001b[1;36m-4.0269e-01\u001b[0m\u001b[39m,  \u001b[0m\u001b[1;36m3.8246e-01\u001b[0m\u001b[39m,\u001b[0m\n",
       "\u001b[2;32m│   │      \u001b[0m\u001b[1;36m5.7757e-01\u001b[0m\u001b[39m, \u001b[0m\u001b[1;36m-6.2126e-01\u001b[0m\u001b[1;39m]\u001b[0m\u001b[39m,\u001b[0m\n",
       "\u001b[2;32m│   │    \u001b[0m\u001b[1;39m[\u001b[0m\u001b[1;36m-1.5717e-01\u001b[0m\u001b[39m,  \u001b[0m\u001b[1;36m4.9611e-02\u001b[0m\u001b[39m,  \u001b[0m\u001b[1;36m3.7857e-02\u001b[0m\u001b[39m, \u001b[0m\u001b[1;36m-7.0055e-02\u001b[0m\u001b[39m, \u001b[0m\u001b[1;36m-1.3334e-01\u001b[0m\u001b[39m,\u001b[0m\n",
       "\u001b[2;32m│   │      \u001b[0m\u001b[1;36m1.7712e-01\u001b[0m\u001b[39m,  \u001b[0m\u001b[1;36m3.5093e-01\u001b[0m\u001b[39m, \u001b[0m\u001b[1;36m-2.9169e-01\u001b[0m\u001b[39m,  \u001b[0m\u001b[1;36m1.4205e-01\u001b[0m\u001b[39m,  \u001b[0m\u001b[1;36m1.9889e-01\u001b[0m\u001b[39m,\u001b[0m\n",
       "\u001b[2;32m│   │      \u001b[0m\u001b[1;36m3.6089e-01\u001b[0m\u001b[39m,  \u001b[0m\u001b[1;36m5.3766e-01\u001b[0m\u001b[39m, \u001b[0m\u001b[1;36m-4.1103e-01\u001b[0m\u001b[39m,  \u001b[0m\u001b[1;36m2.5037e-01\u001b[0m\u001b[39m,  \u001b[0m\u001b[1;36m1.0039e-01\u001b[0m\u001b[39m,\u001b[0m\n",
       "\u001b[2;32m│   │     \u001b[0m\u001b[1;36m-1.9207e-02\u001b[0m\u001b[39m,  \u001b[0m\u001b[1;36m3.7936e-01\u001b[0m\u001b[39m,  \u001b[0m\u001b[1;36m2.5950e-02\u001b[0m\u001b[39m, \u001b[0m\u001b[1;36m-1.1865e-01\u001b[0m\u001b[39m,  \u001b[0m\u001b[1;36m2.7807e-01\u001b[0m\u001b[39m,\u001b[0m\n",
       "\u001b[2;32m│   │      \u001b[0m\u001b[1;36m3.1732e-01\u001b[0m\u001b[39m,  \u001b[0m\u001b[1;36m4.7598e-01\u001b[0m\u001b[39m,  \u001b[0m\u001b[1;36m1.3816e-01\u001b[0m\u001b[39m, \u001b[0m\u001b[1;36m-2.0919e-01\u001b[0m\u001b[39m, \u001b[0m\u001b[1;36m-2.6297e-01\u001b[0m\u001b[39m,\u001b[0m\n",
       "\u001b[2;32m│   │     \u001b[0m\u001b[1;36m-1.2503e-01\u001b[0m\u001b[39m,  \u001b[0m\u001b[1;36m1.8251e-01\u001b[0m\u001b[39m, \u001b[0m\u001b[1;36m-3.1570e-02\u001b[0m\u001b[39m, \u001b[0m\u001b[1;36m-6.5754e-01\u001b[0m\u001b[39m,  \u001b[0m\u001b[1;36m2.2904e-01\u001b[0m\u001b[39m,\u001b[0m\n",
       "\u001b[2;32m│   │      \u001b[0m\u001b[1;36m4.8678e-01\u001b[0m\u001b[39m, \u001b[0m\u001b[1;36m-4.3710e-01\u001b[0m\u001b[1;39m]\u001b[0m\u001b[39m,\u001b[0m\n",
       "\u001b[2;32m│   │    \u001b[0m\u001b[1;39m[\u001b[0m\u001b[1;36m-2.5996e-01\u001b[0m\u001b[39m, \u001b[0m\u001b[1;36m-4.8312e-03\u001b[0m\u001b[39m, \u001b[0m\u001b[1;36m-7.0360e-02\u001b[0m\u001b[39m, \u001b[0m\u001b[1;36m-2.4164e-01\u001b[0m\u001b[39m, \u001b[0m\u001b[1;36m-2.2528e-01\u001b[0m\u001b[39m,\u001b[0m\n",
       "\u001b[2;32m│   │      \u001b[0m\u001b[1;36m3.2764e-01\u001b[0m\u001b[39m,  \u001b[0m\u001b[1;36m2.4634e-01\u001b[0m\u001b[39m, \u001b[0m\u001b[1;36m-1.9044e-01\u001b[0m\u001b[39m,  \u001b[0m\u001b[1;36m1.4033e-01\u001b[0m\u001b[39m,  \u001b[0m\u001b[1;36m2.6708e-01\u001b[0m\u001b[39m,\u001b[0m\n",
       "\u001b[2;32m│   │      \u001b[0m\u001b[1;36m2.6827e-01\u001b[0m\u001b[39m,  \u001b[0m\u001b[1;36m4.6412e-01\u001b[0m\u001b[39m, \u001b[0m\u001b[1;36m-4.6004e-01\u001b[0m\u001b[39m,  \u001b[0m\u001b[1;36m3.7195e-02\u001b[0m\u001b[39m,  \u001b[0m\u001b[1;36m1.8442e-01\u001b[0m\u001b[39m,\u001b[0m\n",
       "\u001b[2;32m│   │     \u001b[0m\u001b[1;36m-9.2144e-02\u001b[0m\u001b[39m,  \u001b[0m\u001b[1;36m2.9979e-01\u001b[0m\u001b[39m, \u001b[0m\u001b[1;36m-3.5033e-02\u001b[0m\u001b[39m, \u001b[0m\u001b[1;36m-1.1754e-01\u001b[0m\u001b[39m,  \u001b[0m\u001b[1;36m2.7263e-01\u001b[0m\u001b[39m,\u001b[0m\n",
       "\u001b[2;32m│   │      \u001b[0m\u001b[1;36m2.9350e-01\u001b[0m\u001b[39m,  \u001b[0m\u001b[1;36m7.3604e-01\u001b[0m\u001b[39m,  \u001b[0m\u001b[1;36m5.8802e-03\u001b[0m\u001b[39m, \u001b[0m\u001b[1;36m-2.5696e-01\u001b[0m\u001b[39m, \u001b[0m\u001b[1;36m-1.9355e-01\u001b[0m\u001b[39m,\u001b[0m\n",
       "\u001b[2;32m│   │      \u001b[0m\u001b[1;36m9.7955e-02\u001b[0m\u001b[39m,  \u001b[0m\u001b[1;36m2.1985e-01\u001b[0m\u001b[39m, \u001b[0m\u001b[1;36m-1.1738e-01\u001b[0m\u001b[39m, \u001b[0m\u001b[1;36m-5.8300e-01\u001b[0m\u001b[39m,  \u001b[0m\u001b[1;36m2.7138e-01\u001b[0m\u001b[39m,\u001b[0m\n",
       "\u001b[2;32m│   │      \u001b[0m\u001b[1;36m4.2247e-01\u001b[0m\u001b[39m, \u001b[0m\u001b[1;36m-5.8711e-01\u001b[0m\u001b[1;39m]\u001b[0m\u001b[39m,\u001b[0m\n",
       "\u001b[2;32m│   │    \u001b[0m\u001b[1;39m[\u001b[0m\u001b[1;36m-2.6539e-01\u001b[0m\u001b[39m,  \u001b[0m\u001b[1;36m4.1517e-03\u001b[0m\u001b[39m,  \u001b[0m\u001b[1;36m1.5181e-02\u001b[0m\u001b[39m,  \u001b[0m\u001b[1;36m1.2781e-02\u001b[0m\u001b[39m, \u001b[0m\u001b[1;36m-1.2961e-01\u001b[0m\u001b[39m,\u001b[0m\n",
       "\u001b[2;32m│   │      \u001b[0m\u001b[1;36m1.1274e-01\u001b[0m\u001b[39m,  \u001b[0m\u001b[1;36m3.5967e-01\u001b[0m\u001b[39m, \u001b[0m\u001b[1;36m-3.5489e-02\u001b[0m\u001b[39m,  \u001b[0m\u001b[1;36m3.4079e-01\u001b[0m\u001b[39m,  \u001b[0m\u001b[1;36m3.0638e-01\u001b[0m\u001b[39m,\u001b[0m\n",
       "\u001b[2;32m│   │      \u001b[0m\u001b[1;36m4.1123e-01\u001b[0m\u001b[39m,  \u001b[0m\u001b[1;36m3.5991e-01\u001b[0m\u001b[39m, \u001b[0m\u001b[1;36m-1.2175e-01\u001b[0m\u001b[39m,  \u001b[0m\u001b[1;36m1.3398e-01\u001b[0m\u001b[39m,  \u001b[0m\u001b[1;36m2.3612e-01\u001b[0m\u001b[39m,\u001b[0m\n",
       "\u001b[2;32m│   │     \u001b[0m\u001b[1;36m-2.5234e-01\u001b[0m\u001b[39m,  \u001b[0m\u001b[1;36m2.9047e-01\u001b[0m\u001b[39m, \u001b[0m\u001b[1;36m-1.9565e-01\u001b[0m\u001b[39m, \u001b[0m\u001b[1;36m-2.7314e-01\u001b[0m\u001b[39m,  \u001b[0m\u001b[1;36m3.1241e-01\u001b[0m\u001b[39m,\u001b[0m\n",
       "\u001b[2;32m│   │      \u001b[0m\u001b[1;36m9.8164e-02\u001b[0m\u001b[39m,  \u001b[0m\u001b[1;36m7.1076e-01\u001b[0m\u001b[39m,  \u001b[0m\u001b[1;36m4.5611e-02\u001b[0m\u001b[39m, \u001b[0m\u001b[1;36m-1.6697e-01\u001b[0m\u001b[39m, \u001b[0m\u001b[1;36m-3.7879e-01\u001b[0m\u001b[39m,\u001b[0m\n",
       "\u001b[2;32m│   │      \u001b[0m\u001b[1;36m1.6025e-01\u001b[0m\u001b[39m,  \u001b[0m\u001b[1;36m2.1716e-01\u001b[0m\u001b[39m, \u001b[0m\u001b[1;36m-8.1111e-02\u001b[0m\u001b[39m, \u001b[0m\u001b[1;36m-3.1937e-01\u001b[0m\u001b[39m,  \u001b[0m\u001b[1;36m1.1062e-01\u001b[0m\u001b[39m,\u001b[0m\n",
       "\u001b[2;32m│   │      \u001b[0m\u001b[1;36m4.1277e-01\u001b[0m\u001b[39m, \u001b[0m\u001b[1;36m-5.5332e-01\u001b[0m\u001b[1;39m]\u001b[0m\u001b[39m,\u001b[0m\n",
       "\u001b[2;32m│   │    \u001b[0m\u001b[1;39m[\u001b[0m\u001b[1;36m-2.6097e-01\u001b[0m\u001b[39m,  \u001b[0m\u001b[1;36m3.5211e-02\u001b[0m\u001b[39m,  \u001b[0m\u001b[1;36m1.0137e-01\u001b[0m\u001b[39m, \u001b[0m\u001b[1;36m-1.0343e-01\u001b[0m\u001b[39m, \u001b[0m\u001b[1;36m-3.3685e-01\u001b[0m\u001b[39m,\u001b[0m\n",
       "\u001b[2;32m│   │     \u001b[0m\u001b[1;36m-1.1351e-01\u001b[0m\u001b[39m,  \u001b[0m\u001b[1;36m2.1570e-01\u001b[0m\u001b[39m, \u001b[0m\u001b[1;36m-2.2815e-01\u001b[0m\u001b[39m,  \u001b[0m\u001b[1;36m6.5419e-02\u001b[0m\u001b[39m,  \u001b[0m\u001b[1;36m2.8954e-01\u001b[0m\u001b[39m,\u001b[0m\n",
       "\u001b[2;32m│   │      \u001b[0m\u001b[1;36m1.1245e-01\u001b[0m\u001b[39m,  \u001b[0m\u001b[1;36m4.9224e-01\u001b[0m\u001b[39m, \u001b[0m\u001b[1;36m-2.3751e-01\u001b[0m\u001b[39m, \u001b[0m\u001b[1;36m-1.0211e-02\u001b[0m\u001b[39m,  \u001b[0m\u001b[1;36m2.0243e-01\u001b[0m\u001b[39m,\u001b[0m\n",
       "\u001b[2;32m│   │      \u001b[0m\u001b[1;36m2.4743e-02\u001b[0m\u001b[39m,  \u001b[0m\u001b[1;36m6.4739e-01\u001b[0m\u001b[39m, \u001b[0m\u001b[1;36m-3.4207e-03\u001b[0m\u001b[39m, \u001b[0m\u001b[1;36m-3.0222e-01\u001b[0m\u001b[39m,  \u001b[0m\u001b[1;36m2.1826e-01\u001b[0m\u001b[39m,\u001b[0m\n",
       "\u001b[2;32m│   │      \u001b[0m\u001b[1;36m1.6319e-01\u001b[0m\u001b[39m,  \u001b[0m\u001b[1;36m6.0491e-01\u001b[0m\u001b[39m,  \u001b[0m\u001b[1;36m2.8514e-02\u001b[0m\u001b[39m, \u001b[0m\u001b[1;36m-2.5603e-01\u001b[0m\u001b[39m, \u001b[0m\u001b[1;36m-5.4598e-01\u001b[0m\u001b[39m,\u001b[0m\n",
       "\u001b[2;32m│   │     \u001b[0m\u001b[1;36m-1.4417e-02\u001b[0m\u001b[39m,  \u001b[0m\u001b[1;36m3.3761e-01\u001b[0m\u001b[39m, \u001b[0m\u001b[1;36m-1.5896e-01\u001b[0m\u001b[39m, \u001b[0m\u001b[1;36m-3.4074e-02\u001b[0m\u001b[39m, \u001b[0m\u001b[1;36m-1.7686e-01\u001b[0m\u001b[39m,\u001b[0m\n",
       "\u001b[2;32m│   │      \u001b[0m\u001b[1;36m3.8958e-01\u001b[0m\u001b[39m, \u001b[0m\u001b[1;36m-6.4709e-01\u001b[0m\u001b[1;39m]\u001b[0m\u001b[39m,\u001b[0m\n",
       "\u001b[2;32m│   │    \u001b[0m\u001b[1;39m[\u001b[0m\u001b[1;36m-2.0729e-01\u001b[0m\u001b[39m, \u001b[0m\u001b[1;36m-3.5711e-02\u001b[0m\u001b[39m,  \u001b[0m\u001b[1;36m7.6000e-02\u001b[0m\u001b[39m, \u001b[0m\u001b[1;36m-2.0589e-02\u001b[0m\u001b[39m, \u001b[0m\u001b[1;36m-3.5196e-01\u001b[0m\u001b[39m,\u001b[0m\n",
       "\u001b[2;32m│   │      \u001b[0m\u001b[1;36m1.7530e-01\u001b[0m\u001b[39m,  \u001b[0m\u001b[1;36m1.7784e-01\u001b[0m\u001b[39m, \u001b[0m\u001b[1;36m-1.6331e-01\u001b[0m\u001b[39m,  \u001b[0m\u001b[1;36m6.0046e-02\u001b[0m\u001b[39m,  \u001b[0m\u001b[1;36m2.3115e-01\u001b[0m\u001b[39m,\u001b[0m\n",
       "\u001b[2;32m│   │      \u001b[0m\u001b[1;36m2.1987e-01\u001b[0m\u001b[39m,  \u001b[0m\u001b[1;36m3.5838e-01\u001b[0m\u001b[39m, \u001b[0m\u001b[1;36m-3.1787e-01\u001b[0m\u001b[39m,  \u001b[0m\u001b[1;36m4.7751e-02\u001b[0m\u001b[39m,  \u001b[0m\u001b[1;36m3.1438e-01\u001b[0m\u001b[39m,\u001b[0m\n",
       "\u001b[2;32m│   │     \u001b[0m\u001b[1;36m-2.9021e-01\u001b[0m\u001b[39m,  \u001b[0m\u001b[1;36m4.7344e-01\u001b[0m\u001b[39m,  \u001b[0m\u001b[1;36m1.0531e-01\u001b[0m\u001b[39m, \u001b[0m\u001b[1;36m-3.4209e-01\u001b[0m\u001b[39m,  \u001b[0m\u001b[1;36m3.1891e-01\u001b[0m\u001b[39m,\u001b[0m\n",
       "\u001b[2;32m│   │      \u001b[0m\u001b[1;36m3.6563e-01\u001b[0m\u001b[39m,  \u001b[0m\u001b[1;36m7.2096e-01\u001b[0m\u001b[39m, \u001b[0m\u001b[1;36m-2.2795e-01\u001b[0m\u001b[39m, \u001b[0m\u001b[1;36m-2.5195e-01\u001b[0m\u001b[39m, \u001b[0m\u001b[1;36m-4.1829e-01\u001b[0m\u001b[39m,\u001b[0m\n",
       "\u001b[2;32m│   │     \u001b[0m\u001b[1;36m-2.4506e-02\u001b[0m\u001b[39m,  \u001b[0m\u001b[1;36m4.3136e-01\u001b[0m\u001b[39m, \u001b[0m\u001b[1;36m-9.1793e-02\u001b[0m\u001b[39m, \u001b[0m\u001b[1;36m-1.0688e-01\u001b[0m\u001b[39m, \u001b[0m\u001b[1;36m-2.3169e-01\u001b[0m\u001b[39m,\u001b[0m\n",
       "\u001b[2;32m│   │      \u001b[0m\u001b[1;36m5.8254e-01\u001b[0m\u001b[39m, \u001b[0m\u001b[1;36m-6.8289e-01\u001b[0m\u001b[1;39m]\u001b[0m\u001b[39m,\u001b[0m\n",
       "\u001b[2;32m│   │    \u001b[0m\u001b[1;39m[\u001b[0m\u001b[1;36m-4.8502e-01\u001b[0m\u001b[39m,  \u001b[0m\u001b[1;36m1.4847e-01\u001b[0m\u001b[39m,  \u001b[0m\u001b[1;36m1.6915e-01\u001b[0m\u001b[39m, \u001b[0m\u001b[1;36m-1.5175e-01\u001b[0m\u001b[39m, \u001b[0m\u001b[1;36m-2.7789e-01\u001b[0m\u001b[39m,\u001b[0m\n",
       "\u001b[2;32m│   │     \u001b[0m\u001b[1;36m-5.8387e-02\u001b[0m\u001b[39m,  \u001b[0m\u001b[1;36m2.4211e-01\u001b[0m\u001b[39m, \u001b[0m\u001b[1;36m-1.3421e-01\u001b[0m\u001b[39m,  \u001b[0m\u001b[1;36m1.5876e-01\u001b[0m\u001b[39m,  \u001b[0m\u001b[1;36m2.8836e-01\u001b[0m\u001b[39m,\u001b[0m\n",
       "\u001b[2;32m│   │      \u001b[0m\u001b[1;36m1.0106e-01\u001b[0m\u001b[39m,  \u001b[0m\u001b[1;36m3.6732e-01\u001b[0m\u001b[39m, \u001b[0m\u001b[1;36m-1.0790e-01\u001b[0m\u001b[39m,  \u001b[0m\u001b[1;36m8.5951e-02\u001b[0m\u001b[39m,  \u001b[0m\u001b[1;36m3.1455e-01\u001b[0m\u001b[39m,\u001b[0m\n",
       "\u001b[2;32m│   │     \u001b[0m\u001b[1;36m-1.5781e-01\u001b[0m\u001b[39m,  \u001b[0m\u001b[1;36m3.8194e-01\u001b[0m\u001b[39m,  \u001b[0m\u001b[1;36m9.7040e-02\u001b[0m\u001b[39m, \u001b[0m\u001b[1;36m-1.2447e-01\u001b[0m\u001b[39m,  \u001b[0m\u001b[1;36m3.2652e-01\u001b[0m\u001b[39m,\u001b[0m\n",
       "\u001b[2;32m│   │      \u001b[0m\u001b[1;36m4.4369e-01\u001b[0m\u001b[39m,  \u001b[0m\u001b[1;36m5.1814e-01\u001b[0m\u001b[39m, \u001b[0m\u001b[1;36m-9.0140e-02\u001b[0m\u001b[39m, \u001b[0m\u001b[1;36m-1.2220e-01\u001b[0m\u001b[39m, \u001b[0m\u001b[1;36m-2.6053e-01\u001b[0m\u001b[39m,\u001b[0m\n",
       "\u001b[2;32m│   │      \u001b[0m\u001b[1;36m9.4632e-02\u001b[0m\u001b[39m,  \u001b[0m\u001b[1;36m6.0583e-01\u001b[0m\u001b[39m, \u001b[0m\u001b[1;36m-1.7267e-01\u001b[0m\u001b[39m, \u001b[0m\u001b[1;36m-1.6555e-01\u001b[0m\u001b[39m, \u001b[0m\u001b[1;36m-2.2736e-01\u001b[0m\u001b[39m,\u001b[0m\n",
       "\u001b[2;32m│   │      \u001b[0m\u001b[1;36m4.2038e-01\u001b[0m\u001b[39m, \u001b[0m\u001b[1;36m-8.0522e-01\u001b[0m\u001b[1;39m]\u001b[0m\u001b[1;39m]\u001b[0m\u001b[1;39m]\u001b[0m\u001b[39m, \u001b[0m\u001b[33mgrad_fn\u001b[0m\u001b[39m=<UnsafeViewBackward0\u001b[0m\u001b[1m>\u001b[0m\u001b[1m)\u001b[0m\n",
       "\u001b[1m}\u001b[0m"
      ]
     },
     "execution_count": 34,
     "metadata": {},
     "output_type": "execute_result"
    }
   ],
   "source": [
    "'''\n",
    "1. we use forward get policy,policy_old,value,\n",
    "2. we compute reward with kl\n",
    "'''\n",
    "\n",
    "\n",
    "def ppo_prepare(models, ppo_config, xy, rm_xy):\n",
    "    with torch.no_grad():\n",
    "        logprobs_ref, _ = batch_forward(models.ref, None, xy)\n",
    "    logprobs_old, values_old = batch_forward(models.actor, models.critic, xy)\n",
    "    reward_kl = compute_rewards_kl(\n",
    "        rm_xy, logprobs_ref, logprobs_old, ppo_config.kl_ctl)\n",
    "    return logprobs_old, values_old, logprobs_ref, reward_kl\n",
    "\n",
    "# logprobs_old, values_old, logprobs_ref, reward_kl = ppo_prepare(models, ppo_config, xy, rm_xy)\n",
    "\n",
    "\n",
    "ppo_batchs"
   ]
  },
  {
   "cell_type": "markdown",
   "id": "c8a89e47-59e1-4454-9d31-416fb72cf430",
   "metadata": {},
   "source": [
    "# PPO Train Step"
   ]
  },
  {
   "cell_type": "code",
   "execution_count": 35,
   "id": "7cfe63d3-7a19-44db-a63e-7e6575177b24",
   "metadata": {},
   "outputs": [
    {
     "data": {
      "text/html": [
       "<pre style=\"white-space:pre;overflow-x:auto;line-height:normal;font-family:Menlo,'DejaVu Sans Mono',consolas,'Courier New',monospace\"><span style=\"color: #008080; text-decoration-color: #008080; font-weight: bold\">2</span>\n",
       "</pre>\n"
      ],
      "text/plain": [
       "\u001b[1;36m2\u001b[0m\n"
      ]
     },
     "metadata": {},
     "output_type": "display_data"
    },
    {
     "data": {
      "text/html": [
       "<pre style=\"white-space:pre;overflow-x:auto;line-height:normal;font-family:Menlo,'DejaVu Sans Mono',consolas,'Courier New',monospace\">roll mini batch to compute ppo loss\n",
       "</pre>\n"
      ],
      "text/plain": [
       "roll mini batch to compute ppo loss\n"
      ]
     },
     "metadata": {},
     "output_type": "display_data"
    },
    {
     "data": {
      "text/html": [
       "<pre style=\"white-space:pre;overflow-x:auto;line-height:normal;font-family:Menlo,'DejaVu Sans Mono',consolas,'Courier New',monospace\"><span style=\"font-weight: bold\">{</span>\n",
       "    <span style=\"color: #008000; text-decoration-color: #008000\">'prompt'</span>: <span style=\"color: #800080; text-decoration-color: #800080; font-weight: bold\">tensor</span><span style=\"font-weight: bold\">([[</span> <span style=\"color: #008080; text-decoration-color: #008080; font-weight: bold\">7</span>, <span style=\"color: #008080; text-decoration-color: #008080; font-weight: bold\">17</span>,  <span style=\"color: #008080; text-decoration-color: #008080; font-weight: bold\">6</span>,  <span style=\"color: #008080; text-decoration-color: #008080; font-weight: bold\">1</span>, <span style=\"color: #008080; text-decoration-color: #008080; font-weight: bold\">11</span>, <span style=\"color: #008080; text-decoration-color: #008080; font-weight: bold\">28</span><span style=\"font-weight: bold\">]</span>,\n",
       "        <span style=\"font-weight: bold\">[</span><span style=\"color: #008080; text-decoration-color: #008080; font-weight: bold\">11</span>,  <span style=\"color: #008080; text-decoration-color: #008080; font-weight: bold\">5</span>, <span style=\"color: #008080; text-decoration-color: #008080; font-weight: bold\">30</span>, <span style=\"color: #008080; text-decoration-color: #008080; font-weight: bold\">22</span>, <span style=\"color: #008080; text-decoration-color: #008080; font-weight: bold\">18</span>,  <span style=\"color: #008080; text-decoration-color: #008080; font-weight: bold\">5</span><span style=\"font-weight: bold\">]])</span>,\n",
       "    <span style=\"color: #008000; text-decoration-color: #008000\">'sequence'</span>: <span style=\"color: #800080; text-decoration-color: #800080; font-weight: bold\">tensor</span><span style=\"font-weight: bold\">([[</span> <span style=\"color: #008080; text-decoration-color: #008080; font-weight: bold\">3</span>,  <span style=\"color: #008080; text-decoration-color: #008080; font-weight: bold\">2</span>, <span style=\"color: #008080; text-decoration-color: #008080; font-weight: bold\">21</span>, <span style=\"color: #008080; text-decoration-color: #008080; font-weight: bold\">16</span>, <span style=\"color: #008080; text-decoration-color: #008080; font-weight: bold\">31</span>, <span style=\"color: #008080; text-decoration-color: #008080; font-weight: bold\">21</span>, <span style=\"color: #008080; text-decoration-color: #008080; font-weight: bold\">18</span>, <span style=\"color: #008080; text-decoration-color: #008080; font-weight: bold\">27</span>,  <span style=\"color: #008080; text-decoration-color: #008080; font-weight: bold\">8</span>, <span style=\"color: #008080; text-decoration-color: #008080; font-weight: bold\">11</span>,  <span style=\"color: #008080; text-decoration-color: #008080; font-weight: bold\">4</span><span style=\"font-weight: bold\">]</span>,\n",
       "        <span style=\"font-weight: bold\">[</span> <span style=\"color: #008080; text-decoration-color: #008080; font-weight: bold\">7</span>,  <span style=\"color: #008080; text-decoration-color: #008080; font-weight: bold\">3</span>, <span style=\"color: #008080; text-decoration-color: #008080; font-weight: bold\">11</span>, <span style=\"color: #008080; text-decoration-color: #008080; font-weight: bold\">27</span>, <span style=\"color: #008080; text-decoration-color: #008080; font-weight: bold\">13</span>,  <span style=\"color: #008080; text-decoration-color: #008080; font-weight: bold\">4</span>, <span style=\"color: #008080; text-decoration-color: #008080; font-weight: bold\">19</span>, <span style=\"color: #008080; text-decoration-color: #008080; font-weight: bold\">29</span>, <span style=\"color: #008080; text-decoration-color: #008080; font-weight: bold\">26</span>,  <span style=\"color: #008080; text-decoration-color: #008080; font-weight: bold\">3</span>, <span style=\"color: #008080; text-decoration-color: #008080; font-weight: bold\">23</span><span style=\"font-weight: bold\">]])</span>,\n",
       "    <span style=\"color: #008000; text-decoration-color: #008000\">'mask'</span>: <span style=\"color: #800080; text-decoration-color: #800080; font-weight: bold\">tensor</span><span style=\"font-weight: bold\">([[</span><span style=\"color: #008080; text-decoration-color: #008080; font-weight: bold\">0</span>., <span style=\"color: #008080; text-decoration-color: #008080; font-weight: bold\">0</span>., <span style=\"color: #008080; text-decoration-color: #008080; font-weight: bold\">0</span>., <span style=\"color: #008080; text-decoration-color: #008080; font-weight: bold\">0</span>., <span style=\"color: #008080; text-decoration-color: #008080; font-weight: bold\">0</span>., <span style=\"color: #008080; text-decoration-color: #008080; font-weight: bold\">0</span>., <span style=\"color: #008080; text-decoration-color: #008080; font-weight: bold\">1</span>., <span style=\"color: #008080; text-decoration-color: #008080; font-weight: bold\">1</span>., <span style=\"color: #008080; text-decoration-color: #008080; font-weight: bold\">1</span>., <span style=\"color: #008080; text-decoration-color: #008080; font-weight: bold\">1</span>., <span style=\"color: #008080; text-decoration-color: #008080; font-weight: bold\">1</span>.<span style=\"font-weight: bold\">]</span>,\n",
       "        <span style=\"font-weight: bold\">[</span><span style=\"color: #008080; text-decoration-color: #008080; font-weight: bold\">0</span>., <span style=\"color: #008080; text-decoration-color: #008080; font-weight: bold\">0</span>., <span style=\"color: #008080; text-decoration-color: #008080; font-weight: bold\">0</span>., <span style=\"color: #008080; text-decoration-color: #008080; font-weight: bold\">0</span>., <span style=\"color: #008080; text-decoration-color: #008080; font-weight: bold\">0</span>., <span style=\"color: #008080; text-decoration-color: #008080; font-weight: bold\">0</span>., <span style=\"color: #008080; text-decoration-color: #008080; font-weight: bold\">1</span>., <span style=\"color: #008080; text-decoration-color: #008080; font-weight: bold\">1</span>., <span style=\"color: #008080; text-decoration-color: #008080; font-weight: bold\">1</span>., <span style=\"color: #008080; text-decoration-color: #008080; font-weight: bold\">1</span>., <span style=\"color: #008080; text-decoration-color: #008080; font-weight: bold\">1</span>.<span style=\"font-weight: bold\">]])</span>,\n",
       "    <span style=\"color: #008000; text-decoration-color: #008000\">'logprobs_ref'</span>: <span style=\"color: #800080; text-decoration-color: #800080; font-weight: bold\">tensor</span><span style=\"font-weight: bold\">([[</span><span style=\"color: #008080; text-decoration-color: #008080; font-weight: bold\">-3.2797</span>, <span style=\"color: #008080; text-decoration-color: #008080; font-weight: bold\">-3.9794</span>, <span style=\"color: #008080; text-decoration-color: #008080; font-weight: bold\">-3.3771</span>, <span style=\"color: #008080; text-decoration-color: #008080; font-weight: bold\">-3.5436</span>, <span style=\"color: #008080; text-decoration-color: #008080; font-weight: bold\">-3.6296</span>, <span style=\"color: #008080; text-decoration-color: #008080; font-weight: bold\">-3.3818</span>, <span style=\"color: #008080; text-decoration-color: #008080; font-weight: bold\">-3.8935</span>, <span style=\"color: #008080; text-decoration-color: #008080; font-weight: bold\">-3.7257</span>,\n",
       "         <span style=\"color: #008080; text-decoration-color: #008080; font-weight: bold\">-3.7764</span>, <span style=\"color: #008080; text-decoration-color: #008080; font-weight: bold\">-3.2362</span>, <span style=\"color: #008080; text-decoration-color: #008080; font-weight: bold\">-3.6417</span><span style=\"font-weight: bold\">]</span>,\n",
       "        <span style=\"font-weight: bold\">[</span><span style=\"color: #008080; text-decoration-color: #008080; font-weight: bold\">-2.9919</span>, <span style=\"color: #008080; text-decoration-color: #008080; font-weight: bold\">-3.1163</span>, <span style=\"color: #008080; text-decoration-color: #008080; font-weight: bold\">-3.1112</span>, <span style=\"color: #008080; text-decoration-color: #008080; font-weight: bold\">-3.7207</span>, <span style=\"color: #008080; text-decoration-color: #008080; font-weight: bold\">-3.5101</span>, <span style=\"color: #008080; text-decoration-color: #008080; font-weight: bold\">-3.5335</span>, <span style=\"color: #008080; text-decoration-color: #008080; font-weight: bold\">-3.5303</span>, <span style=\"color: #008080; text-decoration-color: #008080; font-weight: bold\">-3.1816</span>,\n",
       "         <span style=\"color: #008080; text-decoration-color: #008080; font-weight: bold\">-3.3280</span>, <span style=\"color: #008080; text-decoration-color: #008080; font-weight: bold\">-3.0611</span>, <span style=\"color: #008080; text-decoration-color: #008080; font-weight: bold\">-3.6552</span><span style=\"font-weight: bold\">]])</span>,\n",
       "    <span style=\"color: #008000; text-decoration-color: #008000\">'logprobs_old'</span>: <span style=\"color: #800080; text-decoration-color: #800080; font-weight: bold\">tensor</span><span style=\"font-weight: bold\">([[</span><span style=\"color: #008080; text-decoration-color: #008080; font-weight: bold\">-3.1704</span>, <span style=\"color: #008080; text-decoration-color: #008080; font-weight: bold\">-3.8914</span>, <span style=\"color: #008080; text-decoration-color: #008080; font-weight: bold\">-3.7032</span>, <span style=\"color: #008080; text-decoration-color: #008080; font-weight: bold\">-3.4227</span>, <span style=\"color: #008080; text-decoration-color: #008080; font-weight: bold\">-3.6914</span>, <span style=\"color: #008080; text-decoration-color: #008080; font-weight: bold\">-3.6695</span>, <span style=\"color: #008080; text-decoration-color: #008080; font-weight: bold\">-4.0191</span>, <span style=\"color: #008080; text-decoration-color: #008080; font-weight: bold\">-2.9413</span>,\n",
       "         <span style=\"color: #008080; text-decoration-color: #008080; font-weight: bold\">-3.6589</span>, <span style=\"color: #008080; text-decoration-color: #008080; font-weight: bold\">-2.7084</span>, <span style=\"color: #008080; text-decoration-color: #008080; font-weight: bold\">-3.4496</span><span style=\"font-weight: bold\">]</span>,\n",
       "        <span style=\"font-weight: bold\">[</span><span style=\"color: #008080; text-decoration-color: #008080; font-weight: bold\">-3.3709</span>, <span style=\"color: #008080; text-decoration-color: #008080; font-weight: bold\">-3.6106</span>, <span style=\"color: #008080; text-decoration-color: #008080; font-weight: bold\">-2.8478</span>, <span style=\"color: #008080; text-decoration-color: #008080; font-weight: bold\">-3.5536</span>, <span style=\"color: #008080; text-decoration-color: #008080; font-weight: bold\">-3.2888</span>, <span style=\"color: #008080; text-decoration-color: #008080; font-weight: bold\">-3.6936</span>, <span style=\"color: #008080; text-decoration-color: #008080; font-weight: bold\">-3.2728</span>, <span style=\"color: #008080; text-decoration-color: #008080; font-weight: bold\">-3.4517</span>,\n",
       "         <span style=\"color: #008080; text-decoration-color: #008080; font-weight: bold\">-3.1879</span>, <span style=\"color: #008080; text-decoration-color: #008080; font-weight: bold\">-3.5649</span>, <span style=\"color: #008080; text-decoration-color: #008080; font-weight: bold\">-3.6766</span><span style=\"font-weight: bold\">]]</span>, <span style=\"color: #808000; text-decoration-color: #808000\">grad_fn</span>=<span style=\"font-weight: bold\">&lt;</span><span style=\"color: #ff00ff; text-decoration-color: #ff00ff; font-weight: bold\">SqueezeBackward1</span><span style=\"color: #000000; text-decoration-color: #000000\">&gt;</span><span style=\"color: #000000; text-decoration-color: #000000; font-weight: bold\">)</span><span style=\"color: #000000; text-decoration-color: #000000\">,</span>\n",
       "<span style=\"color: #000000; text-decoration-color: #000000\">    </span><span style=\"color: #008000; text-decoration-color: #008000\">'logprobs'</span><span style=\"color: #000000; text-decoration-color: #000000\">: </span><span style=\"color: #800080; text-decoration-color: #800080; font-weight: bold\">tensor</span><span style=\"color: #000000; text-decoration-color: #000000; font-weight: bold\">([[</span><span style=\"color: #008080; text-decoration-color: #008080; font-weight: bold\">-3.1704</span><span style=\"color: #000000; text-decoration-color: #000000\">, </span><span style=\"color: #008080; text-decoration-color: #008080; font-weight: bold\">-3.8914</span><span style=\"color: #000000; text-decoration-color: #000000\">, </span><span style=\"color: #008080; text-decoration-color: #008080; font-weight: bold\">-3.7032</span><span style=\"color: #000000; text-decoration-color: #000000\">, </span><span style=\"color: #008080; text-decoration-color: #008080; font-weight: bold\">-3.4227</span><span style=\"color: #000000; text-decoration-color: #000000\">, </span><span style=\"color: #008080; text-decoration-color: #008080; font-weight: bold\">-3.6914</span><span style=\"color: #000000; text-decoration-color: #000000\">, </span><span style=\"color: #008080; text-decoration-color: #008080; font-weight: bold\">-3.6695</span><span style=\"color: #000000; text-decoration-color: #000000\">, </span><span style=\"color: #008080; text-decoration-color: #008080; font-weight: bold\">-4.0191</span><span style=\"color: #000000; text-decoration-color: #000000\">, </span><span style=\"color: #008080; text-decoration-color: #008080; font-weight: bold\">-2.9413</span><span style=\"color: #000000; text-decoration-color: #000000\">,</span>\n",
       "<span style=\"color: #000000; text-decoration-color: #000000\">         </span><span style=\"color: #008080; text-decoration-color: #008080; font-weight: bold\">-3.6589</span><span style=\"color: #000000; text-decoration-color: #000000\">, </span><span style=\"color: #008080; text-decoration-color: #008080; font-weight: bold\">-2.7084</span><span style=\"color: #000000; text-decoration-color: #000000\">, </span><span style=\"color: #008080; text-decoration-color: #008080; font-weight: bold\">-3.4496</span><span style=\"color: #000000; text-decoration-color: #000000; font-weight: bold\">]</span><span style=\"color: #000000; text-decoration-color: #000000\">,</span>\n",
       "<span style=\"color: #000000; text-decoration-color: #000000\">        </span><span style=\"color: #000000; text-decoration-color: #000000; font-weight: bold\">[</span><span style=\"color: #008080; text-decoration-color: #008080; font-weight: bold\">-3.3709</span><span style=\"color: #000000; text-decoration-color: #000000\">, </span><span style=\"color: #008080; text-decoration-color: #008080; font-weight: bold\">-3.6106</span><span style=\"color: #000000; text-decoration-color: #000000\">, </span><span style=\"color: #008080; text-decoration-color: #008080; font-weight: bold\">-2.8478</span><span style=\"color: #000000; text-decoration-color: #000000\">, </span><span style=\"color: #008080; text-decoration-color: #008080; font-weight: bold\">-3.5536</span><span style=\"color: #000000; text-decoration-color: #000000\">, </span><span style=\"color: #008080; text-decoration-color: #008080; font-weight: bold\">-3.2888</span><span style=\"color: #000000; text-decoration-color: #000000\">, </span><span style=\"color: #008080; text-decoration-color: #008080; font-weight: bold\">-3.6936</span><span style=\"color: #000000; text-decoration-color: #000000\">, </span><span style=\"color: #008080; text-decoration-color: #008080; font-weight: bold\">-3.2728</span><span style=\"color: #000000; text-decoration-color: #000000\">, </span><span style=\"color: #008080; text-decoration-color: #008080; font-weight: bold\">-3.4517</span><span style=\"color: #000000; text-decoration-color: #000000\">,</span>\n",
       "<span style=\"color: #000000; text-decoration-color: #000000\">         </span><span style=\"color: #008080; text-decoration-color: #008080; font-weight: bold\">-3.1879</span><span style=\"color: #000000; text-decoration-color: #000000\">, </span><span style=\"color: #008080; text-decoration-color: #008080; font-weight: bold\">-3.5649</span><span style=\"color: #000000; text-decoration-color: #000000\">, </span><span style=\"color: #008080; text-decoration-color: #008080; font-weight: bold\">-3.6766</span><span style=\"color: #000000; text-decoration-color: #000000; font-weight: bold\">]]</span><span style=\"color: #000000; text-decoration-color: #000000\">, </span><span style=\"color: #808000; text-decoration-color: #808000\">grad_fn</span><span style=\"color: #000000; text-decoration-color: #000000\">=&lt;SqueezeBackward1&gt;</span><span style=\"color: #000000; text-decoration-color: #000000; font-weight: bold\">)</span><span style=\"color: #000000; text-decoration-color: #000000\">,</span>\n",
       "<span style=\"color: #000000; text-decoration-color: #000000\">    </span><span style=\"color: #008000; text-decoration-color: #008000\">'values_old'</span><span style=\"color: #000000; text-decoration-color: #000000\">: </span><span style=\"color: #800080; text-decoration-color: #800080; font-weight: bold\">tensor</span><span style=\"color: #000000; text-decoration-color: #000000; font-weight: bold\">([[</span><span style=\"color: #000000; text-decoration-color: #000000\"> </span><span style=\"color: #008080; text-decoration-color: #008080; font-weight: bold\">0.4037</span><span style=\"color: #000000; text-decoration-color: #000000\">,  </span><span style=\"color: #008080; text-decoration-color: #008080; font-weight: bold\">0.5650</span><span style=\"color: #000000; text-decoration-color: #000000\">,  </span><span style=\"color: #008080; text-decoration-color: #008080; font-weight: bold\">1.1206</span><span style=\"color: #000000; text-decoration-color: #000000\">,  </span><span style=\"color: #008080; text-decoration-color: #008080; font-weight: bold\">1.3727</span><span style=\"color: #000000; text-decoration-color: #000000\">,  </span><span style=\"color: #008080; text-decoration-color: #008080; font-weight: bold\">1.5973</span><span style=\"color: #000000; text-decoration-color: #000000\">,  </span><span style=\"color: #008080; text-decoration-color: #008080; font-weight: bold\">1.4748</span><span style=\"color: #000000; text-decoration-color: #000000\">,  </span><span style=\"color: #008080; text-decoration-color: #008080; font-weight: bold\">1.5315</span><span style=\"color: #000000; text-decoration-color: #000000\">,  </span><span style=\"color: #008080; text-decoration-color: #008080; font-weight: bold\">1.2411</span><span style=\"color: #000000; text-decoration-color: #000000\">,</span>\n",
       "<span style=\"color: #000000; text-decoration-color: #000000\">          </span><span style=\"color: #008080; text-decoration-color: #008080; font-weight: bold\">1.4551</span><span style=\"color: #000000; text-decoration-color: #000000\">,  </span><span style=\"color: #008080; text-decoration-color: #008080; font-weight: bold\">1.3217</span><span style=\"color: #000000; text-decoration-color: #000000\">,  </span><span style=\"color: #008080; text-decoration-color: #008080; font-weight: bold\">1.1747</span><span style=\"color: #000000; text-decoration-color: #000000; font-weight: bold\">]</span><span style=\"color: #000000; text-decoration-color: #000000\">,</span>\n",
       "<span style=\"color: #000000; text-decoration-color: #000000\">        </span><span style=\"color: #000000; text-decoration-color: #000000; font-weight: bold\">[</span><span style=\"color: #008080; text-decoration-color: #008080; font-weight: bold\">-0.5438</span><span style=\"color: #000000; text-decoration-color: #000000\">, </span><span style=\"color: #008080; text-decoration-color: #008080; font-weight: bold\">-0.1715</span><span style=\"color: #000000; text-decoration-color: #000000\">,  </span><span style=\"color: #008080; text-decoration-color: #008080; font-weight: bold\">0.0838</span><span style=\"color: #000000; text-decoration-color: #000000\">, </span><span style=\"color: #008080; text-decoration-color: #008080; font-weight: bold\">-0.4835</span><span style=\"color: #000000; text-decoration-color: #000000\">,  </span><span style=\"color: #008080; text-decoration-color: #008080; font-weight: bold\">0.3192</span><span style=\"color: #000000; text-decoration-color: #000000\">,  </span><span style=\"color: #008080; text-decoration-color: #008080; font-weight: bold\">0.2480</span><span style=\"color: #000000; text-decoration-color: #000000\">, </span><span style=\"color: #008080; text-decoration-color: #008080; font-weight: bold\">-0.1122</span><span style=\"color: #000000; text-decoration-color: #000000\">,  </span><span style=\"color: #008080; text-decoration-color: #008080; font-weight: bold\">0.0394</span><span style=\"color: #000000; text-decoration-color: #000000\">,</span>\n",
       "<span style=\"color: #000000; text-decoration-color: #000000\">         </span><span style=\"color: #008080; text-decoration-color: #008080; font-weight: bold\">-0.4591</span><span style=\"color: #000000; text-decoration-color: #000000\">,  </span><span style=\"color: #008080; text-decoration-color: #008080; font-weight: bold\">0.0104</span><span style=\"color: #000000; text-decoration-color: #000000\">,  </span><span style=\"color: #008080; text-decoration-color: #008080; font-weight: bold\">0.0802</span><span style=\"color: #000000; text-decoration-color: #000000; font-weight: bold\">]]</span><span style=\"color: #000000; text-decoration-color: #000000\">, </span><span style=\"color: #808000; text-decoration-color: #808000\">grad_fn</span><span style=\"color: #000000; text-decoration-color: #000000\">=&lt;SelectBackward0&gt;</span><span style=\"color: #000000; text-decoration-color: #000000; font-weight: bold\">)</span><span style=\"color: #000000; text-decoration-color: #000000\">,</span>\n",
       "<span style=\"color: #000000; text-decoration-color: #000000\">    </span><span style=\"color: #008000; text-decoration-color: #008000\">'values'</span><span style=\"color: #000000; text-decoration-color: #000000\">: </span><span style=\"color: #800080; text-decoration-color: #800080; font-weight: bold\">tensor</span><span style=\"color: #000000; text-decoration-color: #000000; font-weight: bold\">([[</span><span style=\"color: #000000; text-decoration-color: #000000\"> </span><span style=\"color: #008080; text-decoration-color: #008080; font-weight: bold\">0.5405</span><span style=\"color: #000000; text-decoration-color: #000000\">,  </span><span style=\"color: #008080; text-decoration-color: #008080; font-weight: bold\">0.8507</span><span style=\"color: #000000; text-decoration-color: #000000\">,  </span><span style=\"color: #008080; text-decoration-color: #008080; font-weight: bold\">1.3907</span><span style=\"color: #000000; text-decoration-color: #000000\">,  </span><span style=\"color: #008080; text-decoration-color: #008080; font-weight: bold\">1.0501</span><span style=\"color: #000000; text-decoration-color: #000000\">,  </span><span style=\"color: #008080; text-decoration-color: #008080; font-weight: bold\">1.4372</span><span style=\"color: #000000; text-decoration-color: #000000\">,  </span><span style=\"color: #008080; text-decoration-color: #008080; font-weight: bold\">1.6204</span><span style=\"color: #000000; text-decoration-color: #000000\">,  </span><span style=\"color: #008080; text-decoration-color: #008080; font-weight: bold\">1.7181</span><span style=\"color: #000000; text-decoration-color: #000000\">,  </span><span style=\"color: #008080; text-decoration-color: #008080; font-weight: bold\">1.1506</span><span style=\"color: #000000; text-decoration-color: #000000\">,</span>\n",
       "<span style=\"color: #000000; text-decoration-color: #000000\">          </span><span style=\"color: #008080; text-decoration-color: #008080; font-weight: bold\">1.5603</span><span style=\"color: #000000; text-decoration-color: #000000\">,  </span><span style=\"color: #008080; text-decoration-color: #008080; font-weight: bold\">1.2491</span><span style=\"color: #000000; text-decoration-color: #000000\">,  </span><span style=\"color: #008080; text-decoration-color: #008080; font-weight: bold\">1.0641</span><span style=\"color: #000000; text-decoration-color: #000000; font-weight: bold\">]</span><span style=\"color: #000000; text-decoration-color: #000000\">,</span>\n",
       "<span style=\"color: #000000; text-decoration-color: #000000\">        </span><span style=\"color: #000000; text-decoration-color: #000000; font-weight: bold\">[</span><span style=\"color: #008080; text-decoration-color: #008080; font-weight: bold\">-0.5455</span><span style=\"color: #000000; text-decoration-color: #000000\">, </span><span style=\"color: #008080; text-decoration-color: #008080; font-weight: bold\">-0.1241</span><span style=\"color: #000000; text-decoration-color: #000000\">, </span><span style=\"color: #008080; text-decoration-color: #008080; font-weight: bold\">-0.0128</span><span style=\"color: #000000; text-decoration-color: #000000\">, </span><span style=\"color: #008080; text-decoration-color: #008080; font-weight: bold\">-0.2249</span><span style=\"color: #000000; text-decoration-color: #000000\">, </span><span style=\"color: #008080; text-decoration-color: #008080; font-weight: bold\">-0.0358</span><span style=\"color: #000000; text-decoration-color: #000000\">, </span><span style=\"color: #008080; text-decoration-color: #008080; font-weight: bold\">-0.0632</span><span style=\"color: #000000; text-decoration-color: #000000\">, </span><span style=\"color: #008080; text-decoration-color: #008080; font-weight: bold\">-0.1209</span><span style=\"color: #000000; text-decoration-color: #000000\">,  </span><span style=\"color: #008080; text-decoration-color: #008080; font-weight: bold\">0.0357</span><span style=\"color: #000000; text-decoration-color: #000000\">,</span>\n",
       "<span style=\"color: #000000; text-decoration-color: #000000\">         </span><span style=\"color: #008080; text-decoration-color: #008080; font-weight: bold\">-0.2630</span><span style=\"color: #000000; text-decoration-color: #000000\">,  </span><span style=\"color: #008080; text-decoration-color: #008080; font-weight: bold\">0.2597</span><span style=\"color: #000000; text-decoration-color: #000000\">,  </span><span style=\"color: #008080; text-decoration-color: #008080; font-weight: bold\">0.2625</span><span style=\"color: #000000; text-decoration-color: #000000; font-weight: bold\">]]</span><span style=\"color: #000000; text-decoration-color: #000000\">, </span><span style=\"color: #808000; text-decoration-color: #808000\">grad_fn</span><span style=\"color: #000000; text-decoration-color: #000000\">=&lt;SelectBackward0&gt;</span><span style=\"color: #000000; text-decoration-color: #000000; font-weight: bold\">)</span><span style=\"color: #000000; text-decoration-color: #000000\">,</span>\n",
       "<span style=\"color: #000000; text-decoration-color: #000000\">    </span><span style=\"color: #008000; text-decoration-color: #008000\">'rewards'</span><span style=\"color: #000000; text-decoration-color: #000000\">: </span><span style=\"color: #800080; text-decoration-color: #800080; font-weight: bold\">tensor</span><span style=\"color: #000000; text-decoration-color: #000000; font-weight: bold\">([[</span><span style=\"color: #008080; text-decoration-color: #008080; font-weight: bold\">-0.4233</span><span style=\"color: #000000; text-decoration-color: #000000; font-weight: bold\">]</span><span style=\"color: #000000; text-decoration-color: #000000\">,</span>\n",
       "<span style=\"color: #000000; text-decoration-color: #000000\">        </span><span style=\"color: #000000; text-decoration-color: #000000; font-weight: bold\">[</span><span style=\"color: #008080; text-decoration-color: #008080; font-weight: bold\">-0.3428</span><span style=\"color: #000000; text-decoration-color: #000000; font-weight: bold\">]])</span><span style=\"color: #000000; text-decoration-color: #000000\">,</span>\n",
       "<span style=\"color: #000000; text-decoration-color: #000000\">    </span><span style=\"color: #008000; text-decoration-color: #008000\">'rewards_kl'</span><span style=\"color: #000000; text-decoration-color: #000000\">: </span><span style=\"color: #800080; text-decoration-color: #800080; font-weight: bold\">tensor</span><span style=\"color: #000000; text-decoration-color: #000000; font-weight: bold\">([[</span><span style=\"color: #008080; text-decoration-color: #008080; font-weight: bold\">-0.0011</span><span style=\"color: #000000; text-decoration-color: #000000\">, </span><span style=\"color: #008080; text-decoration-color: #008080; font-weight: bold\">-0.0009</span><span style=\"color: #000000; text-decoration-color: #000000\">,  </span><span style=\"color: #008080; text-decoration-color: #008080; font-weight: bold\">0.0033</span><span style=\"color: #000000; text-decoration-color: #000000\">, </span><span style=\"color: #008080; text-decoration-color: #008080; font-weight: bold\">-0.0012</span><span style=\"color: #000000; text-decoration-color: #000000\">,  </span><span style=\"color: #008080; text-decoration-color: #008080; font-weight: bold\">0.0006</span><span style=\"color: #000000; text-decoration-color: #000000\">,  </span><span style=\"color: #008080; text-decoration-color: #008080; font-weight: bold\">0.0029</span><span style=\"color: #000000; text-decoration-color: #000000\">,  </span><span style=\"color: #008080; text-decoration-color: #008080; font-weight: bold\">0.0013</span><span style=\"color: #000000; text-decoration-color: #000000\">, </span><span style=\"color: #008080; text-decoration-color: #008080; font-weight: bold\">-0.0078</span><span style=\"color: #000000; text-decoration-color: #000000\">,</span>\n",
       "<span style=\"color: #000000; text-decoration-color: #000000\">         </span><span style=\"color: #008080; text-decoration-color: #008080; font-weight: bold\">-0.0012</span><span style=\"color: #000000; text-decoration-color: #000000\">, </span><span style=\"color: #008080; text-decoration-color: #008080; font-weight: bold\">-0.0053</span><span style=\"color: #000000; text-decoration-color: #000000\">, </span><span style=\"color: #008080; text-decoration-color: #008080; font-weight: bold\">-0.0030</span><span style=\"color: #000000; text-decoration-color: #000000; font-weight: bold\">]</span><span style=\"color: #000000; text-decoration-color: #000000\">,</span>\n",
       "<span style=\"color: #000000; text-decoration-color: #000000\">        </span><span style=\"color: #000000; text-decoration-color: #000000; font-weight: bold\">[</span><span style=\"color: #000000; text-decoration-color: #000000\"> </span><span style=\"color: #008080; text-decoration-color: #008080; font-weight: bold\">0.0038</span><span style=\"color: #000000; text-decoration-color: #000000\">,  </span><span style=\"color: #008080; text-decoration-color: #008080; font-weight: bold\">0.0049</span><span style=\"color: #000000; text-decoration-color: #000000\">, </span><span style=\"color: #008080; text-decoration-color: #008080; font-weight: bold\">-0.0026</span><span style=\"color: #000000; text-decoration-color: #000000\">, </span><span style=\"color: #008080; text-decoration-color: #008080; font-weight: bold\">-0.0017</span><span style=\"color: #000000; text-decoration-color: #000000\">, </span><span style=\"color: #008080; text-decoration-color: #008080; font-weight: bold\">-0.0022</span><span style=\"color: #000000; text-decoration-color: #000000\">,  </span><span style=\"color: #008080; text-decoration-color: #008080; font-weight: bold\">0.0016</span><span style=\"color: #000000; text-decoration-color: #000000\">, </span><span style=\"color: #008080; text-decoration-color: #008080; font-weight: bold\">-0.0026</span><span style=\"color: #000000; text-decoration-color: #000000\">,  </span><span style=\"color: #008080; text-decoration-color: #008080; font-weight: bold\">0.0027</span><span style=\"color: #000000; text-decoration-color: #000000\">,</span>\n",
       "<span style=\"color: #000000; text-decoration-color: #000000\">         </span><span style=\"color: #008080; text-decoration-color: #008080; font-weight: bold\">-0.0014</span><span style=\"color: #000000; text-decoration-color: #000000\">,  </span><span style=\"color: #008080; text-decoration-color: #008080; font-weight: bold\">0.0050</span><span style=\"color: #000000; text-decoration-color: #000000\">,  </span><span style=\"color: #008080; text-decoration-color: #008080; font-weight: bold\">0.0040</span><span style=\"color: #000000; text-decoration-color: #000000; font-weight: bold\">]]</span><span style=\"color: #000000; text-decoration-color: #000000\">, </span><span style=\"color: #808000; text-decoration-color: #808000\">grad_fn</span><span style=\"color: #000000; text-decoration-color: #000000\">=&lt;CopySlices&gt;</span><span style=\"color: #000000; text-decoration-color: #000000; font-weight: bold\">)</span><span style=\"color: #000000; text-decoration-color: #000000\">,</span>\n",
       "<span style=\"color: #000000; text-decoration-color: #000000\">    </span><span style=\"color: #008000; text-decoration-color: #008000\">'loss'</span><span style=\"color: #000000; text-decoration-color: #000000\">: </span><span style=\"color: #800080; text-decoration-color: #800080; font-style: italic\">None</span><span style=\"color: #000000; text-decoration-color: #000000\">,</span>\n",
       "<span style=\"color: #000000; text-decoration-color: #000000\">    </span><span style=\"color: #008000; text-decoration-color: #008000\">'logits'</span><span style=\"color: #000000; text-decoration-color: #000000\">: </span><span style=\"color: #800080; text-decoration-color: #800080; font-weight: bold\">tensor</span><span style=\"color: #000000; text-decoration-color: #000000; font-weight: bold\">([[[</span><span style=\"color: #008080; text-decoration-color: #008080; font-weight: bold\">-2.9141e-01</span><span style=\"color: #000000; text-decoration-color: #000000\">, </span><span style=\"color: #008080; text-decoration-color: #008080; font-weight: bold\">-2.3078e-01</span><span style=\"color: #000000; text-decoration-color: #000000\">, </span><span style=\"color: #008080; text-decoration-color: #008080; font-weight: bold\">-4.4092e-01</span><span style=\"color: #000000; text-decoration-color: #000000\">,  </span><span style=\"color: #008080; text-decoration-color: #008080; font-weight: bold\">3.1467e-01</span><span style=\"color: #000000; text-decoration-color: #000000\">,  </span><span style=\"color: #008080; text-decoration-color: #008080; font-weight: bold\">7.3815e-02</span><span style=\"color: #000000; text-decoration-color: #000000\">,</span>\n",
       "<span style=\"color: #000000; text-decoration-color: #000000\">           </span><span style=\"color: #008080; text-decoration-color: #008080; font-weight: bold\">2.3336e-01</span><span style=\"color: #000000; text-decoration-color: #000000\">, </span><span style=\"color: #008080; text-decoration-color: #008080; font-weight: bold\">-1.0261e-01</span><span style=\"color: #000000; text-decoration-color: #000000\">, </span><span style=\"color: #008080; text-decoration-color: #008080; font-weight: bold\">-5.1662e-01</span><span style=\"color: #000000; text-decoration-color: #000000\">,  </span><span style=\"color: #008080; text-decoration-color: #008080; font-weight: bold\">1.0788e-01</span><span style=\"color: #000000; text-decoration-color: #000000\">, </span><span style=\"color: #008080; text-decoration-color: #008080; font-weight: bold\">-5.3807e-02</span><span style=\"color: #000000; text-decoration-color: #000000\">,</span>\n",
       "<span style=\"color: #000000; text-decoration-color: #000000\">           </span><span style=\"color: #008080; text-decoration-color: #008080; font-weight: bold\">6.6215e-02</span><span style=\"color: #000000; text-decoration-color: #000000\">,  </span><span style=\"color: #008080; text-decoration-color: #008080; font-weight: bold\">1.9772e-01</span><span style=\"color: #000000; text-decoration-color: #000000\">, </span><span style=\"color: #008080; text-decoration-color: #008080; font-weight: bold\">-1.1797e-01</span><span style=\"color: #000000; text-decoration-color: #000000\">, </span><span style=\"color: #008080; text-decoration-color: #008080; font-weight: bold\">-6.8881e-02</span><span style=\"color: #000000; text-decoration-color: #000000\">,  </span><span style=\"color: #008080; text-decoration-color: #008080; font-weight: bold\">3.0796e-02</span><span style=\"color: #000000; text-decoration-color: #000000\">,</span>\n",
       "<span style=\"color: #000000; text-decoration-color: #000000\">           </span><span style=\"color: #008080; text-decoration-color: #008080; font-weight: bold\">1.5639e-01</span><span style=\"color: #000000; text-decoration-color: #000000\">,  </span><span style=\"color: #008080; text-decoration-color: #008080; font-weight: bold\">1.4710e-01</span><span style=\"color: #000000; text-decoration-color: #000000\">, </span><span style=\"color: #008080; text-decoration-color: #008080; font-weight: bold\">-6.5384e-02</span><span style=\"color: #000000; text-decoration-color: #000000\">, </span><span style=\"color: #008080; text-decoration-color: #008080; font-weight: bold\">-3.0084e-01</span><span style=\"color: #000000; text-decoration-color: #000000\">,  </span><span style=\"color: #008080; text-decoration-color: #008080; font-weight: bold\">4.0951e-01</span><span style=\"color: #000000; text-decoration-color: #000000\">,</span>\n",
       "<span style=\"color: #000000; text-decoration-color: #000000\">           </span><span style=\"color: #008080; text-decoration-color: #008080; font-weight: bold\">6.0962e-01</span><span style=\"color: #000000; text-decoration-color: #000000\">,  </span><span style=\"color: #008080; text-decoration-color: #008080; font-weight: bold\">2.0662e-01</span><span style=\"color: #000000; text-decoration-color: #000000\">, </span><span style=\"color: #008080; text-decoration-color: #008080; font-weight: bold\">-3.6570e-01</span><span style=\"color: #000000; text-decoration-color: #000000\">,  </span><span style=\"color: #008080; text-decoration-color: #008080; font-weight: bold\">2.2405e-02</span><span style=\"color: #000000; text-decoration-color: #000000\">, </span><span style=\"color: #008080; text-decoration-color: #008080; font-weight: bold\">-4.3202e-02</span><span style=\"color: #000000; text-decoration-color: #000000\">,</span>\n",
       "<span style=\"color: #000000; text-decoration-color: #000000\">          </span><span style=\"color: #008080; text-decoration-color: #008080; font-weight: bold\">-3.0117e-01</span><span style=\"color: #000000; text-decoration-color: #000000\">,  </span><span style=\"color: #008080; text-decoration-color: #008080; font-weight: bold\">2.6883e-02</span><span style=\"color: #000000; text-decoration-color: #000000\">,  </span><span style=\"color: #008080; text-decoration-color: #008080; font-weight: bold\">1.5225e-01</span><span style=\"color: #000000; text-decoration-color: #000000\">, </span><span style=\"color: #008080; text-decoration-color: #008080; font-weight: bold\">-4.2351e-01</span><span style=\"color: #000000; text-decoration-color: #000000\">,  </span><span style=\"color: #008080; text-decoration-color: #008080; font-weight: bold\">1.1622e-01</span><span style=\"color: #000000; text-decoration-color: #000000\">,</span>\n",
       "<span style=\"color: #000000; text-decoration-color: #000000\">           </span><span style=\"color: #008080; text-decoration-color: #008080; font-weight: bold\">2.0323e-01</span><span style=\"color: #000000; text-decoration-color: #000000\">, </span><span style=\"color: #008080; text-decoration-color: #008080; font-weight: bold\">-1.7224e-01</span><span style=\"color: #000000; text-decoration-color: #000000; font-weight: bold\">]</span><span style=\"color: #000000; text-decoration-color: #000000\">,</span>\n",
       "<span style=\"color: #000000; text-decoration-color: #000000\">         </span><span style=\"color: #000000; text-decoration-color: #000000; font-weight: bold\">[</span><span style=\"color: #000000; text-decoration-color: #000000\"> </span><span style=\"color: #008080; text-decoration-color: #008080; font-weight: bold\">1.7116e-01</span><span style=\"color: #000000; text-decoration-color: #000000\">, </span><span style=\"color: #008080; text-decoration-color: #008080; font-weight: bold\">-1.3915e-01</span><span style=\"color: #000000; text-decoration-color: #000000\">, </span><span style=\"color: #008080; text-decoration-color: #008080; font-weight: bold\">-3.7983e-01</span><span style=\"color: #000000; text-decoration-color: #000000\">,  </span><span style=\"color: #008080; text-decoration-color: #008080; font-weight: bold\">2.3101e-01</span><span style=\"color: #000000; text-decoration-color: #000000\">, </span><span style=\"color: #008080; text-decoration-color: #008080; font-weight: bold\">-2.0881e-01</span><span style=\"color: #000000; text-decoration-color: #000000\">,</span>\n",
       "<span style=\"color: #000000; text-decoration-color: #000000\">           </span><span style=\"color: #008080; text-decoration-color: #008080; font-weight: bold\">1.6951e-01</span><span style=\"color: #000000; text-decoration-color: #000000\">,  </span><span style=\"color: #008080; text-decoration-color: #008080; font-weight: bold\">1.7153e-01</span><span style=\"color: #000000; text-decoration-color: #000000\">, </span><span style=\"color: #008080; text-decoration-color: #008080; font-weight: bold\">-8.2568e-01</span><span style=\"color: #000000; text-decoration-color: #000000\">,  </span><span style=\"color: #008080; text-decoration-color: #008080; font-weight: bold\">1.2967e-01</span><span style=\"color: #000000; text-decoration-color: #000000\">, </span><span style=\"color: #008080; text-decoration-color: #008080; font-weight: bold\">-2.8406e-01</span><span style=\"color: #000000; text-decoration-color: #000000\">,</span>\n",
       "<span style=\"color: #000000; text-decoration-color: #000000\">          </span><span style=\"color: #008080; text-decoration-color: #008080; font-weight: bold\">-2.7890e-02</span><span style=\"color: #000000; text-decoration-color: #000000\">,  </span><span style=\"color: #008080; text-decoration-color: #008080; font-weight: bold\">6.8381e-01</span><span style=\"color: #000000; text-decoration-color: #000000\">,  </span><span style=\"color: #008080; text-decoration-color: #008080; font-weight: bold\">1.9228e-01</span><span style=\"color: #000000; text-decoration-color: #000000\">, </span><span style=\"color: #008080; text-decoration-color: #008080; font-weight: bold\">-3.4845e-02</span><span style=\"color: #000000; text-decoration-color: #000000\">, </span><span style=\"color: #008080; text-decoration-color: #008080; font-weight: bold\">-2.2157e-01</span><span style=\"color: #000000; text-decoration-color: #000000\">,</span>\n",
       "<span style=\"color: #000000; text-decoration-color: #000000\">           </span><span style=\"color: #008080; text-decoration-color: #008080; font-weight: bold\">2.4607e-01</span><span style=\"color: #000000; text-decoration-color: #000000\">,  </span><span style=\"color: #008080; text-decoration-color: #008080; font-weight: bold\">4.0112e-02</span><span style=\"color: #000000; text-decoration-color: #000000\">,  </span><span style=\"color: #008080; text-decoration-color: #008080; font-weight: bold\">3.2355e-01</span><span style=\"color: #000000; text-decoration-color: #000000\">, </span><span style=\"color: #008080; text-decoration-color: #008080; font-weight: bold\">-4.3763e-01</span><span style=\"color: #000000; text-decoration-color: #000000\">, </span><span style=\"color: #008080; text-decoration-color: #008080; font-weight: bold\">-2.5645e-02</span><span style=\"color: #000000; text-decoration-color: #000000\">,</span>\n",
       "<span style=\"color: #000000; text-decoration-color: #000000\">           </span><span style=\"color: #008080; text-decoration-color: #008080; font-weight: bold\">3.9134e-01</span><span style=\"color: #000000; text-decoration-color: #000000\">, </span><span style=\"color: #008080; text-decoration-color: #008080; font-weight: bold\">-2.4255e-01</span><span style=\"color: #000000; text-decoration-color: #000000\">,  </span><span style=\"color: #008080; text-decoration-color: #008080; font-weight: bold\">1.4322e-01</span><span style=\"color: #000000; text-decoration-color: #000000\">,  </span><span style=\"color: #008080; text-decoration-color: #008080; font-weight: bold\">7.6041e-04</span><span style=\"color: #000000; text-decoration-color: #000000\">,  </span><span style=\"color: #008080; text-decoration-color: #008080; font-weight: bold\">2.2418e-01</span><span style=\"color: #000000; text-decoration-color: #000000\">,</span>\n",
       "<span style=\"color: #000000; text-decoration-color: #000000\">          </span><span style=\"color: #008080; text-decoration-color: #008080; font-weight: bold\">-3.2726e-01</span><span style=\"color: #000000; text-decoration-color: #000000\">,  </span><span style=\"color: #008080; text-decoration-color: #008080; font-weight: bold\">2.1264e-01</span><span style=\"color: #000000; text-decoration-color: #000000\">,  </span><span style=\"color: #008080; text-decoration-color: #008080; font-weight: bold\">3.6522e-01</span><span style=\"color: #000000; text-decoration-color: #000000\">, </span><span style=\"color: #008080; text-decoration-color: #008080; font-weight: bold\">-3.8521e-01</span><span style=\"color: #000000; text-decoration-color: #000000\">,  </span><span style=\"color: #008080; text-decoration-color: #008080; font-weight: bold\">1.3221e-01</span><span style=\"color: #000000; text-decoration-color: #000000\">,</span>\n",
       "<span style=\"color: #000000; text-decoration-color: #000000\">           </span><span style=\"color: #008080; text-decoration-color: #008080; font-weight: bold\">3.7866e-03</span><span style=\"color: #000000; text-decoration-color: #000000\">, </span><span style=\"color: #008080; text-decoration-color: #008080; font-weight: bold\">-1.7415e-01</span><span style=\"color: #000000; text-decoration-color: #000000; font-weight: bold\">]</span><span style=\"color: #000000; text-decoration-color: #000000\">,</span>\n",
       "<span style=\"color: #000000; text-decoration-color: #000000\">         </span><span style=\"color: #000000; text-decoration-color: #000000; font-weight: bold\">[</span><span style=\"color: #000000; text-decoration-color: #000000\"> </span><span style=\"color: #008080; text-decoration-color: #008080; font-weight: bold\">2.2526e-01</span><span style=\"color: #000000; text-decoration-color: #000000\">, </span><span style=\"color: #008080; text-decoration-color: #008080; font-weight: bold\">-2.0581e-01</span><span style=\"color: #000000; text-decoration-color: #000000\">, </span><span style=\"color: #008080; text-decoration-color: #008080; font-weight: bold\">-3.5515e-01</span><span style=\"color: #000000; text-decoration-color: #000000\">,  </span><span style=\"color: #008080; text-decoration-color: #008080; font-weight: bold\">4.1750e-02</span><span style=\"color: #000000; text-decoration-color: #000000\">,  </span><span style=\"color: #008080; text-decoration-color: #008080; font-weight: bold\">2.0791e-02</span><span style=\"color: #000000; text-decoration-color: #000000\">,</span>\n",
       "<span style=\"color: #000000; text-decoration-color: #000000\">           </span><span style=\"color: #008080; text-decoration-color: #008080; font-weight: bold\">2.6506e-01</span><span style=\"color: #000000; text-decoration-color: #000000\">,  </span><span style=\"color: #008080; text-decoration-color: #008080; font-weight: bold\">3.1328e-01</span><span style=\"color: #000000; text-decoration-color: #000000\">, </span><span style=\"color: #008080; text-decoration-color: #008080; font-weight: bold\">-4.9314e-01</span><span style=\"color: #000000; text-decoration-color: #000000\">,  </span><span style=\"color: #008080; text-decoration-color: #008080; font-weight: bold\">2.3665e-01</span><span style=\"color: #000000; text-decoration-color: #000000\">,  </span><span style=\"color: #008080; text-decoration-color: #008080; font-weight: bold\">6.5306e-02</span><span style=\"color: #000000; text-decoration-color: #000000\">,</span>\n",
       "<span style=\"color: #000000; text-decoration-color: #000000\">          </span><span style=\"color: #008080; text-decoration-color: #008080; font-weight: bold\">-4.4244e-01</span><span style=\"color: #000000; text-decoration-color: #000000\">,  </span><span style=\"color: #008080; text-decoration-color: #008080; font-weight: bold\">7.2106e-01</span><span style=\"color: #000000; text-decoration-color: #000000\">,  </span><span style=\"color: #008080; text-decoration-color: #008080; font-weight: bold\">2.3617e-01</span><span style=\"color: #000000; text-decoration-color: #000000\">, </span><span style=\"color: #008080; text-decoration-color: #008080; font-weight: bold\">-1.8132e-01</span><span style=\"color: #000000; text-decoration-color: #000000\">, </span><span style=\"color: #008080; text-decoration-color: #008080; font-weight: bold\">-1.9663e-01</span><span style=\"color: #000000; text-decoration-color: #000000\">,</span>\n",
       "<span style=\"color: #000000; text-decoration-color: #000000\">           </span><span style=\"color: #008080; text-decoration-color: #008080; font-weight: bold\">2.3336e-01</span><span style=\"color: #000000; text-decoration-color: #000000\">,  </span><span style=\"color: #008080; text-decoration-color: #008080; font-weight: bold\">2.6515e-02</span><span style=\"color: #000000; text-decoration-color: #000000\">,  </span><span style=\"color: #008080; text-decoration-color: #008080; font-weight: bold\">3.3128e-01</span><span style=\"color: #000000; text-decoration-color: #000000\">, </span><span style=\"color: #008080; text-decoration-color: #008080; font-weight: bold\">-6.1750e-01</span><span style=\"color: #000000; text-decoration-color: #000000\">, </span><span style=\"color: #008080; text-decoration-color: #008080; font-weight: bold\">-1.3576e-01</span><span style=\"color: #000000; text-decoration-color: #000000\">,</span>\n",
       "<span style=\"color: #000000; text-decoration-color: #000000\">           </span><span style=\"color: #008080; text-decoration-color: #008080; font-weight: bold\">3.9121e-01</span><span style=\"color: #000000; text-decoration-color: #000000\">, </span><span style=\"color: #008080; text-decoration-color: #008080; font-weight: bold\">-1.7041e-01</span><span style=\"color: #000000; text-decoration-color: #000000\">,  </span><span style=\"color: #008080; text-decoration-color: #008080; font-weight: bold\">1.3463e-01</span><span style=\"color: #000000; text-decoration-color: #000000\">, </span><span style=\"color: #008080; text-decoration-color: #008080; font-weight: bold\">-2.7857e-01</span><span style=\"color: #000000; text-decoration-color: #000000\">,  </span><span style=\"color: #008080; text-decoration-color: #008080; font-weight: bold\">3.6622e-01</span><span style=\"color: #000000; text-decoration-color: #000000\">,</span>\n",
       "<span style=\"color: #000000; text-decoration-color: #000000\">          </span><span style=\"color: #008080; text-decoration-color: #008080; font-weight: bold\">-1.9625e-01</span><span style=\"color: #000000; text-decoration-color: #000000\">,  </span><span style=\"color: #008080; text-decoration-color: #008080; font-weight: bold\">6.8053e-02</span><span style=\"color: #000000; text-decoration-color: #000000\">,  </span><span style=\"color: #008080; text-decoration-color: #008080; font-weight: bold\">7.2521e-01</span><span style=\"color: #000000; text-decoration-color: #000000\">, </span><span style=\"color: #008080; text-decoration-color: #008080; font-weight: bold\">-7.3560e-01</span><span style=\"color: #000000; text-decoration-color: #000000\">,  </span><span style=\"color: #008080; text-decoration-color: #008080; font-weight: bold\">2.8994e-01</span><span style=\"color: #000000; text-decoration-color: #000000\">,</span>\n",
       "<span style=\"color: #000000; text-decoration-color: #000000\">          </span><span style=\"color: #008080; text-decoration-color: #008080; font-weight: bold\">-1.0810e-01</span><span style=\"color: #000000; text-decoration-color: #000000\">, </span><span style=\"color: #008080; text-decoration-color: #008080; font-weight: bold\">-3.2995e-01</span><span style=\"color: #000000; text-decoration-color: #000000; font-weight: bold\">]</span><span style=\"color: #000000; text-decoration-color: #000000\">,</span>\n",
       "<span style=\"color: #000000; text-decoration-color: #000000\">         </span><span style=\"color: #000000; text-decoration-color: #000000; font-weight: bold\">[</span><span style=\"color: #000000; text-decoration-color: #000000\"> </span><span style=\"color: #008080; text-decoration-color: #008080; font-weight: bold\">2.5728e-01</span><span style=\"color: #000000; text-decoration-color: #000000\">, </span><span style=\"color: #008080; text-decoration-color: #008080; font-weight: bold\">-2.3800e-01</span><span style=\"color: #000000; text-decoration-color: #000000\">, </span><span style=\"color: #008080; text-decoration-color: #008080; font-weight: bold\">-3.6303e-01</span><span style=\"color: #000000; text-decoration-color: #000000\">, </span><span style=\"color: #008080; text-decoration-color: #008080; font-weight: bold\">-7.6463e-02</span><span style=\"color: #000000; text-decoration-color: #000000\">,  </span><span style=\"color: #008080; text-decoration-color: #008080; font-weight: bold\">6.4079e-03</span><span style=\"color: #000000; text-decoration-color: #000000\">,</span>\n",
       "<span style=\"color: #000000; text-decoration-color: #000000\">           </span><span style=\"color: #008080; text-decoration-color: #008080; font-weight: bold\">9.7700e-02</span><span style=\"color: #000000; text-decoration-color: #000000\">, </span><span style=\"color: #008080; text-decoration-color: #008080; font-weight: bold\">-8.2348e-02</span><span style=\"color: #000000; text-decoration-color: #000000\">, </span><span style=\"color: #008080; text-decoration-color: #008080; font-weight: bold\">-5.9503e-01</span><span style=\"color: #000000; text-decoration-color: #000000\">,  </span><span style=\"color: #008080; text-decoration-color: #008080; font-weight: bold\">3.5240e-02</span><span style=\"color: #000000; text-decoration-color: #000000\">,  </span><span style=\"color: #008080; text-decoration-color: #008080; font-weight: bold\">2.4716e-02</span><span style=\"color: #000000; text-decoration-color: #000000\">,</span>\n",
       "<span style=\"color: #000000; text-decoration-color: #000000\">          </span><span style=\"color: #008080; text-decoration-color: #008080; font-weight: bold\">-2.6025e-01</span><span style=\"color: #000000; text-decoration-color: #000000\">,  </span><span style=\"color: #008080; text-decoration-color: #008080; font-weight: bold\">7.7423e-01</span><span style=\"color: #000000; text-decoration-color: #000000\">,  </span><span style=\"color: #008080; text-decoration-color: #008080; font-weight: bold\">2.9201e-01</span><span style=\"color: #000000; text-decoration-color: #000000\">, </span><span style=\"color: #008080; text-decoration-color: #008080; font-weight: bold\">-1.3588e-01</span><span style=\"color: #000000; text-decoration-color: #000000\">, </span><span style=\"color: #008080; text-decoration-color: #008080; font-weight: bold\">-3.4053e-02</span><span style=\"color: #000000; text-decoration-color: #000000\">,</span>\n",
       "<span style=\"color: #000000; text-decoration-color: #000000\">           </span><span style=\"color: #008080; text-decoration-color: #008080; font-weight: bold\">3.8255e-01</span><span style=\"color: #000000; text-decoration-color: #000000\">,  </span><span style=\"color: #008080; text-decoration-color: #008080; font-weight: bold\">7.2180e-02</span><span style=\"color: #000000; text-decoration-color: #000000\">,  </span><span style=\"color: #008080; text-decoration-color: #008080; font-weight: bold\">2.8551e-01</span><span style=\"color: #000000; text-decoration-color: #000000\">, </span><span style=\"color: #008080; text-decoration-color: #008080; font-weight: bold\">-8.3311e-01</span><span style=\"color: #000000; text-decoration-color: #000000\">, </span><span style=\"color: #008080; text-decoration-color: #008080; font-weight: bold\">-1.6609e-01</span><span style=\"color: #000000; text-decoration-color: #000000\">,</span>\n",
       "<span style=\"color: #000000; text-decoration-color: #000000\">           </span><span style=\"color: #008080; text-decoration-color: #008080; font-weight: bold\">1.6344e-01</span><span style=\"color: #000000; text-decoration-color: #000000\">, </span><span style=\"color: #008080; text-decoration-color: #008080; font-weight: bold\">-1.6694e-01</span><span style=\"color: #000000; text-decoration-color: #000000\">,  </span><span style=\"color: #008080; text-decoration-color: #008080; font-weight: bold\">8.9974e-02</span><span style=\"color: #000000; text-decoration-color: #000000\">, </span><span style=\"color: #008080; text-decoration-color: #008080; font-weight: bold\">-5.5195e-01</span><span style=\"color: #000000; text-decoration-color: #000000\">,  </span><span style=\"color: #008080; text-decoration-color: #008080; font-weight: bold\">1.5331e-01</span><span style=\"color: #000000; text-decoration-color: #000000\">,</span>\n",
       "<span style=\"color: #000000; text-decoration-color: #000000\">          </span><span style=\"color: #008080; text-decoration-color: #008080; font-weight: bold\">-1.6975e-01</span><span style=\"color: #000000; text-decoration-color: #000000\">,  </span><span style=\"color: #008080; text-decoration-color: #008080; font-weight: bold\">3.3836e-01</span><span style=\"color: #000000; text-decoration-color: #000000\">,  </span><span style=\"color: #008080; text-decoration-color: #008080; font-weight: bold\">7.3927e-01</span><span style=\"color: #000000; text-decoration-color: #000000\">, </span><span style=\"color: #008080; text-decoration-color: #008080; font-weight: bold\">-6.7911e-01</span><span style=\"color: #000000; text-decoration-color: #000000\">, </span><span style=\"color: #008080; text-decoration-color: #008080; font-weight: bold\">-2.2448e-02</span><span style=\"color: #000000; text-decoration-color: #000000\">,</span>\n",
       "<span style=\"color: #000000; text-decoration-color: #000000\">          </span><span style=\"color: #008080; text-decoration-color: #008080; font-weight: bold\">-2.1397e-01</span><span style=\"color: #000000; text-decoration-color: #000000\">, </span><span style=\"color: #008080; text-decoration-color: #008080; font-weight: bold\">-1.7959e-01</span><span style=\"color: #000000; text-decoration-color: #000000; font-weight: bold\">]</span><span style=\"color: #000000; text-decoration-color: #000000\">,</span>\n",
       "<span style=\"color: #000000; text-decoration-color: #000000\">         </span><span style=\"color: #000000; text-decoration-color: #000000; font-weight: bold\">[</span><span style=\"color: #000000; text-decoration-color: #000000\"> </span><span style=\"color: #008080; text-decoration-color: #008080; font-weight: bold\">2.0541e-01</span><span style=\"color: #000000; text-decoration-color: #000000\">,  </span><span style=\"color: #008080; text-decoration-color: #008080; font-weight: bold\">2.2370e-02</span><span style=\"color: #000000; text-decoration-color: #000000\">, </span><span style=\"color: #008080; text-decoration-color: #008080; font-weight: bold\">-4.4313e-01</span><span style=\"color: #000000; text-decoration-color: #000000\">, </span><span style=\"color: #008080; text-decoration-color: #008080; font-weight: bold\">-1.8442e-01</span><span style=\"color: #000000; text-decoration-color: #000000\">, </span><span style=\"color: #008080; text-decoration-color: #008080; font-weight: bold\">-5.0390e-02</span><span style=\"color: #000000; text-decoration-color: #000000\">,</span>\n",
       "<span style=\"color: #000000; text-decoration-color: #000000\">           </span><span style=\"color: #008080; text-decoration-color: #008080; font-weight: bold\">1.0596e-02</span><span style=\"color: #000000; text-decoration-color: #000000\">, </span><span style=\"color: #008080; text-decoration-color: #008080; font-weight: bold\">-9.5072e-02</span><span style=\"color: #000000; text-decoration-color: #000000\">, </span><span style=\"color: #008080; text-decoration-color: #008080; font-weight: bold\">-7.4384e-01</span><span style=\"color: #000000; text-decoration-color: #000000\">, </span><span style=\"color: #008080; text-decoration-color: #008080; font-weight: bold\">-4.5014e-02</span><span style=\"color: #000000; text-decoration-color: #000000\">,  </span><span style=\"color: #008080; text-decoration-color: #008080; font-weight: bold\">1.5089e-01</span><span style=\"color: #000000; text-decoration-color: #000000\">,</span>\n",
       "<span style=\"color: #000000; text-decoration-color: #000000\">          </span><span style=\"color: #008080; text-decoration-color: #008080; font-weight: bold\">-1.9259e-01</span><span style=\"color: #000000; text-decoration-color: #000000\">,  </span><span style=\"color: #008080; text-decoration-color: #008080; font-weight: bold\">5.7809e-01</span><span style=\"color: #000000; text-decoration-color: #000000\">,  </span><span style=\"color: #008080; text-decoration-color: #008080; font-weight: bold\">3.0243e-02</span><span style=\"color: #000000; text-decoration-color: #000000\">, </span><span style=\"color: #008080; text-decoration-color: #008080; font-weight: bold\">-9.6543e-02</span><span style=\"color: #000000; text-decoration-color: #000000\">, </span><span style=\"color: #008080; text-decoration-color: #008080; font-weight: bold\">-1.7711e-01</span><span style=\"color: #000000; text-decoration-color: #000000\">,</span>\n",
       "<span style=\"color: #000000; text-decoration-color: #000000\">           </span><span style=\"color: #008080; text-decoration-color: #008080; font-weight: bold\">4.2731e-01</span><span style=\"color: #000000; text-decoration-color: #000000\">, </span><span style=\"color: #008080; text-decoration-color: #008080; font-weight: bold\">-1.7386e-01</span><span style=\"color: #000000; text-decoration-color: #000000\">,  </span><span style=\"color: #008080; text-decoration-color: #008080; font-weight: bold\">1.8470e-01</span><span style=\"color: #000000; text-decoration-color: #000000\">, </span><span style=\"color: #008080; text-decoration-color: #008080; font-weight: bold\">-5.5789e-01</span><span style=\"color: #000000; text-decoration-color: #000000\">, </span><span style=\"color: #008080; text-decoration-color: #008080; font-weight: bold\">-4.0884e-01</span><span style=\"color: #000000; text-decoration-color: #000000\">,</span>\n",
       "<span style=\"color: #000000; text-decoration-color: #000000\">           </span><span style=\"color: #008080; text-decoration-color: #008080; font-weight: bold\">8.5359e-02</span><span style=\"color: #000000; text-decoration-color: #000000\">,  </span><span style=\"color: #008080; text-decoration-color: #008080; font-weight: bold\">2.2059e-02</span><span style=\"color: #000000; text-decoration-color: #000000\">, </span><span style=\"color: #008080; text-decoration-color: #008080; font-weight: bold\">-7.6904e-02</span><span style=\"color: #000000; text-decoration-color: #000000\">, </span><span style=\"color: #008080; text-decoration-color: #008080; font-weight: bold\">-5.5548e-01</span><span style=\"color: #000000; text-decoration-color: #000000\">,  </span><span style=\"color: #008080; text-decoration-color: #008080; font-weight: bold\">8.9501e-02</span><span style=\"color: #000000; text-decoration-color: #000000\">,</span>\n",
       "<span style=\"color: #000000; text-decoration-color: #000000\">          </span><span style=\"color: #008080; text-decoration-color: #008080; font-weight: bold\">-2.6162e-01</span><span style=\"color: #000000; text-decoration-color: #000000\">,  </span><span style=\"color: #008080; text-decoration-color: #008080; font-weight: bold\">6.6122e-01</span><span style=\"color: #000000; text-decoration-color: #000000\">,  </span><span style=\"color: #008080; text-decoration-color: #008080; font-weight: bold\">6.1417e-01</span><span style=\"color: #000000; text-decoration-color: #000000\">, </span><span style=\"color: #008080; text-decoration-color: #008080; font-weight: bold\">-5.6409e-01</span><span style=\"color: #000000; text-decoration-color: #000000\">, </span><span style=\"color: #008080; text-decoration-color: #008080; font-weight: bold\">-1.9958e-01</span><span style=\"color: #000000; text-decoration-color: #000000\">,</span>\n",
       "<span style=\"color: #000000; text-decoration-color: #000000\">          </span><span style=\"color: #008080; text-decoration-color: #008080; font-weight: bold\">-2.6276e-01</span><span style=\"color: #000000; text-decoration-color: #000000\">, </span><span style=\"color: #008080; text-decoration-color: #008080; font-weight: bold\">-2.3850e-01</span><span style=\"color: #000000; text-decoration-color: #000000; font-weight: bold\">]</span><span style=\"color: #000000; text-decoration-color: #000000\">,</span>\n",
       "<span style=\"color: #000000; text-decoration-color: #000000\">         </span><span style=\"color: #000000; text-decoration-color: #000000; font-weight: bold\">[</span><span style=\"color: #000000; text-decoration-color: #000000\"> </span><span style=\"color: #008080; text-decoration-color: #008080; font-weight: bold\">1.6354e-01</span><span style=\"color: #000000; text-decoration-color: #000000\">, </span><span style=\"color: #008080; text-decoration-color: #008080; font-weight: bold\">-1.2169e-01</span><span style=\"color: #000000; text-decoration-color: #000000\">, </span><span style=\"color: #008080; text-decoration-color: #008080; font-weight: bold\">-4.2067e-01</span><span style=\"color: #000000; text-decoration-color: #000000\">, </span><span style=\"color: #008080; text-decoration-color: #008080; font-weight: bold\">-3.5327e-01</span><span style=\"color: #000000; text-decoration-color: #000000\">,  </span><span style=\"color: #008080; text-decoration-color: #008080; font-weight: bold\">2.2779e-02</span><span style=\"color: #000000; text-decoration-color: #000000\">,</span>\n",
       "<span style=\"color: #000000; text-decoration-color: #000000\">           </span><span style=\"color: #008080; text-decoration-color: #008080; font-weight: bold\">1.2695e-01</span><span style=\"color: #000000; text-decoration-color: #000000\">, </span><span style=\"color: #008080; text-decoration-color: #008080; font-weight: bold\">-6.6251e-03</span><span style=\"color: #000000; text-decoration-color: #000000\">, </span><span style=\"color: #008080; text-decoration-color: #008080; font-weight: bold\">-4.7782e-01</span><span style=\"color: #000000; text-decoration-color: #000000\">,  </span><span style=\"color: #008080; text-decoration-color: #008080; font-weight: bold\">7.5369e-02</span><span style=\"color: #000000; text-decoration-color: #000000\">,  </span><span style=\"color: #008080; text-decoration-color: #008080; font-weight: bold\">2.9437e-01</span><span style=\"color: #000000; text-decoration-color: #000000\">,</span>\n",
       "<span style=\"color: #000000; text-decoration-color: #000000\">          </span><span style=\"color: #008080; text-decoration-color: #008080; font-weight: bold\">-5.8642e-01</span><span style=\"color: #000000; text-decoration-color: #000000\">,  </span><span style=\"color: #008080; text-decoration-color: #008080; font-weight: bold\">7.0546e-01</span><span style=\"color: #000000; text-decoration-color: #000000\">,  </span><span style=\"color: #008080; text-decoration-color: #008080; font-weight: bold\">7.1659e-02</span><span style=\"color: #000000; text-decoration-color: #000000\">, </span><span style=\"color: #008080; text-decoration-color: #008080; font-weight: bold\">-1.3733e-01</span><span style=\"color: #000000; text-decoration-color: #000000\">, </span><span style=\"color: #008080; text-decoration-color: #008080; font-weight: bold\">-8.0484e-02</span><span style=\"color: #000000; text-decoration-color: #000000\">,</span>\n",
       "<span style=\"color: #000000; text-decoration-color: #000000\">           </span><span style=\"color: #008080; text-decoration-color: #008080; font-weight: bold\">4.8058e-01</span><span style=\"color: #000000; text-decoration-color: #000000\">, </span><span style=\"color: #008080; text-decoration-color: #008080; font-weight: bold\">-2.3041e-02</span><span style=\"color: #000000; text-decoration-color: #000000\">,  </span><span style=\"color: #008080; text-decoration-color: #008080; font-weight: bold\">3.2556e-01</span><span style=\"color: #000000; text-decoration-color: #000000\">, </span><span style=\"color: #008080; text-decoration-color: #008080; font-weight: bold\">-6.3804e-01</span><span style=\"color: #000000; text-decoration-color: #000000\">, </span><span style=\"color: #008080; text-decoration-color: #008080; font-weight: bold\">-3.0510e-01</span><span style=\"color: #000000; text-decoration-color: #000000\">,</span>\n",
       "<span style=\"color: #000000; text-decoration-color: #000000\">           </span><span style=\"color: #008080; text-decoration-color: #008080; font-weight: bold\">1.7076e-01</span><span style=\"color: #000000; text-decoration-color: #000000\">, </span><span style=\"color: #008080; text-decoration-color: #008080; font-weight: bold\">-1.7831e-01</span><span style=\"color: #000000; text-decoration-color: #000000\">,  </span><span style=\"color: #008080; text-decoration-color: #008080; font-weight: bold\">1.4362e-01</span><span style=\"color: #000000; text-decoration-color: #000000\">, </span><span style=\"color: #008080; text-decoration-color: #008080; font-weight: bold\">-5.2993e-01</span><span style=\"color: #000000; text-decoration-color: #000000\">,  </span><span style=\"color: #008080; text-decoration-color: #008080; font-weight: bold\">4.1406e-01</span><span style=\"color: #000000; text-decoration-color: #000000\">,</span>\n",
       "<span style=\"color: #000000; text-decoration-color: #000000\">          </span><span style=\"color: #008080; text-decoration-color: #008080; font-weight: bold\">-1.8665e-01</span><span style=\"color: #000000; text-decoration-color: #000000\">,  </span><span style=\"color: #008080; text-decoration-color: #008080; font-weight: bold\">4.2765e-01</span><span style=\"color: #000000; text-decoration-color: #000000\">,  </span><span style=\"color: #008080; text-decoration-color: #008080; font-weight: bold\">6.6789e-01</span><span style=\"color: #000000; text-decoration-color: #000000\">, </span><span style=\"color: #008080; text-decoration-color: #008080; font-weight: bold\">-7.3054e-01</span><span style=\"color: #000000; text-decoration-color: #000000\">,  </span><span style=\"color: #008080; text-decoration-color: #008080; font-weight: bold\">4.4867e-02</span><span style=\"color: #000000; text-decoration-color: #000000\">,</span>\n",
       "<span style=\"color: #000000; text-decoration-color: #000000\">          </span><span style=\"color: #008080; text-decoration-color: #008080; font-weight: bold\">-3.4214e-01</span><span style=\"color: #000000; text-decoration-color: #000000\">, </span><span style=\"color: #008080; text-decoration-color: #008080; font-weight: bold\">-3.7762e-01</span><span style=\"color: #000000; text-decoration-color: #000000; font-weight: bold\">]</span><span style=\"color: #000000; text-decoration-color: #000000\">,</span>\n",
       "<span style=\"color: #000000; text-decoration-color: #000000\">         </span><span style=\"color: #000000; text-decoration-color: #000000; font-weight: bold\">[</span><span style=\"color: #000000; text-decoration-color: #000000\"> </span><span style=\"color: #008080; text-decoration-color: #008080; font-weight: bold\">7.9280e-02</span><span style=\"color: #000000; text-decoration-color: #000000\">, </span><span style=\"color: #008080; text-decoration-color: #008080; font-weight: bold\">-1.3680e-01</span><span style=\"color: #000000; text-decoration-color: #000000\">, </span><span style=\"color: #008080; text-decoration-color: #008080; font-weight: bold\">-4.8249e-01</span><span style=\"color: #000000; text-decoration-color: #000000\">, </span><span style=\"color: #008080; text-decoration-color: #008080; font-weight: bold\">-1.9972e-01</span><span style=\"color: #000000; text-decoration-color: #000000\">,  </span><span style=\"color: #008080; text-decoration-color: #008080; font-weight: bold\">9.3478e-02</span><span style=\"color: #000000; text-decoration-color: #000000\">,</span>\n",
       "<span style=\"color: #000000; text-decoration-color: #000000\">           </span><span style=\"color: #008080; text-decoration-color: #008080; font-weight: bold\">9.4343e-02</span><span style=\"color: #000000; text-decoration-color: #000000\">, </span><span style=\"color: #008080; text-decoration-color: #008080; font-weight: bold\">-2.1445e-01</span><span style=\"color: #000000; text-decoration-color: #000000\">, </span><span style=\"color: #008080; text-decoration-color: #008080; font-weight: bold\">-4.6158e-01</span><span style=\"color: #000000; text-decoration-color: #000000\">, </span><span style=\"color: #008080; text-decoration-color: #008080; font-weight: bold\">-2.9200e-01</span><span style=\"color: #000000; text-decoration-color: #000000\">,  </span><span style=\"color: #008080; text-decoration-color: #008080; font-weight: bold\">5.8901e-02</span><span style=\"color: #000000; text-decoration-color: #000000\">,</span>\n",
       "<span style=\"color: #000000; text-decoration-color: #000000\">          </span><span style=\"color: #008080; text-decoration-color: #008080; font-weight: bold\">-4.0848e-01</span><span style=\"color: #000000; text-decoration-color: #000000\">,  </span><span style=\"color: #008080; text-decoration-color: #008080; font-weight: bold\">7.5683e-01</span><span style=\"color: #000000; text-decoration-color: #000000\">,  </span><span style=\"color: #008080; text-decoration-color: #008080; font-weight: bold\">1.1540e-01</span><span style=\"color: #000000; text-decoration-color: #000000\">, </span><span style=\"color: #008080; text-decoration-color: #008080; font-weight: bold\">-1.9067e-01</span><span style=\"color: #000000; text-decoration-color: #000000\">, </span><span style=\"color: #008080; text-decoration-color: #008080; font-weight: bold\">-1.7652e-01</span><span style=\"color: #000000; text-decoration-color: #000000\">,</span>\n",
       "<span style=\"color: #000000; text-decoration-color: #000000\">           </span><span style=\"color: #008080; text-decoration-color: #008080; font-weight: bold\">4.9907e-01</span><span style=\"color: #000000; text-decoration-color: #000000\">, </span><span style=\"color: #008080; text-decoration-color: #008080; font-weight: bold\">-2.1340e-01</span><span style=\"color: #000000; text-decoration-color: #000000\">,  </span><span style=\"color: #008080; text-decoration-color: #008080; font-weight: bold\">3.0294e-01</span><span style=\"color: #000000; text-decoration-color: #000000\">, </span><span style=\"color: #008080; text-decoration-color: #008080; font-weight: bold\">-5.7575e-01</span><span style=\"color: #000000; text-decoration-color: #000000\">, </span><span style=\"color: #008080; text-decoration-color: #008080; font-weight: bold\">-3.1524e-01</span><span style=\"color: #000000; text-decoration-color: #000000\">,</span>\n",
       "<span style=\"color: #000000; text-decoration-color: #000000\">           </span><span style=\"color: #008080; text-decoration-color: #008080; font-weight: bold\">4.5778e-02</span><span style=\"color: #000000; text-decoration-color: #000000\">, </span><span style=\"color: #008080; text-decoration-color: #008080; font-weight: bold\">-1.5027e-01</span><span style=\"color: #000000; text-decoration-color: #000000\">,  </span><span style=\"color: #008080; text-decoration-color: #008080; font-weight: bold\">9.1262e-02</span><span style=\"color: #000000; text-decoration-color: #000000\">, </span><span style=\"color: #008080; text-decoration-color: #008080; font-weight: bold\">-7.6200e-01</span><span style=\"color: #000000; text-decoration-color: #000000\">,  </span><span style=\"color: #008080; text-decoration-color: #008080; font-weight: bold\">3.9121e-02</span><span style=\"color: #000000; text-decoration-color: #000000\">,</span>\n",
       "<span style=\"color: #000000; text-decoration-color: #000000\">          </span><span style=\"color: #008080; text-decoration-color: #008080; font-weight: bold\">-2.2336e-01</span><span style=\"color: #000000; text-decoration-color: #000000\">,  </span><span style=\"color: #008080; text-decoration-color: #008080; font-weight: bold\">4.8647e-01</span><span style=\"color: #000000; text-decoration-color: #000000\">,  </span><span style=\"color: #008080; text-decoration-color: #008080; font-weight: bold\">5.9745e-01</span><span style=\"color: #000000; text-decoration-color: #000000\">, </span><span style=\"color: #008080; text-decoration-color: #008080; font-weight: bold\">-4.0878e-01</span><span style=\"color: #000000; text-decoration-color: #000000\">, </span><span style=\"color: #008080; text-decoration-color: #008080; font-weight: bold\">-2.6633e-01</span><span style=\"color: #000000; text-decoration-color: #000000\">,</span>\n",
       "<span style=\"color: #000000; text-decoration-color: #000000\">          </span><span style=\"color: #008080; text-decoration-color: #008080; font-weight: bold\">-1.9123e-01</span><span style=\"color: #000000; text-decoration-color: #000000\">, </span><span style=\"color: #008080; text-decoration-color: #008080; font-weight: bold\">-2.6916e-01</span><span style=\"color: #000000; text-decoration-color: #000000; font-weight: bold\">]</span><span style=\"color: #000000; text-decoration-color: #000000\">,</span>\n",
       "<span style=\"color: #000000; text-decoration-color: #000000\">         </span><span style=\"color: #000000; text-decoration-color: #000000; font-weight: bold\">[</span><span style=\"color: #000000; text-decoration-color: #000000\"> </span><span style=\"color: #008080; text-decoration-color: #008080; font-weight: bold\">2.0915e-01</span><span style=\"color: #000000; text-decoration-color: #000000\">,  </span><span style=\"color: #008080; text-decoration-color: #008080; font-weight: bold\">8.2527e-02</span><span style=\"color: #000000; text-decoration-color: #000000\">, </span><span style=\"color: #008080; text-decoration-color: #008080; font-weight: bold\">-4.8809e-01</span><span style=\"color: #000000; text-decoration-color: #000000\">, </span><span style=\"color: #008080; text-decoration-color: #008080; font-weight: bold\">-3.9396e-01</span><span style=\"color: #000000; text-decoration-color: #000000\">, </span><span style=\"color: #008080; text-decoration-color: #008080; font-weight: bold\">-1.0980e-01</span><span style=\"color: #000000; text-decoration-color: #000000\">,</span>\n",
       "<span style=\"color: #000000; text-decoration-color: #000000\">           </span><span style=\"color: #008080; text-decoration-color: #008080; font-weight: bold\">8.6790e-02</span><span style=\"color: #000000; text-decoration-color: #000000\">, </span><span style=\"color: #008080; text-decoration-color: #008080; font-weight: bold\">-2.0541e-01</span><span style=\"color: #000000; text-decoration-color: #000000\">, </span><span style=\"color: #008080; text-decoration-color: #008080; font-weight: bold\">-4.4733e-01</span><span style=\"color: #000000; text-decoration-color: #000000\">, </span><span style=\"color: #008080; text-decoration-color: #008080; font-weight: bold\">-1.4175e-01</span><span style=\"color: #000000; text-decoration-color: #000000\">,  </span><span style=\"color: #008080; text-decoration-color: #008080; font-weight: bold\">1.4449e-01</span><span style=\"color: #000000; text-decoration-color: #000000\">,</span>\n",
       "<span style=\"color: #000000; text-decoration-color: #000000\">          </span><span style=\"color: #008080; text-decoration-color: #008080; font-weight: bold\">-3.5574e-01</span><span style=\"color: #000000; text-decoration-color: #000000\">,  </span><span style=\"color: #008080; text-decoration-color: #008080; font-weight: bold\">5.5577e-01</span><span style=\"color: #000000; text-decoration-color: #000000\">,  </span><span style=\"color: #008080; text-decoration-color: #008080; font-weight: bold\">3.6382e-02</span><span style=\"color: #000000; text-decoration-color: #000000\">, </span><span style=\"color: #008080; text-decoration-color: #008080; font-weight: bold\">-2.3774e-01</span><span style=\"color: #000000; text-decoration-color: #000000\">, </span><span style=\"color: #008080; text-decoration-color: #008080; font-weight: bold\">-1.2666e-01</span><span style=\"color: #000000; text-decoration-color: #000000\">,</span>\n",
       "<span style=\"color: #000000; text-decoration-color: #000000\">           </span><span style=\"color: #008080; text-decoration-color: #008080; font-weight: bold\">4.6854e-01</span><span style=\"color: #000000; text-decoration-color: #000000\">,  </span><span style=\"color: #008080; text-decoration-color: #008080; font-weight: bold\">4.4762e-04</span><span style=\"color: #000000; text-decoration-color: #000000\">,  </span><span style=\"color: #008080; text-decoration-color: #008080; font-weight: bold\">1.6370e-01</span><span style=\"color: #000000; text-decoration-color: #000000\">, </span><span style=\"color: #008080; text-decoration-color: #008080; font-weight: bold\">-5.4746e-01</span><span style=\"color: #000000; text-decoration-color: #000000\">, </span><span style=\"color: #008080; text-decoration-color: #008080; font-weight: bold\">-4.4650e-01</span><span style=\"color: #000000; text-decoration-color: #000000\">,</span>\n",
       "<span style=\"color: #000000; text-decoration-color: #000000\">           </span><span style=\"color: #008080; text-decoration-color: #008080; font-weight: bold\">1.0585e-01</span><span style=\"color: #000000; text-decoration-color: #000000\">, </span><span style=\"color: #008080; text-decoration-color: #008080; font-weight: bold\">-2.0889e-01</span><span style=\"color: #000000; text-decoration-color: #000000\">, </span><span style=\"color: #008080; text-decoration-color: #008080; font-weight: bold\">-1.5368e-01</span><span style=\"color: #000000; text-decoration-color: #000000\">, </span><span style=\"color: #008080; text-decoration-color: #008080; font-weight: bold\">-7.4424e-01</span><span style=\"color: #000000; text-decoration-color: #000000\">,  </span><span style=\"color: #008080; text-decoration-color: #008080; font-weight: bold\">4.7253e-02</span><span style=\"color: #000000; text-decoration-color: #000000\">,</span>\n",
       "<span style=\"color: #000000; text-decoration-color: #000000\">          </span><span style=\"color: #008080; text-decoration-color: #008080; font-weight: bold\">-3.8721e-01</span><span style=\"color: #000000; text-decoration-color: #000000\">,  </span><span style=\"color: #008080; text-decoration-color: #008080; font-weight: bold\">5.6166e-01</span><span style=\"color: #000000; text-decoration-color: #000000\">,  </span><span style=\"color: #008080; text-decoration-color: #008080; font-weight: bold\">4.7607e-01</span><span style=\"color: #000000; text-decoration-color: #000000\">, </span><span style=\"color: #008080; text-decoration-color: #008080; font-weight: bold\">-5.1349e-01</span><span style=\"color: #000000; text-decoration-color: #000000\">, </span><span style=\"color: #008080; text-decoration-color: #008080; font-weight: bold\">-1.9982e-01</span><span style=\"color: #000000; text-decoration-color: #000000\">,</span>\n",
       "<span style=\"color: #000000; text-decoration-color: #000000\">          </span><span style=\"color: #008080; text-decoration-color: #008080; font-weight: bold\">-2.2677e-01</span><span style=\"color: #000000; text-decoration-color: #000000\">, </span><span style=\"color: #008080; text-decoration-color: #008080; font-weight: bold\">-3.3769e-01</span><span style=\"color: #000000; text-decoration-color: #000000; font-weight: bold\">]</span><span style=\"color: #000000; text-decoration-color: #000000\">,</span>\n",
       "<span style=\"color: #000000; text-decoration-color: #000000\">         </span><span style=\"color: #000000; text-decoration-color: #000000; font-weight: bold\">[</span><span style=\"color: #000000; text-decoration-color: #000000\"> </span><span style=\"color: #008080; text-decoration-color: #008080; font-weight: bold\">7.8309e-02</span><span style=\"color: #000000; text-decoration-color: #000000\">, </span><span style=\"color: #008080; text-decoration-color: #008080; font-weight: bold\">-1.6769e-01</span><span style=\"color: #000000; text-decoration-color: #000000\">, </span><span style=\"color: #008080; text-decoration-color: #008080; font-weight: bold\">-4.3259e-01</span><span style=\"color: #000000; text-decoration-color: #000000\">, </span><span style=\"color: #008080; text-decoration-color: #008080; font-weight: bold\">-3.0268e-01</span><span style=\"color: #000000; text-decoration-color: #000000\">,  </span><span style=\"color: #008080; text-decoration-color: #008080; font-weight: bold\">1.6724e-02</span><span style=\"color: #000000; text-decoration-color: #000000\">,</span>\n",
       "<span style=\"color: #000000; text-decoration-color: #000000\">           </span><span style=\"color: #008080; text-decoration-color: #008080; font-weight: bold\">1.6810e-02</span><span style=\"color: #000000; text-decoration-color: #000000\">, </span><span style=\"color: #008080; text-decoration-color: #008080; font-weight: bold\">-9.1006e-02</span><span style=\"color: #000000; text-decoration-color: #000000\">, </span><span style=\"color: #008080; text-decoration-color: #008080; font-weight: bold\">-3.8463e-01</span><span style=\"color: #000000; text-decoration-color: #000000\">, </span><span style=\"color: #008080; text-decoration-color: #008080; font-weight: bold\">-2.3169e-01</span><span style=\"color: #000000; text-decoration-color: #000000\">,  </span><span style=\"color: #008080; text-decoration-color: #008080; font-weight: bold\">1.6282e-01</span><span style=\"color: #000000; text-decoration-color: #000000\">,</span>\n",
       "<span style=\"color: #000000; text-decoration-color: #000000\">          </span><span style=\"color: #008080; text-decoration-color: #008080; font-weight: bold\">-3.4511e-01</span><span style=\"color: #000000; text-decoration-color: #000000\">,  </span><span style=\"color: #008080; text-decoration-color: #008080; font-weight: bold\">5.3912e-01</span><span style=\"color: #000000; text-decoration-color: #000000\">, </span><span style=\"color: #008080; text-decoration-color: #008080; font-weight: bold\">-9.2263e-02</span><span style=\"color: #000000; text-decoration-color: #000000\">, </span><span style=\"color: #008080; text-decoration-color: #008080; font-weight: bold\">-3.5038e-01</span><span style=\"color: #000000; text-decoration-color: #000000\">, </span><span style=\"color: #008080; text-decoration-color: #008080; font-weight: bold\">-2.1431e-02</span><span style=\"color: #000000; text-decoration-color: #000000\">,</span>\n",
       "<span style=\"color: #000000; text-decoration-color: #000000\">           </span><span style=\"color: #008080; text-decoration-color: #008080; font-weight: bold\">6.6434e-01</span><span style=\"color: #000000; text-decoration-color: #000000\">, </span><span style=\"color: #008080; text-decoration-color: #008080; font-weight: bold\">-7.6531e-02</span><span style=\"color: #000000; text-decoration-color: #000000\">,  </span><span style=\"color: #008080; text-decoration-color: #008080; font-weight: bold\">9.3441e-02</span><span style=\"color: #000000; text-decoration-color: #000000\">, </span><span style=\"color: #008080; text-decoration-color: #008080; font-weight: bold\">-4.6037e-01</span><span style=\"color: #000000; text-decoration-color: #000000\">, </span><span style=\"color: #008080; text-decoration-color: #008080; font-weight: bold\">-2.8221e-01</span><span style=\"color: #000000; text-decoration-color: #000000\">,</span>\n",
       "<span style=\"color: #000000; text-decoration-color: #000000\">           </span><span style=\"color: #008080; text-decoration-color: #008080; font-weight: bold\">1.9677e-01</span><span style=\"color: #000000; text-decoration-color: #000000\">, </span><span style=\"color: #008080; text-decoration-color: #008080; font-weight: bold\">-2.2990e-01</span><span style=\"color: #000000; text-decoration-color: #000000\">,  </span><span style=\"color: #008080; text-decoration-color: #008080; font-weight: bold\">7.5164e-02</span><span style=\"color: #000000; text-decoration-color: #000000\">, </span><span style=\"color: #008080; text-decoration-color: #008080; font-weight: bold\">-6.9823e-01</span><span style=\"color: #000000; text-decoration-color: #000000\">, </span><span style=\"color: #008080; text-decoration-color: #008080; font-weight: bold\">-2.6265e-02</span><span style=\"color: #000000; text-decoration-color: #000000\">,</span>\n",
       "<span style=\"color: #000000; text-decoration-color: #000000\">          </span><span style=\"color: #008080; text-decoration-color: #008080; font-weight: bold\">-2.2995e-01</span><span style=\"color: #000000; text-decoration-color: #000000\">,  </span><span style=\"color: #008080; text-decoration-color: #008080; font-weight: bold\">4.2064e-01</span><span style=\"color: #000000; text-decoration-color: #000000\">,  </span><span style=\"color: #008080; text-decoration-color: #008080; font-weight: bold\">5.1642e-01</span><span style=\"color: #000000; text-decoration-color: #000000\">, </span><span style=\"color: #008080; text-decoration-color: #008080; font-weight: bold\">-5.0503e-01</span><span style=\"color: #000000; text-decoration-color: #000000\">, </span><span style=\"color: #008080; text-decoration-color: #008080; font-weight: bold\">-1.2235e-01</span><span style=\"color: #000000; text-decoration-color: #000000\">,</span>\n",
       "<span style=\"color: #000000; text-decoration-color: #000000\">          </span><span style=\"color: #008080; text-decoration-color: #008080; font-weight: bold\">-3.1319e-01</span><span style=\"color: #000000; text-decoration-color: #000000\">, </span><span style=\"color: #008080; text-decoration-color: #008080; font-weight: bold\">-3.0889e-01</span><span style=\"color: #000000; text-decoration-color: #000000; font-weight: bold\">]</span><span style=\"color: #000000; text-decoration-color: #000000\">,</span>\n",
       "<span style=\"color: #000000; text-decoration-color: #000000\">         </span><span style=\"color: #000000; text-decoration-color: #000000; font-weight: bold\">[</span><span style=\"color: #000000; text-decoration-color: #000000\"> </span><span style=\"color: #008080; text-decoration-color: #008080; font-weight: bold\">2.0242e-01</span><span style=\"color: #000000; text-decoration-color: #000000\">,  </span><span style=\"color: #008080; text-decoration-color: #008080; font-weight: bold\">2.6825e-02</span><span style=\"color: #000000; text-decoration-color: #000000\">, </span><span style=\"color: #008080; text-decoration-color: #008080; font-weight: bold\">-4.5110e-01</span><span style=\"color: #000000; text-decoration-color: #000000\">, </span><span style=\"color: #008080; text-decoration-color: #008080; font-weight: bold\">-4.0805e-01</span><span style=\"color: #000000; text-decoration-color: #000000\">, </span><span style=\"color: #008080; text-decoration-color: #008080; font-weight: bold\">-7.1884e-02</span><span style=\"color: #000000; text-decoration-color: #000000\">,</span>\n",
       "<span style=\"color: #000000; text-decoration-color: #000000\">           </span><span style=\"color: #008080; text-decoration-color: #008080; font-weight: bold\">2.4606e-01</span><span style=\"color: #000000; text-decoration-color: #000000\">, </span><span style=\"color: #008080; text-decoration-color: #008080; font-weight: bold\">-2.2764e-02</span><span style=\"color: #000000; text-decoration-color: #000000\">, </span><span style=\"color: #008080; text-decoration-color: #008080; font-weight: bold\">-4.9260e-01</span><span style=\"color: #000000; text-decoration-color: #000000\">, </span><span style=\"color: #008080; text-decoration-color: #008080; font-weight: bold\">-2.4503e-01</span><span style=\"color: #000000; text-decoration-color: #000000\">,  </span><span style=\"color: #008080; text-decoration-color: #008080; font-weight: bold\">1.7325e-01</span><span style=\"color: #000000; text-decoration-color: #000000\">,</span>\n",
       "<span style=\"color: #000000; text-decoration-color: #000000\">          </span><span style=\"color: #008080; text-decoration-color: #008080; font-weight: bold\">-2.8487e-01</span><span style=\"color: #000000; text-decoration-color: #000000\">,  </span><span style=\"color: #008080; text-decoration-color: #008080; font-weight: bold\">7.5707e-01</span><span style=\"color: #000000; text-decoration-color: #000000\">,  </span><span style=\"color: #008080; text-decoration-color: #008080; font-weight: bold\">1.0777e-01</span><span style=\"color: #000000; text-decoration-color: #000000\">, </span><span style=\"color: #008080; text-decoration-color: #008080; font-weight: bold\">-2.9874e-01</span><span style=\"color: #000000; text-decoration-color: #000000\">, </span><span style=\"color: #008080; text-decoration-color: #008080; font-weight: bold\">-9.5648e-02</span><span style=\"color: #000000; text-decoration-color: #000000\">,</span>\n",
       "<span style=\"color: #000000; text-decoration-color: #000000\">           </span><span style=\"color: #008080; text-decoration-color: #008080; font-weight: bold\">4.9169e-01</span><span style=\"color: #000000; text-decoration-color: #000000\">, </span><span style=\"color: #008080; text-decoration-color: #008080; font-weight: bold\">-1.2763e-01</span><span style=\"color: #000000; text-decoration-color: #000000\">,  </span><span style=\"color: #008080; text-decoration-color: #008080; font-weight: bold\">2.0070e-01</span><span style=\"color: #000000; text-decoration-color: #000000\">, </span><span style=\"color: #008080; text-decoration-color: #008080; font-weight: bold\">-4.6786e-01</span><span style=\"color: #000000; text-decoration-color: #000000\">, </span><span style=\"color: #008080; text-decoration-color: #008080; font-weight: bold\">-3.3680e-01</span><span style=\"color: #000000; text-decoration-color: #000000\">,</span>\n",
       "<span style=\"color: #000000; text-decoration-color: #000000\">           </span><span style=\"color: #008080; text-decoration-color: #008080; font-weight: bold\">1.9086e-01</span><span style=\"color: #000000; text-decoration-color: #000000\">, </span><span style=\"color: #008080; text-decoration-color: #008080; font-weight: bold\">-1.3286e-01</span><span style=\"color: #000000; text-decoration-color: #000000\">, </span><span style=\"color: #008080; text-decoration-color: #008080; font-weight: bold\">-9.1881e-02</span><span style=\"color: #000000; text-decoration-color: #000000\">, </span><span style=\"color: #008080; text-decoration-color: #008080; font-weight: bold\">-5.7352e-01</span><span style=\"color: #000000; text-decoration-color: #000000\">, </span><span style=\"color: #008080; text-decoration-color: #008080; font-weight: bold\">-4.5288e-03</span><span style=\"color: #000000; text-decoration-color: #000000\">,</span>\n",
       "<span style=\"color: #000000; text-decoration-color: #000000\">          </span><span style=\"color: #008080; text-decoration-color: #008080; font-weight: bold\">-2.0855e-01</span><span style=\"color: #000000; text-decoration-color: #000000\">,  </span><span style=\"color: #008080; text-decoration-color: #008080; font-weight: bold\">6.5096e-01</span><span style=\"color: #000000; text-decoration-color: #000000\">,  </span><span style=\"color: #008080; text-decoration-color: #008080; font-weight: bold\">4.4067e-01</span><span style=\"color: #000000; text-decoration-color: #000000\">, </span><span style=\"color: #008080; text-decoration-color: #008080; font-weight: bold\">-5.7314e-01</span><span style=\"color: #000000; text-decoration-color: #000000\">, </span><span style=\"color: #008080; text-decoration-color: #008080; font-weight: bold\">-5.8301e-02</span><span style=\"color: #000000; text-decoration-color: #000000\">,</span>\n",
       "<span style=\"color: #000000; text-decoration-color: #000000\">          </span><span style=\"color: #008080; text-decoration-color: #008080; font-weight: bold\">-2.3761e-01</span><span style=\"color: #000000; text-decoration-color: #000000\">, </span><span style=\"color: #008080; text-decoration-color: #008080; font-weight: bold\">-2.1452e-01</span><span style=\"color: #000000; text-decoration-color: #000000; font-weight: bold\">]</span><span style=\"color: #000000; text-decoration-color: #000000\">,</span>\n",
       "<span style=\"color: #000000; text-decoration-color: #000000\">         </span><span style=\"color: #000000; text-decoration-color: #000000; font-weight: bold\">[</span><span style=\"color: #000000; text-decoration-color: #000000\"> </span><span style=\"color: #008080; text-decoration-color: #008080; font-weight: bold\">1.8780e-01</span><span style=\"color: #000000; text-decoration-color: #000000\">,  </span><span style=\"color: #008080; text-decoration-color: #008080; font-weight: bold\">6.2783e-02</span><span style=\"color: #000000; text-decoration-color: #000000\">, </span><span style=\"color: #008080; text-decoration-color: #008080; font-weight: bold\">-4.6163e-01</span><span style=\"color: #000000; text-decoration-color: #000000\">, </span><span style=\"color: #008080; text-decoration-color: #008080; font-weight: bold\">-4.5305e-01</span><span style=\"color: #000000; text-decoration-color: #000000\">,  </span><span style=\"color: #008080; text-decoration-color: #008080; font-weight: bold\">6.0266e-04</span><span style=\"color: #000000; text-decoration-color: #000000\">,</span>\n",
       "<span style=\"color: #000000; text-decoration-color: #000000\">           </span><span style=\"color: #008080; text-decoration-color: #008080; font-weight: bold\">2.1883e-01</span><span style=\"color: #000000; text-decoration-color: #000000\">, </span><span style=\"color: #008080; text-decoration-color: #008080; font-weight: bold\">-3.1765e-02</span><span style=\"color: #000000; text-decoration-color: #000000\">, </span><span style=\"color: #008080; text-decoration-color: #008080; font-weight: bold\">-6.4387e-01</span><span style=\"color: #000000; text-decoration-color: #000000\">, </span><span style=\"color: #008080; text-decoration-color: #008080; font-weight: bold\">-2.1117e-01</span><span style=\"color: #000000; text-decoration-color: #000000\">,  </span><span style=\"color: #008080; text-decoration-color: #008080; font-weight: bold\">1.8674e-01</span><span style=\"color: #000000; text-decoration-color: #000000\">,</span>\n",
       "<span style=\"color: #000000; text-decoration-color: #000000\">          </span><span style=\"color: #008080; text-decoration-color: #008080; font-weight: bold\">-2.1831e-01</span><span style=\"color: #000000; text-decoration-color: #000000\">,  </span><span style=\"color: #008080; text-decoration-color: #008080; font-weight: bold\">5.5684e-01</span><span style=\"color: #000000; text-decoration-color: #000000\">, </span><span style=\"color: #008080; text-decoration-color: #008080; font-weight: bold\">-2.1346e-01</span><span style=\"color: #000000; text-decoration-color: #000000\">, </span><span style=\"color: #008080; text-decoration-color: #008080; font-weight: bold\">-1.7274e-01</span><span style=\"color: #000000; text-decoration-color: #000000\">,  </span><span style=\"color: #008080; text-decoration-color: #008080; font-weight: bold\">7.9192e-02</span><span style=\"color: #000000; text-decoration-color: #000000\">,</span>\n",
       "<span style=\"color: #000000; text-decoration-color: #000000\">           </span><span style=\"color: #008080; text-decoration-color: #008080; font-weight: bold\">5.2477e-01</span><span style=\"color: #000000; text-decoration-color: #000000\">,  </span><span style=\"color: #008080; text-decoration-color: #008080; font-weight: bold\">3.2306e-02</span><span style=\"color: #000000; text-decoration-color: #000000\">,  </span><span style=\"color: #008080; text-decoration-color: #008080; font-weight: bold\">2.5237e-01</span><span style=\"color: #000000; text-decoration-color: #000000\">, </span><span style=\"color: #008080; text-decoration-color: #008080; font-weight: bold\">-3.5488e-01</span><span style=\"color: #000000; text-decoration-color: #000000\">, </span><span style=\"color: #008080; text-decoration-color: #008080; font-weight: bold\">-4.3769e-01</span><span style=\"color: #000000; text-decoration-color: #000000\">,</span>\n",
       "<span style=\"color: #000000; text-decoration-color: #000000\">           </span><span style=\"color: #008080; text-decoration-color: #008080; font-weight: bold\">1.1760e-01</span><span style=\"color: #000000; text-decoration-color: #000000\">, </span><span style=\"color: #008080; text-decoration-color: #008080; font-weight: bold\">-2.3693e-01</span><span style=\"color: #000000; text-decoration-color: #000000\">,  </span><span style=\"color: #008080; text-decoration-color: #008080; font-weight: bold\">1.1001e-01</span><span style=\"color: #000000; text-decoration-color: #000000\">, </span><span style=\"color: #008080; text-decoration-color: #008080; font-weight: bold\">-6.8596e-01</span><span style=\"color: #000000; text-decoration-color: #000000\">,  </span><span style=\"color: #008080; text-decoration-color: #008080; font-weight: bold\">1.5812e-02</span><span style=\"color: #000000; text-decoration-color: #000000\">,</span>\n",
       "<span style=\"color: #000000; text-decoration-color: #000000\">          </span><span style=\"color: #008080; text-decoration-color: #008080; font-weight: bold\">-2.1289e-01</span><span style=\"color: #000000; text-decoration-color: #000000\">,  </span><span style=\"color: #008080; text-decoration-color: #008080; font-weight: bold\">5.3101e-01</span><span style=\"color: #000000; text-decoration-color: #000000\">,  </span><span style=\"color: #008080; text-decoration-color: #008080; font-weight: bold\">3.9206e-01</span><span style=\"color: #000000; text-decoration-color: #000000\">, </span><span style=\"color: #008080; text-decoration-color: #008080; font-weight: bold\">-5.7805e-01</span><span style=\"color: #000000; text-decoration-color: #000000\">, </span><span style=\"color: #008080; text-decoration-color: #008080; font-weight: bold\">-1.5252e-01</span><span style=\"color: #000000; text-decoration-color: #000000\">,</span>\n",
       "<span style=\"color: #000000; text-decoration-color: #000000\">          </span><span style=\"color: #008080; text-decoration-color: #008080; font-weight: bold\">-2.7923e-01</span><span style=\"color: #000000; text-decoration-color: #000000\">, </span><span style=\"color: #008080; text-decoration-color: #008080; font-weight: bold\">-1.4672e-01</span><span style=\"color: #000000; text-decoration-color: #000000; font-weight: bold\">]]</span><span style=\"color: #000000; text-decoration-color: #000000\">,</span>\n",
       "\n",
       "<span style=\"color: #000000; text-decoration-color: #000000\">        </span><span style=\"color: #000000; text-decoration-color: #000000; font-weight: bold\">[[</span><span style=\"color: #000000; text-decoration-color: #000000\"> </span><span style=\"color: #008080; text-decoration-color: #008080; font-weight: bold\">1.6516e-01</span><span style=\"color: #000000; text-decoration-color: #000000\">, </span><span style=\"color: #008080; text-decoration-color: #008080; font-weight: bold\">-3.8709e-01</span><span style=\"color: #000000; text-decoration-color: #000000\">, </span><span style=\"color: #008080; text-decoration-color: #008080; font-weight: bold\">-7.3606e-02</span><span style=\"color: #000000; text-decoration-color: #000000\">, </span><span style=\"color: #008080; text-decoration-color: #008080; font-weight: bold\">-4.5945e-01</span><span style=\"color: #000000; text-decoration-color: #000000\">,  </span><span style=\"color: #008080; text-decoration-color: #008080; font-weight: bold\">1.6454e-01</span><span style=\"color: #000000; text-decoration-color: #000000\">,</span>\n",
       "<span style=\"color: #000000; text-decoration-color: #000000\">           </span><span style=\"color: #008080; text-decoration-color: #008080; font-weight: bold\">4.6253e-03</span><span style=\"color: #000000; text-decoration-color: #000000\">,  </span><span style=\"color: #008080; text-decoration-color: #008080; font-weight: bold\">3.0754e-01</span><span style=\"color: #000000; text-decoration-color: #000000\">,  </span><span style=\"color: #008080; text-decoration-color: #008080; font-weight: bold\">1.6040e-01</span><span style=\"color: #000000; text-decoration-color: #000000\">, </span><span style=\"color: #008080; text-decoration-color: #008080; font-weight: bold\">-3.5832e-02</span><span style=\"color: #000000; text-decoration-color: #000000\">,  </span><span style=\"color: #008080; text-decoration-color: #008080; font-weight: bold\">2.4419e-01</span><span style=\"color: #000000; text-decoration-color: #000000\">,</span>\n",
       "<span style=\"color: #000000; text-decoration-color: #000000\">          </span><span style=\"color: #008080; text-decoration-color: #008080; font-weight: bold\">-2.8857e-02</span><span style=\"color: #000000; text-decoration-color: #000000\">,  </span><span style=\"color: #008080; text-decoration-color: #008080; font-weight: bold\">4.6933e-01</span><span style=\"color: #000000; text-decoration-color: #000000\">, </span><span style=\"color: #008080; text-decoration-color: #008080; font-weight: bold\">-3.3599e-01</span><span style=\"color: #000000; text-decoration-color: #000000\">,  </span><span style=\"color: #008080; text-decoration-color: #008080; font-weight: bold\">7.2972e-01</span><span style=\"color: #000000; text-decoration-color: #000000\">, </span><span style=\"color: #008080; text-decoration-color: #008080; font-weight: bold\">-1.6001e-01</span><span style=\"color: #000000; text-decoration-color: #000000\">,</span>\n",
       "<span style=\"color: #000000; text-decoration-color: #000000\">          </span><span style=\"color: #008080; text-decoration-color: #008080; font-weight: bold\">-2.2981e-01</span><span style=\"color: #000000; text-decoration-color: #000000\">,  </span><span style=\"color: #008080; text-decoration-color: #008080; font-weight: bold\">4.9051e-02</span><span style=\"color: #000000; text-decoration-color: #000000\">,  </span><span style=\"color: #008080; text-decoration-color: #008080; font-weight: bold\">4.2412e-01</span><span style=\"color: #000000; text-decoration-color: #000000\">,  </span><span style=\"color: #008080; text-decoration-color: #008080; font-weight: bold\">1.3322e-01</span><span style=\"color: #000000; text-decoration-color: #000000\">, </span><span style=\"color: #008080; text-decoration-color: #008080; font-weight: bold\">-3.3225e-01</span><span style=\"color: #000000; text-decoration-color: #000000\">,</span>\n",
       "<span style=\"color: #000000; text-decoration-color: #000000\">           </span><span style=\"color: #008080; text-decoration-color: #008080; font-weight: bold\">1.0066e-01</span><span style=\"color: #000000; text-decoration-color: #000000\">,  </span><span style=\"color: #008080; text-decoration-color: #008080; font-weight: bold\">1.6477e-01</span><span style=\"color: #000000; text-decoration-color: #000000\">, </span><span style=\"color: #008080; text-decoration-color: #008080; font-weight: bold\">-1.0464e-01</span><span style=\"color: #000000; text-decoration-color: #000000\">, </span><span style=\"color: #008080; text-decoration-color: #008080; font-weight: bold\">-2.6505e-01</span><span style=\"color: #000000; text-decoration-color: #000000\">,  </span><span style=\"color: #008080; text-decoration-color: #008080; font-weight: bold\">2.5371e-01</span><span style=\"color: #000000; text-decoration-color: #000000\">,</span>\n",
       "<span style=\"color: #000000; text-decoration-color: #000000\">          </span><span style=\"color: #008080; text-decoration-color: #008080; font-weight: bold\">-2.4672e-01</span><span style=\"color: #000000; text-decoration-color: #000000\">, </span><span style=\"color: #008080; text-decoration-color: #008080; font-weight: bold\">-3.4423e-01</span><span style=\"color: #000000; text-decoration-color: #000000\">,  </span><span style=\"color: #008080; text-decoration-color: #008080; font-weight: bold\">2.0274e-01</span><span style=\"color: #000000; text-decoration-color: #000000\">, </span><span style=\"color: #008080; text-decoration-color: #008080; font-weight: bold\">-2.0190e-02</span><span style=\"color: #000000; text-decoration-color: #000000\">,  </span><span style=\"color: #008080; text-decoration-color: #008080; font-weight: bold\">3.8387e-01</span><span style=\"color: #000000; text-decoration-color: #000000\">,</span>\n",
       "<span style=\"color: #000000; text-decoration-color: #000000\">          </span><span style=\"color: #008080; text-decoration-color: #008080; font-weight: bold\">-1.7013e-02</span><span style=\"color: #000000; text-decoration-color: #000000\">, </span><span style=\"color: #008080; text-decoration-color: #008080; font-weight: bold\">-4.3642e-02</span><span style=\"color: #000000; text-decoration-color: #000000; font-weight: bold\">]</span><span style=\"color: #000000; text-decoration-color: #000000\">,</span>\n",
       "<span style=\"color: #000000; text-decoration-color: #000000\">         </span><span style=\"color: #000000; text-decoration-color: #000000; font-weight: bold\">[</span><span style=\"color: #008080; text-decoration-color: #008080; font-weight: bold\">-7.4558e-02</span><span style=\"color: #000000; text-decoration-color: #000000\">, </span><span style=\"color: #008080; text-decoration-color: #008080; font-weight: bold\">-4.8926e-01</span><span style=\"color: #000000; text-decoration-color: #000000\">, </span><span style=\"color: #008080; text-decoration-color: #008080; font-weight: bold\">-3.4035e-01</span><span style=\"color: #000000; text-decoration-color: #000000\">, </span><span style=\"color: #008080; text-decoration-color: #008080; font-weight: bold\">-9.9913e-02</span><span style=\"color: #000000; text-decoration-color: #000000\">,  </span><span style=\"color: #008080; text-decoration-color: #008080; font-weight: bold\">1.7870e-02</span><span style=\"color: #000000; text-decoration-color: #000000\">,</span>\n",
       "<span style=\"color: #000000; text-decoration-color: #000000\">           </span><span style=\"color: #008080; text-decoration-color: #008080; font-weight: bold\">1.6485e-01</span><span style=\"color: #000000; text-decoration-color: #000000\">,  </span><span style=\"color: #008080; text-decoration-color: #008080; font-weight: bold\">3.6949e-01</span><span style=\"color: #000000; text-decoration-color: #000000\">, </span><span style=\"color: #008080; text-decoration-color: #008080; font-weight: bold\">-2.6449e-01</span><span style=\"color: #000000; text-decoration-color: #000000\">, </span><span style=\"color: #008080; text-decoration-color: #008080; font-weight: bold\">-4.1682e-02</span><span style=\"color: #000000; text-decoration-color: #000000\">,  </span><span style=\"color: #008080; text-decoration-color: #008080; font-weight: bold\">1.9024e-01</span><span style=\"color: #000000; text-decoration-color: #000000\">,</span>\n",
       "<span style=\"color: #000000; text-decoration-color: #000000\">           </span><span style=\"color: #008080; text-decoration-color: #008080; font-weight: bold\">3.7961e-02</span><span style=\"color: #000000; text-decoration-color: #000000\">,  </span><span style=\"color: #008080; text-decoration-color: #008080; font-weight: bold\">3.9617e-01</span><span style=\"color: #000000; text-decoration-color: #000000\">, </span><span style=\"color: #008080; text-decoration-color: #008080; font-weight: bold\">-3.1455e-01</span><span style=\"color: #000000; text-decoration-color: #000000\">,  </span><span style=\"color: #008080; text-decoration-color: #008080; font-weight: bold\">4.0304e-01</span><span style=\"color: #000000; text-decoration-color: #000000\">, </span><span style=\"color: #008080; text-decoration-color: #008080; font-weight: bold\">-1.3707e-01</span><span style=\"color: #000000; text-decoration-color: #000000\">,</span>\n",
       "<span style=\"color: #000000; text-decoration-color: #000000\">          </span><span style=\"color: #008080; text-decoration-color: #008080; font-weight: bold\">-2.8458e-01</span><span style=\"color: #000000; text-decoration-color: #000000\">,  </span><span style=\"color: #008080; text-decoration-color: #008080; font-weight: bold\">2.0129e-01</span><span style=\"color: #000000; text-decoration-color: #000000\">,  </span><span style=\"color: #008080; text-decoration-color: #008080; font-weight: bold\">2.7816e-01</span><span style=\"color: #000000; text-decoration-color: #000000\">, </span><span style=\"color: #008080; text-decoration-color: #008080; font-weight: bold\">-2.0111e-01</span><span style=\"color: #000000; text-decoration-color: #000000\">,  </span><span style=\"color: #008080; text-decoration-color: #008080; font-weight: bold\">3.8143e-02</span><span style=\"color: #000000; text-decoration-color: #000000\">,</span>\n",
       "<span style=\"color: #000000; text-decoration-color: #000000\">           </span><span style=\"color: #008080; text-decoration-color: #008080; font-weight: bold\">5.0758e-01</span><span style=\"color: #000000; text-decoration-color: #000000\">,  </span><span style=\"color: #008080; text-decoration-color: #008080; font-weight: bold\">4.1082e-01</span><span style=\"color: #000000; text-decoration-color: #000000\">, </span><span style=\"color: #008080; text-decoration-color: #008080; font-weight: bold\">-4.2129e-01</span><span style=\"color: #000000; text-decoration-color: #000000\">, </span><span style=\"color: #008080; text-decoration-color: #008080; font-weight: bold\">-1.4597e-01</span><span style=\"color: #000000; text-decoration-color: #000000\">,  </span><span style=\"color: #008080; text-decoration-color: #008080; font-weight: bold\">1.0307e-01</span><span style=\"color: #000000; text-decoration-color: #000000\">,</span>\n",
       "<span style=\"color: #000000; text-decoration-color: #000000\">          </span><span style=\"color: #008080; text-decoration-color: #008080; font-weight: bold\">-3.9279e-01</span><span style=\"color: #000000; text-decoration-color: #000000\">, </span><span style=\"color: #008080; text-decoration-color: #008080; font-weight: bold\">-2.7119e-01</span><span style=\"color: #000000; text-decoration-color: #000000\">,  </span><span style=\"color: #008080; text-decoration-color: #008080; font-weight: bold\">3.0272e-01</span><span style=\"color: #000000; text-decoration-color: #000000\">, </span><span style=\"color: #008080; text-decoration-color: #008080; font-weight: bold\">-1.4467e-01</span><span style=\"color: #000000; text-decoration-color: #000000\">,  </span><span style=\"color: #008080; text-decoration-color: #008080; font-weight: bold\">1.9915e-01</span><span style=\"color: #000000; text-decoration-color: #000000\">,</span>\n",
       "<span style=\"color: #000000; text-decoration-color: #000000\">           </span><span style=\"color: #008080; text-decoration-color: #008080; font-weight: bold\">3.8435e-01</span><span style=\"color: #000000; text-decoration-color: #000000\">, </span><span style=\"color: #008080; text-decoration-color: #008080; font-weight: bold\">-2.0867e-01</span><span style=\"color: #000000; text-decoration-color: #000000; font-weight: bold\">]</span><span style=\"color: #000000; text-decoration-color: #000000\">,</span>\n",
       "<span style=\"color: #000000; text-decoration-color: #000000\">         </span><span style=\"color: #000000; text-decoration-color: #000000; font-weight: bold\">[</span><span style=\"color: #008080; text-decoration-color: #008080; font-weight: bold\">-3.4802e-01</span><span style=\"color: #000000; text-decoration-color: #000000\">, </span><span style=\"color: #008080; text-decoration-color: #008080; font-weight: bold\">-2.2825e-01</span><span style=\"color: #000000; text-decoration-color: #000000\">, </span><span style=\"color: #008080; text-decoration-color: #008080; font-weight: bold\">-3.5529e-01</span><span style=\"color: #000000; text-decoration-color: #000000\">, </span><span style=\"color: #008080; text-decoration-color: #008080; font-weight: bold\">-2.6172e-01</span><span style=\"color: #000000; text-decoration-color: #000000\">, </span><span style=\"color: #008080; text-decoration-color: #008080; font-weight: bold\">-2.2336e-02</span><span style=\"color: #000000; text-decoration-color: #000000\">,</span>\n",
       "<span style=\"color: #000000; text-decoration-color: #000000\">           </span><span style=\"color: #008080; text-decoration-color: #008080; font-weight: bold\">2.6127e-01</span><span style=\"color: #000000; text-decoration-color: #000000\">,  </span><span style=\"color: #008080; text-decoration-color: #008080; font-weight: bold\">3.7355e-01</span><span style=\"color: #000000; text-decoration-color: #000000\">, </span><span style=\"color: #008080; text-decoration-color: #008080; font-weight: bold\">-2.6493e-01</span><span style=\"color: #000000; text-decoration-color: #000000\">,  </span><span style=\"color: #008080; text-decoration-color: #008080; font-weight: bold\">2.1480e-02</span><span style=\"color: #000000; text-decoration-color: #000000\">,  </span><span style=\"color: #008080; text-decoration-color: #008080; font-weight: bold\">1.3850e-01</span><span style=\"color: #000000; text-decoration-color: #000000\">,</span>\n",
       "<span style=\"color: #000000; text-decoration-color: #000000\">           </span><span style=\"color: #008080; text-decoration-color: #008080; font-weight: bold\">1.0962e-01</span><span style=\"color: #000000; text-decoration-color: #000000\">,  </span><span style=\"color: #008080; text-decoration-color: #008080; font-weight: bold\">6.7182e-01</span><span style=\"color: #000000; text-decoration-color: #000000\">, </span><span style=\"color: #008080; text-decoration-color: #008080; font-weight: bold\">-2.2394e-01</span><span style=\"color: #000000; text-decoration-color: #000000\">,  </span><span style=\"color: #008080; text-decoration-color: #008080; font-weight: bold\">3.0515e-01</span><span style=\"color: #000000; text-decoration-color: #000000\">,  </span><span style=\"color: #008080; text-decoration-color: #008080; font-weight: bold\">6.7791e-02</span><span style=\"color: #000000; text-decoration-color: #000000\">,</span>\n",
       "<span style=\"color: #000000; text-decoration-color: #000000\">          </span><span style=\"color: #008080; text-decoration-color: #008080; font-weight: bold\">-2.9881e-01</span><span style=\"color: #000000; text-decoration-color: #000000\">,  </span><span style=\"color: #008080; text-decoration-color: #008080; font-weight: bold\">1.0715e-01</span><span style=\"color: #000000; text-decoration-color: #000000\">,  </span><span style=\"color: #008080; text-decoration-color: #008080; font-weight: bold\">4.9885e-02</span><span style=\"color: #000000; text-decoration-color: #000000\">, </span><span style=\"color: #008080; text-decoration-color: #008080; font-weight: bold\">-2.2266e-01</span><span style=\"color: #000000; text-decoration-color: #000000\">,  </span><span style=\"color: #008080; text-decoration-color: #008080; font-weight: bold\">1.2056e-01</span><span style=\"color: #000000; text-decoration-color: #000000\">,</span>\n",
       "<span style=\"color: #000000; text-decoration-color: #000000\">           </span><span style=\"color: #008080; text-decoration-color: #008080; font-weight: bold\">4.6018e-01</span><span style=\"color: #000000; text-decoration-color: #000000\">,  </span><span style=\"color: #008080; text-decoration-color: #008080; font-weight: bold\">3.5101e-01</span><span style=\"color: #000000; text-decoration-color: #000000\">, </span><span style=\"color: #008080; text-decoration-color: #008080; font-weight: bold\">-3.5328e-01</span><span style=\"color: #000000; text-decoration-color: #000000\">, </span><span style=\"color: #008080; text-decoration-color: #008080; font-weight: bold\">-1.0768e-01</span><span style=\"color: #000000; text-decoration-color: #000000\">,  </span><span style=\"color: #008080; text-decoration-color: #008080; font-weight: bold\">5.4070e-03</span><span style=\"color: #000000; text-decoration-color: #000000\">,</span>\n",
       "<span style=\"color: #000000; text-decoration-color: #000000\">          </span><span style=\"color: #008080; text-decoration-color: #008080; font-weight: bold\">-1.4420e-01</span><span style=\"color: #000000; text-decoration-color: #000000\">, </span><span style=\"color: #008080; text-decoration-color: #008080; font-weight: bold\">-1.5782e-01</span><span style=\"color: #000000; text-decoration-color: #000000\">,  </span><span style=\"color: #008080; text-decoration-color: #008080; font-weight: bold\">1.4993e-01</span><span style=\"color: #000000; text-decoration-color: #000000\">, </span><span style=\"color: #008080; text-decoration-color: #008080; font-weight: bold\">-3.9918e-01</span><span style=\"color: #000000; text-decoration-color: #000000\">,  </span><span style=\"color: #008080; text-decoration-color: #008080; font-weight: bold\">5.3259e-01</span><span style=\"color: #000000; text-decoration-color: #000000\">,</span>\n",
       "<span style=\"color: #000000; text-decoration-color: #000000\">           </span><span style=\"color: #008080; text-decoration-color: #008080; font-weight: bold\">3.2654e-01</span><span style=\"color: #000000; text-decoration-color: #000000\">, </span><span style=\"color: #008080; text-decoration-color: #008080; font-weight: bold\">-2.9260e-01</span><span style=\"color: #000000; text-decoration-color: #000000; font-weight: bold\">]</span><span style=\"color: #000000; text-decoration-color: #000000\">,</span>\n",
       "<span style=\"color: #000000; text-decoration-color: #000000\">         </span><span style=\"color: #000000; text-decoration-color: #000000; font-weight: bold\">[</span><span style=\"color: #008080; text-decoration-color: #008080; font-weight: bold\">-2.3829e-01</span><span style=\"color: #000000; text-decoration-color: #000000\">, </span><span style=\"color: #008080; text-decoration-color: #008080; font-weight: bold\">-7.0547e-02</span><span style=\"color: #000000; text-decoration-color: #000000\">, </span><span style=\"color: #008080; text-decoration-color: #008080; font-weight: bold\">-2.8726e-01</span><span style=\"color: #000000; text-decoration-color: #000000\">, </span><span style=\"color: #008080; text-decoration-color: #008080; font-weight: bold\">-2.5699e-01</span><span style=\"color: #000000; text-decoration-color: #000000\">, </span><span style=\"color: #008080; text-decoration-color: #008080; font-weight: bold\">-1.1256e-01</span><span style=\"color: #000000; text-decoration-color: #000000\">,</span>\n",
       "<span style=\"color: #000000; text-decoration-color: #000000\">           </span><span style=\"color: #008080; text-decoration-color: #008080; font-weight: bold\">1.1607e-01</span><span style=\"color: #000000; text-decoration-color: #000000\">,  </span><span style=\"color: #008080; text-decoration-color: #008080; font-weight: bold\">2.8980e-01</span><span style=\"color: #000000; text-decoration-color: #000000\">, </span><span style=\"color: #008080; text-decoration-color: #008080; font-weight: bold\">-3.1389e-01</span><span style=\"color: #000000; text-decoration-color: #000000\">,  </span><span style=\"color: #008080; text-decoration-color: #008080; font-weight: bold\">3.1957e-01</span><span style=\"color: #000000; text-decoration-color: #000000\">,  </span><span style=\"color: #008080; text-decoration-color: #008080; font-weight: bold\">3.1108e-01</span><span style=\"color: #000000; text-decoration-color: #000000\">,</span>\n",
       "<span style=\"color: #000000; text-decoration-color: #000000\">           </span><span style=\"color: #008080; text-decoration-color: #008080; font-weight: bold\">4.1999e-01</span><span style=\"color: #000000; text-decoration-color: #000000\">,  </span><span style=\"color: #008080; text-decoration-color: #008080; font-weight: bold\">5.1734e-01</span><span style=\"color: #000000; text-decoration-color: #000000\">, </span><span style=\"color: #008080; text-decoration-color: #008080; font-weight: bold\">-1.8984e-01</span><span style=\"color: #000000; text-decoration-color: #000000\">,  </span><span style=\"color: #008080; text-decoration-color: #008080; font-weight: bold\">2.5167e-01</span><span style=\"color: #000000; text-decoration-color: #000000\">,  </span><span style=\"color: #008080; text-decoration-color: #008080; font-weight: bold\">4.0380e-02</span><span style=\"color: #000000; text-decoration-color: #000000\">,</span>\n",
       "<span style=\"color: #000000; text-decoration-color: #000000\">          </span><span style=\"color: #008080; text-decoration-color: #008080; font-weight: bold\">-1.9407e-01</span><span style=\"color: #000000; text-decoration-color: #000000\">,  </span><span style=\"color: #008080; text-decoration-color: #008080; font-weight: bold\">2.5661e-01</span><span style=\"color: #000000; text-decoration-color: #000000\">,  </span><span style=\"color: #008080; text-decoration-color: #008080; font-weight: bold\">8.7557e-02</span><span style=\"color: #000000; text-decoration-color: #000000\">, </span><span style=\"color: #008080; text-decoration-color: #008080; font-weight: bold\">-3.8751e-02</span><span style=\"color: #000000; text-decoration-color: #000000\">,  </span><span style=\"color: #008080; text-decoration-color: #008080; font-weight: bold\">1.1305e-01</span><span style=\"color: #000000; text-decoration-color: #000000\">,</span>\n",
       "<span style=\"color: #000000; text-decoration-color: #000000\">           </span><span style=\"color: #008080; text-decoration-color: #008080; font-weight: bold\">4.5989e-01</span><span style=\"color: #000000; text-decoration-color: #000000\">,  </span><span style=\"color: #008080; text-decoration-color: #008080; font-weight: bold\">4.0931e-01</span><span style=\"color: #000000; text-decoration-color: #000000\">, </span><span style=\"color: #008080; text-decoration-color: #008080; font-weight: bold\">-4.5172e-01</span><span style=\"color: #000000; text-decoration-color: #000000\">, </span><span style=\"color: #008080; text-decoration-color: #008080; font-weight: bold\">-1.7560e-01</span><span style=\"color: #000000; text-decoration-color: #000000\">, </span><span style=\"color: #008080; text-decoration-color: #008080; font-weight: bold\">-1.7299e-01</span><span style=\"color: #000000; text-decoration-color: #000000\">,</span>\n",
       "<span style=\"color: #000000; text-decoration-color: #000000\">          </span><span style=\"color: #008080; text-decoration-color: #008080; font-weight: bold\">-1.0113e-01</span><span style=\"color: #000000; text-decoration-color: #000000\">, </span><span style=\"color: #008080; text-decoration-color: #008080; font-weight: bold\">-1.1262e-01</span><span style=\"color: #000000; text-decoration-color: #000000\">, </span><span style=\"color: #008080; text-decoration-color: #008080; font-weight: bold\">-1.8438e-02</span><span style=\"color: #000000; text-decoration-color: #000000\">, </span><span style=\"color: #008080; text-decoration-color: #008080; font-weight: bold\">-3.6429e-01</span><span style=\"color: #000000; text-decoration-color: #000000\">,  </span><span style=\"color: #008080; text-decoration-color: #008080; font-weight: bold\">3.8055e-01</span><span style=\"color: #000000; text-decoration-color: #000000\">,</span>\n",
       "<span style=\"color: #000000; text-decoration-color: #000000\">           </span><span style=\"color: #008080; text-decoration-color: #008080; font-weight: bold\">4.9983e-01</span><span style=\"color: #000000; text-decoration-color: #000000\">, </span><span style=\"color: #008080; text-decoration-color: #008080; font-weight: bold\">-5.1607e-01</span><span style=\"color: #000000; text-decoration-color: #000000; font-weight: bold\">]</span><span style=\"color: #000000; text-decoration-color: #000000\">,</span>\n",
       "<span style=\"color: #000000; text-decoration-color: #000000\">         </span><span style=\"color: #000000; text-decoration-color: #000000; font-weight: bold\">[</span><span style=\"color: #008080; text-decoration-color: #008080; font-weight: bold\">-2.2295e-01</span><span style=\"color: #000000; text-decoration-color: #000000\">, </span><span style=\"color: #008080; text-decoration-color: #008080; font-weight: bold\">-1.1396e-01</span><span style=\"color: #000000; text-decoration-color: #000000\">, </span><span style=\"color: #008080; text-decoration-color: #008080; font-weight: bold\">-7.0574e-03</span><span style=\"color: #000000; text-decoration-color: #000000\">, </span><span style=\"color: #008080; text-decoration-color: #008080; font-weight: bold\">-1.0553e-01</span><span style=\"color: #000000; text-decoration-color: #000000\">, </span><span style=\"color: #008080; text-decoration-color: #008080; font-weight: bold\">-2.6223e-01</span><span style=\"color: #000000; text-decoration-color: #000000\">,</span>\n",
       "<span style=\"color: #000000; text-decoration-color: #000000\">           </span><span style=\"color: #008080; text-decoration-color: #008080; font-weight: bold\">1.2642e-01</span><span style=\"color: #000000; text-decoration-color: #000000\">,  </span><span style=\"color: #008080; text-decoration-color: #008080; font-weight: bold\">2.9560e-01</span><span style=\"color: #000000; text-decoration-color: #000000\">, </span><span style=\"color: #008080; text-decoration-color: #008080; font-weight: bold\">-1.3295e-02</span><span style=\"color: #000000; text-decoration-color: #000000\">,  </span><span style=\"color: #008080; text-decoration-color: #008080; font-weight: bold\">2.8055e-01</span><span style=\"color: #000000; text-decoration-color: #000000\">,  </span><span style=\"color: #008080; text-decoration-color: #008080; font-weight: bold\">1.9339e-01</span><span style=\"color: #000000; text-decoration-color: #000000\">,</span>\n",
       "<span style=\"color: #000000; text-decoration-color: #000000\">           </span><span style=\"color: #008080; text-decoration-color: #008080; font-weight: bold\">3.3370e-01</span><span style=\"color: #000000; text-decoration-color: #000000\">,  </span><span style=\"color: #008080; text-decoration-color: #008080; font-weight: bold\">4.8414e-01</span><span style=\"color: #000000; text-decoration-color: #000000\">, </span><span style=\"color: #008080; text-decoration-color: #008080; font-weight: bold\">-2.8866e-01</span><span style=\"color: #000000; text-decoration-color: #000000\">,  </span><span style=\"color: #008080; text-decoration-color: #008080; font-weight: bold\">2.8186e-01</span><span style=\"color: #000000; text-decoration-color: #000000\">,  </span><span style=\"color: #008080; text-decoration-color: #008080; font-weight: bold\">1.1260e-01</span><span style=\"color: #000000; text-decoration-color: #000000\">,</span>\n",
       "<span style=\"color: #000000; text-decoration-color: #000000\">           </span><span style=\"color: #008080; text-decoration-color: #008080; font-weight: bold\">8.0107e-02</span><span style=\"color: #000000; text-decoration-color: #000000\">,  </span><span style=\"color: #008080; text-decoration-color: #008080; font-weight: bold\">2.1795e-01</span><span style=\"color: #000000; text-decoration-color: #000000\">,  </span><span style=\"color: #008080; text-decoration-color: #008080; font-weight: bold\">1.8178e-01</span><span style=\"color: #000000; text-decoration-color: #000000\">,  </span><span style=\"color: #008080; text-decoration-color: #008080; font-weight: bold\">7.3868e-02</span><span style=\"color: #000000; text-decoration-color: #000000\">,  </span><span style=\"color: #008080; text-decoration-color: #008080; font-weight: bold\">4.0110e-01</span><span style=\"color: #000000; text-decoration-color: #000000\">,</span>\n",
       "<span style=\"color: #000000; text-decoration-color: #000000\">           </span><span style=\"color: #008080; text-decoration-color: #008080; font-weight: bold\">4.3338e-01</span><span style=\"color: #000000; text-decoration-color: #000000\">,  </span><span style=\"color: #008080; text-decoration-color: #008080; font-weight: bold\">3.8996e-01</span><span style=\"color: #000000; text-decoration-color: #000000\">, </span><span style=\"color: #008080; text-decoration-color: #008080; font-weight: bold\">-1.1479e-01</span><span style=\"color: #000000; text-decoration-color: #000000\">, </span><span style=\"color: #008080; text-decoration-color: #008080; font-weight: bold\">-7.5292e-02</span><span style=\"color: #000000; text-decoration-color: #000000\">, </span><span style=\"color: #008080; text-decoration-color: #008080; font-weight: bold\">-3.2897e-01</span><span style=\"color: #000000; text-decoration-color: #000000\">,</span>\n",
       "<span style=\"color: #000000; text-decoration-color: #000000\">          </span><span style=\"color: #008080; text-decoration-color: #008080; font-weight: bold\">-1.0699e-01</span><span style=\"color: #000000; text-decoration-color: #000000\">,  </span><span style=\"color: #008080; text-decoration-color: #008080; font-weight: bold\">1.4775e-02</span><span style=\"color: #000000; text-decoration-color: #000000\">, </span><span style=\"color: #008080; text-decoration-color: #008080; font-weight: bold\">-5.1134e-02</span><span style=\"color: #000000; text-decoration-color: #000000\">, </span><span style=\"color: #008080; text-decoration-color: #008080; font-weight: bold\">-4.0269e-01</span><span style=\"color: #000000; text-decoration-color: #000000\">,  </span><span style=\"color: #008080; text-decoration-color: #008080; font-weight: bold\">3.8246e-01</span><span style=\"color: #000000; text-decoration-color: #000000\">,</span>\n",
       "<span style=\"color: #000000; text-decoration-color: #000000\">           </span><span style=\"color: #008080; text-decoration-color: #008080; font-weight: bold\">5.7757e-01</span><span style=\"color: #000000; text-decoration-color: #000000\">, </span><span style=\"color: #008080; text-decoration-color: #008080; font-weight: bold\">-6.2126e-01</span><span style=\"color: #000000; text-decoration-color: #000000; font-weight: bold\">]</span><span style=\"color: #000000; text-decoration-color: #000000\">,</span>\n",
       "<span style=\"color: #000000; text-decoration-color: #000000\">         </span><span style=\"color: #000000; text-decoration-color: #000000; font-weight: bold\">[</span><span style=\"color: #008080; text-decoration-color: #008080; font-weight: bold\">-1.5717e-01</span><span style=\"color: #000000; text-decoration-color: #000000\">,  </span><span style=\"color: #008080; text-decoration-color: #008080; font-weight: bold\">4.9611e-02</span><span style=\"color: #000000; text-decoration-color: #000000\">,  </span><span style=\"color: #008080; text-decoration-color: #008080; font-weight: bold\">3.7857e-02</span><span style=\"color: #000000; text-decoration-color: #000000\">, </span><span style=\"color: #008080; text-decoration-color: #008080; font-weight: bold\">-7.0055e-02</span><span style=\"color: #000000; text-decoration-color: #000000\">, </span><span style=\"color: #008080; text-decoration-color: #008080; font-weight: bold\">-1.3334e-01</span><span style=\"color: #000000; text-decoration-color: #000000\">,</span>\n",
       "<span style=\"color: #000000; text-decoration-color: #000000\">           </span><span style=\"color: #008080; text-decoration-color: #008080; font-weight: bold\">1.7712e-01</span><span style=\"color: #000000; text-decoration-color: #000000\">,  </span><span style=\"color: #008080; text-decoration-color: #008080; font-weight: bold\">3.5093e-01</span><span style=\"color: #000000; text-decoration-color: #000000\">, </span><span style=\"color: #008080; text-decoration-color: #008080; font-weight: bold\">-2.9169e-01</span><span style=\"color: #000000; text-decoration-color: #000000\">,  </span><span style=\"color: #008080; text-decoration-color: #008080; font-weight: bold\">1.4205e-01</span><span style=\"color: #000000; text-decoration-color: #000000\">,  </span><span style=\"color: #008080; text-decoration-color: #008080; font-weight: bold\">1.9889e-01</span><span style=\"color: #000000; text-decoration-color: #000000\">,</span>\n",
       "<span style=\"color: #000000; text-decoration-color: #000000\">           </span><span style=\"color: #008080; text-decoration-color: #008080; font-weight: bold\">3.6089e-01</span><span style=\"color: #000000; text-decoration-color: #000000\">,  </span><span style=\"color: #008080; text-decoration-color: #008080; font-weight: bold\">5.3766e-01</span><span style=\"color: #000000; text-decoration-color: #000000\">, </span><span style=\"color: #008080; text-decoration-color: #008080; font-weight: bold\">-4.1103e-01</span><span style=\"color: #000000; text-decoration-color: #000000\">,  </span><span style=\"color: #008080; text-decoration-color: #008080; font-weight: bold\">2.5037e-01</span><span style=\"color: #000000; text-decoration-color: #000000\">,  </span><span style=\"color: #008080; text-decoration-color: #008080; font-weight: bold\">1.0039e-01</span><span style=\"color: #000000; text-decoration-color: #000000\">,</span>\n",
       "<span style=\"color: #000000; text-decoration-color: #000000\">          </span><span style=\"color: #008080; text-decoration-color: #008080; font-weight: bold\">-1.9207e-02</span><span style=\"color: #000000; text-decoration-color: #000000\">,  </span><span style=\"color: #008080; text-decoration-color: #008080; font-weight: bold\">3.7936e-01</span><span style=\"color: #000000; text-decoration-color: #000000\">,  </span><span style=\"color: #008080; text-decoration-color: #008080; font-weight: bold\">2.5950e-02</span><span style=\"color: #000000; text-decoration-color: #000000\">, </span><span style=\"color: #008080; text-decoration-color: #008080; font-weight: bold\">-1.1865e-01</span><span style=\"color: #000000; text-decoration-color: #000000\">,  </span><span style=\"color: #008080; text-decoration-color: #008080; font-weight: bold\">2.7807e-01</span><span style=\"color: #000000; text-decoration-color: #000000\">,</span>\n",
       "<span style=\"color: #000000; text-decoration-color: #000000\">           </span><span style=\"color: #008080; text-decoration-color: #008080; font-weight: bold\">3.1732e-01</span><span style=\"color: #000000; text-decoration-color: #000000\">,  </span><span style=\"color: #008080; text-decoration-color: #008080; font-weight: bold\">4.7598e-01</span><span style=\"color: #000000; text-decoration-color: #000000\">,  </span><span style=\"color: #008080; text-decoration-color: #008080; font-weight: bold\">1.3816e-01</span><span style=\"color: #000000; text-decoration-color: #000000\">, </span><span style=\"color: #008080; text-decoration-color: #008080; font-weight: bold\">-2.0919e-01</span><span style=\"color: #000000; text-decoration-color: #000000\">, </span><span style=\"color: #008080; text-decoration-color: #008080; font-weight: bold\">-2.6297e-01</span><span style=\"color: #000000; text-decoration-color: #000000\">,</span>\n",
       "<span style=\"color: #000000; text-decoration-color: #000000\">          </span><span style=\"color: #008080; text-decoration-color: #008080; font-weight: bold\">-1.2503e-01</span><span style=\"color: #000000; text-decoration-color: #000000\">,  </span><span style=\"color: #008080; text-decoration-color: #008080; font-weight: bold\">1.8251e-01</span><span style=\"color: #000000; text-decoration-color: #000000\">, </span><span style=\"color: #008080; text-decoration-color: #008080; font-weight: bold\">-3.1570e-02</span><span style=\"color: #000000; text-decoration-color: #000000\">, </span><span style=\"color: #008080; text-decoration-color: #008080; font-weight: bold\">-6.5754e-01</span><span style=\"color: #000000; text-decoration-color: #000000\">,  </span><span style=\"color: #008080; text-decoration-color: #008080; font-weight: bold\">2.2904e-01</span><span style=\"color: #000000; text-decoration-color: #000000\">,</span>\n",
       "<span style=\"color: #000000; text-decoration-color: #000000\">           </span><span style=\"color: #008080; text-decoration-color: #008080; font-weight: bold\">4.8678e-01</span><span style=\"color: #000000; text-decoration-color: #000000\">, </span><span style=\"color: #008080; text-decoration-color: #008080; font-weight: bold\">-4.3710e-01</span><span style=\"color: #000000; text-decoration-color: #000000; font-weight: bold\">]</span><span style=\"color: #000000; text-decoration-color: #000000\">,</span>\n",
       "<span style=\"color: #000000; text-decoration-color: #000000\">         </span><span style=\"color: #000000; text-decoration-color: #000000; font-weight: bold\">[</span><span style=\"color: #008080; text-decoration-color: #008080; font-weight: bold\">-2.5996e-01</span><span style=\"color: #000000; text-decoration-color: #000000\">, </span><span style=\"color: #008080; text-decoration-color: #008080; font-weight: bold\">-4.8312e-03</span><span style=\"color: #000000; text-decoration-color: #000000\">, </span><span style=\"color: #008080; text-decoration-color: #008080; font-weight: bold\">-7.0360e-02</span><span style=\"color: #000000; text-decoration-color: #000000\">, </span><span style=\"color: #008080; text-decoration-color: #008080; font-weight: bold\">-2.4164e-01</span><span style=\"color: #000000; text-decoration-color: #000000\">, </span><span style=\"color: #008080; text-decoration-color: #008080; font-weight: bold\">-2.2528e-01</span><span style=\"color: #000000; text-decoration-color: #000000\">,</span>\n",
       "<span style=\"color: #000000; text-decoration-color: #000000\">           </span><span style=\"color: #008080; text-decoration-color: #008080; font-weight: bold\">3.2764e-01</span><span style=\"color: #000000; text-decoration-color: #000000\">,  </span><span style=\"color: #008080; text-decoration-color: #008080; font-weight: bold\">2.4634e-01</span><span style=\"color: #000000; text-decoration-color: #000000\">, </span><span style=\"color: #008080; text-decoration-color: #008080; font-weight: bold\">-1.9044e-01</span><span style=\"color: #000000; text-decoration-color: #000000\">,  </span><span style=\"color: #008080; text-decoration-color: #008080; font-weight: bold\">1.4033e-01</span><span style=\"color: #000000; text-decoration-color: #000000\">,  </span><span style=\"color: #008080; text-decoration-color: #008080; font-weight: bold\">2.6708e-01</span><span style=\"color: #000000; text-decoration-color: #000000\">,</span>\n",
       "<span style=\"color: #000000; text-decoration-color: #000000\">           </span><span style=\"color: #008080; text-decoration-color: #008080; font-weight: bold\">2.6827e-01</span><span style=\"color: #000000; text-decoration-color: #000000\">,  </span><span style=\"color: #008080; text-decoration-color: #008080; font-weight: bold\">4.6412e-01</span><span style=\"color: #000000; text-decoration-color: #000000\">, </span><span style=\"color: #008080; text-decoration-color: #008080; font-weight: bold\">-4.6004e-01</span><span style=\"color: #000000; text-decoration-color: #000000\">,  </span><span style=\"color: #008080; text-decoration-color: #008080; font-weight: bold\">3.7195e-02</span><span style=\"color: #000000; text-decoration-color: #000000\">,  </span><span style=\"color: #008080; text-decoration-color: #008080; font-weight: bold\">1.8442e-01</span><span style=\"color: #000000; text-decoration-color: #000000\">,</span>\n",
       "<span style=\"color: #000000; text-decoration-color: #000000\">          </span><span style=\"color: #008080; text-decoration-color: #008080; font-weight: bold\">-9.2144e-02</span><span style=\"color: #000000; text-decoration-color: #000000\">,  </span><span style=\"color: #008080; text-decoration-color: #008080; font-weight: bold\">2.9979e-01</span><span style=\"color: #000000; text-decoration-color: #000000\">, </span><span style=\"color: #008080; text-decoration-color: #008080; font-weight: bold\">-3.5033e-02</span><span style=\"color: #000000; text-decoration-color: #000000\">, </span><span style=\"color: #008080; text-decoration-color: #008080; font-weight: bold\">-1.1754e-01</span><span style=\"color: #000000; text-decoration-color: #000000\">,  </span><span style=\"color: #008080; text-decoration-color: #008080; font-weight: bold\">2.7263e-01</span><span style=\"color: #000000; text-decoration-color: #000000\">,</span>\n",
       "<span style=\"color: #000000; text-decoration-color: #000000\">           </span><span style=\"color: #008080; text-decoration-color: #008080; font-weight: bold\">2.9350e-01</span><span style=\"color: #000000; text-decoration-color: #000000\">,  </span><span style=\"color: #008080; text-decoration-color: #008080; font-weight: bold\">7.3604e-01</span><span style=\"color: #000000; text-decoration-color: #000000\">,  </span><span style=\"color: #008080; text-decoration-color: #008080; font-weight: bold\">5.8802e-03</span><span style=\"color: #000000; text-decoration-color: #000000\">, </span><span style=\"color: #008080; text-decoration-color: #008080; font-weight: bold\">-2.5696e-01</span><span style=\"color: #000000; text-decoration-color: #000000\">, </span><span style=\"color: #008080; text-decoration-color: #008080; font-weight: bold\">-1.9355e-01</span><span style=\"color: #000000; text-decoration-color: #000000\">,</span>\n",
       "<span style=\"color: #000000; text-decoration-color: #000000\">           </span><span style=\"color: #008080; text-decoration-color: #008080; font-weight: bold\">9.7955e-02</span><span style=\"color: #000000; text-decoration-color: #000000\">,  </span><span style=\"color: #008080; text-decoration-color: #008080; font-weight: bold\">2.1985e-01</span><span style=\"color: #000000; text-decoration-color: #000000\">, </span><span style=\"color: #008080; text-decoration-color: #008080; font-weight: bold\">-1.1738e-01</span><span style=\"color: #000000; text-decoration-color: #000000\">, </span><span style=\"color: #008080; text-decoration-color: #008080; font-weight: bold\">-5.8300e-01</span><span style=\"color: #000000; text-decoration-color: #000000\">,  </span><span style=\"color: #008080; text-decoration-color: #008080; font-weight: bold\">2.7138e-01</span><span style=\"color: #000000; text-decoration-color: #000000\">,</span>\n",
       "<span style=\"color: #000000; text-decoration-color: #000000\">           </span><span style=\"color: #008080; text-decoration-color: #008080; font-weight: bold\">4.2247e-01</span><span style=\"color: #000000; text-decoration-color: #000000\">, </span><span style=\"color: #008080; text-decoration-color: #008080; font-weight: bold\">-5.8711e-01</span><span style=\"color: #000000; text-decoration-color: #000000; font-weight: bold\">]</span><span style=\"color: #000000; text-decoration-color: #000000\">,</span>\n",
       "<span style=\"color: #000000; text-decoration-color: #000000\">         </span><span style=\"color: #000000; text-decoration-color: #000000; font-weight: bold\">[</span><span style=\"color: #008080; text-decoration-color: #008080; font-weight: bold\">-2.6539e-01</span><span style=\"color: #000000; text-decoration-color: #000000\">,  </span><span style=\"color: #008080; text-decoration-color: #008080; font-weight: bold\">4.1517e-03</span><span style=\"color: #000000; text-decoration-color: #000000\">,  </span><span style=\"color: #008080; text-decoration-color: #008080; font-weight: bold\">1.5181e-02</span><span style=\"color: #000000; text-decoration-color: #000000\">,  </span><span style=\"color: #008080; text-decoration-color: #008080; font-weight: bold\">1.2781e-02</span><span style=\"color: #000000; text-decoration-color: #000000\">, </span><span style=\"color: #008080; text-decoration-color: #008080; font-weight: bold\">-1.2961e-01</span><span style=\"color: #000000; text-decoration-color: #000000\">,</span>\n",
       "<span style=\"color: #000000; text-decoration-color: #000000\">           </span><span style=\"color: #008080; text-decoration-color: #008080; font-weight: bold\">1.1274e-01</span><span style=\"color: #000000; text-decoration-color: #000000\">,  </span><span style=\"color: #008080; text-decoration-color: #008080; font-weight: bold\">3.5967e-01</span><span style=\"color: #000000; text-decoration-color: #000000\">, </span><span style=\"color: #008080; text-decoration-color: #008080; font-weight: bold\">-3.5489e-02</span><span style=\"color: #000000; text-decoration-color: #000000\">,  </span><span style=\"color: #008080; text-decoration-color: #008080; font-weight: bold\">3.4079e-01</span><span style=\"color: #000000; text-decoration-color: #000000\">,  </span><span style=\"color: #008080; text-decoration-color: #008080; font-weight: bold\">3.0638e-01</span><span style=\"color: #000000; text-decoration-color: #000000\">,</span>\n",
       "<span style=\"color: #000000; text-decoration-color: #000000\">           </span><span style=\"color: #008080; text-decoration-color: #008080; font-weight: bold\">4.1123e-01</span><span style=\"color: #000000; text-decoration-color: #000000\">,  </span><span style=\"color: #008080; text-decoration-color: #008080; font-weight: bold\">3.5991e-01</span><span style=\"color: #000000; text-decoration-color: #000000\">, </span><span style=\"color: #008080; text-decoration-color: #008080; font-weight: bold\">-1.2175e-01</span><span style=\"color: #000000; text-decoration-color: #000000\">,  </span><span style=\"color: #008080; text-decoration-color: #008080; font-weight: bold\">1.3398e-01</span><span style=\"color: #000000; text-decoration-color: #000000\">,  </span><span style=\"color: #008080; text-decoration-color: #008080; font-weight: bold\">2.3612e-01</span><span style=\"color: #000000; text-decoration-color: #000000\">,</span>\n",
       "<span style=\"color: #000000; text-decoration-color: #000000\">          </span><span style=\"color: #008080; text-decoration-color: #008080; font-weight: bold\">-2.5234e-01</span><span style=\"color: #000000; text-decoration-color: #000000\">,  </span><span style=\"color: #008080; text-decoration-color: #008080; font-weight: bold\">2.9047e-01</span><span style=\"color: #000000; text-decoration-color: #000000\">, </span><span style=\"color: #008080; text-decoration-color: #008080; font-weight: bold\">-1.9565e-01</span><span style=\"color: #000000; text-decoration-color: #000000\">, </span><span style=\"color: #008080; text-decoration-color: #008080; font-weight: bold\">-2.7314e-01</span><span style=\"color: #000000; text-decoration-color: #000000\">,  </span><span style=\"color: #008080; text-decoration-color: #008080; font-weight: bold\">3.1241e-01</span><span style=\"color: #000000; text-decoration-color: #000000\">,</span>\n",
       "<span style=\"color: #000000; text-decoration-color: #000000\">           </span><span style=\"color: #008080; text-decoration-color: #008080; font-weight: bold\">9.8164e-02</span><span style=\"color: #000000; text-decoration-color: #000000\">,  </span><span style=\"color: #008080; text-decoration-color: #008080; font-weight: bold\">7.1076e-01</span><span style=\"color: #000000; text-decoration-color: #000000\">,  </span><span style=\"color: #008080; text-decoration-color: #008080; font-weight: bold\">4.5611e-02</span><span style=\"color: #000000; text-decoration-color: #000000\">, </span><span style=\"color: #008080; text-decoration-color: #008080; font-weight: bold\">-1.6697e-01</span><span style=\"color: #000000; text-decoration-color: #000000\">, </span><span style=\"color: #008080; text-decoration-color: #008080; font-weight: bold\">-3.7879e-01</span><span style=\"color: #000000; text-decoration-color: #000000\">,</span>\n",
       "<span style=\"color: #000000; text-decoration-color: #000000\">           </span><span style=\"color: #008080; text-decoration-color: #008080; font-weight: bold\">1.6025e-01</span><span style=\"color: #000000; text-decoration-color: #000000\">,  </span><span style=\"color: #008080; text-decoration-color: #008080; font-weight: bold\">2.1716e-01</span><span style=\"color: #000000; text-decoration-color: #000000\">, </span><span style=\"color: #008080; text-decoration-color: #008080; font-weight: bold\">-8.1111e-02</span><span style=\"color: #000000; text-decoration-color: #000000\">, </span><span style=\"color: #008080; text-decoration-color: #008080; font-weight: bold\">-3.1937e-01</span><span style=\"color: #000000; text-decoration-color: #000000\">,  </span><span style=\"color: #008080; text-decoration-color: #008080; font-weight: bold\">1.1062e-01</span><span style=\"color: #000000; text-decoration-color: #000000\">,</span>\n",
       "<span style=\"color: #000000; text-decoration-color: #000000\">           </span><span style=\"color: #008080; text-decoration-color: #008080; font-weight: bold\">4.1277e-01</span><span style=\"color: #000000; text-decoration-color: #000000\">, </span><span style=\"color: #008080; text-decoration-color: #008080; font-weight: bold\">-5.5332e-01</span><span style=\"color: #000000; text-decoration-color: #000000; font-weight: bold\">]</span><span style=\"color: #000000; text-decoration-color: #000000\">,</span>\n",
       "<span style=\"color: #000000; text-decoration-color: #000000\">         </span><span style=\"color: #000000; text-decoration-color: #000000; font-weight: bold\">[</span><span style=\"color: #008080; text-decoration-color: #008080; font-weight: bold\">-2.6097e-01</span><span style=\"color: #000000; text-decoration-color: #000000\">,  </span><span style=\"color: #008080; text-decoration-color: #008080; font-weight: bold\">3.5211e-02</span><span style=\"color: #000000; text-decoration-color: #000000\">,  </span><span style=\"color: #008080; text-decoration-color: #008080; font-weight: bold\">1.0137e-01</span><span style=\"color: #000000; text-decoration-color: #000000\">, </span><span style=\"color: #008080; text-decoration-color: #008080; font-weight: bold\">-1.0343e-01</span><span style=\"color: #000000; text-decoration-color: #000000\">, </span><span style=\"color: #008080; text-decoration-color: #008080; font-weight: bold\">-3.3685e-01</span><span style=\"color: #000000; text-decoration-color: #000000\">,</span>\n",
       "<span style=\"color: #000000; text-decoration-color: #000000\">          </span><span style=\"color: #008080; text-decoration-color: #008080; font-weight: bold\">-1.1351e-01</span><span style=\"color: #000000; text-decoration-color: #000000\">,  </span><span style=\"color: #008080; text-decoration-color: #008080; font-weight: bold\">2.1570e-01</span><span style=\"color: #000000; text-decoration-color: #000000\">, </span><span style=\"color: #008080; text-decoration-color: #008080; font-weight: bold\">-2.2815e-01</span><span style=\"color: #000000; text-decoration-color: #000000\">,  </span><span style=\"color: #008080; text-decoration-color: #008080; font-weight: bold\">6.5419e-02</span><span style=\"color: #000000; text-decoration-color: #000000\">,  </span><span style=\"color: #008080; text-decoration-color: #008080; font-weight: bold\">2.8954e-01</span><span style=\"color: #000000; text-decoration-color: #000000\">,</span>\n",
       "<span style=\"color: #000000; text-decoration-color: #000000\">           </span><span style=\"color: #008080; text-decoration-color: #008080; font-weight: bold\">1.1245e-01</span><span style=\"color: #000000; text-decoration-color: #000000\">,  </span><span style=\"color: #008080; text-decoration-color: #008080; font-weight: bold\">4.9224e-01</span><span style=\"color: #000000; text-decoration-color: #000000\">, </span><span style=\"color: #008080; text-decoration-color: #008080; font-weight: bold\">-2.3751e-01</span><span style=\"color: #000000; text-decoration-color: #000000\">, </span><span style=\"color: #008080; text-decoration-color: #008080; font-weight: bold\">-1.0211e-02</span><span style=\"color: #000000; text-decoration-color: #000000\">,  </span><span style=\"color: #008080; text-decoration-color: #008080; font-weight: bold\">2.0243e-01</span><span style=\"color: #000000; text-decoration-color: #000000\">,</span>\n",
       "<span style=\"color: #000000; text-decoration-color: #000000\">           </span><span style=\"color: #008080; text-decoration-color: #008080; font-weight: bold\">2.4743e-02</span><span style=\"color: #000000; text-decoration-color: #000000\">,  </span><span style=\"color: #008080; text-decoration-color: #008080; font-weight: bold\">6.4739e-01</span><span style=\"color: #000000; text-decoration-color: #000000\">, </span><span style=\"color: #008080; text-decoration-color: #008080; font-weight: bold\">-3.4207e-03</span><span style=\"color: #000000; text-decoration-color: #000000\">, </span><span style=\"color: #008080; text-decoration-color: #008080; font-weight: bold\">-3.0222e-01</span><span style=\"color: #000000; text-decoration-color: #000000\">,  </span><span style=\"color: #008080; text-decoration-color: #008080; font-weight: bold\">2.1826e-01</span><span style=\"color: #000000; text-decoration-color: #000000\">,</span>\n",
       "<span style=\"color: #000000; text-decoration-color: #000000\">           </span><span style=\"color: #008080; text-decoration-color: #008080; font-weight: bold\">1.6319e-01</span><span style=\"color: #000000; text-decoration-color: #000000\">,  </span><span style=\"color: #008080; text-decoration-color: #008080; font-weight: bold\">6.0491e-01</span><span style=\"color: #000000; text-decoration-color: #000000\">,  </span><span style=\"color: #008080; text-decoration-color: #008080; font-weight: bold\">2.8514e-02</span><span style=\"color: #000000; text-decoration-color: #000000\">, </span><span style=\"color: #008080; text-decoration-color: #008080; font-weight: bold\">-2.5603e-01</span><span style=\"color: #000000; text-decoration-color: #000000\">, </span><span style=\"color: #008080; text-decoration-color: #008080; font-weight: bold\">-5.4598e-01</span><span style=\"color: #000000; text-decoration-color: #000000\">,</span>\n",
       "<span style=\"color: #000000; text-decoration-color: #000000\">          </span><span style=\"color: #008080; text-decoration-color: #008080; font-weight: bold\">-1.4417e-02</span><span style=\"color: #000000; text-decoration-color: #000000\">,  </span><span style=\"color: #008080; text-decoration-color: #008080; font-weight: bold\">3.3761e-01</span><span style=\"color: #000000; text-decoration-color: #000000\">, </span><span style=\"color: #008080; text-decoration-color: #008080; font-weight: bold\">-1.5896e-01</span><span style=\"color: #000000; text-decoration-color: #000000\">, </span><span style=\"color: #008080; text-decoration-color: #008080; font-weight: bold\">-3.4074e-02</span><span style=\"color: #000000; text-decoration-color: #000000\">, </span><span style=\"color: #008080; text-decoration-color: #008080; font-weight: bold\">-1.7686e-01</span><span style=\"color: #000000; text-decoration-color: #000000\">,</span>\n",
       "<span style=\"color: #000000; text-decoration-color: #000000\">           </span><span style=\"color: #008080; text-decoration-color: #008080; font-weight: bold\">3.8958e-01</span><span style=\"color: #000000; text-decoration-color: #000000\">, </span><span style=\"color: #008080; text-decoration-color: #008080; font-weight: bold\">-6.4709e-01</span><span style=\"color: #000000; text-decoration-color: #000000; font-weight: bold\">]</span><span style=\"color: #000000; text-decoration-color: #000000\">,</span>\n",
       "<span style=\"color: #000000; text-decoration-color: #000000\">         </span><span style=\"color: #000000; text-decoration-color: #000000; font-weight: bold\">[</span><span style=\"color: #008080; text-decoration-color: #008080; font-weight: bold\">-2.0729e-01</span><span style=\"color: #000000; text-decoration-color: #000000\">, </span><span style=\"color: #008080; text-decoration-color: #008080; font-weight: bold\">-3.5711e-02</span><span style=\"color: #000000; text-decoration-color: #000000\">,  </span><span style=\"color: #008080; text-decoration-color: #008080; font-weight: bold\">7.6000e-02</span><span style=\"color: #000000; text-decoration-color: #000000\">, </span><span style=\"color: #008080; text-decoration-color: #008080; font-weight: bold\">-2.0589e-02</span><span style=\"color: #000000; text-decoration-color: #000000\">, </span><span style=\"color: #008080; text-decoration-color: #008080; font-weight: bold\">-3.5196e-01</span><span style=\"color: #000000; text-decoration-color: #000000\">,</span>\n",
       "<span style=\"color: #000000; text-decoration-color: #000000\">           </span><span style=\"color: #008080; text-decoration-color: #008080; font-weight: bold\">1.7530e-01</span><span style=\"color: #000000; text-decoration-color: #000000\">,  </span><span style=\"color: #008080; text-decoration-color: #008080; font-weight: bold\">1.7784e-01</span><span style=\"color: #000000; text-decoration-color: #000000\">, </span><span style=\"color: #008080; text-decoration-color: #008080; font-weight: bold\">-1.6331e-01</span><span style=\"color: #000000; text-decoration-color: #000000\">,  </span><span style=\"color: #008080; text-decoration-color: #008080; font-weight: bold\">6.0046e-02</span><span style=\"color: #000000; text-decoration-color: #000000\">,  </span><span style=\"color: #008080; text-decoration-color: #008080; font-weight: bold\">2.3115e-01</span><span style=\"color: #000000; text-decoration-color: #000000\">,</span>\n",
       "<span style=\"color: #000000; text-decoration-color: #000000\">           </span><span style=\"color: #008080; text-decoration-color: #008080; font-weight: bold\">2.1987e-01</span><span style=\"color: #000000; text-decoration-color: #000000\">,  </span><span style=\"color: #008080; text-decoration-color: #008080; font-weight: bold\">3.5838e-01</span><span style=\"color: #000000; text-decoration-color: #000000\">, </span><span style=\"color: #008080; text-decoration-color: #008080; font-weight: bold\">-3.1787e-01</span><span style=\"color: #000000; text-decoration-color: #000000\">,  </span><span style=\"color: #008080; text-decoration-color: #008080; font-weight: bold\">4.7751e-02</span><span style=\"color: #000000; text-decoration-color: #000000\">,  </span><span style=\"color: #008080; text-decoration-color: #008080; font-weight: bold\">3.1438e-01</span><span style=\"color: #000000; text-decoration-color: #000000\">,</span>\n",
       "<span style=\"color: #000000; text-decoration-color: #000000\">          </span><span style=\"color: #008080; text-decoration-color: #008080; font-weight: bold\">-2.9021e-01</span><span style=\"color: #000000; text-decoration-color: #000000\">,  </span><span style=\"color: #008080; text-decoration-color: #008080; font-weight: bold\">4.7344e-01</span><span style=\"color: #000000; text-decoration-color: #000000\">,  </span><span style=\"color: #008080; text-decoration-color: #008080; font-weight: bold\">1.0531e-01</span><span style=\"color: #000000; text-decoration-color: #000000\">, </span><span style=\"color: #008080; text-decoration-color: #008080; font-weight: bold\">-3.4209e-01</span><span style=\"color: #000000; text-decoration-color: #000000\">,  </span><span style=\"color: #008080; text-decoration-color: #008080; font-weight: bold\">3.1891e-01</span><span style=\"color: #000000; text-decoration-color: #000000\">,</span>\n",
       "<span style=\"color: #000000; text-decoration-color: #000000\">           </span><span style=\"color: #008080; text-decoration-color: #008080; font-weight: bold\">3.6563e-01</span><span style=\"color: #000000; text-decoration-color: #000000\">,  </span><span style=\"color: #008080; text-decoration-color: #008080; font-weight: bold\">7.2096e-01</span><span style=\"color: #000000; text-decoration-color: #000000\">, </span><span style=\"color: #008080; text-decoration-color: #008080; font-weight: bold\">-2.2795e-01</span><span style=\"color: #000000; text-decoration-color: #000000\">, </span><span style=\"color: #008080; text-decoration-color: #008080; font-weight: bold\">-2.5195e-01</span><span style=\"color: #000000; text-decoration-color: #000000\">, </span><span style=\"color: #008080; text-decoration-color: #008080; font-weight: bold\">-4.1829e-01</span><span style=\"color: #000000; text-decoration-color: #000000\">,</span>\n",
       "<span style=\"color: #000000; text-decoration-color: #000000\">          </span><span style=\"color: #008080; text-decoration-color: #008080; font-weight: bold\">-2.4506e-02</span><span style=\"color: #000000; text-decoration-color: #000000\">,  </span><span style=\"color: #008080; text-decoration-color: #008080; font-weight: bold\">4.3136e-01</span><span style=\"color: #000000; text-decoration-color: #000000\">, </span><span style=\"color: #008080; text-decoration-color: #008080; font-weight: bold\">-9.1793e-02</span><span style=\"color: #000000; text-decoration-color: #000000\">, </span><span style=\"color: #008080; text-decoration-color: #008080; font-weight: bold\">-1.0688e-01</span><span style=\"color: #000000; text-decoration-color: #000000\">, </span><span style=\"color: #008080; text-decoration-color: #008080; font-weight: bold\">-2.3169e-01</span><span style=\"color: #000000; text-decoration-color: #000000\">,</span>\n",
       "<span style=\"color: #000000; text-decoration-color: #000000\">           </span><span style=\"color: #008080; text-decoration-color: #008080; font-weight: bold\">5.8254e-01</span><span style=\"color: #000000; text-decoration-color: #000000\">, </span><span style=\"color: #008080; text-decoration-color: #008080; font-weight: bold\">-6.8289e-01</span><span style=\"color: #000000; text-decoration-color: #000000; font-weight: bold\">]</span><span style=\"color: #000000; text-decoration-color: #000000\">,</span>\n",
       "<span style=\"color: #000000; text-decoration-color: #000000\">         </span><span style=\"color: #000000; text-decoration-color: #000000; font-weight: bold\">[</span><span style=\"color: #008080; text-decoration-color: #008080; font-weight: bold\">-4.8502e-01</span><span style=\"color: #000000; text-decoration-color: #000000\">,  </span><span style=\"color: #008080; text-decoration-color: #008080; font-weight: bold\">1.4847e-01</span><span style=\"color: #000000; text-decoration-color: #000000\">,  </span><span style=\"color: #008080; text-decoration-color: #008080; font-weight: bold\">1.6915e-01</span><span style=\"color: #000000; text-decoration-color: #000000\">, </span><span style=\"color: #008080; text-decoration-color: #008080; font-weight: bold\">-1.5175e-01</span><span style=\"color: #000000; text-decoration-color: #000000\">, </span><span style=\"color: #008080; text-decoration-color: #008080; font-weight: bold\">-2.7789e-01</span><span style=\"color: #000000; text-decoration-color: #000000\">,</span>\n",
       "<span style=\"color: #000000; text-decoration-color: #000000\">          </span><span style=\"color: #008080; text-decoration-color: #008080; font-weight: bold\">-5.8387e-02</span><span style=\"color: #000000; text-decoration-color: #000000\">,  </span><span style=\"color: #008080; text-decoration-color: #008080; font-weight: bold\">2.4211e-01</span><span style=\"color: #000000; text-decoration-color: #000000\">, </span><span style=\"color: #008080; text-decoration-color: #008080; font-weight: bold\">-1.3421e-01</span><span style=\"color: #000000; text-decoration-color: #000000\">,  </span><span style=\"color: #008080; text-decoration-color: #008080; font-weight: bold\">1.5876e-01</span><span style=\"color: #000000; text-decoration-color: #000000\">,  </span><span style=\"color: #008080; text-decoration-color: #008080; font-weight: bold\">2.8836e-01</span><span style=\"color: #000000; text-decoration-color: #000000\">,</span>\n",
       "<span style=\"color: #000000; text-decoration-color: #000000\">           </span><span style=\"color: #008080; text-decoration-color: #008080; font-weight: bold\">1.0106e-01</span><span style=\"color: #000000; text-decoration-color: #000000\">,  </span><span style=\"color: #008080; text-decoration-color: #008080; font-weight: bold\">3.6732e-01</span><span style=\"color: #000000; text-decoration-color: #000000\">, </span><span style=\"color: #008080; text-decoration-color: #008080; font-weight: bold\">-1.0790e-01</span><span style=\"color: #000000; text-decoration-color: #000000\">,  </span><span style=\"color: #008080; text-decoration-color: #008080; font-weight: bold\">8.5951e-02</span><span style=\"color: #000000; text-decoration-color: #000000\">,  </span><span style=\"color: #008080; text-decoration-color: #008080; font-weight: bold\">3.1455e-01</span><span style=\"color: #000000; text-decoration-color: #000000\">,</span>\n",
       "<span style=\"color: #000000; text-decoration-color: #000000\">          </span><span style=\"color: #008080; text-decoration-color: #008080; font-weight: bold\">-1.5781e-01</span><span style=\"color: #000000; text-decoration-color: #000000\">,  </span><span style=\"color: #008080; text-decoration-color: #008080; font-weight: bold\">3.8194e-01</span><span style=\"color: #000000; text-decoration-color: #000000\">,  </span><span style=\"color: #008080; text-decoration-color: #008080; font-weight: bold\">9.7040e-02</span><span style=\"color: #000000; text-decoration-color: #000000\">, </span><span style=\"color: #008080; text-decoration-color: #008080; font-weight: bold\">-1.2447e-01</span><span style=\"color: #000000; text-decoration-color: #000000\">,  </span><span style=\"color: #008080; text-decoration-color: #008080; font-weight: bold\">3.2652e-01</span><span style=\"color: #000000; text-decoration-color: #000000\">,</span>\n",
       "<span style=\"color: #000000; text-decoration-color: #000000\">           </span><span style=\"color: #008080; text-decoration-color: #008080; font-weight: bold\">4.4369e-01</span><span style=\"color: #000000; text-decoration-color: #000000\">,  </span><span style=\"color: #008080; text-decoration-color: #008080; font-weight: bold\">5.1814e-01</span><span style=\"color: #000000; text-decoration-color: #000000\">, </span><span style=\"color: #008080; text-decoration-color: #008080; font-weight: bold\">-9.0140e-02</span><span style=\"color: #000000; text-decoration-color: #000000\">, </span><span style=\"color: #008080; text-decoration-color: #008080; font-weight: bold\">-1.2220e-01</span><span style=\"color: #000000; text-decoration-color: #000000\">, </span><span style=\"color: #008080; text-decoration-color: #008080; font-weight: bold\">-2.6053e-01</span><span style=\"color: #000000; text-decoration-color: #000000\">,</span>\n",
       "<span style=\"color: #000000; text-decoration-color: #000000\">           </span><span style=\"color: #008080; text-decoration-color: #008080; font-weight: bold\">9.4632e-02</span><span style=\"color: #000000; text-decoration-color: #000000\">,  </span><span style=\"color: #008080; text-decoration-color: #008080; font-weight: bold\">6.0583e-01</span><span style=\"color: #000000; text-decoration-color: #000000\">, </span><span style=\"color: #008080; text-decoration-color: #008080; font-weight: bold\">-1.7267e-01</span><span style=\"color: #000000; text-decoration-color: #000000\">, </span><span style=\"color: #008080; text-decoration-color: #008080; font-weight: bold\">-1.6555e-01</span><span style=\"color: #000000; text-decoration-color: #000000\">, </span><span style=\"color: #008080; text-decoration-color: #008080; font-weight: bold\">-2.2736e-01</span><span style=\"color: #000000; text-decoration-color: #000000\">,</span>\n",
       "<span style=\"color: #000000; text-decoration-color: #000000\">           </span><span style=\"color: #008080; text-decoration-color: #008080; font-weight: bold\">4.2038e-01</span><span style=\"color: #000000; text-decoration-color: #000000\">, </span><span style=\"color: #008080; text-decoration-color: #008080; font-weight: bold\">-8.0522e-01</span><span style=\"color: #000000; text-decoration-color: #000000; font-weight: bold\">]]]</span><span style=\"color: #000000; text-decoration-color: #000000\">, </span><span style=\"color: #808000; text-decoration-color: #808000\">grad_fn</span><span style=\"color: #000000; text-decoration-color: #000000\">=&lt;UnsafeViewBackward0</span><span style=\"font-weight: bold\">&gt;)</span>\n",
       "<span style=\"font-weight: bold\">}</span>\n",
       "</pre>\n"
      ],
      "text/plain": [
       "\u001b[1m{\u001b[0m\n",
       "    \u001b[32m'prompt'\u001b[0m: \u001b[1;35mtensor\u001b[0m\u001b[1m(\u001b[0m\u001b[1m[\u001b[0m\u001b[1m[\u001b[0m \u001b[1;36m7\u001b[0m, \u001b[1;36m17\u001b[0m,  \u001b[1;36m6\u001b[0m,  \u001b[1;36m1\u001b[0m, \u001b[1;36m11\u001b[0m, \u001b[1;36m28\u001b[0m\u001b[1m]\u001b[0m,\n",
       "        \u001b[1m[\u001b[0m\u001b[1;36m11\u001b[0m,  \u001b[1;36m5\u001b[0m, \u001b[1;36m30\u001b[0m, \u001b[1;36m22\u001b[0m, \u001b[1;36m18\u001b[0m,  \u001b[1;36m5\u001b[0m\u001b[1m]\u001b[0m\u001b[1m]\u001b[0m\u001b[1m)\u001b[0m,\n",
       "    \u001b[32m'sequence'\u001b[0m: \u001b[1;35mtensor\u001b[0m\u001b[1m(\u001b[0m\u001b[1m[\u001b[0m\u001b[1m[\u001b[0m \u001b[1;36m3\u001b[0m,  \u001b[1;36m2\u001b[0m, \u001b[1;36m21\u001b[0m, \u001b[1;36m16\u001b[0m, \u001b[1;36m31\u001b[0m, \u001b[1;36m21\u001b[0m, \u001b[1;36m18\u001b[0m, \u001b[1;36m27\u001b[0m,  \u001b[1;36m8\u001b[0m, \u001b[1;36m11\u001b[0m,  \u001b[1;36m4\u001b[0m\u001b[1m]\u001b[0m,\n",
       "        \u001b[1m[\u001b[0m \u001b[1;36m7\u001b[0m,  \u001b[1;36m3\u001b[0m, \u001b[1;36m11\u001b[0m, \u001b[1;36m27\u001b[0m, \u001b[1;36m13\u001b[0m,  \u001b[1;36m4\u001b[0m, \u001b[1;36m19\u001b[0m, \u001b[1;36m29\u001b[0m, \u001b[1;36m26\u001b[0m,  \u001b[1;36m3\u001b[0m, \u001b[1;36m23\u001b[0m\u001b[1m]\u001b[0m\u001b[1m]\u001b[0m\u001b[1m)\u001b[0m,\n",
       "    \u001b[32m'mask'\u001b[0m: \u001b[1;35mtensor\u001b[0m\u001b[1m(\u001b[0m\u001b[1m[\u001b[0m\u001b[1m[\u001b[0m\u001b[1;36m0\u001b[0m., \u001b[1;36m0\u001b[0m., \u001b[1;36m0\u001b[0m., \u001b[1;36m0\u001b[0m., \u001b[1;36m0\u001b[0m., \u001b[1;36m0\u001b[0m., \u001b[1;36m1\u001b[0m., \u001b[1;36m1\u001b[0m., \u001b[1;36m1\u001b[0m., \u001b[1;36m1\u001b[0m., \u001b[1;36m1\u001b[0m.\u001b[1m]\u001b[0m,\n",
       "        \u001b[1m[\u001b[0m\u001b[1;36m0\u001b[0m., \u001b[1;36m0\u001b[0m., \u001b[1;36m0\u001b[0m., \u001b[1;36m0\u001b[0m., \u001b[1;36m0\u001b[0m., \u001b[1;36m0\u001b[0m., \u001b[1;36m1\u001b[0m., \u001b[1;36m1\u001b[0m., \u001b[1;36m1\u001b[0m., \u001b[1;36m1\u001b[0m., \u001b[1;36m1\u001b[0m.\u001b[1m]\u001b[0m\u001b[1m]\u001b[0m\u001b[1m)\u001b[0m,\n",
       "    \u001b[32m'logprobs_ref'\u001b[0m: \u001b[1;35mtensor\u001b[0m\u001b[1m(\u001b[0m\u001b[1m[\u001b[0m\u001b[1m[\u001b[0m\u001b[1;36m-3.2797\u001b[0m, \u001b[1;36m-3.9794\u001b[0m, \u001b[1;36m-3.3771\u001b[0m, \u001b[1;36m-3.5436\u001b[0m, \u001b[1;36m-3.6296\u001b[0m, \u001b[1;36m-3.3818\u001b[0m, \u001b[1;36m-3.8935\u001b[0m, \u001b[1;36m-3.7257\u001b[0m,\n",
       "         \u001b[1;36m-3.7764\u001b[0m, \u001b[1;36m-3.2362\u001b[0m, \u001b[1;36m-3.6417\u001b[0m\u001b[1m]\u001b[0m,\n",
       "        \u001b[1m[\u001b[0m\u001b[1;36m-2.9919\u001b[0m, \u001b[1;36m-3.1163\u001b[0m, \u001b[1;36m-3.1112\u001b[0m, \u001b[1;36m-3.7207\u001b[0m, \u001b[1;36m-3.5101\u001b[0m, \u001b[1;36m-3.5335\u001b[0m, \u001b[1;36m-3.5303\u001b[0m, \u001b[1;36m-3.1816\u001b[0m,\n",
       "         \u001b[1;36m-3.3280\u001b[0m, \u001b[1;36m-3.0611\u001b[0m, \u001b[1;36m-3.6552\u001b[0m\u001b[1m]\u001b[0m\u001b[1m]\u001b[0m\u001b[1m)\u001b[0m,\n",
       "    \u001b[32m'logprobs_old'\u001b[0m: \u001b[1;35mtensor\u001b[0m\u001b[1m(\u001b[0m\u001b[1m[\u001b[0m\u001b[1m[\u001b[0m\u001b[1;36m-3.1704\u001b[0m, \u001b[1;36m-3.8914\u001b[0m, \u001b[1;36m-3.7032\u001b[0m, \u001b[1;36m-3.4227\u001b[0m, \u001b[1;36m-3.6914\u001b[0m, \u001b[1;36m-3.6695\u001b[0m, \u001b[1;36m-4.0191\u001b[0m, \u001b[1;36m-2.9413\u001b[0m,\n",
       "         \u001b[1;36m-3.6589\u001b[0m, \u001b[1;36m-2.7084\u001b[0m, \u001b[1;36m-3.4496\u001b[0m\u001b[1m]\u001b[0m,\n",
       "        \u001b[1m[\u001b[0m\u001b[1;36m-3.3709\u001b[0m, \u001b[1;36m-3.6106\u001b[0m, \u001b[1;36m-2.8478\u001b[0m, \u001b[1;36m-3.5536\u001b[0m, \u001b[1;36m-3.2888\u001b[0m, \u001b[1;36m-3.6936\u001b[0m, \u001b[1;36m-3.2728\u001b[0m, \u001b[1;36m-3.4517\u001b[0m,\n",
       "         \u001b[1;36m-3.1879\u001b[0m, \u001b[1;36m-3.5649\u001b[0m, \u001b[1;36m-3.6766\u001b[0m\u001b[1m]\u001b[0m\u001b[1m]\u001b[0m, \u001b[33mgrad_fn\u001b[0m=\u001b[1m<\u001b[0m\u001b[1;95mSqueezeBackward1\u001b[0m\u001b[39m>\u001b[0m\u001b[1;39m)\u001b[0m\u001b[39m,\u001b[0m\n",
       "\u001b[39m    \u001b[0m\u001b[32m'logprobs'\u001b[0m\u001b[39m: \u001b[0m\u001b[1;35mtensor\u001b[0m\u001b[1;39m(\u001b[0m\u001b[1;39m[\u001b[0m\u001b[1;39m[\u001b[0m\u001b[1;36m-3.1704\u001b[0m\u001b[39m, \u001b[0m\u001b[1;36m-3.8914\u001b[0m\u001b[39m, \u001b[0m\u001b[1;36m-3.7032\u001b[0m\u001b[39m, \u001b[0m\u001b[1;36m-3.4227\u001b[0m\u001b[39m, \u001b[0m\u001b[1;36m-3.6914\u001b[0m\u001b[39m, \u001b[0m\u001b[1;36m-3.6695\u001b[0m\u001b[39m, \u001b[0m\u001b[1;36m-4.0191\u001b[0m\u001b[39m, \u001b[0m\u001b[1;36m-2.9413\u001b[0m\u001b[39m,\u001b[0m\n",
       "\u001b[39m         \u001b[0m\u001b[1;36m-3.6589\u001b[0m\u001b[39m, \u001b[0m\u001b[1;36m-2.7084\u001b[0m\u001b[39m, \u001b[0m\u001b[1;36m-3.4496\u001b[0m\u001b[1;39m]\u001b[0m\u001b[39m,\u001b[0m\n",
       "\u001b[39m        \u001b[0m\u001b[1;39m[\u001b[0m\u001b[1;36m-3.3709\u001b[0m\u001b[39m, \u001b[0m\u001b[1;36m-3.6106\u001b[0m\u001b[39m, \u001b[0m\u001b[1;36m-2.8478\u001b[0m\u001b[39m, \u001b[0m\u001b[1;36m-3.5536\u001b[0m\u001b[39m, \u001b[0m\u001b[1;36m-3.2888\u001b[0m\u001b[39m, \u001b[0m\u001b[1;36m-3.6936\u001b[0m\u001b[39m, \u001b[0m\u001b[1;36m-3.2728\u001b[0m\u001b[39m, \u001b[0m\u001b[1;36m-3.4517\u001b[0m\u001b[39m,\u001b[0m\n",
       "\u001b[39m         \u001b[0m\u001b[1;36m-3.1879\u001b[0m\u001b[39m, \u001b[0m\u001b[1;36m-3.5649\u001b[0m\u001b[39m, \u001b[0m\u001b[1;36m-3.6766\u001b[0m\u001b[1;39m]\u001b[0m\u001b[1;39m]\u001b[0m\u001b[39m, \u001b[0m\u001b[33mgrad_fn\u001b[0m\u001b[39m=<SqueezeBackward1>\u001b[0m\u001b[1;39m)\u001b[0m\u001b[39m,\u001b[0m\n",
       "\u001b[39m    \u001b[0m\u001b[32m'values_old'\u001b[0m\u001b[39m: \u001b[0m\u001b[1;35mtensor\u001b[0m\u001b[1;39m(\u001b[0m\u001b[1;39m[\u001b[0m\u001b[1;39m[\u001b[0m\u001b[39m \u001b[0m\u001b[1;36m0.4037\u001b[0m\u001b[39m,  \u001b[0m\u001b[1;36m0.5650\u001b[0m\u001b[39m,  \u001b[0m\u001b[1;36m1.1206\u001b[0m\u001b[39m,  \u001b[0m\u001b[1;36m1.3727\u001b[0m\u001b[39m,  \u001b[0m\u001b[1;36m1.5973\u001b[0m\u001b[39m,  \u001b[0m\u001b[1;36m1.4748\u001b[0m\u001b[39m,  \u001b[0m\u001b[1;36m1.5315\u001b[0m\u001b[39m,  \u001b[0m\u001b[1;36m1.2411\u001b[0m\u001b[39m,\u001b[0m\n",
       "\u001b[39m          \u001b[0m\u001b[1;36m1.4551\u001b[0m\u001b[39m,  \u001b[0m\u001b[1;36m1.3217\u001b[0m\u001b[39m,  \u001b[0m\u001b[1;36m1.1747\u001b[0m\u001b[1;39m]\u001b[0m\u001b[39m,\u001b[0m\n",
       "\u001b[39m        \u001b[0m\u001b[1;39m[\u001b[0m\u001b[1;36m-0.5438\u001b[0m\u001b[39m, \u001b[0m\u001b[1;36m-0.1715\u001b[0m\u001b[39m,  \u001b[0m\u001b[1;36m0.0838\u001b[0m\u001b[39m, \u001b[0m\u001b[1;36m-0.4835\u001b[0m\u001b[39m,  \u001b[0m\u001b[1;36m0.3192\u001b[0m\u001b[39m,  \u001b[0m\u001b[1;36m0.2480\u001b[0m\u001b[39m, \u001b[0m\u001b[1;36m-0.1122\u001b[0m\u001b[39m,  \u001b[0m\u001b[1;36m0.0394\u001b[0m\u001b[39m,\u001b[0m\n",
       "\u001b[39m         \u001b[0m\u001b[1;36m-0.4591\u001b[0m\u001b[39m,  \u001b[0m\u001b[1;36m0.0104\u001b[0m\u001b[39m,  \u001b[0m\u001b[1;36m0.0802\u001b[0m\u001b[1;39m]\u001b[0m\u001b[1;39m]\u001b[0m\u001b[39m, \u001b[0m\u001b[33mgrad_fn\u001b[0m\u001b[39m=<SelectBackward0>\u001b[0m\u001b[1;39m)\u001b[0m\u001b[39m,\u001b[0m\n",
       "\u001b[39m    \u001b[0m\u001b[32m'values'\u001b[0m\u001b[39m: \u001b[0m\u001b[1;35mtensor\u001b[0m\u001b[1;39m(\u001b[0m\u001b[1;39m[\u001b[0m\u001b[1;39m[\u001b[0m\u001b[39m \u001b[0m\u001b[1;36m0.5405\u001b[0m\u001b[39m,  \u001b[0m\u001b[1;36m0.8507\u001b[0m\u001b[39m,  \u001b[0m\u001b[1;36m1.3907\u001b[0m\u001b[39m,  \u001b[0m\u001b[1;36m1.0501\u001b[0m\u001b[39m,  \u001b[0m\u001b[1;36m1.4372\u001b[0m\u001b[39m,  \u001b[0m\u001b[1;36m1.6204\u001b[0m\u001b[39m,  \u001b[0m\u001b[1;36m1.7181\u001b[0m\u001b[39m,  \u001b[0m\u001b[1;36m1.1506\u001b[0m\u001b[39m,\u001b[0m\n",
       "\u001b[39m          \u001b[0m\u001b[1;36m1.5603\u001b[0m\u001b[39m,  \u001b[0m\u001b[1;36m1.2491\u001b[0m\u001b[39m,  \u001b[0m\u001b[1;36m1.0641\u001b[0m\u001b[1;39m]\u001b[0m\u001b[39m,\u001b[0m\n",
       "\u001b[39m        \u001b[0m\u001b[1;39m[\u001b[0m\u001b[1;36m-0.5455\u001b[0m\u001b[39m, \u001b[0m\u001b[1;36m-0.1241\u001b[0m\u001b[39m, \u001b[0m\u001b[1;36m-0.0128\u001b[0m\u001b[39m, \u001b[0m\u001b[1;36m-0.2249\u001b[0m\u001b[39m, \u001b[0m\u001b[1;36m-0.0358\u001b[0m\u001b[39m, \u001b[0m\u001b[1;36m-0.0632\u001b[0m\u001b[39m, \u001b[0m\u001b[1;36m-0.1209\u001b[0m\u001b[39m,  \u001b[0m\u001b[1;36m0.0357\u001b[0m\u001b[39m,\u001b[0m\n",
       "\u001b[39m         \u001b[0m\u001b[1;36m-0.2630\u001b[0m\u001b[39m,  \u001b[0m\u001b[1;36m0.2597\u001b[0m\u001b[39m,  \u001b[0m\u001b[1;36m0.2625\u001b[0m\u001b[1;39m]\u001b[0m\u001b[1;39m]\u001b[0m\u001b[39m, \u001b[0m\u001b[33mgrad_fn\u001b[0m\u001b[39m=<SelectBackward0>\u001b[0m\u001b[1;39m)\u001b[0m\u001b[39m,\u001b[0m\n",
       "\u001b[39m    \u001b[0m\u001b[32m'rewards'\u001b[0m\u001b[39m: \u001b[0m\u001b[1;35mtensor\u001b[0m\u001b[1;39m(\u001b[0m\u001b[1;39m[\u001b[0m\u001b[1;39m[\u001b[0m\u001b[1;36m-0.4233\u001b[0m\u001b[1;39m]\u001b[0m\u001b[39m,\u001b[0m\n",
       "\u001b[39m        \u001b[0m\u001b[1;39m[\u001b[0m\u001b[1;36m-0.3428\u001b[0m\u001b[1;39m]\u001b[0m\u001b[1;39m]\u001b[0m\u001b[1;39m)\u001b[0m\u001b[39m,\u001b[0m\n",
       "\u001b[39m    \u001b[0m\u001b[32m'rewards_kl'\u001b[0m\u001b[39m: \u001b[0m\u001b[1;35mtensor\u001b[0m\u001b[1;39m(\u001b[0m\u001b[1;39m[\u001b[0m\u001b[1;39m[\u001b[0m\u001b[1;36m-0.0011\u001b[0m\u001b[39m, \u001b[0m\u001b[1;36m-0.0009\u001b[0m\u001b[39m,  \u001b[0m\u001b[1;36m0.0033\u001b[0m\u001b[39m, \u001b[0m\u001b[1;36m-0.0012\u001b[0m\u001b[39m,  \u001b[0m\u001b[1;36m0.0006\u001b[0m\u001b[39m,  \u001b[0m\u001b[1;36m0.0029\u001b[0m\u001b[39m,  \u001b[0m\u001b[1;36m0.0013\u001b[0m\u001b[39m, \u001b[0m\u001b[1;36m-0.0078\u001b[0m\u001b[39m,\u001b[0m\n",
       "\u001b[39m         \u001b[0m\u001b[1;36m-0.0012\u001b[0m\u001b[39m, \u001b[0m\u001b[1;36m-0.0053\u001b[0m\u001b[39m, \u001b[0m\u001b[1;36m-0.0030\u001b[0m\u001b[1;39m]\u001b[0m\u001b[39m,\u001b[0m\n",
       "\u001b[39m        \u001b[0m\u001b[1;39m[\u001b[0m\u001b[39m \u001b[0m\u001b[1;36m0.0038\u001b[0m\u001b[39m,  \u001b[0m\u001b[1;36m0.0049\u001b[0m\u001b[39m, \u001b[0m\u001b[1;36m-0.0026\u001b[0m\u001b[39m, \u001b[0m\u001b[1;36m-0.0017\u001b[0m\u001b[39m, \u001b[0m\u001b[1;36m-0.0022\u001b[0m\u001b[39m,  \u001b[0m\u001b[1;36m0.0016\u001b[0m\u001b[39m, \u001b[0m\u001b[1;36m-0.0026\u001b[0m\u001b[39m,  \u001b[0m\u001b[1;36m0.0027\u001b[0m\u001b[39m,\u001b[0m\n",
       "\u001b[39m         \u001b[0m\u001b[1;36m-0.0014\u001b[0m\u001b[39m,  \u001b[0m\u001b[1;36m0.0050\u001b[0m\u001b[39m,  \u001b[0m\u001b[1;36m0.0040\u001b[0m\u001b[1;39m]\u001b[0m\u001b[1;39m]\u001b[0m\u001b[39m, \u001b[0m\u001b[33mgrad_fn\u001b[0m\u001b[39m=<CopySlices>\u001b[0m\u001b[1;39m)\u001b[0m\u001b[39m,\u001b[0m\n",
       "\u001b[39m    \u001b[0m\u001b[32m'loss'\u001b[0m\u001b[39m: \u001b[0m\u001b[3;35mNone\u001b[0m\u001b[39m,\u001b[0m\n",
       "\u001b[39m    \u001b[0m\u001b[32m'logits'\u001b[0m\u001b[39m: \u001b[0m\u001b[1;35mtensor\u001b[0m\u001b[1;39m(\u001b[0m\u001b[1;39m[\u001b[0m\u001b[1;39m[\u001b[0m\u001b[1;39m[\u001b[0m\u001b[1;36m-2.9141e-01\u001b[0m\u001b[39m, \u001b[0m\u001b[1;36m-2.3078e-01\u001b[0m\u001b[39m, \u001b[0m\u001b[1;36m-4.4092e-01\u001b[0m\u001b[39m,  \u001b[0m\u001b[1;36m3.1467e-01\u001b[0m\u001b[39m,  \u001b[0m\u001b[1;36m7.3815e-02\u001b[0m\u001b[39m,\u001b[0m\n",
       "\u001b[39m           \u001b[0m\u001b[1;36m2.3336e-01\u001b[0m\u001b[39m, \u001b[0m\u001b[1;36m-1.0261e-01\u001b[0m\u001b[39m, \u001b[0m\u001b[1;36m-5.1662e-01\u001b[0m\u001b[39m,  \u001b[0m\u001b[1;36m1.0788e-01\u001b[0m\u001b[39m, \u001b[0m\u001b[1;36m-5.3807e-02\u001b[0m\u001b[39m,\u001b[0m\n",
       "\u001b[39m           \u001b[0m\u001b[1;36m6.6215e-02\u001b[0m\u001b[39m,  \u001b[0m\u001b[1;36m1.9772e-01\u001b[0m\u001b[39m, \u001b[0m\u001b[1;36m-1.1797e-01\u001b[0m\u001b[39m, \u001b[0m\u001b[1;36m-6.8881e-02\u001b[0m\u001b[39m,  \u001b[0m\u001b[1;36m3.0796e-02\u001b[0m\u001b[39m,\u001b[0m\n",
       "\u001b[39m           \u001b[0m\u001b[1;36m1.5639e-01\u001b[0m\u001b[39m,  \u001b[0m\u001b[1;36m1.4710e-01\u001b[0m\u001b[39m, \u001b[0m\u001b[1;36m-6.5384e-02\u001b[0m\u001b[39m, \u001b[0m\u001b[1;36m-3.0084e-01\u001b[0m\u001b[39m,  \u001b[0m\u001b[1;36m4.0951e-01\u001b[0m\u001b[39m,\u001b[0m\n",
       "\u001b[39m           \u001b[0m\u001b[1;36m6.0962e-01\u001b[0m\u001b[39m,  \u001b[0m\u001b[1;36m2.0662e-01\u001b[0m\u001b[39m, \u001b[0m\u001b[1;36m-3.6570e-01\u001b[0m\u001b[39m,  \u001b[0m\u001b[1;36m2.2405e-02\u001b[0m\u001b[39m, \u001b[0m\u001b[1;36m-4.3202e-02\u001b[0m\u001b[39m,\u001b[0m\n",
       "\u001b[39m          \u001b[0m\u001b[1;36m-3.0117e-01\u001b[0m\u001b[39m,  \u001b[0m\u001b[1;36m2.6883e-02\u001b[0m\u001b[39m,  \u001b[0m\u001b[1;36m1.5225e-01\u001b[0m\u001b[39m, \u001b[0m\u001b[1;36m-4.2351e-01\u001b[0m\u001b[39m,  \u001b[0m\u001b[1;36m1.1622e-01\u001b[0m\u001b[39m,\u001b[0m\n",
       "\u001b[39m           \u001b[0m\u001b[1;36m2.0323e-01\u001b[0m\u001b[39m, \u001b[0m\u001b[1;36m-1.7224e-01\u001b[0m\u001b[1;39m]\u001b[0m\u001b[39m,\u001b[0m\n",
       "\u001b[39m         \u001b[0m\u001b[1;39m[\u001b[0m\u001b[39m \u001b[0m\u001b[1;36m1.7116e-01\u001b[0m\u001b[39m, \u001b[0m\u001b[1;36m-1.3915e-01\u001b[0m\u001b[39m, \u001b[0m\u001b[1;36m-3.7983e-01\u001b[0m\u001b[39m,  \u001b[0m\u001b[1;36m2.3101e-01\u001b[0m\u001b[39m, \u001b[0m\u001b[1;36m-2.0881e-01\u001b[0m\u001b[39m,\u001b[0m\n",
       "\u001b[39m           \u001b[0m\u001b[1;36m1.6951e-01\u001b[0m\u001b[39m,  \u001b[0m\u001b[1;36m1.7153e-01\u001b[0m\u001b[39m, \u001b[0m\u001b[1;36m-8.2568e-01\u001b[0m\u001b[39m,  \u001b[0m\u001b[1;36m1.2967e-01\u001b[0m\u001b[39m, \u001b[0m\u001b[1;36m-2.8406e-01\u001b[0m\u001b[39m,\u001b[0m\n",
       "\u001b[39m          \u001b[0m\u001b[1;36m-2.7890e-02\u001b[0m\u001b[39m,  \u001b[0m\u001b[1;36m6.8381e-01\u001b[0m\u001b[39m,  \u001b[0m\u001b[1;36m1.9228e-01\u001b[0m\u001b[39m, \u001b[0m\u001b[1;36m-3.4845e-02\u001b[0m\u001b[39m, \u001b[0m\u001b[1;36m-2.2157e-01\u001b[0m\u001b[39m,\u001b[0m\n",
       "\u001b[39m           \u001b[0m\u001b[1;36m2.4607e-01\u001b[0m\u001b[39m,  \u001b[0m\u001b[1;36m4.0112e-02\u001b[0m\u001b[39m,  \u001b[0m\u001b[1;36m3.2355e-01\u001b[0m\u001b[39m, \u001b[0m\u001b[1;36m-4.3763e-01\u001b[0m\u001b[39m, \u001b[0m\u001b[1;36m-2.5645e-02\u001b[0m\u001b[39m,\u001b[0m\n",
       "\u001b[39m           \u001b[0m\u001b[1;36m3.9134e-01\u001b[0m\u001b[39m, \u001b[0m\u001b[1;36m-2.4255e-01\u001b[0m\u001b[39m,  \u001b[0m\u001b[1;36m1.4322e-01\u001b[0m\u001b[39m,  \u001b[0m\u001b[1;36m7.6041e-04\u001b[0m\u001b[39m,  \u001b[0m\u001b[1;36m2.2418e-01\u001b[0m\u001b[39m,\u001b[0m\n",
       "\u001b[39m          \u001b[0m\u001b[1;36m-3.2726e-01\u001b[0m\u001b[39m,  \u001b[0m\u001b[1;36m2.1264e-01\u001b[0m\u001b[39m,  \u001b[0m\u001b[1;36m3.6522e-01\u001b[0m\u001b[39m, \u001b[0m\u001b[1;36m-3.8521e-01\u001b[0m\u001b[39m,  \u001b[0m\u001b[1;36m1.3221e-01\u001b[0m\u001b[39m,\u001b[0m\n",
       "\u001b[39m           \u001b[0m\u001b[1;36m3.7866e-03\u001b[0m\u001b[39m, \u001b[0m\u001b[1;36m-1.7415e-01\u001b[0m\u001b[1;39m]\u001b[0m\u001b[39m,\u001b[0m\n",
       "\u001b[39m         \u001b[0m\u001b[1;39m[\u001b[0m\u001b[39m \u001b[0m\u001b[1;36m2.2526e-01\u001b[0m\u001b[39m, \u001b[0m\u001b[1;36m-2.0581e-01\u001b[0m\u001b[39m, \u001b[0m\u001b[1;36m-3.5515e-01\u001b[0m\u001b[39m,  \u001b[0m\u001b[1;36m4.1750e-02\u001b[0m\u001b[39m,  \u001b[0m\u001b[1;36m2.0791e-02\u001b[0m\u001b[39m,\u001b[0m\n",
       "\u001b[39m           \u001b[0m\u001b[1;36m2.6506e-01\u001b[0m\u001b[39m,  \u001b[0m\u001b[1;36m3.1328e-01\u001b[0m\u001b[39m, \u001b[0m\u001b[1;36m-4.9314e-01\u001b[0m\u001b[39m,  \u001b[0m\u001b[1;36m2.3665e-01\u001b[0m\u001b[39m,  \u001b[0m\u001b[1;36m6.5306e-02\u001b[0m\u001b[39m,\u001b[0m\n",
       "\u001b[39m          \u001b[0m\u001b[1;36m-4.4244e-01\u001b[0m\u001b[39m,  \u001b[0m\u001b[1;36m7.2106e-01\u001b[0m\u001b[39m,  \u001b[0m\u001b[1;36m2.3617e-01\u001b[0m\u001b[39m, \u001b[0m\u001b[1;36m-1.8132e-01\u001b[0m\u001b[39m, \u001b[0m\u001b[1;36m-1.9663e-01\u001b[0m\u001b[39m,\u001b[0m\n",
       "\u001b[39m           \u001b[0m\u001b[1;36m2.3336e-01\u001b[0m\u001b[39m,  \u001b[0m\u001b[1;36m2.6515e-02\u001b[0m\u001b[39m,  \u001b[0m\u001b[1;36m3.3128e-01\u001b[0m\u001b[39m, \u001b[0m\u001b[1;36m-6.1750e-01\u001b[0m\u001b[39m, \u001b[0m\u001b[1;36m-1.3576e-01\u001b[0m\u001b[39m,\u001b[0m\n",
       "\u001b[39m           \u001b[0m\u001b[1;36m3.9121e-01\u001b[0m\u001b[39m, \u001b[0m\u001b[1;36m-1.7041e-01\u001b[0m\u001b[39m,  \u001b[0m\u001b[1;36m1.3463e-01\u001b[0m\u001b[39m, \u001b[0m\u001b[1;36m-2.7857e-01\u001b[0m\u001b[39m,  \u001b[0m\u001b[1;36m3.6622e-01\u001b[0m\u001b[39m,\u001b[0m\n",
       "\u001b[39m          \u001b[0m\u001b[1;36m-1.9625e-01\u001b[0m\u001b[39m,  \u001b[0m\u001b[1;36m6.8053e-02\u001b[0m\u001b[39m,  \u001b[0m\u001b[1;36m7.2521e-01\u001b[0m\u001b[39m, \u001b[0m\u001b[1;36m-7.3560e-01\u001b[0m\u001b[39m,  \u001b[0m\u001b[1;36m2.8994e-01\u001b[0m\u001b[39m,\u001b[0m\n",
       "\u001b[39m          \u001b[0m\u001b[1;36m-1.0810e-01\u001b[0m\u001b[39m, \u001b[0m\u001b[1;36m-3.2995e-01\u001b[0m\u001b[1;39m]\u001b[0m\u001b[39m,\u001b[0m\n",
       "\u001b[39m         \u001b[0m\u001b[1;39m[\u001b[0m\u001b[39m \u001b[0m\u001b[1;36m2.5728e-01\u001b[0m\u001b[39m, \u001b[0m\u001b[1;36m-2.3800e-01\u001b[0m\u001b[39m, \u001b[0m\u001b[1;36m-3.6303e-01\u001b[0m\u001b[39m, \u001b[0m\u001b[1;36m-7.6463e-02\u001b[0m\u001b[39m,  \u001b[0m\u001b[1;36m6.4079e-03\u001b[0m\u001b[39m,\u001b[0m\n",
       "\u001b[39m           \u001b[0m\u001b[1;36m9.7700e-02\u001b[0m\u001b[39m, \u001b[0m\u001b[1;36m-8.2348e-02\u001b[0m\u001b[39m, \u001b[0m\u001b[1;36m-5.9503e-01\u001b[0m\u001b[39m,  \u001b[0m\u001b[1;36m3.5240e-02\u001b[0m\u001b[39m,  \u001b[0m\u001b[1;36m2.4716e-02\u001b[0m\u001b[39m,\u001b[0m\n",
       "\u001b[39m          \u001b[0m\u001b[1;36m-2.6025e-01\u001b[0m\u001b[39m,  \u001b[0m\u001b[1;36m7.7423e-01\u001b[0m\u001b[39m,  \u001b[0m\u001b[1;36m2.9201e-01\u001b[0m\u001b[39m, \u001b[0m\u001b[1;36m-1.3588e-01\u001b[0m\u001b[39m, \u001b[0m\u001b[1;36m-3.4053e-02\u001b[0m\u001b[39m,\u001b[0m\n",
       "\u001b[39m           \u001b[0m\u001b[1;36m3.8255e-01\u001b[0m\u001b[39m,  \u001b[0m\u001b[1;36m7.2180e-02\u001b[0m\u001b[39m,  \u001b[0m\u001b[1;36m2.8551e-01\u001b[0m\u001b[39m, \u001b[0m\u001b[1;36m-8.3311e-01\u001b[0m\u001b[39m, \u001b[0m\u001b[1;36m-1.6609e-01\u001b[0m\u001b[39m,\u001b[0m\n",
       "\u001b[39m           \u001b[0m\u001b[1;36m1.6344e-01\u001b[0m\u001b[39m, \u001b[0m\u001b[1;36m-1.6694e-01\u001b[0m\u001b[39m,  \u001b[0m\u001b[1;36m8.9974e-02\u001b[0m\u001b[39m, \u001b[0m\u001b[1;36m-5.5195e-01\u001b[0m\u001b[39m,  \u001b[0m\u001b[1;36m1.5331e-01\u001b[0m\u001b[39m,\u001b[0m\n",
       "\u001b[39m          \u001b[0m\u001b[1;36m-1.6975e-01\u001b[0m\u001b[39m,  \u001b[0m\u001b[1;36m3.3836e-01\u001b[0m\u001b[39m,  \u001b[0m\u001b[1;36m7.3927e-01\u001b[0m\u001b[39m, \u001b[0m\u001b[1;36m-6.7911e-01\u001b[0m\u001b[39m, \u001b[0m\u001b[1;36m-2.2448e-02\u001b[0m\u001b[39m,\u001b[0m\n",
       "\u001b[39m          \u001b[0m\u001b[1;36m-2.1397e-01\u001b[0m\u001b[39m, \u001b[0m\u001b[1;36m-1.7959e-01\u001b[0m\u001b[1;39m]\u001b[0m\u001b[39m,\u001b[0m\n",
       "\u001b[39m         \u001b[0m\u001b[1;39m[\u001b[0m\u001b[39m \u001b[0m\u001b[1;36m2.0541e-01\u001b[0m\u001b[39m,  \u001b[0m\u001b[1;36m2.2370e-02\u001b[0m\u001b[39m, \u001b[0m\u001b[1;36m-4.4313e-01\u001b[0m\u001b[39m, \u001b[0m\u001b[1;36m-1.8442e-01\u001b[0m\u001b[39m, \u001b[0m\u001b[1;36m-5.0390e-02\u001b[0m\u001b[39m,\u001b[0m\n",
       "\u001b[39m           \u001b[0m\u001b[1;36m1.0596e-02\u001b[0m\u001b[39m, \u001b[0m\u001b[1;36m-9.5072e-02\u001b[0m\u001b[39m, \u001b[0m\u001b[1;36m-7.4384e-01\u001b[0m\u001b[39m, \u001b[0m\u001b[1;36m-4.5014e-02\u001b[0m\u001b[39m,  \u001b[0m\u001b[1;36m1.5089e-01\u001b[0m\u001b[39m,\u001b[0m\n",
       "\u001b[39m          \u001b[0m\u001b[1;36m-1.9259e-01\u001b[0m\u001b[39m,  \u001b[0m\u001b[1;36m5.7809e-01\u001b[0m\u001b[39m,  \u001b[0m\u001b[1;36m3.0243e-02\u001b[0m\u001b[39m, \u001b[0m\u001b[1;36m-9.6543e-02\u001b[0m\u001b[39m, \u001b[0m\u001b[1;36m-1.7711e-01\u001b[0m\u001b[39m,\u001b[0m\n",
       "\u001b[39m           \u001b[0m\u001b[1;36m4.2731e-01\u001b[0m\u001b[39m, \u001b[0m\u001b[1;36m-1.7386e-01\u001b[0m\u001b[39m,  \u001b[0m\u001b[1;36m1.8470e-01\u001b[0m\u001b[39m, \u001b[0m\u001b[1;36m-5.5789e-01\u001b[0m\u001b[39m, \u001b[0m\u001b[1;36m-4.0884e-01\u001b[0m\u001b[39m,\u001b[0m\n",
       "\u001b[39m           \u001b[0m\u001b[1;36m8.5359e-02\u001b[0m\u001b[39m,  \u001b[0m\u001b[1;36m2.2059e-02\u001b[0m\u001b[39m, \u001b[0m\u001b[1;36m-7.6904e-02\u001b[0m\u001b[39m, \u001b[0m\u001b[1;36m-5.5548e-01\u001b[0m\u001b[39m,  \u001b[0m\u001b[1;36m8.9501e-02\u001b[0m\u001b[39m,\u001b[0m\n",
       "\u001b[39m          \u001b[0m\u001b[1;36m-2.6162e-01\u001b[0m\u001b[39m,  \u001b[0m\u001b[1;36m6.6122e-01\u001b[0m\u001b[39m,  \u001b[0m\u001b[1;36m6.1417e-01\u001b[0m\u001b[39m, \u001b[0m\u001b[1;36m-5.6409e-01\u001b[0m\u001b[39m, \u001b[0m\u001b[1;36m-1.9958e-01\u001b[0m\u001b[39m,\u001b[0m\n",
       "\u001b[39m          \u001b[0m\u001b[1;36m-2.6276e-01\u001b[0m\u001b[39m, \u001b[0m\u001b[1;36m-2.3850e-01\u001b[0m\u001b[1;39m]\u001b[0m\u001b[39m,\u001b[0m\n",
       "\u001b[39m         \u001b[0m\u001b[1;39m[\u001b[0m\u001b[39m \u001b[0m\u001b[1;36m1.6354e-01\u001b[0m\u001b[39m, \u001b[0m\u001b[1;36m-1.2169e-01\u001b[0m\u001b[39m, \u001b[0m\u001b[1;36m-4.2067e-01\u001b[0m\u001b[39m, \u001b[0m\u001b[1;36m-3.5327e-01\u001b[0m\u001b[39m,  \u001b[0m\u001b[1;36m2.2779e-02\u001b[0m\u001b[39m,\u001b[0m\n",
       "\u001b[39m           \u001b[0m\u001b[1;36m1.2695e-01\u001b[0m\u001b[39m, \u001b[0m\u001b[1;36m-6.6251e-03\u001b[0m\u001b[39m, \u001b[0m\u001b[1;36m-4.7782e-01\u001b[0m\u001b[39m,  \u001b[0m\u001b[1;36m7.5369e-02\u001b[0m\u001b[39m,  \u001b[0m\u001b[1;36m2.9437e-01\u001b[0m\u001b[39m,\u001b[0m\n",
       "\u001b[39m          \u001b[0m\u001b[1;36m-5.8642e-01\u001b[0m\u001b[39m,  \u001b[0m\u001b[1;36m7.0546e-01\u001b[0m\u001b[39m,  \u001b[0m\u001b[1;36m7.1659e-02\u001b[0m\u001b[39m, \u001b[0m\u001b[1;36m-1.3733e-01\u001b[0m\u001b[39m, \u001b[0m\u001b[1;36m-8.0484e-02\u001b[0m\u001b[39m,\u001b[0m\n",
       "\u001b[39m           \u001b[0m\u001b[1;36m4.8058e-01\u001b[0m\u001b[39m, \u001b[0m\u001b[1;36m-2.3041e-02\u001b[0m\u001b[39m,  \u001b[0m\u001b[1;36m3.2556e-01\u001b[0m\u001b[39m, \u001b[0m\u001b[1;36m-6.3804e-01\u001b[0m\u001b[39m, \u001b[0m\u001b[1;36m-3.0510e-01\u001b[0m\u001b[39m,\u001b[0m\n",
       "\u001b[39m           \u001b[0m\u001b[1;36m1.7076e-01\u001b[0m\u001b[39m, \u001b[0m\u001b[1;36m-1.7831e-01\u001b[0m\u001b[39m,  \u001b[0m\u001b[1;36m1.4362e-01\u001b[0m\u001b[39m, \u001b[0m\u001b[1;36m-5.2993e-01\u001b[0m\u001b[39m,  \u001b[0m\u001b[1;36m4.1406e-01\u001b[0m\u001b[39m,\u001b[0m\n",
       "\u001b[39m          \u001b[0m\u001b[1;36m-1.8665e-01\u001b[0m\u001b[39m,  \u001b[0m\u001b[1;36m4.2765e-01\u001b[0m\u001b[39m,  \u001b[0m\u001b[1;36m6.6789e-01\u001b[0m\u001b[39m, \u001b[0m\u001b[1;36m-7.3054e-01\u001b[0m\u001b[39m,  \u001b[0m\u001b[1;36m4.4867e-02\u001b[0m\u001b[39m,\u001b[0m\n",
       "\u001b[39m          \u001b[0m\u001b[1;36m-3.4214e-01\u001b[0m\u001b[39m, \u001b[0m\u001b[1;36m-3.7762e-01\u001b[0m\u001b[1;39m]\u001b[0m\u001b[39m,\u001b[0m\n",
       "\u001b[39m         \u001b[0m\u001b[1;39m[\u001b[0m\u001b[39m \u001b[0m\u001b[1;36m7.9280e-02\u001b[0m\u001b[39m, \u001b[0m\u001b[1;36m-1.3680e-01\u001b[0m\u001b[39m, \u001b[0m\u001b[1;36m-4.8249e-01\u001b[0m\u001b[39m, \u001b[0m\u001b[1;36m-1.9972e-01\u001b[0m\u001b[39m,  \u001b[0m\u001b[1;36m9.3478e-02\u001b[0m\u001b[39m,\u001b[0m\n",
       "\u001b[39m           \u001b[0m\u001b[1;36m9.4343e-02\u001b[0m\u001b[39m, \u001b[0m\u001b[1;36m-2.1445e-01\u001b[0m\u001b[39m, \u001b[0m\u001b[1;36m-4.6158e-01\u001b[0m\u001b[39m, \u001b[0m\u001b[1;36m-2.9200e-01\u001b[0m\u001b[39m,  \u001b[0m\u001b[1;36m5.8901e-02\u001b[0m\u001b[39m,\u001b[0m\n",
       "\u001b[39m          \u001b[0m\u001b[1;36m-4.0848e-01\u001b[0m\u001b[39m,  \u001b[0m\u001b[1;36m7.5683e-01\u001b[0m\u001b[39m,  \u001b[0m\u001b[1;36m1.1540e-01\u001b[0m\u001b[39m, \u001b[0m\u001b[1;36m-1.9067e-01\u001b[0m\u001b[39m, \u001b[0m\u001b[1;36m-1.7652e-01\u001b[0m\u001b[39m,\u001b[0m\n",
       "\u001b[39m           \u001b[0m\u001b[1;36m4.9907e-01\u001b[0m\u001b[39m, \u001b[0m\u001b[1;36m-2.1340e-01\u001b[0m\u001b[39m,  \u001b[0m\u001b[1;36m3.0294e-01\u001b[0m\u001b[39m, \u001b[0m\u001b[1;36m-5.7575e-01\u001b[0m\u001b[39m, \u001b[0m\u001b[1;36m-3.1524e-01\u001b[0m\u001b[39m,\u001b[0m\n",
       "\u001b[39m           \u001b[0m\u001b[1;36m4.5778e-02\u001b[0m\u001b[39m, \u001b[0m\u001b[1;36m-1.5027e-01\u001b[0m\u001b[39m,  \u001b[0m\u001b[1;36m9.1262e-02\u001b[0m\u001b[39m, \u001b[0m\u001b[1;36m-7.6200e-01\u001b[0m\u001b[39m,  \u001b[0m\u001b[1;36m3.9121e-02\u001b[0m\u001b[39m,\u001b[0m\n",
       "\u001b[39m          \u001b[0m\u001b[1;36m-2.2336e-01\u001b[0m\u001b[39m,  \u001b[0m\u001b[1;36m4.8647e-01\u001b[0m\u001b[39m,  \u001b[0m\u001b[1;36m5.9745e-01\u001b[0m\u001b[39m, \u001b[0m\u001b[1;36m-4.0878e-01\u001b[0m\u001b[39m, \u001b[0m\u001b[1;36m-2.6633e-01\u001b[0m\u001b[39m,\u001b[0m\n",
       "\u001b[39m          \u001b[0m\u001b[1;36m-1.9123e-01\u001b[0m\u001b[39m, \u001b[0m\u001b[1;36m-2.6916e-01\u001b[0m\u001b[1;39m]\u001b[0m\u001b[39m,\u001b[0m\n",
       "\u001b[39m         \u001b[0m\u001b[1;39m[\u001b[0m\u001b[39m \u001b[0m\u001b[1;36m2.0915e-01\u001b[0m\u001b[39m,  \u001b[0m\u001b[1;36m8.2527e-02\u001b[0m\u001b[39m, \u001b[0m\u001b[1;36m-4.8809e-01\u001b[0m\u001b[39m, \u001b[0m\u001b[1;36m-3.9396e-01\u001b[0m\u001b[39m, \u001b[0m\u001b[1;36m-1.0980e-01\u001b[0m\u001b[39m,\u001b[0m\n",
       "\u001b[39m           \u001b[0m\u001b[1;36m8.6790e-02\u001b[0m\u001b[39m, \u001b[0m\u001b[1;36m-2.0541e-01\u001b[0m\u001b[39m, \u001b[0m\u001b[1;36m-4.4733e-01\u001b[0m\u001b[39m, \u001b[0m\u001b[1;36m-1.4175e-01\u001b[0m\u001b[39m,  \u001b[0m\u001b[1;36m1.4449e-01\u001b[0m\u001b[39m,\u001b[0m\n",
       "\u001b[39m          \u001b[0m\u001b[1;36m-3.5574e-01\u001b[0m\u001b[39m,  \u001b[0m\u001b[1;36m5.5577e-01\u001b[0m\u001b[39m,  \u001b[0m\u001b[1;36m3.6382e-02\u001b[0m\u001b[39m, \u001b[0m\u001b[1;36m-2.3774e-01\u001b[0m\u001b[39m, \u001b[0m\u001b[1;36m-1.2666e-01\u001b[0m\u001b[39m,\u001b[0m\n",
       "\u001b[39m           \u001b[0m\u001b[1;36m4.6854e-01\u001b[0m\u001b[39m,  \u001b[0m\u001b[1;36m4.4762e-04\u001b[0m\u001b[39m,  \u001b[0m\u001b[1;36m1.6370e-01\u001b[0m\u001b[39m, \u001b[0m\u001b[1;36m-5.4746e-01\u001b[0m\u001b[39m, \u001b[0m\u001b[1;36m-4.4650e-01\u001b[0m\u001b[39m,\u001b[0m\n",
       "\u001b[39m           \u001b[0m\u001b[1;36m1.0585e-01\u001b[0m\u001b[39m, \u001b[0m\u001b[1;36m-2.0889e-01\u001b[0m\u001b[39m, \u001b[0m\u001b[1;36m-1.5368e-01\u001b[0m\u001b[39m, \u001b[0m\u001b[1;36m-7.4424e-01\u001b[0m\u001b[39m,  \u001b[0m\u001b[1;36m4.7253e-02\u001b[0m\u001b[39m,\u001b[0m\n",
       "\u001b[39m          \u001b[0m\u001b[1;36m-3.8721e-01\u001b[0m\u001b[39m,  \u001b[0m\u001b[1;36m5.6166e-01\u001b[0m\u001b[39m,  \u001b[0m\u001b[1;36m4.7607e-01\u001b[0m\u001b[39m, \u001b[0m\u001b[1;36m-5.1349e-01\u001b[0m\u001b[39m, \u001b[0m\u001b[1;36m-1.9982e-01\u001b[0m\u001b[39m,\u001b[0m\n",
       "\u001b[39m          \u001b[0m\u001b[1;36m-2.2677e-01\u001b[0m\u001b[39m, \u001b[0m\u001b[1;36m-3.3769e-01\u001b[0m\u001b[1;39m]\u001b[0m\u001b[39m,\u001b[0m\n",
       "\u001b[39m         \u001b[0m\u001b[1;39m[\u001b[0m\u001b[39m \u001b[0m\u001b[1;36m7.8309e-02\u001b[0m\u001b[39m, \u001b[0m\u001b[1;36m-1.6769e-01\u001b[0m\u001b[39m, \u001b[0m\u001b[1;36m-4.3259e-01\u001b[0m\u001b[39m, \u001b[0m\u001b[1;36m-3.0268e-01\u001b[0m\u001b[39m,  \u001b[0m\u001b[1;36m1.6724e-02\u001b[0m\u001b[39m,\u001b[0m\n",
       "\u001b[39m           \u001b[0m\u001b[1;36m1.6810e-02\u001b[0m\u001b[39m, \u001b[0m\u001b[1;36m-9.1006e-02\u001b[0m\u001b[39m, \u001b[0m\u001b[1;36m-3.8463e-01\u001b[0m\u001b[39m, \u001b[0m\u001b[1;36m-2.3169e-01\u001b[0m\u001b[39m,  \u001b[0m\u001b[1;36m1.6282e-01\u001b[0m\u001b[39m,\u001b[0m\n",
       "\u001b[39m          \u001b[0m\u001b[1;36m-3.4511e-01\u001b[0m\u001b[39m,  \u001b[0m\u001b[1;36m5.3912e-01\u001b[0m\u001b[39m, \u001b[0m\u001b[1;36m-9.2263e-02\u001b[0m\u001b[39m, \u001b[0m\u001b[1;36m-3.5038e-01\u001b[0m\u001b[39m, \u001b[0m\u001b[1;36m-2.1431e-02\u001b[0m\u001b[39m,\u001b[0m\n",
       "\u001b[39m           \u001b[0m\u001b[1;36m6.6434e-01\u001b[0m\u001b[39m, \u001b[0m\u001b[1;36m-7.6531e-02\u001b[0m\u001b[39m,  \u001b[0m\u001b[1;36m9.3441e-02\u001b[0m\u001b[39m, \u001b[0m\u001b[1;36m-4.6037e-01\u001b[0m\u001b[39m, \u001b[0m\u001b[1;36m-2.8221e-01\u001b[0m\u001b[39m,\u001b[0m\n",
       "\u001b[39m           \u001b[0m\u001b[1;36m1.9677e-01\u001b[0m\u001b[39m, \u001b[0m\u001b[1;36m-2.2990e-01\u001b[0m\u001b[39m,  \u001b[0m\u001b[1;36m7.5164e-02\u001b[0m\u001b[39m, \u001b[0m\u001b[1;36m-6.9823e-01\u001b[0m\u001b[39m, \u001b[0m\u001b[1;36m-2.6265e-02\u001b[0m\u001b[39m,\u001b[0m\n",
       "\u001b[39m          \u001b[0m\u001b[1;36m-2.2995e-01\u001b[0m\u001b[39m,  \u001b[0m\u001b[1;36m4.2064e-01\u001b[0m\u001b[39m,  \u001b[0m\u001b[1;36m5.1642e-01\u001b[0m\u001b[39m, \u001b[0m\u001b[1;36m-5.0503e-01\u001b[0m\u001b[39m, \u001b[0m\u001b[1;36m-1.2235e-01\u001b[0m\u001b[39m,\u001b[0m\n",
       "\u001b[39m          \u001b[0m\u001b[1;36m-3.1319e-01\u001b[0m\u001b[39m, \u001b[0m\u001b[1;36m-3.0889e-01\u001b[0m\u001b[1;39m]\u001b[0m\u001b[39m,\u001b[0m\n",
       "\u001b[39m         \u001b[0m\u001b[1;39m[\u001b[0m\u001b[39m \u001b[0m\u001b[1;36m2.0242e-01\u001b[0m\u001b[39m,  \u001b[0m\u001b[1;36m2.6825e-02\u001b[0m\u001b[39m, \u001b[0m\u001b[1;36m-4.5110e-01\u001b[0m\u001b[39m, \u001b[0m\u001b[1;36m-4.0805e-01\u001b[0m\u001b[39m, \u001b[0m\u001b[1;36m-7.1884e-02\u001b[0m\u001b[39m,\u001b[0m\n",
       "\u001b[39m           \u001b[0m\u001b[1;36m2.4606e-01\u001b[0m\u001b[39m, \u001b[0m\u001b[1;36m-2.2764e-02\u001b[0m\u001b[39m, \u001b[0m\u001b[1;36m-4.9260e-01\u001b[0m\u001b[39m, \u001b[0m\u001b[1;36m-2.4503e-01\u001b[0m\u001b[39m,  \u001b[0m\u001b[1;36m1.7325e-01\u001b[0m\u001b[39m,\u001b[0m\n",
       "\u001b[39m          \u001b[0m\u001b[1;36m-2.8487e-01\u001b[0m\u001b[39m,  \u001b[0m\u001b[1;36m7.5707e-01\u001b[0m\u001b[39m,  \u001b[0m\u001b[1;36m1.0777e-01\u001b[0m\u001b[39m, \u001b[0m\u001b[1;36m-2.9874e-01\u001b[0m\u001b[39m, \u001b[0m\u001b[1;36m-9.5648e-02\u001b[0m\u001b[39m,\u001b[0m\n",
       "\u001b[39m           \u001b[0m\u001b[1;36m4.9169e-01\u001b[0m\u001b[39m, \u001b[0m\u001b[1;36m-1.2763e-01\u001b[0m\u001b[39m,  \u001b[0m\u001b[1;36m2.0070e-01\u001b[0m\u001b[39m, \u001b[0m\u001b[1;36m-4.6786e-01\u001b[0m\u001b[39m, \u001b[0m\u001b[1;36m-3.3680e-01\u001b[0m\u001b[39m,\u001b[0m\n",
       "\u001b[39m           \u001b[0m\u001b[1;36m1.9086e-01\u001b[0m\u001b[39m, \u001b[0m\u001b[1;36m-1.3286e-01\u001b[0m\u001b[39m, \u001b[0m\u001b[1;36m-9.1881e-02\u001b[0m\u001b[39m, \u001b[0m\u001b[1;36m-5.7352e-01\u001b[0m\u001b[39m, \u001b[0m\u001b[1;36m-4.5288e-03\u001b[0m\u001b[39m,\u001b[0m\n",
       "\u001b[39m          \u001b[0m\u001b[1;36m-2.0855e-01\u001b[0m\u001b[39m,  \u001b[0m\u001b[1;36m6.5096e-01\u001b[0m\u001b[39m,  \u001b[0m\u001b[1;36m4.4067e-01\u001b[0m\u001b[39m, \u001b[0m\u001b[1;36m-5.7314e-01\u001b[0m\u001b[39m, \u001b[0m\u001b[1;36m-5.8301e-02\u001b[0m\u001b[39m,\u001b[0m\n",
       "\u001b[39m          \u001b[0m\u001b[1;36m-2.3761e-01\u001b[0m\u001b[39m, \u001b[0m\u001b[1;36m-2.1452e-01\u001b[0m\u001b[1;39m]\u001b[0m\u001b[39m,\u001b[0m\n",
       "\u001b[39m         \u001b[0m\u001b[1;39m[\u001b[0m\u001b[39m \u001b[0m\u001b[1;36m1.8780e-01\u001b[0m\u001b[39m,  \u001b[0m\u001b[1;36m6.2783e-02\u001b[0m\u001b[39m, \u001b[0m\u001b[1;36m-4.6163e-01\u001b[0m\u001b[39m, \u001b[0m\u001b[1;36m-4.5305e-01\u001b[0m\u001b[39m,  \u001b[0m\u001b[1;36m6.0266e-04\u001b[0m\u001b[39m,\u001b[0m\n",
       "\u001b[39m           \u001b[0m\u001b[1;36m2.1883e-01\u001b[0m\u001b[39m, \u001b[0m\u001b[1;36m-3.1765e-02\u001b[0m\u001b[39m, \u001b[0m\u001b[1;36m-6.4387e-01\u001b[0m\u001b[39m, \u001b[0m\u001b[1;36m-2.1117e-01\u001b[0m\u001b[39m,  \u001b[0m\u001b[1;36m1.8674e-01\u001b[0m\u001b[39m,\u001b[0m\n",
       "\u001b[39m          \u001b[0m\u001b[1;36m-2.1831e-01\u001b[0m\u001b[39m,  \u001b[0m\u001b[1;36m5.5684e-01\u001b[0m\u001b[39m, \u001b[0m\u001b[1;36m-2.1346e-01\u001b[0m\u001b[39m, \u001b[0m\u001b[1;36m-1.7274e-01\u001b[0m\u001b[39m,  \u001b[0m\u001b[1;36m7.9192e-02\u001b[0m\u001b[39m,\u001b[0m\n",
       "\u001b[39m           \u001b[0m\u001b[1;36m5.2477e-01\u001b[0m\u001b[39m,  \u001b[0m\u001b[1;36m3.2306e-02\u001b[0m\u001b[39m,  \u001b[0m\u001b[1;36m2.5237e-01\u001b[0m\u001b[39m, \u001b[0m\u001b[1;36m-3.5488e-01\u001b[0m\u001b[39m, \u001b[0m\u001b[1;36m-4.3769e-01\u001b[0m\u001b[39m,\u001b[0m\n",
       "\u001b[39m           \u001b[0m\u001b[1;36m1.1760e-01\u001b[0m\u001b[39m, \u001b[0m\u001b[1;36m-2.3693e-01\u001b[0m\u001b[39m,  \u001b[0m\u001b[1;36m1.1001e-01\u001b[0m\u001b[39m, \u001b[0m\u001b[1;36m-6.8596e-01\u001b[0m\u001b[39m,  \u001b[0m\u001b[1;36m1.5812e-02\u001b[0m\u001b[39m,\u001b[0m\n",
       "\u001b[39m          \u001b[0m\u001b[1;36m-2.1289e-01\u001b[0m\u001b[39m,  \u001b[0m\u001b[1;36m5.3101e-01\u001b[0m\u001b[39m,  \u001b[0m\u001b[1;36m3.9206e-01\u001b[0m\u001b[39m, \u001b[0m\u001b[1;36m-5.7805e-01\u001b[0m\u001b[39m, \u001b[0m\u001b[1;36m-1.5252e-01\u001b[0m\u001b[39m,\u001b[0m\n",
       "\u001b[39m          \u001b[0m\u001b[1;36m-2.7923e-01\u001b[0m\u001b[39m, \u001b[0m\u001b[1;36m-1.4672e-01\u001b[0m\u001b[1;39m]\u001b[0m\u001b[1;39m]\u001b[0m\u001b[39m,\u001b[0m\n",
       "\n",
       "\u001b[39m        \u001b[0m\u001b[1;39m[\u001b[0m\u001b[1;39m[\u001b[0m\u001b[39m \u001b[0m\u001b[1;36m1.6516e-01\u001b[0m\u001b[39m, \u001b[0m\u001b[1;36m-3.8709e-01\u001b[0m\u001b[39m, \u001b[0m\u001b[1;36m-7.3606e-02\u001b[0m\u001b[39m, \u001b[0m\u001b[1;36m-4.5945e-01\u001b[0m\u001b[39m,  \u001b[0m\u001b[1;36m1.6454e-01\u001b[0m\u001b[39m,\u001b[0m\n",
       "\u001b[39m           \u001b[0m\u001b[1;36m4.6253e-03\u001b[0m\u001b[39m,  \u001b[0m\u001b[1;36m3.0754e-01\u001b[0m\u001b[39m,  \u001b[0m\u001b[1;36m1.6040e-01\u001b[0m\u001b[39m, \u001b[0m\u001b[1;36m-3.5832e-02\u001b[0m\u001b[39m,  \u001b[0m\u001b[1;36m2.4419e-01\u001b[0m\u001b[39m,\u001b[0m\n",
       "\u001b[39m          \u001b[0m\u001b[1;36m-2.8857e-02\u001b[0m\u001b[39m,  \u001b[0m\u001b[1;36m4.6933e-01\u001b[0m\u001b[39m, \u001b[0m\u001b[1;36m-3.3599e-01\u001b[0m\u001b[39m,  \u001b[0m\u001b[1;36m7.2972e-01\u001b[0m\u001b[39m, \u001b[0m\u001b[1;36m-1.6001e-01\u001b[0m\u001b[39m,\u001b[0m\n",
       "\u001b[39m          \u001b[0m\u001b[1;36m-2.2981e-01\u001b[0m\u001b[39m,  \u001b[0m\u001b[1;36m4.9051e-02\u001b[0m\u001b[39m,  \u001b[0m\u001b[1;36m4.2412e-01\u001b[0m\u001b[39m,  \u001b[0m\u001b[1;36m1.3322e-01\u001b[0m\u001b[39m, \u001b[0m\u001b[1;36m-3.3225e-01\u001b[0m\u001b[39m,\u001b[0m\n",
       "\u001b[39m           \u001b[0m\u001b[1;36m1.0066e-01\u001b[0m\u001b[39m,  \u001b[0m\u001b[1;36m1.6477e-01\u001b[0m\u001b[39m, \u001b[0m\u001b[1;36m-1.0464e-01\u001b[0m\u001b[39m, \u001b[0m\u001b[1;36m-2.6505e-01\u001b[0m\u001b[39m,  \u001b[0m\u001b[1;36m2.5371e-01\u001b[0m\u001b[39m,\u001b[0m\n",
       "\u001b[39m          \u001b[0m\u001b[1;36m-2.4672e-01\u001b[0m\u001b[39m, \u001b[0m\u001b[1;36m-3.4423e-01\u001b[0m\u001b[39m,  \u001b[0m\u001b[1;36m2.0274e-01\u001b[0m\u001b[39m, \u001b[0m\u001b[1;36m-2.0190e-02\u001b[0m\u001b[39m,  \u001b[0m\u001b[1;36m3.8387e-01\u001b[0m\u001b[39m,\u001b[0m\n",
       "\u001b[39m          \u001b[0m\u001b[1;36m-1.7013e-02\u001b[0m\u001b[39m, \u001b[0m\u001b[1;36m-4.3642e-02\u001b[0m\u001b[1;39m]\u001b[0m\u001b[39m,\u001b[0m\n",
       "\u001b[39m         \u001b[0m\u001b[1;39m[\u001b[0m\u001b[1;36m-7.4558e-02\u001b[0m\u001b[39m, \u001b[0m\u001b[1;36m-4.8926e-01\u001b[0m\u001b[39m, \u001b[0m\u001b[1;36m-3.4035e-01\u001b[0m\u001b[39m, \u001b[0m\u001b[1;36m-9.9913e-02\u001b[0m\u001b[39m,  \u001b[0m\u001b[1;36m1.7870e-02\u001b[0m\u001b[39m,\u001b[0m\n",
       "\u001b[39m           \u001b[0m\u001b[1;36m1.6485e-01\u001b[0m\u001b[39m,  \u001b[0m\u001b[1;36m3.6949e-01\u001b[0m\u001b[39m, \u001b[0m\u001b[1;36m-2.6449e-01\u001b[0m\u001b[39m, \u001b[0m\u001b[1;36m-4.1682e-02\u001b[0m\u001b[39m,  \u001b[0m\u001b[1;36m1.9024e-01\u001b[0m\u001b[39m,\u001b[0m\n",
       "\u001b[39m           \u001b[0m\u001b[1;36m3.7961e-02\u001b[0m\u001b[39m,  \u001b[0m\u001b[1;36m3.9617e-01\u001b[0m\u001b[39m, \u001b[0m\u001b[1;36m-3.1455e-01\u001b[0m\u001b[39m,  \u001b[0m\u001b[1;36m4.0304e-01\u001b[0m\u001b[39m, \u001b[0m\u001b[1;36m-1.3707e-01\u001b[0m\u001b[39m,\u001b[0m\n",
       "\u001b[39m          \u001b[0m\u001b[1;36m-2.8458e-01\u001b[0m\u001b[39m,  \u001b[0m\u001b[1;36m2.0129e-01\u001b[0m\u001b[39m,  \u001b[0m\u001b[1;36m2.7816e-01\u001b[0m\u001b[39m, \u001b[0m\u001b[1;36m-2.0111e-01\u001b[0m\u001b[39m,  \u001b[0m\u001b[1;36m3.8143e-02\u001b[0m\u001b[39m,\u001b[0m\n",
       "\u001b[39m           \u001b[0m\u001b[1;36m5.0758e-01\u001b[0m\u001b[39m,  \u001b[0m\u001b[1;36m4.1082e-01\u001b[0m\u001b[39m, \u001b[0m\u001b[1;36m-4.2129e-01\u001b[0m\u001b[39m, \u001b[0m\u001b[1;36m-1.4597e-01\u001b[0m\u001b[39m,  \u001b[0m\u001b[1;36m1.0307e-01\u001b[0m\u001b[39m,\u001b[0m\n",
       "\u001b[39m          \u001b[0m\u001b[1;36m-3.9279e-01\u001b[0m\u001b[39m, \u001b[0m\u001b[1;36m-2.7119e-01\u001b[0m\u001b[39m,  \u001b[0m\u001b[1;36m3.0272e-01\u001b[0m\u001b[39m, \u001b[0m\u001b[1;36m-1.4467e-01\u001b[0m\u001b[39m,  \u001b[0m\u001b[1;36m1.9915e-01\u001b[0m\u001b[39m,\u001b[0m\n",
       "\u001b[39m           \u001b[0m\u001b[1;36m3.8435e-01\u001b[0m\u001b[39m, \u001b[0m\u001b[1;36m-2.0867e-01\u001b[0m\u001b[1;39m]\u001b[0m\u001b[39m,\u001b[0m\n",
       "\u001b[39m         \u001b[0m\u001b[1;39m[\u001b[0m\u001b[1;36m-3.4802e-01\u001b[0m\u001b[39m, \u001b[0m\u001b[1;36m-2.2825e-01\u001b[0m\u001b[39m, \u001b[0m\u001b[1;36m-3.5529e-01\u001b[0m\u001b[39m, \u001b[0m\u001b[1;36m-2.6172e-01\u001b[0m\u001b[39m, \u001b[0m\u001b[1;36m-2.2336e-02\u001b[0m\u001b[39m,\u001b[0m\n",
       "\u001b[39m           \u001b[0m\u001b[1;36m2.6127e-01\u001b[0m\u001b[39m,  \u001b[0m\u001b[1;36m3.7355e-01\u001b[0m\u001b[39m, \u001b[0m\u001b[1;36m-2.6493e-01\u001b[0m\u001b[39m,  \u001b[0m\u001b[1;36m2.1480e-02\u001b[0m\u001b[39m,  \u001b[0m\u001b[1;36m1.3850e-01\u001b[0m\u001b[39m,\u001b[0m\n",
       "\u001b[39m           \u001b[0m\u001b[1;36m1.0962e-01\u001b[0m\u001b[39m,  \u001b[0m\u001b[1;36m6.7182e-01\u001b[0m\u001b[39m, \u001b[0m\u001b[1;36m-2.2394e-01\u001b[0m\u001b[39m,  \u001b[0m\u001b[1;36m3.0515e-01\u001b[0m\u001b[39m,  \u001b[0m\u001b[1;36m6.7791e-02\u001b[0m\u001b[39m,\u001b[0m\n",
       "\u001b[39m          \u001b[0m\u001b[1;36m-2.9881e-01\u001b[0m\u001b[39m,  \u001b[0m\u001b[1;36m1.0715e-01\u001b[0m\u001b[39m,  \u001b[0m\u001b[1;36m4.9885e-02\u001b[0m\u001b[39m, \u001b[0m\u001b[1;36m-2.2266e-01\u001b[0m\u001b[39m,  \u001b[0m\u001b[1;36m1.2056e-01\u001b[0m\u001b[39m,\u001b[0m\n",
       "\u001b[39m           \u001b[0m\u001b[1;36m4.6018e-01\u001b[0m\u001b[39m,  \u001b[0m\u001b[1;36m3.5101e-01\u001b[0m\u001b[39m, \u001b[0m\u001b[1;36m-3.5328e-01\u001b[0m\u001b[39m, \u001b[0m\u001b[1;36m-1.0768e-01\u001b[0m\u001b[39m,  \u001b[0m\u001b[1;36m5.4070e-03\u001b[0m\u001b[39m,\u001b[0m\n",
       "\u001b[39m          \u001b[0m\u001b[1;36m-1.4420e-01\u001b[0m\u001b[39m, \u001b[0m\u001b[1;36m-1.5782e-01\u001b[0m\u001b[39m,  \u001b[0m\u001b[1;36m1.4993e-01\u001b[0m\u001b[39m, \u001b[0m\u001b[1;36m-3.9918e-01\u001b[0m\u001b[39m,  \u001b[0m\u001b[1;36m5.3259e-01\u001b[0m\u001b[39m,\u001b[0m\n",
       "\u001b[39m           \u001b[0m\u001b[1;36m3.2654e-01\u001b[0m\u001b[39m, \u001b[0m\u001b[1;36m-2.9260e-01\u001b[0m\u001b[1;39m]\u001b[0m\u001b[39m,\u001b[0m\n",
       "\u001b[39m         \u001b[0m\u001b[1;39m[\u001b[0m\u001b[1;36m-2.3829e-01\u001b[0m\u001b[39m, \u001b[0m\u001b[1;36m-7.0547e-02\u001b[0m\u001b[39m, \u001b[0m\u001b[1;36m-2.8726e-01\u001b[0m\u001b[39m, \u001b[0m\u001b[1;36m-2.5699e-01\u001b[0m\u001b[39m, \u001b[0m\u001b[1;36m-1.1256e-01\u001b[0m\u001b[39m,\u001b[0m\n",
       "\u001b[39m           \u001b[0m\u001b[1;36m1.1607e-01\u001b[0m\u001b[39m,  \u001b[0m\u001b[1;36m2.8980e-01\u001b[0m\u001b[39m, \u001b[0m\u001b[1;36m-3.1389e-01\u001b[0m\u001b[39m,  \u001b[0m\u001b[1;36m3.1957e-01\u001b[0m\u001b[39m,  \u001b[0m\u001b[1;36m3.1108e-01\u001b[0m\u001b[39m,\u001b[0m\n",
       "\u001b[39m           \u001b[0m\u001b[1;36m4.1999e-01\u001b[0m\u001b[39m,  \u001b[0m\u001b[1;36m5.1734e-01\u001b[0m\u001b[39m, \u001b[0m\u001b[1;36m-1.8984e-01\u001b[0m\u001b[39m,  \u001b[0m\u001b[1;36m2.5167e-01\u001b[0m\u001b[39m,  \u001b[0m\u001b[1;36m4.0380e-02\u001b[0m\u001b[39m,\u001b[0m\n",
       "\u001b[39m          \u001b[0m\u001b[1;36m-1.9407e-01\u001b[0m\u001b[39m,  \u001b[0m\u001b[1;36m2.5661e-01\u001b[0m\u001b[39m,  \u001b[0m\u001b[1;36m8.7557e-02\u001b[0m\u001b[39m, \u001b[0m\u001b[1;36m-3.8751e-02\u001b[0m\u001b[39m,  \u001b[0m\u001b[1;36m1.1305e-01\u001b[0m\u001b[39m,\u001b[0m\n",
       "\u001b[39m           \u001b[0m\u001b[1;36m4.5989e-01\u001b[0m\u001b[39m,  \u001b[0m\u001b[1;36m4.0931e-01\u001b[0m\u001b[39m, \u001b[0m\u001b[1;36m-4.5172e-01\u001b[0m\u001b[39m, \u001b[0m\u001b[1;36m-1.7560e-01\u001b[0m\u001b[39m, \u001b[0m\u001b[1;36m-1.7299e-01\u001b[0m\u001b[39m,\u001b[0m\n",
       "\u001b[39m          \u001b[0m\u001b[1;36m-1.0113e-01\u001b[0m\u001b[39m, \u001b[0m\u001b[1;36m-1.1262e-01\u001b[0m\u001b[39m, \u001b[0m\u001b[1;36m-1.8438e-02\u001b[0m\u001b[39m, \u001b[0m\u001b[1;36m-3.6429e-01\u001b[0m\u001b[39m,  \u001b[0m\u001b[1;36m3.8055e-01\u001b[0m\u001b[39m,\u001b[0m\n",
       "\u001b[39m           \u001b[0m\u001b[1;36m4.9983e-01\u001b[0m\u001b[39m, \u001b[0m\u001b[1;36m-5.1607e-01\u001b[0m\u001b[1;39m]\u001b[0m\u001b[39m,\u001b[0m\n",
       "\u001b[39m         \u001b[0m\u001b[1;39m[\u001b[0m\u001b[1;36m-2.2295e-01\u001b[0m\u001b[39m, \u001b[0m\u001b[1;36m-1.1396e-01\u001b[0m\u001b[39m, \u001b[0m\u001b[1;36m-7.0574e-03\u001b[0m\u001b[39m, \u001b[0m\u001b[1;36m-1.0553e-01\u001b[0m\u001b[39m, \u001b[0m\u001b[1;36m-2.6223e-01\u001b[0m\u001b[39m,\u001b[0m\n",
       "\u001b[39m           \u001b[0m\u001b[1;36m1.2642e-01\u001b[0m\u001b[39m,  \u001b[0m\u001b[1;36m2.9560e-01\u001b[0m\u001b[39m, \u001b[0m\u001b[1;36m-1.3295e-02\u001b[0m\u001b[39m,  \u001b[0m\u001b[1;36m2.8055e-01\u001b[0m\u001b[39m,  \u001b[0m\u001b[1;36m1.9339e-01\u001b[0m\u001b[39m,\u001b[0m\n",
       "\u001b[39m           \u001b[0m\u001b[1;36m3.3370e-01\u001b[0m\u001b[39m,  \u001b[0m\u001b[1;36m4.8414e-01\u001b[0m\u001b[39m, \u001b[0m\u001b[1;36m-2.8866e-01\u001b[0m\u001b[39m,  \u001b[0m\u001b[1;36m2.8186e-01\u001b[0m\u001b[39m,  \u001b[0m\u001b[1;36m1.1260e-01\u001b[0m\u001b[39m,\u001b[0m\n",
       "\u001b[39m           \u001b[0m\u001b[1;36m8.0107e-02\u001b[0m\u001b[39m,  \u001b[0m\u001b[1;36m2.1795e-01\u001b[0m\u001b[39m,  \u001b[0m\u001b[1;36m1.8178e-01\u001b[0m\u001b[39m,  \u001b[0m\u001b[1;36m7.3868e-02\u001b[0m\u001b[39m,  \u001b[0m\u001b[1;36m4.0110e-01\u001b[0m\u001b[39m,\u001b[0m\n",
       "\u001b[39m           \u001b[0m\u001b[1;36m4.3338e-01\u001b[0m\u001b[39m,  \u001b[0m\u001b[1;36m3.8996e-01\u001b[0m\u001b[39m, \u001b[0m\u001b[1;36m-1.1479e-01\u001b[0m\u001b[39m, \u001b[0m\u001b[1;36m-7.5292e-02\u001b[0m\u001b[39m, \u001b[0m\u001b[1;36m-3.2897e-01\u001b[0m\u001b[39m,\u001b[0m\n",
       "\u001b[39m          \u001b[0m\u001b[1;36m-1.0699e-01\u001b[0m\u001b[39m,  \u001b[0m\u001b[1;36m1.4775e-02\u001b[0m\u001b[39m, \u001b[0m\u001b[1;36m-5.1134e-02\u001b[0m\u001b[39m, \u001b[0m\u001b[1;36m-4.0269e-01\u001b[0m\u001b[39m,  \u001b[0m\u001b[1;36m3.8246e-01\u001b[0m\u001b[39m,\u001b[0m\n",
       "\u001b[39m           \u001b[0m\u001b[1;36m5.7757e-01\u001b[0m\u001b[39m, \u001b[0m\u001b[1;36m-6.2126e-01\u001b[0m\u001b[1;39m]\u001b[0m\u001b[39m,\u001b[0m\n",
       "\u001b[39m         \u001b[0m\u001b[1;39m[\u001b[0m\u001b[1;36m-1.5717e-01\u001b[0m\u001b[39m,  \u001b[0m\u001b[1;36m4.9611e-02\u001b[0m\u001b[39m,  \u001b[0m\u001b[1;36m3.7857e-02\u001b[0m\u001b[39m, \u001b[0m\u001b[1;36m-7.0055e-02\u001b[0m\u001b[39m, \u001b[0m\u001b[1;36m-1.3334e-01\u001b[0m\u001b[39m,\u001b[0m\n",
       "\u001b[39m           \u001b[0m\u001b[1;36m1.7712e-01\u001b[0m\u001b[39m,  \u001b[0m\u001b[1;36m3.5093e-01\u001b[0m\u001b[39m, \u001b[0m\u001b[1;36m-2.9169e-01\u001b[0m\u001b[39m,  \u001b[0m\u001b[1;36m1.4205e-01\u001b[0m\u001b[39m,  \u001b[0m\u001b[1;36m1.9889e-01\u001b[0m\u001b[39m,\u001b[0m\n",
       "\u001b[39m           \u001b[0m\u001b[1;36m3.6089e-01\u001b[0m\u001b[39m,  \u001b[0m\u001b[1;36m5.3766e-01\u001b[0m\u001b[39m, \u001b[0m\u001b[1;36m-4.1103e-01\u001b[0m\u001b[39m,  \u001b[0m\u001b[1;36m2.5037e-01\u001b[0m\u001b[39m,  \u001b[0m\u001b[1;36m1.0039e-01\u001b[0m\u001b[39m,\u001b[0m\n",
       "\u001b[39m          \u001b[0m\u001b[1;36m-1.9207e-02\u001b[0m\u001b[39m,  \u001b[0m\u001b[1;36m3.7936e-01\u001b[0m\u001b[39m,  \u001b[0m\u001b[1;36m2.5950e-02\u001b[0m\u001b[39m, \u001b[0m\u001b[1;36m-1.1865e-01\u001b[0m\u001b[39m,  \u001b[0m\u001b[1;36m2.7807e-01\u001b[0m\u001b[39m,\u001b[0m\n",
       "\u001b[39m           \u001b[0m\u001b[1;36m3.1732e-01\u001b[0m\u001b[39m,  \u001b[0m\u001b[1;36m4.7598e-01\u001b[0m\u001b[39m,  \u001b[0m\u001b[1;36m1.3816e-01\u001b[0m\u001b[39m, \u001b[0m\u001b[1;36m-2.0919e-01\u001b[0m\u001b[39m, \u001b[0m\u001b[1;36m-2.6297e-01\u001b[0m\u001b[39m,\u001b[0m\n",
       "\u001b[39m          \u001b[0m\u001b[1;36m-1.2503e-01\u001b[0m\u001b[39m,  \u001b[0m\u001b[1;36m1.8251e-01\u001b[0m\u001b[39m, \u001b[0m\u001b[1;36m-3.1570e-02\u001b[0m\u001b[39m, \u001b[0m\u001b[1;36m-6.5754e-01\u001b[0m\u001b[39m,  \u001b[0m\u001b[1;36m2.2904e-01\u001b[0m\u001b[39m,\u001b[0m\n",
       "\u001b[39m           \u001b[0m\u001b[1;36m4.8678e-01\u001b[0m\u001b[39m, \u001b[0m\u001b[1;36m-4.3710e-01\u001b[0m\u001b[1;39m]\u001b[0m\u001b[39m,\u001b[0m\n",
       "\u001b[39m         \u001b[0m\u001b[1;39m[\u001b[0m\u001b[1;36m-2.5996e-01\u001b[0m\u001b[39m, \u001b[0m\u001b[1;36m-4.8312e-03\u001b[0m\u001b[39m, \u001b[0m\u001b[1;36m-7.0360e-02\u001b[0m\u001b[39m, \u001b[0m\u001b[1;36m-2.4164e-01\u001b[0m\u001b[39m, \u001b[0m\u001b[1;36m-2.2528e-01\u001b[0m\u001b[39m,\u001b[0m\n",
       "\u001b[39m           \u001b[0m\u001b[1;36m3.2764e-01\u001b[0m\u001b[39m,  \u001b[0m\u001b[1;36m2.4634e-01\u001b[0m\u001b[39m, \u001b[0m\u001b[1;36m-1.9044e-01\u001b[0m\u001b[39m,  \u001b[0m\u001b[1;36m1.4033e-01\u001b[0m\u001b[39m,  \u001b[0m\u001b[1;36m2.6708e-01\u001b[0m\u001b[39m,\u001b[0m\n",
       "\u001b[39m           \u001b[0m\u001b[1;36m2.6827e-01\u001b[0m\u001b[39m,  \u001b[0m\u001b[1;36m4.6412e-01\u001b[0m\u001b[39m, \u001b[0m\u001b[1;36m-4.6004e-01\u001b[0m\u001b[39m,  \u001b[0m\u001b[1;36m3.7195e-02\u001b[0m\u001b[39m,  \u001b[0m\u001b[1;36m1.8442e-01\u001b[0m\u001b[39m,\u001b[0m\n",
       "\u001b[39m          \u001b[0m\u001b[1;36m-9.2144e-02\u001b[0m\u001b[39m,  \u001b[0m\u001b[1;36m2.9979e-01\u001b[0m\u001b[39m, \u001b[0m\u001b[1;36m-3.5033e-02\u001b[0m\u001b[39m, \u001b[0m\u001b[1;36m-1.1754e-01\u001b[0m\u001b[39m,  \u001b[0m\u001b[1;36m2.7263e-01\u001b[0m\u001b[39m,\u001b[0m\n",
       "\u001b[39m           \u001b[0m\u001b[1;36m2.9350e-01\u001b[0m\u001b[39m,  \u001b[0m\u001b[1;36m7.3604e-01\u001b[0m\u001b[39m,  \u001b[0m\u001b[1;36m5.8802e-03\u001b[0m\u001b[39m, \u001b[0m\u001b[1;36m-2.5696e-01\u001b[0m\u001b[39m, \u001b[0m\u001b[1;36m-1.9355e-01\u001b[0m\u001b[39m,\u001b[0m\n",
       "\u001b[39m           \u001b[0m\u001b[1;36m9.7955e-02\u001b[0m\u001b[39m,  \u001b[0m\u001b[1;36m2.1985e-01\u001b[0m\u001b[39m, \u001b[0m\u001b[1;36m-1.1738e-01\u001b[0m\u001b[39m, \u001b[0m\u001b[1;36m-5.8300e-01\u001b[0m\u001b[39m,  \u001b[0m\u001b[1;36m2.7138e-01\u001b[0m\u001b[39m,\u001b[0m\n",
       "\u001b[39m           \u001b[0m\u001b[1;36m4.2247e-01\u001b[0m\u001b[39m, \u001b[0m\u001b[1;36m-5.8711e-01\u001b[0m\u001b[1;39m]\u001b[0m\u001b[39m,\u001b[0m\n",
       "\u001b[39m         \u001b[0m\u001b[1;39m[\u001b[0m\u001b[1;36m-2.6539e-01\u001b[0m\u001b[39m,  \u001b[0m\u001b[1;36m4.1517e-03\u001b[0m\u001b[39m,  \u001b[0m\u001b[1;36m1.5181e-02\u001b[0m\u001b[39m,  \u001b[0m\u001b[1;36m1.2781e-02\u001b[0m\u001b[39m, \u001b[0m\u001b[1;36m-1.2961e-01\u001b[0m\u001b[39m,\u001b[0m\n",
       "\u001b[39m           \u001b[0m\u001b[1;36m1.1274e-01\u001b[0m\u001b[39m,  \u001b[0m\u001b[1;36m3.5967e-01\u001b[0m\u001b[39m, \u001b[0m\u001b[1;36m-3.5489e-02\u001b[0m\u001b[39m,  \u001b[0m\u001b[1;36m3.4079e-01\u001b[0m\u001b[39m,  \u001b[0m\u001b[1;36m3.0638e-01\u001b[0m\u001b[39m,\u001b[0m\n",
       "\u001b[39m           \u001b[0m\u001b[1;36m4.1123e-01\u001b[0m\u001b[39m,  \u001b[0m\u001b[1;36m3.5991e-01\u001b[0m\u001b[39m, \u001b[0m\u001b[1;36m-1.2175e-01\u001b[0m\u001b[39m,  \u001b[0m\u001b[1;36m1.3398e-01\u001b[0m\u001b[39m,  \u001b[0m\u001b[1;36m2.3612e-01\u001b[0m\u001b[39m,\u001b[0m\n",
       "\u001b[39m          \u001b[0m\u001b[1;36m-2.5234e-01\u001b[0m\u001b[39m,  \u001b[0m\u001b[1;36m2.9047e-01\u001b[0m\u001b[39m, \u001b[0m\u001b[1;36m-1.9565e-01\u001b[0m\u001b[39m, \u001b[0m\u001b[1;36m-2.7314e-01\u001b[0m\u001b[39m,  \u001b[0m\u001b[1;36m3.1241e-01\u001b[0m\u001b[39m,\u001b[0m\n",
       "\u001b[39m           \u001b[0m\u001b[1;36m9.8164e-02\u001b[0m\u001b[39m,  \u001b[0m\u001b[1;36m7.1076e-01\u001b[0m\u001b[39m,  \u001b[0m\u001b[1;36m4.5611e-02\u001b[0m\u001b[39m, \u001b[0m\u001b[1;36m-1.6697e-01\u001b[0m\u001b[39m, \u001b[0m\u001b[1;36m-3.7879e-01\u001b[0m\u001b[39m,\u001b[0m\n",
       "\u001b[39m           \u001b[0m\u001b[1;36m1.6025e-01\u001b[0m\u001b[39m,  \u001b[0m\u001b[1;36m2.1716e-01\u001b[0m\u001b[39m, \u001b[0m\u001b[1;36m-8.1111e-02\u001b[0m\u001b[39m, \u001b[0m\u001b[1;36m-3.1937e-01\u001b[0m\u001b[39m,  \u001b[0m\u001b[1;36m1.1062e-01\u001b[0m\u001b[39m,\u001b[0m\n",
       "\u001b[39m           \u001b[0m\u001b[1;36m4.1277e-01\u001b[0m\u001b[39m, \u001b[0m\u001b[1;36m-5.5332e-01\u001b[0m\u001b[1;39m]\u001b[0m\u001b[39m,\u001b[0m\n",
       "\u001b[39m         \u001b[0m\u001b[1;39m[\u001b[0m\u001b[1;36m-2.6097e-01\u001b[0m\u001b[39m,  \u001b[0m\u001b[1;36m3.5211e-02\u001b[0m\u001b[39m,  \u001b[0m\u001b[1;36m1.0137e-01\u001b[0m\u001b[39m, \u001b[0m\u001b[1;36m-1.0343e-01\u001b[0m\u001b[39m, \u001b[0m\u001b[1;36m-3.3685e-01\u001b[0m\u001b[39m,\u001b[0m\n",
       "\u001b[39m          \u001b[0m\u001b[1;36m-1.1351e-01\u001b[0m\u001b[39m,  \u001b[0m\u001b[1;36m2.1570e-01\u001b[0m\u001b[39m, \u001b[0m\u001b[1;36m-2.2815e-01\u001b[0m\u001b[39m,  \u001b[0m\u001b[1;36m6.5419e-02\u001b[0m\u001b[39m,  \u001b[0m\u001b[1;36m2.8954e-01\u001b[0m\u001b[39m,\u001b[0m\n",
       "\u001b[39m           \u001b[0m\u001b[1;36m1.1245e-01\u001b[0m\u001b[39m,  \u001b[0m\u001b[1;36m4.9224e-01\u001b[0m\u001b[39m, \u001b[0m\u001b[1;36m-2.3751e-01\u001b[0m\u001b[39m, \u001b[0m\u001b[1;36m-1.0211e-02\u001b[0m\u001b[39m,  \u001b[0m\u001b[1;36m2.0243e-01\u001b[0m\u001b[39m,\u001b[0m\n",
       "\u001b[39m           \u001b[0m\u001b[1;36m2.4743e-02\u001b[0m\u001b[39m,  \u001b[0m\u001b[1;36m6.4739e-01\u001b[0m\u001b[39m, \u001b[0m\u001b[1;36m-3.4207e-03\u001b[0m\u001b[39m, \u001b[0m\u001b[1;36m-3.0222e-01\u001b[0m\u001b[39m,  \u001b[0m\u001b[1;36m2.1826e-01\u001b[0m\u001b[39m,\u001b[0m\n",
       "\u001b[39m           \u001b[0m\u001b[1;36m1.6319e-01\u001b[0m\u001b[39m,  \u001b[0m\u001b[1;36m6.0491e-01\u001b[0m\u001b[39m,  \u001b[0m\u001b[1;36m2.8514e-02\u001b[0m\u001b[39m, \u001b[0m\u001b[1;36m-2.5603e-01\u001b[0m\u001b[39m, \u001b[0m\u001b[1;36m-5.4598e-01\u001b[0m\u001b[39m,\u001b[0m\n",
       "\u001b[39m          \u001b[0m\u001b[1;36m-1.4417e-02\u001b[0m\u001b[39m,  \u001b[0m\u001b[1;36m3.3761e-01\u001b[0m\u001b[39m, \u001b[0m\u001b[1;36m-1.5896e-01\u001b[0m\u001b[39m, \u001b[0m\u001b[1;36m-3.4074e-02\u001b[0m\u001b[39m, \u001b[0m\u001b[1;36m-1.7686e-01\u001b[0m\u001b[39m,\u001b[0m\n",
       "\u001b[39m           \u001b[0m\u001b[1;36m3.8958e-01\u001b[0m\u001b[39m, \u001b[0m\u001b[1;36m-6.4709e-01\u001b[0m\u001b[1;39m]\u001b[0m\u001b[39m,\u001b[0m\n",
       "\u001b[39m         \u001b[0m\u001b[1;39m[\u001b[0m\u001b[1;36m-2.0729e-01\u001b[0m\u001b[39m, \u001b[0m\u001b[1;36m-3.5711e-02\u001b[0m\u001b[39m,  \u001b[0m\u001b[1;36m7.6000e-02\u001b[0m\u001b[39m, \u001b[0m\u001b[1;36m-2.0589e-02\u001b[0m\u001b[39m, \u001b[0m\u001b[1;36m-3.5196e-01\u001b[0m\u001b[39m,\u001b[0m\n",
       "\u001b[39m           \u001b[0m\u001b[1;36m1.7530e-01\u001b[0m\u001b[39m,  \u001b[0m\u001b[1;36m1.7784e-01\u001b[0m\u001b[39m, \u001b[0m\u001b[1;36m-1.6331e-01\u001b[0m\u001b[39m,  \u001b[0m\u001b[1;36m6.0046e-02\u001b[0m\u001b[39m,  \u001b[0m\u001b[1;36m2.3115e-01\u001b[0m\u001b[39m,\u001b[0m\n",
       "\u001b[39m           \u001b[0m\u001b[1;36m2.1987e-01\u001b[0m\u001b[39m,  \u001b[0m\u001b[1;36m3.5838e-01\u001b[0m\u001b[39m, \u001b[0m\u001b[1;36m-3.1787e-01\u001b[0m\u001b[39m,  \u001b[0m\u001b[1;36m4.7751e-02\u001b[0m\u001b[39m,  \u001b[0m\u001b[1;36m3.1438e-01\u001b[0m\u001b[39m,\u001b[0m\n",
       "\u001b[39m          \u001b[0m\u001b[1;36m-2.9021e-01\u001b[0m\u001b[39m,  \u001b[0m\u001b[1;36m4.7344e-01\u001b[0m\u001b[39m,  \u001b[0m\u001b[1;36m1.0531e-01\u001b[0m\u001b[39m, \u001b[0m\u001b[1;36m-3.4209e-01\u001b[0m\u001b[39m,  \u001b[0m\u001b[1;36m3.1891e-01\u001b[0m\u001b[39m,\u001b[0m\n",
       "\u001b[39m           \u001b[0m\u001b[1;36m3.6563e-01\u001b[0m\u001b[39m,  \u001b[0m\u001b[1;36m7.2096e-01\u001b[0m\u001b[39m, \u001b[0m\u001b[1;36m-2.2795e-01\u001b[0m\u001b[39m, \u001b[0m\u001b[1;36m-2.5195e-01\u001b[0m\u001b[39m, \u001b[0m\u001b[1;36m-4.1829e-01\u001b[0m\u001b[39m,\u001b[0m\n",
       "\u001b[39m          \u001b[0m\u001b[1;36m-2.4506e-02\u001b[0m\u001b[39m,  \u001b[0m\u001b[1;36m4.3136e-01\u001b[0m\u001b[39m, \u001b[0m\u001b[1;36m-9.1793e-02\u001b[0m\u001b[39m, \u001b[0m\u001b[1;36m-1.0688e-01\u001b[0m\u001b[39m, \u001b[0m\u001b[1;36m-2.3169e-01\u001b[0m\u001b[39m,\u001b[0m\n",
       "\u001b[39m           \u001b[0m\u001b[1;36m5.8254e-01\u001b[0m\u001b[39m, \u001b[0m\u001b[1;36m-6.8289e-01\u001b[0m\u001b[1;39m]\u001b[0m\u001b[39m,\u001b[0m\n",
       "\u001b[39m         \u001b[0m\u001b[1;39m[\u001b[0m\u001b[1;36m-4.8502e-01\u001b[0m\u001b[39m,  \u001b[0m\u001b[1;36m1.4847e-01\u001b[0m\u001b[39m,  \u001b[0m\u001b[1;36m1.6915e-01\u001b[0m\u001b[39m, \u001b[0m\u001b[1;36m-1.5175e-01\u001b[0m\u001b[39m, \u001b[0m\u001b[1;36m-2.7789e-01\u001b[0m\u001b[39m,\u001b[0m\n",
       "\u001b[39m          \u001b[0m\u001b[1;36m-5.8387e-02\u001b[0m\u001b[39m,  \u001b[0m\u001b[1;36m2.4211e-01\u001b[0m\u001b[39m, \u001b[0m\u001b[1;36m-1.3421e-01\u001b[0m\u001b[39m,  \u001b[0m\u001b[1;36m1.5876e-01\u001b[0m\u001b[39m,  \u001b[0m\u001b[1;36m2.8836e-01\u001b[0m\u001b[39m,\u001b[0m\n",
       "\u001b[39m           \u001b[0m\u001b[1;36m1.0106e-01\u001b[0m\u001b[39m,  \u001b[0m\u001b[1;36m3.6732e-01\u001b[0m\u001b[39m, \u001b[0m\u001b[1;36m-1.0790e-01\u001b[0m\u001b[39m,  \u001b[0m\u001b[1;36m8.5951e-02\u001b[0m\u001b[39m,  \u001b[0m\u001b[1;36m3.1455e-01\u001b[0m\u001b[39m,\u001b[0m\n",
       "\u001b[39m          \u001b[0m\u001b[1;36m-1.5781e-01\u001b[0m\u001b[39m,  \u001b[0m\u001b[1;36m3.8194e-01\u001b[0m\u001b[39m,  \u001b[0m\u001b[1;36m9.7040e-02\u001b[0m\u001b[39m, \u001b[0m\u001b[1;36m-1.2447e-01\u001b[0m\u001b[39m,  \u001b[0m\u001b[1;36m3.2652e-01\u001b[0m\u001b[39m,\u001b[0m\n",
       "\u001b[39m           \u001b[0m\u001b[1;36m4.4369e-01\u001b[0m\u001b[39m,  \u001b[0m\u001b[1;36m5.1814e-01\u001b[0m\u001b[39m, \u001b[0m\u001b[1;36m-9.0140e-02\u001b[0m\u001b[39m, \u001b[0m\u001b[1;36m-1.2220e-01\u001b[0m\u001b[39m, \u001b[0m\u001b[1;36m-2.6053e-01\u001b[0m\u001b[39m,\u001b[0m\n",
       "\u001b[39m           \u001b[0m\u001b[1;36m9.4632e-02\u001b[0m\u001b[39m,  \u001b[0m\u001b[1;36m6.0583e-01\u001b[0m\u001b[39m, \u001b[0m\u001b[1;36m-1.7267e-01\u001b[0m\u001b[39m, \u001b[0m\u001b[1;36m-1.6555e-01\u001b[0m\u001b[39m, \u001b[0m\u001b[1;36m-2.2736e-01\u001b[0m\u001b[39m,\u001b[0m\n",
       "\u001b[39m           \u001b[0m\u001b[1;36m4.2038e-01\u001b[0m\u001b[39m, \u001b[0m\u001b[1;36m-8.0522e-01\u001b[0m\u001b[1;39m]\u001b[0m\u001b[1;39m]\u001b[0m\u001b[1;39m]\u001b[0m\u001b[39m, \u001b[0m\u001b[33mgrad_fn\u001b[0m\u001b[39m=<UnsafeViewBackward0\u001b[0m\u001b[1m>\u001b[0m\u001b[1m)\u001b[0m\n",
       "\u001b[1m}\u001b[0m\n"
      ]
     },
     "metadata": {},
     "output_type": "display_data"
    },
    {
     "data": {
      "text/html": [
       "<pre style=\"white-space:pre;overflow-x:auto;line-height:normal;font-family:Menlo,'DejaVu Sans Mono',consolas,'Courier New',monospace\"><span style=\"color: #800080; text-decoration-color: #800080; font-weight: bold\">tensor</span><span style=\"font-weight: bold\">(</span><span style=\"color: #008080; text-decoration-color: #008080; font-weight: bold\">2.0300</span><span style=\"font-weight: bold\">)</span>\n",
       "</pre>\n"
      ],
      "text/plain": [
       "\u001b[1;35mtensor\u001b[0m\u001b[1m(\u001b[0m\u001b[1;36m2.0300\u001b[0m\u001b[1m)\u001b[0m\n"
      ]
     },
     "metadata": {},
     "output_type": "display_data"
    }
   ],
   "source": [
    "# if batch size is 32\n",
    "# the mini_bacth_size = 8\n",
    "# like data loader would run 4 step\n",
    "def get_minibatch(ppo_batchs, batch_size, mini_batch_size):\n",
    "    step = batch_size // mini_batch_size\n",
    "    ppo_batchs_iter = []\n",
    "    print(step)\n",
    "    for i in range(step):\n",
    "        ppo_batchs_iter.append(ppo_batchs)\n",
    "    return ppo_batchs_iter\n",
    "\n",
    "\n",
    "def void_compute_loss(models, mini_batchs, ppo_config):\n",
    "    print('roll mini batch to compute ppo loss')\n",
    "    print(mini_batchs)\n",
    "    loss = 1.0\n",
    "    pl_loss = 2.0\n",
    "    vl_loss = 3.0\n",
    "    loss = pl_loss + ppo_config.vl_coef * vl_loss\n",
    "    return loss, pl_loss, vl_loss\n",
    "\n",
    "\n",
    "def ppo_train_step(models, ppo_batchs, ppo_config, compute_loss):\n",
    "    losses = []\n",
    "    for i in range(ppo_config.ppo_epochs):\n",
    "        ppo_batchs_iter = get_minibatch(\n",
    "            ppo_batchs, batch_size, ppo_config.mini_batch_size)\n",
    "        for mini_batchs in ppo_batchs_iter:\n",
    "            # get training policy\n",
    "            logprobs, values, logits = batch_forward(\n",
    "                models.actor, models.critic, mini_batchs['sequence'])\n",
    "            mini_batchs['logprobs'] = logprobs\n",
    "            mini_batchs['values'] = values\n",
    "            mini_batchs['logits'] = logits\n",
    "            # compute loss\n",
    "            loss, pl_loss, vl_loss = compute_loss(\n",
    "                models, mini_batchs, ppo_config)\n",
    "            # loss.backward()\n",
    "            losses.append(loss)\n",
    "            break  # just for debug,\n",
    "        break  # just for debug,\n",
    "        mini_batchs['loss'] = losses\n",
    "    return losses\n",
    "\n",
    "\n",
    "loss = ppo_train_step(models, ppo_batchs, ppo_config, void_compute_loss)\n",
    "print(torch.tensor(loss).mean())"
   ]
  },
  {
   "cell_type": "markdown",
   "id": "706e744d-f44d-4e04-b7b3-c103e7f06dcb",
   "metadata": {},
   "source": [
    "### Compute ppo loss"
   ]
  },
  {
   "cell_type": "markdown",
   "id": "c0c7fcf9-2d07-45d5-af4c-33c2ac280900",
   "metadata": {},
   "source": [
    "when calulative ppo loss in TOKEN-LEVEL\n",
    "PPO loss pipeline:\n",
    "1. get GAE\n",
    "2. get Critic Value loss\n",
    "3. get Policy loss\n",
    "4. get entropy loss"
   ]
  },
  {
   "cell_type": "markdown",
   "id": "6f0ff59e-5ec8-41e3-b5d9-64f74c57a1a0",
   "metadata": {},
   "source": [
    "#### Get GAE"
   ]
  },
  {
   "cell_type": "code",
   "execution_count": 36,
   "id": "030efb24-8d9a-4be4-ace3-5785c4ef5d12",
   "metadata": {},
   "outputs": [
    {
     "data": {
      "text/html": [
       "<pre style=\"white-space:pre;overflow-x:auto;line-height:normal;font-family:Menlo,'DejaVu Sans Mono',consolas,'Courier New',monospace\"><span style=\"color: #800080; text-decoration-color: #800080; font-weight: bold\">tensor</span><span style=\"font-weight: bold\">([[</span> <span style=\"color: #008080; text-decoration-color: #008080; font-weight: bold\">0</span>.,  <span style=\"color: #008080; text-decoration-color: #008080; font-weight: bold\">0</span>.,  <span style=\"color: #008080; text-decoration-color: #008080; font-weight: bold\">0</span>.,  <span style=\"color: #008080; text-decoration-color: #008080; font-weight: bold\">0</span>.,  <span style=\"color: #008080; text-decoration-color: #008080; font-weight: bold\">0</span>.,  <span style=\"color: #008080; text-decoration-color: #008080; font-weight: bold\">0</span>.,  <span style=\"color: #008080; text-decoration-color: #008080; font-weight: bold\">0</span>.,  <span style=\"color: #008080; text-decoration-color: #008080; font-weight: bold\">0</span>.,  <span style=\"color: #008080; text-decoration-color: #008080; font-weight: bold\">0</span>.,  <span style=\"color: #008080; text-decoration-color: #008080; font-weight: bold\">0</span>., <span style=\"color: #008080; text-decoration-color: #008080; font-weight: bold\">10</span>.<span style=\"font-weight: bold\">]</span>,\n",
       "        <span style=\"font-weight: bold\">[</span> <span style=\"color: #008080; text-decoration-color: #008080; font-weight: bold\">0</span>.,  <span style=\"color: #008080; text-decoration-color: #008080; font-weight: bold\">0</span>.,  <span style=\"color: #008080; text-decoration-color: #008080; font-weight: bold\">0</span>.,  <span style=\"color: #008080; text-decoration-color: #008080; font-weight: bold\">0</span>.,  <span style=\"color: #008080; text-decoration-color: #008080; font-weight: bold\">0</span>.,  <span style=\"color: #008080; text-decoration-color: #008080; font-weight: bold\">0</span>.,  <span style=\"color: #008080; text-decoration-color: #008080; font-weight: bold\">0</span>.,  <span style=\"color: #008080; text-decoration-color: #008080; font-weight: bold\">0</span>.,  <span style=\"color: #008080; text-decoration-color: #008080; font-weight: bold\">0</span>.,  <span style=\"color: #008080; text-decoration-color: #008080; font-weight: bold\">0</span>., <span style=\"color: #008080; text-decoration-color: #008080; font-weight: bold\">10</span>.<span style=\"font-weight: bold\">]])</span>\n",
       "</pre>\n"
      ],
      "text/plain": [
       "\u001b[1;35mtensor\u001b[0m\u001b[1m(\u001b[0m\u001b[1m[\u001b[0m\u001b[1m[\u001b[0m \u001b[1;36m0\u001b[0m.,  \u001b[1;36m0\u001b[0m.,  \u001b[1;36m0\u001b[0m.,  \u001b[1;36m0\u001b[0m.,  \u001b[1;36m0\u001b[0m.,  \u001b[1;36m0\u001b[0m.,  \u001b[1;36m0\u001b[0m.,  \u001b[1;36m0\u001b[0m.,  \u001b[1;36m0\u001b[0m.,  \u001b[1;36m0\u001b[0m., \u001b[1;36m10\u001b[0m.\u001b[1m]\u001b[0m,\n",
       "        \u001b[1m[\u001b[0m \u001b[1;36m0\u001b[0m.,  \u001b[1;36m0\u001b[0m.,  \u001b[1;36m0\u001b[0m.,  \u001b[1;36m0\u001b[0m.,  \u001b[1;36m0\u001b[0m.,  \u001b[1;36m0\u001b[0m.,  \u001b[1;36m0\u001b[0m.,  \u001b[1;36m0\u001b[0m.,  \u001b[1;36m0\u001b[0m.,  \u001b[1;36m0\u001b[0m., \u001b[1;36m10\u001b[0m.\u001b[1m]\u001b[0m\u001b[1m]\u001b[0m\u001b[1m)\u001b[0m\n"
      ]
     },
     "metadata": {},
     "output_type": "display_data"
    },
    {
     "data": {
      "text/html": [
       "<pre style=\"white-space:pre;overflow-x:auto;line-height:normal;font-family:Menlo,'DejaVu Sans Mono',consolas,'Courier New',monospace\"><span style=\"color: #008080; text-decoration-color: #008080; font-weight: bold\">11</span>\n",
       "</pre>\n"
      ],
      "text/plain": [
       "\u001b[1;36m11\u001b[0m\n"
      ]
     },
     "metadata": {},
     "output_type": "display_data"
    },
    {
     "data": {
      "text/html": [
       "<pre style=\"white-space:pre;overflow-x:auto;line-height:normal;font-family:Menlo,'DejaVu Sans Mono',consolas,'Courier New',monospace\"><span style=\"color: #800080; text-decoration-color: #800080; font-weight: bold\">tensor</span><span style=\"font-weight: bold\">([[</span> <span style=\"color: #008080; text-decoration-color: #008080; font-weight: bold\">1.2158</span>,  <span style=\"color: #008080; text-decoration-color: #008080; font-weight: bold\">1.5009</span>,  <span style=\"color: #008080; text-decoration-color: #008080; font-weight: bold\">1.8530</span>,  <span style=\"color: #008080; text-decoration-color: #008080; font-weight: bold\">2.2877</span>,  <span style=\"color: #008080; text-decoration-color: #008080; font-weight: bold\">2.8243</span>,  <span style=\"color: #008080; text-decoration-color: #008080; font-weight: bold\">3.4868</span>,  <span style=\"color: #008080; text-decoration-color: #008080; font-weight: bold\">4.3047</span>,  <span style=\"color: #008080; text-decoration-color: #008080; font-weight: bold\">5.3144</span>,\n",
       "          <span style=\"color: #008080; text-decoration-color: #008080; font-weight: bold\">6.5610</span>,  <span style=\"color: #008080; text-decoration-color: #008080; font-weight: bold\">8.1000</span>, <span style=\"color: #008080; text-decoration-color: #008080; font-weight: bold\">10.0000</span><span style=\"font-weight: bold\">]</span>,\n",
       "        <span style=\"font-weight: bold\">[</span> <span style=\"color: #008080; text-decoration-color: #008080; font-weight: bold\">1.2158</span>,  <span style=\"color: #008080; text-decoration-color: #008080; font-weight: bold\">1.5009</span>,  <span style=\"color: #008080; text-decoration-color: #008080; font-weight: bold\">1.8530</span>,  <span style=\"color: #008080; text-decoration-color: #008080; font-weight: bold\">2.2877</span>,  <span style=\"color: #008080; text-decoration-color: #008080; font-weight: bold\">2.8243</span>,  <span style=\"color: #008080; text-decoration-color: #008080; font-weight: bold\">3.4868</span>,  <span style=\"color: #008080; text-decoration-color: #008080; font-weight: bold\">4.3047</span>,  <span style=\"color: #008080; text-decoration-color: #008080; font-weight: bold\">5.3144</span>,\n",
       "          <span style=\"color: #008080; text-decoration-color: #008080; font-weight: bold\">6.5610</span>,  <span style=\"color: #008080; text-decoration-color: #008080; font-weight: bold\">8.1000</span>, <span style=\"color: #008080; text-decoration-color: #008080; font-weight: bold\">10.0000</span><span style=\"font-weight: bold\">]])</span>\n",
       "</pre>\n"
      ],
      "text/plain": [
       "\u001b[1;35mtensor\u001b[0m\u001b[1m(\u001b[0m\u001b[1m[\u001b[0m\u001b[1m[\u001b[0m \u001b[1;36m1.2158\u001b[0m,  \u001b[1;36m1.5009\u001b[0m,  \u001b[1;36m1.8530\u001b[0m,  \u001b[1;36m2.2877\u001b[0m,  \u001b[1;36m2.8243\u001b[0m,  \u001b[1;36m3.4868\u001b[0m,  \u001b[1;36m4.3047\u001b[0m,  \u001b[1;36m5.3144\u001b[0m,\n",
       "          \u001b[1;36m6.5610\u001b[0m,  \u001b[1;36m8.1000\u001b[0m, \u001b[1;36m10.0000\u001b[0m\u001b[1m]\u001b[0m,\n",
       "        \u001b[1m[\u001b[0m \u001b[1;36m1.2158\u001b[0m,  \u001b[1;36m1.5009\u001b[0m,  \u001b[1;36m1.8530\u001b[0m,  \u001b[1;36m2.2877\u001b[0m,  \u001b[1;36m2.8243\u001b[0m,  \u001b[1;36m3.4868\u001b[0m,  \u001b[1;36m4.3047\u001b[0m,  \u001b[1;36m5.3144\u001b[0m,\n",
       "          \u001b[1;36m6.5610\u001b[0m,  \u001b[1;36m8.1000\u001b[0m, \u001b[1;36m10.0000\u001b[0m\u001b[1m]\u001b[0m\u001b[1m]\u001b[0m\u001b[1m)\u001b[0m\n"
      ]
     },
     "metadata": {},
     "output_type": "display_data"
    },
    {
     "data": {
      "text/html": [
       "<pre style=\"white-space:pre;overflow-x:auto;line-height:normal;font-family:Menlo,'DejaVu Sans Mono',consolas,'Courier New',monospace\"><span style=\"color: #800080; text-decoration-color: #800080; font-weight: bold\">tensor</span><span style=\"font-weight: bold\">([[</span><span style=\"color: #008080; text-decoration-color: #008080; font-weight: bold\">-0.0011</span>, <span style=\"color: #008080; text-decoration-color: #008080; font-weight: bold\">-0.0009</span>,  <span style=\"color: #008080; text-decoration-color: #008080; font-weight: bold\">0.0033</span>, <span style=\"color: #008080; text-decoration-color: #008080; font-weight: bold\">-0.0012</span>,  <span style=\"color: #008080; text-decoration-color: #008080; font-weight: bold\">0.0006</span>,  <span style=\"color: #008080; text-decoration-color: #008080; font-weight: bold\">0.0029</span>,  <span style=\"color: #008080; text-decoration-color: #008080; font-weight: bold\">0.0013</span>, <span style=\"color: #008080; text-decoration-color: #008080; font-weight: bold\">-0.0078</span>,\n",
       "         <span style=\"color: #008080; text-decoration-color: #008080; font-weight: bold\">-0.0012</span>, <span style=\"color: #008080; text-decoration-color: #008080; font-weight: bold\">-0.0053</span>, <span style=\"color: #008080; text-decoration-color: #008080; font-weight: bold\">-0.0030</span><span style=\"font-weight: bold\">]</span>,\n",
       "        <span style=\"font-weight: bold\">[</span> <span style=\"color: #008080; text-decoration-color: #008080; font-weight: bold\">0.0038</span>,  <span style=\"color: #008080; text-decoration-color: #008080; font-weight: bold\">0.0049</span>, <span style=\"color: #008080; text-decoration-color: #008080; font-weight: bold\">-0.0026</span>, <span style=\"color: #008080; text-decoration-color: #008080; font-weight: bold\">-0.0017</span>, <span style=\"color: #008080; text-decoration-color: #008080; font-weight: bold\">-0.0022</span>,  <span style=\"color: #008080; text-decoration-color: #008080; font-weight: bold\">0.0016</span>, <span style=\"color: #008080; text-decoration-color: #008080; font-weight: bold\">-0.0026</span>,  <span style=\"color: #008080; text-decoration-color: #008080; font-weight: bold\">0.0027</span>,\n",
       "         <span style=\"color: #008080; text-decoration-color: #008080; font-weight: bold\">-0.0014</span>,  <span style=\"color: #008080; text-decoration-color: #008080; font-weight: bold\">0.0050</span>,  <span style=\"color: #008080; text-decoration-color: #008080; font-weight: bold\">0.0040</span><span style=\"font-weight: bold\">]]</span>, <span style=\"color: #808000; text-decoration-color: #808000\">grad_fn</span>=<span style=\"font-weight: bold\">&lt;</span><span style=\"color: #ff00ff; text-decoration-color: #ff00ff; font-weight: bold\">CopySlices</span><span style=\"font-weight: bold\">&gt;)</span>\n",
       "</pre>\n"
      ],
      "text/plain": [
       "\u001b[1;35mtensor\u001b[0m\u001b[1m(\u001b[0m\u001b[1m[\u001b[0m\u001b[1m[\u001b[0m\u001b[1;36m-0.0011\u001b[0m, \u001b[1;36m-0.0009\u001b[0m,  \u001b[1;36m0.0033\u001b[0m, \u001b[1;36m-0.0012\u001b[0m,  \u001b[1;36m0.0006\u001b[0m,  \u001b[1;36m0.0029\u001b[0m,  \u001b[1;36m0.0013\u001b[0m, \u001b[1;36m-0.0078\u001b[0m,\n",
       "         \u001b[1;36m-0.0012\u001b[0m, \u001b[1;36m-0.0053\u001b[0m, \u001b[1;36m-0.0030\u001b[0m\u001b[1m]\u001b[0m,\n",
       "        \u001b[1m[\u001b[0m \u001b[1;36m0.0038\u001b[0m,  \u001b[1;36m0.0049\u001b[0m, \u001b[1;36m-0.0026\u001b[0m, \u001b[1;36m-0.0017\u001b[0m, \u001b[1;36m-0.0022\u001b[0m,  \u001b[1;36m0.0016\u001b[0m, \u001b[1;36m-0.0026\u001b[0m,  \u001b[1;36m0.0027\u001b[0m,\n",
       "         \u001b[1;36m-0.0014\u001b[0m,  \u001b[1;36m0.0050\u001b[0m,  \u001b[1;36m0.0040\u001b[0m\u001b[1m]\u001b[0m\u001b[1m]\u001b[0m, \u001b[33mgrad_fn\u001b[0m=\u001b[1m<\u001b[0m\u001b[1;95mCopySlices\u001b[0m\u001b[1m>\u001b[0m\u001b[1m)\u001b[0m\n"
      ]
     },
     "metadata": {},
     "output_type": "display_data"
    },
    {
     "data": {
      "text/html": [
       "<pre style=\"white-space:pre;overflow-x:auto;line-height:normal;font-family:Menlo,'DejaVu Sans Mono',consolas,'Courier New',monospace\"><span style=\"color: #800080; text-decoration-color: #800080; font-weight: bold\">tensor</span><span style=\"font-weight: bold\">([[</span> <span style=\"color: #008080; text-decoration-color: #008080; font-weight: bold\">0</span>.,  <span style=\"color: #008080; text-decoration-color: #008080; font-weight: bold\">0</span>.,  <span style=\"color: #008080; text-decoration-color: #008080; font-weight: bold\">0</span>.,  <span style=\"color: #008080; text-decoration-color: #008080; font-weight: bold\">0</span>.,  <span style=\"color: #008080; text-decoration-color: #008080; font-weight: bold\">0</span>.,  <span style=\"color: #008080; text-decoration-color: #008080; font-weight: bold\">0</span>.,  <span style=\"color: #008080; text-decoration-color: #008080; font-weight: bold\">0</span>.,  <span style=\"color: #008080; text-decoration-color: #008080; font-weight: bold\">0</span>.,  <span style=\"color: #008080; text-decoration-color: #008080; font-weight: bold\">0</span>.,  <span style=\"color: #008080; text-decoration-color: #008080; font-weight: bold\">0</span>., <span style=\"color: #008080; text-decoration-color: #008080; font-weight: bold\">10</span>.<span style=\"font-weight: bold\">]</span>,\n",
       "        <span style=\"font-weight: bold\">[</span> <span style=\"color: #008080; text-decoration-color: #008080; font-weight: bold\">0</span>.,  <span style=\"color: #008080; text-decoration-color: #008080; font-weight: bold\">0</span>.,  <span style=\"color: #008080; text-decoration-color: #008080; font-weight: bold\">0</span>.,  <span style=\"color: #008080; text-decoration-color: #008080; font-weight: bold\">0</span>.,  <span style=\"color: #008080; text-decoration-color: #008080; font-weight: bold\">0</span>.,  <span style=\"color: #008080; text-decoration-color: #008080; font-weight: bold\">0</span>.,  <span style=\"color: #008080; text-decoration-color: #008080; font-weight: bold\">0</span>.,  <span style=\"color: #008080; text-decoration-color: #008080; font-weight: bold\">0</span>.,  <span style=\"color: #008080; text-decoration-color: #008080; font-weight: bold\">0</span>.,  <span style=\"color: #008080; text-decoration-color: #008080; font-weight: bold\">0</span>., <span style=\"color: #008080; text-decoration-color: #008080; font-weight: bold\">10</span>.<span style=\"font-weight: bold\">]])</span>\n",
       "</pre>\n"
      ],
      "text/plain": [
       "\u001b[1;35mtensor\u001b[0m\u001b[1m(\u001b[0m\u001b[1m[\u001b[0m\u001b[1m[\u001b[0m \u001b[1;36m0\u001b[0m.,  \u001b[1;36m0\u001b[0m.,  \u001b[1;36m0\u001b[0m.,  \u001b[1;36m0\u001b[0m.,  \u001b[1;36m0\u001b[0m.,  \u001b[1;36m0\u001b[0m.,  \u001b[1;36m0\u001b[0m.,  \u001b[1;36m0\u001b[0m.,  \u001b[1;36m0\u001b[0m.,  \u001b[1;36m0\u001b[0m., \u001b[1;36m10\u001b[0m.\u001b[1m]\u001b[0m,\n",
       "        \u001b[1m[\u001b[0m \u001b[1;36m0\u001b[0m.,  \u001b[1;36m0\u001b[0m.,  \u001b[1;36m0\u001b[0m.,  \u001b[1;36m0\u001b[0m.,  \u001b[1;36m0\u001b[0m.,  \u001b[1;36m0\u001b[0m.,  \u001b[1;36m0\u001b[0m.,  \u001b[1;36m0\u001b[0m.,  \u001b[1;36m0\u001b[0m.,  \u001b[1;36m0\u001b[0m., \u001b[1;36m10\u001b[0m.\u001b[1m]\u001b[0m\u001b[1m]\u001b[0m\u001b[1m)\u001b[0m\n"
      ]
     },
     "metadata": {},
     "output_type": "display_data"
    },
    {
     "data": {
      "text/html": [
       "<pre style=\"white-space:pre;overflow-x:auto;line-height:normal;font-family:Menlo,'DejaVu Sans Mono',consolas,'Courier New',monospace\"><span style=\"color: #008080; text-decoration-color: #008080; font-weight: bold\">11</span>\n",
       "</pre>\n"
      ],
      "text/plain": [
       "\u001b[1;36m11\u001b[0m\n"
      ]
     },
     "metadata": {},
     "output_type": "display_data"
    },
    {
     "data": {
      "text/html": [
       "<pre style=\"white-space:pre;overflow-x:auto;line-height:normal;font-family:Menlo,'DejaVu Sans Mono',consolas,'Courier New',monospace\"><span style=\"color: #800080; text-decoration-color: #800080; font-weight: bold\">tensor</span><span style=\"font-weight: bold\">([[</span><span style=\"color: #008080; text-decoration-color: #008080; font-weight: bold\">1.3233</span>, <span style=\"color: #008080; text-decoration-color: #008080; font-weight: bold\">1.6338</span>, <span style=\"color: #008080; text-decoration-color: #008080; font-weight: bold\">2.0170</span>, <span style=\"color: #008080; text-decoration-color: #008080; font-weight: bold\">2.4901</span>, <span style=\"color: #008080; text-decoration-color: #008080; font-weight: bold\">3.0742</span>, <span style=\"color: #008080; text-decoration-color: #008080; font-weight: bold\">3.7953</span>, <span style=\"color: #008080; text-decoration-color: #008080; font-weight: bold\">3.5745</span>, <span style=\"color: #008080; text-decoration-color: #008080; font-weight: bold\">4.5364</span>, <span style=\"color: #008080; text-decoration-color: #008080; font-weight: bold\">5.7239</span>,\n",
       "         <span style=\"color: #008080; text-decoration-color: #008080; font-weight: bold\">7.1900</span>, <span style=\"color: #008080; text-decoration-color: #008080; font-weight: bold\">9.0000</span><span style=\"font-weight: bold\">]</span>,\n",
       "        <span style=\"font-weight: bold\">[</span><span style=\"color: #008080; text-decoration-color: #008080; font-weight: bold\">1.3233</span>, <span style=\"color: #008080; text-decoration-color: #008080; font-weight: bold\">1.6338</span>, <span style=\"color: #008080; text-decoration-color: #008080; font-weight: bold\">2.0170</span>, <span style=\"color: #008080; text-decoration-color: #008080; font-weight: bold\">2.4901</span>, <span style=\"color: #008080; text-decoration-color: #008080; font-weight: bold\">3.0742</span>, <span style=\"color: #008080; text-decoration-color: #008080; font-weight: bold\">3.7953</span>, <span style=\"color: #008080; text-decoration-color: #008080; font-weight: bold\">3.5745</span>, <span style=\"color: #008080; text-decoration-color: #008080; font-weight: bold\">4.5364</span>, <span style=\"color: #008080; text-decoration-color: #008080; font-weight: bold\">5.7239</span>,\n",
       "         <span style=\"color: #008080; text-decoration-color: #008080; font-weight: bold\">7.1900</span>, <span style=\"color: #008080; text-decoration-color: #008080; font-weight: bold\">9.0000</span><span style=\"font-weight: bold\">]])</span>\n",
       "</pre>\n"
      ],
      "text/plain": [
       "\u001b[1;35mtensor\u001b[0m\u001b[1m(\u001b[0m\u001b[1m[\u001b[0m\u001b[1m[\u001b[0m\u001b[1;36m1.3233\u001b[0m, \u001b[1;36m1.6338\u001b[0m, \u001b[1;36m2.0170\u001b[0m, \u001b[1;36m2.4901\u001b[0m, \u001b[1;36m3.0742\u001b[0m, \u001b[1;36m3.7953\u001b[0m, \u001b[1;36m3.5745\u001b[0m, \u001b[1;36m4.5364\u001b[0m, \u001b[1;36m5.7239\u001b[0m,\n",
       "         \u001b[1;36m7.1900\u001b[0m, \u001b[1;36m9.0000\u001b[0m\u001b[1m]\u001b[0m,\n",
       "        \u001b[1m[\u001b[0m\u001b[1;36m1.3233\u001b[0m, \u001b[1;36m1.6338\u001b[0m, \u001b[1;36m2.0170\u001b[0m, \u001b[1;36m2.4901\u001b[0m, \u001b[1;36m3.0742\u001b[0m, \u001b[1;36m3.7953\u001b[0m, \u001b[1;36m3.5745\u001b[0m, \u001b[1;36m4.5364\u001b[0m, \u001b[1;36m5.7239\u001b[0m,\n",
       "         \u001b[1;36m7.1900\u001b[0m, \u001b[1;36m9.0000\u001b[0m\u001b[1m]\u001b[0m\u001b[1m]\u001b[0m\u001b[1m)\u001b[0m\n"
      ]
     },
     "metadata": {},
     "output_type": "display_data"
    }
   ],
   "source": [
    "def get_GAE(rewards, mask, values, gamma, lam):\n",
    "    lastgaelam = 0\n",
    "    advantages_reversed = []\n",
    "    gen_len = rewards.shape[-1]\n",
    "    print(gen_len)\n",
    "\n",
    "    values = values * mask\n",
    "    rewards = rewards * mask\n",
    "\n",
    "    for t in reversed(range(gen_len)):\n",
    "        nextvalues = values[:, t + 1] if t < gen_len - 1 else 0.0\n",
    "        delta = rewards[:, t] + gamma * nextvalues - values[:, t]\n",
    "        lastgaelam = delta + gamma * lam * lastgaelam\n",
    "        advantages_reversed.append(lastgaelam)\n",
    "    advantages = torch.stack(advantages_reversed[::-1]).transpose(0, 1)\n",
    "    return advantages\n",
    "\n",
    "\n",
    "# for oberserve gae data\n",
    "mini_batchs = ppo_batchs.copy()\n",
    "tmp_reward = torch.ones_like(mini_batchs['rewards_kl']) * 10.0\n",
    "tmp_reward[:, :-1] = 0.0\n",
    "print(tmp_reward)\n",
    "tmp_value = torch.ones_like(mini_batchs['values_old']) * 0.0\n",
    "\n",
    "result = get_GAE(tmp_reward,\n",
    "                 mini_batchs['mask'],\n",
    "                 tmp_value,\n",
    "                 0.9,\n",
    "                 0.9)\n",
    "print(result)\n",
    "\n",
    "\n",
    "# for oberserve gae data\n",
    "mini_batchs = ppo_batchs.copy()\n",
    "print(mini_batchs['rewards_kl'])\n",
    "tmp_reward = torch.ones_like(mini_batchs['rewards_kl']) * 10.0\n",
    "tmp_reward[:, :-1] = 0.0\n",
    "print(tmp_reward)\n",
    "tmp_value = torch.ones_like(mini_batchs['values_old']) * 1.0\n",
    "\n",
    "result = get_GAE(tmp_reward,\n",
    "                 mini_batchs['mask'],\n",
    "                 tmp_value,\n",
    "                 0.9,\n",
    "                 0.9)\n",
    "print(result)"
   ]
  },
  {
   "cell_type": "code",
   "execution_count": 37,
   "id": "65603e1b-071c-42ce-b0ac-75f31e82424f",
   "metadata": {},
   "outputs": [
    {
     "data": {
      "text/html": [
       "<pre style=\"white-space:pre;overflow-x:auto;line-height:normal;font-family:Menlo,'DejaVu Sans Mono',consolas,'Courier New',monospace\"><span style=\"color: #008080; text-decoration-color: #008080; font-weight: bold\">11</span>\n",
       "</pre>\n"
      ],
      "text/plain": [
       "\u001b[1;36m11\u001b[0m\n"
      ]
     },
     "metadata": {},
     "output_type": "display_data"
    },
    {
     "data": {
      "text/html": [
       "<pre style=\"white-space:pre;overflow-x:auto;line-height:normal;font-family:Menlo,'DejaVu Sans Mono',consolas,'Courier New',monospace\"><span style=\"color: #800080; text-decoration-color: #800080; font-weight: bold\">tensor</span><span style=\"font-weight: bold\">([[</span> <span style=\"color: #008080; text-decoration-color: #008080; font-weight: bold\">1.4768e-01</span>,  <span style=\"color: #008080; text-decoration-color: #008080; font-weight: bold\">1.8232e-01</span>,  <span style=\"color: #008080; text-decoration-color: #008080; font-weight: bold\">2.2508e-01</span>,  <span style=\"color: #008080; text-decoration-color: #008080; font-weight: bold\">2.7788e-01</span>,  <span style=\"color: #008080; text-decoration-color: #008080; font-weight: bold\">3.4306e-01</span>,\n",
       "          <span style=\"color: #008080; text-decoration-color: #008080; font-weight: bold\">4.2353e-01</span>, <span style=\"color: #008080; text-decoration-color: #008080; font-weight: bold\">-1.3861e+00</span>, <span style=\"color: #008080; text-decoration-color: #008080; font-weight: bold\">-8.7015e-01</span>, <span style=\"color: #008080; text-decoration-color: #008080; font-weight: bold\">-1.3777e+00</span>, <span style=\"color: #008080; text-decoration-color: #008080; font-weight: bold\">-1.1611e+00</span>,\n",
       "         <span style=\"color: #008080; text-decoration-color: #008080; font-weight: bold\">-1.0671e+00</span><span style=\"font-weight: bold\">]</span>,\n",
       "        <span style=\"font-weight: bold\">[</span> <span style=\"color: #008080; text-decoration-color: #008080; font-weight: bold\">4.4890e-04</span>,  <span style=\"color: #008080; text-decoration-color: #008080; font-weight: bold\">5.5420e-04</span>,  <span style=\"color: #008080; text-decoration-color: #008080; font-weight: bold\">6.8420e-04</span>,  <span style=\"color: #008080; text-decoration-color: #008080; font-weight: bold\">8.4469e-04</span>,  <span style=\"color: #008080; text-decoration-color: #008080; font-weight: bold\">1.0428e-03</span>,\n",
       "          <span style=\"color: #008080; text-decoration-color: #008080; font-weight: bold\">1.2874e-03</span>,  <span style=\"color: #008080; text-decoration-color: #008080; font-weight: bold\">1.3593e-01</span>, <span style=\"color: #008080; text-decoration-color: #008080; font-weight: bold\">-1.7887e-02</span>,  <span style=\"color: #008080; text-decoration-color: #008080; font-weight: bold\">3.1078e-01</span>, <span style=\"color: #008080; text-decoration-color: #008080; font-weight: bold\">-2.2783e-01</span>,\n",
       "         <span style=\"color: #008080; text-decoration-color: #008080; font-weight: bold\">-2.5848e-01</span><span style=\"font-weight: bold\">]]</span>, <span style=\"color: #808000; text-decoration-color: #808000\">grad_fn</span>=<span style=\"font-weight: bold\">&lt;</span><span style=\"color: #ff00ff; text-decoration-color: #ff00ff; font-weight: bold\">TransposeBackward0</span><span style=\"font-weight: bold\">&gt;)</span>\n",
       "</pre>\n"
      ],
      "text/plain": [
       "\u001b[1;35mtensor\u001b[0m\u001b[1m(\u001b[0m\u001b[1m[\u001b[0m\u001b[1m[\u001b[0m \u001b[1;36m1.4768e-01\u001b[0m,  \u001b[1;36m1.8232e-01\u001b[0m,  \u001b[1;36m2.2508e-01\u001b[0m,  \u001b[1;36m2.7788e-01\u001b[0m,  \u001b[1;36m3.4306e-01\u001b[0m,\n",
       "          \u001b[1;36m4.2353e-01\u001b[0m, \u001b[1;36m-1.3861e+00\u001b[0m, \u001b[1;36m-8.7015e-01\u001b[0m, \u001b[1;36m-1.3777e+00\u001b[0m, \u001b[1;36m-1.1611e+00\u001b[0m,\n",
       "         \u001b[1;36m-1.0671e+00\u001b[0m\u001b[1m]\u001b[0m,\n",
       "        \u001b[1m[\u001b[0m \u001b[1;36m4.4890e-04\u001b[0m,  \u001b[1;36m5.5420e-04\u001b[0m,  \u001b[1;36m6.8420e-04\u001b[0m,  \u001b[1;36m8.4469e-04\u001b[0m,  \u001b[1;36m1.0428e-03\u001b[0m,\n",
       "          \u001b[1;36m1.2874e-03\u001b[0m,  \u001b[1;36m1.3593e-01\u001b[0m, \u001b[1;36m-1.7887e-02\u001b[0m,  \u001b[1;36m3.1078e-01\u001b[0m, \u001b[1;36m-2.2783e-01\u001b[0m,\n",
       "         \u001b[1;36m-2.5848e-01\u001b[0m\u001b[1m]\u001b[0m\u001b[1m]\u001b[0m, \u001b[33mgrad_fn\u001b[0m=\u001b[1m<\u001b[0m\u001b[1;95mTransposeBackward0\u001b[0m\u001b[1m>\u001b[0m\u001b[1m)\u001b[0m\n"
      ]
     },
     "metadata": {},
     "output_type": "display_data"
    }
   ],
   "source": [
    "# use mini_batchs data\n",
    "mini_batchs = ppo_batchs.copy()\n",
    "GAE = get_GAE(mini_batchs['rewards_kl'],\n",
    "              mini_batchs['mask'],\n",
    "              mini_batchs['values'],\n",
    "              ppo_config.gamma,\n",
    "              ppo_config.lam)\n",
    "print(GAE)"
   ]
  },
  {
   "cell_type": "markdown",
   "id": "569e799c-ca2c-4c74-ba13-66602aa7915a",
   "metadata": {},
   "source": [
    "#### Get Critic Value loss"
   ]
  },
  {
   "cell_type": "code",
   "execution_count": 38,
   "id": "05b8c2db-b527-4d18-b56c-2228658c39ac",
   "metadata": {},
   "outputs": [
    {
     "data": {
      "text/html": [
       "<pre style=\"white-space:pre;overflow-x:auto;line-height:normal;font-family:Menlo,'DejaVu Sans Mono',consolas,'Courier New',monospace\"><span style=\"color: #800080; text-decoration-color: #800080; font-weight: bold\">tensor</span><span style=\"font-weight: bold\">(</span><span style=\"color: #008080; text-decoration-color: #008080; font-weight: bold\">0.3918</span>, <span style=\"color: #808000; text-decoration-color: #808000\">grad_fn</span>=<span style=\"font-weight: bold\">&lt;</span><span style=\"color: #ff00ff; text-decoration-color: #ff00ff; font-weight: bold\">MulBackward0</span><span style=\"font-weight: bold\">&gt;)</span>\n",
       "</pre>\n"
      ],
      "text/plain": [
       "\u001b[1;35mtensor\u001b[0m\u001b[1m(\u001b[0m\u001b[1;36m0.3918\u001b[0m, \u001b[33mgrad_fn\u001b[0m=\u001b[1m<\u001b[0m\u001b[1;95mMulBackward0\u001b[0m\u001b[1m>\u001b[0m\u001b[1m)\u001b[0m\n"
      ]
     },
     "metadata": {},
     "output_type": "display_data"
    }
   ],
   "source": [
    "def masked_mean(values, mask, axis=None):\n",
    "    if axis is not None:\n",
    "        return (values * mask).sum(axis=axis) / mask.sum(axis=axis)\n",
    "    else:\n",
    "        return (values * mask).sum() / mask.sum()\n",
    "\n",
    "\n",
    "def clip_by_value(x, tensor_min, tensor_max):\n",
    "    clipped = torch.max(torch.min(x, tensor_max), tensor_min)\n",
    "    return clipped\n",
    "\n",
    "\n",
    "def get_value_loss(advantages, values, values_old, mask, cliprange_value):\n",
    "    returns = advantages + values_old\n",
    "    advantages = advantages.detach()\n",
    "    vpredclipped = clip_by_value(\n",
    "        values,\n",
    "        values_old - cliprange_value,\n",
    "        values_old + cliprange_value,\n",
    "    )\n",
    "\n",
    "    vf_losses1 = (values - returns) ** 2\n",
    "    vf_losses2 = (vpredclipped - returns) ** 2\n",
    "\n",
    "    # print(\"vf_losses2:\", vf_losses2)\n",
    "    vf_loss = 0.5 * masked_mean(torch.max(vf_losses1, vf_losses2), mask)\n",
    "    vf_clipfrac = masked_mean(torch.gt(vf_losses2, vf_losses1).float(), mask)\n",
    "    return vf_loss\n",
    "\n",
    "\n",
    "vf_loss = get_value_loss(GAE,\n",
    "                         mini_batchs['values'],\n",
    "                         mini_batchs['values_old'],\n",
    "                         mini_batchs['mask'],\n",
    "                         ppo_config.cliprange_value)\n",
    "print(vf_loss)"
   ]
  },
  {
   "cell_type": "markdown",
   "id": "683da839-fba9-414d-8eba-a6a33425a7c5",
   "metadata": {},
   "source": [
    "#### Get Policy loss"
   ]
  },
  {
   "cell_type": "code",
   "execution_count": 39,
   "id": "dc39c972-1e70-4ca5-aa8b-0adeb88dc38d",
   "metadata": {},
   "outputs": [
    {
     "data": {
      "text/html": [
       "<pre style=\"white-space:pre;overflow-x:auto;line-height:normal;font-family:Menlo,'DejaVu Sans Mono',consolas,'Courier New',monospace\"><span style=\"color: #800080; text-decoration-color: #800080; font-weight: bold\">tensor</span><span style=\"font-weight: bold\">(</span><span style=\"color: #008080; text-decoration-color: #008080; font-weight: bold\">0.5920</span>, <span style=\"color: #808000; text-decoration-color: #808000\">grad_fn</span>=<span style=\"font-weight: bold\">&lt;</span><span style=\"color: #ff00ff; text-decoration-color: #ff00ff; font-weight: bold\">DivBackward0</span><span style=\"font-weight: bold\">&gt;)</span>\n",
       "</pre>\n"
      ],
      "text/plain": [
       "\u001b[1;35mtensor\u001b[0m\u001b[1m(\u001b[0m\u001b[1;36m0.5920\u001b[0m, \u001b[33mgrad_fn\u001b[0m=\u001b[1m<\u001b[0m\u001b[1;95mDivBackward0\u001b[0m\u001b[1m>\u001b[0m\u001b[1m)\u001b[0m\n"
      ]
     },
     "metadata": {},
     "output_type": "display_data"
    }
   ],
   "source": [
    "def get_policy_loss(logprobs, lobprobs_old, advantages, mask, cliprange):\n",
    "    ratio = torch.exp(logprobs - lobprobs_old)\n",
    "\n",
    "    pg_losses = -advantages * ratio\n",
    "    pg_losses2 = -advantages * \\\n",
    "        torch.clamp(ratio, 1.0 - cliprange, 1.0 + cliprange)\n",
    "\n",
    "    pg_loss = masked_mean(torch.max(pg_losses, pg_losses2), mask)\n",
    "    pg_clipfrac = masked_mean(torch.gt(pg_losses2, pg_losses).float(), mask)\n",
    "    return pg_loss\n",
    "\n",
    "\n",
    "pg_loss = get_policy_loss(mini_batchs['logprobs'],\n",
    "                          mini_batchs['logprobs_old'],\n",
    "                          GAE,\n",
    "                          mini_batchs['mask'],\n",
    "                          ppo_config.cliprange,)\n",
    "print(pg_loss)"
   ]
  },
  {
   "cell_type": "markdown",
   "id": "e4d38f61-a7dc-4b21-83f1-da218c3050ee",
   "metadata": {},
   "source": [
    "#### Get Entropy loss"
   ]
  },
  {
   "cell_type": "code",
   "execution_count": 40,
   "id": "dc68ceb3-bb79-4c95-aac7-0937adc93ecb",
   "metadata": {},
   "outputs": [
    {
     "data": {
      "text/html": [
       "<pre style=\"white-space:pre;overflow-x:auto;line-height:normal;font-family:Menlo,'DejaVu Sans Mono',consolas,'Courier New',monospace\"><span style=\"color: #800080; text-decoration-color: #800080; font-weight: bold\">tensor</span><span style=\"font-weight: bold\">([[</span><span style=\"color: #008080; text-decoration-color: #008080; font-weight: bold\">3.4332</span>, <span style=\"color: #008080; text-decoration-color: #008080; font-weight: bold\">3.4250</span>, <span style=\"color: #008080; text-decoration-color: #008080; font-weight: bold\">3.4069</span>, <span style=\"color: #008080; text-decoration-color: #008080; font-weight: bold\">3.4029</span>, <span style=\"color: #008080; text-decoration-color: #008080; font-weight: bold\">3.4065</span>, <span style=\"color: #008080; text-decoration-color: #008080; font-weight: bold\">3.3979</span>, <span style=\"color: #008080; text-decoration-color: #008080; font-weight: bold\">3.4009</span>, <span style=\"color: #008080; text-decoration-color: #008080; font-weight: bold\">3.4084</span>, <span style=\"color: #008080; text-decoration-color: #008080; font-weight: bold\">3.4109</span>,\n",
       "         <span style=\"color: #008080; text-decoration-color: #008080; font-weight: bold\">3.4030</span>, <span style=\"color: #008080; text-decoration-color: #008080; font-weight: bold\">3.4119</span><span style=\"font-weight: bold\">]</span>,\n",
       "        <span style=\"font-weight: bold\">[</span><span style=\"color: #008080; text-decoration-color: #008080; font-weight: bold\">3.4266</span>, <span style=\"color: #008080; text-decoration-color: #008080; font-weight: bold\">3.4265</span>, <span style=\"color: #008080; text-decoration-color: #008080; font-weight: bold\">3.4223</span>, <span style=\"color: #008080; text-decoration-color: #008080; font-weight: bold\">3.4235</span>, <span style=\"color: #008080; text-decoration-color: #008080; font-weight: bold\">3.4291</span>, <span style=\"color: #008080; text-decoration-color: #008080; font-weight: bold\">3.4290</span>, <span style=\"color: #008080; text-decoration-color: #008080; font-weight: bold\">3.4217</span>, <span style=\"color: #008080; text-decoration-color: #008080; font-weight: bold\">3.4281</span>, <span style=\"color: #008080; text-decoration-color: #008080; font-weight: bold\">3.4214</span>,\n",
       "         <span style=\"color: #008080; text-decoration-color: #008080; font-weight: bold\">3.4151</span>, <span style=\"color: #008080; text-decoration-color: #008080; font-weight: bold\">3.4233</span><span style=\"font-weight: bold\">]]</span>, <span style=\"color: #808000; text-decoration-color: #808000\">grad_fn</span>=<span style=\"font-weight: bold\">&lt;</span><span style=\"color: #ff00ff; text-decoration-color: #ff00ff; font-weight: bold\">SubBackward0</span><span style=\"font-weight: bold\">&gt;)</span>\n",
       "</pre>\n"
      ],
      "text/plain": [
       "\u001b[1;35mtensor\u001b[0m\u001b[1m(\u001b[0m\u001b[1m[\u001b[0m\u001b[1m[\u001b[0m\u001b[1;36m3.4332\u001b[0m, \u001b[1;36m3.4250\u001b[0m, \u001b[1;36m3.4069\u001b[0m, \u001b[1;36m3.4029\u001b[0m, \u001b[1;36m3.4065\u001b[0m, \u001b[1;36m3.3979\u001b[0m, \u001b[1;36m3.4009\u001b[0m, \u001b[1;36m3.4084\u001b[0m, \u001b[1;36m3.4109\u001b[0m,\n",
       "         \u001b[1;36m3.4030\u001b[0m, \u001b[1;36m3.4119\u001b[0m\u001b[1m]\u001b[0m,\n",
       "        \u001b[1m[\u001b[0m\u001b[1;36m3.4266\u001b[0m, \u001b[1;36m3.4265\u001b[0m, \u001b[1;36m3.4223\u001b[0m, \u001b[1;36m3.4235\u001b[0m, \u001b[1;36m3.4291\u001b[0m, \u001b[1;36m3.4290\u001b[0m, \u001b[1;36m3.4217\u001b[0m, \u001b[1;36m3.4281\u001b[0m, \u001b[1;36m3.4214\u001b[0m,\n",
       "         \u001b[1;36m3.4151\u001b[0m, \u001b[1;36m3.4233\u001b[0m\u001b[1m]\u001b[0m\u001b[1m]\u001b[0m, \u001b[33mgrad_fn\u001b[0m=\u001b[1m<\u001b[0m\u001b[1;95mSubBackward0\u001b[0m\u001b[1m>\u001b[0m\u001b[1m)\u001b[0m\n"
      ]
     },
     "metadata": {},
     "output_type": "display_data"
    }
   ],
   "source": [
    "def get_entropy_loss(logits, mask):\n",
    "    pd = torch.nn.functional.softmax(logits, dim=-1)\n",
    "    entropy = torch.logsumexp(logits, axis=-1) - \\\n",
    "        torch.sum(pd * logits, axis=-1)\n",
    "    return entropy\n",
    "\n",
    "\n",
    "entropy = get_entropy_loss(mini_batchs['logits'], mini_batchs['mask'])\n",
    "print(entropy)"
   ]
  },
  {
   "cell_type": "markdown",
   "id": "03f773f7-160a-4093-af2e-c52ec670dbd6",
   "metadata": {},
   "source": [
    "### gather all loss"
   ]
  },
  {
   "cell_type": "code",
   "execution_count": 41,
   "id": "c70c4eff-e963-4537-a3c8-9de497f7d07f",
   "metadata": {},
   "outputs": [
    {
     "data": {
      "text/html": [
       "<pre style=\"white-space:pre;overflow-x:auto;line-height:normal;font-family:Menlo,'DejaVu Sans Mono',consolas,'Courier New',monospace\"><span style=\"color: #008080; text-decoration-color: #008080; font-weight: bold\">11</span>\n",
       "</pre>\n"
      ],
      "text/plain": [
       "\u001b[1;36m11\u001b[0m\n"
      ]
     },
     "metadata": {},
     "output_type": "display_data"
    },
    {
     "data": {
      "text/html": [
       "<pre style=\"white-space:pre;overflow-x:auto;line-height:normal;font-family:Menlo,'DejaVu Sans Mono',consolas,'Courier New',monospace\"><span style=\"color: #800080; text-decoration-color: #800080; font-weight: bold\">tensor</span><span style=\"font-weight: bold\">(</span><span style=\"color: #008080; text-decoration-color: #008080; font-weight: bold\">0.5959</span>, <span style=\"color: #808000; text-decoration-color: #808000\">grad_fn</span>=<span style=\"font-weight: bold\">&lt;</span><span style=\"color: #ff00ff; text-decoration-color: #ff00ff; font-weight: bold\">AddBackward0</span><span style=\"font-weight: bold\">&gt;)</span>\n",
       "</pre>\n"
      ],
      "text/plain": [
       "\u001b[1;35mtensor\u001b[0m\u001b[1m(\u001b[0m\u001b[1;36m0.5959\u001b[0m, \u001b[33mgrad_fn\u001b[0m=\u001b[1m<\u001b[0m\u001b[1;95mAddBackward0\u001b[0m\u001b[1m>\u001b[0m\u001b[1m)\u001b[0m\n"
      ]
     },
     "metadata": {},
     "output_type": "display_data"
    }
   ],
   "source": [
    "def compute_loss(mini_batchs, ppo_config):\n",
    "\n",
    "    GAE = get_GAE(mini_batchs['rewards_kl'],\n",
    "                  mini_batchs['mask'],\n",
    "                  mini_batchs['values'],\n",
    "                  ppo_config.gamma,\n",
    "                  ppo_config.lam)\n",
    "\n",
    "    vl_loss = get_value_loss(GAE,\n",
    "                             mini_batchs['values'],\n",
    "                             mini_batchs['values_old'],\n",
    "                             mini_batchs['mask'],\n",
    "                             ppo_config.cliprange_value)\n",
    "\n",
    "    pg_loss = get_policy_loss(mini_batchs['logprobs'],\n",
    "                              mini_batchs['logprobs_old'],\n",
    "                              GAE,\n",
    "                              mini_batchs['mask'],\n",
    "                              ppo_config.cliprange,)\n",
    "\n",
    "    loss = pg_loss + ppo_config.vl_coef * vl_loss\n",
    "\n",
    "    return loss, pg_loss, vl_loss\n",
    "\n",
    "\n",
    "mini_batchs = ppo_batchs.copy()\n",
    "loss, _, _ = compute_loss(mini_batchs, ppo_config)\n",
    "print(loss)"
   ]
  }
 ],
 "metadata": {
  "kernelspec": {
   "display_name": "Python 3 (ipykernel)",
   "language": "python",
   "name": "python3"
  },
  "language_info": {
   "codemirror_mode": {
    "name": "ipython",
    "version": 3
   },
   "file_extension": ".py",
   "mimetype": "text/x-python",
   "name": "python",
   "nbconvert_exporter": "python",
   "pygments_lexer": "ipython3",
   "version": "3.9.18"
  }
 },
 "nbformat": 4,
 "nbformat_minor": 5
}
