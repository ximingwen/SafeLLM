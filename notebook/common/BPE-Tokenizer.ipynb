{
 "cells": [
  {
   "cell_type": "markdown",
   "id": "eb6a7093-c1fb-42a1-9839-0db0f75563d3",
   "metadata": {},
   "source": [
    "# BPE Tokenizer"
   ]
  },
  {
   "cell_type": "markdown",
   "id": "d7c1d38d-112f-4222-9218-9383be2fc91f",
   "metadata": {},
   "source": [
    "## utils"
   ]
  },
  {
   "cell_type": "code",
   "execution_count": 27,
   "id": "51afdcaa-3a43-42c6-b813-ce59ec387b52",
   "metadata": {},
   "outputs": [
    {
     "data": {
      "text/html": [
       "<pre style=\"white-space:pre;overflow-x:auto;line-height:normal;font-family:Menlo,'DejaVu Sans Mono',consolas,'Courier New',monospace\">get stats\n",
       "</pre>\n"
      ],
      "text/plain": [
       "get stats\n"
      ]
     },
     "metadata": {},
     "output_type": "display_data"
    },
    {
     "data": {
      "text/html": [
       "<pre style=\"white-space:pre;overflow-x:auto;line-height:normal;font-family:Menlo,'DejaVu Sans Mono',consolas,'Courier New',monospace\"><span style=\"font-weight: bold\">{(</span><span style=\"color: #008080; text-decoration-color: #008080; font-weight: bold\">1</span>, <span style=\"color: #008080; text-decoration-color: #008080; font-weight: bold\">2</span><span style=\"font-weight: bold\">)</span>: <span style=\"color: #008080; text-decoration-color: #008080; font-weight: bold\">2</span>, <span style=\"font-weight: bold\">(</span><span style=\"color: #008080; text-decoration-color: #008080; font-weight: bold\">2</span>, <span style=\"color: #008080; text-decoration-color: #008080; font-weight: bold\">3</span><span style=\"font-weight: bold\">)</span>: <span style=\"color: #008080; text-decoration-color: #008080; font-weight: bold\">1</span>, <span style=\"font-weight: bold\">(</span><span style=\"color: #008080; text-decoration-color: #008080; font-weight: bold\">3</span>, <span style=\"color: #008080; text-decoration-color: #008080; font-weight: bold\">1</span><span style=\"font-weight: bold\">)</span>: <span style=\"color: #008080; text-decoration-color: #008080; font-weight: bold\">1</span><span style=\"font-weight: bold\">}</span>\n",
       "</pre>\n"
      ],
      "text/plain": [
       "\u001b[1m{\u001b[0m\u001b[1m(\u001b[0m\u001b[1;36m1\u001b[0m, \u001b[1;36m2\u001b[0m\u001b[1m)\u001b[0m: \u001b[1;36m2\u001b[0m, \u001b[1m(\u001b[0m\u001b[1;36m2\u001b[0m, \u001b[1;36m3\u001b[0m\u001b[1m)\u001b[0m: \u001b[1;36m1\u001b[0m, \u001b[1m(\u001b[0m\u001b[1;36m3\u001b[0m, \u001b[1;36m1\u001b[0m\u001b[1m)\u001b[0m: \u001b[1;36m1\u001b[0m\u001b[1m}\u001b[0m\n"
      ]
     },
     "metadata": {},
     "output_type": "display_data"
    }
   ],
   "source": [
    "def get_stats(ids, counts=None):\n",
    "    counts = {} if counts is None else counts\n",
    "    for pair in zip(ids, ids[1:]): # iterate consecutive elements\n",
    "        counts[pair] = counts.get(pair, 0) + 1\n",
    "    return counts\n",
    "print('get stats')\n",
    "example = [1, 2, 3, 1, 2] # token id 序列\n",
    "counts = get_stats(example)\n",
    "print(counts) # 相邻token出现频次"
   ]
  },
  {
   "cell_type": "code",
   "execution_count": 28,
   "id": "30882593-d8f2-4614-8eff-cc94ea8132e8",
   "metadata": {},
   "outputs": [
    {
     "data": {
      "text/html": [
       "<pre style=\"white-space:pre;overflow-x:auto;line-height:normal;font-family:Menlo,'DejaVu Sans Mono',consolas,'Courier New',monospace\"><span style=\"font-weight: bold\">[</span><span style=\"color: #008080; text-decoration-color: #008080; font-weight: bold\">4</span>, <span style=\"color: #008080; text-decoration-color: #008080; font-weight: bold\">3</span>, <span style=\"color: #008080; text-decoration-color: #008080; font-weight: bold\">4</span><span style=\"font-weight: bold\">]</span>\n",
       "</pre>\n"
      ],
      "text/plain": [
       "\u001b[1m[\u001b[0m\u001b[1;36m4\u001b[0m, \u001b[1;36m3\u001b[0m, \u001b[1;36m4\u001b[0m\u001b[1m]\u001b[0m\n"
      ]
     },
     "metadata": {},
     "output_type": "display_data"
    }
   ],
   "source": [
    "def merge(ids, pair, idx):\n",
    "    newids = []\n",
    "    i = 0\n",
    "    while i < len(ids):\n",
    "        if ids[i] == pair[0] and i < len(ids) - 1 and ids[i+1] == pair[1]:\n",
    "            newids.append(idx)\n",
    "            i += 2 # 相邻两个token id 匹配上Pair, 那么就进行替换\n",
    "        else:\n",
    "            newids.append(ids[i])\n",
    "            i += 1\n",
    "    return newids\n",
    "ids=[1, 2, 3, 1, 2]\n",
    "pair=(1, 2)\n",
    "newids = merge(ids, pair, 4)\n",
    "print(newids)"
   ]
  },
  {
   "cell_type": "code",
   "execution_count": 29,
   "id": "7ad86ea6-0eff-44bb-9f18-d243f3ab4610",
   "metadata": {},
   "outputs": [
    {
     "data": {
      "text/html": [
       "<pre style=\"white-space:pre;overflow-x:auto;line-height:normal;font-family:Menlo,'DejaVu Sans Mono',consolas,'Courier New',monospace\"><span style=\"font-weight: bold\">{</span><span style=\"color: #008000; text-decoration-color: #008000\">'name'</span>: <span style=\"color: #008000; text-decoration-color: #008000\">'Charlie'</span>, <span style=\"color: #008000; text-decoration-color: #008000\">'age'</span>: <span style=\"color: #008080; text-decoration-color: #008080; font-weight: bold\">35</span><span style=\"font-weight: bold\">}</span>\n",
       "</pre>\n"
      ],
      "text/plain": [
       "\u001b[1m{\u001b[0m\u001b[32m'name'\u001b[0m: \u001b[32m'Charlie'\u001b[0m, \u001b[32m'age'\u001b[0m: \u001b[1;36m35\u001b[0m\u001b[1m}\u001b[0m\n"
      ]
     },
     "metadata": {},
     "output_type": "display_data"
    }
   ],
   "source": [
    "people = [\n",
    "    {'name': 'Alice', 'age': 30},\n",
    "    {'name': 'Bob', 'age': 25},\n",
    "    {'name': 'Charlie', 'age': 35}\n",
    "]\n",
    "oldest = max(people, key=lambda person: person['age'])\n",
    "print(oldest)"
   ]
  },
  {
   "cell_type": "markdown",
   "id": "6ec6750c-fc5c-441e-8b37-e4201e2940dd",
   "metadata": {},
   "source": [
    "## Dummy text"
   ]
  },
  {
   "cell_type": "code",
   "execution_count": 30,
   "id": "e7bc01a0-3aa8-4173-98b9-00496578bc05",
   "metadata": {},
   "outputs": [
    {
     "data": {
      "text/html": [
       "<pre style=\"white-space:pre;overflow-x:auto;line-height:normal;font-family:Menlo,'DejaVu Sans Mono',consolas,'Courier New',monospace\"><span style=\"color: #008080; text-decoration-color: #008080; font-weight: bold\">347</span>\n",
       "</pre>\n"
      ],
      "text/plain": [
       "\u001b[1;36m347\u001b[0m\n"
      ]
     },
     "metadata": {},
     "output_type": "display_data"
    }
   ],
   "source": [
    "text = '''   \n",
    "Large Language Models is all you need,\n",
    "what can i say, manba out. \n",
    "Attention is All you need.\n",
    "Vision Transformers, \n",
    "Generative Pretrained Transformers,\n",
    "Reinforcement leraning from human feedback\n",
    "chain of thought is basic resoning tool.\n",
    "LLMs can evaluate NLP results.\n",
    "Richard Sutton Refinforcement Learning Introduction edition 2.\n",
    "encoder-only\n",
    "'''\n",
    "\n",
    "text_bytes = text.encode(\"utf-8\") # raw bytes\n",
    "ids = list(text_bytes) # list of integers in range 0..255\n",
    "print(len(ids))"
   ]
  },
  {
   "cell_type": "code",
   "execution_count": 31,
   "id": "10aa5f50-0112-4da3-98c8-53c4f22d6252",
   "metadata": {},
   "outputs": [
    {
     "data": {
      "text/html": [
       "<pre style=\"white-space:pre;overflow-x:auto;line-height:normal;font-family:Menlo,'DejaVu Sans Mono',consolas,'Courier New',monospace\"><span style=\"font-weight: bold\">{</span><span style=\"color: #008080; text-decoration-color: #008080; font-weight: bold\">0</span>: <span style=\"color: #008000; text-decoration-color: #008000\">b'\\x00'</span>, <span style=\"color: #008080; text-decoration-color: #008080; font-weight: bold\">1</span>: <span style=\"color: #008000; text-decoration-color: #008000\">b'\\x01'</span>, <span style=\"color: #008080; text-decoration-color: #008080; font-weight: bold\">2</span>: <span style=\"color: #008000; text-decoration-color: #008000\">b'\\x02'</span>, <span style=\"color: #008080; text-decoration-color: #008080; font-weight: bold\">3</span>: <span style=\"color: #008000; text-decoration-color: #008000\">b'\\x03'</span>, <span style=\"color: #008080; text-decoration-color: #008080; font-weight: bold\">4</span>: <span style=\"color: #008000; text-decoration-color: #008000\">b'\\x04'</span>, <span style=\"color: #008080; text-decoration-color: #008080; font-weight: bold\">5</span>: <span style=\"color: #008000; text-decoration-color: #008000\">b'\\x05'</span>, <span style=\"color: #008080; text-decoration-color: #008080; font-weight: bold\">6</span>: <span style=\"color: #008000; text-decoration-color: #008000\">b'\\x06'</span>, <span style=\"color: #008080; text-decoration-color: #008080; font-weight: bold\">7</span>: <span style=\"color: #008000; text-decoration-color: #008000\">b'\\x07'</span><span style=\"font-weight: bold\">}</span>\n",
       "</pre>\n"
      ],
      "text/plain": [
       "\u001b[1m{\u001b[0m\u001b[1;36m0\u001b[0m: \u001b[32mb'\\x00'\u001b[0m, \u001b[1;36m1\u001b[0m: \u001b[32mb'\\x01'\u001b[0m, \u001b[1;36m2\u001b[0m: \u001b[32mb'\\x02'\u001b[0m, \u001b[1;36m3\u001b[0m: \u001b[32mb'\\x03'\u001b[0m, \u001b[1;36m4\u001b[0m: \u001b[32mb'\\x04'\u001b[0m, \u001b[1;36m5\u001b[0m: \u001b[32mb'\\x05'\u001b[0m, \u001b[1;36m6\u001b[0m: \u001b[32mb'\\x06'\u001b[0m, \u001b[1;36m7\u001b[0m: \u001b[32mb'\\x07'\u001b[0m\u001b[1m}\u001b[0m\n"
      ]
     },
     "metadata": {},
     "output_type": "display_data"
    }
   ],
   "source": [
    "def build_vocab():\n",
    "    merges = {}\n",
    "    vocab = {idx: bytes([idx]) for idx in range(8)}\n",
    "    for (p0, p1), idx in merges.items():\n",
    "        vocab[idx] = vocab[p0] + vocab[p1]\n",
    "    return vocab\n",
    "\n",
    "print(build_vocab())"
   ]
  },
  {
   "cell_type": "markdown",
   "id": "c257ea10-413b-4ba9-921b-820c8fb44d10",
   "metadata": {},
   "source": [
    "## BPE tokenizer implemention"
   ]
  },
  {
   "cell_type": "code",
   "execution_count": 32,
   "id": "dd4013ff-bd57-46ca-a22e-e15a4c4a6310",
   "metadata": {},
   "outputs": [
    {
     "data": {
      "text/html": [
       "<pre style=\"white-space:pre;overflow-x:auto;line-height:normal;font-family:Menlo,'DejaVu Sans Mono',consolas,'Courier New',monospace\"><span style=\"color: #008000; text-decoration-color: #008000\">b'n '</span>\n",
       "</pre>\n"
      ],
      "text/plain": [
       "\u001b[32mb'n '\u001b[0m\n"
      ]
     },
     "metadata": {},
     "output_type": "display_data"
    },
    {
     "data": {
      "text/html": [
       "<pre style=\"white-space:pre;overflow-x:auto;line-height:normal;font-family:Menlo,'DejaVu Sans Mono',consolas,'Courier New',monospace\"><span style=\"color: #008000; text-decoration-color: #008000\">b'in'</span>\n",
       "</pre>\n"
      ],
      "text/plain": [
       "\u001b[32mb'in'\u001b[0m\n"
      ]
     },
     "metadata": {},
     "output_type": "display_data"
    },
    {
     "data": {
      "text/html": [
       "<pre style=\"white-space:pre;overflow-x:auto;line-height:normal;font-family:Menlo,'DejaVu Sans Mono',consolas,'Courier New',monospace\"><span style=\"color: #008000; text-decoration-color: #008000\">b'an'</span>\n",
       "</pre>\n"
      ],
      "text/plain": [
       "\u001b[32mb'an'\u001b[0m\n"
      ]
     },
     "metadata": {},
     "output_type": "display_data"
    },
    {
     "data": {
      "text/html": [
       "<pre style=\"white-space:pre;overflow-x:auto;line-height:normal;font-family:Menlo,'DejaVu Sans Mono',consolas,'Courier New',monospace\"><span style=\"color: #008000; text-decoration-color: #008000\">b's '</span>\n",
       "</pre>\n"
      ],
      "text/plain": [
       "\u001b[32mb's '\u001b[0m\n"
      ]
     },
     "metadata": {},
     "output_type": "display_data"
    },
    {
     "data": {
      "text/html": [
       "<pre style=\"white-space:pre;overflow-x:auto;line-height:normal;font-family:Menlo,'DejaVu Sans Mono',consolas,'Courier New',monospace\"><span style=\"color: #008000; text-decoration-color: #008000\">b'ed'</span>\n",
       "</pre>\n"
      ],
      "text/plain": [
       "\u001b[32mb'ed'\u001b[0m\n"
      ]
     },
     "metadata": {},
     "output_type": "display_data"
    },
    {
     "data": {
      "text/html": [
       "<pre style=\"white-space:pre;overflow-x:auto;line-height:normal;font-family:Menlo,'DejaVu Sans Mono',consolas,'Courier New',monospace\"><span style=\"color: #008000; text-decoration-color: #008000\">b'en'</span>\n",
       "</pre>\n"
      ],
      "text/plain": [
       "\u001b[32mb'en'\u001b[0m\n"
      ]
     },
     "metadata": {},
     "output_type": "display_data"
    },
    {
     "data": {
      "text/html": [
       "<pre style=\"white-space:pre;overflow-x:auto;line-height:normal;font-family:Menlo,'DejaVu Sans Mono',consolas,'Courier New',monospace\"><span style=\"color: #008000; text-decoration-color: #008000\">b'on '</span>\n",
       "</pre>\n"
      ],
      "text/plain": [
       "\u001b[32mb'on '\u001b[0m\n"
      ]
     },
     "metadata": {},
     "output_type": "display_data"
    },
    {
     "data": {
      "text/html": [
       "<pre style=\"white-space:pre;overflow-x:auto;line-height:normal;font-family:Menlo,'DejaVu Sans Mono',consolas,'Courier New',monospace\"><span style=\"color: #008000; text-decoration-color: #008000\">b'er'</span>\n",
       "</pre>\n"
      ],
      "text/plain": [
       "\u001b[32mb'er'\u001b[0m\n"
      ]
     },
     "metadata": {},
     "output_type": "display_data"
    },
    {
     "data": {
      "text/html": [
       "<pre style=\"white-space:pre;overflow-x:auto;line-height:normal;font-family:Menlo,'DejaVu Sans Mono',consolas,'Courier New',monospace\"><span style=\"color: #008000; text-decoration-color: #008000\">b'e '</span>\n",
       "</pre>\n"
      ],
      "text/plain": [
       "\u001b[32mb'e '\u001b[0m\n"
      ]
     },
     "metadata": {},
     "output_type": "display_data"
    },
    {
     "data": {
      "text/html": [
       "<pre style=\"white-space:pre;overflow-x:auto;line-height:normal;font-family:Menlo,'DejaVu Sans Mono',consolas,'Courier New',monospace\"><span style=\"color: #008000; text-decoration-color: #008000\">b'ou'</span>\n",
       "</pre>\n"
      ],
      "text/plain": [
       "\u001b[32mb'ou'\u001b[0m\n"
      ]
     },
     "metadata": {},
     "output_type": "display_data"
    },
    {
     "data": {
      "text/html": [
       "<pre style=\"white-space:pre;overflow-x:auto;line-height:normal;font-family:Menlo,'DejaVu Sans Mono',consolas,'Courier New',monospace\"><span style=\"font-weight: bold\">{</span>\n",
       "    <span style=\"font-weight: bold\">(</span><span style=\"color: #008080; text-decoration-color: #008080; font-weight: bold\">110</span>, <span style=\"color: #008080; text-decoration-color: #008080; font-weight: bold\">32</span><span style=\"font-weight: bold\">)</span>: <span style=\"color: #008080; text-decoration-color: #008080; font-weight: bold\">256</span>,\n",
       "    <span style=\"font-weight: bold\">(</span><span style=\"color: #008080; text-decoration-color: #008080; font-weight: bold\">105</span>, <span style=\"color: #008080; text-decoration-color: #008080; font-weight: bold\">110</span><span style=\"font-weight: bold\">)</span>: <span style=\"color: #008080; text-decoration-color: #008080; font-weight: bold\">257</span>,\n",
       "    <span style=\"font-weight: bold\">(</span><span style=\"color: #008080; text-decoration-color: #008080; font-weight: bold\">97</span>, <span style=\"color: #008080; text-decoration-color: #008080; font-weight: bold\">110</span><span style=\"font-weight: bold\">)</span>: <span style=\"color: #008080; text-decoration-color: #008080; font-weight: bold\">258</span>,\n",
       "    <span style=\"font-weight: bold\">(</span><span style=\"color: #008080; text-decoration-color: #008080; font-weight: bold\">115</span>, <span style=\"color: #008080; text-decoration-color: #008080; font-weight: bold\">32</span><span style=\"font-weight: bold\">)</span>: <span style=\"color: #008080; text-decoration-color: #008080; font-weight: bold\">259</span>,\n",
       "    <span style=\"font-weight: bold\">(</span><span style=\"color: #008080; text-decoration-color: #008080; font-weight: bold\">101</span>, <span style=\"color: #008080; text-decoration-color: #008080; font-weight: bold\">100</span><span style=\"font-weight: bold\">)</span>: <span style=\"color: #008080; text-decoration-color: #008080; font-weight: bold\">260</span>,\n",
       "    <span style=\"font-weight: bold\">(</span><span style=\"color: #008080; text-decoration-color: #008080; font-weight: bold\">101</span>, <span style=\"color: #008080; text-decoration-color: #008080; font-weight: bold\">110</span><span style=\"font-weight: bold\">)</span>: <span style=\"color: #008080; text-decoration-color: #008080; font-weight: bold\">261</span>,\n",
       "    <span style=\"font-weight: bold\">(</span><span style=\"color: #008080; text-decoration-color: #008080; font-weight: bold\">111</span>, <span style=\"color: #008080; text-decoration-color: #008080; font-weight: bold\">256</span><span style=\"font-weight: bold\">)</span>: <span style=\"color: #008080; text-decoration-color: #008080; font-weight: bold\">262</span>,\n",
       "    <span style=\"font-weight: bold\">(</span><span style=\"color: #008080; text-decoration-color: #008080; font-weight: bold\">101</span>, <span style=\"color: #008080; text-decoration-color: #008080; font-weight: bold\">114</span><span style=\"font-weight: bold\">)</span>: <span style=\"color: #008080; text-decoration-color: #008080; font-weight: bold\">263</span>,\n",
       "    <span style=\"font-weight: bold\">(</span><span style=\"color: #008080; text-decoration-color: #008080; font-weight: bold\">101</span>, <span style=\"color: #008080; text-decoration-color: #008080; font-weight: bold\">32</span><span style=\"font-weight: bold\">)</span>: <span style=\"color: #008080; text-decoration-color: #008080; font-weight: bold\">264</span>,\n",
       "    <span style=\"font-weight: bold\">(</span><span style=\"color: #008080; text-decoration-color: #008080; font-weight: bold\">111</span>, <span style=\"color: #008080; text-decoration-color: #008080; font-weight: bold\">117</span><span style=\"font-weight: bold\">)</span>: <span style=\"color: #008080; text-decoration-color: #008080; font-weight: bold\">265</span>\n",
       "<span style=\"font-weight: bold\">}</span>\n",
       "</pre>\n"
      ],
      "text/plain": [
       "\u001b[1m{\u001b[0m\n",
       "    \u001b[1m(\u001b[0m\u001b[1;36m110\u001b[0m, \u001b[1;36m32\u001b[0m\u001b[1m)\u001b[0m: \u001b[1;36m256\u001b[0m,\n",
       "    \u001b[1m(\u001b[0m\u001b[1;36m105\u001b[0m, \u001b[1;36m110\u001b[0m\u001b[1m)\u001b[0m: \u001b[1;36m257\u001b[0m,\n",
       "    \u001b[1m(\u001b[0m\u001b[1;36m97\u001b[0m, \u001b[1;36m110\u001b[0m\u001b[1m)\u001b[0m: \u001b[1;36m258\u001b[0m,\n",
       "    \u001b[1m(\u001b[0m\u001b[1;36m115\u001b[0m, \u001b[1;36m32\u001b[0m\u001b[1m)\u001b[0m: \u001b[1;36m259\u001b[0m,\n",
       "    \u001b[1m(\u001b[0m\u001b[1;36m101\u001b[0m, \u001b[1;36m100\u001b[0m\u001b[1m)\u001b[0m: \u001b[1;36m260\u001b[0m,\n",
       "    \u001b[1m(\u001b[0m\u001b[1;36m101\u001b[0m, \u001b[1;36m110\u001b[0m\u001b[1m)\u001b[0m: \u001b[1;36m261\u001b[0m,\n",
       "    \u001b[1m(\u001b[0m\u001b[1;36m111\u001b[0m, \u001b[1;36m256\u001b[0m\u001b[1m)\u001b[0m: \u001b[1;36m262\u001b[0m,\n",
       "    \u001b[1m(\u001b[0m\u001b[1;36m101\u001b[0m, \u001b[1;36m114\u001b[0m\u001b[1m)\u001b[0m: \u001b[1;36m263\u001b[0m,\n",
       "    \u001b[1m(\u001b[0m\u001b[1;36m101\u001b[0m, \u001b[1;36m32\u001b[0m\u001b[1m)\u001b[0m: \u001b[1;36m264\u001b[0m,\n",
       "    \u001b[1m(\u001b[0m\u001b[1;36m111\u001b[0m, \u001b[1;36m117\u001b[0m\u001b[1m)\u001b[0m: \u001b[1;36m265\u001b[0m\n",
       "\u001b[1m}\u001b[0m\n"
      ]
     },
     "metadata": {},
     "output_type": "display_data"
    }
   ],
   "source": [
    "INITIAL_VOCAB_SIZE = 256\n",
    "\n",
    "class BasicTokenizer():\n",
    "    def __init__(self):\n",
    "        # def __init__(self):\n",
    "        self.merges = {} # (int, int) -> int\n",
    "        self.vocab = self.build_vocab() # int -> bytes\n",
    "        \n",
    "    def build_vocab(self):\n",
    "        vocab = {idx: bytes([idx]) for idx in range(INITIAL_VOCAB_SIZE)}\n",
    "        for (p0, p1), idx in self.merges.items():\n",
    "            vocab[idx] = vocab[p0] + vocab[p1]\n",
    "        return vocab\n",
    "\n",
    "    def train(self, text, vocab_size, verbose=False):\n",
    "        assert vocab_size >= INITIAL_VOCAB_SIZE\n",
    "        num_merges = vocab_size - INITIAL_VOCAB_SIZE\n",
    "\n",
    "        text_bytes = text.encode(\"utf-8\") \n",
    "        ids = list(text_bytes) \n",
    "\n",
    "        merges = {} \n",
    "        # int -> bytes\n",
    "        vocab = {idx: bytes([idx]) for idx in range(INITIAL_VOCAB_SIZE)} \n",
    "        for i in range(num_merges):\n",
    "            stats = get_stats(ids)\n",
    "            # pair(2,3),    vocab[2]='te', vocab[3]='st'\n",
    "            pair = max(stats, key=stats.get)             \n",
    "            idx = 256 + i\n",
    "            ids = merge(ids, pair, idx)\n",
    "            merges[pair] = idx\n",
    "            \n",
    "            # 原来的词不会剔除，而是在基础词表上累加，如\n",
    "            # 'tr' 'tran' 'transf' \n",
    "            # vocab[new_id] = 'te' + 'st' -> vocab[4] = 'test'\n",
    "            vocab[idx] = vocab[pair[0]] + vocab[pair[1]] \n",
    "            \\\n",
    "        self.merges = merges # used in encode()\n",
    "        self.vocab = vocab   # used in decode()\n",
    "\n",
    "bpe = BasicTokenizer()\n",
    "bpe.train(text, vocab_size = 266)\n",
    "for i in range(256,266,1):\n",
    "    print(bpe.vocab[i])\n",
    "\n",
    "print(bpe.merges)"
   ]
  },
  {
   "cell_type": "markdown",
   "id": "9a7e64e2-4804-4e99-aba5-fb7e3c592db5",
   "metadata": {},
   "source": [
    "## BPE Encode "
   ]
  },
  {
   "cell_type": "code",
   "execution_count": 33,
   "id": "b380fc98-5619-4112-b78d-6f0450baf31e",
   "metadata": {},
   "outputs": [
    {
     "data": {
      "text/html": [
       "<pre style=\"white-space:pre;overflow-x:auto;line-height:normal;font-family:Menlo,'DejaVu Sans Mono',consolas,'Courier New',monospace\"><span style=\"font-weight: bold\">(</span><span style=\"color: #008080; text-decoration-color: #008080; font-weight: bold\">97</span>, <span style=\"color: #008080; text-decoration-color: #008080; font-weight: bold\">110</span><span style=\"font-weight: bold\">)</span>\n",
       "</pre>\n"
      ],
      "text/plain": [
       "\u001b[1m(\u001b[0m\u001b[1;36m97\u001b[0m, \u001b[1;36m110\u001b[0m\u001b[1m)\u001b[0m\n"
      ]
     },
     "metadata": {},
     "output_type": "display_data"
    },
    {
     "data": {
      "text/html": [
       "<pre style=\"white-space:pre;overflow-x:auto;line-height:normal;font-family:Menlo,'DejaVu Sans Mono',consolas,'Courier New',monospace\"><span style=\"color: #008000; text-decoration-color: #008000\">b'a'</span> <span style=\"color: #008000; text-decoration-color: #008000\">b'n'</span>\n",
       "</pre>\n"
      ],
      "text/plain": [
       "\u001b[32mb'a'\u001b[0m \u001b[32mb'n'\u001b[0m\n"
      ]
     },
     "metadata": {},
     "output_type": "display_data"
    },
    {
     "data": {
      "text/html": [
       "<pre style=\"white-space:pre;overflow-x:auto;line-height:normal;font-family:Menlo,'DejaVu Sans Mono',consolas,'Courier New',monospace\"><span style=\"font-weight: bold\">(</span><span style=\"color: #008080; text-decoration-color: #008080; font-weight: bold\">101</span>, <span style=\"color: #008080; text-decoration-color: #008080; font-weight: bold\">114</span><span style=\"font-weight: bold\">)</span>\n",
       "</pre>\n"
      ],
      "text/plain": [
       "\u001b[1m(\u001b[0m\u001b[1;36m101\u001b[0m, \u001b[1;36m114\u001b[0m\u001b[1m)\u001b[0m\n"
      ]
     },
     "metadata": {},
     "output_type": "display_data"
    },
    {
     "data": {
      "text/html": [
       "<pre style=\"white-space:pre;overflow-x:auto;line-height:normal;font-family:Menlo,'DejaVu Sans Mono',consolas,'Courier New',monospace\"><span style=\"color: #008000; text-decoration-color: #008000\">b'e'</span> <span style=\"color: #008000; text-decoration-color: #008000\">b'r'</span>\n",
       "</pre>\n"
      ],
      "text/plain": [
       "\u001b[32mb'e'\u001b[0m \u001b[32mb'r'\u001b[0m\n"
      ]
     },
     "metadata": {},
     "output_type": "display_data"
    },
    {
     "data": {
      "text/html": [
       "<pre style=\"white-space:pre;overflow-x:auto;line-height:normal;font-family:Menlo,'DejaVu Sans Mono',consolas,'Courier New',monospace\"><span style=\"font-weight: bold\">(</span><span style=\"color: #008080; text-decoration-color: #008080; font-weight: bold\">101</span>, <span style=\"color: #008080; text-decoration-color: #008080; font-weight: bold\">32</span><span style=\"font-weight: bold\">)</span>\n",
       "</pre>\n"
      ],
      "text/plain": [
       "\u001b[1m(\u001b[0m\u001b[1;36m101\u001b[0m, \u001b[1;36m32\u001b[0m\u001b[1m)\u001b[0m\n"
      ]
     },
     "metadata": {},
     "output_type": "display_data"
    },
    {
     "data": {
      "text/html": [
       "<pre style=\"white-space:pre;overflow-x:auto;line-height:normal;font-family:Menlo,'DejaVu Sans Mono',consolas,'Courier New',monospace\"><span style=\"color: #008000; text-decoration-color: #008000\">b'e'</span> <span style=\"color: #008000; text-decoration-color: #008000\">b' '</span>\n",
       "</pre>\n"
      ],
      "text/plain": [
       "\u001b[32mb'e'\u001b[0m \u001b[32mb' '\u001b[0m\n"
      ]
     },
     "metadata": {},
     "output_type": "display_data"
    },
    {
     "data": {
      "text/html": [
       "<pre style=\"white-space:pre;overflow-x:auto;line-height:normal;font-family:Menlo,'DejaVu Sans Mono',consolas,'Courier New',monospace\"><span style=\"font-weight: bold\">(</span><span style=\"color: #008080; text-decoration-color: #008080; font-weight: bold\">105</span>, <span style=\"color: #008080; text-decoration-color: #008080; font-weight: bold\">32</span><span style=\"font-weight: bold\">)</span>\n",
       "</pre>\n"
      ],
      "text/plain": [
       "\u001b[1m(\u001b[0m\u001b[1;36m105\u001b[0m, \u001b[1;36m32\u001b[0m\u001b[1m)\u001b[0m\n"
      ]
     },
     "metadata": {},
     "output_type": "display_data"
    },
    {
     "data": {
      "text/html": [
       "<pre style=\"white-space:pre;overflow-x:auto;line-height:normal;font-family:Menlo,'DejaVu Sans Mono',consolas,'Courier New',monospace\"><span style=\"color: #008000; text-decoration-color: #008000\">b'i'</span> <span style=\"color: #008000; text-decoration-color: #008000\">b' '</span>\n",
       "</pre>\n"
      ],
      "text/plain": [
       "\u001b[32mb'i'\u001b[0m \u001b[32mb' '\u001b[0m\n"
      ]
     },
     "metadata": {},
     "output_type": "display_data"
    },
    {
     "data": {
      "text/html": [
       "<pre style=\"white-space:pre;overflow-x:auto;line-height:normal;font-family:Menlo,'DejaVu Sans Mono',consolas,'Courier New',monospace\"><span style=\"font-weight: bold\">[</span><span style=\"color: #008080; text-decoration-color: #008080; font-weight: bold\">105</span>, <span style=\"color: #008080; text-decoration-color: #008080; font-weight: bold\">32</span>, <span style=\"color: #008080; text-decoration-color: #008080; font-weight: bold\">108</span>, <span style=\"color: #008080; text-decoration-color: #008080; font-weight: bold\">111</span>, <span style=\"color: #008080; text-decoration-color: #008080; font-weight: bold\">118</span>, <span style=\"color: #008080; text-decoration-color: #008080; font-weight: bold\">264</span>, <span style=\"color: #008080; text-decoration-color: #008080; font-weight: bold\">116</span>, <span style=\"color: #008080; text-decoration-color: #008080; font-weight: bold\">114</span>, <span style=\"color: #008080; text-decoration-color: #008080; font-weight: bold\">258</span>, <span style=\"color: #008080; text-decoration-color: #008080; font-weight: bold\">115</span>, <span style=\"color: #008080; text-decoration-color: #008080; font-weight: bold\">102</span>, <span style=\"color: #008080; text-decoration-color: #008080; font-weight: bold\">114</span>, <span style=\"color: #008080; text-decoration-color: #008080; font-weight: bold\">111</span>, <span style=\"color: #008080; text-decoration-color: #008080; font-weight: bold\">109</span>, <span style=\"color: #008080; text-decoration-color: #008080; font-weight: bold\">263</span>, <span style=\"color: #008080; text-decoration-color: #008080; font-weight: bold\">115</span><span style=\"font-weight: bold\">]</span>\n",
       "</pre>\n"
      ],
      "text/plain": [
       "\u001b[1m[\u001b[0m\u001b[1;36m105\u001b[0m, \u001b[1;36m32\u001b[0m, \u001b[1;36m108\u001b[0m, \u001b[1;36m111\u001b[0m, \u001b[1;36m118\u001b[0m, \u001b[1;36m264\u001b[0m, \u001b[1;36m116\u001b[0m, \u001b[1;36m114\u001b[0m, \u001b[1;36m258\u001b[0m, \u001b[1;36m115\u001b[0m, \u001b[1;36m102\u001b[0m, \u001b[1;36m114\u001b[0m, \u001b[1;36m111\u001b[0m, \u001b[1;36m109\u001b[0m, \u001b[1;36m263\u001b[0m, \u001b[1;36m115\u001b[0m\u001b[1m]\u001b[0m\n"
      ]
     },
     "metadata": {},
     "output_type": "display_data"
    }
   ],
   "source": [
    "# encoder\n",
    "# utf-8 token ids\n",
    "text = 'i love transfromers'\n",
    "text_bytes = text.encode(\"utf-8\") # raw bytes\n",
    "# 首先对数据转成 字符 的token id\n",
    "# 再将raw token id 按照 merges表 对raw token id 进行合并 -> token_id\n",
    "\n",
    "# bpe token ids\n",
    "ids = list(text_bytes) # list of integers in range 0..255\n",
    "while len(ids) >= 2:\n",
    "    stats = get_stats(ids)\n",
    "    # ids = (2,3,4,5)\n",
    "    # stats为原文本相邻值统计。   text： pair(2,3),       (3,4),     (3,5)\n",
    "    # key为筛选merges集合里有效的 词表： pair             (3,4)~268,   (3,5)~289,\n",
    "    # 此时选出pair(3,4) 268, (3,5) 289\n",
    "    # 取 bpe.merges.get([3,4]) = 268\n",
    "    # 取 bpe.merges.get([3,5]) = 289\n",
    "    # 取 bpe.merges.get([2,3]) = inf\n",
    "    # 结果取min，是指merge对应idx越小，出现的频率越高\n",
    "    pair = min(stats, key=lambda p: bpe.merges.get(p, float(\"inf\"))) \n",
    "    print(pair)\n",
    "    print(bpe.vocab[pair[0]], bpe.vocab[pair[1]])\n",
    "    if pair not in bpe.merges:\n",
    "        break \n",
    "    idx = bpe.merges[pair] # (3,4) -> 268\n",
    "    ids = merge(ids, pair, idx) # (2,3,4,5) -> (2, 268, 5)\n",
    "print(ids)\n"
   ]
  },
  {
   "cell_type": "markdown",
   "id": "1aeb08e1-8ee9-470f-bc02-720c001bfd50",
   "metadata": {},
   "source": [
    "## BPE Decode"
   ]
  },
  {
   "cell_type": "code",
   "execution_count": 34,
   "id": "e0768853-e3a1-479e-92cc-a56404eae4f6",
   "metadata": {},
   "outputs": [
    {
     "data": {
      "text/html": [
       "<pre style=\"white-space:pre;overflow-x:auto;line-height:normal;font-family:Menlo,'DejaVu Sans Mono',consolas,'Courier New',monospace\">i love transfromers\n",
       "</pre>\n"
      ],
      "text/plain": [
       "i love transfromers\n"
      ]
     },
     "metadata": {},
     "output_type": "display_data"
    }
   ],
   "source": [
    "\n",
    "# 解码\n",
    "text_bytes = b\"\".join(bpe.vocab[idx] for idx in ids)\n",
    "decode_text = text_bytes.decode(\"utf-8\", errors=\"replace\")\n",
    "print(decode_text)"
   ]
  }
 ],
 "metadata": {
  "kernelspec": {
   "display_name": "Python 3 (ipykernel)",
   "language": "python",
   "name": "python3"
  },
  "language_info": {
   "codemirror_mode": {
    "name": "ipython",
    "version": 3
   },
   "file_extension": ".py",
   "mimetype": "text/x-python",
   "name": "python",
   "nbconvert_exporter": "python",
   "pygments_lexer": "ipython3",
   "version": "3.11.9"
  }
 },
 "nbformat": 4,
 "nbformat_minor": 5
}
