{
 "cells": [
  {
   "cell_type": "markdown",
   "id": "c5b2dfc0-3c1a-4e53-a981-361808df8e91",
   "metadata": {},
   "source": [
    "# MLP Gradient - pytorch"
   ]
  },
  {
   "cell_type": "markdown",
   "id": "2b81b4c6-d882-4683-80e8-d9395e89bc9b",
   "metadata": {},
   "source": [
    "前向和反向计算量时一样的吗？\n",
    "\n",
    "分析一层网络和多层网络计算量"
   ]
  },
  {
   "cell_type": "markdown",
   "id": "9338db1d-ff36-48b4-b752-deeb46a7e177",
   "metadata": {},
   "source": [
    "## use pytorch auto grad"
   ]
  },
  {
   "cell_type": "code",
   "execution_count": 69,
   "id": "83021095-80d4-4c03-a145-b83f86834dd6",
   "metadata": {},
   "outputs": [],
   "source": [
    "import torch\n",
    "import torch.nn as nn \n",
    "import torch.nn.functional as F"
   ]
  },
  {
   "cell_type": "code",
   "execution_count": 70,
   "id": "a0d1f665-fd15-4610-9d26-8e1738997f87",
   "metadata": {},
   "outputs": [],
   "source": [
    "bs = 2\n",
    "dim = 3\n",
    "out_dim = 6\n",
    "head = 4"
   ]
  },
  {
   "cell_type": "code",
   "execution_count": 73,
   "id": "6fb46a24-fae9-45e0-9ce3-ec378f53a979",
   "metadata": {},
   "outputs": [],
   "source": [
    "x = torch.randn(bs, dim)\n",
    "w1 = torch.randn(dim, out_dim, requires_grad=True)\n",
    "w2 = torch.randn(out_dim, head)\n",
    "y_label = torch.randn(bs, head)"
   ]
  },
  {
   "cell_type": "markdown",
   "id": "1915ed6a-7dea-45f2-9739-a1d16e92c106",
   "metadata": {},
   "source": [
    "## forward"
   ]
  },
  {
   "cell_type": "code",
   "execution_count": 77,
   "id": "a860a73c-0a82-4e1e-8381-c78c30824aa9",
   "metadata": {},
   "outputs": [],
   "source": [
    "y1 = x @ w1\n",
    "y1.retain_grad()\n",
    "y2 = y1 @ w2\n",
    "y2.retain_grad()\n",
    "loss_mse = ((y_label - y2) ** 2)\n",
    "loss_mse.retain_grad()\n",
    "loss = loss_mse.mean()"
   ]
  },
  {
   "cell_type": "markdown",
   "id": "c4c5a511-f430-4849-9829-ff4420052dcb",
   "metadata": {},
   "source": [
    "## backward"
   ]
  },
  {
   "cell_type": "code",
   "execution_count": 79,
   "id": "bad6678b-f08e-4ff2-a1b3-b28410cd5f8b",
   "metadata": {},
   "outputs": [
    {
     "data": {
      "text/html": [
       "<pre style=\"white-space:pre;overflow-x:auto;line-height:normal;font-family:Menlo,'DejaVu Sans Mono',consolas,'Courier New',monospace\"><span style=\"color: #800080; text-decoration-color: #800080; font-weight: bold\">tensor</span><span style=\"font-weight: bold\">(</span><span style=\"color: #008080; text-decoration-color: #008080; font-weight: bold\">25.9975</span>, <span style=\"color: #808000; text-decoration-color: #808000\">grad_fn</span>=<span style=\"font-weight: bold\">&lt;</span><span style=\"color: #ff00ff; text-decoration-color: #ff00ff; font-weight: bold\">MeanBackward0</span><span style=\"font-weight: bold\">&gt;)</span>\n",
       "</pre>\n"
      ],
      "text/plain": [
       "\u001b[1;35mtensor\u001b[0m\u001b[1m(\u001b[0m\u001b[1;36m25.9975\u001b[0m, \u001b[33mgrad_fn\u001b[0m=\u001b[1m<\u001b[0m\u001b[1;95mMeanBackward0\u001b[0m\u001b[1m>\u001b[0m\u001b[1m)\u001b[0m\n"
      ]
     },
     "metadata": {},
     "output_type": "display_data"
    }
   ],
   "source": [
    "loss.backward()\n",
    "print(loss)"
   ]
  },
  {
   "cell_type": "markdown",
   "id": "921e9f23-a0c6-422d-8254-9073f862c9c3",
   "metadata": {},
   "source": [
    "### mlp-layer2"
   ]
  },
  {
   "cell_type": "code",
   "execution_count": 102,
   "id": "7aefa0dd-5a4f-4b14-9a43-87110b82419b",
   "metadata": {},
   "outputs": [
    {
     "data": {
      "text/html": [
       "<pre style=\"white-space:pre;overflow-x:auto;line-height:normal;font-family:Menlo,'DejaVu Sans Mono',consolas,'Courier New',monospace\"><span style=\"color: #800080; text-decoration-color: #800080; font-weight: bold\">tensor</span><span style=\"font-weight: bold\">([[</span><span style=\"color: #008080; text-decoration-color: #008080; font-weight: bold\">-2.4221</span>,  <span style=\"color: #008080; text-decoration-color: #008080; font-weight: bold\">1.1051</span>, <span style=\"color: #008080; text-decoration-color: #008080; font-weight: bold\">-4.8241</span>, <span style=\"color: #008080; text-decoration-color: #008080; font-weight: bold\">-4.0603</span><span style=\"font-weight: bold\">]</span>,\n",
       "        <span style=\"font-weight: bold\">[</span><span style=\"color: #008080; text-decoration-color: #008080; font-weight: bold\">-4.0850</span>, <span style=\"color: #008080; text-decoration-color: #008080; font-weight: bold\">-0.5590</span>, <span style=\"color: #008080; text-decoration-color: #008080; font-weight: bold\">-5.4524</span>, <span style=\"color: #008080; text-decoration-color: #008080; font-weight: bold\">-3.1321</span><span style=\"font-weight: bold\">]</span>,\n",
       "        <span style=\"font-weight: bold\">[</span> <span style=\"color: #008080; text-decoration-color: #008080; font-weight: bold\">1.1359</span>, <span style=\"color: #008080; text-decoration-color: #008080; font-weight: bold\">-1.3301</span>,  <span style=\"color: #008080; text-decoration-color: #008080; font-weight: bold\">3.1616</span>,  <span style=\"color: #008080; text-decoration-color: #008080; font-weight: bold\">3.1493</span><span style=\"font-weight: bold\">]</span>,\n",
       "        <span style=\"font-weight: bold\">[</span> <span style=\"color: #008080; text-decoration-color: #008080; font-weight: bold\">0.4604</span>,  <span style=\"color: #008080; text-decoration-color: #008080; font-weight: bold\">3.0697</span>, <span style=\"color: #008080; text-decoration-color: #008080; font-weight: bold\">-2.7160</span>, <span style=\"color: #008080; text-decoration-color: #008080; font-weight: bold\">-4.2585</span><span style=\"font-weight: bold\">]</span>,\n",
       "        <span style=\"font-weight: bold\">[</span><span style=\"color: #008080; text-decoration-color: #008080; font-weight: bold\">-0.7690</span>,  <span style=\"color: #008080; text-decoration-color: #008080; font-weight: bold\">0.9133</span>, <span style=\"color: #008080; text-decoration-color: #008080; font-weight: bold\">-2.1546</span>, <span style=\"color: #008080; text-decoration-color: #008080; font-weight: bold\">-2.1518</span><span style=\"font-weight: bold\">]</span>,\n",
       "        <span style=\"font-weight: bold\">[</span><span style=\"color: #008080; text-decoration-color: #008080; font-weight: bold\">-0.7214</span>, <span style=\"color: #008080; text-decoration-color: #008080; font-weight: bold\">-2.3768</span>,  <span style=\"color: #008080; text-decoration-color: #008080; font-weight: bold\">1.5605</span>,  <span style=\"color: #008080; text-decoration-color: #008080; font-weight: bold\">2.9408</span><span style=\"font-weight: bold\">]])</span>\n",
       "</pre>\n"
      ],
      "text/plain": [
       "\u001b[1;35mtensor\u001b[0m\u001b[1m(\u001b[0m\u001b[1m[\u001b[0m\u001b[1m[\u001b[0m\u001b[1;36m-2.4221\u001b[0m,  \u001b[1;36m1.1051\u001b[0m, \u001b[1;36m-4.8241\u001b[0m, \u001b[1;36m-4.0603\u001b[0m\u001b[1m]\u001b[0m,\n",
       "        \u001b[1m[\u001b[0m\u001b[1;36m-4.0850\u001b[0m, \u001b[1;36m-0.5590\u001b[0m, \u001b[1;36m-5.4524\u001b[0m, \u001b[1;36m-3.1321\u001b[0m\u001b[1m]\u001b[0m,\n",
       "        \u001b[1m[\u001b[0m \u001b[1;36m1.1359\u001b[0m, \u001b[1;36m-1.3301\u001b[0m,  \u001b[1;36m3.1616\u001b[0m,  \u001b[1;36m3.1493\u001b[0m\u001b[1m]\u001b[0m,\n",
       "        \u001b[1m[\u001b[0m \u001b[1;36m0.4604\u001b[0m,  \u001b[1;36m3.0697\u001b[0m, \u001b[1;36m-2.7160\u001b[0m, \u001b[1;36m-4.2585\u001b[0m\u001b[1m]\u001b[0m,\n",
       "        \u001b[1m[\u001b[0m\u001b[1;36m-0.7690\u001b[0m,  \u001b[1;36m0.9133\u001b[0m, \u001b[1;36m-2.1546\u001b[0m, \u001b[1;36m-2.1518\u001b[0m\u001b[1m]\u001b[0m,\n",
       "        \u001b[1m[\u001b[0m\u001b[1;36m-0.7214\u001b[0m, \u001b[1;36m-2.3768\u001b[0m,  \u001b[1;36m1.5605\u001b[0m,  \u001b[1;36m2.9408\u001b[0m\u001b[1m]\u001b[0m\u001b[1m]\u001b[0m\u001b[1m)\u001b[0m\n"
      ]
     },
     "metadata": {},
     "output_type": "display_data"
    },
    {
     "data": {
      "text/html": [
       "<pre style=\"white-space:pre;overflow-x:auto;line-height:normal;font-family:Menlo,'DejaVu Sans Mono',consolas,'Courier New',monospace\"><span style=\"color: #800080; text-decoration-color: #800080; font-weight: bold\">tensor</span><span style=\"font-weight: bold\">([[</span> <span style=\"color: #008080; text-decoration-color: #008080; font-weight: bold\">3.5725</span>,  <span style=\"color: #008080; text-decoration-color: #008080; font-weight: bold\">2.8872</span>, <span style=\"color: #008080; text-decoration-color: #008080; font-weight: bold\">-5.9663</span>,  <span style=\"color: #008080; text-decoration-color: #008080; font-weight: bold\">0.3279</span>,  <span style=\"color: #008080; text-decoration-color: #008080; font-weight: bold\">4.7426</span>, <span style=\"color: #008080; text-decoration-color: #008080; font-weight: bold\">-1.7715</span><span style=\"font-weight: bold\">]</span>,\n",
       "        <span style=\"font-weight: bold\">[</span> <span style=\"color: #008080; text-decoration-color: #008080; font-weight: bold\">6.1835</span>,  <span style=\"color: #008080; text-decoration-color: #008080; font-weight: bold\">5.0278</span>, <span style=\"color: #008080; text-decoration-color: #008080; font-weight: bold\">-3.1847</span>, <span style=\"color: #008080; text-decoration-color: #008080; font-weight: bold\">-0.0744</span>,  <span style=\"color: #008080; text-decoration-color: #008080; font-weight: bold\">6.1692</span>, <span style=\"color: #008080; text-decoration-color: #008080; font-weight: bold\">-0.6577</span><span style=\"font-weight: bold\">]])</span>\n",
       "</pre>\n"
      ],
      "text/plain": [
       "\u001b[1;35mtensor\u001b[0m\u001b[1m(\u001b[0m\u001b[1m[\u001b[0m\u001b[1m[\u001b[0m \u001b[1;36m3.5725\u001b[0m,  \u001b[1;36m2.8872\u001b[0m, \u001b[1;36m-5.9663\u001b[0m,  \u001b[1;36m0.3279\u001b[0m,  \u001b[1;36m4.7426\u001b[0m, \u001b[1;36m-1.7715\u001b[0m\u001b[1m]\u001b[0m,\n",
       "        \u001b[1m[\u001b[0m \u001b[1;36m6.1835\u001b[0m,  \u001b[1;36m5.0278\u001b[0m, \u001b[1;36m-3.1847\u001b[0m, \u001b[1;36m-0.0744\u001b[0m,  \u001b[1;36m6.1692\u001b[0m, \u001b[1;36m-0.6577\u001b[0m\u001b[1m]\u001b[0m\u001b[1m]\u001b[0m\u001b[1m)\u001b[0m\n"
      ]
     },
     "metadata": {},
     "output_type": "display_data"
    }
   ],
   "source": [
    "# pytorch求导结果\n",
    "# print(y2.grad)\n",
    "print(w2.grad)\n",
    "print(y1.grad)"
   ]
  },
  {
   "cell_type": "code",
   "execution_count": 103,
   "id": "1501303f-2bbb-43c4-b880-f677af7f19a5",
   "metadata": {},
   "outputs": [
    {
     "data": {
      "text/html": [
       "<pre style=\"white-space:pre;overflow-x:auto;line-height:normal;font-family:Menlo,'DejaVu Sans Mono',consolas,'Courier New',monospace\"><span style=\"color: #800080; text-decoration-color: #800080; font-weight: bold\">tensor</span><span style=\"font-weight: bold\">([[</span><span style=\"color: #008080; text-decoration-color: #008080; font-weight: bold\">-4.5383e-02</span>,  <span style=\"color: #008080; text-decoration-color: #008080; font-weight: bold\">1.0484e+00</span>, <span style=\"color: #008080; text-decoration-color: #008080; font-weight: bold\">-1.2288e+00</span>, <span style=\"color: #008080; text-decoration-color: #008080; font-weight: bold\">-1.6523e+00</span><span style=\"font-weight: bold\">]</span>,\n",
       "        <span style=\"font-weight: bold\">[</span><span style=\"color: #008080; text-decoration-color: #008080; font-weight: bold\">-1.3571e+00</span>, <span style=\"color: #008080; text-decoration-color: #008080; font-weight: bold\">-1.1370e-03</span>, <span style=\"color: #008080; text-decoration-color: #008080; font-weight: bold\">-2.0159e+00</span>, <span style=\"color: #008080; text-decoration-color: #008080; font-weight: bold\">-1.3236e+00</span><span style=\"font-weight: bold\">]]</span>,\n",
       "       <span style=\"color: #808000; text-decoration-color: #808000\">grad_fn</span>=<span style=\"font-weight: bold\">&lt;</span><span style=\"color: #ff00ff; text-decoration-color: #ff00ff; font-weight: bold\">DivBackward0</span><span style=\"font-weight: bold\">&gt;)</span>\n",
       "</pre>\n"
      ],
      "text/plain": [
       "\u001b[1;35mtensor\u001b[0m\u001b[1m(\u001b[0m\u001b[1m[\u001b[0m\u001b[1m[\u001b[0m\u001b[1;36m-4.5383e-02\u001b[0m,  \u001b[1;36m1.0484e+00\u001b[0m, \u001b[1;36m-1.2288e+00\u001b[0m, \u001b[1;36m-1.6523e+00\u001b[0m\u001b[1m]\u001b[0m,\n",
       "        \u001b[1m[\u001b[0m\u001b[1;36m-1.3571e+00\u001b[0m, \u001b[1;36m-1.1370e-03\u001b[0m, \u001b[1;36m-2.0159e+00\u001b[0m, \u001b[1;36m-1.3236e+00\u001b[0m\u001b[1m]\u001b[0m\u001b[1m]\u001b[0m,\n",
       "       \u001b[33mgrad_fn\u001b[0m=\u001b[1m<\u001b[0m\u001b[1;95mDivBackward0\u001b[0m\u001b[1m>\u001b[0m\u001b[1m)\u001b[0m\n"
      ]
     },
     "metadata": {},
     "output_type": "display_data"
    },
    {
     "data": {
      "text/html": [
       "<pre style=\"white-space:pre;overflow-x:auto;line-height:normal;font-family:Menlo,'DejaVu Sans Mono',consolas,'Courier New',monospace\"><span style=\"color: #800080; text-decoration-color: #800080; font-weight: bold\">tensor</span><span style=\"font-weight: bold\">([[</span><span style=\"color: #008080; text-decoration-color: #008080; font-weight: bold\">-2.4221</span>,  <span style=\"color: #008080; text-decoration-color: #008080; font-weight: bold\">1.1051</span>, <span style=\"color: #008080; text-decoration-color: #008080; font-weight: bold\">-4.8241</span>, <span style=\"color: #008080; text-decoration-color: #008080; font-weight: bold\">-4.0603</span><span style=\"font-weight: bold\">]</span>,\n",
       "        <span style=\"font-weight: bold\">[</span><span style=\"color: #008080; text-decoration-color: #008080; font-weight: bold\">-4.0850</span>, <span style=\"color: #008080; text-decoration-color: #008080; font-weight: bold\">-0.5590</span>, <span style=\"color: #008080; text-decoration-color: #008080; font-weight: bold\">-5.4524</span>, <span style=\"color: #008080; text-decoration-color: #008080; font-weight: bold\">-3.1321</span><span style=\"font-weight: bold\">]</span>,\n",
       "        <span style=\"font-weight: bold\">[</span> <span style=\"color: #008080; text-decoration-color: #008080; font-weight: bold\">1.1359</span>, <span style=\"color: #008080; text-decoration-color: #008080; font-weight: bold\">-1.3301</span>,  <span style=\"color: #008080; text-decoration-color: #008080; font-weight: bold\">3.1616</span>,  <span style=\"color: #008080; text-decoration-color: #008080; font-weight: bold\">3.1493</span><span style=\"font-weight: bold\">]</span>,\n",
       "        <span style=\"font-weight: bold\">[</span> <span style=\"color: #008080; text-decoration-color: #008080; font-weight: bold\">0.4604</span>,  <span style=\"color: #008080; text-decoration-color: #008080; font-weight: bold\">3.0697</span>, <span style=\"color: #008080; text-decoration-color: #008080; font-weight: bold\">-2.7160</span>, <span style=\"color: #008080; text-decoration-color: #008080; font-weight: bold\">-4.2585</span><span style=\"font-weight: bold\">]</span>,\n",
       "        <span style=\"font-weight: bold\">[</span><span style=\"color: #008080; text-decoration-color: #008080; font-weight: bold\">-0.7690</span>,  <span style=\"color: #008080; text-decoration-color: #008080; font-weight: bold\">0.9133</span>, <span style=\"color: #008080; text-decoration-color: #008080; font-weight: bold\">-2.1546</span>, <span style=\"color: #008080; text-decoration-color: #008080; font-weight: bold\">-2.1518</span><span style=\"font-weight: bold\">]</span>,\n",
       "        <span style=\"font-weight: bold\">[</span><span style=\"color: #008080; text-decoration-color: #008080; font-weight: bold\">-0.7214</span>, <span style=\"color: #008080; text-decoration-color: #008080; font-weight: bold\">-2.3768</span>,  <span style=\"color: #008080; text-decoration-color: #008080; font-weight: bold\">1.5605</span>,  <span style=\"color: #008080; text-decoration-color: #008080; font-weight: bold\">2.9408</span><span style=\"font-weight: bold\">]]</span>, <span style=\"color: #808000; text-decoration-color: #808000\">grad_fn</span>=<span style=\"font-weight: bold\">&lt;</span><span style=\"color: #ff00ff; text-decoration-color: #ff00ff; font-weight: bold\">MmBackward0</span><span style=\"font-weight: bold\">&gt;)</span>\n",
       "</pre>\n"
      ],
      "text/plain": [
       "\u001b[1;35mtensor\u001b[0m\u001b[1m(\u001b[0m\u001b[1m[\u001b[0m\u001b[1m[\u001b[0m\u001b[1;36m-2.4221\u001b[0m,  \u001b[1;36m1.1051\u001b[0m, \u001b[1;36m-4.8241\u001b[0m, \u001b[1;36m-4.0603\u001b[0m\u001b[1m]\u001b[0m,\n",
       "        \u001b[1m[\u001b[0m\u001b[1;36m-4.0850\u001b[0m, \u001b[1;36m-0.5590\u001b[0m, \u001b[1;36m-5.4524\u001b[0m, \u001b[1;36m-3.1321\u001b[0m\u001b[1m]\u001b[0m,\n",
       "        \u001b[1m[\u001b[0m \u001b[1;36m1.1359\u001b[0m, \u001b[1;36m-1.3301\u001b[0m,  \u001b[1;36m3.1616\u001b[0m,  \u001b[1;36m3.1493\u001b[0m\u001b[1m]\u001b[0m,\n",
       "        \u001b[1m[\u001b[0m \u001b[1;36m0.4604\u001b[0m,  \u001b[1;36m3.0697\u001b[0m, \u001b[1;36m-2.7160\u001b[0m, \u001b[1;36m-4.2585\u001b[0m\u001b[1m]\u001b[0m,\n",
       "        \u001b[1m[\u001b[0m\u001b[1;36m-0.7690\u001b[0m,  \u001b[1;36m0.9133\u001b[0m, \u001b[1;36m-2.1546\u001b[0m, \u001b[1;36m-2.1518\u001b[0m\u001b[1m]\u001b[0m,\n",
       "        \u001b[1m[\u001b[0m\u001b[1;36m-0.7214\u001b[0m, \u001b[1;36m-2.3768\u001b[0m,  \u001b[1;36m1.5605\u001b[0m,  \u001b[1;36m2.9408\u001b[0m\u001b[1m]\u001b[0m\u001b[1m]\u001b[0m, \u001b[33mgrad_fn\u001b[0m=\u001b[1m<\u001b[0m\u001b[1;95mMmBackward0\u001b[0m\u001b[1m>\u001b[0m\u001b[1m)\u001b[0m\n"
      ]
     },
     "metadata": {},
     "output_type": "display_data"
    },
    {
     "data": {
      "text/html": [
       "<pre style=\"white-space:pre;overflow-x:auto;line-height:normal;font-family:Menlo,'DejaVu Sans Mono',consolas,'Courier New',monospace\"><span style=\"color: #800080; text-decoration-color: #800080; font-weight: bold\">tensor</span><span style=\"font-weight: bold\">([[</span> <span style=\"color: #008080; text-decoration-color: #008080; font-weight: bold\">3.5725</span>,  <span style=\"color: #008080; text-decoration-color: #008080; font-weight: bold\">2.8872</span>, <span style=\"color: #008080; text-decoration-color: #008080; font-weight: bold\">-5.9663</span>,  <span style=\"color: #008080; text-decoration-color: #008080; font-weight: bold\">0.3279</span>,  <span style=\"color: #008080; text-decoration-color: #008080; font-weight: bold\">4.7426</span>, <span style=\"color: #008080; text-decoration-color: #008080; font-weight: bold\">-1.7715</span><span style=\"font-weight: bold\">]</span>,\n",
       "        <span style=\"font-weight: bold\">[</span> <span style=\"color: #008080; text-decoration-color: #008080; font-weight: bold\">6.1835</span>,  <span style=\"color: #008080; text-decoration-color: #008080; font-weight: bold\">5.0278</span>, <span style=\"color: #008080; text-decoration-color: #008080; font-weight: bold\">-3.1847</span>, <span style=\"color: #008080; text-decoration-color: #008080; font-weight: bold\">-0.0744</span>,  <span style=\"color: #008080; text-decoration-color: #008080; font-weight: bold\">6.1692</span>, <span style=\"color: #008080; text-decoration-color: #008080; font-weight: bold\">-0.6577</span><span style=\"font-weight: bold\">]]</span>,\n",
       "       <span style=\"color: #808000; text-decoration-color: #808000\">grad_fn</span>=<span style=\"font-weight: bold\">&lt;</span><span style=\"color: #ff00ff; text-decoration-color: #ff00ff; font-weight: bold\">MmBackward0</span><span style=\"font-weight: bold\">&gt;)</span>\n",
       "</pre>\n"
      ],
      "text/plain": [
       "\u001b[1;35mtensor\u001b[0m\u001b[1m(\u001b[0m\u001b[1m[\u001b[0m\u001b[1m[\u001b[0m \u001b[1;36m3.5725\u001b[0m,  \u001b[1;36m2.8872\u001b[0m, \u001b[1;36m-5.9663\u001b[0m,  \u001b[1;36m0.3279\u001b[0m,  \u001b[1;36m4.7426\u001b[0m, \u001b[1;36m-1.7715\u001b[0m\u001b[1m]\u001b[0m,\n",
       "        \u001b[1m[\u001b[0m \u001b[1;36m6.1835\u001b[0m,  \u001b[1;36m5.0278\u001b[0m, \u001b[1;36m-3.1847\u001b[0m, \u001b[1;36m-0.0744\u001b[0m,  \u001b[1;36m6.1692\u001b[0m, \u001b[1;36m-0.6577\u001b[0m\u001b[1m]\u001b[0m\u001b[1m]\u001b[0m,\n",
       "       \u001b[33mgrad_fn\u001b[0m=\u001b[1m<\u001b[0m\u001b[1;95mMmBackward0\u001b[0m\u001b[1m>\u001b[0m\u001b[1m)\u001b[0m\n"
      ]
     },
     "metadata": {},
     "output_type": "display_data"
    }
   ],
   "source": [
    "# 手动计算\n",
    "e = 2 * (y2-y_label) / (bs * head)\n",
    "print(e)\n",
    "\n",
    "w2_grad = y1.t() @ e\n",
    "print(w2_grad)\n",
    "\n",
    "y1_grad = e @ w2.t()\n",
    "print(y1_grad)"
   ]
  },
  {
   "cell_type": "markdown",
   "id": "a03a3e8f-3d68-4cde-95e9-408997e064a3",
   "metadata": {},
   "source": [
    "### mlp-layer1"
   ]
  },
  {
   "cell_type": "code",
   "execution_count": 106,
   "id": "edb2d862-69f7-4237-be24-d5a959a263c0",
   "metadata": {},
   "outputs": [
    {
     "data": {
      "text/html": [
       "<pre style=\"white-space:pre;overflow-x:auto;line-height:normal;font-family:Menlo,'DejaVu Sans Mono',consolas,'Courier New',monospace\"><span style=\"color: #800080; text-decoration-color: #800080; font-weight: bold\">tensor</span><span style=\"font-weight: bold\">([[</span><span style=\"color: #008080; text-decoration-color: #008080; font-weight: bold\">12.0253</span>,  <span style=\"color: #008080; text-decoration-color: #008080; font-weight: bold\">9.7697</span>, <span style=\"color: #008080; text-decoration-color: #008080; font-weight: bold\">-8.1196</span>,  <span style=\"color: #008080; text-decoration-color: #008080; font-weight: bold\">0.0284</span>, <span style=\"color: #008080; text-decoration-color: #008080; font-weight: bold\">12.5476</span>, <span style=\"color: #008080; text-decoration-color: #008080; font-weight: bold\">-1.9287</span><span style=\"font-weight: bold\">]</span>,\n",
       "        <span style=\"font-weight: bold\">[</span><span style=\"color: #008080; text-decoration-color: #008080; font-weight: bold\">-0.5551</span>, <span style=\"color: #008080; text-decoration-color: #008080; font-weight: bold\">-0.4459</span>,  <span style=\"color: #008080; text-decoration-color: #008080; font-weight: bold\">1.5576</span>, <span style=\"color: #008080; text-decoration-color: #008080; font-weight: bold\">-0.1076</span>, <span style=\"color: #008080; text-decoration-color: #008080; font-weight: bold\">-0.9170</span>,  <span style=\"color: #008080; text-decoration-color: #008080; font-weight: bold\">0.4879</span><span style=\"font-weight: bold\">]</span>,\n",
       "        <span style=\"font-weight: bold\">[</span> <span style=\"color: #008080; text-decoration-color: #008080; font-weight: bold\">4.7383</span>,  <span style=\"color: #008080; text-decoration-color: #008080; font-weight: bold\">3.8829</span>,  <span style=\"color: #008080; text-decoration-color: #008080; font-weight: bold\">4.6353</span>, <span style=\"color: #008080; text-decoration-color: #008080; font-weight: bold\">-0.6931</span>,  <span style=\"color: #008080; text-decoration-color: #008080; font-weight: bold\">2.7066</span>,  <span style=\"color: #008080; text-decoration-color: #008080; font-weight: bold\">1.8821</span><span style=\"font-weight: bold\">]])</span>\n",
       "</pre>\n"
      ],
      "text/plain": [
       "\u001b[1;35mtensor\u001b[0m\u001b[1m(\u001b[0m\u001b[1m[\u001b[0m\u001b[1m[\u001b[0m\u001b[1;36m12.0253\u001b[0m,  \u001b[1;36m9.7697\u001b[0m, \u001b[1;36m-8.1196\u001b[0m,  \u001b[1;36m0.0284\u001b[0m, \u001b[1;36m12.5476\u001b[0m, \u001b[1;36m-1.9287\u001b[0m\u001b[1m]\u001b[0m,\n",
       "        \u001b[1m[\u001b[0m\u001b[1;36m-0.5551\u001b[0m, \u001b[1;36m-0.4459\u001b[0m,  \u001b[1;36m1.5576\u001b[0m, \u001b[1;36m-0.1076\u001b[0m, \u001b[1;36m-0.9170\u001b[0m,  \u001b[1;36m0.4879\u001b[0m\u001b[1m]\u001b[0m,\n",
       "        \u001b[1m[\u001b[0m \u001b[1;36m4.7383\u001b[0m,  \u001b[1;36m3.8829\u001b[0m,  \u001b[1;36m4.6353\u001b[0m, \u001b[1;36m-0.6931\u001b[0m,  \u001b[1;36m2.7066\u001b[0m,  \u001b[1;36m1.8821\u001b[0m\u001b[1m]\u001b[0m\u001b[1m]\u001b[0m\u001b[1m)\u001b[0m\n"
      ]
     },
     "metadata": {},
     "output_type": "display_data"
    },
    {
     "data": {
      "text/html": [
       "<pre style=\"white-space:pre;overflow-x:auto;line-height:normal;font-family:Menlo,'DejaVu Sans Mono',consolas,'Courier New',monospace\"><span style=\"color: #800080; text-decoration-color: #800080; font-weight: bold\">tensor</span><span style=\"font-weight: bold\">([[</span><span style=\"color: #008080; text-decoration-color: #008080; font-weight: bold\">18.6402</span>, <span style=\"color: #008080; text-decoration-color: #008080; font-weight: bold\">-1.3831</span>, <span style=\"color: #008080; text-decoration-color: #008080; font-weight: bold\">-5.7146</span><span style=\"font-weight: bold\">]</span>,\n",
       "        <span style=\"font-weight: bold\">[</span><span style=\"color: #008080; text-decoration-color: #008080; font-weight: bold\">21.0441</span>, <span style=\"color: #008080; text-decoration-color: #008080; font-weight: bold\">-4.9296</span>, <span style=\"color: #008080; text-decoration-color: #008080; font-weight: bold\">-1.8759</span><span style=\"font-weight: bold\">]])</span>\n",
       "</pre>\n"
      ],
      "text/plain": [
       "\u001b[1;35mtensor\u001b[0m\u001b[1m(\u001b[0m\u001b[1m[\u001b[0m\u001b[1m[\u001b[0m\u001b[1;36m18.6402\u001b[0m, \u001b[1;36m-1.3831\u001b[0m, \u001b[1;36m-5.7146\u001b[0m\u001b[1m]\u001b[0m,\n",
       "        \u001b[1m[\u001b[0m\u001b[1;36m21.0441\u001b[0m, \u001b[1;36m-4.9296\u001b[0m, \u001b[1;36m-1.8759\u001b[0m\u001b[1m]\u001b[0m\u001b[1m]\u001b[0m\u001b[1m)\u001b[0m\n"
      ]
     },
     "metadata": {},
     "output_type": "display_data"
    }
   ],
   "source": [
    "# pytorch\n",
    "print(w1.grad)\n",
    "print(x.grad)"
   ]
  },
  {
   "cell_type": "code",
   "execution_count": 108,
   "id": "bc710ef7-eb33-4bc6-8780-f632e52e3f8e",
   "metadata": {},
   "outputs": [
    {
     "data": {
      "text/html": [
       "<pre style=\"white-space:pre;overflow-x:auto;line-height:normal;font-family:Menlo,'DejaVu Sans Mono',consolas,'Courier New',monospace\"><span style=\"color: #800080; text-decoration-color: #800080; font-weight: bold\">tensor</span><span style=\"font-weight: bold\">([[</span><span style=\"color: #008080; text-decoration-color: #008080; font-weight: bold\">12.0253</span>,  <span style=\"color: #008080; text-decoration-color: #008080; font-weight: bold\">9.7697</span>, <span style=\"color: #008080; text-decoration-color: #008080; font-weight: bold\">-8.1196</span>,  <span style=\"color: #008080; text-decoration-color: #008080; font-weight: bold\">0.0284</span>, <span style=\"color: #008080; text-decoration-color: #008080; font-weight: bold\">12.5476</span>, <span style=\"color: #008080; text-decoration-color: #008080; font-weight: bold\">-1.9287</span><span style=\"font-weight: bold\">]</span>,\n",
       "        <span style=\"font-weight: bold\">[</span><span style=\"color: #008080; text-decoration-color: #008080; font-weight: bold\">-0.5551</span>, <span style=\"color: #008080; text-decoration-color: #008080; font-weight: bold\">-0.4459</span>,  <span style=\"color: #008080; text-decoration-color: #008080; font-weight: bold\">1.5576</span>, <span style=\"color: #008080; text-decoration-color: #008080; font-weight: bold\">-0.1076</span>, <span style=\"color: #008080; text-decoration-color: #008080; font-weight: bold\">-0.9170</span>,  <span style=\"color: #008080; text-decoration-color: #008080; font-weight: bold\">0.4879</span><span style=\"font-weight: bold\">]</span>,\n",
       "        <span style=\"font-weight: bold\">[</span> <span style=\"color: #008080; text-decoration-color: #008080; font-weight: bold\">4.7383</span>,  <span style=\"color: #008080; text-decoration-color: #008080; font-weight: bold\">3.8829</span>,  <span style=\"color: #008080; text-decoration-color: #008080; font-weight: bold\">4.6353</span>, <span style=\"color: #008080; text-decoration-color: #008080; font-weight: bold\">-0.6931</span>,  <span style=\"color: #008080; text-decoration-color: #008080; font-weight: bold\">2.7066</span>,  <span style=\"color: #008080; text-decoration-color: #008080; font-weight: bold\">1.8821</span><span style=\"font-weight: bold\">]]</span>,\n",
       "       <span style=\"color: #808000; text-decoration-color: #808000\">grad_fn</span>=<span style=\"font-weight: bold\">&lt;</span><span style=\"color: #ff00ff; text-decoration-color: #ff00ff; font-weight: bold\">MmBackward0</span><span style=\"font-weight: bold\">&gt;)</span>\n",
       "</pre>\n"
      ],
      "text/plain": [
       "\u001b[1;35mtensor\u001b[0m\u001b[1m(\u001b[0m\u001b[1m[\u001b[0m\u001b[1m[\u001b[0m\u001b[1;36m12.0253\u001b[0m,  \u001b[1;36m9.7697\u001b[0m, \u001b[1;36m-8.1196\u001b[0m,  \u001b[1;36m0.0284\u001b[0m, \u001b[1;36m12.5476\u001b[0m, \u001b[1;36m-1.9287\u001b[0m\u001b[1m]\u001b[0m,\n",
       "        \u001b[1m[\u001b[0m\u001b[1;36m-0.5551\u001b[0m, \u001b[1;36m-0.4459\u001b[0m,  \u001b[1;36m1.5576\u001b[0m, \u001b[1;36m-0.1076\u001b[0m, \u001b[1;36m-0.9170\u001b[0m,  \u001b[1;36m0.4879\u001b[0m\u001b[1m]\u001b[0m,\n",
       "        \u001b[1m[\u001b[0m \u001b[1;36m4.7383\u001b[0m,  \u001b[1;36m3.8829\u001b[0m,  \u001b[1;36m4.6353\u001b[0m, \u001b[1;36m-0.6931\u001b[0m,  \u001b[1;36m2.7066\u001b[0m,  \u001b[1;36m1.8821\u001b[0m\u001b[1m]\u001b[0m\u001b[1m]\u001b[0m,\n",
       "       \u001b[33mgrad_fn\u001b[0m=\u001b[1m<\u001b[0m\u001b[1;95mMmBackward0\u001b[0m\u001b[1m>\u001b[0m\u001b[1m)\u001b[0m\n"
      ]
     },
     "metadata": {},
     "output_type": "display_data"
    },
    {
     "data": {
      "text/html": [
       "<pre style=\"white-space:pre;overflow-x:auto;line-height:normal;font-family:Menlo,'DejaVu Sans Mono',consolas,'Courier New',monospace\"><span style=\"color: #800080; text-decoration-color: #800080; font-weight: bold\">tensor</span><span style=\"font-weight: bold\">([[</span><span style=\"color: #008080; text-decoration-color: #008080; font-weight: bold\">18.6402</span>, <span style=\"color: #008080; text-decoration-color: #008080; font-weight: bold\">-1.3831</span>, <span style=\"color: #008080; text-decoration-color: #008080; font-weight: bold\">-5.7146</span><span style=\"font-weight: bold\">]</span>,\n",
       "        <span style=\"font-weight: bold\">[</span><span style=\"color: #008080; text-decoration-color: #008080; font-weight: bold\">21.0441</span>, <span style=\"color: #008080; text-decoration-color: #008080; font-weight: bold\">-4.9296</span>, <span style=\"color: #008080; text-decoration-color: #008080; font-weight: bold\">-1.8759</span><span style=\"font-weight: bold\">]]</span>, <span style=\"color: #808000; text-decoration-color: #808000\">grad_fn</span>=<span style=\"font-weight: bold\">&lt;</span><span style=\"color: #ff00ff; text-decoration-color: #ff00ff; font-weight: bold\">MmBackward0</span><span style=\"font-weight: bold\">&gt;)</span>\n",
       "</pre>\n"
      ],
      "text/plain": [
       "\u001b[1;35mtensor\u001b[0m\u001b[1m(\u001b[0m\u001b[1m[\u001b[0m\u001b[1m[\u001b[0m\u001b[1;36m18.6402\u001b[0m, \u001b[1;36m-1.3831\u001b[0m, \u001b[1;36m-5.7146\u001b[0m\u001b[1m]\u001b[0m,\n",
       "        \u001b[1m[\u001b[0m\u001b[1;36m21.0441\u001b[0m, \u001b[1;36m-4.9296\u001b[0m, \u001b[1;36m-1.8759\u001b[0m\u001b[1m]\u001b[0m\u001b[1m]\u001b[0m, \u001b[33mgrad_fn\u001b[0m=\u001b[1m<\u001b[0m\u001b[1;95mMmBackward0\u001b[0m\u001b[1m>\u001b[0m\u001b[1m)\u001b[0m\n"
      ]
     },
     "metadata": {},
     "output_type": "display_data"
    }
   ],
   "source": [
    "# 手动求导\n",
    "w1_grad = x.t() @ y1_grad\n",
    "print(w1_grad)\n",
    "\n",
    "x1_grad = y1_grad @ w1.t()\n",
    "print(x1_grad)"
   ]
  },
  {
   "cell_type": "markdown",
   "id": "ce7edb90-902e-4b20-aec5-d575d0100734",
   "metadata": {},
   "source": [
    "# 结论\n",
    "\n",
    "梯度计算是前向计算的两倍计算量。\n",
    "\n",
    "多层：2倍\n",
    "单层：同样的计算量，因为y=wx, 对于x的导数不用计算"
   ]
  }
 ],
 "metadata": {
  "kernelspec": {
   "display_name": "Python 3 (ipykernel)",
   "language": "python",
   "name": "python3"
  },
  "language_info": {
   "codemirror_mode": {
    "name": "ipython",
    "version": 3
   },
   "file_extension": ".py",
   "mimetype": "text/x-python",
   "name": "python",
   "nbconvert_exporter": "python",
   "pygments_lexer": "ipython3",
   "version": "3.11.9"
  }
 },
 "nbformat": 4,
 "nbformat_minor": 5
}
