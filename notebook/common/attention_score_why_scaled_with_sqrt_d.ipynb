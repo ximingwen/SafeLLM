{
 "cells": [
  {
   "cell_type": "markdown",
   "id": "c70720b5-2932-4f9a-8e7d-940f495702f4",
   "metadata": {},
   "source": [
    "# 注意力分数为何要除于$\\sqrt{d}$"
   ]
  },
  {
   "cell_type": "code",
   "execution_count": 2,
   "id": "5de71d88-350e-4a28-805b-a21a590c40f7",
   "metadata": {},
   "outputs": [
    {
     "data": {
      "text/plain": [
       "<torch._C.Generator at 0x107d71af0>"
      ]
     },
     "execution_count": 2,
     "metadata": {},
     "output_type": "execute_result"
    }
   ],
   "source": [
    "import torch\n",
    "import math\n",
    "import torch.nn.functional as F\n",
    "torch.manual_seed(0)"
   ]
  },
  {
   "cell_type": "markdown",
   "id": "ebaaf994-6d15-456e-be81-0aef66233a25",
   "metadata": {},
   "source": [
    "## 创建数据"
   ]
  },
  {
   "cell_type": "code",
   "execution_count": 3,
   "id": "9bd83d36-f780-4ddc-8732-3fa3a4ec05ef",
   "metadata": {},
   "outputs": [],
   "source": [
    "d = 1024\n",
    "n = 100"
   ]
  },
  {
   "cell_type": "code",
   "execution_count": 4,
   "id": "4a76e8ab-0bbf-4667-bd87-2950665c2be7",
   "metadata": {},
   "outputs": [],
   "source": [
    "q = torch.randn(1, d)\n",
    "k = torch.randn(1, d)\n",
    "Q = torch.randn(n, d)\n",
    "K = torch.randn(n, d)"
   ]
  },
  {
   "cell_type": "code",
   "execution_count": 5,
   "id": "ca574dfd-b793-4d9b-b65f-17abee23a1cb",
   "metadata": {},
   "outputs": [
    {
     "data": {
      "text/html": [
       "<pre style=\"white-space:pre;overflow-x:auto;line-height:normal;font-family:Menlo,'DejaVu Sans Mono',consolas,'Courier New',monospace\"><span style=\"color: #800080; text-decoration-color: #800080; font-weight: bold\">tensor</span><span style=\"font-weight: bold\">(</span><span style=\"color: #008080; text-decoration-color: #008080; font-weight: bold\">0.0322</span><span style=\"font-weight: bold\">)</span> <span style=\"color: #800080; text-decoration-color: #800080; font-weight: bold\">tensor</span><span style=\"font-weight: bold\">(</span><span style=\"color: #008080; text-decoration-color: #008080; font-weight: bold\">1.0567</span><span style=\"font-weight: bold\">)</span>\n",
       "</pre>\n"
      ],
      "text/plain": [
       "\u001b[1;35mtensor\u001b[0m\u001b[1m(\u001b[0m\u001b[1;36m0.0322\u001b[0m\u001b[1m)\u001b[0m \u001b[1;35mtensor\u001b[0m\u001b[1m(\u001b[0m\u001b[1;36m1.0567\u001b[0m\u001b[1m)\u001b[0m\n"
      ]
     },
     "metadata": {},
     "output_type": "display_data"
    },
    {
     "data": {
      "text/html": [
       "<pre style=\"white-space:pre;overflow-x:auto;line-height:normal;font-family:Menlo,'DejaVu Sans Mono',consolas,'Courier New',monospace\"><span style=\"color: #800080; text-decoration-color: #800080; font-weight: bold\">tensor</span><span style=\"font-weight: bold\">(</span><span style=\"color: #008080; text-decoration-color: #008080; font-weight: bold\">-0.0057</span><span style=\"font-weight: bold\">)</span> <span style=\"color: #800080; text-decoration-color: #800080; font-weight: bold\">tensor</span><span style=\"font-weight: bold\">(</span><span style=\"color: #008080; text-decoration-color: #008080; font-weight: bold\">1.0215</span><span style=\"font-weight: bold\">)</span>\n",
       "</pre>\n"
      ],
      "text/plain": [
       "\u001b[1;35mtensor\u001b[0m\u001b[1m(\u001b[0m\u001b[1;36m-0.0057\u001b[0m\u001b[1m)\u001b[0m \u001b[1;35mtensor\u001b[0m\u001b[1m(\u001b[0m\u001b[1;36m1.0215\u001b[0m\u001b[1m)\u001b[0m\n"
      ]
     },
     "metadata": {},
     "output_type": "display_data"
    },
    {
     "data": {
      "text/html": [
       "<pre style=\"white-space:pre;overflow-x:auto;line-height:normal;font-family:Menlo,'DejaVu Sans Mono',consolas,'Courier New',monospace\"><span style=\"color: #800080; text-decoration-color: #800080; font-weight: bold\">tensor</span><span style=\"font-weight: bold\">(</span><span style=\"color: #008080; text-decoration-color: #008080; font-weight: bold\">-0.0028</span><span style=\"font-weight: bold\">)</span> <span style=\"color: #800080; text-decoration-color: #800080; font-weight: bold\">tensor</span><span style=\"font-weight: bold\">(</span><span style=\"color: #008080; text-decoration-color: #008080; font-weight: bold\">1.0012</span><span style=\"font-weight: bold\">)</span>\n",
       "</pre>\n"
      ],
      "text/plain": [
       "\u001b[1;35mtensor\u001b[0m\u001b[1m(\u001b[0m\u001b[1;36m-0.0028\u001b[0m\u001b[1m)\u001b[0m \u001b[1;35mtensor\u001b[0m\u001b[1m(\u001b[0m\u001b[1;36m1.0012\u001b[0m\u001b[1m)\u001b[0m\n"
      ]
     },
     "metadata": {},
     "output_type": "display_data"
    },
    {
     "data": {
      "text/html": [
       "<pre style=\"white-space:pre;overflow-x:auto;line-height:normal;font-family:Menlo,'DejaVu Sans Mono',consolas,'Courier New',monospace\"><span style=\"color: #800080; text-decoration-color: #800080; font-weight: bold\">tensor</span><span style=\"font-weight: bold\">(</span><span style=\"color: #008080; text-decoration-color: #008080; font-weight: bold\">-0.0047</span><span style=\"font-weight: bold\">)</span> <span style=\"color: #800080; text-decoration-color: #800080; font-weight: bold\">tensor</span><span style=\"font-weight: bold\">(</span><span style=\"color: #008080; text-decoration-color: #008080; font-weight: bold\">0.9994</span><span style=\"font-weight: bold\">)</span>\n",
       "</pre>\n"
      ],
      "text/plain": [
       "\u001b[1;35mtensor\u001b[0m\u001b[1m(\u001b[0m\u001b[1;36m-0.0047\u001b[0m\u001b[1m)\u001b[0m \u001b[1;35mtensor\u001b[0m\u001b[1m(\u001b[0m\u001b[1;36m0.9994\u001b[0m\u001b[1m)\u001b[0m\n"
      ]
     },
     "metadata": {},
     "output_type": "display_data"
    }
   ],
   "source": [
    "# 数据都为独立变量，服从方差为1，均值为0的正态分布\n",
    "\n",
    "print(q.mean(), q.var())\n",
    "print(k.mean(), k.var())\n",
    "print(Q.mean(), Q.var())\n",
    "print(K.mean(), K.var())"
   ]
  },
  {
   "cell_type": "markdown",
   "id": "044fb953-4c70-4c01-9528-e38168a2a93d",
   "metadata": {},
   "source": [
    "## 单独向量计算注意力分数"
   ]
  },
  {
   "cell_type": "markdown",
   "id": "8230c8f0-4a39-4184-bc83-7de43870ebdd",
   "metadata": {},
   "source": [
    "除于sqrt d 的数据接近1，而除于d的数据离1远的多"
   ]
  },
  {
   "cell_type": "code",
   "execution_count": 6,
   "id": "5baefb0d-830d-40b2-99ea-ac2cd0e14905",
   "metadata": {},
   "outputs": [
    {
     "data": {
      "text/html": [
       "<pre style=\"white-space:pre;overflow-x:auto;line-height:normal;font-family:Menlo,'DejaVu Sans Mono',consolas,'Courier New',monospace\"><span style=\"color: #800080; text-decoration-color: #800080; font-weight: bold\">tensor</span><span style=\"font-weight: bold\">([[</span><span style=\"color: #008080; text-decoration-color: #008080; font-weight: bold\">-19.6923</span><span style=\"font-weight: bold\">]])</span>\n",
       "</pre>\n"
      ],
      "text/plain": [
       "\u001b[1;35mtensor\u001b[0m\u001b[1m(\u001b[0m\u001b[1m[\u001b[0m\u001b[1m[\u001b[0m\u001b[1;36m-19.6923\u001b[0m\u001b[1m]\u001b[0m\u001b[1m]\u001b[0m\u001b[1m)\u001b[0m\n"
      ]
     },
     "metadata": {},
     "output_type": "display_data"
    },
    {
     "data": {
      "text/html": [
       "<pre style=\"white-space:pre;overflow-x:auto;line-height:normal;font-family:Menlo,'DejaVu Sans Mono',consolas,'Courier New',monospace\"><span style=\"color: #800080; text-decoration-color: #800080; font-weight: bold\">tensor</span><span style=\"font-weight: bold\">([[</span><span style=\"color: #008080; text-decoration-color: #008080; font-weight: bold\">-0.0192</span><span style=\"font-weight: bold\">]])</span>\n",
       "</pre>\n"
      ],
      "text/plain": [
       "\u001b[1;35mtensor\u001b[0m\u001b[1m(\u001b[0m\u001b[1m[\u001b[0m\u001b[1m[\u001b[0m\u001b[1;36m-0.0192\u001b[0m\u001b[1m]\u001b[0m\u001b[1m]\u001b[0m\u001b[1m)\u001b[0m\n"
      ]
     },
     "metadata": {},
     "output_type": "display_data"
    },
    {
     "data": {
      "text/html": [
       "<pre style=\"white-space:pre;overflow-x:auto;line-height:normal;font-family:Menlo,'DejaVu Sans Mono',consolas,'Courier New',monospace\"><span style=\"color: #800080; text-decoration-color: #800080; font-weight: bold\">tensor</span><span style=\"font-weight: bold\">([[</span><span style=\"color: #008080; text-decoration-color: #008080; font-weight: bold\">-0.6154</span><span style=\"font-weight: bold\">]])</span>\n",
       "</pre>\n"
      ],
      "text/plain": [
       "\u001b[1;35mtensor\u001b[0m\u001b[1m(\u001b[0m\u001b[1m[\u001b[0m\u001b[1m[\u001b[0m\u001b[1;36m-0.6154\u001b[0m\u001b[1m]\u001b[0m\u001b[1m]\u001b[0m\u001b[1m)\u001b[0m\n"
      ]
     },
     "metadata": {},
     "output_type": "display_data"
    }
   ],
   "source": [
    "score = q @ k.t()\n",
    "print(score)\n",
    "\n",
    "score_d = q @ k.t() / d\n",
    "print(score_d)\n",
    "\n",
    "score_sqrt_d = q @ k.t() / math.sqrt(d)\n",
    "print(score_sqrt_d)"
   ]
  },
  {
   "cell_type": "markdown",
   "id": "7292ae59-54ba-4888-8bcc-0b7eb22537aa",
   "metadata": {},
   "source": [
    "## 注意力分数与Softmax"
   ]
  },
  {
   "cell_type": "markdown",
   "id": "da3f2544-167d-48bb-8046-63d204232b09",
   "metadata": {},
   "source": [
    "我们注意到，注意力分数除于$\\sqrt{d}$的数据分布符合正态分布"
   ]
  },
  {
   "cell_type": "code",
   "execution_count": 9,
   "id": "1f8b6447-c031-43cc-9fe6-13e0ed978e7c",
   "metadata": {},
   "outputs": [
    {
     "data": {
      "text/html": [
       "<pre style=\"white-space:pre;overflow-x:auto;line-height:normal;font-family:Menlo,'DejaVu Sans Mono',consolas,'Courier New',monospace\"><span style=\"color: #800080; text-decoration-color: #800080; font-weight: bold\">torch.Size</span><span style=\"font-weight: bold\">([</span><span style=\"color: #008080; text-decoration-color: #008080; font-weight: bold\">1</span>, <span style=\"color: #008080; text-decoration-color: #008080; font-weight: bold\">100</span><span style=\"font-weight: bold\">])</span>\n",
       "</pre>\n"
      ],
      "text/plain": [
       "\u001b[1;35mtorch.Size\u001b[0m\u001b[1m(\u001b[0m\u001b[1m[\u001b[0m\u001b[1;36m1\u001b[0m, \u001b[1;36m100\u001b[0m\u001b[1m]\u001b[0m\u001b[1m)\u001b[0m\n"
      ]
     },
     "metadata": {},
     "output_type": "display_data"
    },
    {
     "data": {
      "text/html": [
       "<pre style=\"white-space:pre;overflow-x:auto;line-height:normal;font-family:Menlo,'DejaVu Sans Mono',consolas,'Courier New',monospace\"><span style=\"color: #800080; text-decoration-color: #800080; font-weight: bold\">tensor</span><span style=\"font-weight: bold\">(</span><span style=\"color: #008080; text-decoration-color: #008080; font-weight: bold\">0.1173</span><span style=\"font-weight: bold\">)</span> <span style=\"color: #800080; text-decoration-color: #800080; font-weight: bold\">tensor</span><span style=\"font-weight: bold\">(</span><span style=\"color: #008080; text-decoration-color: #008080; font-weight: bold\">960.1985</span><span style=\"font-weight: bold\">)</span>\n",
       "</pre>\n"
      ],
      "text/plain": [
       "\u001b[1;35mtensor\u001b[0m\u001b[1m(\u001b[0m\u001b[1;36m0.1173\u001b[0m\u001b[1m)\u001b[0m \u001b[1;35mtensor\u001b[0m\u001b[1m(\u001b[0m\u001b[1;36m960.1985\u001b[0m\u001b[1m)\u001b[0m\n"
      ]
     },
     "metadata": {},
     "output_type": "display_data"
    },
    {
     "data": {
      "text/html": [
       "<pre style=\"white-space:pre;overflow-x:auto;line-height:normal;font-family:Menlo,'DejaVu Sans Mono',consolas,'Courier New',monospace\"><span style=\"color: #800080; text-decoration-color: #800080; font-weight: bold\">tensor</span><span style=\"font-weight: bold\">(</span><span style=\"color: #008080; text-decoration-color: #008080; font-weight: bold\">0.0001</span><span style=\"font-weight: bold\">)</span> <span style=\"color: #800080; text-decoration-color: #800080; font-weight: bold\">tensor</span><span style=\"font-weight: bold\">(</span><span style=\"color: #008080; text-decoration-color: #008080; font-weight: bold\">0.0009</span><span style=\"font-weight: bold\">)</span>\n",
       "</pre>\n"
      ],
      "text/plain": [
       "\u001b[1;35mtensor\u001b[0m\u001b[1m(\u001b[0m\u001b[1;36m0.0001\u001b[0m\u001b[1m)\u001b[0m \u001b[1;35mtensor\u001b[0m\u001b[1m(\u001b[0m\u001b[1;36m0.0009\u001b[0m\u001b[1m)\u001b[0m\n"
      ]
     },
     "metadata": {},
     "output_type": "display_data"
    },
    {
     "data": {
      "text/html": [
       "<pre style=\"white-space:pre;overflow-x:auto;line-height:normal;font-family:Menlo,'DejaVu Sans Mono',consolas,'Courier New',monospace\"><span style=\"color: #800080; text-decoration-color: #800080; font-weight: bold\">tensor</span><span style=\"font-weight: bold\">(</span><span style=\"color: #008080; text-decoration-color: #008080; font-weight: bold\">0.0037</span><span style=\"font-weight: bold\">)</span> <span style=\"color: #800080; text-decoration-color: #800080; font-weight: bold\">tensor</span><span style=\"font-weight: bold\">(</span><span style=\"color: #008080; text-decoration-color: #008080; font-weight: bold\">0.9377</span><span style=\"font-weight: bold\">)</span>\n",
       "</pre>\n"
      ],
      "text/plain": [
       "\u001b[1;35mtensor\u001b[0m\u001b[1m(\u001b[0m\u001b[1;36m0.0037\u001b[0m\u001b[1m)\u001b[0m \u001b[1;35mtensor\u001b[0m\u001b[1m(\u001b[0m\u001b[1;36m0.9377\u001b[0m\u001b[1m)\u001b[0m\n"
      ]
     },
     "metadata": {},
     "output_type": "display_data"
    },
    {
     "data": {
      "text/html": [
       "<pre style=\"white-space:pre;overflow-x:auto;line-height:normal;font-family:Menlo,'DejaVu Sans Mono',consolas,'Courier New',monospace\"><span style=\"color: #800080; text-decoration-color: #800080; font-weight: bold\">tensor</span><span style=\"font-weight: bold\">([</span><span style=\"color: #008080; text-decoration-color: #008080; font-weight: bold\">-0.0244</span>,  <span style=\"color: #008080; text-decoration-color: #008080; font-weight: bold\">0.0074</span>, <span style=\"color: #008080; text-decoration-color: #008080; font-weight: bold\">-0.0200</span>,  <span style=\"color: #008080; text-decoration-color: #008080; font-weight: bold\">0.0068</span>, <span style=\"color: #008080; text-decoration-color: #008080; font-weight: bold\">-0.0271</span>, <span style=\"color: #008080; text-decoration-color: #008080; font-weight: bold\">-0.0447</span>,  <span style=\"color: #008080; text-decoration-color: #008080; font-weight: bold\">0.0573</span>, <span style=\"color: #008080; text-decoration-color: #008080; font-weight: bold\">-0.0701</span>,\n",
       "        <span style=\"color: #008080; text-decoration-color: #008080; font-weight: bold\">-0.0133</span>, <span style=\"color: #008080; text-decoration-color: #008080; font-weight: bold\">-0.0341</span><span style=\"font-weight: bold\">])</span>\n",
       "</pre>\n"
      ],
      "text/plain": [
       "\u001b[1;35mtensor\u001b[0m\u001b[1m(\u001b[0m\u001b[1m[\u001b[0m\u001b[1;36m-0.0244\u001b[0m,  \u001b[1;36m0.0074\u001b[0m, \u001b[1;36m-0.0200\u001b[0m,  \u001b[1;36m0.0068\u001b[0m, \u001b[1;36m-0.0271\u001b[0m, \u001b[1;36m-0.0447\u001b[0m,  \u001b[1;36m0.0573\u001b[0m, \u001b[1;36m-0.0701\u001b[0m,\n",
       "        \u001b[1;36m-0.0133\u001b[0m, \u001b[1;36m-0.0341\u001b[0m\u001b[1m]\u001b[0m\u001b[1m)\u001b[0m\n"
      ]
     },
     "metadata": {},
     "output_type": "display_data"
    },
    {
     "data": {
      "text/html": [
       "<pre style=\"white-space:pre;overflow-x:auto;line-height:normal;font-family:Menlo,'DejaVu Sans Mono',consolas,'Courier New',monospace\"><span style=\"color: #800080; text-decoration-color: #800080; font-weight: bold\">tensor</span><span style=\"font-weight: bold\">([</span><span style=\"color: #008080; text-decoration-color: #008080; font-weight: bold\">-0.7821</span>,  <span style=\"color: #008080; text-decoration-color: #008080; font-weight: bold\">0.2366</span>, <span style=\"color: #008080; text-decoration-color: #008080; font-weight: bold\">-0.6414</span>,  <span style=\"color: #008080; text-decoration-color: #008080; font-weight: bold\">0.2186</span>, <span style=\"color: #008080; text-decoration-color: #008080; font-weight: bold\">-0.8680</span>, <span style=\"color: #008080; text-decoration-color: #008080; font-weight: bold\">-1.4293</span>,  <span style=\"color: #008080; text-decoration-color: #008080; font-weight: bold\">1.8325</span>, <span style=\"color: #008080; text-decoration-color: #008080; font-weight: bold\">-2.2419</span>,\n",
       "        <span style=\"color: #008080; text-decoration-color: #008080; font-weight: bold\">-0.4264</span>, <span style=\"color: #008080; text-decoration-color: #008080; font-weight: bold\">-1.0911</span><span style=\"font-weight: bold\">])</span>\n",
       "</pre>\n"
      ],
      "text/plain": [
       "\u001b[1;35mtensor\u001b[0m\u001b[1m(\u001b[0m\u001b[1m[\u001b[0m\u001b[1;36m-0.7821\u001b[0m,  \u001b[1;36m0.2366\u001b[0m, \u001b[1;36m-0.6414\u001b[0m,  \u001b[1;36m0.2186\u001b[0m, \u001b[1;36m-0.8680\u001b[0m, \u001b[1;36m-1.4293\u001b[0m,  \u001b[1;36m1.8325\u001b[0m, \u001b[1;36m-2.2419\u001b[0m,\n",
       "        \u001b[1;36m-0.4264\u001b[0m, \u001b[1;36m-1.0911\u001b[0m\u001b[1m]\u001b[0m\u001b[1m)\u001b[0m\n"
      ]
     },
     "metadata": {},
     "output_type": "display_data"
    }
   ],
   "source": [
    "score_qK = q @ K.t()\n",
    "score_qK_d = q @ K.t() / d\n",
    "score_qK_sqrt_d = q @ K.t() / math.sqrt(d)\n",
    "\n",
    "print(score_qK.shape)\n",
    "\n",
    "print(score_qK.mean(), score_qK.var())\n",
    "print(score_qK_d.mean(), score_qK_d.var())\n",
    "print(score_qK_sqrt_d.mean(), score_qK_sqrt_d.var())\n",
    "\n",
    "# compare scaled with d and sqrt d\n",
    "print(score_qK_d[0,:10])\n",
    "print(score_qK_sqrt_d[0,:10])"
   ]
  },
  {
   "cell_type": "markdown",
   "id": "455f5c48-93f7-4b43-9162-c9e50cc0468d",
   "metadata": {},
   "source": [
    "### softmax前向计算"
   ]
  },
  {
   "cell_type": "code",
   "execution_count": 72,
   "id": "a356d92f-6aec-4cac-9950-6e73d2694332",
   "metadata": {},
   "outputs": [
    {
     "data": {
      "text/html": [
       "<pre style=\"white-space:pre;overflow-x:auto;line-height:normal;font-family:Menlo,'DejaVu Sans Mono',consolas,'Courier New',monospace\"><span style=\"color: #800080; text-decoration-color: #800080; font-weight: bold\">tensor</span><span style=\"font-weight: bold\">(</span><span style=\"color: #008080; text-decoration-color: #008080; font-weight: bold\">0.0100</span><span style=\"font-weight: bold\">)</span> <span style=\"color: #800080; text-decoration-color: #800080; font-weight: bold\">tensor</span><span style=\"font-weight: bold\">(</span><span style=\"color: #008080; text-decoration-color: #008080; font-weight: bold\">0.0067</span><span style=\"font-weight: bold\">)</span>\n",
       "</pre>\n"
      ],
      "text/plain": [
       "\u001b[1;35mtensor\u001b[0m\u001b[1m(\u001b[0m\u001b[1;36m0.0100\u001b[0m\u001b[1m)\u001b[0m \u001b[1;35mtensor\u001b[0m\u001b[1m(\u001b[0m\u001b[1;36m0.0067\u001b[0m\u001b[1m)\u001b[0m\n"
      ]
     },
     "metadata": {},
     "output_type": "display_data"
    },
    {
     "data": {
      "text/html": [
       "<pre style=\"white-space:pre;overflow-x:auto;line-height:normal;font-family:Menlo,'DejaVu Sans Mono',consolas,'Courier New',monospace\"><span style=\"color: #800080; text-decoration-color: #800080; font-weight: bold\">tensor</span><span style=\"font-weight: bold\">(</span><span style=\"color: #008080; text-decoration-color: #008080; font-weight: bold\">0.0100</span><span style=\"font-weight: bold\">)</span> <span style=\"color: #800080; text-decoration-color: #800080; font-weight: bold\">tensor</span><span style=\"font-weight: bold\">(</span><span style=\"color: #008080; text-decoration-color: #008080; font-weight: bold\">9.1749e-08</span><span style=\"font-weight: bold\">)</span>\n",
       "</pre>\n"
      ],
      "text/plain": [
       "\u001b[1;35mtensor\u001b[0m\u001b[1m(\u001b[0m\u001b[1;36m0.0100\u001b[0m\u001b[1m)\u001b[0m \u001b[1;35mtensor\u001b[0m\u001b[1m(\u001b[0m\u001b[1;36m9.1749e-08\u001b[0m\u001b[1m)\u001b[0m\n"
      ]
     },
     "metadata": {},
     "output_type": "display_data"
    },
    {
     "data": {
      "text/html": [
       "<pre style=\"white-space:pre;overflow-x:auto;line-height:normal;font-family:Menlo,'DejaVu Sans Mono',consolas,'Courier New',monospace\"><span style=\"color: #800080; text-decoration-color: #800080; font-weight: bold\">tensor</span><span style=\"font-weight: bold\">(</span><span style=\"color: #008080; text-decoration-color: #008080; font-weight: bold\">0.0100</span><span style=\"font-weight: bold\">)</span> <span style=\"color: #800080; text-decoration-color: #800080; font-weight: bold\">tensor</span><span style=\"font-weight: bold\">(</span><span style=\"color: #008080; text-decoration-color: #008080; font-weight: bold\">0.0001</span><span style=\"font-weight: bold\">)</span>\n",
       "</pre>\n"
      ],
      "text/plain": [
       "\u001b[1;35mtensor\u001b[0m\u001b[1m(\u001b[0m\u001b[1;36m0.0100\u001b[0m\u001b[1m)\u001b[0m \u001b[1;35mtensor\u001b[0m\u001b[1m(\u001b[0m\u001b[1;36m0.0001\u001b[0m\u001b[1m)\u001b[0m\n"
      ]
     },
     "metadata": {},
     "output_type": "display_data"
    }
   ],
   "source": [
    "score_qK_softmax = F.softmax(score_qK, dim = 1)\n",
    "score_qK_d_softmax = F.softmax(score_qK_d, dim = 1)\n",
    "score_qK_sqrt_d_softmax = F.softmax(score_qK_sqrt_d, dim = 1)\n",
    "\n",
    "print(score_qK_softmax.mean(), score_qK_softmax.var())\n",
    "print(score_qK_d_softmax.mean(), score_qK_d_softmax.var()) # 方差太小，梯度小\n",
    "print(score_qK_sqrt_d_softmax.mean(), score_qK_sqrt_d_softmax.var())"
   ]
  },
  {
   "cell_type": "markdown",
   "id": "11585133-7b4d-4ec8-b21d-f95ebbf7f5fe",
   "metadata": {},
   "source": [
    "## 如果不除于$\\sqrt{d}$ ， 那么Softmax的梯度会消失\n",
    "\n",
    "Softmax的梯度如何计算？"
   ]
  },
  {
   "cell_type": "code",
   "execution_count": 28,
   "id": "2fa62e78-13d1-4a4c-9953-78783c4cbde1",
   "metadata": {},
   "outputs": [
    {
     "data": {
      "text/html": [
       "<pre style=\"white-space:pre;overflow-x:auto;line-height:normal;font-family:Menlo,'DejaVu Sans Mono',consolas,'Courier New',monospace\"><span style=\"color: #800080; text-decoration-color: #800080; font-weight: bold\">tensor</span><span style=\"font-weight: bold\">([</span> <span style=\"color: #008080; text-decoration-color: #008080; font-weight: bold\">1.2886e-17</span>, <span style=\"color: #008080; text-decoration-color: #008080; font-weight: bold\">-7.7264e-28</span>,  <span style=\"color: #008080; text-decoration-color: #008080; font-weight: bold\">0.0000e+00</span>, <span style=\"color: #008080; text-decoration-color: #008080; font-weight: bold\">-6.4039e-43</span>,  <span style=\"color: #008080; text-decoration-color: #008080; font-weight: bold\">0.0000e+00</span>,\n",
       "        <span style=\"color: #008080; text-decoration-color: #008080; font-weight: bold\">-3.8536e-42</span>,  <span style=\"color: #008080; text-decoration-color: #008080; font-weight: bold\">0.0000e+00</span>, <span style=\"color: #008080; text-decoration-color: #008080; font-weight: bold\">-3.9298e-23</span>,  <span style=\"color: #008080; text-decoration-color: #008080; font-weight: bold\">0.0000e+00</span>, <span style=\"color: #008080; text-decoration-color: #008080; font-weight: bold\">-4.3368e-36</span><span style=\"font-weight: bold\">])</span>\n",
       "</pre>\n"
      ],
      "text/plain": [
       "\u001b[1;35mtensor\u001b[0m\u001b[1m(\u001b[0m\u001b[1m[\u001b[0m \u001b[1;36m1.2886e-17\u001b[0m, \u001b[1;36m-7.7264e-28\u001b[0m,  \u001b[1;36m0.0000e+00\u001b[0m, \u001b[1;36m-6.4039e-43\u001b[0m,  \u001b[1;36m0.0000e+00\u001b[0m,\n",
       "        \u001b[1;36m-3.8536e-42\u001b[0m,  \u001b[1;36m0.0000e+00\u001b[0m, \u001b[1;36m-3.9298e-23\u001b[0m,  \u001b[1;36m0.0000e+00\u001b[0m, \u001b[1;36m-4.3368e-36\u001b[0m\u001b[1m]\u001b[0m\u001b[1m)\u001b[0m\n"
      ]
     },
     "metadata": {},
     "output_type": "display_data"
    },
    {
     "data": {
      "text/html": [
       "<pre style=\"white-space:pre;overflow-x:auto;line-height:normal;font-family:Menlo,'DejaVu Sans Mono',consolas,'Courier New',monospace\"><span style=\"color: #800080; text-decoration-color: #800080; font-weight: bold\">tensor</span><span style=\"font-weight: bold\">([</span> <span style=\"color: #008080; text-decoration-color: #008080; font-weight: bold\">1.0211e-02</span>, <span style=\"color: #008080; text-decoration-color: #008080; font-weight: bold\">-1.0970e-04</span>, <span style=\"color: #008080; text-decoration-color: #008080; font-weight: bold\">-1.0063e-04</span>, <span style=\"color: #008080; text-decoration-color: #008080; font-weight: bold\">-1.0250e-04</span>, <span style=\"color: #008080; text-decoration-color: #008080; font-weight: bold\">-1.0099e-04</span>,\n",
       "        <span style=\"color: #008080; text-decoration-color: #008080; font-weight: bold\">-1.0286e-04</span>, <span style=\"color: #008080; text-decoration-color: #008080; font-weight: bold\">-9.8956e-05</span>, <span style=\"color: #008080; text-decoration-color: #008080; font-weight: bold\">-1.1204e-04</span>, <span style=\"color: #008080; text-decoration-color: #008080; font-weight: bold\">-9.9189e-05</span>, <span style=\"color: #008080; text-decoration-color: #008080; font-weight: bold\">-1.0570e-04</span><span style=\"font-weight: bold\">])</span>\n",
       "</pre>\n"
      ],
      "text/plain": [
       "\u001b[1;35mtensor\u001b[0m\u001b[1m(\u001b[0m\u001b[1m[\u001b[0m \u001b[1;36m1.0211e-02\u001b[0m, \u001b[1;36m-1.0970e-04\u001b[0m, \u001b[1;36m-1.0063e-04\u001b[0m, \u001b[1;36m-1.0250e-04\u001b[0m, \u001b[1;36m-1.0099e-04\u001b[0m,\n",
       "        \u001b[1;36m-1.0286e-04\u001b[0m, \u001b[1;36m-9.8956e-05\u001b[0m, \u001b[1;36m-1.1204e-04\u001b[0m, \u001b[1;36m-9.9189e-05\u001b[0m, \u001b[1;36m-1.0570e-04\u001b[0m\u001b[1m]\u001b[0m\u001b[1m)\u001b[0m\n"
      ]
     },
     "metadata": {},
     "output_type": "display_data"
    },
    {
     "data": {
      "text/html": [
       "<pre style=\"white-space:pre;overflow-x:auto;line-height:normal;font-family:Menlo,'DejaVu Sans Mono',consolas,'Courier New',monospace\"><span style=\"color: #800080; text-decoration-color: #800080; font-weight: bold\">tensor</span><span style=\"font-weight: bold\">([</span> <span style=\"color: #008080; text-decoration-color: #008080; font-weight: bold\">1.1918e-02</span>, <span style=\"color: #008080; text-decoration-color: #008080; font-weight: bold\">-2.8683e-04</span>, <span style=\"color: #008080; text-decoration-color: #008080; font-weight: bold\">-4.0737e-05</span>, <span style=\"color: #008080; text-decoration-color: #008080; font-weight: bold\">-6.1818e-05</span>, <span style=\"color: #008080; text-decoration-color: #008080; font-weight: bold\">-4.4167e-05</span>,\n",
       "        <span style=\"color: #008080; text-decoration-color: #008080; font-weight: bold\">-6.6921e-05</span>, <span style=\"color: #008080; text-decoration-color: #008080; font-weight: bold\">-2.7861e-05</span>, <span style=\"color: #008080; text-decoration-color: #008080; font-weight: bold\">-4.6305e-04</span>, <span style=\"color: #008080; text-decoration-color: #008080; font-weight: bold\">-2.9381e-05</span>, <span style=\"color: #008080; text-decoration-color: #008080; font-weight: bold\">-1.2388e-04</span><span style=\"font-weight: bold\">])</span>\n",
       "</pre>\n"
      ],
      "text/plain": [
       "\u001b[1;35mtensor\u001b[0m\u001b[1m(\u001b[0m\u001b[1m[\u001b[0m \u001b[1;36m1.1918e-02\u001b[0m, \u001b[1;36m-2.8683e-04\u001b[0m, \u001b[1;36m-4.0737e-05\u001b[0m, \u001b[1;36m-6.1818e-05\u001b[0m, \u001b[1;36m-4.4167e-05\u001b[0m,\n",
       "        \u001b[1;36m-6.6921e-05\u001b[0m, \u001b[1;36m-2.7861e-05\u001b[0m, \u001b[1;36m-4.6305e-04\u001b[0m, \u001b[1;36m-2.9381e-05\u001b[0m, \u001b[1;36m-1.2388e-04\u001b[0m\u001b[1m]\u001b[0m\u001b[1m)\u001b[0m\n"
      ]
     },
     "metadata": {},
     "output_type": "display_data"
    }
   ],
   "source": [
    "d = 512\n",
    "n = 100\n",
    "q = torch.randn(1,d) \n",
    "K = torch.randn(n,d) \n",
    "\n",
    "# 不除于d的话， 这个梯度消失了\n",
    "s = q@K.t() / math.sqrt(1)\n",
    "s = F.softmax(s, dim=1)\n",
    "ds = torch.diag(s[0])-s.t()@s\n",
    "print(ds[0,:10])\n",
    "\n",
    "\n",
    "# scaled d 这个梯度正常\n",
    "s = q@K.t() / d\n",
    "s = F.softmax(s, dim=1)\n",
    "ds = torch.diag(s[0])-s.t()@s\n",
    "print(ds[0,:10])\n",
    "\n",
    "\n",
    "# scaled sqrt d 这个梯度正常\n",
    "s = q@K.t() / math.sqrt(d)\n",
    "s = F.softmax(s, dim=1)\n",
    "ds = torch.diag(s[0])-s.t()@s\n",
    "print(ds[0,:10])"
   ]
  },
  {
   "cell_type": "markdown",
   "id": "10652496-928d-4bb4-8438-875e83ae749b",
   "metadata": {},
   "source": [
    "## 为什么要除于根号d而不是直接除于d"
   ]
  },
  {
   "cell_type": "markdown",
   "id": "3b9d3e26-f3d2-42f7-92c1-322186611909",
   "metadata": {},
   "source": [
    "如果这里的d=1000，即是1000维度。\n",
    "\n",
    "如果直接除于d，那么softmax之后的分布与原分布差异太大\n",
    "除于sqrt(d), softmax之后的分布与原数据接近"
   ]
  },
  {
   "cell_type": "code",
   "execution_count": 15,
   "id": "9e293b60-8993-48ad-a2bd-ab8d4788b842",
   "metadata": {},
   "outputs": [
    {
     "data": {
      "text/plain": [
       "tensor([1., 0., 0., 0.])"
      ]
     },
     "execution_count": 15,
     "metadata": {},
     "output_type": "execute_result"
    }
   ],
   "source": [
    "a = torch.tensor([1000.0, -2.0, 0.00001, 300.0])\n",
    "F.softmax(a, dim = 0)"
   ]
  },
  {
   "cell_type": "code",
   "execution_count": 16,
   "id": "6ff3694e-3099-478c-8b96-23277f621d04",
   "metadata": {},
   "outputs": [
    {
     "data": {
      "text/html": [
       "<pre style=\"white-space:pre;overflow-x:auto;line-height:normal;font-family:Menlo,'DejaVu Sans Mono',consolas,'Courier New',monospace\"><span style=\"color: #800080; text-decoration-color: #800080; font-weight: bold\">tensor</span><span style=\"font-weight: bold\">([</span><span style=\"color: #008080; text-decoration-color: #008080; font-weight: bold\">1.0000e+00</span>, <span style=\"color: #008080; text-decoration-color: #008080; font-weight: bold\">1.7335e-14</span>, <span style=\"color: #008080; text-decoration-color: #008080; font-weight: bold\">1.8467e-14</span>, <span style=\"color: #008080; text-decoration-color: #008080; font-weight: bold\">2.4349e-10</span><span style=\"font-weight: bold\">])</span>\n",
       "</pre>\n"
      ],
      "text/plain": [
       "\u001b[1;35mtensor\u001b[0m\u001b[1m(\u001b[0m\u001b[1m[\u001b[0m\u001b[1;36m1.0000e+00\u001b[0m, \u001b[1;36m1.7335e-14\u001b[0m, \u001b[1;36m1.8467e-14\u001b[0m, \u001b[1;36m2.4349e-10\u001b[0m\u001b[1m]\u001b[0m\u001b[1m)\u001b[0m\n"
      ]
     },
     "metadata": {},
     "output_type": "display_data"
    },
    {
     "data": {
      "text/html": [
       "<pre style=\"white-space:pre;overflow-x:auto;line-height:normal;font-family:Menlo,'DejaVu Sans Mono',consolas,'Courier New',monospace\"><span style=\"color: #800080; text-decoration-color: #800080; font-weight: bold\">tensor</span><span style=\"font-weight: bold\">(</span><span style=\"color: #008080; text-decoration-color: #008080; font-weight: bold\">0.2500</span><span style=\"font-weight: bold\">)</span>\n",
       "</pre>\n"
      ],
      "text/plain": [
       "\u001b[1;35mtensor\u001b[0m\u001b[1m(\u001b[0m\u001b[1;36m0.2500\u001b[0m\u001b[1m)\u001b[0m\n"
      ]
     },
     "metadata": {},
     "output_type": "display_data"
    }
   ],
   "source": [
    "print(F.softmax(a / math.sqrt(1000.0), dim = 0))\n",
    "print(F.softmax(a / math.sqrt(1000.0), dim = 0).var())"
   ]
  },
  {
   "cell_type": "code",
   "execution_count": 17,
   "id": "ab777130-80e1-47be-9cf0-b496eafaeb12",
   "metadata": {},
   "outputs": [
    {
     "data": {
      "text/html": [
       "<pre style=\"white-space:pre;overflow-x:auto;line-height:normal;font-family:Menlo,'DejaVu Sans Mono',consolas,'Courier New',monospace\"><span style=\"color: #800080; text-decoration-color: #800080; font-weight: bold\">tensor</span><span style=\"font-weight: bold\">([</span><span style=\"color: #008080; text-decoration-color: #008080; font-weight: bold\">0.4481</span>, <span style=\"color: #008080; text-decoration-color: #008080; font-weight: bold\">0.1645</span>, <span style=\"color: #008080; text-decoration-color: #008080; font-weight: bold\">0.1648</span>, <span style=\"color: #008080; text-decoration-color: #008080; font-weight: bold\">0.2225</span><span style=\"font-weight: bold\">])</span>\n",
       "</pre>\n"
      ],
      "text/plain": [
       "\u001b[1;35mtensor\u001b[0m\u001b[1m(\u001b[0m\u001b[1m[\u001b[0m\u001b[1;36m0.4481\u001b[0m, \u001b[1;36m0.1645\u001b[0m, \u001b[1;36m0.1648\u001b[0m, \u001b[1;36m0.2225\u001b[0m\u001b[1m]\u001b[0m\u001b[1m)\u001b[0m\n"
      ]
     },
     "metadata": {},
     "output_type": "display_data"
    },
    {
     "data": {
      "text/html": [
       "<pre style=\"white-space:pre;overflow-x:auto;line-height:normal;font-family:Menlo,'DejaVu Sans Mono',consolas,'Courier New',monospace\"><span style=\"color: #800080; text-decoration-color: #800080; font-weight: bold\">tensor</span><span style=\"font-weight: bold\">(</span><span style=\"color: #008080; text-decoration-color: #008080; font-weight: bold\">0.0182</span><span style=\"font-weight: bold\">)</span>\n",
       "</pre>\n"
      ],
      "text/plain": [
       "\u001b[1;35mtensor\u001b[0m\u001b[1m(\u001b[0m\u001b[1;36m0.0182\u001b[0m\u001b[1m)\u001b[0m\n"
      ]
     },
     "metadata": {},
     "output_type": "display_data"
    }
   ],
   "source": [
    "print(F.softmax(a / 1000.0, dim = 0))\n",
    "print(F.softmax(a / 1000.0, dim = 0).var())"
   ]
  },
  {
   "cell_type": "markdown",
   "id": "22f3037d-2042-4813-9830-01a128d064f7",
   "metadata": {},
   "source": [
    "## 为什么除于sqrt d后数据就是标准正态分布了"
   ]
  },
  {
   "cell_type": "markdown",
   "id": "0ef999ec-3cfa-4274-a10d-419a1794d2eb",
   "metadata": {},
   "source": [
    "scale with sqrt d的目的在于，将数据进行归一化，使得数据服从标准正态分布，即是方差为1，均值为0\n",
    "\n",
    "假定 X和Y是独立的随机变量，服从正态分布，那么\n",
    "\n",
    "$$\n",
    "\\begin{align}\n",
    "\\mathbb{E}[X + Y] &= \\mathbb{E}[X] + \\mathbb{E}[Y] \\\\\n",
    "Var(X + Y) &= Var(X) + Var(Y) \\\\\n",
    "\\mathbb{E}[XY] &= \\mathbb{E}[X]\\mathbb{E}[Y] \\\\\n",
    "Var(XY) &= (Var(X) + \\mathbb{E}[X]^2)(Var(Y) + \\mathbb{E}[Y]^2) - \\mathbb{E}[X]^2\\mathbb{E}[Y]^2\n",
    "\\end{align}\n",
    "$$\n",
    "\n",
    "给定$d$维度向量的$q$和$k$，\n",
    "\n",
    "$$\n",
    "\\displaystyle qk= \\sum_{i=0}^{d} q_{i} k_{i}\n",
    "$$\n",
    "\n",
    "\n",
    "那么计算在第i维度计算$q_i k_i$的均值和方差：\n",
    "\n",
    "$$\n",
    "\\mathbb{E}[q_i k_i] = \\mathbb{E}[q_i] \\mathbb{E}[k_i] = 0 \\\\\n",
    "$$\n",
    "$$\n",
    "Var(q_i k_i) = (Var(q_i) + \\mathbb{E}[q_i]^2)(Var(k_i) + \\mathbb{E}[k_i]^2) - \\mathbb{E}[q_i]^2\\mathbb{E}[k_i]^2 = 1\n",
    "$$\n",
    "\n",
    "此时我们对完整两个向量$qk$求均值和方差\n",
    "$$\n",
    "\\mathbb{E} \\left[\\displaystyle \\sum_{i=0}^{d} q_i k_i \\right] = \\displaystyle \\sum_{i=0}^{d} \\mathbb{E} \\left[ q_i k_i  \\right] = 0 \n",
    "$$\n",
    "$$\n",
    "Var\\left(\\displaystyle \\sum_{i=0}^{d} q_i k_i \\right) = \\displaystyle \\sum_{i=0}^{d} Var\\left( q_i k_i  \\right) = d\n",
    "$$\n",
    "\n",
    "结论是qk内积后服从均值0和方差d的分布。"
   ]
  },
  {
   "cell_type": "markdown",
   "id": "6fa33bf1-bf9b-4dab-9db4-bf906895dc19",
   "metadata": {},
   "source": [
    "**如何将方差变换为1**\n",
    "\n",
    "随机变量X与常数相乘后的方差为：\n",
    "\n",
    "如果X的方差为d,系数c，那么cX变量得方差为多少？\n",
    "\n",
    "我们知道方差有一个重要性质：对于任意常数 c 和随机变量 X，\n",
    "\n",
    "Var(cX) = c²Var(X)\n",
    "\n",
    "如果c = 1/sqrt(d)， 那么就可以求得\n",
    "\n",
    "Var(cX) = 1/d * d = 1"
   ]
  },
  {
   "cell_type": "markdown",
   "id": "4dc19b9c-5d4f-4bdb-be5b-769f432cc171",
   "metadata": {},
   "source": [
    "此时我们如果对于qk除于 $\\sqrt{d}$ 那么\n",
    "\n",
    "\n",
    "$$\n",
    "Var(qk/\\sqrt{d}) = \\frac{1}{\\sqrt{d}^2} Var(qk) = \\frac{d}{\\sqrt{d}^2} = 1\n",
    "$$\n",
    "\n",
    "如果qk除于d那么\n",
    "\n",
    "\n",
    "$$\n",
    "Var(qk/d) = \\frac{1}{d^2} Var(qk) = \\frac{d}{d^2} = \\frac{1}{d}\n",
    "$$\n"
   ]
  },
  {
   "cell_type": "markdown",
   "id": "959773b5-d97b-475e-acfc-a7efd5482f1f",
   "metadata": {},
   "source": [
    "## 为什么输入要服从标准的正态分布"
   ]
  },
  {
   "cell_type": "markdown",
   "id": "54d2a16d-a00a-4cb3-929c-e54cdc8c7101",
   "metadata": {},
   "source": [
    "一个输入数据分布是正态分布X~ (0, 1)，那么能更快更好的收敛。\n",
    "\n",
    "一个输入数据服从X~(0, 5)"
   ]
  },
  {
   "cell_type": "code",
   "execution_count": 41,
   "id": "b2663224-fffb-41a8-9bde-71b326969c61",
   "metadata": {},
   "outputs": [
    {
     "data": {
      "image/png": "[encoded data removed]",
      "text/plain": [
       "<Figure size 1000x500 with 1 Axes>"
      ]
     },
     "metadata": {},
     "output_type": "display_data"
    },
    {
     "data": {
      "text/html": [
       "<pre style=\"white-space:pre;overflow-x:auto;line-height:normal;font-family:Menlo,'DejaVu Sans Mono',consolas,'Courier New',monospace\">Final loss <span style=\"font-weight: bold\">(</span>Normal<span style=\"font-weight: bold\">)</span>: <span style=\"color: #008080; text-decoration-color: #008080; font-weight: bold\">0.4484</span>\n",
       "</pre>\n"
      ],
      "text/plain": [
       "Final loss \u001b[1m(\u001b[0mNormal\u001b[1m)\u001b[0m: \u001b[1;36m0.4484\u001b[0m\n"
      ]
     },
     "metadata": {},
     "output_type": "display_data"
    },
    {
     "data": {
      "text/html": [
       "<pre style=\"white-space:pre;overflow-x:auto;line-height:normal;font-family:Menlo,'DejaVu Sans Mono',consolas,'Courier New',monospace\">Final loss <span style=\"font-weight: bold\">(</span>Normal <span style=\"color: #008080; text-decoration-color: #008080; font-weight: bold\">5</span><span style=\"font-weight: bold\">)</span>: <span style=\"color: #008080; text-decoration-color: #008080; font-weight: bold\">0.5075</span>\n",
       "</pre>\n"
      ],
      "text/plain": [
       "Final loss \u001b[1m(\u001b[0mNormal \u001b[1;36m5\u001b[0m\u001b[1m)\u001b[0m: \u001b[1;36m0.5075\u001b[0m\n"
      ]
     },
     "metadata": {},
     "output_type": "display_data"
    }
   ],
   "source": [
    "# 使用正态分布输入的模型收敛得更快。\n",
    "# 正态分布输入的模型最终损失通常更低。\n",
    "# 正态分布输入的训练过程更加稳定，损失曲线更平滑。\n",
    "\n",
    "import copy\n",
    "import torch\n",
    "import torch.nn as nn\n",
    "import torch.optim as optim\n",
    "import matplotlib.pyplot as plt\n",
    "\n",
    "# 设置随机种子以保证可重复性\n",
    "torch.manual_seed(42)\n",
    "\n",
    "# 定义一个简单的神经网络\n",
    "class SimpleNet(nn.Module):\n",
    "    def __init__(self):\n",
    "        super(SimpleNet, self).__init__()\n",
    "        self.fc1 = nn.Linear(1, 10)\n",
    "        self.fc2 = nn.Linear(10, 1)\n",
    "    \n",
    "    def forward(self, x):\n",
    "        x = torch.tanh(self.fc1(x))\n",
    "        x = self.fc2(x)\n",
    "        return x\n",
    "\n",
    "# 训练函数\n",
    "def train_model(model, X, y, optimizer, criterion, epochs=1000):\n",
    "    losses = []\n",
    "    grad_norms = []\n",
    "    for epoch in range(epochs):\n",
    "        optimizer.zero_grad()\n",
    "        outputs = model(X)\n",
    "        loss = criterion(outputs, y)\n",
    "        loss.backward()\n",
    "        grad_norms.append(model.fc2.weight.grad.var())\n",
    "        optimizer.step()\n",
    "        losses.append(loss.item())\n",
    "    return losses, grad_norms\n",
    "\n",
    "# 生成数据\n",
    "n_samples = 1000\n",
    "X_normal = torch.randn(n_samples, 1)  # 正态分布\n",
    "X_normal_scale = torch.randn(n_samples, 1) * 5  # 正态分布\n",
    "# X_uniform = torch.rand(n_samples, 1) * 2 - 1  # 均匀分布 [-1, 1]\n",
    "\n",
    "\n",
    "# 目标函数\n",
    "y = torch.sin(X_normal * 3.14)\n",
    "\n",
    "# 训练模型\n",
    "model_normal = SimpleNet()\n",
    "model_normal_scale = copy.deepcopy(model_normal)# 两个模型的权重一样\n",
    "\n",
    "optimizer_normal = optim.SGD(model_normal.parameters(), lr=0.01)\n",
    "optimizer_normal_scale = optim.SGD(model_normal_scale.parameters(), lr=0.01)\n",
    "\n",
    "criterion = nn.MSELoss()\n",
    "\n",
    "losses_normal, grad_norms_fc2_normal = train_model(model_normal, X_normal, y, optimizer_normal, criterion)\n",
    "losses_normal_scale, grad_norms_fc2_uniform = train_model(model_normal_scale, X_normal_scale, y, optimizer_normal_scale, criterion)\n",
    "\n",
    "# 绘制损失曲线\n",
    "plt.figure(figsize=(10, 5))\n",
    "plt.plot(losses_normal, label='Normal Distribution')\n",
    "plt.plot(losses_normal_scale, label='Normal Distribution Scale 5')\n",
    "plt.xlabel('Epochs')\n",
    "plt.ylabel('Loss')\n",
    "plt.title('Training Loss Comparison')\n",
    "plt.legend()\n",
    "plt.yscale('log')  # 使用对数刻度以更好地显示差异\n",
    "plt.show()\n",
    "\n",
    "# 打印最终损失, 方差为1的输入分布数据，拟合的loss更低。\n",
    "print(f\"Final loss (Normal): {losses_normal[-1]:.4f}\")\n",
    "print(f\"Final loss (Normal 5): {losses_normal_scale[-1]:.4f}\")"
   ]
  }
 ],
 "metadata": {
  "kernelspec": {
   "display_name": "Python 3 (ipykernel)",
   "language": "python",
   "name": "python3"
  },
  "language_info": {
   "codemirror_mode": {
    "name": "ipython",
    "version": 3
   },
   "file_extension": ".py",
   "mimetype": "text/x-python",
   "name": "python",
   "nbconvert_exporter": "python",
   "pygments_lexer": "ipython3",
   "version": "3.11.9"
  }
 },
 "nbformat": 4,
 "nbformat_minor": 5
}
