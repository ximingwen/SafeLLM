{
 "cells": [
  {
   "cell_type": "markdown",
   "id": "11ccfbfd-29da-44a7-89e9-72fdb4c0bd96",
   "metadata": {},
   "source": [
    "# Cross Entropy Pytorch"
   ]
  },
  {
   "cell_type": "code",
   "execution_count": 1,
   "id": "bf3b9f39-9b76-4aac-9a33-8af4ad92ac23",
   "metadata": {},
   "outputs": [
    {
     "data": {
      "text/plain": [
       "<torch._C.Generator at 0x10ed3eab0>"
      ]
     },
     "execution_count": 1,
     "metadata": {},
     "output_type": "execute_result"
    }
   ],
   "source": [
    "import torch\n",
    "import torch.nn as nn\n",
    "import torch.nn.functional as F\n",
    "import math\n",
    "torch.manual_seed(0)"
   ]
  },
  {
   "cell_type": "markdown",
   "id": "7f4bb5b8-dbc8-4fd7-8ccc-fda7ef2678f0",
   "metadata": {},
   "source": [
    "## 负对数似然\n",
    "\n",
    "$-log(P)$"
   ]
  },
  {
   "cell_type": "code",
   "execution_count": 2,
   "id": "39946c74-6a68-41d3-8509-02dc0cc9af8f",
   "metadata": {},
   "outputs": [
    {
     "data": {
      "image/png": "[encoded data removed]",
      "text/plain": [
       "<Figure size 640x480 with 1 Axes>"
      ]
     },
     "metadata": {},
     "output_type": "display_data"
    }
   ],
   "source": [
    "import matplotlib.pyplot as plt\n",
    "\n",
    "x = torch.arange(0,100)/100.0\n",
    "p = -x.log()\n",
    "\n",
    "plot1=plt.plot(x.tolist(),p.tolist(),'-g',label=\"log(x)\")\n",
    "plt.show()\n",
    "# 随着概率增大，负对数似然变小。\n",
    "# 我们的目标是提高预测分类的概率，那么其负对数似然变小。"
   ]
  },
  {
   "cell_type": "markdown",
   "id": "7ed2b90c-b863-4638-b49e-5d2f035e32ca",
   "metadata": {},
   "source": [
    "## 熵计算"
   ]
  },
  {
   "cell_type": "markdown",
   "id": "5988340b-64c2-4dc4-abfd-84f407cefbe4",
   "metadata": {},
   "source": [
    "$$\n",
    "H = -\\sum_i p_i \\log(q_i)\n",
    "$$\n",
    "\n",
    "p是真实分布"
   ]
  },
  {
   "cell_type": "code",
   "execution_count": 3,
   "id": "6fee0256-6032-430c-a713-2882368a144b",
   "metadata": {},
   "outputs": [
    {
     "data": {
      "text/html": [
       "<pre style=\"white-space:pre;overflow-x:auto;line-height:normal;font-family:Menlo,'DejaVu Sans Mono',consolas,'Courier New',monospace\"><span style=\"color: #008080; text-decoration-color: #008080; font-weight: bold\">0.6238324625039507</span>\n",
       "</pre>\n"
      ],
      "text/plain": [
       "\u001b[1;36m0.6238324625039507\u001b[0m\n"
      ]
     },
     "metadata": {},
     "output_type": "display_data"
    }
   ],
   "source": [
    "q = 0.5\n",
    "p = 0.9\n",
    "\n",
    "entropy = -p*math.log(q)\n",
    "print(entropy)"
   ]
  },
  {
   "cell_type": "code",
   "execution_count": 4,
   "id": "94980a59-7dfc-4632-9718-d82400a4d1ef",
   "metadata": {},
   "outputs": [
    {
     "data": {
      "text/html": [
       "<pre style=\"white-space:pre;overflow-x:auto;line-height:normal;font-family:Menlo,'DejaVu Sans Mono',consolas,'Courier New',monospace\"><span style=\"color: #800080; text-decoration-color: #800080; font-weight: bold\">tensor</span><span style=\"font-weight: bold\">([</span><span style=\"color: #008080; text-decoration-color: #008080; font-weight: bold\">0.0693</span>, <span style=\"color: #008080; text-decoration-color: #008080; font-weight: bold\">1.4485</span>, <span style=\"color: #008080; text-decoration-color: #008080; font-weight: bold\">0.0000</span><span style=\"font-weight: bold\">])</span>\n",
       "</pre>\n"
      ],
      "text/plain": [
       "\u001b[1;35mtensor\u001b[0m\u001b[1m(\u001b[0m\u001b[1m[\u001b[0m\u001b[1;36m0.0693\u001b[0m, \u001b[1;36m1.4485\u001b[0m, \u001b[1;36m0.0000\u001b[0m\u001b[1m]\u001b[0m\u001b[1m)\u001b[0m\n"
      ]
     },
     "metadata": {},
     "output_type": "display_data"
    },
    {
     "data": {
      "text/html": [
       "<pre style=\"white-space:pre;overflow-x:auto;line-height:normal;font-family:Menlo,'DejaVu Sans Mono',consolas,'Courier New',monospace\"><span style=\"color: #800080; text-decoration-color: #800080; font-weight: bold\">tensor</span><span style=\"font-weight: bold\">(</span><span style=\"color: #008080; text-decoration-color: #008080; font-weight: bold\">1.5178</span><span style=\"font-weight: bold\">)</span>\n",
       "</pre>\n"
      ],
      "text/plain": [
       "\u001b[1;35mtensor\u001b[0m\u001b[1m(\u001b[0m\u001b[1;36m1.5178\u001b[0m\u001b[1m)\u001b[0m\n"
      ]
     },
     "metadata": {},
     "output_type": "display_data"
    }
   ],
   "source": [
    "# 给定两个概率分布，计算交叉熵\n",
    "\n",
    "q = torch.tensor([0.5, 0.2, 0.1])\n",
    "p = torch.tensor([0.1, 0.9, 0.0])#目标分布\n",
    "\n",
    "entropy = -p * torch.log(q)\n",
    "print(entropy)\n",
    "print(entropy.sum())"
   ]
  },
  {
   "cell_type": "code",
   "execution_count": 5,
   "id": "be0ce65e-b3e0-47f6-bf8e-eecd30e10ba4",
   "metadata": {},
   "outputs": [
    {
     "data": {
      "text/html": [
       "<pre style=\"white-space:pre;overflow-x:auto;line-height:normal;font-family:Menlo,'DejaVu Sans Mono',consolas,'Courier New',monospace\"><span style=\"color: #800080; text-decoration-color: #800080; font-weight: bold\">tensor</span><span style=\"font-weight: bold\">([</span><span style=\"color: #008080; text-decoration-color: #008080; font-weight: bold\">0.0000</span>, <span style=\"color: #008080; text-decoration-color: #008080; font-weight: bold\">0.6931</span>, <span style=\"color: #008080; text-decoration-color: #008080; font-weight: bold\">0.0000</span><span style=\"font-weight: bold\">])</span>\n",
       "</pre>\n"
      ],
      "text/plain": [
       "\u001b[1;35mtensor\u001b[0m\u001b[1m(\u001b[0m\u001b[1m[\u001b[0m\u001b[1;36m0.0000\u001b[0m, \u001b[1;36m0.6931\u001b[0m, \u001b[1;36m0.0000\u001b[0m\u001b[1m]\u001b[0m\u001b[1m)\u001b[0m\n"
      ]
     },
     "metadata": {},
     "output_type": "display_data"
    },
    {
     "data": {
      "text/html": [
       "<pre style=\"white-space:pre;overflow-x:auto;line-height:normal;font-family:Menlo,'DejaVu Sans Mono',consolas,'Courier New',monospace\"><span style=\"color: #800080; text-decoration-color: #800080; font-weight: bold\">tensor</span><span style=\"font-weight: bold\">(</span><span style=\"color: #008080; text-decoration-color: #008080; font-weight: bold\">0.6931</span><span style=\"font-weight: bold\">)</span>\n",
       "</pre>\n"
      ],
      "text/plain": [
       "\u001b[1;35mtensor\u001b[0m\u001b[1m(\u001b[0m\u001b[1;36m0.6931\u001b[0m\u001b[1m)\u001b[0m\n"
      ]
     },
     "metadata": {},
     "output_type": "display_data"
    }
   ],
   "source": [
    "# 给定两个概率分布\n",
    "\n",
    "q = torch.tensor([0.3, 0.5, 0.2])# 如果预测不对\n",
    "p = torch.tensor([0.0, 1.0, 0.0])# 目标分布，如果3分类的标签是2，那么第二个类别的概率为1\n",
    "\n",
    "entropy = -p*torch.log(q) #p1*logq1+p2*logq2+p3*logq3\n",
    "print(entropy)\n",
    "print(entropy.sum())"
   ]
  },
  {
   "cell_type": "code",
   "execution_count": 6,
   "id": "ce162e13-233c-4a29-812b-deee01ea05d4",
   "metadata": {},
   "outputs": [
    {
     "data": {
      "text/html": [
       "<pre style=\"white-space:pre;overflow-x:auto;line-height:normal;font-family:Menlo,'DejaVu Sans Mono',consolas,'Courier New',monospace\"><span style=\"color: #800080; text-decoration-color: #800080; font-weight: bold\">tensor</span><span style=\"font-weight: bold\">([</span><span style=\"color: #008080; text-decoration-color: #008080; font-weight: bold\">0.0000</span>, <span style=\"color: #008080; text-decoration-color: #008080; font-weight: bold\">0.1054</span>, <span style=\"color: #008080; text-decoration-color: #008080; font-weight: bold\">0.0000</span><span style=\"font-weight: bold\">])</span>\n",
       "</pre>\n"
      ],
      "text/plain": [
       "\u001b[1;35mtensor\u001b[0m\u001b[1m(\u001b[0m\u001b[1m[\u001b[0m\u001b[1;36m0.0000\u001b[0m, \u001b[1;36m0.1054\u001b[0m, \u001b[1;36m0.0000\u001b[0m\u001b[1m]\u001b[0m\u001b[1m)\u001b[0m\n"
      ]
     },
     "metadata": {},
     "output_type": "display_data"
    },
    {
     "data": {
      "text/html": [
       "<pre style=\"white-space:pre;overflow-x:auto;line-height:normal;font-family:Menlo,'DejaVu Sans Mono',consolas,'Courier New',monospace\"><span style=\"color: #800080; text-decoration-color: #800080; font-weight: bold\">tensor</span><span style=\"font-weight: bold\">(</span><span style=\"color: #008080; text-decoration-color: #008080; font-weight: bold\">0.1054</span><span style=\"font-weight: bold\">)</span>\n",
       "</pre>\n"
      ],
      "text/plain": [
       "\u001b[1;35mtensor\u001b[0m\u001b[1m(\u001b[0m\u001b[1;36m0.1054\u001b[0m\u001b[1m)\u001b[0m\n"
      ]
     },
     "metadata": {},
     "output_type": "display_data"
    }
   ],
   "source": [
    "# 给定两个概率分布\n",
    "\n",
    "q = torch.tensor([0.05, 0.9, 0.05])# 如果预测的较准确\n",
    "p = torch.tensor([0.0, 1.0, 0.0])# 目标分布\n",
    "\n",
    "entropy = -p * torch.log(q)\n",
    "print(entropy)\n",
    "print(entropy.sum())# # 如果预测的较准确, 熵更低"
   ]
  },
  {
   "cell_type": "code",
   "execution_count": 7,
   "id": "e87ed637-f606-4324-a121-d5edb5dace52",
   "metadata": {},
   "outputs": [
    {
     "data": {
      "text/html": [
       "<pre style=\"white-space:pre;overflow-x:auto;line-height:normal;font-family:Menlo,'DejaVu Sans Mono',consolas,'Courier New',monospace\"><span style=\"color: #800080; text-decoration-color: #800080; font-weight: bold\">tensor</span><span style=\"font-weight: bold\">(</span><span style=\"color: #008080; text-decoration-color: #008080; font-weight: bold\">0.1054</span><span style=\"font-weight: bold\">)</span>\n",
       "</pre>\n"
      ],
      "text/plain": [
       "\u001b[1;35mtensor\u001b[0m\u001b[1m(\u001b[0m\u001b[1;36m0.1054\u001b[0m\u001b[1m)\u001b[0m\n"
      ]
     },
     "metadata": {},
     "output_type": "display_data"
    },
    {
     "data": {
      "text/html": [
       "<pre style=\"white-space:pre;overflow-x:auto;line-height:normal;font-family:Menlo,'DejaVu Sans Mono',consolas,'Courier New',monospace\"><span style=\"color: #800080; text-decoration-color: #800080; font-weight: bold\">tensor</span><span style=\"font-weight: bold\">(</span><span style=\"color: #008080; text-decoration-color: #008080; font-weight: bold\">2.3026</span><span style=\"font-weight: bold\">)</span>\n",
       "</pre>\n"
      ],
      "text/plain": [
       "\u001b[1;35mtensor\u001b[0m\u001b[1m(\u001b[0m\u001b[1;36m2.3026\u001b[0m\u001b[1m)\u001b[0m\n"
      ]
     },
     "metadata": {},
     "output_type": "display_data"
    }
   ],
   "source": [
    "# 在具体的分类问题里,如果类别是1\n",
    "# 可以直接找-logq[1]做为交叉熵\n",
    "\n",
    "q = torch.tensor([0.05, 0.9, 0.05])# 如果预测的较准确\n",
    "label = 1 # q=[0.0, 1.0, 0.0]\n",
    "\n",
    "entropy = - torch.log(q[label])\n",
    "print(entropy) # 分类准确\n",
    "\n",
    "\n",
    "q = torch.tensor([0.1, 0.1, 0.8])# 如果预测不准确\n",
    "label = 1 # q=[0.0, 1.0, 0.0]\n",
    "\n",
    "entropy = - torch.log(q[label])\n",
    "print(entropy) # 分类不准确"
   ]
  },
  {
   "cell_type": "markdown",
   "id": "99fee377-9cb9-4c7d-a1ff-53d4e37f53e1",
   "metadata": {},
   "source": [
    "## 手撕交叉熵"
   ]
  },
  {
   "cell_type": "code",
   "execution_count": 8,
   "id": "851af695-1ebb-4a1e-98a0-aa66b1ac1dc8",
   "metadata": {},
   "outputs": [
    {
     "data": {
      "text/plain": [
       "tensor(2.5109)"
      ]
     },
     "execution_count": 8,
     "metadata": {},
     "output_type": "execute_result"
    }
   ],
   "source": [
    "def cross_entropy(p, q):\n",
    "    '''\n",
    "    p和q都是相同维度的概率分布\n",
    "    '''\n",
    "    return (-p * torch.log(q)).sum()\n",
    "\n",
    "pred = F.softmax( torch.randn(1, 10), dim=1)\n",
    "label = F.softmax( torch.randn(1, 10), dim=1)\n",
    "cross_entropy(label, pred)"
   ]
  },
  {
   "cell_type": "markdown",
   "id": "7c7d95e5-3856-4035-a5f0-3d8d2ae573b0",
   "metadata": {},
   "source": [
    "## 实例：分类"
   ]
  },
  {
   "cell_type": "code",
   "execution_count": 9,
   "id": "87cc097f-62ee-4e2f-a976-23547957129e",
   "metadata": {},
   "outputs": [
    {
     "data": {
      "text/html": [
       "<pre style=\"white-space:pre;overflow-x:auto;line-height:normal;font-family:Menlo,'DejaVu Sans Mono',consolas,'Courier New',monospace\"><span style=\"color: #800080; text-decoration-color: #800080; font-weight: bold\">tensor</span><span style=\"font-weight: bold\">([</span><span style=\"color: #008080; text-decoration-color: #008080; font-weight: bold\">1</span><span style=\"font-weight: bold\">])</span>\n",
       "</pre>\n"
      ],
      "text/plain": [
       "\u001b[1;35mtensor\u001b[0m\u001b[1m(\u001b[0m\u001b[1m[\u001b[0m\u001b[1;36m1\u001b[0m\u001b[1m]\u001b[0m\u001b[1m)\u001b[0m\n"
      ]
     },
     "metadata": {},
     "output_type": "display_data"
    },
    {
     "data": {
      "text/html": [
       "<pre style=\"white-space:pre;overflow-x:auto;line-height:normal;font-family:Menlo,'DejaVu Sans Mono',consolas,'Courier New',monospace\"><span style=\"color: #800080; text-decoration-color: #800080; font-weight: bold\">Linear</span><span style=\"font-weight: bold\">(</span><span style=\"color: #808000; text-decoration-color: #808000\">in_features</span>=<span style=\"color: #008080; text-decoration-color: #008080; font-weight: bold\">100</span>, <span style=\"color: #808000; text-decoration-color: #808000\">out_features</span>=<span style=\"color: #008080; text-decoration-color: #008080; font-weight: bold\">10</span>, <span style=\"color: #808000; text-decoration-color: #808000\">bias</span>=<span style=\"color: #00ff00; text-decoration-color: #00ff00; font-style: italic\">True</span><span style=\"font-weight: bold\">)</span>\n",
       "</pre>\n"
      ],
      "text/plain": [
       "\u001b[1;35mLinear\u001b[0m\u001b[1m(\u001b[0m\u001b[33min_features\u001b[0m=\u001b[1;36m100\u001b[0m, \u001b[33mout_features\u001b[0m=\u001b[1;36m10\u001b[0m, \u001b[33mbias\u001b[0m=\u001b[3;92mTrue\u001b[0m\u001b[1m)\u001b[0m\n"
      ]
     },
     "metadata": {},
     "output_type": "display_data"
    }
   ],
   "source": [
    "d = 100 # feature dimension\n",
    "c = 10 # 10类\n",
    "bs = 1 # batch_size\n",
    "\n",
    "x = torch.randn(bs, d)\n",
    "y = torch.randint(high=10, size=(1, bs))[0]\n",
    "print(y)\n",
    "\n",
    "w = nn.Linear(d, c)\n",
    "print(w)"
   ]
  },
  {
   "cell_type": "markdown",
   "id": "33f322af-c27b-4e58-9e14-8b153e28002b",
   "metadata": {},
   "source": [
    "计算分类时的交叉熵损失："
   ]
  },
  {
   "cell_type": "code",
   "execution_count": 10,
   "id": "e9c49840-1b49-4bdd-8b92-eae659054941",
   "metadata": {},
   "outputs": [
    {
     "data": {
      "text/html": [
       "<pre style=\"white-space:pre;overflow-x:auto;line-height:normal;font-family:Menlo,'DejaVu Sans Mono',consolas,'Courier New',monospace\"><span style=\"color: #800080; text-decoration-color: #800080; font-weight: bold\">torch.Size</span><span style=\"font-weight: bold\">([</span><span style=\"color: #008080; text-decoration-color: #008080; font-weight: bold\">1</span>, <span style=\"color: #008080; text-decoration-color: #008080; font-weight: bold\">10</span><span style=\"font-weight: bold\">])</span>\n",
       "</pre>\n"
      ],
      "text/plain": [
       "\u001b[1;35mtorch.Size\u001b[0m\u001b[1m(\u001b[0m\u001b[1m[\u001b[0m\u001b[1;36m1\u001b[0m, \u001b[1;36m10\u001b[0m\u001b[1m]\u001b[0m\u001b[1m)\u001b[0m\n"
      ]
     },
     "metadata": {},
     "output_type": "display_data"
    },
    {
     "data": {
      "text/html": [
       "<pre style=\"white-space:pre;overflow-x:auto;line-height:normal;font-family:Menlo,'DejaVu Sans Mono',consolas,'Courier New',monospace\"><span style=\"color: #800080; text-decoration-color: #800080; font-weight: bold\">tensor</span><span style=\"font-weight: bold\">([[</span> <span style=\"color: #008080; text-decoration-color: #008080; font-weight: bold\">0.4282</span>, <span style=\"color: #008080; text-decoration-color: #008080; font-weight: bold\">-0.3910</span>,  <span style=\"color: #008080; text-decoration-color: #008080; font-weight: bold\">0.6502</span>, <span style=\"color: #008080; text-decoration-color: #008080; font-weight: bold\">-0.2849</span>, <span style=\"color: #008080; text-decoration-color: #008080; font-weight: bold\">-0.2497</span>, <span style=\"color: #008080; text-decoration-color: #008080; font-weight: bold\">-0.0471</span>,  <span style=\"color: #008080; text-decoration-color: #008080; font-weight: bold\">1.0378</span>, <span style=\"color: #008080; text-decoration-color: #008080; font-weight: bold\">-0.8931</span>,\n",
       "          <span style=\"color: #008080; text-decoration-color: #008080; font-weight: bold\">0.7665</span>, <span style=\"color: #008080; text-decoration-color: #008080; font-weight: bold\">-0.0838</span><span style=\"font-weight: bold\">]]</span>, <span style=\"color: #808000; text-decoration-color: #808000\">grad_fn</span>=<span style=\"font-weight: bold\">&lt;</span><span style=\"color: #ff00ff; text-decoration-color: #ff00ff; font-weight: bold\">AddmmBackward0</span><span style=\"font-weight: bold\">&gt;)</span>\n",
       "</pre>\n"
      ],
      "text/plain": [
       "\u001b[1;35mtensor\u001b[0m\u001b[1m(\u001b[0m\u001b[1m[\u001b[0m\u001b[1m[\u001b[0m \u001b[1;36m0.4282\u001b[0m, \u001b[1;36m-0.3910\u001b[0m,  \u001b[1;36m0.6502\u001b[0m, \u001b[1;36m-0.2849\u001b[0m, \u001b[1;36m-0.2497\u001b[0m, \u001b[1;36m-0.0471\u001b[0m,  \u001b[1;36m1.0378\u001b[0m, \u001b[1;36m-0.8931\u001b[0m,\n",
       "          \u001b[1;36m0.7665\u001b[0m, \u001b[1;36m-0.0838\u001b[0m\u001b[1m]\u001b[0m\u001b[1m]\u001b[0m, \u001b[33mgrad_fn\u001b[0m=\u001b[1m<\u001b[0m\u001b[1;95mAddmmBackward0\u001b[0m\u001b[1m>\u001b[0m\u001b[1m)\u001b[0m\n"
      ]
     },
     "metadata": {},
     "output_type": "display_data"
    },
    {
     "data": {
      "text/html": [
       "<pre style=\"white-space:pre;overflow-x:auto;line-height:normal;font-family:Menlo,'DejaVu Sans Mono',consolas,'Courier New',monospace\"><span style=\"color: #800080; text-decoration-color: #800080; font-weight: bold\">tensor</span><span style=\"font-weight: bold\">([[</span><span style=\"color: #008080; text-decoration-color: #008080; font-weight: bold\">0.1188</span>, <span style=\"color: #008080; text-decoration-color: #008080; font-weight: bold\">0.0524</span>, <span style=\"color: #008080; text-decoration-color: #008080; font-weight: bold\">0.1483</span>, <span style=\"color: #008080; text-decoration-color: #008080; font-weight: bold\">0.0582</span>, <span style=\"color: #008080; text-decoration-color: #008080; font-weight: bold\">0.0603</span>, <span style=\"color: #008080; text-decoration-color: #008080; font-weight: bold\">0.0739</span>, <span style=\"color: #008080; text-decoration-color: #008080; font-weight: bold\">0.2186</span>, <span style=\"color: #008080; text-decoration-color: #008080; font-weight: bold\">0.0317</span>, <span style=\"color: #008080; text-decoration-color: #008080; font-weight: bold\">0.1666</span>,\n",
       "         <span style=\"color: #008080; text-decoration-color: #008080; font-weight: bold\">0.0712</span><span style=\"font-weight: bold\">]]</span>, <span style=\"color: #808000; text-decoration-color: #808000\">grad_fn</span>=<span style=\"font-weight: bold\">&lt;</span><span style=\"color: #ff00ff; text-decoration-color: #ff00ff; font-weight: bold\">SoftmaxBackward0</span><span style=\"font-weight: bold\">&gt;)</span>\n",
       "</pre>\n"
      ],
      "text/plain": [
       "\u001b[1;35mtensor\u001b[0m\u001b[1m(\u001b[0m\u001b[1m[\u001b[0m\u001b[1m[\u001b[0m\u001b[1;36m0.1188\u001b[0m, \u001b[1;36m0.0524\u001b[0m, \u001b[1;36m0.1483\u001b[0m, \u001b[1;36m0.0582\u001b[0m, \u001b[1;36m0.0603\u001b[0m, \u001b[1;36m0.0739\u001b[0m, \u001b[1;36m0.2186\u001b[0m, \u001b[1;36m0.0317\u001b[0m, \u001b[1;36m0.1666\u001b[0m,\n",
       "         \u001b[1;36m0.0712\u001b[0m\u001b[1m]\u001b[0m\u001b[1m]\u001b[0m, \u001b[33mgrad_fn\u001b[0m=\u001b[1m<\u001b[0m\u001b[1;95mSoftmaxBackward0\u001b[0m\u001b[1m>\u001b[0m\u001b[1m)\u001b[0m\n"
      ]
     },
     "metadata": {},
     "output_type": "display_data"
    },
    {
     "data": {
      "text/html": [
       "<pre style=\"white-space:pre;overflow-x:auto;line-height:normal;font-family:Menlo,'DejaVu Sans Mono',consolas,'Courier New',monospace\"><span style=\"color: #800080; text-decoration-color: #800080; font-weight: bold\">tensor</span><span style=\"font-weight: bold\">(</span><span style=\"color: #008080; text-decoration-color: #008080; font-weight: bold\">1.0000</span>, <span style=\"color: #808000; text-decoration-color: #808000\">grad_fn</span>=<span style=\"font-weight: bold\">&lt;</span><span style=\"color: #ff00ff; text-decoration-color: #ff00ff; font-weight: bold\">SumBackward0</span><span style=\"font-weight: bold\">&gt;)</span>\n",
       "</pre>\n"
      ],
      "text/plain": [
       "\u001b[1;35mtensor\u001b[0m\u001b[1m(\u001b[0m\u001b[1;36m1.0000\u001b[0m, \u001b[33mgrad_fn\u001b[0m=\u001b[1m<\u001b[0m\u001b[1;95mSumBackward0\u001b[0m\u001b[1m>\u001b[0m\u001b[1m)\u001b[0m\n"
      ]
     },
     "metadata": {},
     "output_type": "display_data"
    }
   ],
   "source": [
    "# logits不是概率无法直接用交叉熵来算\n",
    "logits = w(x)\n",
    "print(logits.shape)\n",
    "print(logits)\n",
    "\n",
    "# 用softmax我们得到了预测分类的概率\n",
    "prob = F.softmax(logits, dim = 1)\n",
    "print(prob)\n",
    "print(prob.sum())"
   ]
  },
  {
   "cell_type": "code",
   "execution_count": 11,
   "id": "a5ebbe10-2a3a-4ef9-b74f-588433a4d36f",
   "metadata": {},
   "outputs": [
    {
     "data": {
      "text/html": [
       "<pre style=\"white-space:pre;overflow-x:auto;line-height:normal;font-family:Menlo,'DejaVu Sans Mono',consolas,'Courier New',monospace\"><span style=\"color: #800080; text-decoration-color: #800080; font-weight: bold\">tensor</span><span style=\"font-weight: bold\">(</span><span style=\"color: #008080; text-decoration-color: #008080; font-weight: bold\">1</span><span style=\"font-weight: bold\">)</span>\n",
       "</pre>\n"
      ],
      "text/plain": [
       "\u001b[1;35mtensor\u001b[0m\u001b[1m(\u001b[0m\u001b[1;36m1\u001b[0m\u001b[1m)\u001b[0m\n"
      ]
     },
     "metadata": {},
     "output_type": "display_data"
    },
    {
     "data": {
      "text/html": [
       "<pre style=\"white-space:pre;overflow-x:auto;line-height:normal;font-family:Menlo,'DejaVu Sans Mono',consolas,'Courier New',monospace\"><span style=\"color: #800080; text-decoration-color: #800080; font-weight: bold\">tensor</span><span style=\"font-weight: bold\">([[</span><span style=\"color: #008080; text-decoration-color: #008080; font-weight: bold\">0</span>., <span style=\"color: #008080; text-decoration-color: #008080; font-weight: bold\">1</span>., <span style=\"color: #008080; text-decoration-color: #008080; font-weight: bold\">0</span>., <span style=\"color: #008080; text-decoration-color: #008080; font-weight: bold\">0</span>., <span style=\"color: #008080; text-decoration-color: #008080; font-weight: bold\">0</span>., <span style=\"color: #008080; text-decoration-color: #008080; font-weight: bold\">0</span>., <span style=\"color: #008080; text-decoration-color: #008080; font-weight: bold\">0</span>., <span style=\"color: #008080; text-decoration-color: #008080; font-weight: bold\">0</span>., <span style=\"color: #008080; text-decoration-color: #008080; font-weight: bold\">0</span>., <span style=\"color: #008080; text-decoration-color: #008080; font-weight: bold\">0</span>.<span style=\"font-weight: bold\">]])</span>\n",
       "</pre>\n"
      ],
      "text/plain": [
       "\u001b[1;35mtensor\u001b[0m\u001b[1m(\u001b[0m\u001b[1m[\u001b[0m\u001b[1m[\u001b[0m\u001b[1;36m0\u001b[0m., \u001b[1;36m1\u001b[0m., \u001b[1;36m0\u001b[0m., \u001b[1;36m0\u001b[0m., \u001b[1;36m0\u001b[0m., \u001b[1;36m0\u001b[0m., \u001b[1;36m0\u001b[0m., \u001b[1;36m0\u001b[0m., \u001b[1;36m0\u001b[0m., \u001b[1;36m0\u001b[0m.\u001b[1m]\u001b[0m\u001b[1m]\u001b[0m\u001b[1m)\u001b[0m\n"
      ]
     },
     "metadata": {},
     "output_type": "display_data"
    },
    {
     "data": {
      "text/plain": [
       "tensor(2.9495, grad_fn=<SumBackward0>)"
      ]
     },
     "execution_count": 11,
     "metadata": {},
     "output_type": "execute_result"
    }
   ],
   "source": [
    "#我们将label也转化成概率形式： \n",
    "def label2prob(y):\n",
    "    y_prob = torch.zeros(1, c)\n",
    "    y_prob[0,y] = 1.0\n",
    "    return y_prob\n",
    "\n",
    "print(y[0])\n",
    "q = label2prob(y[0])\n",
    "print(q)\n",
    "\n",
    "cross_entropy(q, prob)"
   ]
  },
  {
   "cell_type": "markdown",
   "id": "c92805d6-00cb-440a-975b-4d6e1ce9340f",
   "metadata": {},
   "source": [
    "## 实现接近pytorch版本的 CE loss"
   ]
  },
  {
   "cell_type": "code",
   "execution_count": 12,
   "id": "2b71aed6-462f-47f2-a9b4-f4af5b342560",
   "metadata": {},
   "outputs": [
    {
     "data": {
      "text/plain": [
       "tensor(2.9495, grad_fn=<SumBackward0>)"
      ]
     },
     "execution_count": 12,
     "metadata": {},
     "output_type": "execute_result"
    }
   ],
   "source": [
    "## 进一步实现，我们设定接口如下\n",
    "def cross_entropy_with_logits(label, logits):\n",
    "    '''\n",
    "    我们类似pytorch来实现分类时的交叉熵损失\n",
    "    label = [bs]\n",
    "    logits = [bs, classes]\n",
    "    '''\n",
    "    prob = F.softmax(logits, dim = -1)\n",
    "    logprob = torch.log(prob)\n",
    "    q = label2prob(label)\n",
    "    CE_loss = (q * -logprob).sum()\n",
    "    return CE_loss\n",
    "\n",
    "logits = w(x)\n",
    "cross_entropy_with_logits(y, logits)"
   ]
  },
  {
   "cell_type": "code",
   "execution_count": 13,
   "id": "9ebe5d93-2408-4547-9807-88163e13a17e",
   "metadata": {},
   "outputs": [
    {
     "data": {
      "text/plain": [
       "tensor([2.9495], grad_fn=<NegBackward0>)"
      ]
     },
     "execution_count": 13,
     "metadata": {},
     "output_type": "execute_result"
    }
   ],
   "source": [
    "## 上述版本对于分类任务里，我们可以减少计算量 \n",
    "# 由于非正确类别的pi为0，那么我们不需要计算这个熵，所以可重写为\n",
    "\n",
    "## 进一步实现，我们设定接口如下\n",
    "def cross_entropy_with_logits(label, logits):\n",
    "    '''\n",
    "    我们类似pytorch来实现分类时的交叉熵损失\n",
    "    label size : [bs]\n",
    "    logits size: [bs, classes]\n",
    "    '''\n",
    "    prob = F.softmax(logits, dim = -1)\n",
    "    logprob = torch.log(prob)\n",
    "    CE_loss = -logprob[0,label]\n",
    "    return CE_loss\n",
    "\n",
    "cross_entropy_with_logits(y, logits)"
   ]
  },
  {
   "cell_type": "code",
   "execution_count": 14,
   "id": "414070f7-0ad4-49b1-bdef-d586c6c9616b",
   "metadata": {},
   "outputs": [
    {
     "data": {
      "text/html": [
       "<pre style=\"white-space:pre;overflow-x:auto;line-height:normal;font-family:Menlo,'DejaVu Sans Mono',consolas,'Courier New',monospace\"><span style=\"color: #800080; text-decoration-color: #800080; font-weight: bold\">torch.Size</span><span style=\"font-weight: bold\">([</span><span style=\"color: #008080; text-decoration-color: #008080; font-weight: bold\">4</span>, <span style=\"color: #008080; text-decoration-color: #008080; font-weight: bold\">10</span><span style=\"font-weight: bold\">])</span>\n",
       "</pre>\n"
      ],
      "text/plain": [
       "\u001b[1;35mtorch.Size\u001b[0m\u001b[1m(\u001b[0m\u001b[1m[\u001b[0m\u001b[1;36m4\u001b[0m, \u001b[1;36m10\u001b[0m\u001b[1m]\u001b[0m\u001b[1m)\u001b[0m\n"
      ]
     },
     "metadata": {},
     "output_type": "display_data"
    },
    {
     "data": {
      "text/html": [
       "<pre style=\"white-space:pre;overflow-x:auto;line-height:normal;font-family:Menlo,'DejaVu Sans Mono',consolas,'Courier New',monospace\"><span style=\"color: #800080; text-decoration-color: #800080; font-weight: bold\">torch.Size</span><span style=\"font-weight: bold\">([</span><span style=\"color: #008080; text-decoration-color: #008080; font-weight: bold\">4</span><span style=\"font-weight: bold\">])</span>\n",
       "</pre>\n"
      ],
      "text/plain": [
       "\u001b[1;35mtorch.Size\u001b[0m\u001b[1m(\u001b[0m\u001b[1m[\u001b[0m\u001b[1;36m4\u001b[0m\u001b[1m]\u001b[0m\u001b[1m)\u001b[0m\n"
      ]
     },
     "metadata": {},
     "output_type": "display_data"
    },
    {
     "data": {
      "text/html": [
       "<pre style=\"white-space:pre;overflow-x:auto;line-height:normal;font-family:Menlo,'DejaVu Sans Mono',consolas,'Courier New',monospace\"><span style=\"color: #800080; text-decoration-color: #800080; font-weight: bold\">tensor</span><span style=\"font-weight: bold\">([</span><span style=\"color: #008080; text-decoration-color: #008080; font-weight: bold\">6</span>, <span style=\"color: #008080; text-decoration-color: #008080; font-weight: bold\">0</span>, <span style=\"color: #008080; text-decoration-color: #008080; font-weight: bold\">8</span>, <span style=\"color: #008080; text-decoration-color: #008080; font-weight: bold\">2</span><span style=\"font-weight: bold\">])</span>\n",
       "</pre>\n"
      ],
      "text/plain": [
       "\u001b[1;35mtensor\u001b[0m\u001b[1m(\u001b[0m\u001b[1m[\u001b[0m\u001b[1;36m6\u001b[0m, \u001b[1;36m0\u001b[0m, \u001b[1;36m8\u001b[0m, \u001b[1;36m2\u001b[0m\u001b[1m]\u001b[0m\u001b[1m)\u001b[0m\n"
      ]
     },
     "metadata": {},
     "output_type": "display_data"
    },
    {
     "data": {
      "text/plain": [
       "tensor(2.3674, grad_fn=<NegBackward0>)"
      ]
     },
     "execution_count": 14,
     "metadata": {},
     "output_type": "execute_result"
    }
   ],
   "source": [
    "# 批量版本CE\n",
    "def cross_entropy_with_batch_logits(label, logits):\n",
    "    '''\n",
    "    我们类似pytorch来实现分类时的交叉熵损失\n",
    "    label size : [bs]\n",
    "    logits size: [bs, classes]\n",
    "    '''\n",
    "    bs,_ = logits.shape\n",
    "    prob = F.softmax(logits, dim = -1)\n",
    "    idx = torch.arange(0,bs)\n",
    "\n",
    "    # 减少了需要log的计算量\n",
    "    # 减少了-q logp计算\n",
    "    logprob = prob[idx, label].log()\n",
    "    CE_loss = -logprob.mean()\n",
    "    return CE_loss\n",
    "\n",
    "bs = 4 \n",
    "label = torch.randint(high=c, size=(1,bs, ))[0]\n",
    "x = torch.randn(bs, d)\n",
    "logits = w(x)\n",
    "print(logits.shape)\n",
    "print(label.shape)\n",
    "print(label)\n",
    "\n",
    "cross_entropy_with_batch_logits(label, logits)"
   ]
  },
  {
   "cell_type": "code",
   "execution_count": 15,
   "id": "797fdc3a-7ab8-492b-a34a-e7902184fa9f",
   "metadata": {},
   "outputs": [
    {
     "data": {
      "text/plain": [
       "tensor(2.3674, grad_fn=<NegBackward0>)"
      ]
     },
     "execution_count": 15,
     "metadata": {},
     "output_type": "execute_result"
    }
   ],
   "source": [
    "# 批量版本仿pytorch实现\n",
    "def cross_entropy_pytorch(label, logits):\n",
    "    '''\n",
    "    我们类似pytorch来实现分类时的交叉熵损失\n",
    "    label size : [bs]\n",
    "    logits size: [bs, classes]\n",
    "    '''\n",
    "    bs,_ = logits.shape\n",
    "    \n",
    "    # 由于softmax会溢出，且我们需要的是logprob\n",
    "    # 那么可以用log softmax函数直接获取logprob\n",
    "    logprob = F.log_softmax(logits, dim = -1)\n",
    "    idx = torch.arange(0,bs)\n",
    "    logprob = logprob[idx, label]\n",
    "    CE_loss = -logprob.mean()\n",
    "    return CE_loss\n",
    "\n",
    "cross_entropy_with_batch_logits(label, logits)"
   ]
  },
  {
   "cell_type": "code",
   "execution_count": 16,
   "id": "3d0f9b12-7820-4889-8609-e9314a9a19ce",
   "metadata": {},
   "outputs": [
    {
     "data": {
      "text/plain": [
       "tensor(2.3674, grad_fn=<NllLossBackward0>)"
      ]
     },
     "execution_count": 16,
     "metadata": {},
     "output_type": "execute_result"
    }
   ],
   "source": [
    "# 接下来调用pytorch的实现，来验证我们的手撕代码实现\n",
    "loss_fn = nn.CrossEntropyLoss()\n",
    "loss_fn(logits, label)"
   ]
  }
 ],
 "metadata": {
  "kernelspec": {
   "display_name": "Python 3 (ipykernel)",
   "language": "python",
   "name": "python3"
  },
  "language_info": {
   "codemirror_mode": {
    "name": "ipython",
    "version": 3
   },
   "file_extension": ".py",
   "mimetype": "text/x-python",
   "name": "python",
   "nbconvert_exporter": "python",
   "pygments_lexer": "ipython3",
   "version": "3.11.9"
  }
 },
 "nbformat": 4,
 "nbformat_minor": 5
}
