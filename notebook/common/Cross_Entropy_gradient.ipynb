{
 "cells": [
  {
   "cell_type": "markdown",
   "id": "6ddf8353-381d-48ba-ad2b-aef0497ee81e",
   "metadata": {},
   "source": [
    "# Cross Entropy Gradient 计算"
   ]
  },
  {
   "cell_type": "markdown",
   "id": "6ec7c5df-3e81-44bf-999d-0eaa1cdf78f6",
   "metadata": {},
   "source": [
    "reference \n",
    "[softmax和Cross Entropy 导数推导](https://www.cnblogs.com/wuliytTaotao/p/10787510.html)"
   ]
  },
  {
   "cell_type": "markdown",
   "id": "7b828428-1a4c-4138-84a9-a0d709832fbd",
   "metadata": {},
   "source": [
    "先根据结论\n",
    "\n",
    "目标概率分布为p， 当前logits softmax的概率分布为q\n",
    "\n",
    "则cross entropy loss对于logits的导数为：\n",
    "\n",
    "grad_logits = q - p"
   ]
  },
  {
   "cell_type": "markdown",
   "id": "bc1d8049-ba2a-422c-a1ce-0d78b741f005",
   "metadata": {},
   "source": [
    "## Pytorch求导"
   ]
  },
  {
   "cell_type": "code",
   "execution_count": 1,
   "id": "5de006e2-30e5-464f-b9b0-a94dd9e3c2c1",
   "metadata": {},
   "outputs": [
    {
     "data": {
      "text/plain": [
       "tensor([[ 0.3636,  0.0581,  0.0088,  0.1375,  0.0263,  0.0192, -0.8834,  0.1800,\n",
       "          0.0379,  0.0520]])"
      ]
     },
     "execution_count": 1,
     "metadata": {},
     "output_type": "execute_result"
    }
   ],
   "source": [
    "import torch\n",
    "import torch.nn as nn\n",
    "import torch.nn.functional as F\n",
    "torch.manual_seed(0)\n",
    "\n",
    "bs = 1\n",
    "N = 10 #分类\n",
    "\n",
    "logits = torch.randn(1, N, requires_grad=True)\n",
    "labels = torch.randint(high = N, size=(1, bs))[0]\n",
    "loss_fn = nn.CrossEntropyLoss()\n",
    "loss = loss_fn(logits, labels)\n",
    "loss.backward()\n",
    "logits.grad"
   ]
  },
  {
   "cell_type": "markdown",
   "id": "7939a541-32a1-4681-9812-595642843a12",
   "metadata": {},
   "source": [
    "## 手动求logits导 "
   ]
  },
  {
   "cell_type": "code",
   "execution_count": 2,
   "id": "181adf8b-5e0c-4b7f-800a-807cb56cfa5d",
   "metadata": {},
   "outputs": [
    {
     "data": {
      "text/html": [
       "<pre style=\"white-space:pre;overflow-x:auto;line-height:normal;font-family:Menlo,'DejaVu Sans Mono',consolas,'Courier New',monospace\"><span style=\"color: #800080; text-decoration-color: #800080; font-weight: bold\">tensor</span><span style=\"font-weight: bold\">([[</span><span style=\"color: #008080; text-decoration-color: #008080; font-weight: bold\">0</span>., <span style=\"color: #008080; text-decoration-color: #008080; font-weight: bold\">0</span>., <span style=\"color: #008080; text-decoration-color: #008080; font-weight: bold\">0</span>., <span style=\"color: #008080; text-decoration-color: #008080; font-weight: bold\">0</span>., <span style=\"color: #008080; text-decoration-color: #008080; font-weight: bold\">0</span>., <span style=\"color: #008080; text-decoration-color: #008080; font-weight: bold\">0</span>., <span style=\"color: #008080; text-decoration-color: #008080; font-weight: bold\">1</span>., <span style=\"color: #008080; text-decoration-color: #008080; font-weight: bold\">0</span>., <span style=\"color: #008080; text-decoration-color: #008080; font-weight: bold\">0</span>., <span style=\"color: #008080; text-decoration-color: #008080; font-weight: bold\">0</span>.<span style=\"font-weight: bold\">]])</span>\n",
       "</pre>\n"
      ],
      "text/plain": [
       "\u001b[1;35mtensor\u001b[0m\u001b[1m(\u001b[0m\u001b[1m[\u001b[0m\u001b[1m[\u001b[0m\u001b[1;36m0\u001b[0m., \u001b[1;36m0\u001b[0m., \u001b[1;36m0\u001b[0m., \u001b[1;36m0\u001b[0m., \u001b[1;36m0\u001b[0m., \u001b[1;36m0\u001b[0m., \u001b[1;36m1\u001b[0m., \u001b[1;36m0\u001b[0m., \u001b[1;36m0\u001b[0m., \u001b[1;36m0\u001b[0m.\u001b[1m]\u001b[0m\u001b[1m]\u001b[0m\u001b[1m)\u001b[0m\n"
      ]
     },
     "metadata": {},
     "output_type": "display_data"
    },
    {
     "data": {
      "text/html": [
       "<pre style=\"white-space:pre;overflow-x:auto;line-height:normal;font-family:Menlo,'DejaVu Sans Mono',consolas,'Courier New',monospace\"><span style=\"color: #800080; text-decoration-color: #800080; font-weight: bold\">tensor</span><span style=\"font-weight: bold\">([[</span> <span style=\"color: #008080; text-decoration-color: #008080; font-weight: bold\">0.3636</span>,  <span style=\"color: #008080; text-decoration-color: #008080; font-weight: bold\">0.0581</span>,  <span style=\"color: #008080; text-decoration-color: #008080; font-weight: bold\">0.0088</span>,  <span style=\"color: #008080; text-decoration-color: #008080; font-weight: bold\">0.1375</span>,  <span style=\"color: #008080; text-decoration-color: #008080; font-weight: bold\">0.0263</span>,  <span style=\"color: #008080; text-decoration-color: #008080; font-weight: bold\">0.0192</span>, <span style=\"color: #008080; text-decoration-color: #008080; font-weight: bold\">-0.8834</span>,  <span style=\"color: #008080; text-decoration-color: #008080; font-weight: bold\">0.1800</span>,\n",
       "          <span style=\"color: #008080; text-decoration-color: #008080; font-weight: bold\">0.0379</span>,  <span style=\"color: #008080; text-decoration-color: #008080; font-weight: bold\">0.0520</span><span style=\"font-weight: bold\">]]</span>, <span style=\"color: #808000; text-decoration-color: #808000\">grad_fn</span>=<span style=\"font-weight: bold\">&lt;</span><span style=\"color: #ff00ff; text-decoration-color: #ff00ff; font-weight: bold\">SubBackward0</span><span style=\"font-weight: bold\">&gt;)</span>\n",
       "</pre>\n"
      ],
      "text/plain": [
       "\u001b[1;35mtensor\u001b[0m\u001b[1m(\u001b[0m\u001b[1m[\u001b[0m\u001b[1m[\u001b[0m \u001b[1;36m0.3636\u001b[0m,  \u001b[1;36m0.0581\u001b[0m,  \u001b[1;36m0.0088\u001b[0m,  \u001b[1;36m0.1375\u001b[0m,  \u001b[1;36m0.0263\u001b[0m,  \u001b[1;36m0.0192\u001b[0m, \u001b[1;36m-0.8834\u001b[0m,  \u001b[1;36m0.1800\u001b[0m,\n",
       "          \u001b[1;36m0.0379\u001b[0m,  \u001b[1;36m0.0520\u001b[0m\u001b[1m]\u001b[0m\u001b[1m]\u001b[0m, \u001b[33mgrad_fn\u001b[0m=\u001b[1m<\u001b[0m\u001b[1;95mSubBackward0\u001b[0m\u001b[1m>\u001b[0m\u001b[1m)\u001b[0m\n"
      ]
     },
     "metadata": {},
     "output_type": "display_data"
    }
   ],
   "source": [
    "y_hat = torch.zeros(bs, N)\n",
    "y_hat[0,labels] = 1\n",
    "print(y_hat)\n",
    "\n",
    "y = F.softmax(logits, dim=1)[0]\n",
    "\n",
    "grad_logits = y-y_hat\n",
    "print(grad_logits)\n",
    "      "
   ]
  },
  {
   "cell_type": "markdown",
   "id": "b5912cf6-19ef-440c-858c-c467af506d1e",
   "metadata": {},
   "source": [
    "# 展开Cross Entropy一步步求导"
   ]
  },
  {
   "cell_type": "code",
   "execution_count": 3,
   "id": "3891bde6-6817-4c4e-8425-1e3b263aa949",
   "metadata": {},
   "outputs": [],
   "source": [
    "# bs = 1\n",
    "# N = 10 #分类\n",
    "# logits = torch.randn(1, N, requires_grad=True)\n",
    "# labels = torch.randint(high = N, size=(1, bs))[0]\n",
    "p = torch.zeros(bs, N)\n",
    "p[0, labels] = 1"
   ]
  },
  {
   "cell_type": "code",
   "execution_count": 4,
   "id": "4cb908a0-b9cb-4081-80e9-4e9c4693998c",
   "metadata": {},
   "outputs": [
    {
     "data": {
      "text/html": [
       "<pre style=\"white-space:pre;overflow-x:auto;line-height:normal;font-family:Menlo,'DejaVu Sans Mono',consolas,'Courier New',monospace\"><span style=\"color: #800080; text-decoration-color: #800080; font-weight: bold\">tensor</span><span style=\"font-weight: bold\">([[</span><span style=\"color: #008080; text-decoration-color: #008080; font-weight: bold\">0.3636</span>, <span style=\"color: #008080; text-decoration-color: #008080; font-weight: bold\">0.0581</span>, <span style=\"color: #008080; text-decoration-color: #008080; font-weight: bold\">0.0088</span>, <span style=\"color: #008080; text-decoration-color: #008080; font-weight: bold\">0.1375</span>, <span style=\"color: #008080; text-decoration-color: #008080; font-weight: bold\">0.0263</span>, <span style=\"color: #008080; text-decoration-color: #008080; font-weight: bold\">0.0192</span>, <span style=\"color: #008080; text-decoration-color: #008080; font-weight: bold\">0.1166</span>, <span style=\"color: #008080; text-decoration-color: #008080; font-weight: bold\">0.1800</span>, <span style=\"color: #008080; text-decoration-color: #008080; font-weight: bold\">0.0379</span>,\n",
       "         <span style=\"color: #008080; text-decoration-color: #008080; font-weight: bold\">0.0520</span><span style=\"font-weight: bold\">]]</span>, <span style=\"color: #808000; text-decoration-color: #808000\">grad_fn</span>=<span style=\"font-weight: bold\">&lt;</span><span style=\"color: #ff00ff; text-decoration-color: #ff00ff; font-weight: bold\">SoftmaxBackward0</span><span style=\"font-weight: bold\">&gt;)</span>\n",
       "</pre>\n"
      ],
      "text/plain": [
       "\u001b[1;35mtensor\u001b[0m\u001b[1m(\u001b[0m\u001b[1m[\u001b[0m\u001b[1m[\u001b[0m\u001b[1;36m0.3636\u001b[0m, \u001b[1;36m0.0581\u001b[0m, \u001b[1;36m0.0088\u001b[0m, \u001b[1;36m0.1375\u001b[0m, \u001b[1;36m0.0263\u001b[0m, \u001b[1;36m0.0192\u001b[0m, \u001b[1;36m0.1166\u001b[0m, \u001b[1;36m0.1800\u001b[0m, \u001b[1;36m0.0379\u001b[0m,\n",
       "         \u001b[1;36m0.0520\u001b[0m\u001b[1m]\u001b[0m\u001b[1m]\u001b[0m, \u001b[33mgrad_fn\u001b[0m=\u001b[1m<\u001b[0m\u001b[1;95mSoftmaxBackward0\u001b[0m\u001b[1m>\u001b[0m\u001b[1m)\u001b[0m\n"
      ]
     },
     "metadata": {},
     "output_type": "display_data"
    },
    {
     "data": {
      "text/html": [
       "<pre style=\"white-space:pre;overflow-x:auto;line-height:normal;font-family:Menlo,'DejaVu Sans Mono',consolas,'Courier New',monospace\"><span style=\"color: #800080; text-decoration-color: #800080; font-weight: bold\">tensor</span><span style=\"font-weight: bold\">([[</span><span style=\"color: #008080; text-decoration-color: #008080; font-weight: bold\">0.0000</span>, <span style=\"color: #008080; text-decoration-color: #008080; font-weight: bold\">0.0000</span>, <span style=\"color: #008080; text-decoration-color: #008080; font-weight: bold\">0.0000</span>, <span style=\"color: #008080; text-decoration-color: #008080; font-weight: bold\">0.0000</span>, <span style=\"color: #008080; text-decoration-color: #008080; font-weight: bold\">0.0000</span>, <span style=\"color: #008080; text-decoration-color: #008080; font-weight: bold\">0.0000</span>, <span style=\"color: #008080; text-decoration-color: #008080; font-weight: bold\">2.1494</span>, <span style=\"color: #008080; text-decoration-color: #008080; font-weight: bold\">0.0000</span>, <span style=\"color: #008080; text-decoration-color: #008080; font-weight: bold\">0.0000</span>,\n",
       "         <span style=\"color: #008080; text-decoration-color: #008080; font-weight: bold\">0.0000</span><span style=\"font-weight: bold\">]]</span>, <span style=\"color: #808000; text-decoration-color: #808000\">grad_fn</span>=<span style=\"font-weight: bold\">&lt;</span><span style=\"color: #ff00ff; text-decoration-color: #ff00ff; font-weight: bold\">MulBackward0</span><span style=\"font-weight: bold\">&gt;)</span>\n",
       "</pre>\n"
      ],
      "text/plain": [
       "\u001b[1;35mtensor\u001b[0m\u001b[1m(\u001b[0m\u001b[1m[\u001b[0m\u001b[1m[\u001b[0m\u001b[1;36m0.0000\u001b[0m, \u001b[1;36m0.0000\u001b[0m, \u001b[1;36m0.0000\u001b[0m, \u001b[1;36m0.0000\u001b[0m, \u001b[1;36m0.0000\u001b[0m, \u001b[1;36m0.0000\u001b[0m, \u001b[1;36m2.1494\u001b[0m, \u001b[1;36m0.0000\u001b[0m, \u001b[1;36m0.0000\u001b[0m,\n",
       "         \u001b[1;36m0.0000\u001b[0m\u001b[1m]\u001b[0m\u001b[1m]\u001b[0m, \u001b[33mgrad_fn\u001b[0m=\u001b[1m<\u001b[0m\u001b[1;95mMulBackward0\u001b[0m\u001b[1m>\u001b[0m\u001b[1m)\u001b[0m\n"
      ]
     },
     "metadata": {},
     "output_type": "display_data"
    },
    {
     "data": {
      "text/html": [
       "<pre style=\"white-space:pre;overflow-x:auto;line-height:normal;font-family:Menlo,'DejaVu Sans Mono',consolas,'Courier New',monospace\"><span style=\"color: #800080; text-decoration-color: #800080; font-weight: bold\">tensor</span><span style=\"font-weight: bold\">(</span><span style=\"color: #008080; text-decoration-color: #008080; font-weight: bold\">0.2149</span>, <span style=\"color: #808000; text-decoration-color: #808000\">grad_fn</span>=<span style=\"font-weight: bold\">&lt;</span><span style=\"color: #ff00ff; text-decoration-color: #ff00ff; font-weight: bold\">MeanBackward0</span><span style=\"font-weight: bold\">&gt;)</span>\n",
       "</pre>\n"
      ],
      "text/plain": [
       "\u001b[1;35mtensor\u001b[0m\u001b[1m(\u001b[0m\u001b[1;36m0.2149\u001b[0m, \u001b[33mgrad_fn\u001b[0m=\u001b[1m<\u001b[0m\u001b[1;95mMeanBackward0\u001b[0m\u001b[1m>\u001b[0m\u001b[1m)\u001b[0m\n"
      ]
     },
     "metadata": {},
     "output_type": "display_data"
    }
   ],
   "source": [
    "# 前向计算\n",
    "\n",
    "q = F.softmax(logits , dim = 1)\n",
    "print(q)\n",
    "\n",
    "entropy = -p * q.log()\n",
    "print(entropy)\n",
    "\n",
    "loss = entropy.mean()\n",
    "print(loss)"
   ]
  },
  {
   "cell_type": "code",
   "execution_count": 5,
   "id": "6fab94d5-44eb-4fd8-af1b-a685824e4790",
   "metadata": {},
   "outputs": [
    {
     "data": {
      "text/html": [
       "<pre style=\"white-space:pre;overflow-x:auto;line-height:normal;font-family:Menlo,'DejaVu Sans Mono',consolas,'Courier New',monospace\"><span style=\"color: #800080; text-decoration-color: #800080; font-weight: bold\">tensor</span><span style=\"font-weight: bold\">([[</span><span style=\"color: #008080; text-decoration-color: #008080; font-weight: bold\">-0.0000</span>, <span style=\"color: #008080; text-decoration-color: #008080; font-weight: bold\">-0.0000</span>, <span style=\"color: #008080; text-decoration-color: #008080; font-weight: bold\">-0.0000</span>, <span style=\"color: #008080; text-decoration-color: #008080; font-weight: bold\">-0.0000</span>, <span style=\"color: #008080; text-decoration-color: #008080; font-weight: bold\">-0.0000</span>, <span style=\"color: #008080; text-decoration-color: #008080; font-weight: bold\">-0.0000</span>, <span style=\"color: #008080; text-decoration-color: #008080; font-weight: bold\">-8.5798</span>, <span style=\"color: #008080; text-decoration-color: #008080; font-weight: bold\">-0.0000</span>,\n",
       "         <span style=\"color: #008080; text-decoration-color: #008080; font-weight: bold\">-0.0000</span>, <span style=\"color: #008080; text-decoration-color: #008080; font-weight: bold\">-0.0000</span><span style=\"font-weight: bold\">]]</span>, <span style=\"color: #808000; text-decoration-color: #808000\">grad_fn</span>=<span style=\"font-weight: bold\">&lt;</span><span style=\"color: #ff00ff; text-decoration-color: #ff00ff; font-weight: bold\">DivBackward0</span><span style=\"font-weight: bold\">&gt;)</span>\n",
       "</pre>\n"
      ],
      "text/plain": [
       "\u001b[1;35mtensor\u001b[0m\u001b[1m(\u001b[0m\u001b[1m[\u001b[0m\u001b[1m[\u001b[0m\u001b[1;36m-0.0000\u001b[0m, \u001b[1;36m-0.0000\u001b[0m, \u001b[1;36m-0.0000\u001b[0m, \u001b[1;36m-0.0000\u001b[0m, \u001b[1;36m-0.0000\u001b[0m, \u001b[1;36m-0.0000\u001b[0m, \u001b[1;36m-8.5798\u001b[0m, \u001b[1;36m-0.0000\u001b[0m,\n",
       "         \u001b[1;36m-0.0000\u001b[0m, \u001b[1;36m-0.0000\u001b[0m\u001b[1m]\u001b[0m\u001b[1m]\u001b[0m, \u001b[33mgrad_fn\u001b[0m=\u001b[1m<\u001b[0m\u001b[1;95mDivBackward0\u001b[0m\u001b[1m>\u001b[0m\u001b[1m)\u001b[0m\n"
      ]
     },
     "metadata": {},
     "output_type": "display_data"
    }
   ],
   "source": [
    "# 反向计算\n",
    "# 交叉熵求导\n",
    "\n",
    "d_entropy = -p/q\n",
    "print(d_entropy)"
   ]
  },
  {
   "cell_type": "code",
   "execution_count": 6,
   "id": "e63f2ab2-12c3-4ac4-be8f-355e7b682e02",
   "metadata": {},
   "outputs": [],
   "source": [
    "# 反向计算\n",
    "# softmax求导\n",
    "d_e = q \n",
    "\n",
    "d_logits = torch.diag(d_e[0]) - d_e.t() @ d_e\n",
    "# print(d_logits)"
   ]
  },
  {
   "cell_type": "code",
   "execution_count": 7,
   "id": "4b02d793-2f74-4bbd-85be-a1d2d46b8679",
   "metadata": {},
   "outputs": [
    {
     "data": {
      "text/html": [
       "<pre style=\"white-space:pre;overflow-x:auto;line-height:normal;font-family:Menlo,'DejaVu Sans Mono',consolas,'Courier New',monospace\"><span style=\"color: #800080; text-decoration-color: #800080; font-weight: bold\">tensor</span><span style=\"font-weight: bold\">([[</span> <span style=\"color: #008080; text-decoration-color: #008080; font-weight: bold\">0.3636</span>,  <span style=\"color: #008080; text-decoration-color: #008080; font-weight: bold\">0.0581</span>,  <span style=\"color: #008080; text-decoration-color: #008080; font-weight: bold\">0.0088</span>,  <span style=\"color: #008080; text-decoration-color: #008080; font-weight: bold\">0.1375</span>,  <span style=\"color: #008080; text-decoration-color: #008080; font-weight: bold\">0.0263</span>,  <span style=\"color: #008080; text-decoration-color: #008080; font-weight: bold\">0.0192</span>, <span style=\"color: #008080; text-decoration-color: #008080; font-weight: bold\">-0.8834</span>,  <span style=\"color: #008080; text-decoration-color: #008080; font-weight: bold\">0.1800</span>,\n",
       "          <span style=\"color: #008080; text-decoration-color: #008080; font-weight: bold\">0.0379</span>,  <span style=\"color: #008080; text-decoration-color: #008080; font-weight: bold\">0.0520</span><span style=\"font-weight: bold\">]]</span>, <span style=\"color: #808000; text-decoration-color: #808000\">grad_fn</span>=<span style=\"font-weight: bold\">&lt;</span><span style=\"color: #ff00ff; text-decoration-color: #ff00ff; font-weight: bold\">MmBackward0</span><span style=\"font-weight: bold\">&gt;)</span>\n",
       "</pre>\n"
      ],
      "text/plain": [
       "\u001b[1;35mtensor\u001b[0m\u001b[1m(\u001b[0m\u001b[1m[\u001b[0m\u001b[1m[\u001b[0m \u001b[1;36m0.3636\u001b[0m,  \u001b[1;36m0.0581\u001b[0m,  \u001b[1;36m0.0088\u001b[0m,  \u001b[1;36m0.1375\u001b[0m,  \u001b[1;36m0.0263\u001b[0m,  \u001b[1;36m0.0192\u001b[0m, \u001b[1;36m-0.8834\u001b[0m,  \u001b[1;36m0.1800\u001b[0m,\n",
       "          \u001b[1;36m0.0379\u001b[0m,  \u001b[1;36m0.0520\u001b[0m\u001b[1m]\u001b[0m\u001b[1m]\u001b[0m, \u001b[33mgrad_fn\u001b[0m=\u001b[1m<\u001b[0m\u001b[1;95mMmBackward0\u001b[0m\u001b[1m>\u001b[0m\u001b[1m)\u001b[0m\n"
      ]
     },
     "metadata": {},
     "output_type": "display_data"
    }
   ],
   "source": [
    "# 反向计算\n",
    "# 最终logits的梯度为\n",
    "d_logits =  d_entropy @ d_logits\n",
    "print(d_logits)\n",
    "\n",
    "# 结果与pytorch一致"
   ]
  },
  {
   "cell_type": "markdown",
   "id": "faaf952c-ebad-4a5c-a2a1-0be5cf5e0d95",
   "metadata": {},
   "source": [
    "## 结论"
   ]
  },
  {
   "cell_type": "markdown",
   "id": "25aeb8b6-b4a4-44a2-8bbf-b68b2ee08a2b",
   "metadata": {},
   "source": [
    "先说CE的梯度有两种计算方式：\n",
    "\n",
    "1. CrossEntropy可以一次性的得到logits的梯度\n",
    "2. 如果从 dCE ->  d softmax -> d logits， 会加大计算量。\n",
    "\n",
    "所以这是为什么CE的调用里是传logits（方式1）\n",
    "\n",
    "而不是外部算softmax，再传入到CE里，这样会加大求导的计算量（方式2）"
   ]
  },
  {
   "cell_type": "markdown",
   "id": "fd8dc876-5edb-486a-b6b0-227a2c385b96",
   "metadata": {},
   "source": [
    "# 补充\n",
    "\n",
    "在上述实现里我们直接使用了CE和softmax的求导公式。\n",
    "这里我们来手动求梯度"
   ]
  },
  {
   "cell_type": "markdown",
   "id": "686ada5e-3191-4d38-aea2-5781b0ffc3df",
   "metadata": {},
   "source": [
    "## CE的梯度推导"
   ]
  },
  {
   "cell_type": "markdown",
   "id": "0ea9b15b-b494-4391-b0ff-1677cab06cd8",
   "metadata": {},
   "source": [
    "```\n",
    "给定\n",
    "P=[0,   1,     0] # 目标概率\n",
    "Q=[0.1, 0.7, 0.2]\n",
    "\n",
    "开始计算CE\n",
    "\n",
    "CE = - (p1 logq1 + p2 logq2 + p3 logq3)\n",
    "那么求导为：\n",
    "dce/dq1 = -（p1 log q1)'  #q2,q3与q1无关\n",
    "由于(logq1)' = 1/q1\n",
    "所以dce/dq1 = -（p1/q1)\n",
    "```"
   ]
  },
  {
   "cell_type": "code",
   "execution_count": 8,
   "id": "69e923f7-4d23-4b1d-b05a-69ed42697ffc",
   "metadata": {},
   "outputs": [
    {
     "data": {
      "text/html": [
       "<pre style=\"white-space:pre;overflow-x:auto;line-height:normal;font-family:Menlo,'DejaVu Sans Mono',consolas,'Courier New',monospace\"><span style=\"color: #800080; text-decoration-color: #800080; font-weight: bold\">tensor</span><span style=\"font-weight: bold\">([</span><span style=\"color: #008080; text-decoration-color: #008080; font-weight: bold\">-0.0000</span>, <span style=\"color: #008080; text-decoration-color: #008080; font-weight: bold\">-1.4286</span>, <span style=\"color: #008080; text-decoration-color: #008080; font-weight: bold\">-0.0000</span><span style=\"font-weight: bold\">])</span>\n",
       "</pre>\n"
      ],
      "text/plain": [
       "\u001b[1;35mtensor\u001b[0m\u001b[1m(\u001b[0m\u001b[1m[\u001b[0m\u001b[1;36m-0.0000\u001b[0m, \u001b[1;36m-1.4286\u001b[0m, \u001b[1;36m-0.0000\u001b[0m\u001b[1m]\u001b[0m\u001b[1m)\u001b[0m\n"
      ]
     },
     "metadata": {},
     "output_type": "display_data"
    }
   ],
   "source": [
    "p = torch.tensor([0.0, 1.0, 0.0])\n",
    "q = torch.tensor([0.1, 0.7, 0.2])\n",
    "\n",
    "grad_q = - p/q\n",
    "print(grad_q)"
   ]
  },
  {
   "cell_type": "markdown",
   "id": "619f05ae-bc76-45ef-9b17-90a9f025d55a",
   "metadata": {},
   "source": [
    "## softmax梯度求导"
   ]
  },
  {
   "cell_type": "markdown",
   "id": "f311ecd8-2f1b-47b8-b156-90bb87621a48",
   "metadata": {},
   "source": [
    "```\n",
    "给定 logits\n",
    "logits = [l1,l2,l3]\n",
    "[q1, q2, q3] = softmax(logits)\n",
    "\n",
    "展开为：\n",
    "\n",
    "q1 = e(l1) / (e(l1)+e(l2)+e(l3)) = e(l1) / sum(l)\n",
    "q2 = e(l2) / (e(l1)+e(l2)+e(l3)) = e(l2) / sum(l)\n",
    "q3 = e(l3) / (e(l1)+e(l2)+e(l3)) = e(l2) / sum(l)\n",
    "\n",
    "除法导数为：\n",
    "[e(x)] = [f(x)/g(x)]' = (f(x)'g(x) - f(x)g(x)' ) / g(x)^2\n",
    "\n",
    "那么\n",
    "d q1 / d l1 = (e(l1)' sum(l) - el1 sum(l)') / sum(l)^2\n",
    "            = e(l1)sum(l)/sum(l)^2 -  (el1 el1)/sum(l)^2\n",
    "            = q1 - q1*q1\n",
    "d q1 / d l2 = (e(l1)' sum(l) - el1 sum(l)') / sum(l)^2\n",
    "            = 0 -  (el1 el2)/sum(l)^2\n",
    "            = 0 - q1*q2\n",
    "```\n",
    "\n",
    "此时可以写出\n",
    "\n",
    "```\n",
    "dq/dl = \n",
    "\n",
    "q1-q1*q1  0-q1*q2  0-q1*q3\n",
    "0 -q2*q1  q2-q2*q2 0-q2*q3\n",
    "0 -q3*q1  0 -q3*q2 q3-q3*q3\n",
    "\n",
    "= diag(q) - q.t() * q\n",
    "\n",
    "```"
   ]
  },
  {
   "cell_type": "code",
   "execution_count": 15,
   "id": "1796f0ff-b437-43a7-b5a4-187ecd112eb2",
   "metadata": {},
   "outputs": [
    {
     "data": {
      "text/html": [
       "<pre style=\"white-space:pre;overflow-x:auto;line-height:normal;font-family:Menlo,'DejaVu Sans Mono',consolas,'Courier New',monospace\"><span style=\"color: #800080; text-decoration-color: #800080; font-weight: bold\">tensor</span><span style=\"font-weight: bold\">([[</span><span style=\"color: #008080; text-decoration-color: #008080; font-weight: bold\">-0.4205</span>, <span style=\"color: #008080; text-decoration-color: #008080; font-weight: bold\">-0.5105</span>, <span style=\"color: #008080; text-decoration-color: #008080; font-weight: bold\">-0.5105</span><span style=\"font-weight: bold\">]</span>,\n",
       "        <span style=\"font-weight: bold\">[</span><span style=\"color: #008080; text-decoration-color: #008080; font-weight: bold\">-0.5105</span>, <span style=\"color: #008080; text-decoration-color: #008080; font-weight: bold\">-0.2658</span>, <span style=\"color: #008080; text-decoration-color: #008080; font-weight: bold\">-0.5105</span><span style=\"font-weight: bold\">]</span>,\n",
       "        <span style=\"font-weight: bold\">[</span><span style=\"color: #008080; text-decoration-color: #008080; font-weight: bold\">-0.5105</span>, <span style=\"color: #008080; text-decoration-color: #008080; font-weight: bold\">-0.5105</span>,  <span style=\"color: #008080; text-decoration-color: #008080; font-weight: bold\">0.1547</span><span style=\"font-weight: bold\">]])</span>\n",
       "</pre>\n"
      ],
      "text/plain": [
       "\u001b[1;35mtensor\u001b[0m\u001b[1m(\u001b[0m\u001b[1m[\u001b[0m\u001b[1m[\u001b[0m\u001b[1;36m-0.4205\u001b[0m, \u001b[1;36m-0.5105\u001b[0m, \u001b[1;36m-0.5105\u001b[0m\u001b[1m]\u001b[0m,\n",
       "        \u001b[1m[\u001b[0m\u001b[1;36m-0.5105\u001b[0m, \u001b[1;36m-0.2658\u001b[0m, \u001b[1;36m-0.5105\u001b[0m\u001b[1m]\u001b[0m,\n",
       "        \u001b[1m[\u001b[0m\u001b[1;36m-0.5105\u001b[0m, \u001b[1;36m-0.5105\u001b[0m,  \u001b[1;36m0.1547\u001b[0m\u001b[1m]\u001b[0m\u001b[1m]\u001b[0m\u001b[1m)\u001b[0m\n"
      ]
     },
     "metadata": {},
     "output_type": "display_data"
    }
   ],
   "source": [
    "logits = torch.tensor([1.0, 2.0, 3.0]) # 1x3\n",
    "q = F.softmax(logits, dim=0)           # 1x3\n",
    "grad_logits = torch.diag(q) - q.t()@q  # q.t() [3x1], q [1x3] -> 3x3\n",
    "print(grad_logits)"
   ]
  },
  {
   "cell_type": "markdown",
   "id": "d7a90309-bda3-43b8-b049-6b0bc0e9a374",
   "metadata": {},
   "source": [
    "# CE+softmax 推导"
   ]
  },
  {
   "cell_type": "markdown",
   "id": "54b69c5b-d35f-4ead-88cd-bf01d8cec286",
   "metadata": {},
   "source": [
    "```\n",
    "dce/dq =\n",
    "\n",
    "-p1/q1, -p2/q2  -p3/q3\n",
    "\n",
    "dq/dl = \n",
    "\n",
    "q1-q1*q1  0-q1*q2  0-q1*q3\n",
    "0 -q2*q1  q2-q2*q2 0-q2*q3\n",
    "0 -q3*q1  0 -q3*q2 q3-q3*q3\n",
    "\n",
    "\n",
    "\n",
    "dq/dl1 = \n",
    "\n",
    "q1-q1*q1  \n",
    "0 -q2*q1  \n",
    "0 -q3*q1  \n",
    "\n",
    "\n",
    "先算第一个元素\n",
    "dce/dq dq/dl =\n",
    "\n",
    "dce/dl1 = \n",
    "\n",
    "= (-p1/q1) * （q1-q1*q1）+ (-p2/q2)*（-q2*q1） + (-p3/q3) *（-q3*q1）\n",
    "= -p1 * (1-q1）+ p2*q1 + p3*q1\n",
    "= -p1 + [p1q1 + p2q1 + p3q1]\n",
    "= -p1 + (p1+p2+p3)q1\n",
    "= -p1 + 1 q1\n",
    "= q1 - p1\n",
    "```"
   ]
  },
  {
   "cell_type": "code",
   "execution_count": 49,
   "id": "d0190f20-3468-4d12-b1cb-9350c132882c",
   "metadata": {},
   "outputs": [
    {
     "data": {
      "text/html": [
       "<pre style=\"white-space:pre;overflow-x:auto;line-height:normal;font-family:Menlo,'DejaVu Sans Mono',consolas,'Courier New',monospace\"><span style=\"color: #800080; text-decoration-color: #800080; font-weight: bold\">tensor</span><span style=\"font-weight: bold\">([</span> <span style=\"color: #008080; text-decoration-color: #008080; font-weight: bold\">0.0900</span>, <span style=\"color: #008080; text-decoration-color: #008080; font-weight: bold\">-0.7553</span>,  <span style=\"color: #008080; text-decoration-color: #008080; font-weight: bold\">0.6652</span><span style=\"font-weight: bold\">])</span>\n",
       "</pre>\n"
      ],
      "text/plain": [
       "\u001b[1;35mtensor\u001b[0m\u001b[1m(\u001b[0m\u001b[1m[\u001b[0m \u001b[1;36m0.0900\u001b[0m, \u001b[1;36m-0.7553\u001b[0m,  \u001b[1;36m0.6652\u001b[0m\u001b[1m]\u001b[0m\u001b[1m)\u001b[0m\n"
      ]
     },
     "metadata": {},
     "output_type": "display_data"
    },
    {
     "data": {
      "text/html": [
       "<pre style=\"white-space:pre;overflow-x:auto;line-height:normal;font-family:Menlo,'DejaVu Sans Mono',consolas,'Courier New',monospace\"><span style=\"color: #800080; text-decoration-color: #800080; font-weight: bold\">tensor</span><span style=\"font-weight: bold\">([</span> <span style=\"color: #008080; text-decoration-color: #008080; font-weight: bold\">0.0900</span>, <span style=\"color: #008080; text-decoration-color: #008080; font-weight: bold\">-0.7553</span>,  <span style=\"color: #008080; text-decoration-color: #008080; font-weight: bold\">0.6652</span><span style=\"font-weight: bold\">])</span>\n",
       "</pre>\n"
      ],
      "text/plain": [
       "\u001b[1;35mtensor\u001b[0m\u001b[1m(\u001b[0m\u001b[1m[\u001b[0m \u001b[1;36m0.0900\u001b[0m, \u001b[1;36m-0.7553\u001b[0m,  \u001b[1;36m0.6652\u001b[0m\u001b[1m]\u001b[0m\u001b[1m)\u001b[0m\n"
      ]
     },
     "metadata": {},
     "output_type": "display_data"
    }
   ],
   "source": [
    "## CE+Softmax推导\n",
    "p = torch.tensor([0.0, 1.0, 0.0])\n",
    "logits = torch.tensor([1.0, 2.0, 3.0])\n",
    "q = F.softmax(logits, dim=0)\n",
    "\n",
    "dce_dq = -(p/q)\n",
    "dq_dl = torch.diag(q) - torch.outer(q,q)\n",
    "dce_dl = dce_dq @ dq_dl\n",
    "print(dce_dl)\n",
    "print(q-p)"
   ]
  }
 ],
 "metadata": {
  "kernelspec": {
   "display_name": "Python 3 (ipykernel)",
   "language": "python",
   "name": "python3"
  },
  "language_info": {
   "codemirror_mode": {
    "name": "ipython",
    "version": 3
   },
   "file_extension": ".py",
   "mimetype": "text/x-python",
   "name": "python",
   "nbconvert_exporter": "python",
   "pygments_lexer": "ipython3",
   "version": "3.11.9"
  }
 },
 "nbformat": 4,
 "nbformat_minor": 5
}
