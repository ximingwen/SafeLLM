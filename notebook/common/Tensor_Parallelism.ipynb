{
 "cells": [
  {
   "cell_type": "markdown",
   "id": "e6d63de8-3546-420f-9132-359e90394ba1",
   "metadata": {},
   "source": [
    "# Tensor Parallelism"
   ]
  },
  {
   "cell_type": "markdown",
   "id": "884ce570-55d0-4c3d-afc4-2b66f3d45250",
   "metadata": {},
   "source": [
    "# Prepare data"
   ]
  },
  {
   "cell_type": "markdown",
   "id": "84cb7bb6-c6d8-4911-9218-17c5b66ba4e2",
   "metadata": {},
   "source": [
    "$$\n",
    "y = xw\n",
    "$$\n",
    "\n",
    "x(n, dim)\n",
    "\n",
    "w(dim, 2dim)\n",
    "\n",
    "y(n, 2dim)\n",
    "\n",
    "y_label(n, 2dim)\n",
    "\n",
    "gradient(dim, 2dim)\n"
   ]
  },
  {
   "cell_type": "code",
   "execution_count": 1,
   "id": "3793f747-cd95-4bfe-88a6-5442a05cee47",
   "metadata": {},
   "outputs": [],
   "source": [
    "import torch\n",
    "import torch.nn as nn\n",
    "import torch.nn.functional as F"
   ]
  },
  {
   "cell_type": "code",
   "execution_count": 2,
   "id": "9e6a7cac-f760-406a-8f65-3d063e5a7643",
   "metadata": {},
   "outputs": [
    {
     "data": {
      "text/html": [
       "<pre style=\"white-space:pre;overflow-x:auto;line-height:normal;font-family:Menlo,'DejaVu Sans Mono',consolas,'Courier New',monospace\"><span style=\"color: #800080; text-decoration-color: #800080; font-weight: bold\">tensor</span><span style=\"font-weight: bold\">([[</span><span style=\"color: #008080; text-decoration-color: #008080; font-weight: bold\">0</span>., <span style=\"color: #008080; text-decoration-color: #008080; font-weight: bold\">1</span>., <span style=\"color: #008080; text-decoration-color: #008080; font-weight: bold\">2</span>., <span style=\"color: #008080; text-decoration-color: #008080; font-weight: bold\">3</span>.<span style=\"font-weight: bold\">]</span>,\n",
       "        <span style=\"font-weight: bold\">[</span><span style=\"color: #008080; text-decoration-color: #008080; font-weight: bold\">4</span>., <span style=\"color: #008080; text-decoration-color: #008080; font-weight: bold\">5</span>., <span style=\"color: #008080; text-decoration-color: #008080; font-weight: bold\">6</span>., <span style=\"color: #008080; text-decoration-color: #008080; font-weight: bold\">7</span>.<span style=\"font-weight: bold\">]])</span>\n",
       "</pre>\n"
      ],
      "text/plain": [
       "\u001b[1;35mtensor\u001b[0m\u001b[1m(\u001b[0m\u001b[1m[\u001b[0m\u001b[1m[\u001b[0m\u001b[1;36m0\u001b[0m., \u001b[1;36m1\u001b[0m., \u001b[1;36m2\u001b[0m., \u001b[1;36m3\u001b[0m.\u001b[1m]\u001b[0m,\n",
       "        \u001b[1m[\u001b[0m\u001b[1;36m4\u001b[0m., \u001b[1;36m5\u001b[0m., \u001b[1;36m6\u001b[0m., \u001b[1;36m7\u001b[0m.\u001b[1m]\u001b[0m\u001b[1m]\u001b[0m\u001b[1m)\u001b[0m\n"
      ]
     },
     "metadata": {},
     "output_type": "display_data"
    },
    {
     "data": {
      "text/html": [
       "<pre style=\"white-space:pre;overflow-x:auto;line-height:normal;font-family:Menlo,'DejaVu Sans Mono',consolas,'Courier New',monospace\"><span style=\"color: #800080; text-decoration-color: #800080; font-weight: bold\">tensor</span><span style=\"font-weight: bold\">([[</span> <span style=\"color: #008080; text-decoration-color: #008080; font-weight: bold\">0</span>.,  <span style=\"color: #008080; text-decoration-color: #008080; font-weight: bold\">1</span>.,  <span style=\"color: #008080; text-decoration-color: #008080; font-weight: bold\">2</span>.,  <span style=\"color: #008080; text-decoration-color: #008080; font-weight: bold\">3</span>.,  <span style=\"color: #008080; text-decoration-color: #008080; font-weight: bold\">4</span>.,  <span style=\"color: #008080; text-decoration-color: #008080; font-weight: bold\">5</span>.,  <span style=\"color: #008080; text-decoration-color: #008080; font-weight: bold\">6</span>.,  <span style=\"color: #008080; text-decoration-color: #008080; font-weight: bold\">7</span>.<span style=\"font-weight: bold\">]</span>,\n",
       "        <span style=\"font-weight: bold\">[</span> <span style=\"color: #008080; text-decoration-color: #008080; font-weight: bold\">8</span>.,  <span style=\"color: #008080; text-decoration-color: #008080; font-weight: bold\">9</span>., <span style=\"color: #008080; text-decoration-color: #008080; font-weight: bold\">10</span>., <span style=\"color: #008080; text-decoration-color: #008080; font-weight: bold\">11</span>., <span style=\"color: #008080; text-decoration-color: #008080; font-weight: bold\">12</span>., <span style=\"color: #008080; text-decoration-color: #008080; font-weight: bold\">13</span>., <span style=\"color: #008080; text-decoration-color: #008080; font-weight: bold\">14</span>., <span style=\"color: #008080; text-decoration-color: #008080; font-weight: bold\">15</span>.<span style=\"font-weight: bold\">]</span>,\n",
       "        <span style=\"font-weight: bold\">[</span><span style=\"color: #008080; text-decoration-color: #008080; font-weight: bold\">16</span>., <span style=\"color: #008080; text-decoration-color: #008080; font-weight: bold\">17</span>., <span style=\"color: #008080; text-decoration-color: #008080; font-weight: bold\">18</span>., <span style=\"color: #008080; text-decoration-color: #008080; font-weight: bold\">19</span>., <span style=\"color: #008080; text-decoration-color: #008080; font-weight: bold\">20</span>., <span style=\"color: #008080; text-decoration-color: #008080; font-weight: bold\">21</span>., <span style=\"color: #008080; text-decoration-color: #008080; font-weight: bold\">22</span>., <span style=\"color: #008080; text-decoration-color: #008080; font-weight: bold\">23</span>.<span style=\"font-weight: bold\">]</span>,\n",
       "        <span style=\"font-weight: bold\">[</span><span style=\"color: #008080; text-decoration-color: #008080; font-weight: bold\">24</span>., <span style=\"color: #008080; text-decoration-color: #008080; font-weight: bold\">25</span>., <span style=\"color: #008080; text-decoration-color: #008080; font-weight: bold\">26</span>., <span style=\"color: #008080; text-decoration-color: #008080; font-weight: bold\">27</span>., <span style=\"color: #008080; text-decoration-color: #008080; font-weight: bold\">28</span>., <span style=\"color: #008080; text-decoration-color: #008080; font-weight: bold\">29</span>., <span style=\"color: #008080; text-decoration-color: #008080; font-weight: bold\">30</span>., <span style=\"color: #008080; text-decoration-color: #008080; font-weight: bold\">31</span>.<span style=\"font-weight: bold\">]]</span>, <span style=\"color: #808000; text-decoration-color: #808000\">grad_fn</span>=<span style=\"font-weight: bold\">&lt;</span><span style=\"color: #ff00ff; text-decoration-color: #ff00ff; font-weight: bold\">ViewBackward0</span><span style=\"font-weight: bold\">&gt;)</span>\n",
       "</pre>\n"
      ],
      "text/plain": [
       "\u001b[1;35mtensor\u001b[0m\u001b[1m(\u001b[0m\u001b[1m[\u001b[0m\u001b[1m[\u001b[0m \u001b[1;36m0\u001b[0m.,  \u001b[1;36m1\u001b[0m.,  \u001b[1;36m2\u001b[0m.,  \u001b[1;36m3\u001b[0m.,  \u001b[1;36m4\u001b[0m.,  \u001b[1;36m5\u001b[0m.,  \u001b[1;36m6\u001b[0m.,  \u001b[1;36m7\u001b[0m.\u001b[1m]\u001b[0m,\n",
       "        \u001b[1m[\u001b[0m \u001b[1;36m8\u001b[0m.,  \u001b[1;36m9\u001b[0m., \u001b[1;36m10\u001b[0m., \u001b[1;36m11\u001b[0m., \u001b[1;36m12\u001b[0m., \u001b[1;36m13\u001b[0m., \u001b[1;36m14\u001b[0m., \u001b[1;36m15\u001b[0m.\u001b[1m]\u001b[0m,\n",
       "        \u001b[1m[\u001b[0m\u001b[1;36m16\u001b[0m., \u001b[1;36m17\u001b[0m., \u001b[1;36m18\u001b[0m., \u001b[1;36m19\u001b[0m., \u001b[1;36m20\u001b[0m., \u001b[1;36m21\u001b[0m., \u001b[1;36m22\u001b[0m., \u001b[1;36m23\u001b[0m.\u001b[1m]\u001b[0m,\n",
       "        \u001b[1m[\u001b[0m\u001b[1;36m24\u001b[0m., \u001b[1;36m25\u001b[0m., \u001b[1;36m26\u001b[0m., \u001b[1;36m27\u001b[0m., \u001b[1;36m28\u001b[0m., \u001b[1;36m29\u001b[0m., \u001b[1;36m30\u001b[0m., \u001b[1;36m31\u001b[0m.\u001b[1m]\u001b[0m\u001b[1m]\u001b[0m, \u001b[33mgrad_fn\u001b[0m=\u001b[1m<\u001b[0m\u001b[1;95mViewBackward0\u001b[0m\u001b[1m>\u001b[0m\u001b[1m)\u001b[0m\n"
      ]
     },
     "metadata": {},
     "output_type": "display_data"
    }
   ],
   "source": [
    "bs = 2 \n",
    "row = dim = 4\n",
    "col = out_dim = dim * 2\n",
    "x = torch.arange(bs * dim, dtype = torch.float32).reshape(bs, dim) \n",
    "w = torch.arange(dim * out_dim, dtype = torch.float32, requires_grad = True).reshape(dim, out_dim)\n",
    "print(x)\n",
    "print(w)"
   ]
  },
  {
   "cell_type": "code",
   "execution_count": 3,
   "id": "8a000365-2b8f-4a6a-8477-c73086ed8ea3",
   "metadata": {},
   "outputs": [],
   "source": [
    "y_label = torch.randn(bs, out_dim)\n",
    "y_pred = torch.randn(bs, out_dim)"
   ]
  },
  {
   "cell_type": "markdown",
   "id": "d11be0dd-8ae3-4603-85ee-d405ee948a88",
   "metadata": {},
   "source": [
    "# pytorch gradient"
   ]
  },
  {
   "cell_type": "markdown",
   "id": "a9c398d2-a1e8-42b4-9b06-db4a90841ef0",
   "metadata": {},
   "source": [
    "先采用pytorch自动求导计算梯度。可以用来检验我们手动求导的准确性"
   ]
  },
  {
   "cell_type": "code",
   "execution_count": 4,
   "id": "510de590-6064-440a-8961-4e8556d1e79e",
   "metadata": {},
   "outputs": [
    {
     "data": {
      "text/html": [
       "<pre style=\"white-space:pre;overflow-x:auto;line-height:normal;font-family:Menlo,'DejaVu Sans Mono',consolas,'Courier New',monospace\"><span style=\"color: #800080; text-decoration-color: #800080; font-weight: bold\">tensor</span><span style=\"font-weight: bold\">(</span><span style=\"color: #008080; text-decoration-color: #008080; font-weight: bold\">82850.6484</span>, <span style=\"color: #808000; text-decoration-color: #808000\">grad_fn</span>=<span style=\"font-weight: bold\">&lt;</span><span style=\"color: #ff00ff; text-decoration-color: #ff00ff; font-weight: bold\">MseLossBackward0</span><span style=\"font-weight: bold\">&gt;)</span>\n",
       "</pre>\n"
      ],
      "text/plain": [
       "\u001b[1;35mtensor\u001b[0m\u001b[1m(\u001b[0m\u001b[1;36m82850.6484\u001b[0m, \u001b[33mgrad_fn\u001b[0m=\u001b[1m<\u001b[0m\u001b[1;95mMseLossBackward0\u001b[0m\u001b[1m>\u001b[0m\u001b[1m)\u001b[0m\n"
      ]
     },
     "metadata": {},
     "output_type": "display_data"
    },
    {
     "data": {
      "text/html": [
       "<pre style=\"white-space:pre;overflow-x:auto;line-height:normal;font-family:Menlo,'DejaVu Sans Mono',consolas,'Courier New',monospace\"><span style=\"color: #800080; text-decoration-color: #800080; font-weight: bold\">tensor</span><span style=\"font-weight: bold\">([[</span><span style=\"color: #008080; text-decoration-color: #008080; font-weight: bold\">151.8721</span>, <span style=\"color: #008080; text-decoration-color: #008080; font-weight: bold\">162.4626</span>, <span style=\"color: #008080; text-decoration-color: #008080; font-weight: bold\">173.4557</span>, <span style=\"color: #008080; text-decoration-color: #008080; font-weight: bold\">185.0397</span>, <span style=\"color: #008080; text-decoration-color: #008080; font-weight: bold\">195.8915</span>, <span style=\"color: #008080; text-decoration-color: #008080; font-weight: bold\">207.5966</span>, <span style=\"color: #008080; text-decoration-color: #008080; font-weight: bold\">218.1116</span>,\n",
       "         <span style=\"color: #008080; text-decoration-color: #008080; font-weight: bold\">229.2710</span><span style=\"font-weight: bold\">]</span>,\n",
       "        <span style=\"font-weight: bold\">[</span><span style=\"color: #008080; text-decoration-color: #008080; font-weight: bold\">203.9184</span>, <span style=\"color: #008080; text-decoration-color: #008080; font-weight: bold\">217.9152</span>, <span style=\"color: #008080; text-decoration-color: #008080; font-weight: bold\">232.3963</span>, <span style=\"color: #008080; text-decoration-color: #008080; font-weight: bold\">247.5970</span>, <span style=\"color: #008080; text-decoration-color: #008080; font-weight: bold\">261.8807</span>, <span style=\"color: #008080; text-decoration-color: #008080; font-weight: bold\">277.3813</span>, <span style=\"color: #008080; text-decoration-color: #008080; font-weight: bold\">291.0889</span>,\n",
       "         <span style=\"color: #008080; text-decoration-color: #008080; font-weight: bold\">305.9322</span><span style=\"font-weight: bold\">]</span>,\n",
       "        <span style=\"font-weight: bold\">[</span><span style=\"color: #008080; text-decoration-color: #008080; font-weight: bold\">255.9646</span>, <span style=\"color: #008080; text-decoration-color: #008080; font-weight: bold\">273.3677</span>, <span style=\"color: #008080; text-decoration-color: #008080; font-weight: bold\">291.3369</span>, <span style=\"color: #008080; text-decoration-color: #008080; font-weight: bold\">310.1544</span>, <span style=\"color: #008080; text-decoration-color: #008080; font-weight: bold\">327.8700</span>, <span style=\"color: #008080; text-decoration-color: #008080; font-weight: bold\">347.1660</span>, <span style=\"color: #008080; text-decoration-color: #008080; font-weight: bold\">364.0662</span>,\n",
       "         <span style=\"color: #008080; text-decoration-color: #008080; font-weight: bold\">382.5934</span><span style=\"font-weight: bold\">]</span>,\n",
       "        <span style=\"font-weight: bold\">[</span><span style=\"color: #008080; text-decoration-color: #008080; font-weight: bold\">308.0109</span>, <span style=\"color: #008080; text-decoration-color: #008080; font-weight: bold\">328.8203</span>, <span style=\"color: #008080; text-decoration-color: #008080; font-weight: bold\">350.2776</span>, <span style=\"color: #008080; text-decoration-color: #008080; font-weight: bold\">372.7117</span>, <span style=\"color: #008080; text-decoration-color: #008080; font-weight: bold\">393.8593</span>, <span style=\"color: #008080; text-decoration-color: #008080; font-weight: bold\">416.9507</span>, <span style=\"color: #008080; text-decoration-color: #008080; font-weight: bold\">437.0434</span>,\n",
       "         <span style=\"color: #008080; text-decoration-color: #008080; font-weight: bold\">459.2547</span><span style=\"font-weight: bold\">]])</span>\n",
       "</pre>\n"
      ],
      "text/plain": [
       "\u001b[1;35mtensor\u001b[0m\u001b[1m(\u001b[0m\u001b[1m[\u001b[0m\u001b[1m[\u001b[0m\u001b[1;36m151.8721\u001b[0m, \u001b[1;36m162.4626\u001b[0m, \u001b[1;36m173.4557\u001b[0m, \u001b[1;36m185.0397\u001b[0m, \u001b[1;36m195.8915\u001b[0m, \u001b[1;36m207.5966\u001b[0m, \u001b[1;36m218.1116\u001b[0m,\n",
       "         \u001b[1;36m229.2710\u001b[0m\u001b[1m]\u001b[0m,\n",
       "        \u001b[1m[\u001b[0m\u001b[1;36m203.9184\u001b[0m, \u001b[1;36m217.9152\u001b[0m, \u001b[1;36m232.3963\u001b[0m, \u001b[1;36m247.5970\u001b[0m, \u001b[1;36m261.8807\u001b[0m, \u001b[1;36m277.3813\u001b[0m, \u001b[1;36m291.0889\u001b[0m,\n",
       "         \u001b[1;36m305.9322\u001b[0m\u001b[1m]\u001b[0m,\n",
       "        \u001b[1m[\u001b[0m\u001b[1;36m255.9646\u001b[0m, \u001b[1;36m273.3677\u001b[0m, \u001b[1;36m291.3369\u001b[0m, \u001b[1;36m310.1544\u001b[0m, \u001b[1;36m327.8700\u001b[0m, \u001b[1;36m347.1660\u001b[0m, \u001b[1;36m364.0662\u001b[0m,\n",
       "         \u001b[1;36m382.5934\u001b[0m\u001b[1m]\u001b[0m,\n",
       "        \u001b[1m[\u001b[0m\u001b[1;36m308.0109\u001b[0m, \u001b[1;36m328.8203\u001b[0m, \u001b[1;36m350.2776\u001b[0m, \u001b[1;36m372.7117\u001b[0m, \u001b[1;36m393.8593\u001b[0m, \u001b[1;36m416.9507\u001b[0m, \u001b[1;36m437.0434\u001b[0m,\n",
       "         \u001b[1;36m459.2547\u001b[0m\u001b[1m]\u001b[0m\u001b[1m]\u001b[0m\u001b[1m)\u001b[0m\n"
      ]
     },
     "metadata": {},
     "output_type": "display_data"
    }
   ],
   "source": [
    "w.retain_grad()\n",
    "w.grad = None\n",
    "mse_loss = nn.MSELoss(reduction='mean')\n",
    "\n",
    "y_pred = x @ w\n",
    "loss_torch = mse_loss(y_pred, y_label)\n",
    "loss_torch.backward()\n",
    "print(loss_torch)\n",
    "print(w.grad)"
   ]
  },
  {
   "cell_type": "markdown",
   "id": "b5afea9c-b870-4d3d-8485-88ee3826fb35",
   "metadata": {},
   "source": [
    "# tensor gradient"
   ]
  },
  {
   "cell_type": "markdown",
   "id": "a4eae56d-e5e2-43c0-9b58-ed724fa3efcf",
   "metadata": {},
   "source": [
    "$$\n",
    "\\begin{align}\n",
    "y &= xw \\\\\n",
    "\\mathcal{l} &=||y'-y||^2 = ||y'-xw||^2 \\\\\n",
    "w &= \\arg\\min_{w}||y'-xw||^2 \\\\\n",
    "\\frac{\\partial l}{\\partial w} &=\\frac{\\partial l}{\\partial y}\\frac{\\partial y}{\\partial w} =  2x^T(y'-xw)\\\\\n",
    "\\end{align}\n",
    "$$"
   ]
  },
  {
   "cell_type": "code",
   "execution_count": 5,
   "id": "f381eae5-9c34-47bb-9eca-da5157b10894",
   "metadata": {},
   "outputs": [],
   "source": [
    "y_pred = x @ w\n",
    "delta_y = y_pred - y_label"
   ]
  },
  {
   "cell_type": "code",
   "execution_count": 6,
   "id": "85308530-73ab-4fad-8b4a-5c2c2f0677f9",
   "metadata": {},
   "outputs": [
    {
     "data": {
      "text/html": [
       "<pre style=\"white-space:pre;overflow-x:auto;line-height:normal;font-family:Menlo,'DejaVu Sans Mono',consolas,'Courier New',monospace\"><span style=\"color: #800080; text-decoration-color: #800080; font-weight: bold\">tensor</span><span style=\"font-weight: bold\">([[</span><span style=\"color: #008080; text-decoration-color: #008080; font-weight: bold\">151.8721</span>, <span style=\"color: #008080; text-decoration-color: #008080; font-weight: bold\">162.4626</span>, <span style=\"color: #008080; text-decoration-color: #008080; font-weight: bold\">173.4557</span>, <span style=\"color: #008080; text-decoration-color: #008080; font-weight: bold\">185.0397</span>, <span style=\"color: #008080; text-decoration-color: #008080; font-weight: bold\">195.8915</span>, <span style=\"color: #008080; text-decoration-color: #008080; font-weight: bold\">207.5966</span>, <span style=\"color: #008080; text-decoration-color: #008080; font-weight: bold\">218.1116</span>,\n",
       "         <span style=\"color: #008080; text-decoration-color: #008080; font-weight: bold\">229.2710</span><span style=\"font-weight: bold\">]</span>,\n",
       "        <span style=\"font-weight: bold\">[</span><span style=\"color: #008080; text-decoration-color: #008080; font-weight: bold\">203.9184</span>, <span style=\"color: #008080; text-decoration-color: #008080; font-weight: bold\">217.9152</span>, <span style=\"color: #008080; text-decoration-color: #008080; font-weight: bold\">232.3963</span>, <span style=\"color: #008080; text-decoration-color: #008080; font-weight: bold\">247.5970</span>, <span style=\"color: #008080; text-decoration-color: #008080; font-weight: bold\">261.8807</span>, <span style=\"color: #008080; text-decoration-color: #008080; font-weight: bold\">277.3813</span>, <span style=\"color: #008080; text-decoration-color: #008080; font-weight: bold\">291.0889</span>,\n",
       "         <span style=\"color: #008080; text-decoration-color: #008080; font-weight: bold\">305.9322</span><span style=\"font-weight: bold\">]</span>,\n",
       "        <span style=\"font-weight: bold\">[</span><span style=\"color: #008080; text-decoration-color: #008080; font-weight: bold\">255.9646</span>, <span style=\"color: #008080; text-decoration-color: #008080; font-weight: bold\">273.3677</span>, <span style=\"color: #008080; text-decoration-color: #008080; font-weight: bold\">291.3369</span>, <span style=\"color: #008080; text-decoration-color: #008080; font-weight: bold\">310.1544</span>, <span style=\"color: #008080; text-decoration-color: #008080; font-weight: bold\">327.8700</span>, <span style=\"color: #008080; text-decoration-color: #008080; font-weight: bold\">347.1660</span>, <span style=\"color: #008080; text-decoration-color: #008080; font-weight: bold\">364.0662</span>,\n",
       "         <span style=\"color: #008080; text-decoration-color: #008080; font-weight: bold\">382.5934</span><span style=\"font-weight: bold\">]</span>,\n",
       "        <span style=\"font-weight: bold\">[</span><span style=\"color: #008080; text-decoration-color: #008080; font-weight: bold\">308.0109</span>, <span style=\"color: #008080; text-decoration-color: #008080; font-weight: bold\">328.8203</span>, <span style=\"color: #008080; text-decoration-color: #008080; font-weight: bold\">350.2776</span>, <span style=\"color: #008080; text-decoration-color: #008080; font-weight: bold\">372.7117</span>, <span style=\"color: #008080; text-decoration-color: #008080; font-weight: bold\">393.8593</span>, <span style=\"color: #008080; text-decoration-color: #008080; font-weight: bold\">416.9507</span>, <span style=\"color: #008080; text-decoration-color: #008080; font-weight: bold\">437.0434</span>,\n",
       "         <span style=\"color: #008080; text-decoration-color: #008080; font-weight: bold\">459.2547</span><span style=\"font-weight: bold\">]]</span>, <span style=\"color: #808000; text-decoration-color: #808000\">grad_fn</span>=<span style=\"font-weight: bold\">&lt;</span><span style=\"color: #ff00ff; text-decoration-color: #ff00ff; font-weight: bold\">DivBackward0</span><span style=\"font-weight: bold\">&gt;)</span>\n",
       "</pre>\n"
      ],
      "text/plain": [
       "\u001b[1;35mtensor\u001b[0m\u001b[1m(\u001b[0m\u001b[1m[\u001b[0m\u001b[1m[\u001b[0m\u001b[1;36m151.8721\u001b[0m, \u001b[1;36m162.4626\u001b[0m, \u001b[1;36m173.4557\u001b[0m, \u001b[1;36m185.0397\u001b[0m, \u001b[1;36m195.8915\u001b[0m, \u001b[1;36m207.5966\u001b[0m, \u001b[1;36m218.1116\u001b[0m,\n",
       "         \u001b[1;36m229.2710\u001b[0m\u001b[1m]\u001b[0m,\n",
       "        \u001b[1m[\u001b[0m\u001b[1;36m203.9184\u001b[0m, \u001b[1;36m217.9152\u001b[0m, \u001b[1;36m232.3963\u001b[0m, \u001b[1;36m247.5970\u001b[0m, \u001b[1;36m261.8807\u001b[0m, \u001b[1;36m277.3813\u001b[0m, \u001b[1;36m291.0889\u001b[0m,\n",
       "         \u001b[1;36m305.9322\u001b[0m\u001b[1m]\u001b[0m,\n",
       "        \u001b[1m[\u001b[0m\u001b[1;36m255.9646\u001b[0m, \u001b[1;36m273.3677\u001b[0m, \u001b[1;36m291.3369\u001b[0m, \u001b[1;36m310.1544\u001b[0m, \u001b[1;36m327.8700\u001b[0m, \u001b[1;36m347.1660\u001b[0m, \u001b[1;36m364.0662\u001b[0m,\n",
       "         \u001b[1;36m382.5934\u001b[0m\u001b[1m]\u001b[0m,\n",
       "        \u001b[1m[\u001b[0m\u001b[1;36m308.0109\u001b[0m, \u001b[1;36m328.8203\u001b[0m, \u001b[1;36m350.2776\u001b[0m, \u001b[1;36m372.7117\u001b[0m, \u001b[1;36m393.8593\u001b[0m, \u001b[1;36m416.9507\u001b[0m, \u001b[1;36m437.0434\u001b[0m,\n",
       "         \u001b[1;36m459.2547\u001b[0m\u001b[1m]\u001b[0m\u001b[1m]\u001b[0m, \u001b[33mgrad_fn\u001b[0m=\u001b[1m<\u001b[0m\u001b[1;95mDivBackward0\u001b[0m\u001b[1m>\u001b[0m\u001b[1m)\u001b[0m\n"
      ]
     },
     "metadata": {},
     "output_type": "display_data"
    }
   ],
   "source": [
    "delta_w = x.t() @ delta_y / out_dim # dim\n",
    "print(delta_w)"
   ]
  },
  {
   "cell_type": "code",
   "execution_count": 7,
   "id": "6341422d-0769-4c92-8e04-1cd4a8538c40",
   "metadata": {},
   "outputs": [
    {
     "data": {
      "text/html": [
       "<pre style=\"white-space:pre;overflow-x:auto;line-height:normal;font-family:Menlo,'DejaVu Sans Mono',consolas,'Courier New',monospace\"><span style=\"color: #800080; text-decoration-color: #800080; font-weight: bold\">tensor</span><span style=\"font-weight: bold\">(</span><span style=\"color: #008080; text-decoration-color: #008080; font-weight: bold\">82850.6484</span>, <span style=\"color: #808000; text-decoration-color: #808000\">grad_fn</span>=<span style=\"font-weight: bold\">&lt;</span><span style=\"color: #ff00ff; text-decoration-color: #ff00ff; font-weight: bold\">MseLossBackward0</span><span style=\"font-weight: bold\">&gt;)</span>\n",
       "</pre>\n"
      ],
      "text/plain": [
       "\u001b[1;35mtensor\u001b[0m\u001b[1m(\u001b[0m\u001b[1;36m82850.6484\u001b[0m, \u001b[33mgrad_fn\u001b[0m=\u001b[1m<\u001b[0m\u001b[1;95mMseLossBackward0\u001b[0m\u001b[1m>\u001b[0m\u001b[1m)\u001b[0m\n"
      ]
     },
     "metadata": {},
     "output_type": "display_data"
    },
    {
     "data": {
      "text/html": [
       "<pre style=\"white-space:pre;overflow-x:auto;line-height:normal;font-family:Menlo,'DejaVu Sans Mono',consolas,'Courier New',monospace\"><span style=\"color: #800080; text-decoration-color: #800080; font-weight: bold\">tensor</span><span style=\"font-weight: bold\">([[</span><span style=\"color: #008080; text-decoration-color: #008080; font-weight: bold\">151.8721</span>, <span style=\"color: #008080; text-decoration-color: #008080; font-weight: bold\">162.4626</span>, <span style=\"color: #008080; text-decoration-color: #008080; font-weight: bold\">173.4557</span>, <span style=\"color: #008080; text-decoration-color: #008080; font-weight: bold\">185.0397</span>, <span style=\"color: #008080; text-decoration-color: #008080; font-weight: bold\">195.8915</span>, <span style=\"color: #008080; text-decoration-color: #008080; font-weight: bold\">207.5966</span>, <span style=\"color: #008080; text-decoration-color: #008080; font-weight: bold\">218.1116</span>,\n",
       "         <span style=\"color: #008080; text-decoration-color: #008080; font-weight: bold\">229.2710</span><span style=\"font-weight: bold\">]</span>,\n",
       "        <span style=\"font-weight: bold\">[</span><span style=\"color: #008080; text-decoration-color: #008080; font-weight: bold\">203.9184</span>, <span style=\"color: #008080; text-decoration-color: #008080; font-weight: bold\">217.9152</span>, <span style=\"color: #008080; text-decoration-color: #008080; font-weight: bold\">232.3963</span>, <span style=\"color: #008080; text-decoration-color: #008080; font-weight: bold\">247.5970</span>, <span style=\"color: #008080; text-decoration-color: #008080; font-weight: bold\">261.8807</span>, <span style=\"color: #008080; text-decoration-color: #008080; font-weight: bold\">277.3813</span>, <span style=\"color: #008080; text-decoration-color: #008080; font-weight: bold\">291.0889</span>,\n",
       "         <span style=\"color: #008080; text-decoration-color: #008080; font-weight: bold\">305.9322</span><span style=\"font-weight: bold\">]</span>,\n",
       "        <span style=\"font-weight: bold\">[</span><span style=\"color: #008080; text-decoration-color: #008080; font-weight: bold\">255.9646</span>, <span style=\"color: #008080; text-decoration-color: #008080; font-weight: bold\">273.3677</span>, <span style=\"color: #008080; text-decoration-color: #008080; font-weight: bold\">291.3369</span>, <span style=\"color: #008080; text-decoration-color: #008080; font-weight: bold\">310.1544</span>, <span style=\"color: #008080; text-decoration-color: #008080; font-weight: bold\">327.8700</span>, <span style=\"color: #008080; text-decoration-color: #008080; font-weight: bold\">347.1660</span>, <span style=\"color: #008080; text-decoration-color: #008080; font-weight: bold\">364.0662</span>,\n",
       "         <span style=\"color: #008080; text-decoration-color: #008080; font-weight: bold\">382.5934</span><span style=\"font-weight: bold\">]</span>,\n",
       "        <span style=\"font-weight: bold\">[</span><span style=\"color: #008080; text-decoration-color: #008080; font-weight: bold\">308.0109</span>, <span style=\"color: #008080; text-decoration-color: #008080; font-weight: bold\">328.8203</span>, <span style=\"color: #008080; text-decoration-color: #008080; font-weight: bold\">350.2776</span>, <span style=\"color: #008080; text-decoration-color: #008080; font-weight: bold\">372.7117</span>, <span style=\"color: #008080; text-decoration-color: #008080; font-weight: bold\">393.8593</span>, <span style=\"color: #008080; text-decoration-color: #008080; font-weight: bold\">416.9507</span>, <span style=\"color: #008080; text-decoration-color: #008080; font-weight: bold\">437.0434</span>,\n",
       "         <span style=\"color: #008080; text-decoration-color: #008080; font-weight: bold\">459.2547</span><span style=\"font-weight: bold\">]])</span>\n",
       "</pre>\n"
      ],
      "text/plain": [
       "\u001b[1;35mtensor\u001b[0m\u001b[1m(\u001b[0m\u001b[1m[\u001b[0m\u001b[1m[\u001b[0m\u001b[1;36m151.8721\u001b[0m, \u001b[1;36m162.4626\u001b[0m, \u001b[1;36m173.4557\u001b[0m, \u001b[1;36m185.0397\u001b[0m, \u001b[1;36m195.8915\u001b[0m, \u001b[1;36m207.5966\u001b[0m, \u001b[1;36m218.1116\u001b[0m,\n",
       "         \u001b[1;36m229.2710\u001b[0m\u001b[1m]\u001b[0m,\n",
       "        \u001b[1m[\u001b[0m\u001b[1;36m203.9184\u001b[0m, \u001b[1;36m217.9152\u001b[0m, \u001b[1;36m232.3963\u001b[0m, \u001b[1;36m247.5970\u001b[0m, \u001b[1;36m261.8807\u001b[0m, \u001b[1;36m277.3813\u001b[0m, \u001b[1;36m291.0889\u001b[0m,\n",
       "         \u001b[1;36m305.9322\u001b[0m\u001b[1m]\u001b[0m,\n",
       "        \u001b[1m[\u001b[0m\u001b[1;36m255.9646\u001b[0m, \u001b[1;36m273.3677\u001b[0m, \u001b[1;36m291.3369\u001b[0m, \u001b[1;36m310.1544\u001b[0m, \u001b[1;36m327.8700\u001b[0m, \u001b[1;36m347.1660\u001b[0m, \u001b[1;36m364.0662\u001b[0m,\n",
       "         \u001b[1;36m382.5934\u001b[0m\u001b[1m]\u001b[0m,\n",
       "        \u001b[1m[\u001b[0m\u001b[1;36m308.0109\u001b[0m, \u001b[1;36m328.8203\u001b[0m, \u001b[1;36m350.2776\u001b[0m, \u001b[1;36m372.7117\u001b[0m, \u001b[1;36m393.8593\u001b[0m, \u001b[1;36m416.9507\u001b[0m, \u001b[1;36m437.0434\u001b[0m,\n",
       "         \u001b[1;36m459.2547\u001b[0m\u001b[1m]\u001b[0m\u001b[1m]\u001b[0m\u001b[1m)\u001b[0m\n"
      ]
     },
     "metadata": {},
     "output_type": "display_data"
    }
   ],
   "source": [
    "w.retain_grad()\n",
    "w.grad = None\n",
    "mse_loss = nn.MSELoss(reduction='mean')\n",
    "\n",
    "y_pred = x @ w\n",
    "loss_torch = mse_loss(y_pred, y_label)\n",
    "loss_torch.backward()\n",
    "print(loss_torch)\n",
    "print(w.grad)"
   ]
  },
  {
   "cell_type": "markdown",
   "id": "7cb8bdc5-e332-4333-8e89-a123954755c7",
   "metadata": {},
   "source": [
    "# Tensor Parallel"
   ]
  },
  {
   "cell_type": "code",
   "execution_count": 8,
   "id": "cba6eeb5-827c-4650-92ad-2221ecc40bc3",
   "metadata": {},
   "outputs": [],
   "source": [
    "import copy\n",
    "# w.grad = None\n",
    "w_row = torch.arange(dim * out_dim, dtype = torch.float32).reshape(dim, out_dim)\n",
    "w_col = torch.arange(dim * out_dim, dtype = torch.float32).reshape(dim, out_dim)"
   ]
  },
  {
   "cell_type": "markdown",
   "id": "896204f5-3e6a-4d61-823b-872c0f64a5a6",
   "metadata": {},
   "source": [
    "## row-tensor parallel"
   ]
  },
  {
   "cell_type": "code",
   "execution_count": 9,
   "id": "5040e260-f20b-4f4f-93ca-13c4d81a5841",
   "metadata": {},
   "outputs": [
    {
     "data": {
      "text/html": [
       "<pre style=\"white-space:pre;overflow-x:auto;line-height:normal;font-family:Menlo,'DejaVu Sans Mono',consolas,'Courier New',monospace\"><span style=\"color: #800080; text-decoration-color: #800080; font-weight: bold\">torch.Size</span><span style=\"font-weight: bold\">([</span><span style=\"color: #008080; text-decoration-color: #008080; font-weight: bold\">2</span>, <span style=\"color: #008080; text-decoration-color: #008080; font-weight: bold\">8</span><span style=\"font-weight: bold\">])</span>\n",
       "</pre>\n"
      ],
      "text/plain": [
       "\u001b[1;35mtorch.Size\u001b[0m\u001b[1m(\u001b[0m\u001b[1m[\u001b[0m\u001b[1;36m2\u001b[0m, \u001b[1;36m8\u001b[0m\u001b[1m]\u001b[0m\u001b[1m)\u001b[0m\n"
      ]
     },
     "metadata": {},
     "output_type": "display_data"
    },
    {
     "data": {
      "text/html": [
       "<pre style=\"white-space:pre;overflow-x:auto;line-height:normal;font-family:Menlo,'DejaVu Sans Mono',consolas,'Courier New',monospace\"><span style=\"color: #800080; text-decoration-color: #800080; font-weight: bold\">torch.Size</span><span style=\"font-weight: bold\">([</span><span style=\"color: #008080; text-decoration-color: #008080; font-weight: bold\">2</span>, <span style=\"color: #008080; text-decoration-color: #008080; font-weight: bold\">8</span><span style=\"font-weight: bold\">])</span>\n",
       "</pre>\n"
      ],
      "text/plain": [
       "\u001b[1;35mtorch.Size\u001b[0m\u001b[1m(\u001b[0m\u001b[1m[\u001b[0m\u001b[1;36m2\u001b[0m, \u001b[1;36m8\u001b[0m\u001b[1m]\u001b[0m\u001b[1m)\u001b[0m\n"
      ]
     },
     "metadata": {},
     "output_type": "display_data"
    },
    {
     "data": {
      "text/html": [
       "<pre style=\"white-space:pre;overflow-x:auto;line-height:normal;font-family:Menlo,'DejaVu Sans Mono',consolas,'Courier New',monospace\"><span style=\"color: #800080; text-decoration-color: #800080; font-weight: bold\">tensor</span><span style=\"font-weight: bold\">([[</span> <span style=\"color: #008080; text-decoration-color: #008080; font-weight: bold\">0</span>.,  <span style=\"color: #008080; text-decoration-color: #008080; font-weight: bold\">1</span>.,  <span style=\"color: #008080; text-decoration-color: #008080; font-weight: bold\">2</span>.,  <span style=\"color: #008080; text-decoration-color: #008080; font-weight: bold\">3</span>.,  <span style=\"color: #008080; text-decoration-color: #008080; font-weight: bold\">4</span>.,  <span style=\"color: #008080; text-decoration-color: #008080; font-weight: bold\">5</span>.,  <span style=\"color: #008080; text-decoration-color: #008080; font-weight: bold\">6</span>.,  <span style=\"color: #008080; text-decoration-color: #008080; font-weight: bold\">7</span>.<span style=\"font-weight: bold\">]</span>,\n",
       "        <span style=\"font-weight: bold\">[</span> <span style=\"color: #008080; text-decoration-color: #008080; font-weight: bold\">8</span>.,  <span style=\"color: #008080; text-decoration-color: #008080; font-weight: bold\">9</span>., <span style=\"color: #008080; text-decoration-color: #008080; font-weight: bold\">10</span>., <span style=\"color: #008080; text-decoration-color: #008080; font-weight: bold\">11</span>., <span style=\"color: #008080; text-decoration-color: #008080; font-weight: bold\">12</span>., <span style=\"color: #008080; text-decoration-color: #008080; font-weight: bold\">13</span>., <span style=\"color: #008080; text-decoration-color: #008080; font-weight: bold\">14</span>., <span style=\"color: #008080; text-decoration-color: #008080; font-weight: bold\">15</span>.<span style=\"font-weight: bold\">]])</span>\n",
       "</pre>\n"
      ],
      "text/plain": [
       "\u001b[1;35mtensor\u001b[0m\u001b[1m(\u001b[0m\u001b[1m[\u001b[0m\u001b[1m[\u001b[0m \u001b[1;36m0\u001b[0m.,  \u001b[1;36m1\u001b[0m.,  \u001b[1;36m2\u001b[0m.,  \u001b[1;36m3\u001b[0m.,  \u001b[1;36m4\u001b[0m.,  \u001b[1;36m5\u001b[0m.,  \u001b[1;36m6\u001b[0m.,  \u001b[1;36m7\u001b[0m.\u001b[1m]\u001b[0m,\n",
       "        \u001b[1m[\u001b[0m \u001b[1;36m8\u001b[0m.,  \u001b[1;36m9\u001b[0m., \u001b[1;36m10\u001b[0m., \u001b[1;36m11\u001b[0m., \u001b[1;36m12\u001b[0m., \u001b[1;36m13\u001b[0m., \u001b[1;36m14\u001b[0m., \u001b[1;36m15\u001b[0m.\u001b[1m]\u001b[0m\u001b[1m]\u001b[0m\u001b[1m)\u001b[0m\n"
      ]
     },
     "metadata": {},
     "output_type": "display_data"
    },
    {
     "data": {
      "text/html": [
       "<pre style=\"white-space:pre;overflow-x:auto;line-height:normal;font-family:Menlo,'DejaVu Sans Mono',consolas,'Courier New',monospace\"><span style=\"color: #800080; text-decoration-color: #800080; font-weight: bold\">tensor</span><span style=\"font-weight: bold\">([[</span><span style=\"color: #008080; text-decoration-color: #008080; font-weight: bold\">16</span>., <span style=\"color: #008080; text-decoration-color: #008080; font-weight: bold\">17</span>., <span style=\"color: #008080; text-decoration-color: #008080; font-weight: bold\">18</span>., <span style=\"color: #008080; text-decoration-color: #008080; font-weight: bold\">19</span>., <span style=\"color: #008080; text-decoration-color: #008080; font-weight: bold\">20</span>., <span style=\"color: #008080; text-decoration-color: #008080; font-weight: bold\">21</span>., <span style=\"color: #008080; text-decoration-color: #008080; font-weight: bold\">22</span>., <span style=\"color: #008080; text-decoration-color: #008080; font-weight: bold\">23</span>.<span style=\"font-weight: bold\">]</span>,\n",
       "        <span style=\"font-weight: bold\">[</span><span style=\"color: #008080; text-decoration-color: #008080; font-weight: bold\">24</span>., <span style=\"color: #008080; text-decoration-color: #008080; font-weight: bold\">25</span>., <span style=\"color: #008080; text-decoration-color: #008080; font-weight: bold\">26</span>., <span style=\"color: #008080; text-decoration-color: #008080; font-weight: bold\">27</span>., <span style=\"color: #008080; text-decoration-color: #008080; font-weight: bold\">28</span>., <span style=\"color: #008080; text-decoration-color: #008080; font-weight: bold\">29</span>., <span style=\"color: #008080; text-decoration-color: #008080; font-weight: bold\">30</span>., <span style=\"color: #008080; text-decoration-color: #008080; font-weight: bold\">31</span>.<span style=\"font-weight: bold\">]])</span>\n",
       "</pre>\n"
      ],
      "text/plain": [
       "\u001b[1;35mtensor\u001b[0m\u001b[1m(\u001b[0m\u001b[1m[\u001b[0m\u001b[1m[\u001b[0m\u001b[1;36m16\u001b[0m., \u001b[1;36m17\u001b[0m., \u001b[1;36m18\u001b[0m., \u001b[1;36m19\u001b[0m., \u001b[1;36m20\u001b[0m., \u001b[1;36m21\u001b[0m., \u001b[1;36m22\u001b[0m., \u001b[1;36m23\u001b[0m.\u001b[1m]\u001b[0m,\n",
       "        \u001b[1m[\u001b[0m\u001b[1;36m24\u001b[0m., \u001b[1;36m25\u001b[0m., \u001b[1;36m26\u001b[0m., \u001b[1;36m27\u001b[0m., \u001b[1;36m28\u001b[0m., \u001b[1;36m29\u001b[0m., \u001b[1;36m30\u001b[0m., \u001b[1;36m31\u001b[0m.\u001b[1m]\u001b[0m\u001b[1m]\u001b[0m\u001b[1m)\u001b[0m\n"
      ]
     },
     "metadata": {},
     "output_type": "display_data"
    }
   ],
   "source": [
    "row_dim = dim // 2\n",
    "w_row_1 = w_row[:row_dim, :]\n",
    "w_row_2 = w_row[row_dim:, :]\n",
    "\n",
    "print(w_row_1.shape)\n",
    "print(w_row_2.shape)\n",
    "print(w_row_1)\n",
    "print(w_row_2)"
   ]
  },
  {
   "cell_type": "code",
   "execution_count": 17,
   "id": "84af731b-a4ae-4696-ac8e-36f34dd14ed3",
   "metadata": {},
   "outputs": [
    {
     "data": {
      "text/html": [
       "<pre style=\"white-space:pre;overflow-x:auto;line-height:normal;font-family:Menlo,'DejaVu Sans Mono',consolas,'Courier New',monospace\"><span style=\"color: #800080; text-decoration-color: #800080; font-weight: bold\">torch.Size</span><span style=\"font-weight: bold\">([</span><span style=\"color: #008080; text-decoration-color: #008080; font-weight: bold\">2</span>, <span style=\"color: #008080; text-decoration-color: #008080; font-weight: bold\">8</span><span style=\"font-weight: bold\">])</span>\n",
       "</pre>\n"
      ],
      "text/plain": [
       "\u001b[1;35mtorch.Size\u001b[0m\u001b[1m(\u001b[0m\u001b[1m[\u001b[0m\u001b[1;36m2\u001b[0m, \u001b[1;36m8\u001b[0m\u001b[1m]\u001b[0m\u001b[1m)\u001b[0m\n"
      ]
     },
     "metadata": {},
     "output_type": "display_data"
    },
    {
     "data": {
      "text/html": [
       "<pre style=\"white-space:pre;overflow-x:auto;line-height:normal;font-family:Menlo,'DejaVu Sans Mono',consolas,'Courier New',monospace\"><span style=\"color: #800080; text-decoration-color: #800080; font-weight: bold\">torch.Size</span><span style=\"font-weight: bold\">([</span><span style=\"color: #008080; text-decoration-color: #008080; font-weight: bold\">2</span>, <span style=\"color: #008080; text-decoration-color: #008080; font-weight: bold\">8</span><span style=\"font-weight: bold\">])</span>\n",
       "</pre>\n"
      ],
      "text/plain": [
       "\u001b[1;35mtorch.Size\u001b[0m\u001b[1m(\u001b[0m\u001b[1m[\u001b[0m\u001b[1;36m2\u001b[0m, \u001b[1;36m8\u001b[0m\u001b[1m]\u001b[0m\u001b[1m)\u001b[0m\n"
      ]
     },
     "metadata": {},
     "output_type": "display_data"
    },
    {
     "data": {
      "text/html": [
       "<pre style=\"white-space:pre;overflow-x:auto;line-height:normal;font-family:Menlo,'DejaVu Sans Mono',consolas,'Courier New',monospace\"><span style=\"color: #800080; text-decoration-color: #800080; font-weight: bold\">torch.Size</span><span style=\"font-weight: bold\">([</span><span style=\"color: #008080; text-decoration-color: #008080; font-weight: bold\">2</span>, <span style=\"color: #008080; text-decoration-color: #008080; font-weight: bold\">8</span><span style=\"font-weight: bold\">])</span>\n",
       "</pre>\n"
      ],
      "text/plain": [
       "\u001b[1;35mtorch.Size\u001b[0m\u001b[1m(\u001b[0m\u001b[1m[\u001b[0m\u001b[1;36m2\u001b[0m, \u001b[1;36m8\u001b[0m\u001b[1m]\u001b[0m\u001b[1m)\u001b[0m\n"
      ]
     },
     "metadata": {},
     "output_type": "display_data"
    }
   ],
   "source": [
    "x_col_1 = x[:, :row_dim]\n",
    "x_col_2 = x[:, row_dim:]\n",
    "y_1 = x[:, :row_dim] @ w_row_1\n",
    "y_2 = x[:, row_dim:] @ w_row_2\n",
    "print(y_1.shape)\n",
    "print(y_2.shape)\n",
    "print((y_1+y_2).shape)"
   ]
  },
  {
   "cell_type": "code",
   "execution_count": 11,
   "id": "74175669-003f-4b55-b89e-34635b804d6b",
   "metadata": {},
   "outputs": [
    {
     "data": {
      "text/html": [
       "<pre style=\"white-space:pre;overflow-x:auto;line-height:normal;font-family:Menlo,'DejaVu Sans Mono',consolas,'Courier New',monospace\"><span style=\"color: #800080; text-decoration-color: #800080; font-weight: bold\">torch.Size</span><span style=\"font-weight: bold\">([</span><span style=\"color: #008080; text-decoration-color: #008080; font-weight: bold\">2</span>, <span style=\"color: #008080; text-decoration-color: #008080; font-weight: bold\">8</span><span style=\"font-weight: bold\">])</span>\n",
       "</pre>\n"
      ],
      "text/plain": [
       "\u001b[1;35mtorch.Size\u001b[0m\u001b[1m(\u001b[0m\u001b[1m[\u001b[0m\u001b[1;36m2\u001b[0m, \u001b[1;36m8\u001b[0m\u001b[1m]\u001b[0m\u001b[1m)\u001b[0m\n"
      ]
     },
     "metadata": {},
     "output_type": "display_data"
    },
    {
     "data": {
      "text/html": [
       "<pre style=\"white-space:pre;overflow-x:auto;line-height:normal;font-family:Menlo,'DejaVu Sans Mono',consolas,'Courier New',monospace\"><span style=\"color: #800080; text-decoration-color: #800080; font-weight: bold\">torch.Size</span><span style=\"font-weight: bold\">([</span><span style=\"color: #008080; text-decoration-color: #008080; font-weight: bold\">2</span>, <span style=\"color: #008080; text-decoration-color: #008080; font-weight: bold\">8</span><span style=\"font-weight: bold\">])</span>\n",
       "</pre>\n"
      ],
      "text/plain": [
       "\u001b[1;35mtorch.Size\u001b[0m\u001b[1m(\u001b[0m\u001b[1m[\u001b[0m\u001b[1;36m2\u001b[0m, \u001b[1;36m8\u001b[0m\u001b[1m]\u001b[0m\u001b[1m)\u001b[0m\n"
      ]
     },
     "metadata": {},
     "output_type": "display_data"
    }
   ],
   "source": [
    "delta_y = (y_1 + y_2 - y_label)\n",
    "\n",
    "grad_row_1 = x_col_1.t() @ delta_y \n",
    "grad_row_2 = x_col_2.t() @ delta_y \n",
    "\n",
    "print(grad_row_1.shape)\n",
    "print(grad_row_2.shape)"
   ]
  },
  {
   "cell_type": "code",
   "execution_count": 12,
   "id": "2b94fddb-bb12-4316-ae57-9f8f42d87008",
   "metadata": {},
   "outputs": [
    {
     "data": {
      "text/html": [
       "<pre style=\"white-space:pre;overflow-x:auto;line-height:normal;font-family:Menlo,'DejaVu Sans Mono',consolas,'Courier New',monospace\"><span style=\"color: #800080; text-decoration-color: #800080; font-weight: bold\">tensor</span><span style=\"font-weight: bold\">([[</span><span style=\"color: #008080; text-decoration-color: #008080; font-weight: bold\">151.8721</span>, <span style=\"color: #008080; text-decoration-color: #008080; font-weight: bold\">162.4626</span>, <span style=\"color: #008080; text-decoration-color: #008080; font-weight: bold\">173.4557</span>, <span style=\"color: #008080; text-decoration-color: #008080; font-weight: bold\">185.0397</span>, <span style=\"color: #008080; text-decoration-color: #008080; font-weight: bold\">195.8915</span>, <span style=\"color: #008080; text-decoration-color: #008080; font-weight: bold\">207.5966</span>, <span style=\"color: #008080; text-decoration-color: #008080; font-weight: bold\">218.1116</span>,\n",
       "         <span style=\"color: #008080; text-decoration-color: #008080; font-weight: bold\">229.2710</span><span style=\"font-weight: bold\">]</span>,\n",
       "        <span style=\"font-weight: bold\">[</span><span style=\"color: #008080; text-decoration-color: #008080; font-weight: bold\">203.9184</span>, <span style=\"color: #008080; text-decoration-color: #008080; font-weight: bold\">217.9152</span>, <span style=\"color: #008080; text-decoration-color: #008080; font-weight: bold\">232.3963</span>, <span style=\"color: #008080; text-decoration-color: #008080; font-weight: bold\">247.5970</span>, <span style=\"color: #008080; text-decoration-color: #008080; font-weight: bold\">261.8807</span>, <span style=\"color: #008080; text-decoration-color: #008080; font-weight: bold\">277.3813</span>, <span style=\"color: #008080; text-decoration-color: #008080; font-weight: bold\">291.0889</span>,\n",
       "         <span style=\"color: #008080; text-decoration-color: #008080; font-weight: bold\">305.9322</span><span style=\"font-weight: bold\">]</span>,\n",
       "        <span style=\"font-weight: bold\">[</span><span style=\"color: #008080; text-decoration-color: #008080; font-weight: bold\">255.9646</span>, <span style=\"color: #008080; text-decoration-color: #008080; font-weight: bold\">273.3677</span>, <span style=\"color: #008080; text-decoration-color: #008080; font-weight: bold\">291.3369</span>, <span style=\"color: #008080; text-decoration-color: #008080; font-weight: bold\">310.1544</span>, <span style=\"color: #008080; text-decoration-color: #008080; font-weight: bold\">327.8700</span>, <span style=\"color: #008080; text-decoration-color: #008080; font-weight: bold\">347.1660</span>, <span style=\"color: #008080; text-decoration-color: #008080; font-weight: bold\">364.0662</span>,\n",
       "         <span style=\"color: #008080; text-decoration-color: #008080; font-weight: bold\">382.5934</span><span style=\"font-weight: bold\">]</span>,\n",
       "        <span style=\"font-weight: bold\">[</span><span style=\"color: #008080; text-decoration-color: #008080; font-weight: bold\">308.0109</span>, <span style=\"color: #008080; text-decoration-color: #008080; font-weight: bold\">328.8203</span>, <span style=\"color: #008080; text-decoration-color: #008080; font-weight: bold\">350.2776</span>, <span style=\"color: #008080; text-decoration-color: #008080; font-weight: bold\">372.7117</span>, <span style=\"color: #008080; text-decoration-color: #008080; font-weight: bold\">393.8593</span>, <span style=\"color: #008080; text-decoration-color: #008080; font-weight: bold\">416.9507</span>, <span style=\"color: #008080; text-decoration-color: #008080; font-weight: bold\">437.0434</span>,\n",
       "         <span style=\"color: #008080; text-decoration-color: #008080; font-weight: bold\">459.2547</span><span style=\"font-weight: bold\">]])</span>\n",
       "</pre>\n"
      ],
      "text/plain": [
       "\u001b[1;35mtensor\u001b[0m\u001b[1m(\u001b[0m\u001b[1m[\u001b[0m\u001b[1m[\u001b[0m\u001b[1;36m151.8721\u001b[0m, \u001b[1;36m162.4626\u001b[0m, \u001b[1;36m173.4557\u001b[0m, \u001b[1;36m185.0397\u001b[0m, \u001b[1;36m195.8915\u001b[0m, \u001b[1;36m207.5966\u001b[0m, \u001b[1;36m218.1116\u001b[0m,\n",
       "         \u001b[1;36m229.2710\u001b[0m\u001b[1m]\u001b[0m,\n",
       "        \u001b[1m[\u001b[0m\u001b[1;36m203.9184\u001b[0m, \u001b[1;36m217.9152\u001b[0m, \u001b[1;36m232.3963\u001b[0m, \u001b[1;36m247.5970\u001b[0m, \u001b[1;36m261.8807\u001b[0m, \u001b[1;36m277.3813\u001b[0m, \u001b[1;36m291.0889\u001b[0m,\n",
       "         \u001b[1;36m305.9322\u001b[0m\u001b[1m]\u001b[0m,\n",
       "        \u001b[1m[\u001b[0m\u001b[1;36m255.9646\u001b[0m, \u001b[1;36m273.3677\u001b[0m, \u001b[1;36m291.3369\u001b[0m, \u001b[1;36m310.1544\u001b[0m, \u001b[1;36m327.8700\u001b[0m, \u001b[1;36m347.1660\u001b[0m, \u001b[1;36m364.0662\u001b[0m,\n",
       "         \u001b[1;36m382.5934\u001b[0m\u001b[1m]\u001b[0m,\n",
       "        \u001b[1m[\u001b[0m\u001b[1;36m308.0109\u001b[0m, \u001b[1;36m328.8203\u001b[0m, \u001b[1;36m350.2776\u001b[0m, \u001b[1;36m372.7117\u001b[0m, \u001b[1;36m393.8593\u001b[0m, \u001b[1;36m416.9507\u001b[0m, \u001b[1;36m437.0434\u001b[0m,\n",
       "         \u001b[1;36m459.2547\u001b[0m\u001b[1m]\u001b[0m\u001b[1m]\u001b[0m\u001b[1m)\u001b[0m\n"
      ]
     },
     "metadata": {},
     "output_type": "display_data"
    }
   ],
   "source": [
    "grad_row = torch.cat((grad_row_1,grad_row_2), dim = 0) / out_dim\n",
    "print(grad_row)"
   ]
  },
  {
   "cell_type": "markdown",
   "id": "0ad9018e-d5b0-4985-8d75-427c33f2d24c",
   "metadata": {},
   "source": [
    "## col-tensor parallel"
   ]
  },
  {
   "cell_type": "code",
   "execution_count": 13,
   "id": "224e2cdc-146b-41c5-a58e-0cf7f0e3560f",
   "metadata": {},
   "outputs": [
    {
     "data": {
      "text/html": [
       "<pre style=\"white-space:pre;overflow-x:auto;line-height:normal;font-family:Menlo,'DejaVu Sans Mono',consolas,'Courier New',monospace\"><span style=\"color: #800080; text-decoration-color: #800080; font-weight: bold\">torch.Size</span><span style=\"font-weight: bold\">([</span><span style=\"color: #008080; text-decoration-color: #008080; font-weight: bold\">4</span>, <span style=\"color: #008080; text-decoration-color: #008080; font-weight: bold\">4</span><span style=\"font-weight: bold\">])</span>\n",
       "</pre>\n"
      ],
      "text/plain": [
       "\u001b[1;35mtorch.Size\u001b[0m\u001b[1m(\u001b[0m\u001b[1m[\u001b[0m\u001b[1;36m4\u001b[0m, \u001b[1;36m4\u001b[0m\u001b[1m]\u001b[0m\u001b[1m)\u001b[0m\n"
      ]
     },
     "metadata": {},
     "output_type": "display_data"
    },
    {
     "data": {
      "text/html": [
       "<pre style=\"white-space:pre;overflow-x:auto;line-height:normal;font-family:Menlo,'DejaVu Sans Mono',consolas,'Courier New',monospace\"><span style=\"color: #800080; text-decoration-color: #800080; font-weight: bold\">torch.Size</span><span style=\"font-weight: bold\">([</span><span style=\"color: #008080; text-decoration-color: #008080; font-weight: bold\">4</span>, <span style=\"color: #008080; text-decoration-color: #008080; font-weight: bold\">4</span><span style=\"font-weight: bold\">])</span>\n",
       "</pre>\n"
      ],
      "text/plain": [
       "\u001b[1;35mtorch.Size\u001b[0m\u001b[1m(\u001b[0m\u001b[1m[\u001b[0m\u001b[1;36m4\u001b[0m, \u001b[1;36m4\u001b[0m\u001b[1m]\u001b[0m\u001b[1m)\u001b[0m\n"
      ]
     },
     "metadata": {},
     "output_type": "display_data"
    },
    {
     "data": {
      "text/html": [
       "<pre style=\"white-space:pre;overflow-x:auto;line-height:normal;font-family:Menlo,'DejaVu Sans Mono',consolas,'Courier New',monospace\"><span style=\"color: #800080; text-decoration-color: #800080; font-weight: bold\">tensor</span><span style=\"font-weight: bold\">([[</span> <span style=\"color: #008080; text-decoration-color: #008080; font-weight: bold\">0</span>.,  <span style=\"color: #008080; text-decoration-color: #008080; font-weight: bold\">1</span>.,  <span style=\"color: #008080; text-decoration-color: #008080; font-weight: bold\">2</span>.,  <span style=\"color: #008080; text-decoration-color: #008080; font-weight: bold\">3</span>.<span style=\"font-weight: bold\">]</span>,\n",
       "        <span style=\"font-weight: bold\">[</span> <span style=\"color: #008080; text-decoration-color: #008080; font-weight: bold\">8</span>.,  <span style=\"color: #008080; text-decoration-color: #008080; font-weight: bold\">9</span>., <span style=\"color: #008080; text-decoration-color: #008080; font-weight: bold\">10</span>., <span style=\"color: #008080; text-decoration-color: #008080; font-weight: bold\">11</span>.<span style=\"font-weight: bold\">]</span>,\n",
       "        <span style=\"font-weight: bold\">[</span><span style=\"color: #008080; text-decoration-color: #008080; font-weight: bold\">16</span>., <span style=\"color: #008080; text-decoration-color: #008080; font-weight: bold\">17</span>., <span style=\"color: #008080; text-decoration-color: #008080; font-weight: bold\">18</span>., <span style=\"color: #008080; text-decoration-color: #008080; font-weight: bold\">19</span>.<span style=\"font-weight: bold\">]</span>,\n",
       "        <span style=\"font-weight: bold\">[</span><span style=\"color: #008080; text-decoration-color: #008080; font-weight: bold\">24</span>., <span style=\"color: #008080; text-decoration-color: #008080; font-weight: bold\">25</span>., <span style=\"color: #008080; text-decoration-color: #008080; font-weight: bold\">26</span>., <span style=\"color: #008080; text-decoration-color: #008080; font-weight: bold\">27</span>.<span style=\"font-weight: bold\">]])</span>\n",
       "</pre>\n"
      ],
      "text/plain": [
       "\u001b[1;35mtensor\u001b[0m\u001b[1m(\u001b[0m\u001b[1m[\u001b[0m\u001b[1m[\u001b[0m \u001b[1;36m0\u001b[0m.,  \u001b[1;36m1\u001b[0m.,  \u001b[1;36m2\u001b[0m.,  \u001b[1;36m3\u001b[0m.\u001b[1m]\u001b[0m,\n",
       "        \u001b[1m[\u001b[0m \u001b[1;36m8\u001b[0m.,  \u001b[1;36m9\u001b[0m., \u001b[1;36m10\u001b[0m., \u001b[1;36m11\u001b[0m.\u001b[1m]\u001b[0m,\n",
       "        \u001b[1m[\u001b[0m\u001b[1;36m16\u001b[0m., \u001b[1;36m17\u001b[0m., \u001b[1;36m18\u001b[0m., \u001b[1;36m19\u001b[0m.\u001b[1m]\u001b[0m,\n",
       "        \u001b[1m[\u001b[0m\u001b[1;36m24\u001b[0m., \u001b[1;36m25\u001b[0m., \u001b[1;36m26\u001b[0m., \u001b[1;36m27\u001b[0m.\u001b[1m]\u001b[0m\u001b[1m]\u001b[0m\u001b[1m)\u001b[0m\n"
      ]
     },
     "metadata": {},
     "output_type": "display_data"
    },
    {
     "data": {
      "text/html": [
       "<pre style=\"white-space:pre;overflow-x:auto;line-height:normal;font-family:Menlo,'DejaVu Sans Mono',consolas,'Courier New',monospace\"><span style=\"color: #800080; text-decoration-color: #800080; font-weight: bold\">tensor</span><span style=\"font-weight: bold\">([[</span> <span style=\"color: #008080; text-decoration-color: #008080; font-weight: bold\">4</span>.,  <span style=\"color: #008080; text-decoration-color: #008080; font-weight: bold\">5</span>.,  <span style=\"color: #008080; text-decoration-color: #008080; font-weight: bold\">6</span>.,  <span style=\"color: #008080; text-decoration-color: #008080; font-weight: bold\">7</span>.<span style=\"font-weight: bold\">]</span>,\n",
       "        <span style=\"font-weight: bold\">[</span><span style=\"color: #008080; text-decoration-color: #008080; font-weight: bold\">12</span>., <span style=\"color: #008080; text-decoration-color: #008080; font-weight: bold\">13</span>., <span style=\"color: #008080; text-decoration-color: #008080; font-weight: bold\">14</span>., <span style=\"color: #008080; text-decoration-color: #008080; font-weight: bold\">15</span>.<span style=\"font-weight: bold\">]</span>,\n",
       "        <span style=\"font-weight: bold\">[</span><span style=\"color: #008080; text-decoration-color: #008080; font-weight: bold\">20</span>., <span style=\"color: #008080; text-decoration-color: #008080; font-weight: bold\">21</span>., <span style=\"color: #008080; text-decoration-color: #008080; font-weight: bold\">22</span>., <span style=\"color: #008080; text-decoration-color: #008080; font-weight: bold\">23</span>.<span style=\"font-weight: bold\">]</span>,\n",
       "        <span style=\"font-weight: bold\">[</span><span style=\"color: #008080; text-decoration-color: #008080; font-weight: bold\">28</span>., <span style=\"color: #008080; text-decoration-color: #008080; font-weight: bold\">29</span>., <span style=\"color: #008080; text-decoration-color: #008080; font-weight: bold\">30</span>., <span style=\"color: #008080; text-decoration-color: #008080; font-weight: bold\">31</span>.<span style=\"font-weight: bold\">]])</span>\n",
       "</pre>\n"
      ],
      "text/plain": [
       "\u001b[1;35mtensor\u001b[0m\u001b[1m(\u001b[0m\u001b[1m[\u001b[0m\u001b[1m[\u001b[0m \u001b[1;36m4\u001b[0m.,  \u001b[1;36m5\u001b[0m.,  \u001b[1;36m6\u001b[0m.,  \u001b[1;36m7\u001b[0m.\u001b[1m]\u001b[0m,\n",
       "        \u001b[1m[\u001b[0m\u001b[1;36m12\u001b[0m., \u001b[1;36m13\u001b[0m., \u001b[1;36m14\u001b[0m., \u001b[1;36m15\u001b[0m.\u001b[1m]\u001b[0m,\n",
       "        \u001b[1m[\u001b[0m\u001b[1;36m20\u001b[0m., \u001b[1;36m21\u001b[0m., \u001b[1;36m22\u001b[0m., \u001b[1;36m23\u001b[0m.\u001b[1m]\u001b[0m,\n",
       "        \u001b[1m[\u001b[0m\u001b[1;36m28\u001b[0m., \u001b[1;36m29\u001b[0m., \u001b[1;36m30\u001b[0m., \u001b[1;36m31\u001b[0m.\u001b[1m]\u001b[0m\u001b[1m]\u001b[0m\u001b[1m)\u001b[0m\n"
      ]
     },
     "metadata": {},
     "output_type": "display_data"
    }
   ],
   "source": [
    "col_dim = out_dim // 2\n",
    "w_col_1 = w_col[: , :col_dim]\n",
    "w_col_2 = w_col[: , col_dim:]\n",
    "\n",
    "print(w_col_1.shape)\n",
    "print(w_col_2.shape)\n",
    "print(w_col_1)\n",
    "print(w_col_2)"
   ]
  },
  {
   "cell_type": "code",
   "execution_count": 14,
   "id": "239adcee-9268-4d39-b31a-f85e0d1534c6",
   "metadata": {},
   "outputs": [
    {
     "data": {
      "text/html": [
       "<pre style=\"white-space:pre;overflow-x:auto;line-height:normal;font-family:Menlo,'DejaVu Sans Mono',consolas,'Courier New',monospace\"><span style=\"color: #800080; text-decoration-color: #800080; font-weight: bold\">torch.Size</span><span style=\"font-weight: bold\">([</span><span style=\"color: #008080; text-decoration-color: #008080; font-weight: bold\">2</span>, <span style=\"color: #008080; text-decoration-color: #008080; font-weight: bold\">4</span><span style=\"font-weight: bold\">])</span>\n",
       "</pre>\n"
      ],
      "text/plain": [
       "\u001b[1;35mtorch.Size\u001b[0m\u001b[1m(\u001b[0m\u001b[1m[\u001b[0m\u001b[1;36m2\u001b[0m, \u001b[1;36m4\u001b[0m\u001b[1m]\u001b[0m\u001b[1m)\u001b[0m\n"
      ]
     },
     "metadata": {},
     "output_type": "display_data"
    },
    {
     "data": {
      "text/html": [
       "<pre style=\"white-space:pre;overflow-x:auto;line-height:normal;font-family:Menlo,'DejaVu Sans Mono',consolas,'Courier New',monospace\"><span style=\"color: #800080; text-decoration-color: #800080; font-weight: bold\">torch.Size</span><span style=\"font-weight: bold\">([</span><span style=\"color: #008080; text-decoration-color: #008080; font-weight: bold\">2</span>, <span style=\"color: #008080; text-decoration-color: #008080; font-weight: bold\">4</span><span style=\"font-weight: bold\">])</span>\n",
       "</pre>\n"
      ],
      "text/plain": [
       "\u001b[1;35mtorch.Size\u001b[0m\u001b[1m(\u001b[0m\u001b[1m[\u001b[0m\u001b[1;36m2\u001b[0m, \u001b[1;36m4\u001b[0m\u001b[1m]\u001b[0m\u001b[1m)\u001b[0m\n"
      ]
     },
     "metadata": {},
     "output_type": "display_data"
    }
   ],
   "source": [
    "y_1 = x @ w_col_1\n",
    "y_2 = x @ w_col_2\n",
    "print(y_1.shape)\n",
    "print(y_2.shape)"
   ]
  },
  {
   "cell_type": "code",
   "execution_count": 15,
   "id": "74a96665-9159-42e6-ae57-fe5591084fb4",
   "metadata": {},
   "outputs": [
    {
     "data": {
      "text/html": [
       "<pre style=\"white-space:pre;overflow-x:auto;line-height:normal;font-family:Menlo,'DejaVu Sans Mono',consolas,'Courier New',monospace\"><span style=\"color: #800080; text-decoration-color: #800080; font-weight: bold\">torch.Size</span><span style=\"font-weight: bold\">([</span><span style=\"color: #008080; text-decoration-color: #008080; font-weight: bold\">2</span>, <span style=\"color: #008080; text-decoration-color: #008080; font-weight: bold\">4</span><span style=\"font-weight: bold\">])</span>\n",
       "</pre>\n"
      ],
      "text/plain": [
       "\u001b[1;35mtorch.Size\u001b[0m\u001b[1m(\u001b[0m\u001b[1m[\u001b[0m\u001b[1;36m2\u001b[0m, \u001b[1;36m4\u001b[0m\u001b[1m]\u001b[0m\u001b[1m)\u001b[0m\n"
      ]
     },
     "metadata": {},
     "output_type": "display_data"
    },
    {
     "data": {
      "text/html": [
       "<pre style=\"white-space:pre;overflow-x:auto;line-height:normal;font-family:Menlo,'DejaVu Sans Mono',consolas,'Courier New',monospace\"><span style=\"color: #800080; text-decoration-color: #800080; font-weight: bold\">torch.Size</span><span style=\"font-weight: bold\">([</span><span style=\"color: #008080; text-decoration-color: #008080; font-weight: bold\">2</span>, <span style=\"color: #008080; text-decoration-color: #008080; font-weight: bold\">4</span><span style=\"font-weight: bold\">])</span>\n",
       "</pre>\n"
      ],
      "text/plain": [
       "\u001b[1;35mtorch.Size\u001b[0m\u001b[1m(\u001b[0m\u001b[1m[\u001b[0m\u001b[1;36m2\u001b[0m, \u001b[1;36m4\u001b[0m\u001b[1m]\u001b[0m\u001b[1m)\u001b[0m\n"
      ]
     },
     "metadata": {},
     "output_type": "display_data"
    }
   ],
   "source": [
    "y_1_delta = y_1 - y_label[:, col_dim:]\n",
    "y_2_delta = y_2 - y_label[:, :col_dim]\n",
    "print(y_1_delta.shape)\n",
    "print(y_2_delta.shape)"
   ]
  },
  {
   "cell_type": "code",
   "execution_count": 16,
   "id": "8abcbbce-c908-4754-8ef9-6fece3a621ad",
   "metadata": {},
   "outputs": [
    {
     "data": {
      "text/html": [
       "<pre style=\"white-space:pre;overflow-x:auto;line-height:normal;font-family:Menlo,'DejaVu Sans Mono',consolas,'Courier New',monospace\"><span style=\"color: #800080; text-decoration-color: #800080; font-weight: bold\">torch.Size</span><span style=\"font-weight: bold\">([</span><span style=\"color: #008080; text-decoration-color: #008080; font-weight: bold\">4</span>, <span style=\"color: #008080; text-decoration-color: #008080; font-weight: bold\">4</span><span style=\"font-weight: bold\">])</span>\n",
       "</pre>\n"
      ],
      "text/plain": [
       "\u001b[1;35mtorch.Size\u001b[0m\u001b[1m(\u001b[0m\u001b[1m[\u001b[0m\u001b[1;36m4\u001b[0m, \u001b[1;36m4\u001b[0m\u001b[1m]\u001b[0m\u001b[1m)\u001b[0m\n"
      ]
     },
     "metadata": {},
     "output_type": "display_data"
    },
    {
     "data": {
      "text/html": [
       "<pre style=\"white-space:pre;overflow-x:auto;line-height:normal;font-family:Menlo,'DejaVu Sans Mono',consolas,'Courier New',monospace\"><span style=\"color: #800080; text-decoration-color: #800080; font-weight: bold\">torch.Size</span><span style=\"font-weight: bold\">([</span><span style=\"color: #008080; text-decoration-color: #008080; font-weight: bold\">4</span>, <span style=\"color: #008080; text-decoration-color: #008080; font-weight: bold\">4</span><span style=\"font-weight: bold\">])</span>\n",
       "</pre>\n"
      ],
      "text/plain": [
       "\u001b[1;35mtorch.Size\u001b[0m\u001b[1m(\u001b[0m\u001b[1m[\u001b[0m\u001b[1;36m4\u001b[0m, \u001b[1;36m4\u001b[0m\u001b[1m]\u001b[0m\u001b[1m)\u001b[0m\n"
      ]
     },
     "metadata": {},
     "output_type": "display_data"
    },
    {
     "data": {
      "text/html": [
       "<pre style=\"white-space:pre;overflow-x:auto;line-height:normal;font-family:Menlo,'DejaVu Sans Mono',consolas,'Courier New',monospace\"><span style=\"color: #800080; text-decoration-color: #800080; font-weight: bold\">torch.Size</span><span style=\"font-weight: bold\">([</span><span style=\"color: #008080; text-decoration-color: #008080; font-weight: bold\">4</span>, <span style=\"color: #008080; text-decoration-color: #008080; font-weight: bold\">8</span><span style=\"font-weight: bold\">])</span>\n",
       "</pre>\n"
      ],
      "text/plain": [
       "\u001b[1;35mtorch.Size\u001b[0m\u001b[1m(\u001b[0m\u001b[1m[\u001b[0m\u001b[1;36m4\u001b[0m, \u001b[1;36m8\u001b[0m\u001b[1m]\u001b[0m\u001b[1m)\u001b[0m\n"
      ]
     },
     "metadata": {},
     "output_type": "display_data"
    },
    {
     "data": {
      "text/html": [
       "<pre style=\"white-space:pre;overflow-x:auto;line-height:normal;font-family:Menlo,'DejaVu Sans Mono',consolas,'Courier New',monospace\"><span style=\"color: #800080; text-decoration-color: #800080; font-weight: bold\">tensor</span><span style=\"font-weight: bold\">([[</span><span style=\"color: #008080; text-decoration-color: #008080; font-weight: bold\">1215.1318</span>, <span style=\"color: #008080; text-decoration-color: #008080; font-weight: bold\">1308.7727</span>, <span style=\"color: #008080; text-decoration-color: #008080; font-weight: bold\">1392.8927</span>, <span style=\"color: #008080; text-decoration-color: #008080; font-weight: bold\">1482.1680</span><span style=\"font-weight: bold\">]</span>,\n",
       "        <span style=\"font-weight: bold\">[</span><span style=\"color: #008080; text-decoration-color: #008080; font-weight: bold\">1631.0459</span>, <span style=\"color: #008080; text-decoration-color: #008080; font-weight: bold\">1755.0504</span>, <span style=\"color: #008080; text-decoration-color: #008080; font-weight: bold\">1864.7109</span>, <span style=\"color: #008080; text-decoration-color: #008080; font-weight: bold\">1983.4578</span><span style=\"font-weight: bold\">]</span>,\n",
       "        <span style=\"font-weight: bold\">[</span><span style=\"color: #008080; text-decoration-color: #008080; font-weight: bold\">2046.9600</span>, <span style=\"color: #008080; text-decoration-color: #008080; font-weight: bold\">2201.3281</span>, <span style=\"color: #008080; text-decoration-color: #008080; font-weight: bold\">2336.5293</span>, <span style=\"color: #008080; text-decoration-color: #008080; font-weight: bold\">2484.7476</span><span style=\"font-weight: bold\">]</span>,\n",
       "        <span style=\"font-weight: bold\">[</span><span style=\"color: #008080; text-decoration-color: #008080; font-weight: bold\">2462.8740</span>, <span style=\"color: #008080; text-decoration-color: #008080; font-weight: bold\">2647.6060</span>, <span style=\"color: #008080; text-decoration-color: #008080; font-weight: bold\">2808.3474</span>, <span style=\"color: #008080; text-decoration-color: #008080; font-weight: bold\">2986.0376</span><span style=\"font-weight: bold\">]])</span>\n",
       "</pre>\n"
      ],
      "text/plain": [
       "\u001b[1;35mtensor\u001b[0m\u001b[1m(\u001b[0m\u001b[1m[\u001b[0m\u001b[1m[\u001b[0m\u001b[1;36m1215.1318\u001b[0m, \u001b[1;36m1308.7727\u001b[0m, \u001b[1;36m1392.8927\u001b[0m, \u001b[1;36m1482.1680\u001b[0m\u001b[1m]\u001b[0m,\n",
       "        \u001b[1m[\u001b[0m\u001b[1;36m1631.0459\u001b[0m, \u001b[1;36m1755.0504\u001b[0m, \u001b[1;36m1864.7109\u001b[0m, \u001b[1;36m1983.4578\u001b[0m\u001b[1m]\u001b[0m,\n",
       "        \u001b[1m[\u001b[0m\u001b[1;36m2046.9600\u001b[0m, \u001b[1;36m2201.3281\u001b[0m, \u001b[1;36m2336.5293\u001b[0m, \u001b[1;36m2484.7476\u001b[0m\u001b[1m]\u001b[0m,\n",
       "        \u001b[1m[\u001b[0m\u001b[1;36m2462.8740\u001b[0m, \u001b[1;36m2647.6060\u001b[0m, \u001b[1;36m2808.3474\u001b[0m, \u001b[1;36m2986.0376\u001b[0m\u001b[1m]\u001b[0m\u001b[1m]\u001b[0m\u001b[1m)\u001b[0m\n"
      ]
     },
     "metadata": {},
     "output_type": "display_data"
    },
    {
     "data": {
      "text/html": [
       "<pre style=\"white-space:pre;overflow-x:auto;line-height:normal;font-family:Menlo,'DejaVu Sans Mono',consolas,'Courier New',monospace\"><span style=\"color: #800080; text-decoration-color: #800080; font-weight: bold\">tensor</span><span style=\"font-weight: bold\">([[</span><span style=\"color: #008080; text-decoration-color: #008080; font-weight: bold\">1566.9767</span>, <span style=\"color: #008080; text-decoration-color: #008080; font-weight: bold\">1651.7007</span>, <span style=\"color: #008080; text-decoration-color: #008080; font-weight: bold\">1739.6460</span>, <span style=\"color: #008080; text-decoration-color: #008080; font-weight: bold\">1832.3176</span><span style=\"font-weight: bold\">]</span>,\n",
       "        <span style=\"font-weight: bold\">[</span><span style=\"color: #008080; text-decoration-color: #008080; font-weight: bold\">2095.3469</span>, <span style=\"color: #008080; text-decoration-color: #008080; font-weight: bold\">2207.3213</span>, <span style=\"color: #008080; text-decoration-color: #008080; font-weight: bold\">2323.1709</span>, <span style=\"color: #008080; text-decoration-color: #008080; font-weight: bold\">2444.7761</span><span style=\"font-weight: bold\">]</span>,\n",
       "        <span style=\"font-weight: bold\">[</span><span style=\"color: #008080; text-decoration-color: #008080; font-weight: bold\">2623.7170</span>, <span style=\"color: #008080; text-decoration-color: #008080; font-weight: bold\">2762.9419</span>, <span style=\"color: #008080; text-decoration-color: #008080; font-weight: bold\">2906.6958</span>, <span style=\"color: #008080; text-decoration-color: #008080; font-weight: bold\">3057.2349</span><span style=\"font-weight: bold\">]</span>,\n",
       "        <span style=\"font-weight: bold\">[</span><span style=\"color: #008080; text-decoration-color: #008080; font-weight: bold\">3152.0872</span>, <span style=\"color: #008080; text-decoration-color: #008080; font-weight: bold\">3318.5625</span>, <span style=\"color: #008080; text-decoration-color: #008080; font-weight: bold\">3490.2205</span>, <span style=\"color: #008080; text-decoration-color: #008080; font-weight: bold\">3669.6934</span><span style=\"font-weight: bold\">]])</span>\n",
       "</pre>\n"
      ],
      "text/plain": [
       "\u001b[1;35mtensor\u001b[0m\u001b[1m(\u001b[0m\u001b[1m[\u001b[0m\u001b[1m[\u001b[0m\u001b[1;36m1566.9767\u001b[0m, \u001b[1;36m1651.7007\u001b[0m, \u001b[1;36m1739.6460\u001b[0m, \u001b[1;36m1832.3176\u001b[0m\u001b[1m]\u001b[0m,\n",
       "        \u001b[1m[\u001b[0m\u001b[1;36m2095.3469\u001b[0m, \u001b[1;36m2207.3213\u001b[0m, \u001b[1;36m2323.1709\u001b[0m, \u001b[1;36m2444.7761\u001b[0m\u001b[1m]\u001b[0m,\n",
       "        \u001b[1m[\u001b[0m\u001b[1;36m2623.7170\u001b[0m, \u001b[1;36m2762.9419\u001b[0m, \u001b[1;36m2906.6958\u001b[0m, \u001b[1;36m3057.2349\u001b[0m\u001b[1m]\u001b[0m,\n",
       "        \u001b[1m[\u001b[0m\u001b[1;36m3152.0872\u001b[0m, \u001b[1;36m3318.5625\u001b[0m, \u001b[1;36m3490.2205\u001b[0m, \u001b[1;36m3669.6934\u001b[0m\u001b[1m]\u001b[0m\u001b[1m]\u001b[0m\u001b[1m)\u001b[0m\n"
      ]
     },
     "metadata": {},
     "output_type": "display_data"
    },
    {
     "data": {
      "text/html": [
       "<pre style=\"white-space:pre;overflow-x:auto;line-height:normal;font-family:Menlo,'DejaVu Sans Mono',consolas,'Courier New',monospace\"><span style=\"color: #800080; text-decoration-color: #800080; font-weight: bold\">tensor</span><span style=\"font-weight: bold\">([[</span><span style=\"color: #008080; text-decoration-color: #008080; font-weight: bold\">151.8915</span>, <span style=\"color: #008080; text-decoration-color: #008080; font-weight: bold\">163.5966</span>, <span style=\"color: #008080; text-decoration-color: #008080; font-weight: bold\">174.1116</span>, <span style=\"color: #008080; text-decoration-color: #008080; font-weight: bold\">185.2710</span>, <span style=\"color: #008080; text-decoration-color: #008080; font-weight: bold\">195.8721</span>, <span style=\"color: #008080; text-decoration-color: #008080; font-weight: bold\">206.4626</span>, <span style=\"color: #008080; text-decoration-color: #008080; font-weight: bold\">217.4557</span>,\n",
       "         <span style=\"color: #008080; text-decoration-color: #008080; font-weight: bold\">229.0397</span><span style=\"font-weight: bold\">]</span>,\n",
       "        <span style=\"font-weight: bold\">[</span><span style=\"color: #008080; text-decoration-color: #008080; font-weight: bold\">203.8807</span>, <span style=\"color: #008080; text-decoration-color: #008080; font-weight: bold\">219.3813</span>, <span style=\"color: #008080; text-decoration-color: #008080; font-weight: bold\">233.0889</span>, <span style=\"color: #008080; text-decoration-color: #008080; font-weight: bold\">247.9322</span>, <span style=\"color: #008080; text-decoration-color: #008080; font-weight: bold\">261.9184</span>, <span style=\"color: #008080; text-decoration-color: #008080; font-weight: bold\">275.9152</span>, <span style=\"color: #008080; text-decoration-color: #008080; font-weight: bold\">290.3964</span>,\n",
       "         <span style=\"color: #008080; text-decoration-color: #008080; font-weight: bold\">305.5970</span><span style=\"font-weight: bold\">]</span>,\n",
       "        <span style=\"font-weight: bold\">[</span><span style=\"color: #008080; text-decoration-color: #008080; font-weight: bold\">255.8700</span>, <span style=\"color: #008080; text-decoration-color: #008080; font-weight: bold\">275.1660</span>, <span style=\"color: #008080; text-decoration-color: #008080; font-weight: bold\">292.0662</span>, <span style=\"color: #008080; text-decoration-color: #008080; font-weight: bold\">310.5934</span>, <span style=\"color: #008080; text-decoration-color: #008080; font-weight: bold\">327.9646</span>, <span style=\"color: #008080; text-decoration-color: #008080; font-weight: bold\">345.3677</span>, <span style=\"color: #008080; text-decoration-color: #008080; font-weight: bold\">363.3370</span>,\n",
       "         <span style=\"color: #008080; text-decoration-color: #008080; font-weight: bold\">382.1544</span><span style=\"font-weight: bold\">]</span>,\n",
       "        <span style=\"font-weight: bold\">[</span><span style=\"color: #008080; text-decoration-color: #008080; font-weight: bold\">307.8593</span>, <span style=\"color: #008080; text-decoration-color: #008080; font-weight: bold\">330.9507</span>, <span style=\"color: #008080; text-decoration-color: #008080; font-weight: bold\">351.0434</span>, <span style=\"color: #008080; text-decoration-color: #008080; font-weight: bold\">373.2547</span>, <span style=\"color: #008080; text-decoration-color: #008080; font-weight: bold\">394.0109</span>, <span style=\"color: #008080; text-decoration-color: #008080; font-weight: bold\">414.8203</span>, <span style=\"color: #008080; text-decoration-color: #008080; font-weight: bold\">436.2776</span>,\n",
       "         <span style=\"color: #008080; text-decoration-color: #008080; font-weight: bold\">458.7117</span><span style=\"font-weight: bold\">]])</span>\n",
       "</pre>\n"
      ],
      "text/plain": [
       "\u001b[1;35mtensor\u001b[0m\u001b[1m(\u001b[0m\u001b[1m[\u001b[0m\u001b[1m[\u001b[0m\u001b[1;36m151.8915\u001b[0m, \u001b[1;36m163.5966\u001b[0m, \u001b[1;36m174.1116\u001b[0m, \u001b[1;36m185.2710\u001b[0m, \u001b[1;36m195.8721\u001b[0m, \u001b[1;36m206.4626\u001b[0m, \u001b[1;36m217.4557\u001b[0m,\n",
       "         \u001b[1;36m229.0397\u001b[0m\u001b[1m]\u001b[0m,\n",
       "        \u001b[1m[\u001b[0m\u001b[1;36m203.8807\u001b[0m, \u001b[1;36m219.3813\u001b[0m, \u001b[1;36m233.0889\u001b[0m, \u001b[1;36m247.9322\u001b[0m, \u001b[1;36m261.9184\u001b[0m, \u001b[1;36m275.9152\u001b[0m, \u001b[1;36m290.3964\u001b[0m,\n",
       "         \u001b[1;36m305.5970\u001b[0m\u001b[1m]\u001b[0m,\n",
       "        \u001b[1m[\u001b[0m\u001b[1;36m255.8700\u001b[0m, \u001b[1;36m275.1660\u001b[0m, \u001b[1;36m292.0662\u001b[0m, \u001b[1;36m310.5934\u001b[0m, \u001b[1;36m327.9646\u001b[0m, \u001b[1;36m345.3677\u001b[0m, \u001b[1;36m363.3370\u001b[0m,\n",
       "         \u001b[1;36m382.1544\u001b[0m\u001b[1m]\u001b[0m,\n",
       "        \u001b[1m[\u001b[0m\u001b[1;36m307.8593\u001b[0m, \u001b[1;36m330.9507\u001b[0m, \u001b[1;36m351.0434\u001b[0m, \u001b[1;36m373.2547\u001b[0m, \u001b[1;36m394.0109\u001b[0m, \u001b[1;36m414.8203\u001b[0m, \u001b[1;36m436.2776\u001b[0m,\n",
       "         \u001b[1;36m458.7117\u001b[0m\u001b[1m]\u001b[0m\u001b[1m]\u001b[0m\u001b[1m)\u001b[0m\n"
      ]
     },
     "metadata": {},
     "output_type": "display_data"
    }
   ],
   "source": [
    "grad_col_1 = x.t() @ y_1_delta\n",
    "grad_col_2 = x.t() @ y_2_delta \n",
    "grad_col = torch.cat( (grad_col_1, grad_col_2), dim = 1) / out_dim\n",
    "print(grad_col_1.shape)\n",
    "print(grad_col_2.shape)\n",
    "print(grad_col.shape)\n",
    "print(grad_col_1)\n",
    "print(grad_col_2)\n",
    "print(grad_col)"
   ]
  }
 ],
 "metadata": {
  "kernelspec": {
   "display_name": "Python 3 (ipykernel)",
   "language": "python",
   "name": "python3"
  },
  "language_info": {
   "codemirror_mode": {
    "name": "ipython",
    "version": 3
   },
   "file_extension": ".py",
   "mimetype": "text/x-python",
   "name": "python",
   "nbconvert_exporter": "python",
   "pygments_lexer": "ipython3",
   "version": "3.11.9"
  }
 },
 "nbformat": 4,
 "nbformat_minor": 5
}
