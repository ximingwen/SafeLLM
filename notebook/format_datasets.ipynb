{
 "cells": [
  {
   "cell_type": "code",
   "execution_count": 1,
   "id": "8bdc3bb2-8cd0-4ca0-b73c-61dfbdded0e0",
   "metadata": {
    "tags": []
   },
   "outputs": [],
   "source": [
    "import os\n",
    "import re\n",
    "import random\n",
    "import numpy as np\n",
    "import pandas as pd\n",
    "from datasets import load_dataset, load_from_disk, concatenate_datasets, DatasetDict"
   ]
  },
  {
   "cell_type": "markdown",
   "id": "50f38c58-16c2-49f6-8fb9-22dbb3c49675",
   "metadata": {},
   "source": [
    "## Load datasets from multiple source"
   ]
  },
  {
   "cell_type": "code",
   "execution_count": 5,
   "id": "c124232c-c6d3-4ca8-bfe5-e7d7a2766a8d",
   "metadata": {
    "tags": []
   },
   "outputs": [
    {
     "name": "stderr",
     "output_type": "stream",
     "text": [
      "HF google storage unreachable. Downloading and preparing it from source\n"
     ]
    },
    {
     "data": {
      "application/vnd.jupyter.widget-view+json": {
       "model_id": "0b9c05e3ff944fa18071fc14a121761a",
       "version_major": 2,
       "version_minor": 0
      },
      "text/plain": [
       "Generating train split: 0 examples [00:00, ? examples/s]"
      ]
     },
     "metadata": {},
     "output_type": "display_data"
    }
   ],
   "source": [
    "# load base dataset\n",
    "dataset = load_dataset('../data/alpaca-cleaned') # remember to switch to your own path"
   ]
  },
  {
   "cell_type": "code",
   "execution_count": 13,
   "id": "b834aeb1-beab-4e08-8ec4-01d5473c83f0",
   "metadata": {
    "tags": []
   },
   "outputs": [],
   "source": [
    "# other data source\n",
    "dataset_chat = load_dataset('../data/ChatAlpaca-20k')\n",
    "dataset_hhrlhf= load_dataset('../data/hh-rlhf', split='train')"
   ]
  },
  {
   "cell_type": "markdown",
   "id": "20504164-a997-4a58-9862-a5a75f83bd59",
   "metadata": {},
   "source": [
    "## Format other data source to Alpaca"
   ]
  },
  {
   "cell_type": "code",
   "execution_count": 14,
   "id": "ca19b391-f029-474b-b1fd-960895d938e6",
   "metadata": {},
   "outputs": [],
   "source": [
    "def format_chat_to_alpaca(example):\n",
    "    chat_text = example['messages']\n",
    "    text = ''\n",
    "    for e in chat_text:\n",
    "        if e['role'] == 'user':\n",
    "            text += '\\n###Question: ' + e['content']\n",
    "        else:\n",
    "            text += '\\n###Answer: ' + e['content']\n",
    "    text = text[1:]\n",
    "    instruction = text.rsplit('\\n###Answer:',1)[0]\n",
    "    instruction = instruction.split('###Question: ',1)[1]\n",
    "    output = text.rsplit('\\n###Answer: ',1)[1]\n",
    "\n",
    "    example['input'] = ''\n",
    "    example['output'] = output\n",
    "    example['instruction'] = instruction\n",
    "\n",
    "    return example"
   ]
  },
  {
   "cell_type": "code",
   "execution_count": 15,
   "id": "7b768111-4d4c-4a52-b7f4-c1e18263a238",
   "metadata": {},
   "outputs": [],
   "source": [
    "dataset_chat = dataset_chat['train'].map(format_chat_to_alpaca, num_proc=8, remove_columns = [\"id\", \"messages\"])"
   ]
  },
  {
   "cell_type": "code",
   "execution_count": 16,
   "id": "f76ee37a-7a5b-4f16-99b6-028d4af0321b",
   "metadata": {},
   "outputs": [],
   "source": [
    "def format_hhrlhf_to_alpaca(example):\n",
    "    '''\n",
    "    alpaca format : {instruction}, {input}, {output}\n",
    "    hh rlhf format : {chosen}, {rejected}\n",
    "        chosen: \\n\\nHuman: 11\\n\\nAssistant: 22 \\n\\nHuman: 33\\n\\nAssistant: 44\n",
    "    target format is\n",
    "        chosen: \\n###Question: 11\\n###Answer: 22 \\n### Question 33\\n###Answer: 44\n",
    "        -> instruction: 【11\\n###Answer: 22 \\n### Question 33】\n",
    "        -> output: 【 44】\n",
    "    '''\n",
    "    text = example[\"chosen\"]\n",
    "    text = re.sub(r'\\n\\nHuman:', '\\n###Question:', text)\n",
    "    text = re.sub(r'\\n\\nAssistant:', '\\n###Answer:', text)\n",
    "    text = text[1:]\n",
    "\n",
    "    instruction = text.rsplit('\\n###Answer:',1)[0]\n",
    "    instruction = instruction.split('###Question: ',1)[1]\n",
    "    output = text.rsplit('\\n###Answer: ',1)[1]\n",
    "\n",
    "    example['input'] = ''\n",
    "    example['output'] = output\n",
    "    example['instruction'] = instruction\n",
    "\n",
    "    return example"
   ]
  },
  {
   "cell_type": "code",
   "execution_count": 17,
   "id": "17c6bd7c-e7f3-4e8c-ac20-acb6c5768716",
   "metadata": {},
   "outputs": [
    {
     "data": {
      "application/vnd.jupyter.widget-view+json": {
       "model_id": "32e95e686c09487dadf36434fcb2189b",
       "version_major": 2,
       "version_minor": 0
      },
      "text/plain": [
       "Map (num_proc=8):   0%|          | 0/160800 [00:00<?, ? examples/s]"
      ]
     },
     "metadata": {},
     "output_type": "display_data"
    }
   ],
   "source": [
    "dataset_hhrlhf = dataset_hhrlhf.map(format_hhrlhf_to_alpaca, num_proc=8, remove_columns = [\"chosen\", \"rejected\"])"
   ]
  },
  {
   "cell_type": "markdown",
   "id": "d8818c28-7200-479a-b79c-1c8f3d614e38",
   "metadata": {},
   "source": [
    "### Data Concatenation"
   ]
  },
  {
   "cell_type": "code",
   "execution_count": 18,
   "id": "49b63644-4dc6-4def-b60c-52000b8e93f4",
   "metadata": {},
   "outputs": [],
   "source": [
    "dataset = concatenate_datasets([dataset['train'], dataset_hhrlhf, dataset_chat])\n",
    "dataset = DatasetDict({'train': dataset})\n",
    "dataset = dataset.shuffle(seed=42)"
   ]
  },
  {
   "cell_type": "code",
   "execution_count": 19,
   "id": "82b140f6-630b-4ec0-b429-96f797cfa7e2",
   "metadata": {},
   "outputs": [
    {
     "name": "stdout",
     "output_type": "stream",
     "text": [
      "DatasetDict({\n",
      "    train: Dataset({\n",
      "        features: ['instruction', 'input', 'output'],\n",
      "        num_rows: 232160\n",
      "    })\n",
      "})\n"
     ]
    }
   ],
   "source": [
    "print(dataset)"
   ]
  },
  {
   "cell_type": "code",
   "execution_count": null,
   "id": "8d9d17a4-7811-46db-9d8e-1d70ee344ecf",
   "metadata": {},
   "outputs": [],
   "source": []
  }
 ],
 "metadata": {
  "kernelspec": {
   "display_name": "Python 3",
   "language": "python",
   "name": "python3"
  },
  "language_info": {
   "codemirror_mode": {
    "name": "ipython",
    "version": 3
   },
   "file_extension": ".py",
   "mimetype": "text/x-python",
   "name": "python",
   "nbconvert_exporter": "python",
   "pygments_lexer": "ipython3",
   "version": "3.8.8"
  }
 },
 "nbformat": 4,
 "nbformat_minor": 5
}
