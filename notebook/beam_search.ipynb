{
 "cells": [
  {
   "cell_type": "markdown",
   "id": "d3a8821e-fad7-47c8-aefc-f9caf2677c3b",
   "metadata": {},
   "source": [
    "# Beam Search Pytorch"
   ]
  },
  {
   "cell_type": "markdown",
   "id": "445e9406-60d5-43de-9bd4-062b9cf49d5a",
   "metadata": {},
   "source": [
    "Beam search作为最基础的搜索解码算法，我们关注其实现细节。\n",
    "\n",
    "给定束beam_size=2情况，那么在t=1时刻，会解码出beam_size=2条路径\n",
    "\n",
    "在t=2时刻，2条路径各自有beam_size个候选token，那么就会产生2x2条路径，那么我们可以依照路径的概率和来选择beam条路径"
   ]
  },
  {
   "cell_type": "markdown",
   "id": "756ec157-353c-40c4-a2f7-1f938562dab4",
   "metadata": {},
   "source": [
    "![](./image/beam-search.png)"
   ]
  },
  {
   "cell_type": "code",
   "execution_count": 2,
   "id": "3761ce5b-db21-4d6c-b350-a52f9531956c",
   "metadata": {},
   "outputs": [
    {
     "data": {
      "text/html": [
       "<pre style=\"white-space:pre;overflow-x:auto;line-height:normal;font-family:Menlo,'DejaVu Sans Mono',consolas,'Courier New',monospace\"><span style=\"color: #800080; text-decoration-color: #800080; font-weight: bold\">tensor</span><span style=\"font-weight: bold\">([[</span><span style=\"color: #008080; text-decoration-color: #008080; font-weight: bold\">7454</span>, <span style=\"color: #008080; text-decoration-color: #008080; font-weight: bold\">2402</span>,  <span style=\"color: #008080; text-decoration-color: #008080; font-weight: bold\">257</span>,  <span style=\"color: #008080; text-decoration-color: #008080; font-weight: bold\">640</span><span style=\"font-weight: bold\">]])</span>\n",
       "</pre>\n"
      ],
      "text/plain": [
       "\u001b[1;35mtensor\u001b[0m\u001b[1m(\u001b[0m\u001b[1m[\u001b[0m\u001b[1m[\u001b[0m\u001b[1;36m7454\u001b[0m, \u001b[1;36m2402\u001b[0m,  \u001b[1;36m257\u001b[0m,  \u001b[1;36m640\u001b[0m\u001b[1m]\u001b[0m\u001b[1m]\u001b[0m\u001b[1m)\u001b[0m\n"
      ]
     },
     "metadata": {},
     "output_type": "display_data"
    }
   ],
   "source": [
    "import torch\n",
    "import torch.nn.functional as F\n",
    "from transformers import GPT2LMHeadModel, GPT2Tokenizer\n",
    "\n",
    "model_name = \"gpt2\"\n",
    "model = GPT2LMHeadModel.from_pretrained(model_name)\n",
    "tokenizer = GPT2Tokenizer.from_pretrained(model_name, clean_up_tokenization_spaces=True)\n",
    "\n",
    "text = \"Once upon a time\"\n",
    "input_ids = tokenizer.encode(text, return_tensors=\"pt\")\n",
    "print(input_ids)"
   ]
  },
  {
   "cell_type": "code",
   "execution_count": 3,
   "id": "9337f305-294e-438b-a60c-3b6814677e89",
   "metadata": {},
   "outputs": [
    {
     "data": {
      "text/html": [
       "<pre style=\"white-space:pre;overflow-x:auto;line-height:normal;font-family:Menlo,'DejaVu Sans Mono',consolas,'Courier New',monospace\"><span style=\"font-weight: bold\">[(</span><span style=\"color: #800080; text-decoration-color: #800080; font-weight: bold\">tensor</span><span style=\"font-weight: bold\">([[</span><span style=\"color: #008080; text-decoration-color: #008080; font-weight: bold\">7454</span>, <span style=\"color: #008080; text-decoration-color: #008080; font-weight: bold\">2402</span>,  <span style=\"color: #008080; text-decoration-color: #008080; font-weight: bold\">257</span>,  <span style=\"color: #008080; text-decoration-color: #008080; font-weight: bold\">640</span><span style=\"font-weight: bold\">]])</span>, <span style=\"color: #008080; text-decoration-color: #008080; font-weight: bold\">0.0</span><span style=\"font-weight: bold\">)]</span>\n",
       "</pre>\n"
      ],
      "text/plain": [
       "\u001b[1m[\u001b[0m\u001b[1m(\u001b[0m\u001b[1;35mtensor\u001b[0m\u001b[1m(\u001b[0m\u001b[1m[\u001b[0m\u001b[1m[\u001b[0m\u001b[1;36m7454\u001b[0m, \u001b[1;36m2402\u001b[0m,  \u001b[1;36m257\u001b[0m,  \u001b[1;36m640\u001b[0m\u001b[1m]\u001b[0m\u001b[1m]\u001b[0m\u001b[1m)\u001b[0m, \u001b[1;36m0.0\u001b[0m\u001b[1m)\u001b[0m\u001b[1m]\u001b[0m\n"
      ]
     },
     "metadata": {},
     "output_type": "display_data"
    },
    {
     "data": {
      "text/html": [
       "<pre style=\"white-space:pre;overflow-x:auto;line-height:normal;font-family:Menlo,'DejaVu Sans Mono',consolas,'Courier New',monospace\"><span style=\"color: #008080; text-decoration-color: #008080; font-weight: bold\">3</span>\n",
       "</pre>\n"
      ],
      "text/plain": [
       "\u001b[1;36m3\u001b[0m\n"
      ]
     },
     "metadata": {},
     "output_type": "display_data"
    },
    {
     "data": {
      "text/html": [
       "<pre style=\"white-space:pre;overflow-x:auto;line-height:normal;font-family:Menlo,'DejaVu Sans Mono',consolas,'Courier New',monospace\"><span style=\"color: #008080; text-decoration-color: #008080; font-weight: bold\">3</span>\n",
       "</pre>\n"
      ],
      "text/plain": [
       "\u001b[1;36m3\u001b[0m\n"
      ]
     },
     "metadata": {},
     "output_type": "display_data"
    },
    {
     "data": {
      "text/html": [
       "<pre style=\"white-space:pre;overflow-x:auto;line-height:normal;font-family:Menlo,'DejaVu Sans Mono',consolas,'Courier New',monospace\"><span style=\"font-weight: bold\">[</span>\n",
       "    <span style=\"font-weight: bold\">(</span><span style=\"color: #800080; text-decoration-color: #800080; font-weight: bold\">tensor</span><span style=\"font-weight: bold\">([[</span><span style=\"color: #008080; text-decoration-color: #008080; font-weight: bold\">7454</span>, <span style=\"color: #008080; text-decoration-color: #008080; font-weight: bold\">2402</span>,  <span style=\"color: #008080; text-decoration-color: #008080; font-weight: bold\">257</span>,  <span style=\"color: #008080; text-decoration-color: #008080; font-weight: bold\">640</span>,   <span style=\"color: #008080; text-decoration-color: #008080; font-weight: bold\">11</span><span style=\"font-weight: bold\">]])</span>, <span style=\"color: #008080; text-decoration-color: #008080; font-weight: bold\">-0.8511835932731628</span><span style=\"font-weight: bold\">)</span>,\n",
       "    <span style=\"font-weight: bold\">(</span><span style=\"color: #800080; text-decoration-color: #800080; font-weight: bold\">tensor</span><span style=\"font-weight: bold\">([[</span><span style=\"color: #008080; text-decoration-color: #008080; font-weight: bold\">7454</span>, <span style=\"color: #008080; text-decoration-color: #008080; font-weight: bold\">2402</span>,  <span style=\"color: #008080; text-decoration-color: #008080; font-weight: bold\">257</span>,  <span style=\"color: #008080; text-decoration-color: #008080; font-weight: bold\">640</span>,  <span style=\"color: #008080; text-decoration-color: #008080; font-weight: bold\">262</span><span style=\"font-weight: bold\">]])</span>, <span style=\"color: #008080; text-decoration-color: #008080; font-weight: bold\">-2.739619016647339</span><span style=\"font-weight: bold\">)</span>,\n",
       "    <span style=\"font-weight: bold\">(</span><span style=\"color: #800080; text-decoration-color: #800080; font-weight: bold\">tensor</span><span style=\"font-weight: bold\">([[</span><span style=\"color: #008080; text-decoration-color: #008080; font-weight: bold\">7454</span>, <span style=\"color: #008080; text-decoration-color: #008080; font-weight: bold\">2402</span>,  <span style=\"color: #008080; text-decoration-color: #008080; font-weight: bold\">257</span>,  <span style=\"color: #008080; text-decoration-color: #008080; font-weight: bold\">640</span>,  <span style=\"color: #008080; text-decoration-color: #008080; font-weight: bold\">314</span><span style=\"font-weight: bold\">]])</span>, <span style=\"color: #008080; text-decoration-color: #008080; font-weight: bold\">-3.2028720378875732</span><span style=\"font-weight: bold\">)</span>\n",
       "<span style=\"font-weight: bold\">]</span>\n",
       "</pre>\n"
      ],
      "text/plain": [
       "\u001b[1m[\u001b[0m\n",
       "    \u001b[1m(\u001b[0m\u001b[1;35mtensor\u001b[0m\u001b[1m(\u001b[0m\u001b[1m[\u001b[0m\u001b[1m[\u001b[0m\u001b[1;36m7454\u001b[0m, \u001b[1;36m2402\u001b[0m,  \u001b[1;36m257\u001b[0m,  \u001b[1;36m640\u001b[0m,   \u001b[1;36m11\u001b[0m\u001b[1m]\u001b[0m\u001b[1m]\u001b[0m\u001b[1m)\u001b[0m, \u001b[1;36m-0.8511835932731628\u001b[0m\u001b[1m)\u001b[0m,\n",
       "    \u001b[1m(\u001b[0m\u001b[1;35mtensor\u001b[0m\u001b[1m(\u001b[0m\u001b[1m[\u001b[0m\u001b[1m[\u001b[0m\u001b[1;36m7454\u001b[0m, \u001b[1;36m2402\u001b[0m,  \u001b[1;36m257\u001b[0m,  \u001b[1;36m640\u001b[0m,  \u001b[1;36m262\u001b[0m\u001b[1m]\u001b[0m\u001b[1m]\u001b[0m\u001b[1m)\u001b[0m, \u001b[1;36m-2.739619016647339\u001b[0m\u001b[1m)\u001b[0m,\n",
       "    \u001b[1m(\u001b[0m\u001b[1;35mtensor\u001b[0m\u001b[1m(\u001b[0m\u001b[1m[\u001b[0m\u001b[1m[\u001b[0m\u001b[1;36m7454\u001b[0m, \u001b[1;36m2402\u001b[0m,  \u001b[1;36m257\u001b[0m,  \u001b[1;36m640\u001b[0m,  \u001b[1;36m314\u001b[0m\u001b[1m]\u001b[0m\u001b[1m]\u001b[0m\u001b[1m)\u001b[0m, \u001b[1;36m-3.2028720378875732\u001b[0m\u001b[1m)\u001b[0m\n",
       "\u001b[1m]\u001b[0m\n"
      ]
     },
     "metadata": {},
     "output_type": "display_data"
    },
    {
     "data": {
      "text/html": [
       "<pre style=\"white-space:pre;overflow-x:auto;line-height:normal;font-family:Menlo,'DejaVu Sans Mono',consolas,'Courier New',monospace\"><span style=\"color: #008080; text-decoration-color: #008080; font-weight: bold\">9</span>\n",
       "</pre>\n"
      ],
      "text/plain": [
       "\u001b[1;36m9\u001b[0m\n"
      ]
     },
     "metadata": {},
     "output_type": "display_data"
    },
    {
     "data": {
      "text/html": [
       "<pre style=\"white-space:pre;overflow-x:auto;line-height:normal;font-family:Menlo,'DejaVu Sans Mono',consolas,'Courier New',monospace\"><span style=\"color: #008080; text-decoration-color: #008080; font-weight: bold\">3</span>\n",
       "</pre>\n"
      ],
      "text/plain": [
       "\u001b[1;36m3\u001b[0m\n"
      ]
     },
     "metadata": {},
     "output_type": "display_data"
    },
    {
     "data": {
      "text/html": [
       "<pre style=\"white-space:pre;overflow-x:auto;line-height:normal;font-family:Menlo,'DejaVu Sans Mono',consolas,'Courier New',monospace\"><span style=\"font-weight: bold\">[</span>\n",
       "    <span style=\"font-weight: bold\">(</span><span style=\"color: #800080; text-decoration-color: #800080; font-weight: bold\">tensor</span><span style=\"font-weight: bold\">([[</span><span style=\"color: #008080; text-decoration-color: #008080; font-weight: bold\">7454</span>, <span style=\"color: #008080; text-decoration-color: #008080; font-weight: bold\">2402</span>,  <span style=\"color: #008080; text-decoration-color: #008080; font-weight: bold\">257</span>,  <span style=\"color: #008080; text-decoration-color: #008080; font-weight: bold\">640</span>,   <span style=\"color: #008080; text-decoration-color: #008080; font-weight: bold\">11</span>,  <span style=\"color: #008080; text-decoration-color: #008080; font-weight: bold\">262</span><span style=\"font-weight: bold\">]])</span>, <span style=\"color: #008080; text-decoration-color: #008080; font-weight: bold\">-3.052369773387909</span><span style=\"font-weight: bold\">)</span>,\n",
       "    <span style=\"font-weight: bold\">(</span><span style=\"color: #800080; text-decoration-color: #800080; font-weight: bold\">tensor</span><span style=\"font-weight: bold\">([[</span><span style=\"color: #008080; text-decoration-color: #008080; font-weight: bold\">7454</span>, <span style=\"color: #008080; text-decoration-color: #008080; font-weight: bold\">2402</span>,  <span style=\"color: #008080; text-decoration-color: #008080; font-weight: bold\">257</span>,  <span style=\"color: #008080; text-decoration-color: #008080; font-weight: bold\">640</span>,   <span style=\"color: #008080; text-decoration-color: #008080; font-weight: bold\">11</span>,  <span style=\"color: #008080; text-decoration-color: #008080; font-weight: bold\">314</span><span style=\"font-weight: bold\">]])</span>, <span style=\"color: #008080; text-decoration-color: #008080; font-weight: bold\">-3.605561912059784</span><span style=\"font-weight: bold\">)</span>,\n",
       "    <span style=\"font-weight: bold\">(</span><span style=\"color: #800080; text-decoration-color: #800080; font-weight: bold\">tensor</span><span style=\"font-weight: bold\">([[</span><span style=\"color: #008080; text-decoration-color: #008080; font-weight: bold\">7454</span>, <span style=\"color: #008080; text-decoration-color: #008080; font-weight: bold\">2402</span>,  <span style=\"color: #008080; text-decoration-color: #008080; font-weight: bold\">257</span>,  <span style=\"color: #008080; text-decoration-color: #008080; font-weight: bold\">640</span>,   <span style=\"color: #008080; text-decoration-color: #008080; font-weight: bold\">11</span>,  <span style=\"color: #008080; text-decoration-color: #008080; font-weight: bold\">340</span><span style=\"font-weight: bold\">]])</span>, <span style=\"color: #008080; text-decoration-color: #008080; font-weight: bold\">-4.071794211864471</span><span style=\"font-weight: bold\">)</span>\n",
       "<span style=\"font-weight: bold\">]</span>\n",
       "</pre>\n"
      ],
      "text/plain": [
       "\u001b[1m[\u001b[0m\n",
       "    \u001b[1m(\u001b[0m\u001b[1;35mtensor\u001b[0m\u001b[1m(\u001b[0m\u001b[1m[\u001b[0m\u001b[1m[\u001b[0m\u001b[1;36m7454\u001b[0m, \u001b[1;36m2402\u001b[0m,  \u001b[1;36m257\u001b[0m,  \u001b[1;36m640\u001b[0m,   \u001b[1;36m11\u001b[0m,  \u001b[1;36m262\u001b[0m\u001b[1m]\u001b[0m\u001b[1m]\u001b[0m\u001b[1m)\u001b[0m, \u001b[1;36m-3.052369773387909\u001b[0m\u001b[1m)\u001b[0m,\n",
       "    \u001b[1m(\u001b[0m\u001b[1;35mtensor\u001b[0m\u001b[1m(\u001b[0m\u001b[1m[\u001b[0m\u001b[1m[\u001b[0m\u001b[1;36m7454\u001b[0m, \u001b[1;36m2402\u001b[0m,  \u001b[1;36m257\u001b[0m,  \u001b[1;36m640\u001b[0m,   \u001b[1;36m11\u001b[0m,  \u001b[1;36m314\u001b[0m\u001b[1m]\u001b[0m\u001b[1m]\u001b[0m\u001b[1m)\u001b[0m, \u001b[1;36m-3.605561912059784\u001b[0m\u001b[1m)\u001b[0m,\n",
       "    \u001b[1m(\u001b[0m\u001b[1;35mtensor\u001b[0m\u001b[1m(\u001b[0m\u001b[1m[\u001b[0m\u001b[1m[\u001b[0m\u001b[1;36m7454\u001b[0m, \u001b[1;36m2402\u001b[0m,  \u001b[1;36m257\u001b[0m,  \u001b[1;36m640\u001b[0m,   \u001b[1;36m11\u001b[0m,  \u001b[1;36m340\u001b[0m\u001b[1m]\u001b[0m\u001b[1m]\u001b[0m\u001b[1m)\u001b[0m, \u001b[1;36m-4.071794211864471\u001b[0m\u001b[1m)\u001b[0m\n",
       "\u001b[1m]\u001b[0m\n"
      ]
     },
     "metadata": {},
     "output_type": "display_data"
    },
    {
     "data": {
      "text/html": [
       "<pre style=\"white-space:pre;overflow-x:auto;line-height:normal;font-family:Menlo,'DejaVu Sans Mono',consolas,'Courier New',monospace\"><span style=\"color: #008080; text-decoration-color: #008080; font-weight: bold\">9</span>\n",
       "</pre>\n"
      ],
      "text/plain": [
       "\u001b[1;36m9\u001b[0m\n"
      ]
     },
     "metadata": {},
     "output_type": "display_data"
    },
    {
     "data": {
      "text/html": [
       "<pre style=\"white-space:pre;overflow-x:auto;line-height:normal;font-family:Menlo,'DejaVu Sans Mono',consolas,'Courier New',monospace\"><span style=\"color: #008080; text-decoration-color: #008080; font-weight: bold\">3</span>\n",
       "</pre>\n"
      ],
      "text/plain": [
       "\u001b[1;36m3\u001b[0m\n"
      ]
     },
     "metadata": {},
     "output_type": "display_data"
    },
    {
     "data": {
      "text/html": [
       "<pre style=\"white-space:pre;overflow-x:auto;line-height:normal;font-family:Menlo,'DejaVu Sans Mono',consolas,'Courier New',monospace\"><span style=\"font-weight: bold\">[</span>\n",
       "    <span style=\"font-weight: bold\">(</span><span style=\"color: #800080; text-decoration-color: #800080; font-weight: bold\">tensor</span><span style=\"font-weight: bold\">([[</span><span style=\"color: #008080; text-decoration-color: #008080; font-weight: bold\">7454</span>, <span style=\"color: #008080; text-decoration-color: #008080; font-weight: bold\">2402</span>,  <span style=\"color: #008080; text-decoration-color: #008080; font-weight: bold\">257</span>,  <span style=\"color: #008080; text-decoration-color: #008080; font-weight: bold\">640</span>,   <span style=\"color: #008080; text-decoration-color: #008080; font-weight: bold\">11</span>,  <span style=\"color: #008080; text-decoration-color: #008080; font-weight: bold\">340</span>,  <span style=\"color: #008080; text-decoration-color: #008080; font-weight: bold\">373</span><span style=\"font-weight: bold\">]])</span>, <span style=\"color: #008080; text-decoration-color: #008080; font-weight: bold\">-5.191973507404327</span><span style=\"font-weight: bold\">)</span>,\n",
       "    <span style=\"font-weight: bold\">(</span><span style=\"color: #800080; text-decoration-color: #800080; font-weight: bold\">tensor</span><span style=\"font-weight: bold\">([[</span><span style=\"color: #008080; text-decoration-color: #008080; font-weight: bold\">7454</span>, <span style=\"color: #008080; text-decoration-color: #008080; font-weight: bold\">2402</span>,  <span style=\"color: #008080; text-decoration-color: #008080; font-weight: bold\">257</span>,  <span style=\"color: #008080; text-decoration-color: #008080; font-weight: bold\">640</span>,   <span style=\"color: #008080; text-decoration-color: #008080; font-weight: bold\">11</span>,  <span style=\"color: #008080; text-decoration-color: #008080; font-weight: bold\">314</span>,  <span style=\"color: #008080; text-decoration-color: #008080; font-weight: bold\">373</span><span style=\"font-weight: bold\">]])</span>, <span style=\"color: #008080; text-decoration-color: #008080; font-weight: bold\">-5.565997660160065</span><span style=\"font-weight: bold\">)</span>,\n",
       "    <span style=\"font-weight: bold\">(</span><span style=\"color: #800080; text-decoration-color: #800080; font-weight: bold\">tensor</span><span style=\"font-weight: bold\">([[</span><span style=\"color: #008080; text-decoration-color: #008080; font-weight: bold\">7454</span>, <span style=\"color: #008080; text-decoration-color: #008080; font-weight: bold\">2402</span>,  <span style=\"color: #008080; text-decoration-color: #008080; font-weight: bold\">257</span>,  <span style=\"color: #008080; text-decoration-color: #008080; font-weight: bold\">640</span>,   <span style=\"color: #008080; text-decoration-color: #008080; font-weight: bold\">11</span>,  <span style=\"color: #008080; text-decoration-color: #008080; font-weight: bold\">314</span>,  <span style=\"color: #008080; text-decoration-color: #008080; font-weight: bold\">550</span><span style=\"font-weight: bold\">]])</span>, <span style=\"color: #008080; text-decoration-color: #008080; font-weight: bold\">-6.277988135814667</span><span style=\"font-weight: bold\">)</span>\n",
       "<span style=\"font-weight: bold\">]</span>\n",
       "</pre>\n"
      ],
      "text/plain": [
       "\u001b[1m[\u001b[0m\n",
       "    \u001b[1m(\u001b[0m\u001b[1;35mtensor\u001b[0m\u001b[1m(\u001b[0m\u001b[1m[\u001b[0m\u001b[1m[\u001b[0m\u001b[1;36m7454\u001b[0m, \u001b[1;36m2402\u001b[0m,  \u001b[1;36m257\u001b[0m,  \u001b[1;36m640\u001b[0m,   \u001b[1;36m11\u001b[0m,  \u001b[1;36m340\u001b[0m,  \u001b[1;36m373\u001b[0m\u001b[1m]\u001b[0m\u001b[1m]\u001b[0m\u001b[1m)\u001b[0m, \u001b[1;36m-5.191973507404327\u001b[0m\u001b[1m)\u001b[0m,\n",
       "    \u001b[1m(\u001b[0m\u001b[1;35mtensor\u001b[0m\u001b[1m(\u001b[0m\u001b[1m[\u001b[0m\u001b[1m[\u001b[0m\u001b[1;36m7454\u001b[0m, \u001b[1;36m2402\u001b[0m,  \u001b[1;36m257\u001b[0m,  \u001b[1;36m640\u001b[0m,   \u001b[1;36m11\u001b[0m,  \u001b[1;36m314\u001b[0m,  \u001b[1;36m373\u001b[0m\u001b[1m]\u001b[0m\u001b[1m]\u001b[0m\u001b[1m)\u001b[0m, \u001b[1;36m-5.565997660160065\u001b[0m\u001b[1m)\u001b[0m,\n",
       "    \u001b[1m(\u001b[0m\u001b[1;35mtensor\u001b[0m\u001b[1m(\u001b[0m\u001b[1m[\u001b[0m\u001b[1m[\u001b[0m\u001b[1;36m7454\u001b[0m, \u001b[1;36m2402\u001b[0m,  \u001b[1;36m257\u001b[0m,  \u001b[1;36m640\u001b[0m,   \u001b[1;36m11\u001b[0m,  \u001b[1;36m314\u001b[0m,  \u001b[1;36m550\u001b[0m\u001b[1m]\u001b[0m\u001b[1m]\u001b[0m\u001b[1m)\u001b[0m, \u001b[1;36m-6.277988135814667\u001b[0m\u001b[1m)\u001b[0m\n",
       "\u001b[1m]\u001b[0m\n"
      ]
     },
     "metadata": {},
     "output_type": "display_data"
    },
    {
     "data": {
      "text/html": [
       "<pre style=\"white-space:pre;overflow-x:auto;line-height:normal;font-family:Menlo,'DejaVu Sans Mono',consolas,'Courier New',monospace\"><span style=\"color: #008080; text-decoration-color: #008080; font-weight: bold\">9</span>\n",
       "</pre>\n"
      ],
      "text/plain": [
       "\u001b[1;36m9\u001b[0m\n"
      ]
     },
     "metadata": {},
     "output_type": "display_data"
    },
    {
     "data": {
      "text/html": [
       "<pre style=\"white-space:pre;overflow-x:auto;line-height:normal;font-family:Menlo,'DejaVu Sans Mono',consolas,'Courier New',monospace\"><span style=\"color: #008080; text-decoration-color: #008080; font-weight: bold\">3</span>\n",
       "</pre>\n"
      ],
      "text/plain": [
       "\u001b[1;36m3\u001b[0m\n"
      ]
     },
     "metadata": {},
     "output_type": "display_data"
    },
    {
     "data": {
      "text/html": [
       "<pre style=\"white-space:pre;overflow-x:auto;line-height:normal;font-family:Menlo,'DejaVu Sans Mono',consolas,'Courier New',monospace\"><span style=\"font-weight: bold\">[</span>\n",
       "    <span style=\"font-weight: bold\">(</span><span style=\"color: #800080; text-decoration-color: #800080; font-weight: bold\">tensor</span><span style=\"font-weight: bold\">([[</span><span style=\"color: #008080; text-decoration-color: #008080; font-weight: bold\">7454</span>, <span style=\"color: #008080; text-decoration-color: #008080; font-weight: bold\">2402</span>,  <span style=\"color: #008080; text-decoration-color: #008080; font-weight: bold\">257</span>,  <span style=\"color: #008080; text-decoration-color: #008080; font-weight: bold\">640</span>,   <span style=\"color: #008080; text-decoration-color: #008080; font-weight: bold\">11</span>,  <span style=\"color: #008080; text-decoration-color: #008080; font-weight: bold\">340</span>,  <span style=\"color: #008080; text-decoration-color: #008080; font-weight: bold\">373</span>,  <span style=\"color: #008080; text-decoration-color: #008080; font-weight: bold\">257</span><span style=\"font-weight: bold\">]])</span>, <span style=\"color: #008080; text-decoration-color: #008080; font-weight: bold\">-8.047162353992462</span><span style=\"font-weight: bold\">)</span>,\n",
       "    <span style=\"font-weight: bold\">(</span><span style=\"color: #800080; text-decoration-color: #800080; font-weight: bold\">tensor</span><span style=\"font-weight: bold\">([[</span><span style=\"color: #008080; text-decoration-color: #008080; font-weight: bold\">7454</span>, <span style=\"color: #008080; text-decoration-color: #008080; font-weight: bold\">2402</span>,  <span style=\"color: #008080; text-decoration-color: #008080; font-weight: bold\">257</span>,  <span style=\"color: #008080; text-decoration-color: #008080; font-weight: bold\">640</span>,   <span style=\"color: #008080; text-decoration-color: #008080; font-weight: bold\">11</span>,  <span style=\"color: #008080; text-decoration-color: #008080; font-weight: bold\">340</span>,  <span style=\"color: #008080; text-decoration-color: #008080; font-weight: bold\">373</span>,  <span style=\"color: #008080; text-decoration-color: #008080; font-weight: bold\">262</span><span style=\"font-weight: bold\">]])</span>, <span style=\"color: #008080; text-decoration-color: #008080; font-weight: bold\">-8.205495178699493</span><span style=\"font-weight: bold\">)</span>,\n",
       "    <span style=\"font-weight: bold\">(</span><span style=\"color: #800080; text-decoration-color: #800080; font-weight: bold\">tensor</span><span style=\"font-weight: bold\">([[</span><span style=\"color: #008080; text-decoration-color: #008080; font-weight: bold\">7454</span>, <span style=\"color: #008080; text-decoration-color: #008080; font-weight: bold\">2402</span>,  <span style=\"color: #008080; text-decoration-color: #008080; font-weight: bold\">257</span>,  <span style=\"color: #008080; text-decoration-color: #008080; font-weight: bold\">640</span>,   <span style=\"color: #008080; text-decoration-color: #008080; font-weight: bold\">11</span>,  <span style=\"color: #008080; text-decoration-color: #008080; font-weight: bold\">340</span>,  <span style=\"color: #008080; text-decoration-color: #008080; font-weight: bold\">373</span>,  <span style=\"color: #008080; text-decoration-color: #008080; font-weight: bold\">531</span><span style=\"font-weight: bold\">]])</span>, <span style=\"color: #008080; text-decoration-color: #008080; font-weight: bold\">-8.311688721179962</span><span style=\"font-weight: bold\">)</span>\n",
       "<span style=\"font-weight: bold\">]</span>\n",
       "</pre>\n"
      ],
      "text/plain": [
       "\u001b[1m[\u001b[0m\n",
       "    \u001b[1m(\u001b[0m\u001b[1;35mtensor\u001b[0m\u001b[1m(\u001b[0m\u001b[1m[\u001b[0m\u001b[1m[\u001b[0m\u001b[1;36m7454\u001b[0m, \u001b[1;36m2402\u001b[0m,  \u001b[1;36m257\u001b[0m,  \u001b[1;36m640\u001b[0m,   \u001b[1;36m11\u001b[0m,  \u001b[1;36m340\u001b[0m,  \u001b[1;36m373\u001b[0m,  \u001b[1;36m257\u001b[0m\u001b[1m]\u001b[0m\u001b[1m]\u001b[0m\u001b[1m)\u001b[0m, \u001b[1;36m-8.047162353992462\u001b[0m\u001b[1m)\u001b[0m,\n",
       "    \u001b[1m(\u001b[0m\u001b[1;35mtensor\u001b[0m\u001b[1m(\u001b[0m\u001b[1m[\u001b[0m\u001b[1m[\u001b[0m\u001b[1;36m7454\u001b[0m, \u001b[1;36m2402\u001b[0m,  \u001b[1;36m257\u001b[0m,  \u001b[1;36m640\u001b[0m,   \u001b[1;36m11\u001b[0m,  \u001b[1;36m340\u001b[0m,  \u001b[1;36m373\u001b[0m,  \u001b[1;36m262\u001b[0m\u001b[1m]\u001b[0m\u001b[1m]\u001b[0m\u001b[1m)\u001b[0m, \u001b[1;36m-8.205495178699493\u001b[0m\u001b[1m)\u001b[0m,\n",
       "    \u001b[1m(\u001b[0m\u001b[1;35mtensor\u001b[0m\u001b[1m(\u001b[0m\u001b[1m[\u001b[0m\u001b[1m[\u001b[0m\u001b[1;36m7454\u001b[0m, \u001b[1;36m2402\u001b[0m,  \u001b[1;36m257\u001b[0m,  \u001b[1;36m640\u001b[0m,   \u001b[1;36m11\u001b[0m,  \u001b[1;36m340\u001b[0m,  \u001b[1;36m373\u001b[0m,  \u001b[1;36m531\u001b[0m\u001b[1m]\u001b[0m\u001b[1m]\u001b[0m\u001b[1m)\u001b[0m, \u001b[1;36m-8.311688721179962\u001b[0m\u001b[1m)\u001b[0m\n",
       "\u001b[1m]\u001b[0m\n"
      ]
     },
     "metadata": {},
     "output_type": "display_data"
    },
    {
     "data": {
      "text/html": [
       "<pre style=\"white-space:pre;overflow-x:auto;line-height:normal;font-family:Menlo,'DejaVu Sans Mono',consolas,'Courier New',monospace\"><span style=\"color: #008080; text-decoration-color: #008080; font-weight: bold\">3</span>\n",
       "</pre>\n"
      ],
      "text/plain": [
       "\u001b[1;36m3\u001b[0m\n"
      ]
     },
     "metadata": {},
     "output_type": "display_data"
    }
   ],
   "source": [
    "max_length = 4\n",
    "beam_width = 3\n",
    "\n",
    "# 初始化beam\n",
    "beams = [(input_ids, 0.0)]\n",
    "print(beams)\n",
    "completed_beams = []\n",
    "\n",
    "for _ in range(max_length):\n",
    "    new_beams = []\n",
    "\n",
    "    for beam_input_ids, beam_score in beams:\n",
    "        # 如果遇到了结束标记，将该beam加入到已完成列表中\n",
    "        if beam_input_ids[0, -1].item() == tokenizer.eos_token_id:\n",
    "            completed_beams.append((beam_input_ids, beam_score))\n",
    "            continue\n",
    "\n",
    "        # 不直接预测next token\n",
    "        # 而是拿出logits里找到beam个候选的next token\n",
    "        with torch.no_grad():\n",
    "            outputs = model(beam_input_ids)\n",
    "            next_token_logits = outputs.logits[:, -1, :]\n",
    "        next_token_scores = F.log_softmax(next_token_logits, dim=-1)\n",
    "        top_k_scores, top_k_tokens = torch.topk(next_token_scores, \n",
    "                                                beam_width, dim=-1)\n",
    "\n",
    "        # 在每个候选的token里都统计路径分数\n",
    "        for i in range(beam_width):\n",
    "            next_token = top_k_tokens[0, i].unsqueeze(0).unsqueeze(0)\n",
    "            next_score = top_k_scores[0, i].item()\n",
    "            new_input_ids = torch.cat([beam_input_ids, next_token], dim=-1)\n",
    "            new_score = beam_score + next_score\n",
    "            new_beams.append((new_input_ids, new_score))\n",
    "\n",
    "    # 注意到beam search候选路径会有 beam_size^2条，请思考为什么？\n",
    "    print(len(new_beams))\n",
    "\n",
    "    # 选择得分最高的beam_width个beam\n",
    "    beams = sorted(new_beams, key=lambda x: x[1], reverse=True)[:beam_width]\n",
    "    print(len(beams))\n",
    "    print(beams)\n",
    "\n",
    "    # 如果所有beam都已完成，则停止生成\n",
    "    if len(completed_beams) == beam_width:\n",
    "        break\n",
    "        \n",
    "# 如果还有未完成的beam，将它们加入到已完成列表中。\n",
    "# beam_size*2 >= 实际路径 >= beam_size\n",
    "# 有额外的beam产生的原因是？\n",
    "# 在beam search解码过程中，有路径遇到eos token终止搜索，但是beam_size仍不会变化\n",
    "completed_beams.extend(beams)\n",
    "print(len(completed_beams))"
   ]
  },
  {
   "cell_type": "code",
   "execution_count": 4,
   "id": "f67ad7bc-59ab-4ec5-aa4a-a79f5778fe53",
   "metadata": {},
   "outputs": [
    {
     "data": {
      "text/html": [
       "<pre style=\"white-space:pre;overflow-x:auto;line-height:normal;font-family:Menlo,'DejaVu Sans Mono',consolas,'Courier New',monospace\">Once upon a time, it was a\n",
       "</pre>\n"
      ],
      "text/plain": [
       "Once upon a time, it was a\n"
      ]
     },
     "metadata": {},
     "output_type": "display_data"
    },
    {
     "data": {
      "text/html": [
       "<pre style=\"white-space:pre;overflow-x:auto;line-height:normal;font-family:Menlo,'DejaVu Sans Mono',consolas,'Courier New',monospace\">Once upon a time, it was the\n",
       "</pre>\n"
      ],
      "text/plain": [
       "Once upon a time, it was the\n"
      ]
     },
     "metadata": {},
     "output_type": "display_data"
    },
    {
     "data": {
      "text/html": [
       "<pre style=\"white-space:pre;overflow-x:auto;line-height:normal;font-family:Menlo,'DejaVu Sans Mono',consolas,'Courier New',monospace\">Once upon a time, it was said\n",
       "</pre>\n"
      ],
      "text/plain": [
       "Once upon a time, it was said\n"
      ]
     },
     "metadata": {},
     "output_type": "display_data"
    }
   ],
   "source": [
    "for beams in completed_beams:\n",
    "    generated_text = tokenizer.decode(beams[0][0], skip_special_tokens=True)\n",
    "    print(generated_text)"
   ]
  },
  {
   "cell_type": "markdown",
   "id": "f1a0608d-3323-4c80-9253-179266301321",
   "metadata": {},
   "source": [
    "# beam searching路径选择"
   ]
  },
  {
   "cell_type": "code",
   "execution_count": 5,
   "id": "790812c1-b989-404b-9e3b-23ec09526158",
   "metadata": {},
   "outputs": [
    {
     "data": {
      "text/html": [
       "<pre style=\"white-space:pre;overflow-x:auto;line-height:normal;font-family:Menlo,'DejaVu Sans Mono',consolas,'Courier New',monospace\"><span style=\"font-weight: bold\">[[</span><span style=\"color: #008000; text-decoration-color: #008000\">'b'</span>, <span style=\"color: #008080; text-decoration-color: #008080; font-weight: bold\">0.7</span><span style=\"font-weight: bold\">]</span>, <span style=\"font-weight: bold\">[</span><span style=\"color: #008000; text-decoration-color: #008000\">'d'</span>, <span style=\"color: #008080; text-decoration-color: #008080; font-weight: bold\">0.2</span><span style=\"font-weight: bold\">]]</span>\n",
       "</pre>\n"
      ],
      "text/plain": [
       "\u001b[1m[\u001b[0m\u001b[1m[\u001b[0m\u001b[32m'b'\u001b[0m, \u001b[1;36m0.7\u001b[0m\u001b[1m]\u001b[0m, \u001b[1m[\u001b[0m\u001b[32m'd'\u001b[0m, \u001b[1;36m0.2\u001b[0m\u001b[1m]\u001b[0m\u001b[1m]\u001b[0m\n"
      ]
     },
     "metadata": {},
     "output_type": "display_data"
    }
   ],
   "source": [
    "x = [\n",
    "    [\"a\", 0.04],\n",
    "    [\"b\", 0.7],\n",
    "    [\"d\", 0.2],\n",
    "    [\"e\", 0.06],\n",
    "]\n",
    "result = sorted(x, key=lambda x: x[1], reverse=True)[:2]\n",
    "print(result)"
   ]
  },
  {
   "cell_type": "markdown",
   "id": "9a2055a0-a127-4827-90d5-290231fd6b19",
   "metadata": {},
   "source": [
    "# 补充问题思考"
   ]
  },
  {
   "cell_type": "markdown",
   "id": "027970be-30d6-4282-b8af-f3e4b4bff075",
   "metadata": {},
   "source": [
    "Beam Search相较greedy的时间复杂度是多少？\n",
    "\n",
    "Beam Search是全局最优的解码路径吗？\n",
    "\n",
    "Beam Search的候选路径有多少条？\n",
    "\n",
    "Beam Search里如果有路径提前遇见EOS后，后续的解码路径的beam是否会改变？"
   ]
  }
 ],
 "metadata": {
  "kernelspec": {
   "display_name": "Python 3 (ipykernel)",
   "language": "python",
   "name": "python3"
  },
  "language_info": {
   "codemirror_mode": {
    "name": "ipython",
    "version": 3
   },
   "file_extension": ".py",
   "mimetype": "text/x-python",
   "name": "python",
   "nbconvert_exporter": "python",
   "pygments_lexer": "ipython3",
   "version": "3.11.9"
  }
 },
 "nbformat": 4,
 "nbformat_minor": 5
}
