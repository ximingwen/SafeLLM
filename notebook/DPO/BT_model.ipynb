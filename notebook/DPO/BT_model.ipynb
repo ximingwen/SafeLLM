{
 "cells": [
  {
   "cell_type": "markdown",
   "id": "996f0d45-b0a8-4ba6-a616-7072a452e4e8",
   "metadata": {},
   "source": [
    "## 【LLM-DPO】之Bradley-Terry模型"
   ]
  },
  {
   "cell_type": "markdown",
   "id": "d8629b85-8751-434b-bb88-c768b90ed729",
   "metadata": {},
   "source": [
    "在DPO里关于偏好学习的模型中，介绍了前置偏好建模方式Bradley-Terry(BT)\n",
    "\n",
    "在竞技赛中，无法直接获得选手的分值，BT是通过选手之间的比较，来建模出各自的分数\n",
    "\n",
    "本Notebook采用Pytorch实现最大似然估计形式，以及基于logistic回归形式的BT model"
   ]
  },
  {
   "cell_type": "code",
   "execution_count": 1,
   "id": "601622af-6d28-4356-a547-5100b1bc7903",
   "metadata": {},
   "outputs": [],
   "source": [
    "import torch\n",
    "import torch.nn as nn\n",
    "import torch.optim as optim\n",
    "class BTModel(nn.Module):\n",
    "    def __init__(self, N):\n",
    "        super(BTModel, self).__init__()\n",
    "        self.reward = nn.Parameter(torch.ones(N))\n",
    "        self.BCE_loss = nn.BCELoss()\n",
    "        \n",
    "    def forward_exp(self, chosen_id, rejected_id):\n",
    "        reward_chosen = torch.exp(self.reward[chosen_id])\n",
    "        reward_rejected = torch.exp(self.reward[rejected_id])\n",
    "        return reward_chosen / (reward_chosen + reward_rejected)\n",
    "\n",
    "    def forward_sigmoid(self, chosen_id, rejected_id):\n",
    "        reward_chosen = self.reward[chosen_id]\n",
    "        reward_rejected = self.reward[rejected_id]\n",
    "        return torch.sigmoid(reward_chosen - reward_rejected)\n",
    "\n",
    "    # Maximum Likelihood Estimation\n",
    "    def loss_exp(self, pred, label):\n",
    "        return -torch.log(pred) if label == 1 else -torch.log(1 - pred)\n",
    "\n",
    "    # Binary Cross Entropy\n",
    "    def loss_sigmoid(self, pred, label):\n",
    "        epsilon = 1e-7  # 避免log(0)的情况\n",
    "        pred = torch.clamp(pred, epsilon, 1 - epsilon)  # 将预测值限制在(epsilon, 1-epsilon)范围内\n",
    "        loss = -(label * torch.log(pred) + (1 - label) * torch.log(1 - pred))\n",
    "\n",
    "        return  loss"
   ]
  },
  {
   "cell_type": "code",
   "execution_count": 2,
   "id": "ad562eb4-7737-407c-a95b-266d9c682619",
   "metadata": {},
   "outputs": [
    {
     "data": {
      "text/html": [
       "<pre style=\"white-space:pre;overflow-x:auto;line-height:normal;font-family:Menlo,'DejaVu Sans Mono',consolas,'Courier New',monospace\">Parameter containing:\n",
       "<span style=\"color: #800080; text-decoration-color: #800080; font-weight: bold\">tensor</span><span style=\"font-weight: bold\">([</span><span style=\"color: #008080; text-decoration-color: #008080; font-weight: bold\">1</span>., <span style=\"color: #008080; text-decoration-color: #008080; font-weight: bold\">1</span>., <span style=\"color: #008080; text-decoration-color: #008080; font-weight: bold\">1</span>., <span style=\"color: #008080; text-decoration-color: #008080; font-weight: bold\">1</span>.<span style=\"font-weight: bold\">]</span>, <span style=\"color: #808000; text-decoration-color: #808000\">requires_grad</span>=<span style=\"color: #00ff00; text-decoration-color: #00ff00; font-style: italic\">True</span><span style=\"font-weight: bold\">)</span>\n",
       "</pre>\n"
      ],
      "text/plain": [
       "Parameter containing:\n",
       "\u001b[1;35mtensor\u001b[0m\u001b[1m(\u001b[0m\u001b[1m[\u001b[0m\u001b[1;36m1\u001b[0m., \u001b[1;36m1\u001b[0m., \u001b[1;36m1\u001b[0m., \u001b[1;36m1\u001b[0m.\u001b[1m]\u001b[0m, \u001b[33mrequires_grad\u001b[0m=\u001b[3;92mTrue\u001b[0m\u001b[1m)\u001b[0m\n"
      ]
     },
     "metadata": {},
     "output_type": "display_data"
    }
   ],
   "source": [
    "N = 4\n",
    "model = BTModel(4)\n",
    "print(model.reward)\n",
    "datas = [(0, 1, 1), (2, 3, 1), (1, 3, 1)] # 比赛数据，也可以认为是偏好数据\n",
    "loss_fn = nn.BCELoss()\n",
    "optimizer = optim.SGD(model.parameters(), lr=0.01)"
   ]
  },
  {
   "cell_type": "markdown",
   "id": "f46104c0-776a-4342-a09c-93a92c8b5e13",
   "metadata": {},
   "source": [
    "$$P(i \\succ j) = \\frac{\\exp(s_i)}{\\exp(s_i) + \\exp(s_j)}$$"
   ]
  },
  {
   "cell_type": "code",
   "execution_count": 3,
   "id": "f0b64d29-2518-437f-936b-7fce9946a34d",
   "metadata": {},
   "outputs": [
    {
     "data": {
      "text/html": [
       "<pre style=\"white-space:pre;overflow-x:auto;line-height:normal;font-family:Menlo,'DejaVu Sans Mono',consolas,'Courier New',monospace\">Epoch <span style=\"color: #008080; text-decoration-color: #008080; font-weight: bold\">0</span>, Loss: <span style=\"color: #008080; text-decoration-color: #008080; font-weight: bold\">2.079441547393799</span>\n",
       "</pre>\n"
      ],
      "text/plain": [
       "Epoch \u001b[1;36m0\u001b[0m, Loss: \u001b[1;36m2.079441547393799\u001b[0m\n"
      ]
     },
     "metadata": {},
     "output_type": "display_data"
    },
    {
     "data": {
      "text/html": [
       "<pre style=\"white-space:pre;overflow-x:auto;line-height:normal;font-family:Menlo,'DejaVu Sans Mono',consolas,'Courier New',monospace\">Epoch <span style=\"color: #008080; text-decoration-color: #008080; font-weight: bold\">10</span>, Loss: <span style=\"color: #008080; text-decoration-color: #008080; font-weight: bold\">1.937548577785492</span>\n",
       "</pre>\n"
      ],
      "text/plain": [
       "Epoch \u001b[1;36m10\u001b[0m, Loss: \u001b[1;36m1.937548577785492\u001b[0m\n"
      ]
     },
     "metadata": {},
     "output_type": "display_data"
    },
    {
     "data": {
      "text/html": [
       "<pre style=\"white-space:pre;overflow-x:auto;line-height:normal;font-family:Menlo,'DejaVu Sans Mono',consolas,'Courier New',monospace\">Epoch <span style=\"color: #008080; text-decoration-color: #008080; font-weight: bold\">20</span>, Loss: <span style=\"color: #008080; text-decoration-color: #008080; font-weight: bold\">1.811079204082489</span>\n",
       "</pre>\n"
      ],
      "text/plain": [
       "Epoch \u001b[1;36m20\u001b[0m, Loss: \u001b[1;36m1.811079204082489\u001b[0m\n"
      ]
     },
     "metadata": {},
     "output_type": "display_data"
    },
    {
     "data": {
      "text/html": [
       "<pre style=\"white-space:pre;overflow-x:auto;line-height:normal;font-family:Menlo,'DejaVu Sans Mono',consolas,'Courier New',monospace\">Epoch <span style=\"color: #008080; text-decoration-color: #008080; font-weight: bold\">30</span>, Loss: <span style=\"color: #008080; text-decoration-color: #008080; font-weight: bold\">1.6980656385421753</span>\n",
       "</pre>\n"
      ],
      "text/plain": [
       "Epoch \u001b[1;36m30\u001b[0m, Loss: \u001b[1;36m1.6980656385421753\u001b[0m\n"
      ]
     },
     "metadata": {},
     "output_type": "display_data"
    },
    {
     "data": {
      "text/html": [
       "<pre style=\"white-space:pre;overflow-x:auto;line-height:normal;font-family:Menlo,'DejaVu Sans Mono',consolas,'Courier New',monospace\">Epoch <span style=\"color: #008080; text-decoration-color: #008080; font-weight: bold\">40</span>, Loss: <span style=\"color: #008080; text-decoration-color: #008080; font-weight: bold\">1.5967631042003632</span>\n",
       "</pre>\n"
      ],
      "text/plain": [
       "Epoch \u001b[1;36m40\u001b[0m, Loss: \u001b[1;36m1.5967631042003632\u001b[0m\n"
      ]
     },
     "metadata": {},
     "output_type": "display_data"
    },
    {
     "data": {
      "text/html": [
       "<pre style=\"white-space:pre;overflow-x:auto;line-height:normal;font-family:Menlo,'DejaVu Sans Mono',consolas,'Courier New',monospace\">Epoch <span style=\"color: #008080; text-decoration-color: #008080; font-weight: bold\">50</span>, Loss: <span style=\"color: #008080; text-decoration-color: #008080; font-weight: bold\">1.5056480765342712</span>\n",
       "</pre>\n"
      ],
      "text/plain": [
       "Epoch \u001b[1;36m50\u001b[0m, Loss: \u001b[1;36m1.5056480765342712\u001b[0m\n"
      ]
     },
     "metadata": {},
     "output_type": "display_data"
    },
    {
     "data": {
      "text/html": [
       "<pre style=\"white-space:pre;overflow-x:auto;line-height:normal;font-family:Menlo,'DejaVu Sans Mono',consolas,'Courier New',monospace\">Epoch <span style=\"color: #008080; text-decoration-color: #008080; font-weight: bold\">60</span>, Loss: <span style=\"color: #008080; text-decoration-color: #008080; font-weight: bold\">1.4234035015106201</span>\n",
       "</pre>\n"
      ],
      "text/plain": [
       "Epoch \u001b[1;36m60\u001b[0m, Loss: \u001b[1;36m1.4234035015106201\u001b[0m\n"
      ]
     },
     "metadata": {},
     "output_type": "display_data"
    },
    {
     "data": {
      "text/html": [
       "<pre style=\"white-space:pre;overflow-x:auto;line-height:normal;font-family:Menlo,'DejaVu Sans Mono',consolas,'Courier New',monospace\">Epoch <span style=\"color: #008080; text-decoration-color: #008080; font-weight: bold\">70</span>, Loss: <span style=\"color: #008080; text-decoration-color: #008080; font-weight: bold\">1.3488987982273102</span>\n",
       "</pre>\n"
      ],
      "text/plain": [
       "Epoch \u001b[1;36m70\u001b[0m, Loss: \u001b[1;36m1.3488987982273102\u001b[0m\n"
      ]
     },
     "metadata": {},
     "output_type": "display_data"
    },
    {
     "data": {
      "text/html": [
       "<pre style=\"white-space:pre;overflow-x:auto;line-height:normal;font-family:Menlo,'DejaVu Sans Mono',consolas,'Courier New',monospace\">Epoch <span style=\"color: #008080; text-decoration-color: #008080; font-weight: bold\">80</span>, Loss: <span style=\"color: #008080; text-decoration-color: #008080; font-weight: bold\">1.2811651229858398</span>\n",
       "</pre>\n"
      ],
      "text/plain": [
       "Epoch \u001b[1;36m80\u001b[0m, Loss: \u001b[1;36m1.2811651229858398\u001b[0m\n"
      ]
     },
     "metadata": {},
     "output_type": "display_data"
    },
    {
     "data": {
      "text/html": [
       "<pre style=\"white-space:pre;overflow-x:auto;line-height:normal;font-family:Menlo,'DejaVu Sans Mono',consolas,'Courier New',monospace\">Epoch <span style=\"color: #008080; text-decoration-color: #008080; font-weight: bold\">90</span>, Loss: <span style=\"color: #008080; text-decoration-color: #008080; font-weight: bold\">1.219374656677246</span>\n",
       "</pre>\n"
      ],
      "text/plain": [
       "Epoch \u001b[1;36m90\u001b[0m, Loss: \u001b[1;36m1.219374656677246\u001b[0m\n"
      ]
     },
     "metadata": {},
     "output_type": "display_data"
    },
    {
     "data": {
      "text/html": [
       "<pre style=\"white-space:pre;overflow-x:auto;line-height:normal;font-family:Menlo,'DejaVu Sans Mono',consolas,'Courier New',monospace\">Parameter containing:\n",
       "<span style=\"color: #800080; text-decoration-color: #800080; font-weight: bold\">tensor</span><span style=\"font-weight: bold\">([</span><span style=\"color: #008080; text-decoration-color: #008080; font-weight: bold\">1.4402</span>, <span style=\"color: #008080; text-decoration-color: #008080; font-weight: bold\">0.9630</span>, <span style=\"color: #008080; text-decoration-color: #008080; font-weight: bold\">1.3558</span>, <span style=\"color: #008080; text-decoration-color: #008080; font-weight: bold\">0.2410</span><span style=\"font-weight: bold\">]</span>, <span style=\"color: #808000; text-decoration-color: #808000\">requires_grad</span>=<span style=\"color: #00ff00; text-decoration-color: #00ff00; font-style: italic\">True</span><span style=\"font-weight: bold\">)</span>\n",
       "</pre>\n"
      ],
      "text/plain": [
       "Parameter containing:\n",
       "\u001b[1;35mtensor\u001b[0m\u001b[1m(\u001b[0m\u001b[1m[\u001b[0m\u001b[1;36m1.4402\u001b[0m, \u001b[1;36m0.9630\u001b[0m, \u001b[1;36m1.3558\u001b[0m, \u001b[1;36m0.2410\u001b[0m\u001b[1m]\u001b[0m, \u001b[33mrequires_grad\u001b[0m=\u001b[3;92mTrue\u001b[0m\u001b[1m)\u001b[0m\n"
      ]
     },
     "metadata": {},
     "output_type": "display_data"
    }
   ],
   "source": [
    "# 训练模型\n",
    "for i in range(100):\n",
    "    total_loss = 0\n",
    "    for data in datas:\n",
    "        id_i, id_j, label = data\n",
    "\n",
    "        optimizer.zero_grad()\n",
    "        pred = model.forward_exp(id_i, id_j)\n",
    "        loss = model.loss_exp(pred, torch.tensor(label, dtype=torch.float32))\n",
    "        loss.backward()\n",
    "        optimizer.step()\n",
    "\n",
    "        total_loss += loss.item()\n",
    "\n",
    "    if i%10==0 : print(f\"Epoch {i}, Loss: {total_loss}\")\n",
    "\n",
    "# 输出每个选手的强度参数\n",
    "print(model.reward)"
   ]
  },
  {
   "cell_type": "markdown",
   "id": "8840f050-3af3-465c-aaf5-cf04d1684a74",
   "metadata": {},
   "source": [
    "另一种建模即是用logistic回归"
   ]
  },
  {
   "cell_type": "markdown",
   "id": "05403c5f-8202-4e30-a978-abb75eb4397e",
   "metadata": {},
   "source": [
    "$$\n",
    "L = -\\log \\sigma (s_i-s_j)\n",
    "$$"
   ]
  },
  {
   "cell_type": "code",
   "execution_count": 4,
   "id": "9764c5fc-70c9-4039-8c8e-60bbabb22319",
   "metadata": {},
   "outputs": [
    {
     "data": {
      "text/html": [
       "<pre style=\"white-space:pre;overflow-x:auto;line-height:normal;font-family:Menlo,'DejaVu Sans Mono',consolas,'Courier New',monospace\">Parameter containing:\n",
       "<span style=\"color: #800080; text-decoration-color: #800080; font-weight: bold\">tensor</span><span style=\"font-weight: bold\">([</span><span style=\"color: #008080; text-decoration-color: #008080; font-weight: bold\">1</span>., <span style=\"color: #008080; text-decoration-color: #008080; font-weight: bold\">1</span>., <span style=\"color: #008080; text-decoration-color: #008080; font-weight: bold\">1</span>., <span style=\"color: #008080; text-decoration-color: #008080; font-weight: bold\">1</span>.<span style=\"font-weight: bold\">]</span>, <span style=\"color: #808000; text-decoration-color: #808000\">requires_grad</span>=<span style=\"color: #00ff00; text-decoration-color: #00ff00; font-style: italic\">True</span><span style=\"font-weight: bold\">)</span>\n",
       "</pre>\n"
      ],
      "text/plain": [
       "Parameter containing:\n",
       "\u001b[1;35mtensor\u001b[0m\u001b[1m(\u001b[0m\u001b[1m[\u001b[0m\u001b[1;36m1\u001b[0m., \u001b[1;36m1\u001b[0m., \u001b[1;36m1\u001b[0m., \u001b[1;36m1\u001b[0m.\u001b[1m]\u001b[0m, \u001b[33mrequires_grad\u001b[0m=\u001b[3;92mTrue\u001b[0m\u001b[1m)\u001b[0m\n"
      ]
     },
     "metadata": {},
     "output_type": "display_data"
    },
    {
     "data": {
      "text/html": [
       "<pre style=\"white-space:pre;overflow-x:auto;line-height:normal;font-family:Menlo,'DejaVu Sans Mono',consolas,'Courier New',monospace\">Epoch <span style=\"color: #008080; text-decoration-color: #008080; font-weight: bold\">0</span>, Loss: <span style=\"color: #008080; text-decoration-color: #008080; font-weight: bold\">2.079441547393799</span>\n",
       "</pre>\n"
      ],
      "text/plain": [
       "Epoch \u001b[1;36m0\u001b[0m, Loss: \u001b[1;36m2.079441547393799\u001b[0m\n"
      ]
     },
     "metadata": {},
     "output_type": "display_data"
    },
    {
     "data": {
      "text/html": [
       "<pre style=\"white-space:pre;overflow-x:auto;line-height:normal;font-family:Menlo,'DejaVu Sans Mono',consolas,'Courier New',monospace\">Epoch <span style=\"color: #008080; text-decoration-color: #008080; font-weight: bold\">10</span>, Loss: <span style=\"color: #008080; text-decoration-color: #008080; font-weight: bold\">1.937548816204071</span>\n",
       "</pre>\n"
      ],
      "text/plain": [
       "Epoch \u001b[1;36m10\u001b[0m, Loss: \u001b[1;36m1.937548816204071\u001b[0m\n"
      ]
     },
     "metadata": {},
     "output_type": "display_data"
    },
    {
     "data": {
      "text/html": [
       "<pre style=\"white-space:pre;overflow-x:auto;line-height:normal;font-family:Menlo,'DejaVu Sans Mono',consolas,'Courier New',monospace\">Epoch <span style=\"color: #008080; text-decoration-color: #008080; font-weight: bold\">20</span>, Loss: <span style=\"color: #008080; text-decoration-color: #008080; font-weight: bold\">1.811079204082489</span>\n",
       "</pre>\n"
      ],
      "text/plain": [
       "Epoch \u001b[1;36m20\u001b[0m, Loss: \u001b[1;36m1.811079204082489\u001b[0m\n"
      ]
     },
     "metadata": {},
     "output_type": "display_data"
    },
    {
     "data": {
      "text/html": [
       "<pre style=\"white-space:pre;overflow-x:auto;line-height:normal;font-family:Menlo,'DejaVu Sans Mono',consolas,'Courier New',monospace\">Epoch <span style=\"color: #008080; text-decoration-color: #008080; font-weight: bold\">30</span>, Loss: <span style=\"color: #008080; text-decoration-color: #008080; font-weight: bold\">1.6980656385421753</span>\n",
       "</pre>\n"
      ],
      "text/plain": [
       "Epoch \u001b[1;36m30\u001b[0m, Loss: \u001b[1;36m1.6980656385421753\u001b[0m\n"
      ]
     },
     "metadata": {},
     "output_type": "display_data"
    },
    {
     "data": {
      "text/html": [
       "<pre style=\"white-space:pre;overflow-x:auto;line-height:normal;font-family:Menlo,'DejaVu Sans Mono',consolas,'Courier New',monospace\">Epoch <span style=\"color: #008080; text-decoration-color: #008080; font-weight: bold\">40</span>, Loss: <span style=\"color: #008080; text-decoration-color: #008080; font-weight: bold\">1.5967631042003632</span>\n",
       "</pre>\n"
      ],
      "text/plain": [
       "Epoch \u001b[1;36m40\u001b[0m, Loss: \u001b[1;36m1.5967631042003632\u001b[0m\n"
      ]
     },
     "metadata": {},
     "output_type": "display_data"
    },
    {
     "data": {
      "text/html": [
       "<pre style=\"white-space:pre;overflow-x:auto;line-height:normal;font-family:Menlo,'DejaVu Sans Mono',consolas,'Courier New',monospace\">Epoch <span style=\"color: #008080; text-decoration-color: #008080; font-weight: bold\">50</span>, Loss: <span style=\"color: #008080; text-decoration-color: #008080; font-weight: bold\">1.5056480765342712</span>\n",
       "</pre>\n"
      ],
      "text/plain": [
       "Epoch \u001b[1;36m50\u001b[0m, Loss: \u001b[1;36m1.5056480765342712\u001b[0m\n"
      ]
     },
     "metadata": {},
     "output_type": "display_data"
    },
    {
     "data": {
      "text/html": [
       "<pre style=\"white-space:pre;overflow-x:auto;line-height:normal;font-family:Menlo,'DejaVu Sans Mono',consolas,'Courier New',monospace\">Epoch <span style=\"color: #008080; text-decoration-color: #008080; font-weight: bold\">60</span>, Loss: <span style=\"color: #008080; text-decoration-color: #008080; font-weight: bold\">1.4234036207199097</span>\n",
       "</pre>\n"
      ],
      "text/plain": [
       "Epoch \u001b[1;36m60\u001b[0m, Loss: \u001b[1;36m1.4234036207199097\u001b[0m\n"
      ]
     },
     "metadata": {},
     "output_type": "display_data"
    },
    {
     "data": {
      "text/html": [
       "<pre style=\"white-space:pre;overflow-x:auto;line-height:normal;font-family:Menlo,'DejaVu Sans Mono',consolas,'Courier New',monospace\">Epoch <span style=\"color: #008080; text-decoration-color: #008080; font-weight: bold\">70</span>, Loss: <span style=\"color: #008080; text-decoration-color: #008080; font-weight: bold\">1.3488986790180206</span>\n",
       "</pre>\n"
      ],
      "text/plain": [
       "Epoch \u001b[1;36m70\u001b[0m, Loss: \u001b[1;36m1.3488986790180206\u001b[0m\n"
      ]
     },
     "metadata": {},
     "output_type": "display_data"
    },
    {
     "data": {
      "text/html": [
       "<pre style=\"white-space:pre;overflow-x:auto;line-height:normal;font-family:Menlo,'DejaVu Sans Mono',consolas,'Courier New',monospace\">Epoch <span style=\"color: #008080; text-decoration-color: #008080; font-weight: bold\">80</span>, Loss: <span style=\"color: #008080; text-decoration-color: #008080; font-weight: bold\">1.281165212392807</span>\n",
       "</pre>\n"
      ],
      "text/plain": [
       "Epoch \u001b[1;36m80\u001b[0m, Loss: \u001b[1;36m1.281165212392807\u001b[0m\n"
      ]
     },
     "metadata": {},
     "output_type": "display_data"
    },
    {
     "data": {
      "text/html": [
       "<pre style=\"white-space:pre;overflow-x:auto;line-height:normal;font-family:Menlo,'DejaVu Sans Mono',consolas,'Courier New',monospace\">Epoch <span style=\"color: #008080; text-decoration-color: #008080; font-weight: bold\">90</span>, Loss: <span style=\"color: #008080; text-decoration-color: #008080; font-weight: bold\">1.2193749248981476</span>\n",
       "</pre>\n"
      ],
      "text/plain": [
       "Epoch \u001b[1;36m90\u001b[0m, Loss: \u001b[1;36m1.2193749248981476\u001b[0m\n"
      ]
     },
     "metadata": {},
     "output_type": "display_data"
    },
    {
     "data": {
      "text/html": [
       "<pre style=\"white-space:pre;overflow-x:auto;line-height:normal;font-family:Menlo,'DejaVu Sans Mono',consolas,'Courier New',monospace\">Parameter containing:\n",
       "<span style=\"color: #800080; text-decoration-color: #800080; font-weight: bold\">tensor</span><span style=\"font-weight: bold\">([</span><span style=\"color: #008080; text-decoration-color: #008080; font-weight: bold\">1.4402</span>, <span style=\"color: #008080; text-decoration-color: #008080; font-weight: bold\">0.9630</span>, <span style=\"color: #008080; text-decoration-color: #008080; font-weight: bold\">1.3558</span>, <span style=\"color: #008080; text-decoration-color: #008080; font-weight: bold\">0.2410</span><span style=\"font-weight: bold\">]</span>, <span style=\"color: #808000; text-decoration-color: #808000\">requires_grad</span>=<span style=\"color: #00ff00; text-decoration-color: #00ff00; font-style: italic\">True</span><span style=\"font-weight: bold\">)</span>\n",
       "</pre>\n"
      ],
      "text/plain": [
       "Parameter containing:\n",
       "\u001b[1;35mtensor\u001b[0m\u001b[1m(\u001b[0m\u001b[1m[\u001b[0m\u001b[1;36m1.4402\u001b[0m, \u001b[1;36m0.9630\u001b[0m, \u001b[1;36m1.3558\u001b[0m, \u001b[1;36m0.2410\u001b[0m\u001b[1m]\u001b[0m, \u001b[33mrequires_grad\u001b[0m=\u001b[3;92mTrue\u001b[0m\u001b[1m)\u001b[0m\n"
      ]
     },
     "metadata": {},
     "output_type": "display_data"
    }
   ],
   "source": [
    "# 训练模型\n",
    "\n",
    "N = 4\n",
    "model = BTModel(4)\n",
    "print(model.reward)\n",
    "optimizer = optim.SGD(model.parameters(), lr=0.01)\n",
    "\n",
    "for i in range(100):\n",
    "    total_loss = 0\n",
    "    for data in datas:\n",
    "        id_i, id_j, label = data\n",
    "        optimizer.zero_grad()\n",
    "        \n",
    "        pred = model.forward_sigmoid(id_i, id_j)\n",
    "        loss = model.loss_sigmoid(pred, torch.tensor(label, dtype=torch.float32))\n",
    "        loss.backward()\n",
    "        optimizer.step()\n",
    "\n",
    "        total_loss += loss.item()\n",
    "    if i%10==0 : print(f\"Epoch {i}, Loss: {total_loss}\")\n",
    "\n",
    "# 输出每个选手的强度参数\n",
    "print(model.reward)"
   ]
  },
  {
   "cell_type": "markdown",
   "id": "4c598ee5-d7af-49bc-8b88-67dca2e7f94d",
   "metadata": {},
   "source": [
    "# 测试更多的epoch, 选手的分数差异会越大"
   ]
  },
  {
   "cell_type": "code",
   "execution_count": 5,
   "id": "d2036133-965e-4533-8abd-9bdf41fcf0bd",
   "metadata": {},
   "outputs": [
    {
     "data": {
      "text/html": [
       "<pre style=\"white-space:pre;overflow-x:auto;line-height:normal;font-family:Menlo,'DejaVu Sans Mono',consolas,'Courier New',monospace\">Parameter containing:\n",
       "<span style=\"color: #800080; text-decoration-color: #800080; font-weight: bold\">tensor</span><span style=\"font-weight: bold\">([</span><span style=\"color: #008080; text-decoration-color: #008080; font-weight: bold\">1</span>., <span style=\"color: #008080; text-decoration-color: #008080; font-weight: bold\">1</span>., <span style=\"color: #008080; text-decoration-color: #008080; font-weight: bold\">1</span>., <span style=\"color: #008080; text-decoration-color: #008080; font-weight: bold\">1</span>.<span style=\"font-weight: bold\">]</span>, <span style=\"color: #808000; text-decoration-color: #808000\">requires_grad</span>=<span style=\"color: #00ff00; text-decoration-color: #00ff00; font-style: italic\">True</span><span style=\"font-weight: bold\">)</span>\n",
       "</pre>\n"
      ],
      "text/plain": [
       "Parameter containing:\n",
       "\u001b[1;35mtensor\u001b[0m\u001b[1m(\u001b[0m\u001b[1m[\u001b[0m\u001b[1;36m1\u001b[0m., \u001b[1;36m1\u001b[0m., \u001b[1;36m1\u001b[0m., \u001b[1;36m1\u001b[0m.\u001b[1m]\u001b[0m, \u001b[33mrequires_grad\u001b[0m=\u001b[3;92mTrue\u001b[0m\u001b[1m)\u001b[0m\n"
      ]
     },
     "metadata": {},
     "output_type": "display_data"
    },
    {
     "data": {
      "text/html": [
       "<pre style=\"white-space:pre;overflow-x:auto;line-height:normal;font-family:Menlo,'DejaVu Sans Mono',consolas,'Courier New',monospace\">Epoch <span style=\"color: #008080; text-decoration-color: #008080; font-weight: bold\">0</span>, Loss: <span style=\"color: #008080; text-decoration-color: #008080; font-weight: bold\">2.079441547393799</span>\n",
       "</pre>\n"
      ],
      "text/plain": [
       "Epoch \u001b[1;36m0\u001b[0m, Loss: \u001b[1;36m2.079441547393799\u001b[0m\n"
      ]
     },
     "metadata": {},
     "output_type": "display_data"
    },
    {
     "data": {
      "text/html": [
       "<pre style=\"white-space:pre;overflow-x:auto;line-height:normal;font-family:Menlo,'DejaVu Sans Mono',consolas,'Courier New',monospace\">Parameter containing:\n",
       "<span style=\"color: #800080; text-decoration-color: #800080; font-weight: bold\">tensor</span><span style=\"font-weight: bold\">([</span><span style=\"color: #008080; text-decoration-color: #008080; font-weight: bold\">1.0050</span>, <span style=\"color: #008080; text-decoration-color: #008080; font-weight: bold\">1.0000</span>, <span style=\"color: #008080; text-decoration-color: #008080; font-weight: bold\">1.0050</span>, <span style=\"color: #008080; text-decoration-color: #008080; font-weight: bold\">0.9900</span><span style=\"font-weight: bold\">]</span>, <span style=\"color: #808000; text-decoration-color: #808000\">requires_grad</span>=<span style=\"color: #00ff00; text-decoration-color: #00ff00; font-style: italic\">True</span><span style=\"font-weight: bold\">)</span>\n",
       "</pre>\n"
      ],
      "text/plain": [
       "Parameter containing:\n",
       "\u001b[1;35mtensor\u001b[0m\u001b[1m(\u001b[0m\u001b[1m[\u001b[0m\u001b[1;36m1.0050\u001b[0m, \u001b[1;36m1.0000\u001b[0m, \u001b[1;36m1.0050\u001b[0m, \u001b[1;36m0.9900\u001b[0m\u001b[1m]\u001b[0m, \u001b[33mrequires_grad\u001b[0m=\u001b[3;92mTrue\u001b[0m\u001b[1m)\u001b[0m\n"
      ]
     },
     "metadata": {},
     "output_type": "display_data"
    },
    {
     "data": {
      "text/html": [
       "<pre style=\"white-space:pre;overflow-x:auto;line-height:normal;font-family:Menlo,'DejaVu Sans Mono',consolas,'Courier New',monospace\">Epoch <span style=\"color: #008080; text-decoration-color: #008080; font-weight: bold\">10000</span>, Loss: <span style=\"color: #008080; text-decoration-color: #008080; font-weight: bold\">0.020059949485585093</span>\n",
       "</pre>\n"
      ],
      "text/plain": [
       "Epoch \u001b[1;36m10000\u001b[0m, Loss: \u001b[1;36m0.020059949485585093\u001b[0m\n"
      ]
     },
     "metadata": {},
     "output_type": "display_data"
    },
    {
     "data": {
      "text/html": [
       "<pre style=\"white-space:pre;overflow-x:auto;line-height:normal;font-family:Menlo,'DejaVu Sans Mono',consolas,'Courier New',monospace\">Parameter containing:\n",
       "<span style=\"color: #800080; text-decoration-color: #800080; font-weight: bold\">tensor</span><span style=\"font-weight: bold\">([</span> <span style=\"color: #008080; text-decoration-color: #008080; font-weight: bold\">5.1926</span>,  <span style=\"color: #008080; text-decoration-color: #008080; font-weight: bold\">0.5494</span>,  <span style=\"color: #008080; text-decoration-color: #008080; font-weight: bold\">2.4080</span>, <span style=\"color: #008080; text-decoration-color: #008080; font-weight: bold\">-4.1501</span><span style=\"font-weight: bold\">]</span>, <span style=\"color: #808000; text-decoration-color: #808000\">requires_grad</span>=<span style=\"color: #00ff00; text-decoration-color: #00ff00; font-style: italic\">True</span><span style=\"font-weight: bold\">)</span>\n",
       "</pre>\n"
      ],
      "text/plain": [
       "Parameter containing:\n",
       "\u001b[1;35mtensor\u001b[0m\u001b[1m(\u001b[0m\u001b[1m[\u001b[0m \u001b[1;36m5.1926\u001b[0m,  \u001b[1;36m0.5494\u001b[0m,  \u001b[1;36m2.4080\u001b[0m, \u001b[1;36m-4.1501\u001b[0m\u001b[1m]\u001b[0m, \u001b[33mrequires_grad\u001b[0m=\u001b[3;92mTrue\u001b[0m\u001b[1m)\u001b[0m\n"
      ]
     },
     "metadata": {},
     "output_type": "display_data"
    },
    {
     "data": {
      "text/html": [
       "<pre style=\"white-space:pre;overflow-x:auto;line-height:normal;font-family:Menlo,'DejaVu Sans Mono',consolas,'Courier New',monospace\">Epoch <span style=\"color: #008080; text-decoration-color: #008080; font-weight: bold\">20000</span>, Loss: <span style=\"color: #008080; text-decoration-color: #008080; font-weight: bold\">0.009986653691157699</span>\n",
       "</pre>\n"
      ],
      "text/plain": [
       "Epoch \u001b[1;36m20000\u001b[0m, Loss: \u001b[1;36m0.009986653691157699\u001b[0m\n"
      ]
     },
     "metadata": {},
     "output_type": "display_data"
    },
    {
     "data": {
      "text/html": [
       "<pre style=\"white-space:pre;overflow-x:auto;line-height:normal;font-family:Menlo,'DejaVu Sans Mono',consolas,'Courier New',monospace\">Parameter containing:\n",
       "<span style=\"color: #800080; text-decoration-color: #800080; font-weight: bold\">tensor</span><span style=\"font-weight: bold\">([</span> <span style=\"color: #008080; text-decoration-color: #008080; font-weight: bold\">5.8545</span>,  <span style=\"color: #008080; text-decoration-color: #008080; font-weight: bold\">0.5160</span>,  <span style=\"color: #008080; text-decoration-color: #008080; font-weight: bold\">2.5004</span>, <span style=\"color: #008080; text-decoration-color: #008080; font-weight: bold\">-4.8709</span><span style=\"font-weight: bold\">]</span>, <span style=\"color: #808000; text-decoration-color: #808000\">requires_grad</span>=<span style=\"color: #00ff00; text-decoration-color: #00ff00; font-style: italic\">True</span><span style=\"font-weight: bold\">)</span>\n",
       "</pre>\n"
      ],
      "text/plain": [
       "Parameter containing:\n",
       "\u001b[1;35mtensor\u001b[0m\u001b[1m(\u001b[0m\u001b[1m[\u001b[0m \u001b[1;36m5.8545\u001b[0m,  \u001b[1;36m0.5160\u001b[0m,  \u001b[1;36m2.5004\u001b[0m, \u001b[1;36m-4.8709\u001b[0m\u001b[1m]\u001b[0m, \u001b[33mrequires_grad\u001b[0m=\u001b[3;92mTrue\u001b[0m\u001b[1m)\u001b[0m\n"
      ]
     },
     "metadata": {},
     "output_type": "display_data"
    },
    {
     "data": {
      "text/html": [
       "<pre style=\"white-space:pre;overflow-x:auto;line-height:normal;font-family:Menlo,'DejaVu Sans Mono',consolas,'Courier New',monospace\">Epoch <span style=\"color: #008080; text-decoration-color: #008080; font-weight: bold\">30000</span>, Loss: <span style=\"color: #008080; text-decoration-color: #008080; font-weight: bold\">0.0066467659489717335</span>\n",
       "</pre>\n"
      ],
      "text/plain": [
       "Epoch \u001b[1;36m30000\u001b[0m, Loss: \u001b[1;36m0.0066467659489717335\u001b[0m\n"
      ]
     },
     "metadata": {},
     "output_type": "display_data"
    },
    {
     "data": {
      "text/html": [
       "<pre style=\"white-space:pre;overflow-x:auto;line-height:normal;font-family:Menlo,'DejaVu Sans Mono',consolas,'Courier New',monospace\">Parameter containing:\n",
       "<span style=\"color: #800080; text-decoration-color: #800080; font-weight: bold\">tensor</span><span style=\"font-weight: bold\">([</span> <span style=\"color: #008080; text-decoration-color: #008080; font-weight: bold\">6.2424</span>,  <span style=\"color: #008080; text-decoration-color: #008080; font-weight: bold\">0.4984</span>,  <span style=\"color: #008080; text-decoration-color: #008080; font-weight: bold\">2.5498</span>, <span style=\"color: #008080; text-decoration-color: #008080; font-weight: bold\">-5.2906</span><span style=\"font-weight: bold\">]</span>, <span style=\"color: #808000; text-decoration-color: #808000\">requires_grad</span>=<span style=\"color: #00ff00; text-decoration-color: #00ff00; font-style: italic\">True</span><span style=\"font-weight: bold\">)</span>\n",
       "</pre>\n"
      ],
      "text/plain": [
       "Parameter containing:\n",
       "\u001b[1;35mtensor\u001b[0m\u001b[1m(\u001b[0m\u001b[1m[\u001b[0m \u001b[1;36m6.2424\u001b[0m,  \u001b[1;36m0.4984\u001b[0m,  \u001b[1;36m2.5498\u001b[0m, \u001b[1;36m-5.2906\u001b[0m\u001b[1m]\u001b[0m, \u001b[33mrequires_grad\u001b[0m=\u001b[3;92mTrue\u001b[0m\u001b[1m)\u001b[0m\n"
      ]
     },
     "metadata": {},
     "output_type": "display_data"
    },
    {
     "data": {
      "text/html": [
       "<pre style=\"white-space:pre;overflow-x:auto;line-height:normal;font-family:Menlo,'DejaVu Sans Mono',consolas,'Courier New',monospace\">Epoch <span style=\"color: #008080; text-decoration-color: #008080; font-weight: bold\">40000</span>, Loss: <span style=\"color: #008080; text-decoration-color: #008080; font-weight: bold\">0.0049811736098490655</span>\n",
       "</pre>\n"
      ],
      "text/plain": [
       "Epoch \u001b[1;36m40000\u001b[0m, Loss: \u001b[1;36m0.0049811736098490655\u001b[0m\n"
      ]
     },
     "metadata": {},
     "output_type": "display_data"
    },
    {
     "data": {
      "text/html": [
       "<pre style=\"white-space:pre;overflow-x:auto;line-height:normal;font-family:Menlo,'DejaVu Sans Mono',consolas,'Courier New',monospace\">Parameter containing:\n",
       "<span style=\"color: #800080; text-decoration-color: #800080; font-weight: bold\">tensor</span><span style=\"font-weight: bold\">([</span> <span style=\"color: #008080; text-decoration-color: #008080; font-weight: bold\">6.5180</span>,  <span style=\"color: #008080; text-decoration-color: #008080; font-weight: bold\">0.4866</span>,  <span style=\"color: #008080; text-decoration-color: #008080; font-weight: bold\">2.5830</span>, <span style=\"color: #008080; text-decoration-color: #008080; font-weight: bold\">-5.5875</span><span style=\"font-weight: bold\">]</span>, <span style=\"color: #808000; text-decoration-color: #808000\">requires_grad</span>=<span style=\"color: #00ff00; text-decoration-color: #00ff00; font-style: italic\">True</span><span style=\"font-weight: bold\">)</span>\n",
       "</pre>\n"
      ],
      "text/plain": [
       "Parameter containing:\n",
       "\u001b[1;35mtensor\u001b[0m\u001b[1m(\u001b[0m\u001b[1m[\u001b[0m \u001b[1;36m6.5180\u001b[0m,  \u001b[1;36m0.4866\u001b[0m,  \u001b[1;36m2.5830\u001b[0m, \u001b[1;36m-5.5875\u001b[0m\u001b[1m]\u001b[0m, \u001b[33mrequires_grad\u001b[0m=\u001b[3;92mTrue\u001b[0m\u001b[1m)\u001b[0m\n"
      ]
     },
     "metadata": {},
     "output_type": "display_data"
    },
    {
     "data": {
      "text/html": [
       "<pre style=\"white-space:pre;overflow-x:auto;line-height:normal;font-family:Menlo,'DejaVu Sans Mono',consolas,'Courier New',monospace\">Epoch <span style=\"color: #008080; text-decoration-color: #008080; font-weight: bold\">50000</span>, Loss: <span style=\"color: #008080; text-decoration-color: #008080; font-weight: bold\">0.003982292968430556</span>\n",
       "</pre>\n"
      ],
      "text/plain": [
       "Epoch \u001b[1;36m50000\u001b[0m, Loss: \u001b[1;36m0.003982292968430556\u001b[0m\n"
      ]
     },
     "metadata": {},
     "output_type": "display_data"
    },
    {
     "data": {
      "text/html": [
       "<pre style=\"white-space:pre;overflow-x:auto;line-height:normal;font-family:Menlo,'DejaVu Sans Mono',consolas,'Courier New',monospace\">Parameter containing:\n",
       "<span style=\"color: #800080; text-decoration-color: #800080; font-weight: bold\">tensor</span><span style=\"font-weight: bold\">([</span> <span style=\"color: #008080; text-decoration-color: #008080; font-weight: bold\">6.7320</span>,  <span style=\"color: #008080; text-decoration-color: #008080; font-weight: bold\">0.4778</span>,  <span style=\"color: #008080; text-decoration-color: #008080; font-weight: bold\">2.6078</span>, <span style=\"color: #008080; text-decoration-color: #008080; font-weight: bold\">-5.8179</span><span style=\"font-weight: bold\">]</span>, <span style=\"color: #808000; text-decoration-color: #808000\">requires_grad</span>=<span style=\"color: #00ff00; text-decoration-color: #00ff00; font-style: italic\">True</span><span style=\"font-weight: bold\">)</span>\n",
       "</pre>\n"
      ],
      "text/plain": [
       "Parameter containing:\n",
       "\u001b[1;35mtensor\u001b[0m\u001b[1m(\u001b[0m\u001b[1m[\u001b[0m \u001b[1;36m6.7320\u001b[0m,  \u001b[1;36m0.4778\u001b[0m,  \u001b[1;36m2.6078\u001b[0m, \u001b[1;36m-5.8179\u001b[0m\u001b[1m]\u001b[0m, \u001b[33mrequires_grad\u001b[0m=\u001b[3;92mTrue\u001b[0m\u001b[1m)\u001b[0m\n"
      ]
     },
     "metadata": {},
     "output_type": "display_data"
    },
    {
     "data": {
      "text/html": [
       "<pre style=\"white-space:pre;overflow-x:auto;line-height:normal;font-family:Menlo,'DejaVu Sans Mono',consolas,'Courier New',monospace\">Epoch <span style=\"color: #008080; text-decoration-color: #008080; font-weight: bold\">60000</span>, Loss: <span style=\"color: #008080; text-decoration-color: #008080; font-weight: bold\">0.003317929003969766</span>\n",
       "</pre>\n"
      ],
      "text/plain": [
       "Epoch \u001b[1;36m60000\u001b[0m, Loss: \u001b[1;36m0.003317929003969766\u001b[0m\n"
      ]
     },
     "metadata": {},
     "output_type": "display_data"
    },
    {
     "data": {
      "text/html": [
       "<pre style=\"white-space:pre;overflow-x:auto;line-height:normal;font-family:Menlo,'DejaVu Sans Mono',consolas,'Courier New',monospace\">Parameter containing:\n",
       "<span style=\"color: #800080; text-decoration-color: #800080; font-weight: bold\">tensor</span><span style=\"font-weight: bold\">([</span> <span style=\"color: #008080; text-decoration-color: #008080; font-weight: bold\">6.9070</span>,  <span style=\"color: #008080; text-decoration-color: #008080; font-weight: bold\">0.4709</span>,  <span style=\"color: #008080; text-decoration-color: #008080; font-weight: bold\">2.6277</span>, <span style=\"color: #008080; text-decoration-color: #008080; font-weight: bold\">-6.0054</span><span style=\"font-weight: bold\">]</span>, <span style=\"color: #808000; text-decoration-color: #808000\">requires_grad</span>=<span style=\"color: #00ff00; text-decoration-color: #00ff00; font-style: italic\">True</span><span style=\"font-weight: bold\">)</span>\n",
       "</pre>\n"
      ],
      "text/plain": [
       "Parameter containing:\n",
       "\u001b[1;35mtensor\u001b[0m\u001b[1m(\u001b[0m\u001b[1m[\u001b[0m \u001b[1;36m6.9070\u001b[0m,  \u001b[1;36m0.4709\u001b[0m,  \u001b[1;36m2.6277\u001b[0m, \u001b[1;36m-6.0054\u001b[0m\u001b[1m]\u001b[0m, \u001b[33mrequires_grad\u001b[0m=\u001b[3;92mTrue\u001b[0m\u001b[1m)\u001b[0m\n"
      ]
     },
     "metadata": {},
     "output_type": "display_data"
    },
    {
     "data": {
      "text/html": [
       "<pre style=\"white-space:pre;overflow-x:auto;line-height:normal;font-family:Menlo,'DejaVu Sans Mono',consolas,'Courier New',monospace\">Epoch <span style=\"color: #008080; text-decoration-color: #008080; font-weight: bold\">70000</span>, Loss: <span style=\"color: #008080; text-decoration-color: #008080; font-weight: bold\">0.0028439541492844</span>\n",
       "</pre>\n"
      ],
      "text/plain": [
       "Epoch \u001b[1;36m70000\u001b[0m, Loss: \u001b[1;36m0.0028439541492844\u001b[0m\n"
      ]
     },
     "metadata": {},
     "output_type": "display_data"
    },
    {
     "data": {
      "text/html": [
       "<pre style=\"white-space:pre;overflow-x:auto;line-height:normal;font-family:Menlo,'DejaVu Sans Mono',consolas,'Courier New',monospace\">Parameter containing:\n",
       "<span style=\"color: #800080; text-decoration-color: #800080; font-weight: bold\">tensor</span><span style=\"font-weight: bold\">([</span> <span style=\"color: #008080; text-decoration-color: #008080; font-weight: bold\">7.0550</span>,  <span style=\"color: #008080; text-decoration-color: #008080; font-weight: bold\">0.4651</span>,  <span style=\"color: #008080; text-decoration-color: #008080; font-weight: bold\">2.6439</span>, <span style=\"color: #008080; text-decoration-color: #008080; font-weight: bold\">-6.1636</span><span style=\"font-weight: bold\">]</span>, <span style=\"color: #808000; text-decoration-color: #808000\">requires_grad</span>=<span style=\"color: #00ff00; text-decoration-color: #00ff00; font-style: italic\">True</span><span style=\"font-weight: bold\">)</span>\n",
       "</pre>\n"
      ],
      "text/plain": [
       "Parameter containing:\n",
       "\u001b[1;35mtensor\u001b[0m\u001b[1m(\u001b[0m\u001b[1m[\u001b[0m \u001b[1;36m7.0550\u001b[0m,  \u001b[1;36m0.4651\u001b[0m,  \u001b[1;36m2.6439\u001b[0m, \u001b[1;36m-6.1636\u001b[0m\u001b[1m]\u001b[0m, \u001b[33mrequires_grad\u001b[0m=\u001b[3;92mTrue\u001b[0m\u001b[1m)\u001b[0m\n"
      ]
     },
     "metadata": {},
     "output_type": "display_data"
    },
    {
     "data": {
      "text/html": [
       "<pre style=\"white-space:pre;overflow-x:auto;line-height:normal;font-family:Menlo,'DejaVu Sans Mono',consolas,'Courier New',monospace\">Epoch <span style=\"color: #008080; text-decoration-color: #008080; font-weight: bold\">80000</span>, Loss: <span style=\"color: #008080; text-decoration-color: #008080; font-weight: bold\">0.0024875091476133093</span>\n",
       "</pre>\n"
      ],
      "text/plain": [
       "Epoch \u001b[1;36m80000\u001b[0m, Loss: \u001b[1;36m0.0024875091476133093\u001b[0m\n"
      ]
     },
     "metadata": {},
     "output_type": "display_data"
    },
    {
     "data": {
      "text/html": [
       "<pre style=\"white-space:pre;overflow-x:auto;line-height:normal;font-family:Menlo,'DejaVu Sans Mono',consolas,'Courier New',monospace\">Parameter containing:\n",
       "<span style=\"color: #800080; text-decoration-color: #800080; font-weight: bold\">tensor</span><span style=\"font-weight: bold\">([</span> <span style=\"color: #008080; text-decoration-color: #008080; font-weight: bold\">7.1832</span>,  <span style=\"color: #008080; text-decoration-color: #008080; font-weight: bold\">0.4603</span>,  <span style=\"color: #008080; text-decoration-color: #008080; font-weight: bold\">2.6578</span>, <span style=\"color: #008080; text-decoration-color: #008080; font-weight: bold\">-6.3013</span><span style=\"font-weight: bold\">]</span>, <span style=\"color: #808000; text-decoration-color: #808000\">requires_grad</span>=<span style=\"color: #00ff00; text-decoration-color: #00ff00; font-style: italic\">True</span><span style=\"font-weight: bold\">)</span>\n",
       "</pre>\n"
      ],
      "text/plain": [
       "Parameter containing:\n",
       "\u001b[1;35mtensor\u001b[0m\u001b[1m(\u001b[0m\u001b[1m[\u001b[0m \u001b[1;36m7.1832\u001b[0m,  \u001b[1;36m0.4603\u001b[0m,  \u001b[1;36m2.6578\u001b[0m, \u001b[1;36m-6.3013\u001b[0m\u001b[1m]\u001b[0m, \u001b[33mrequires_grad\u001b[0m=\u001b[3;92mTrue\u001b[0m\u001b[1m)\u001b[0m\n"
      ]
     },
     "metadata": {},
     "output_type": "display_data"
    },
    {
     "data": {
      "text/html": [
       "<pre style=\"white-space:pre;overflow-x:auto;line-height:normal;font-family:Menlo,'DejaVu Sans Mono',consolas,'Courier New',monospace\">Epoch <span style=\"color: #008080; text-decoration-color: #008080; font-weight: bold\">90000</span>, Loss: <span style=\"color: #008080; text-decoration-color: #008080; font-weight: bold\">0.0022105913812993094</span>\n",
       "</pre>\n"
      ],
      "text/plain": [
       "Epoch \u001b[1;36m90000\u001b[0m, Loss: \u001b[1;36m0.0022105913812993094\u001b[0m\n"
      ]
     },
     "metadata": {},
     "output_type": "display_data"
    },
    {
     "data": {
      "text/html": [
       "<pre style=\"white-space:pre;overflow-x:auto;line-height:normal;font-family:Menlo,'DejaVu Sans Mono',consolas,'Courier New',monospace\">Parameter containing:\n",
       "<span style=\"color: #800080; text-decoration-color: #800080; font-weight: bold\">tensor</span><span style=\"font-weight: bold\">([</span> <span style=\"color: #008080; text-decoration-color: #008080; font-weight: bold\">7.2966</span>,  <span style=\"color: #008080; text-decoration-color: #008080; font-weight: bold\">0.4560</span>,  <span style=\"color: #008080; text-decoration-color: #008080; font-weight: bold\">2.6698</span>, <span style=\"color: #008080; text-decoration-color: #008080; font-weight: bold\">-6.4225</span><span style=\"font-weight: bold\">]</span>, <span style=\"color: #808000; text-decoration-color: #808000\">requires_grad</span>=<span style=\"color: #00ff00; text-decoration-color: #00ff00; font-style: italic\">True</span><span style=\"font-weight: bold\">)</span>\n",
       "</pre>\n"
      ],
      "text/plain": [
       "Parameter containing:\n",
       "\u001b[1;35mtensor\u001b[0m\u001b[1m(\u001b[0m\u001b[1m[\u001b[0m \u001b[1;36m7.2966\u001b[0m,  \u001b[1;36m0.4560\u001b[0m,  \u001b[1;36m2.6698\u001b[0m, \u001b[1;36m-6.4225\u001b[0m\u001b[1m]\u001b[0m, \u001b[33mrequires_grad\u001b[0m=\u001b[3;92mTrue\u001b[0m\u001b[1m)\u001b[0m\n"
      ]
     },
     "metadata": {},
     "output_type": "display_data"
    },
    {
     "data": {
      "text/html": [
       "<pre style=\"white-space:pre;overflow-x:auto;line-height:normal;font-family:Menlo,'DejaVu Sans Mono',consolas,'Courier New',monospace\">Parameter containing:\n",
       "<span style=\"color: #800080; text-decoration-color: #800080; font-weight: bold\">tensor</span><span style=\"font-weight: bold\">([</span> <span style=\"color: #008080; text-decoration-color: #008080; font-weight: bold\">7.3977</span>,  <span style=\"color: #008080; text-decoration-color: #008080; font-weight: bold\">0.4523</span>,  <span style=\"color: #008080; text-decoration-color: #008080; font-weight: bold\">2.6802</span>, <span style=\"color: #008080; text-decoration-color: #008080; font-weight: bold\">-6.5297</span><span style=\"font-weight: bold\">]</span>, <span style=\"color: #808000; text-decoration-color: #808000\">requires_grad</span>=<span style=\"color: #00ff00; text-decoration-color: #00ff00; font-style: italic\">True</span><span style=\"font-weight: bold\">)</span>\n",
       "</pre>\n"
      ],
      "text/plain": [
       "Parameter containing:\n",
       "\u001b[1;35mtensor\u001b[0m\u001b[1m(\u001b[0m\u001b[1m[\u001b[0m \u001b[1;36m7.3977\u001b[0m,  \u001b[1;36m0.4523\u001b[0m,  \u001b[1;36m2.6802\u001b[0m, \u001b[1;36m-6.5297\u001b[0m\u001b[1m]\u001b[0m, \u001b[33mrequires_grad\u001b[0m=\u001b[3;92mTrue\u001b[0m\u001b[1m)\u001b[0m\n"
      ]
     },
     "metadata": {},
     "output_type": "display_data"
    }
   ],
   "source": [
    "# 训练模型\n",
    "\n",
    "N = 4\n",
    "model = BTModel(4)\n",
    "print(model.reward)\n",
    "datas = [(0, 1, 1), (2, 3, 1), (1, 3, 1)] # 比赛数据，也可以认为是偏好数据\n",
    "optimizer = optim.SGD(model.parameters(), lr=0.01)\n",
    "\n",
    "# 使用更大的epoch，模拟过拟合\n",
    "epochs = 100000\n",
    "print_step = epochs//10\n",
    "for i in range(epochs):\n",
    "    total_loss = 0\n",
    "    for data in datas:\n",
    "        id_i, id_j, label = data\n",
    "        optimizer.zero_grad()\n",
    "        \n",
    "        pred = model.forward_sigmoid(id_i, id_j)\n",
    "        loss = model.loss_sigmoid(pred, torch.tensor(label, dtype=torch.float32))\n",
    "        loss.backward()\n",
    "        optimizer.step()\n",
    "\n",
    "        total_loss += loss.item()\n",
    "    if i%print_step==0 : \n",
    "        print(f\"Epoch {i}, Loss: {total_loss}\")\n",
    "        print(model.reward) \n",
    "\n",
    "# 输出每个选手的强度参数\n",
    "print(model.reward)"
   ]
  }
 ],
 "metadata": {
  "kernelspec": {
   "display_name": "Python 3 (ipykernel)",
   "language": "python",
   "name": "python3"
  },
  "language_info": {
   "codemirror_mode": {
    "name": "ipython",
    "version": 3
   },
   "file_extension": ".py",
   "mimetype": "text/x-python",
   "name": "python",
   "nbconvert_exporter": "python",
   "pygments_lexer": "ipython3",
   "version": "3.9.18"
  }
 },
 "nbformat": 4,
 "nbformat_minor": 5
}
