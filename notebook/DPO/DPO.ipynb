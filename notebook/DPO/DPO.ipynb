{
 "cells": [
  {
   "cell_type": "markdown",
   "id": "13e62b35-a0f9-4bc7-838b-58df2c1d29e2",
   "metadata": {},
   "source": [
    "# 手撕 DPO"
   ]
  },
  {
   "cell_type": "markdown",
   "id": "834d647e-60a7-4530-be1b-46b8c5271668",
   "metadata": {},
   "source": [
    "$$\\mathcal{L}_{DPO}(\\pi;\\pi_{ref}) = -\\mathbb{E}_{(a, y_w, y_l)_{\\sim}\\mathcal{D}}[\\log \\sigma(\\beta\\log\\frac{\\pi_\\theta%(y_w|x)}{\\pi_{\\text{ref}}(y_w|x)}-\\beta\\log\\frac{\\pi_\\theta(y_l|x)}{\\pi_{\\text{ref}}(y_l|x)})]$$"
   ]
  },
  {
   "cell_type": "code",
   "execution_count": 1,
   "id": "f70e650a-96fe-4221-81a1-2e27272635df",
   "metadata": {},
   "outputs": [
    {
     "data": {
      "text/html": [
       "<pre style=\"white-space:pre;overflow-x:auto;line-height:normal;font-family:Menlo,'DejaVu Sans Mono',consolas,'Courier New',monospace\"><span style=\"color: #800080; text-decoration-color: #800080; font-weight: bold\">Linear</span><span style=\"font-weight: bold\">(</span><span style=\"color: #808000; text-decoration-color: #808000\">in_features</span>=<span style=\"color: #008080; text-decoration-color: #008080; font-weight: bold\">256</span>, <span style=\"color: #808000; text-decoration-color: #808000\">out_features</span>=<span style=\"color: #008080; text-decoration-color: #008080; font-weight: bold\">32</span>, <span style=\"color: #808000; text-decoration-color: #808000\">bias</span>=<span style=\"color: #ff0000; text-decoration-color: #ff0000; font-style: italic\">False</span><span style=\"font-weight: bold\">)</span>\n",
       "</pre>\n"
      ],
      "text/plain": [
       "\u001b[1;35mLinear\u001b[0m\u001b[1m(\u001b[0m\u001b[33min_features\u001b[0m=\u001b[1;36m256\u001b[0m, \u001b[33mout_features\u001b[0m=\u001b[1;36m32\u001b[0m, \u001b[33mbias\u001b[0m=\u001b[3;91mFalse\u001b[0m\u001b[1m)\u001b[0m\n"
      ]
     },
     "metadata": {},
     "output_type": "display_data"
    }
   ],
   "source": [
    "import torch\n",
    "import torch.nn.functional as F\n",
    "from transformers import LlamaConfig, LlamaForCausalLM\n",
    "torch.manual_seed(42)\n",
    "\n",
    "# 加载模型\n",
    "config = LlamaConfig(vocab_size = 32,      # default is 32000\n",
    "                    hidden_size = 256,\n",
    "                    intermediate_size = 512,\n",
    "                    num_hidden_layers = 2,\n",
    "                    num_attention_heads = 4,\n",
    "                    num_key_value_heads = 4,\n",
    "                    )\n",
    "ref_model = LlamaForCausalLM(config)\n",
    "ref_model.eval()\n",
    "model = LlamaForCausalLM(config)\n",
    "print(model.lm_head)"
   ]
  },
  {
   "cell_type": "code",
   "execution_count": 2,
   "id": "bd8197f5-f748-45c3-8fe0-64b107c62b5f",
   "metadata": {},
   "outputs": [],
   "source": [
    "# Create Preference data\n",
    "# Chosen :   [Prompt Token,  Response Chosen Token]\n",
    "# Rejected :   [Prompt Token,  Response Rejected Token]\n",
    "\n",
    "prompt_length = 6\n",
    "answer_length = 4\n",
    "prompt_chosen =   torch.tensor([[5, 8, 9, 10, 5, 3,   16, 29, 18, 17]], dtype=torch.int64)\n",
    "prompt_rejected = torch.tensor([[5, 8, 9, 10, 5, 3,   26, 14, 31, 0]], dtype=torch.int64)\n",
    "attention_mask =  torch.tensor([[1, 1, 1, 1,  1, 1,   1,  1,  1,  1]], dtype=torch.bool)\n",
    "label =  torch.tensor([[0, 0, 0, 0,  0, 0,   1,  1,  1,  1]], dtype=torch.bool)\n",
    "\n",
    "x_chosen = {'input_ids':prompt_chosen, 'attention_mask':attention_mask}\n",
    "x_rejected = {'input_ids':prompt_rejected, 'attention_mask':attention_mask}"
   ]
  },
  {
   "cell_type": "code",
   "execution_count": 3,
   "id": "751ed040-937f-4d69-9c67-8c82cb6bc4c6",
   "metadata": {},
   "outputs": [
    {
     "data": {
      "text/html": [
       "<pre style=\"white-space:pre;overflow-x:auto;line-height:normal;font-family:Menlo,'DejaVu Sans Mono',consolas,'Courier New',monospace\"><span style=\"color: #800080; text-decoration-color: #800080; font-weight: bold\">torch.Size</span><span style=\"font-weight: bold\">([</span><span style=\"color: #008080; text-decoration-color: #008080; font-weight: bold\">1</span>, <span style=\"color: #008080; text-decoration-color: #008080; font-weight: bold\">10</span>, <span style=\"color: #008080; text-decoration-color: #008080; font-weight: bold\">32</span><span style=\"font-weight: bold\">])</span>\n",
       "</pre>\n"
      ],
      "text/plain": [
       "\u001b[1;35mtorch.Size\u001b[0m\u001b[1m(\u001b[0m\u001b[1m[\u001b[0m\u001b[1;36m1\u001b[0m, \u001b[1;36m10\u001b[0m, \u001b[1;36m32\u001b[0m\u001b[1m]\u001b[0m\u001b[1m)\u001b[0m\n"
      ]
     },
     "metadata": {},
     "output_type": "display_data"
    },
    {
     "data": {
      "text/html": [
       "<pre style=\"white-space:pre;overflow-x:auto;line-height:normal;font-family:Menlo,'DejaVu Sans Mono',consolas,'Courier New',monospace\"><span style=\"color: #800080; text-decoration-color: #800080; font-weight: bold\">tensor</span><span style=\"font-weight: bold\">([</span> <span style=\"color: #008080; text-decoration-color: #008080; font-weight: bold\">0.2335</span>,  <span style=\"color: #008080; text-decoration-color: #008080; font-weight: bold\">0.3941</span>,  <span style=\"color: #008080; text-decoration-color: #008080; font-weight: bold\">0.1202</span>,  <span style=\"color: #008080; text-decoration-color: #008080; font-weight: bold\">0.4387</span>, <span style=\"color: #008080; text-decoration-color: #008080; font-weight: bold\">-0.1524</span>, <span style=\"color: #008080; text-decoration-color: #008080; font-weight: bold\">-0.3459</span>,  <span style=\"color: #008080; text-decoration-color: #008080; font-weight: bold\">0.2171</span>,  <span style=\"color: #008080; text-decoration-color: #008080; font-weight: bold\">0.3140</span>,\n",
       "         <span style=\"color: #008080; text-decoration-color: #008080; font-weight: bold\">0.2178</span>,  <span style=\"color: #008080; text-decoration-color: #008080; font-weight: bold\">0.5960</span>, <span style=\"color: #008080; text-decoration-color: #008080; font-weight: bold\">-0.2206</span>,  <span style=\"color: #008080; text-decoration-color: #008080; font-weight: bold\">0.0274</span>, <span style=\"color: #008080; text-decoration-color: #008080; font-weight: bold\">-0.1299</span>, <span style=\"color: #008080; text-decoration-color: #008080; font-weight: bold\">-0.1082</span>, <span style=\"color: #008080; text-decoration-color: #008080; font-weight: bold\">-0.3908</span>,  <span style=\"color: #008080; text-decoration-color: #008080; font-weight: bold\">0.0251</span>,\n",
       "         <span style=\"color: #008080; text-decoration-color: #008080; font-weight: bold\">0.0717</span>, <span style=\"color: #008080; text-decoration-color: #008080; font-weight: bold\">-0.0511</span>,  <span style=\"color: #008080; text-decoration-color: #008080; font-weight: bold\">0.4666</span>, <span style=\"color: #008080; text-decoration-color: #008080; font-weight: bold\">-0.1745</span>, <span style=\"color: #008080; text-decoration-color: #008080; font-weight: bold\">-0.0081</span>, <span style=\"color: #008080; text-decoration-color: #008080; font-weight: bold\">-0.2010</span>,  <span style=\"color: #008080; text-decoration-color: #008080; font-weight: bold\">0.7499</span>, <span style=\"color: #008080; text-decoration-color: #008080; font-weight: bold\">-0.0554</span>,\n",
       "         <span style=\"color: #008080; text-decoration-color: #008080; font-weight: bold\">0.1489</span>, <span style=\"color: #008080; text-decoration-color: #008080; font-weight: bold\">-0.0237</span>, <span style=\"color: #008080; text-decoration-color: #008080; font-weight: bold\">-0.0649</span>,  <span style=\"color: #008080; text-decoration-color: #008080; font-weight: bold\">0.4780</span>, <span style=\"color: #008080; text-decoration-color: #008080; font-weight: bold\">-0.2939</span>,  <span style=\"color: #008080; text-decoration-color: #008080; font-weight: bold\">0.1238</span>, <span style=\"color: #008080; text-decoration-color: #008080; font-weight: bold\">-0.3048</span>, <span style=\"color: #008080; text-decoration-color: #008080; font-weight: bold\">-0.2033</span><span style=\"font-weight: bold\">]</span>,\n",
       "       <span style=\"color: #808000; text-decoration-color: #808000\">grad_fn</span>=<span style=\"font-weight: bold\">&lt;</span><span style=\"color: #ff00ff; text-decoration-color: #ff00ff; font-weight: bold\">SliceBackward0</span><span style=\"font-weight: bold\">&gt;)</span>\n",
       "</pre>\n"
      ],
      "text/plain": [
       "\u001b[1;35mtensor\u001b[0m\u001b[1m(\u001b[0m\u001b[1m[\u001b[0m \u001b[1;36m0.2335\u001b[0m,  \u001b[1;36m0.3941\u001b[0m,  \u001b[1;36m0.1202\u001b[0m,  \u001b[1;36m0.4387\u001b[0m, \u001b[1;36m-0.1524\u001b[0m, \u001b[1;36m-0.3459\u001b[0m,  \u001b[1;36m0.2171\u001b[0m,  \u001b[1;36m0.3140\u001b[0m,\n",
       "         \u001b[1;36m0.2178\u001b[0m,  \u001b[1;36m0.5960\u001b[0m, \u001b[1;36m-0.2206\u001b[0m,  \u001b[1;36m0.0274\u001b[0m, \u001b[1;36m-0.1299\u001b[0m, \u001b[1;36m-0.1082\u001b[0m, \u001b[1;36m-0.3908\u001b[0m,  \u001b[1;36m0.0251\u001b[0m,\n",
       "         \u001b[1;36m0.0717\u001b[0m, \u001b[1;36m-0.0511\u001b[0m,  \u001b[1;36m0.4666\u001b[0m, \u001b[1;36m-0.1745\u001b[0m, \u001b[1;36m-0.0081\u001b[0m, \u001b[1;36m-0.2010\u001b[0m,  \u001b[1;36m0.7499\u001b[0m, \u001b[1;36m-0.0554\u001b[0m,\n",
       "         \u001b[1;36m0.1489\u001b[0m, \u001b[1;36m-0.0237\u001b[0m, \u001b[1;36m-0.0649\u001b[0m,  \u001b[1;36m0.4780\u001b[0m, \u001b[1;36m-0.2939\u001b[0m,  \u001b[1;36m0.1238\u001b[0m, \u001b[1;36m-0.3048\u001b[0m, \u001b[1;36m-0.2033\u001b[0m\u001b[1m]\u001b[0m,\n",
       "       \u001b[33mgrad_fn\u001b[0m=\u001b[1m<\u001b[0m\u001b[1;95mSliceBackward0\u001b[0m\u001b[1m>\u001b[0m\u001b[1m)\u001b[0m\n"
      ]
     },
     "metadata": {},
     "output_type": "display_data"
    },
    {
     "data": {
      "text/html": [
       "<pre style=\"white-space:pre;overflow-x:auto;line-height:normal;font-family:Menlo,'DejaVu Sans Mono',consolas,'Courier New',monospace\"><span style=\"color: #800080; text-decoration-color: #800080; font-weight: bold\">torch.Size</span><span style=\"font-weight: bold\">([</span><span style=\"color: #008080; text-decoration-color: #008080; font-weight: bold\">1</span>, <span style=\"color: #008080; text-decoration-color: #008080; font-weight: bold\">10</span>, <span style=\"color: #008080; text-decoration-color: #008080; font-weight: bold\">32</span><span style=\"font-weight: bold\">])</span>\n",
       "</pre>\n"
      ],
      "text/plain": [
       "\u001b[1;35mtorch.Size\u001b[0m\u001b[1m(\u001b[0m\u001b[1m[\u001b[0m\u001b[1;36m1\u001b[0m, \u001b[1;36m10\u001b[0m, \u001b[1;36m32\u001b[0m\u001b[1m]\u001b[0m\u001b[1m)\u001b[0m\n"
      ]
     },
     "metadata": {},
     "output_type": "display_data"
    },
    {
     "data": {
      "text/html": [
       "<pre style=\"white-space:pre;overflow-x:auto;line-height:normal;font-family:Menlo,'DejaVu Sans Mono',consolas,'Courier New',monospace\"><span style=\"color: #800080; text-decoration-color: #800080; font-weight: bold\">tensor</span><span style=\"font-weight: bold\">([[</span><span style=\"color: #008080; text-decoration-color: #008080; font-weight: bold\">-3.6874</span>, <span style=\"color: #008080; text-decoration-color: #008080; font-weight: bold\">-3.6279</span>, <span style=\"color: #008080; text-decoration-color: #008080; font-weight: bold\">-2.6626</span>, <span style=\"color: #008080; text-decoration-color: #008080; font-weight: bold\">-4.0727</span>, <span style=\"color: #008080; text-decoration-color: #008080; font-weight: bold\">-4.0226</span>, <span style=\"color: #008080; text-decoration-color: #008080; font-weight: bold\">-3.1744</span>, <span style=\"color: #008080; text-decoration-color: #008080; font-weight: bold\">-3.5468</span>, <span style=\"color: #008080; text-decoration-color: #008080; font-weight: bold\">-3.4274</span>,\n",
       "         <span style=\"color: #008080; text-decoration-color: #008080; font-weight: bold\">-3.1006</span>, <span style=\"color: #008080; text-decoration-color: #008080; font-weight: bold\">-3.7910</span><span style=\"font-weight: bold\">]]</span>, <span style=\"color: #808000; text-decoration-color: #808000\">grad_fn</span>=<span style=\"font-weight: bold\">&lt;</span><span style=\"color: #ff00ff; text-decoration-color: #ff00ff; font-weight: bold\">SqueezeBackward1</span><span style=\"font-weight: bold\">&gt;)</span>\n",
       "</pre>\n"
      ],
      "text/plain": [
       "\u001b[1;35mtensor\u001b[0m\u001b[1m(\u001b[0m\u001b[1m[\u001b[0m\u001b[1m[\u001b[0m\u001b[1;36m-3.6874\u001b[0m, \u001b[1;36m-3.6279\u001b[0m, \u001b[1;36m-2.6626\u001b[0m, \u001b[1;36m-4.0727\u001b[0m, \u001b[1;36m-4.0226\u001b[0m, \u001b[1;36m-3.1744\u001b[0m, \u001b[1;36m-3.5468\u001b[0m, \u001b[1;36m-3.4274\u001b[0m,\n",
       "         \u001b[1;36m-3.1006\u001b[0m, \u001b[1;36m-3.7910\u001b[0m\u001b[1m]\u001b[0m\u001b[1m]\u001b[0m, \u001b[33mgrad_fn\u001b[0m=\u001b[1m<\u001b[0m\u001b[1;95mSqueezeBackward1\u001b[0m\u001b[1m>\u001b[0m\u001b[1m)\u001b[0m\n"
      ]
     },
     "metadata": {},
     "output_type": "display_data"
    }
   ],
   "source": [
    "# Calculative Token-Level Policy \n",
    "\n",
    "# test for get logits and logprob\n",
    "output = ref_model(**x_chosen)\n",
    "print(output.logits.shape)\n",
    "print(output.logits[0,8,:])\n",
    "print(output.logits.shape)\n",
    "\n",
    "# how DPO get target policy\n",
    "# output.logits.log_softmax(-1)\n",
    "def get_probs(logits, labels):\n",
    "    per_token_logps = torch.gather(logits.log_softmax(-1), dim=2, \n",
    "                                   index=labels.unsqueeze(2)).squeeze(2)\n",
    "    return per_token_logps\n",
    "    \n",
    "probs_chosen = get_probs(output.logits, prompt_chosen)\n",
    "print(probs_chosen)"
   ]
  },
  {
   "cell_type": "code",
   "execution_count": 4,
   "id": "87ad8503-58ff-4b49-8813-36d064ac8705",
   "metadata": {},
   "outputs": [
    {
     "data": {
      "text/html": [
       "<pre style=\"white-space:pre;overflow-x:auto;line-height:normal;font-family:Menlo,'DejaVu Sans Mono',consolas,'Courier New',monospace\"><span style=\"color: #800080; text-decoration-color: #800080; font-weight: bold\">tensor</span><span style=\"font-weight: bold\">([[[</span><span style=\"color: #008080; text-decoration-color: #008080; font-weight: bold\">-3.2902</span>, <span style=\"color: #008080; text-decoration-color: #008080; font-weight: bold\">-3.2138</span>, <span style=\"color: #008080; text-decoration-color: #008080; font-weight: bold\">-3.7490</span>, <span style=\"color: #008080; text-decoration-color: #008080; font-weight: bold\">-3.6660</span>, <span style=\"color: #008080; text-decoration-color: #008080; font-weight: bold\">-2.9870</span>, <span style=\"color: #008080; text-decoration-color: #008080; font-weight: bold\">-3.6874</span>, <span style=\"color: #008080; text-decoration-color: #008080; font-weight: bold\">-3.3251</span>,\n",
       "          <span style=\"color: #008080; text-decoration-color: #008080; font-weight: bold\">-3.6143</span>, <span style=\"color: #008080; text-decoration-color: #008080; font-weight: bold\">-3.7800</span>, <span style=\"color: #008080; text-decoration-color: #008080; font-weight: bold\">-3.0252</span>, <span style=\"color: #008080; text-decoration-color: #008080; font-weight: bold\">-3.6640</span>, <span style=\"color: #008080; text-decoration-color: #008080; font-weight: bold\">-3.6796</span>, <span style=\"color: #008080; text-decoration-color: #008080; font-weight: bold\">-3.6402</span>, <span style=\"color: #008080; text-decoration-color: #008080; font-weight: bold\">-3.9577</span>,\n",
       "          <span style=\"color: #008080; text-decoration-color: #008080; font-weight: bold\">-3.7432</span>, <span style=\"color: #008080; text-decoration-color: #008080; font-weight: bold\">-3.5318</span>, <span style=\"color: #008080; text-decoration-color: #008080; font-weight: bold\">-3.8881</span>, <span style=\"color: #008080; text-decoration-color: #008080; font-weight: bold\">-3.6711</span>, <span style=\"color: #008080; text-decoration-color: #008080; font-weight: bold\">-3.4963</span>, <span style=\"color: #008080; text-decoration-color: #008080; font-weight: bold\">-3.7604</span>, <span style=\"color: #008080; text-decoration-color: #008080; font-weight: bold\">-3.8873</span>,\n",
       "          <span style=\"color: #008080; text-decoration-color: #008080; font-weight: bold\">-3.7409</span>, <span style=\"color: #008080; text-decoration-color: #008080; font-weight: bold\">-2.3458</span>, <span style=\"color: #008080; text-decoration-color: #008080; font-weight: bold\">-3.3203</span>, <span style=\"color: #008080; text-decoration-color: #008080; font-weight: bold\">-3.3287</span>, <span style=\"color: #008080; text-decoration-color: #008080; font-weight: bold\">-3.4336</span>, <span style=\"color: #008080; text-decoration-color: #008080; font-weight: bold\">-3.5191</span>, <span style=\"color: #008080; text-decoration-color: #008080; font-weight: bold\">-3.1800</span>,\n",
       "          <span style=\"color: #008080; text-decoration-color: #008080; font-weight: bold\">-3.8237</span>, <span style=\"color: #008080; text-decoration-color: #008080; font-weight: bold\">-3.7377</span>, <span style=\"color: #008080; text-decoration-color: #008080; font-weight: bold\">-3.6715</span>, <span style=\"color: #008080; text-decoration-color: #008080; font-weight: bold\">-3.5596</span><span style=\"font-weight: bold\">]</span>,\n",
       "         <span style=\"font-weight: bold\">[</span><span style=\"color: #008080; text-decoration-color: #008080; font-weight: bold\">-3.2976</span>, <span style=\"color: #008080; text-decoration-color: #008080; font-weight: bold\">-3.5471</span>, <span style=\"color: #008080; text-decoration-color: #008080; font-weight: bold\">-3.5273</span>, <span style=\"color: #008080; text-decoration-color: #008080; font-weight: bold\">-3.3370</span>, <span style=\"color: #008080; text-decoration-color: #008080; font-weight: bold\">-3.1048</span>, <span style=\"color: #008080; text-decoration-color: #008080; font-weight: bold\">-3.7331</span>, <span style=\"color: #008080; text-decoration-color: #008080; font-weight: bold\">-3.5371</span>,\n",
       "          <span style=\"color: #008080; text-decoration-color: #008080; font-weight: bold\">-3.3872</span>, <span style=\"color: #008080; text-decoration-color: #008080; font-weight: bold\">-3.6279</span>, <span style=\"color: #008080; text-decoration-color: #008080; font-weight: bold\">-2.7862</span>, <span style=\"color: #008080; text-decoration-color: #008080; font-weight: bold\">-3.9414</span>, <span style=\"color: #008080; text-decoration-color: #008080; font-weight: bold\">-3.9196</span>, <span style=\"color: #008080; text-decoration-color: #008080; font-weight: bold\">-3.6534</span>, <span style=\"color: #008080; text-decoration-color: #008080; font-weight: bold\">-3.5712</span>,\n",
       "          <span style=\"color: #008080; text-decoration-color: #008080; font-weight: bold\">-3.8038</span>, <span style=\"color: #008080; text-decoration-color: #008080; font-weight: bold\">-3.5710</span>, <span style=\"color: #008080; text-decoration-color: #008080; font-weight: bold\">-3.4397</span>, <span style=\"color: #008080; text-decoration-color: #008080; font-weight: bold\">-3.8901</span>, <span style=\"color: #008080; text-decoration-color: #008080; font-weight: bold\">-3.4752</span>, <span style=\"color: #008080; text-decoration-color: #008080; font-weight: bold\">-3.8019</span>, <span style=\"color: #008080; text-decoration-color: #008080; font-weight: bold\">-3.6840</span>,\n",
       "          <span style=\"color: #008080; text-decoration-color: #008080; font-weight: bold\">-3.8382</span>, <span style=\"color: #008080; text-decoration-color: #008080; font-weight: bold\">-2.5267</span>, <span style=\"color: #008080; text-decoration-color: #008080; font-weight: bold\">-3.3160</span>, <span style=\"color: #008080; text-decoration-color: #008080; font-weight: bold\">-3.3417</span>, <span style=\"color: #008080; text-decoration-color: #008080; font-weight: bold\">-3.6138</span>, <span style=\"color: #008080; text-decoration-color: #008080; font-weight: bold\">-3.5495</span>, <span style=\"color: #008080; text-decoration-color: #008080; font-weight: bold\">-3.2080</span>,\n",
       "          <span style=\"color: #008080; text-decoration-color: #008080; font-weight: bold\">-3.9328</span>, <span style=\"color: #008080; text-decoration-color: #008080; font-weight: bold\">-3.3334</span>, <span style=\"color: #008080; text-decoration-color: #008080; font-weight: bold\">-4.0722</span>, <span style=\"color: #008080; text-decoration-color: #008080; font-weight: bold\">-3.4046</span><span style=\"font-weight: bold\">]</span>,\n",
       "         <span style=\"font-weight: bold\">[</span><span style=\"color: #008080; text-decoration-color: #008080; font-weight: bold\">-3.5412</span>, <span style=\"color: #008080; text-decoration-color: #008080; font-weight: bold\">-3.4205</span>, <span style=\"color: #008080; text-decoration-color: #008080; font-weight: bold\">-3.4203</span>, <span style=\"color: #008080; text-decoration-color: #008080; font-weight: bold\">-3.2431</span>, <span style=\"color: #008080; text-decoration-color: #008080; font-weight: bold\">-3.5709</span>, <span style=\"color: #008080; text-decoration-color: #008080; font-weight: bold\">-3.9048</span>, <span style=\"color: #008080; text-decoration-color: #008080; font-weight: bold\">-3.4131</span>,\n",
       "          <span style=\"color: #008080; text-decoration-color: #008080; font-weight: bold\">-3.4212</span>, <span style=\"color: #008080; text-decoration-color: #008080; font-weight: bold\">-3.3649</span>, <span style=\"color: #008080; text-decoration-color: #008080; font-weight: bold\">-2.6626</span>, <span style=\"color: #008080; text-decoration-color: #008080; font-weight: bold\">-4.1131</span>, <span style=\"color: #008080; text-decoration-color: #008080; font-weight: bold\">-4.0042</span>, <span style=\"color: #008080; text-decoration-color: #008080; font-weight: bold\">-3.8215</span>, <span style=\"color: #008080; text-decoration-color: #008080; font-weight: bold\">-3.5610</span>,\n",
       "          <span style=\"color: #008080; text-decoration-color: #008080; font-weight: bold\">-3.7950</span>, <span style=\"color: #008080; text-decoration-color: #008080; font-weight: bold\">-3.7467</span>, <span style=\"color: #008080; text-decoration-color: #008080; font-weight: bold\">-3.5497</span>, <span style=\"color: #008080; text-decoration-color: #008080; font-weight: bold\">-3.9851</span>, <span style=\"color: #008080; text-decoration-color: #008080; font-weight: bold\">-3.2897</span>, <span style=\"color: #008080; text-decoration-color: #008080; font-weight: bold\">-3.7755</span>, <span style=\"color: #008080; text-decoration-color: #008080; font-weight: bold\">-3.4681</span>,\n",
       "          <span style=\"color: #008080; text-decoration-color: #008080; font-weight: bold\">-3.7531</span>, <span style=\"color: #008080; text-decoration-color: #008080; font-weight: bold\">-2.7408</span>, <span style=\"color: #008080; text-decoration-color: #008080; font-weight: bold\">-3.4161</span>, <span style=\"color: #008080; text-decoration-color: #008080; font-weight: bold\">-3.3198</span>, <span style=\"color: #008080; text-decoration-color: #008080; font-weight: bold\">-3.4832</span>, <span style=\"color: #008080; text-decoration-color: #008080; font-weight: bold\">-3.4885</span>, <span style=\"color: #008080; text-decoration-color: #008080; font-weight: bold\">-2.8369</span>,\n",
       "          <span style=\"color: #008080; text-decoration-color: #008080; font-weight: bold\">-3.8967</span>, <span style=\"color: #008080; text-decoration-color: #008080; font-weight: bold\">-3.4548</span>, <span style=\"color: #008080; text-decoration-color: #008080; font-weight: bold\">-3.9023</span>, <span style=\"color: #008080; text-decoration-color: #008080; font-weight: bold\">-3.5144</span><span style=\"font-weight: bold\">]</span>,\n",
       "         <span style=\"font-weight: bold\">[</span><span style=\"color: #008080; text-decoration-color: #008080; font-weight: bold\">-3.3646</span>, <span style=\"color: #008080; text-decoration-color: #008080; font-weight: bold\">-3.1722</span>, <span style=\"color: #008080; text-decoration-color: #008080; font-weight: bold\">-3.4662</span>, <span style=\"color: #008080; text-decoration-color: #008080; font-weight: bold\">-3.3786</span>, <span style=\"color: #008080; text-decoration-color: #008080; font-weight: bold\">-3.3745</span>, <span style=\"color: #008080; text-decoration-color: #008080; font-weight: bold\">-4.1003</span>, <span style=\"color: #008080; text-decoration-color: #008080; font-weight: bold\">-3.3970</span>,\n",
       "          <span style=\"color: #008080; text-decoration-color: #008080; font-weight: bold\">-3.5749</span>, <span style=\"color: #008080; text-decoration-color: #008080; font-weight: bold\">-3.4204</span>, <span style=\"color: #008080; text-decoration-color: #008080; font-weight: bold\">-2.5617</span>, <span style=\"color: #008080; text-decoration-color: #008080; font-weight: bold\">-4.0727</span>, <span style=\"color: #008080; text-decoration-color: #008080; font-weight: bold\">-4.0829</span>, <span style=\"color: #008080; text-decoration-color: #008080; font-weight: bold\">-3.6359</span>, <span style=\"color: #008080; text-decoration-color: #008080; font-weight: bold\">-3.6954</span>,\n",
       "          <span style=\"color: #008080; text-decoration-color: #008080; font-weight: bold\">-3.8370</span>, <span style=\"color: #008080; text-decoration-color: #008080; font-weight: bold\">-3.7215</span>, <span style=\"color: #008080; text-decoration-color: #008080; font-weight: bold\">-3.5478</span>, <span style=\"color: #008080; text-decoration-color: #008080; font-weight: bold\">-3.8858</span>, <span style=\"color: #008080; text-decoration-color: #008080; font-weight: bold\">-3.4534</span>, <span style=\"color: #008080; text-decoration-color: #008080; font-weight: bold\">-3.7407</span>, <span style=\"color: #008080; text-decoration-color: #008080; font-weight: bold\">-3.7694</span>,\n",
       "          <span style=\"color: #008080; text-decoration-color: #008080; font-weight: bold\">-3.7535</span>, <span style=\"color: #008080; text-decoration-color: #008080; font-weight: bold\">-2.9297</span>, <span style=\"color: #008080; text-decoration-color: #008080; font-weight: bold\">-3.5324</span>, <span style=\"color: #008080; text-decoration-color: #008080; font-weight: bold\">-3.3252</span>, <span style=\"color: #008080; text-decoration-color: #008080; font-weight: bold\">-3.2507</span>, <span style=\"color: #008080; text-decoration-color: #008080; font-weight: bold\">-3.6014</span>, <span style=\"color: #008080; text-decoration-color: #008080; font-weight: bold\">-2.8289</span>,\n",
       "          <span style=\"color: #008080; text-decoration-color: #008080; font-weight: bold\">-3.8189</span>, <span style=\"color: #008080; text-decoration-color: #008080; font-weight: bold\">-3.3075</span>, <span style=\"color: #008080; text-decoration-color: #008080; font-weight: bold\">-3.7601</span>, <span style=\"color: #008080; text-decoration-color: #008080; font-weight: bold\">-3.5608</span><span style=\"font-weight: bold\">]</span>,\n",
       "         <span style=\"font-weight: bold\">[</span><span style=\"color: #008080; text-decoration-color: #008080; font-weight: bold\">-3.2639</span>, <span style=\"color: #008080; text-decoration-color: #008080; font-weight: bold\">-3.4379</span>, <span style=\"color: #008080; text-decoration-color: #008080; font-weight: bold\">-3.5672</span>, <span style=\"color: #008080; text-decoration-color: #008080; font-weight: bold\">-3.4988</span>, <span style=\"color: #008080; text-decoration-color: #008080; font-weight: bold\">-3.3197</span>, <span style=\"color: #008080; text-decoration-color: #008080; font-weight: bold\">-4.0226</span>, <span style=\"color: #008080; text-decoration-color: #008080; font-weight: bold\">-3.3491</span>,\n",
       "          <span style=\"color: #008080; text-decoration-color: #008080; font-weight: bold\">-3.5237</span>, <span style=\"color: #008080; text-decoration-color: #008080; font-weight: bold\">-3.5369</span>, <span style=\"color: #008080; text-decoration-color: #008080; font-weight: bold\">-2.6564</span>, <span style=\"color: #008080; text-decoration-color: #008080; font-weight: bold\">-3.8937</span>, <span style=\"color: #008080; text-decoration-color: #008080; font-weight: bold\">-3.8750</span>, <span style=\"color: #008080; text-decoration-color: #008080; font-weight: bold\">-3.7379</span>, <span style=\"color: #008080; text-decoration-color: #008080; font-weight: bold\">-3.6342</span>,\n",
       "          <span style=\"color: #008080; text-decoration-color: #008080; font-weight: bold\">-3.9093</span>, <span style=\"color: #008080; text-decoration-color: #008080; font-weight: bold\">-3.7644</span>, <span style=\"color: #008080; text-decoration-color: #008080; font-weight: bold\">-3.6159</span>, <span style=\"color: #008080; text-decoration-color: #008080; font-weight: bold\">-3.6758</span>, <span style=\"color: #008080; text-decoration-color: #008080; font-weight: bold\">-3.3742</span>, <span style=\"color: #008080; text-decoration-color: #008080; font-weight: bold\">-3.4683</span>, <span style=\"color: #008080; text-decoration-color: #008080; font-weight: bold\">-3.7604</span>,\n",
       "          <span style=\"color: #008080; text-decoration-color: #008080; font-weight: bold\">-3.7398</span>, <span style=\"color: #008080; text-decoration-color: #008080; font-weight: bold\">-2.6851</span>, <span style=\"color: #008080; text-decoration-color: #008080; font-weight: bold\">-3.4664</span>, <span style=\"color: #008080; text-decoration-color: #008080; font-weight: bold\">-3.3941</span>, <span style=\"color: #008080; text-decoration-color: #008080; font-weight: bold\">-3.3081</span>, <span style=\"color: #008080; text-decoration-color: #008080; font-weight: bold\">-3.4731</span>, <span style=\"color: #008080; text-decoration-color: #008080; font-weight: bold\">-3.0476</span>,\n",
       "          <span style=\"color: #008080; text-decoration-color: #008080; font-weight: bold\">-3.8109</span>, <span style=\"color: #008080; text-decoration-color: #008080; font-weight: bold\">-3.4979</span>, <span style=\"color: #008080; text-decoration-color: #008080; font-weight: bold\">-3.8165</span>, <span style=\"color: #008080; text-decoration-color: #008080; font-weight: bold\">-3.4593</span><span style=\"font-weight: bold\">]</span>,\n",
       "         <span style=\"font-weight: bold\">[</span><span style=\"color: #008080; text-decoration-color: #008080; font-weight: bold\">-3.2613</span>, <span style=\"color: #008080; text-decoration-color: #008080; font-weight: bold\">-3.3111</span>, <span style=\"color: #008080; text-decoration-color: #008080; font-weight: bold\">-3.5770</span>, <span style=\"color: #008080; text-decoration-color: #008080; font-weight: bold\">-3.1744</span>, <span style=\"color: #008080; text-decoration-color: #008080; font-weight: bold\">-3.3494</span>, <span style=\"color: #008080; text-decoration-color: #008080; font-weight: bold\">-3.8931</span>, <span style=\"color: #008080; text-decoration-color: #008080; font-weight: bold\">-3.3827</span>,\n",
       "          <span style=\"color: #008080; text-decoration-color: #008080; font-weight: bold\">-3.2431</span>, <span style=\"color: #008080; text-decoration-color: #008080; font-weight: bold\">-3.4753</span>, <span style=\"color: #008080; text-decoration-color: #008080; font-weight: bold\">-2.7371</span>, <span style=\"color: #008080; text-decoration-color: #008080; font-weight: bold\">-3.7716</span>, <span style=\"color: #008080; text-decoration-color: #008080; font-weight: bold\">-3.9218</span>, <span style=\"color: #008080; text-decoration-color: #008080; font-weight: bold\">-3.7399</span>, <span style=\"color: #008080; text-decoration-color: #008080; font-weight: bold\">-3.5866</span>,\n",
       "          <span style=\"color: #008080; text-decoration-color: #008080; font-weight: bold\">-4.0214</span>, <span style=\"color: #008080; text-decoration-color: #008080; font-weight: bold\">-3.7425</span>, <span style=\"color: #008080; text-decoration-color: #008080; font-weight: bold\">-3.5905</span>, <span style=\"color: #008080; text-decoration-color: #008080; font-weight: bold\">-3.6527</span>, <span style=\"color: #008080; text-decoration-color: #008080; font-weight: bold\">-3.3367</span>, <span style=\"color: #008080; text-decoration-color: #008080; font-weight: bold\">-3.6169</span>, <span style=\"color: #008080; text-decoration-color: #008080; font-weight: bold\">-3.8964</span>,\n",
       "          <span style=\"color: #008080; text-decoration-color: #008080; font-weight: bold\">-3.7502</span>, <span style=\"color: #008080; text-decoration-color: #008080; font-weight: bold\">-2.8066</span>, <span style=\"color: #008080; text-decoration-color: #008080; font-weight: bold\">-3.6082</span>, <span style=\"color: #008080; text-decoration-color: #008080; font-weight: bold\">-3.2697</span>, <span style=\"color: #008080; text-decoration-color: #008080; font-weight: bold\">-3.4686</span>, <span style=\"color: #008080; text-decoration-color: #008080; font-weight: bold\">-3.5153</span>, <span style=\"color: #008080; text-decoration-color: #008080; font-weight: bold\">-2.9508</span>,\n",
       "          <span style=\"color: #008080; text-decoration-color: #008080; font-weight: bold\">-3.7926</span>, <span style=\"color: #008080; text-decoration-color: #008080; font-weight: bold\">-3.6154</span>, <span style=\"color: #008080; text-decoration-color: #008080; font-weight: bold\">-3.9131</span>, <span style=\"color: #008080; text-decoration-color: #008080; font-weight: bold\">-3.5969</span><span style=\"font-weight: bold\">]</span>,\n",
       "         <span style=\"font-weight: bold\">[</span><span style=\"color: #008080; text-decoration-color: #008080; font-weight: bold\">-3.2797</span>, <span style=\"color: #008080; text-decoration-color: #008080; font-weight: bold\">-3.2709</span>, <span style=\"color: #008080; text-decoration-color: #008080; font-weight: bold\">-3.5135</span>, <span style=\"color: #008080; text-decoration-color: #008080; font-weight: bold\">-3.1509</span>, <span style=\"color: #008080; text-decoration-color: #008080; font-weight: bold\">-3.6146</span>, <span style=\"color: #008080; text-decoration-color: #008080; font-weight: bold\">-4.0005</span>, <span style=\"color: #008080; text-decoration-color: #008080; font-weight: bold\">-3.2225</span>,\n",
       "          <span style=\"color: #008080; text-decoration-color: #008080; font-weight: bold\">-3.5461</span>, <span style=\"color: #008080; text-decoration-color: #008080; font-weight: bold\">-3.3713</span>, <span style=\"color: #008080; text-decoration-color: #008080; font-weight: bold\">-2.8482</span>, <span style=\"color: #008080; text-decoration-color: #008080; font-weight: bold\">-3.7792</span>, <span style=\"color: #008080; text-decoration-color: #008080; font-weight: bold\">-3.9033</span>, <span style=\"color: #008080; text-decoration-color: #008080; font-weight: bold\">-3.6498</span>, <span style=\"color: #008080; text-decoration-color: #008080; font-weight: bold\">-3.5592</span>,\n",
       "          <span style=\"color: #008080; text-decoration-color: #008080; font-weight: bold\">-3.9916</span>, <span style=\"color: #008080; text-decoration-color: #008080; font-weight: bold\">-3.6611</span>, <span style=\"color: #008080; text-decoration-color: #008080; font-weight: bold\">-3.5468</span>, <span style=\"color: #008080; text-decoration-color: #008080; font-weight: bold\">-3.8267</span>, <span style=\"color: #008080; text-decoration-color: #008080; font-weight: bold\">-3.3360</span>, <span style=\"color: #008080; text-decoration-color: #008080; font-weight: bold\">-3.5470</span>, <span style=\"color: #008080; text-decoration-color: #008080; font-weight: bold\">-3.8017</span>,\n",
       "          <span style=\"color: #008080; text-decoration-color: #008080; font-weight: bold\">-3.9146</span>, <span style=\"color: #008080; text-decoration-color: #008080; font-weight: bold\">-2.6779</span>, <span style=\"color: #008080; text-decoration-color: #008080; font-weight: bold\">-3.5380</span>, <span style=\"color: #008080; text-decoration-color: #008080; font-weight: bold\">-3.3554</span>, <span style=\"color: #008080; text-decoration-color: #008080; font-weight: bold\">-3.4188</span>, <span style=\"color: #008080; text-decoration-color: #008080; font-weight: bold\">-3.4009</span>, <span style=\"color: #008080; text-decoration-color: #008080; font-weight: bold\">-3.0591</span>,\n",
       "          <span style=\"color: #008080; text-decoration-color: #008080; font-weight: bold\">-3.8032</span>, <span style=\"color: #008080; text-decoration-color: #008080; font-weight: bold\">-3.4218</span>, <span style=\"color: #008080; text-decoration-color: #008080; font-weight: bold\">-3.8227</span>, <span style=\"color: #008080; text-decoration-color: #008080; font-weight: bold\">-3.7243</span><span style=\"font-weight: bold\">]</span>,\n",
       "         <span style=\"font-weight: bold\">[</span><span style=\"color: #008080; text-decoration-color: #008080; font-weight: bold\">-3.3999</span>, <span style=\"color: #008080; text-decoration-color: #008080; font-weight: bold\">-3.2339</span>, <span style=\"color: #008080; text-decoration-color: #008080; font-weight: bold\">-3.3995</span>, <span style=\"color: #008080; text-decoration-color: #008080; font-weight: bold\">-3.1267</span>, <span style=\"color: #008080; text-decoration-color: #008080; font-weight: bold\">-3.6437</span>, <span style=\"color: #008080; text-decoration-color: #008080; font-weight: bold\">-3.9911</span>, <span style=\"color: #008080; text-decoration-color: #008080; font-weight: bold\">-3.4473</span>,\n",
       "          <span style=\"color: #008080; text-decoration-color: #008080; font-weight: bold\">-3.5618</span>, <span style=\"color: #008080; text-decoration-color: #008080; font-weight: bold\">-3.2893</span>, <span style=\"color: #008080; text-decoration-color: #008080; font-weight: bold\">-2.8276</span>, <span style=\"color: #008080; text-decoration-color: #008080; font-weight: bold\">-3.7414</span>, <span style=\"color: #008080; text-decoration-color: #008080; font-weight: bold\">-3.6710</span>, <span style=\"color: #008080; text-decoration-color: #008080; font-weight: bold\">-3.7634</span>, <span style=\"color: #008080; text-decoration-color: #008080; font-weight: bold\">-3.5784</span>,\n",
       "          <span style=\"color: #008080; text-decoration-color: #008080; font-weight: bold\">-3.9648</span>, <span style=\"color: #008080; text-decoration-color: #008080; font-weight: bold\">-3.6445</span>, <span style=\"color: #008080; text-decoration-color: #008080; font-weight: bold\">-3.5451</span>, <span style=\"color: #008080; text-decoration-color: #008080; font-weight: bold\">-3.7410</span>, <span style=\"color: #008080; text-decoration-color: #008080; font-weight: bold\">-3.3993</span>, <span style=\"color: #008080; text-decoration-color: #008080; font-weight: bold\">-3.7579</span>, <span style=\"color: #008080; text-decoration-color: #008080; font-weight: bold\">-3.6546</span>,\n",
       "          <span style=\"color: #008080; text-decoration-color: #008080; font-weight: bold\">-3.7361</span>, <span style=\"color: #008080; text-decoration-color: #008080; font-weight: bold\">-2.8302</span>, <span style=\"color: #008080; text-decoration-color: #008080; font-weight: bold\">-3.6128</span>, <span style=\"color: #008080; text-decoration-color: #008080; font-weight: bold\">-3.3697</span>, <span style=\"color: #008080; text-decoration-color: #008080; font-weight: bold\">-3.3266</span>, <span style=\"color: #008080; text-decoration-color: #008080; font-weight: bold\">-3.4313</span>, <span style=\"color: #008080; text-decoration-color: #008080; font-weight: bold\">-2.7773</span>,\n",
       "          <span style=\"color: #008080; text-decoration-color: #008080; font-weight: bold\">-3.8560</span>, <span style=\"color: #008080; text-decoration-color: #008080; font-weight: bold\">-3.4274</span>, <span style=\"color: #008080; text-decoration-color: #008080; font-weight: bold\">-3.9309</span>, <span style=\"color: #008080; text-decoration-color: #008080; font-weight: bold\">-3.9051</span><span style=\"font-weight: bold\">]</span>,\n",
       "         <span style=\"font-weight: bold\">[</span><span style=\"color: #008080; text-decoration-color: #008080; font-weight: bold\">-3.3336</span>, <span style=\"color: #008080; text-decoration-color: #008080; font-weight: bold\">-3.1731</span>, <span style=\"color: #008080; text-decoration-color: #008080; font-weight: bold\">-3.4470</span>, <span style=\"color: #008080; text-decoration-color: #008080; font-weight: bold\">-3.1285</span>, <span style=\"color: #008080; text-decoration-color: #008080; font-weight: bold\">-3.7196</span>, <span style=\"color: #008080; text-decoration-color: #008080; font-weight: bold\">-3.9131</span>, <span style=\"color: #008080; text-decoration-color: #008080; font-weight: bold\">-3.3501</span>,\n",
       "          <span style=\"color: #008080; text-decoration-color: #008080; font-weight: bold\">-3.2531</span>, <span style=\"color: #008080; text-decoration-color: #008080; font-weight: bold\">-3.3494</span>, <span style=\"color: #008080; text-decoration-color: #008080; font-weight: bold\">-2.9712</span>, <span style=\"color: #008080; text-decoration-color: #008080; font-weight: bold\">-3.7877</span>, <span style=\"color: #008080; text-decoration-color: #008080; font-weight: bold\">-3.5398</span>, <span style=\"color: #008080; text-decoration-color: #008080; font-weight: bold\">-3.6971</span>, <span style=\"color: #008080; text-decoration-color: #008080; font-weight: bold\">-3.6754</span>,\n",
       "          <span style=\"color: #008080; text-decoration-color: #008080; font-weight: bold\">-3.9580</span>, <span style=\"color: #008080; text-decoration-color: #008080; font-weight: bold\">-3.5421</span>, <span style=\"color: #008080; text-decoration-color: #008080; font-weight: bold\">-3.4955</span>, <span style=\"color: #008080; text-decoration-color: #008080; font-weight: bold\">-3.6183</span>, <span style=\"color: #008080; text-decoration-color: #008080; font-weight: bold\">-3.1006</span>, <span style=\"color: #008080; text-decoration-color: #008080; font-weight: bold\">-3.7417</span>, <span style=\"color: #008080; text-decoration-color: #008080; font-weight: bold\">-3.5753</span>,\n",
       "          <span style=\"color: #008080; text-decoration-color: #008080; font-weight: bold\">-3.7682</span>, <span style=\"color: #008080; text-decoration-color: #008080; font-weight: bold\">-2.8173</span>, <span style=\"color: #008080; text-decoration-color: #008080; font-weight: bold\">-3.6226</span>, <span style=\"color: #008080; text-decoration-color: #008080; font-weight: bold\">-3.4183</span>, <span style=\"color: #008080; text-decoration-color: #008080; font-weight: bold\">-3.5909</span>, <span style=\"color: #008080; text-decoration-color: #008080; font-weight: bold\">-3.6321</span>, <span style=\"color: #008080; text-decoration-color: #008080; font-weight: bold\">-3.0892</span>,\n",
       "          <span style=\"color: #008080; text-decoration-color: #008080; font-weight: bold\">-3.8611</span>, <span style=\"color: #008080; text-decoration-color: #008080; font-weight: bold\">-3.4434</span>, <span style=\"color: #008080; text-decoration-color: #008080; font-weight: bold\">-3.8720</span>, <span style=\"color: #008080; text-decoration-color: #008080; font-weight: bold\">-3.7705</span><span style=\"font-weight: bold\">]</span>,\n",
       "         <span style=\"font-weight: bold\">[</span><span style=\"color: #008080; text-decoration-color: #008080; font-weight: bold\">-3.2715</span>, <span style=\"color: #008080; text-decoration-color: #008080; font-weight: bold\">-3.2777</span>, <span style=\"color: #008080; text-decoration-color: #008080; font-weight: bold\">-3.3066</span>, <span style=\"color: #008080; text-decoration-color: #008080; font-weight: bold\">-2.9709</span>, <span style=\"color: #008080; text-decoration-color: #008080; font-weight: bold\">-3.6127</span>, <span style=\"color: #008080; text-decoration-color: #008080; font-weight: bold\">-3.8691</span>, <span style=\"color: #008080; text-decoration-color: #008080; font-weight: bold\">-3.5234</span>,\n",
       "          <span style=\"color: #008080; text-decoration-color: #008080; font-weight: bold\">-3.3401</span>, <span style=\"color: #008080; text-decoration-color: #008080; font-weight: bold\">-3.2764</span>, <span style=\"color: #008080; text-decoration-color: #008080; font-weight: bold\">-2.8898</span>, <span style=\"color: #008080; text-decoration-color: #008080; font-weight: bold\">-3.8055</span>, <span style=\"color: #008080; text-decoration-color: #008080; font-weight: bold\">-3.6528</span>, <span style=\"color: #008080; text-decoration-color: #008080; font-weight: bold\">-3.8097</span>, <span style=\"color: #008080; text-decoration-color: #008080; font-weight: bold\">-3.5930</span>,\n",
       "          <span style=\"color: #008080; text-decoration-color: #008080; font-weight: bold\">-4.0269</span>, <span style=\"color: #008080; text-decoration-color: #008080; font-weight: bold\">-3.7018</span>, <span style=\"color: #008080; text-decoration-color: #008080; font-weight: bold\">-3.7742</span>, <span style=\"color: #008080; text-decoration-color: #008080; font-weight: bold\">-3.7910</span>, <span style=\"color: #008080; text-decoration-color: #008080; font-weight: bold\">-3.1798</span>, <span style=\"color: #008080; text-decoration-color: #008080; font-weight: bold\">-3.7519</span>, <span style=\"color: #008080; text-decoration-color: #008080; font-weight: bold\">-3.3843</span>,\n",
       "          <span style=\"color: #008080; text-decoration-color: #008080; font-weight: bold\">-3.8591</span>, <span style=\"color: #008080; text-decoration-color: #008080; font-weight: bold\">-2.8231</span>, <span style=\"color: #008080; text-decoration-color: #008080; font-weight: bold\">-3.7744</span>, <span style=\"color: #008080; text-decoration-color: #008080; font-weight: bold\">-3.4352</span>, <span style=\"color: #008080; text-decoration-color: #008080; font-weight: bold\">-3.5882</span>, <span style=\"color: #008080; text-decoration-color: #008080; font-weight: bold\">-3.5259</span>, <span style=\"color: #008080; text-decoration-color: #008080; font-weight: bold\">-3.0548</span>,\n",
       "          <span style=\"color: #008080; text-decoration-color: #008080; font-weight: bold\">-3.7988</span>, <span style=\"color: #008080; text-decoration-color: #008080; font-weight: bold\">-3.5127</span>, <span style=\"color: #008080; text-decoration-color: #008080; font-weight: bold\">-3.7996</span>, <span style=\"color: #008080; text-decoration-color: #008080; font-weight: bold\">-3.4747</span><span style=\"font-weight: bold\">]]]</span>, <span style=\"color: #808000; text-decoration-color: #808000\">grad_fn</span>=<span style=\"font-weight: bold\">&lt;</span><span style=\"color: #ff00ff; text-decoration-color: #ff00ff; font-weight: bold\">LogSoftmaxBackward0</span><span style=\"font-weight: bold\">&gt;)</span>\n",
       "</pre>\n"
      ],
      "text/plain": [
       "\u001b[1;35mtensor\u001b[0m\u001b[1m(\u001b[0m\u001b[1m[\u001b[0m\u001b[1m[\u001b[0m\u001b[1m[\u001b[0m\u001b[1;36m-3.2902\u001b[0m, \u001b[1;36m-3.2138\u001b[0m, \u001b[1;36m-3.7490\u001b[0m, \u001b[1;36m-3.6660\u001b[0m, \u001b[1;36m-2.9870\u001b[0m, \u001b[1;36m-3.6874\u001b[0m, \u001b[1;36m-3.3251\u001b[0m,\n",
       "          \u001b[1;36m-3.6143\u001b[0m, \u001b[1;36m-3.7800\u001b[0m, \u001b[1;36m-3.0252\u001b[0m, \u001b[1;36m-3.6640\u001b[0m, \u001b[1;36m-3.6796\u001b[0m, \u001b[1;36m-3.6402\u001b[0m, \u001b[1;36m-3.9577\u001b[0m,\n",
       "          \u001b[1;36m-3.7432\u001b[0m, \u001b[1;36m-3.5318\u001b[0m, \u001b[1;36m-3.8881\u001b[0m, \u001b[1;36m-3.6711\u001b[0m, \u001b[1;36m-3.4963\u001b[0m, \u001b[1;36m-3.7604\u001b[0m, \u001b[1;36m-3.8873\u001b[0m,\n",
       "          \u001b[1;36m-3.7409\u001b[0m, \u001b[1;36m-2.3458\u001b[0m, \u001b[1;36m-3.3203\u001b[0m, \u001b[1;36m-3.3287\u001b[0m, \u001b[1;36m-3.4336\u001b[0m, \u001b[1;36m-3.5191\u001b[0m, \u001b[1;36m-3.1800\u001b[0m,\n",
       "          \u001b[1;36m-3.8237\u001b[0m, \u001b[1;36m-3.7377\u001b[0m, \u001b[1;36m-3.6715\u001b[0m, \u001b[1;36m-3.5596\u001b[0m\u001b[1m]\u001b[0m,\n",
       "         \u001b[1m[\u001b[0m\u001b[1;36m-3.2976\u001b[0m, \u001b[1;36m-3.5471\u001b[0m, \u001b[1;36m-3.5273\u001b[0m, \u001b[1;36m-3.3370\u001b[0m, \u001b[1;36m-3.1048\u001b[0m, \u001b[1;36m-3.7331\u001b[0m, \u001b[1;36m-3.5371\u001b[0m,\n",
       "          \u001b[1;36m-3.3872\u001b[0m, \u001b[1;36m-3.6279\u001b[0m, \u001b[1;36m-2.7862\u001b[0m, \u001b[1;36m-3.9414\u001b[0m, \u001b[1;36m-3.9196\u001b[0m, \u001b[1;36m-3.6534\u001b[0m, \u001b[1;36m-3.5712\u001b[0m,\n",
       "          \u001b[1;36m-3.8038\u001b[0m, \u001b[1;36m-3.5710\u001b[0m, \u001b[1;36m-3.4397\u001b[0m, \u001b[1;36m-3.8901\u001b[0m, \u001b[1;36m-3.4752\u001b[0m, \u001b[1;36m-3.8019\u001b[0m, \u001b[1;36m-3.6840\u001b[0m,\n",
       "          \u001b[1;36m-3.8382\u001b[0m, \u001b[1;36m-2.5267\u001b[0m, \u001b[1;36m-3.3160\u001b[0m, \u001b[1;36m-3.3417\u001b[0m, \u001b[1;36m-3.6138\u001b[0m, \u001b[1;36m-3.5495\u001b[0m, \u001b[1;36m-3.2080\u001b[0m,\n",
       "          \u001b[1;36m-3.9328\u001b[0m, \u001b[1;36m-3.3334\u001b[0m, \u001b[1;36m-4.0722\u001b[0m, \u001b[1;36m-3.4046\u001b[0m\u001b[1m]\u001b[0m,\n",
       "         \u001b[1m[\u001b[0m\u001b[1;36m-3.5412\u001b[0m, \u001b[1;36m-3.4205\u001b[0m, \u001b[1;36m-3.4203\u001b[0m, \u001b[1;36m-3.2431\u001b[0m, \u001b[1;36m-3.5709\u001b[0m, \u001b[1;36m-3.9048\u001b[0m, \u001b[1;36m-3.4131\u001b[0m,\n",
       "          \u001b[1;36m-3.4212\u001b[0m, \u001b[1;36m-3.3649\u001b[0m, \u001b[1;36m-2.6626\u001b[0m, \u001b[1;36m-4.1131\u001b[0m, \u001b[1;36m-4.0042\u001b[0m, \u001b[1;36m-3.8215\u001b[0m, \u001b[1;36m-3.5610\u001b[0m,\n",
       "          \u001b[1;36m-3.7950\u001b[0m, \u001b[1;36m-3.7467\u001b[0m, \u001b[1;36m-3.5497\u001b[0m, \u001b[1;36m-3.9851\u001b[0m, \u001b[1;36m-3.2897\u001b[0m, \u001b[1;36m-3.7755\u001b[0m, \u001b[1;36m-3.4681\u001b[0m,\n",
       "          \u001b[1;36m-3.7531\u001b[0m, \u001b[1;36m-2.7408\u001b[0m, \u001b[1;36m-3.4161\u001b[0m, \u001b[1;36m-3.3198\u001b[0m, \u001b[1;36m-3.4832\u001b[0m, \u001b[1;36m-3.4885\u001b[0m, \u001b[1;36m-2.8369\u001b[0m,\n",
       "          \u001b[1;36m-3.8967\u001b[0m, \u001b[1;36m-3.4548\u001b[0m, \u001b[1;36m-3.9023\u001b[0m, \u001b[1;36m-3.5144\u001b[0m\u001b[1m]\u001b[0m,\n",
       "         \u001b[1m[\u001b[0m\u001b[1;36m-3.3646\u001b[0m, \u001b[1;36m-3.1722\u001b[0m, \u001b[1;36m-3.4662\u001b[0m, \u001b[1;36m-3.3786\u001b[0m, \u001b[1;36m-3.3745\u001b[0m, \u001b[1;36m-4.1003\u001b[0m, \u001b[1;36m-3.3970\u001b[0m,\n",
       "          \u001b[1;36m-3.5749\u001b[0m, \u001b[1;36m-3.4204\u001b[0m, \u001b[1;36m-2.5617\u001b[0m, \u001b[1;36m-4.0727\u001b[0m, \u001b[1;36m-4.0829\u001b[0m, \u001b[1;36m-3.6359\u001b[0m, \u001b[1;36m-3.6954\u001b[0m,\n",
       "          \u001b[1;36m-3.8370\u001b[0m, \u001b[1;36m-3.7215\u001b[0m, \u001b[1;36m-3.5478\u001b[0m, \u001b[1;36m-3.8858\u001b[0m, \u001b[1;36m-3.4534\u001b[0m, \u001b[1;36m-3.7407\u001b[0m, \u001b[1;36m-3.7694\u001b[0m,\n",
       "          \u001b[1;36m-3.7535\u001b[0m, \u001b[1;36m-2.9297\u001b[0m, \u001b[1;36m-3.5324\u001b[0m, \u001b[1;36m-3.3252\u001b[0m, \u001b[1;36m-3.2507\u001b[0m, \u001b[1;36m-3.6014\u001b[0m, \u001b[1;36m-2.8289\u001b[0m,\n",
       "          \u001b[1;36m-3.8189\u001b[0m, \u001b[1;36m-3.3075\u001b[0m, \u001b[1;36m-3.7601\u001b[0m, \u001b[1;36m-3.5608\u001b[0m\u001b[1m]\u001b[0m,\n",
       "         \u001b[1m[\u001b[0m\u001b[1;36m-3.2639\u001b[0m, \u001b[1;36m-3.4379\u001b[0m, \u001b[1;36m-3.5672\u001b[0m, \u001b[1;36m-3.4988\u001b[0m, \u001b[1;36m-3.3197\u001b[0m, \u001b[1;36m-4.0226\u001b[0m, \u001b[1;36m-3.3491\u001b[0m,\n",
       "          \u001b[1;36m-3.5237\u001b[0m, \u001b[1;36m-3.5369\u001b[0m, \u001b[1;36m-2.6564\u001b[0m, \u001b[1;36m-3.8937\u001b[0m, \u001b[1;36m-3.8750\u001b[0m, \u001b[1;36m-3.7379\u001b[0m, \u001b[1;36m-3.6342\u001b[0m,\n",
       "          \u001b[1;36m-3.9093\u001b[0m, \u001b[1;36m-3.7644\u001b[0m, \u001b[1;36m-3.6159\u001b[0m, \u001b[1;36m-3.6758\u001b[0m, \u001b[1;36m-3.3742\u001b[0m, \u001b[1;36m-3.4683\u001b[0m, \u001b[1;36m-3.7604\u001b[0m,\n",
       "          \u001b[1;36m-3.7398\u001b[0m, \u001b[1;36m-2.6851\u001b[0m, \u001b[1;36m-3.4664\u001b[0m, \u001b[1;36m-3.3941\u001b[0m, \u001b[1;36m-3.3081\u001b[0m, \u001b[1;36m-3.4731\u001b[0m, \u001b[1;36m-3.0476\u001b[0m,\n",
       "          \u001b[1;36m-3.8109\u001b[0m, \u001b[1;36m-3.4979\u001b[0m, \u001b[1;36m-3.8165\u001b[0m, \u001b[1;36m-3.4593\u001b[0m\u001b[1m]\u001b[0m,\n",
       "         \u001b[1m[\u001b[0m\u001b[1;36m-3.2613\u001b[0m, \u001b[1;36m-3.3111\u001b[0m, \u001b[1;36m-3.5770\u001b[0m, \u001b[1;36m-3.1744\u001b[0m, \u001b[1;36m-3.3494\u001b[0m, \u001b[1;36m-3.8931\u001b[0m, \u001b[1;36m-3.3827\u001b[0m,\n",
       "          \u001b[1;36m-3.2431\u001b[0m, \u001b[1;36m-3.4753\u001b[0m, \u001b[1;36m-2.7371\u001b[0m, \u001b[1;36m-3.7716\u001b[0m, \u001b[1;36m-3.9218\u001b[0m, \u001b[1;36m-3.7399\u001b[0m, \u001b[1;36m-3.5866\u001b[0m,\n",
       "          \u001b[1;36m-4.0214\u001b[0m, \u001b[1;36m-3.7425\u001b[0m, \u001b[1;36m-3.5905\u001b[0m, \u001b[1;36m-3.6527\u001b[0m, \u001b[1;36m-3.3367\u001b[0m, \u001b[1;36m-3.6169\u001b[0m, \u001b[1;36m-3.8964\u001b[0m,\n",
       "          \u001b[1;36m-3.7502\u001b[0m, \u001b[1;36m-2.8066\u001b[0m, \u001b[1;36m-3.6082\u001b[0m, \u001b[1;36m-3.2697\u001b[0m, \u001b[1;36m-3.4686\u001b[0m, \u001b[1;36m-3.5153\u001b[0m, \u001b[1;36m-2.9508\u001b[0m,\n",
       "          \u001b[1;36m-3.7926\u001b[0m, \u001b[1;36m-3.6154\u001b[0m, \u001b[1;36m-3.9131\u001b[0m, \u001b[1;36m-3.5969\u001b[0m\u001b[1m]\u001b[0m,\n",
       "         \u001b[1m[\u001b[0m\u001b[1;36m-3.2797\u001b[0m, \u001b[1;36m-3.2709\u001b[0m, \u001b[1;36m-3.5135\u001b[0m, \u001b[1;36m-3.1509\u001b[0m, \u001b[1;36m-3.6146\u001b[0m, \u001b[1;36m-4.0005\u001b[0m, \u001b[1;36m-3.2225\u001b[0m,\n",
       "          \u001b[1;36m-3.5461\u001b[0m, \u001b[1;36m-3.3713\u001b[0m, \u001b[1;36m-2.8482\u001b[0m, \u001b[1;36m-3.7792\u001b[0m, \u001b[1;36m-3.9033\u001b[0m, \u001b[1;36m-3.6498\u001b[0m, \u001b[1;36m-3.5592\u001b[0m,\n",
       "          \u001b[1;36m-3.9916\u001b[0m, \u001b[1;36m-3.6611\u001b[0m, \u001b[1;36m-3.5468\u001b[0m, \u001b[1;36m-3.8267\u001b[0m, \u001b[1;36m-3.3360\u001b[0m, \u001b[1;36m-3.5470\u001b[0m, \u001b[1;36m-3.8017\u001b[0m,\n",
       "          \u001b[1;36m-3.9146\u001b[0m, \u001b[1;36m-2.6779\u001b[0m, \u001b[1;36m-3.5380\u001b[0m, \u001b[1;36m-3.3554\u001b[0m, \u001b[1;36m-3.4188\u001b[0m, \u001b[1;36m-3.4009\u001b[0m, \u001b[1;36m-3.0591\u001b[0m,\n",
       "          \u001b[1;36m-3.8032\u001b[0m, \u001b[1;36m-3.4218\u001b[0m, \u001b[1;36m-3.8227\u001b[0m, \u001b[1;36m-3.7243\u001b[0m\u001b[1m]\u001b[0m,\n",
       "         \u001b[1m[\u001b[0m\u001b[1;36m-3.3999\u001b[0m, \u001b[1;36m-3.2339\u001b[0m, \u001b[1;36m-3.3995\u001b[0m, \u001b[1;36m-3.1267\u001b[0m, \u001b[1;36m-3.6437\u001b[0m, \u001b[1;36m-3.9911\u001b[0m, \u001b[1;36m-3.4473\u001b[0m,\n",
       "          \u001b[1;36m-3.5618\u001b[0m, \u001b[1;36m-3.2893\u001b[0m, \u001b[1;36m-2.8276\u001b[0m, \u001b[1;36m-3.7414\u001b[0m, \u001b[1;36m-3.6710\u001b[0m, \u001b[1;36m-3.7634\u001b[0m, \u001b[1;36m-3.5784\u001b[0m,\n",
       "          \u001b[1;36m-3.9648\u001b[0m, \u001b[1;36m-3.6445\u001b[0m, \u001b[1;36m-3.5451\u001b[0m, \u001b[1;36m-3.7410\u001b[0m, \u001b[1;36m-3.3993\u001b[0m, \u001b[1;36m-3.7579\u001b[0m, \u001b[1;36m-3.6546\u001b[0m,\n",
       "          \u001b[1;36m-3.7361\u001b[0m, \u001b[1;36m-2.8302\u001b[0m, \u001b[1;36m-3.6128\u001b[0m, \u001b[1;36m-3.3697\u001b[0m, \u001b[1;36m-3.3266\u001b[0m, \u001b[1;36m-3.4313\u001b[0m, \u001b[1;36m-2.7773\u001b[0m,\n",
       "          \u001b[1;36m-3.8560\u001b[0m, \u001b[1;36m-3.4274\u001b[0m, \u001b[1;36m-3.9309\u001b[0m, \u001b[1;36m-3.9051\u001b[0m\u001b[1m]\u001b[0m,\n",
       "         \u001b[1m[\u001b[0m\u001b[1;36m-3.3336\u001b[0m, \u001b[1;36m-3.1731\u001b[0m, \u001b[1;36m-3.4470\u001b[0m, \u001b[1;36m-3.1285\u001b[0m, \u001b[1;36m-3.7196\u001b[0m, \u001b[1;36m-3.9131\u001b[0m, \u001b[1;36m-3.3501\u001b[0m,\n",
       "          \u001b[1;36m-3.2531\u001b[0m, \u001b[1;36m-3.3494\u001b[0m, \u001b[1;36m-2.9712\u001b[0m, \u001b[1;36m-3.7877\u001b[0m, \u001b[1;36m-3.5398\u001b[0m, \u001b[1;36m-3.6971\u001b[0m, \u001b[1;36m-3.6754\u001b[0m,\n",
       "          \u001b[1;36m-3.9580\u001b[0m, \u001b[1;36m-3.5421\u001b[0m, \u001b[1;36m-3.4955\u001b[0m, \u001b[1;36m-3.6183\u001b[0m, \u001b[1;36m-3.1006\u001b[0m, \u001b[1;36m-3.7417\u001b[0m, \u001b[1;36m-3.5753\u001b[0m,\n",
       "          \u001b[1;36m-3.7682\u001b[0m, \u001b[1;36m-2.8173\u001b[0m, \u001b[1;36m-3.6226\u001b[0m, \u001b[1;36m-3.4183\u001b[0m, \u001b[1;36m-3.5909\u001b[0m, \u001b[1;36m-3.6321\u001b[0m, \u001b[1;36m-3.0892\u001b[0m,\n",
       "          \u001b[1;36m-3.8611\u001b[0m, \u001b[1;36m-3.4434\u001b[0m, \u001b[1;36m-3.8720\u001b[0m, \u001b[1;36m-3.7705\u001b[0m\u001b[1m]\u001b[0m,\n",
       "         \u001b[1m[\u001b[0m\u001b[1;36m-3.2715\u001b[0m, \u001b[1;36m-3.2777\u001b[0m, \u001b[1;36m-3.3066\u001b[0m, \u001b[1;36m-2.9709\u001b[0m, \u001b[1;36m-3.6127\u001b[0m, \u001b[1;36m-3.8691\u001b[0m, \u001b[1;36m-3.5234\u001b[0m,\n",
       "          \u001b[1;36m-3.3401\u001b[0m, \u001b[1;36m-3.2764\u001b[0m, \u001b[1;36m-2.8898\u001b[0m, \u001b[1;36m-3.8055\u001b[0m, \u001b[1;36m-3.6528\u001b[0m, \u001b[1;36m-3.8097\u001b[0m, \u001b[1;36m-3.5930\u001b[0m,\n",
       "          \u001b[1;36m-4.0269\u001b[0m, \u001b[1;36m-3.7018\u001b[0m, \u001b[1;36m-3.7742\u001b[0m, \u001b[1;36m-3.7910\u001b[0m, \u001b[1;36m-3.1798\u001b[0m, \u001b[1;36m-3.7519\u001b[0m, \u001b[1;36m-3.3843\u001b[0m,\n",
       "          \u001b[1;36m-3.8591\u001b[0m, \u001b[1;36m-2.8231\u001b[0m, \u001b[1;36m-3.7744\u001b[0m, \u001b[1;36m-3.4352\u001b[0m, \u001b[1;36m-3.5882\u001b[0m, \u001b[1;36m-3.5259\u001b[0m, \u001b[1;36m-3.0548\u001b[0m,\n",
       "          \u001b[1;36m-3.7988\u001b[0m, \u001b[1;36m-3.5127\u001b[0m, \u001b[1;36m-3.7996\u001b[0m, \u001b[1;36m-3.4747\u001b[0m\u001b[1m]\u001b[0m\u001b[1m]\u001b[0m\u001b[1m]\u001b[0m, \u001b[33mgrad_fn\u001b[0m=\u001b[1m<\u001b[0m\u001b[1;95mLogSoftmaxBackward0\u001b[0m\u001b[1m>\u001b[0m\u001b[1m)\u001b[0m\n"
      ]
     },
     "metadata": {},
     "output_type": "display_data"
    },
    {
     "data": {
      "text/html": [
       "<pre style=\"white-space:pre;overflow-x:auto;line-height:normal;font-family:Menlo,'DejaVu Sans Mono',consolas,'Courier New',monospace\"><span style=\"color: #800080; text-decoration-color: #800080; font-weight: bold\">tensor</span><span style=\"font-weight: bold\">([[</span> <span style=\"color: #008080; text-decoration-color: #008080; font-weight: bold\">5</span>,  <span style=\"color: #008080; text-decoration-color: #008080; font-weight: bold\">8</span>,  <span style=\"color: #008080; text-decoration-color: #008080; font-weight: bold\">9</span>, <span style=\"color: #008080; text-decoration-color: #008080; font-weight: bold\">10</span>,  <span style=\"color: #008080; text-decoration-color: #008080; font-weight: bold\">5</span>,  <span style=\"color: #008080; text-decoration-color: #008080; font-weight: bold\">3</span>, <span style=\"color: #008080; text-decoration-color: #008080; font-weight: bold\">16</span>, <span style=\"color: #008080; text-decoration-color: #008080; font-weight: bold\">29</span>, <span style=\"color: #008080; text-decoration-color: #008080; font-weight: bold\">18</span>, <span style=\"color: #008080; text-decoration-color: #008080; font-weight: bold\">17</span><span style=\"font-weight: bold\">]])</span>\n",
       "</pre>\n"
      ],
      "text/plain": [
       "\u001b[1;35mtensor\u001b[0m\u001b[1m(\u001b[0m\u001b[1m[\u001b[0m\u001b[1m[\u001b[0m \u001b[1;36m5\u001b[0m,  \u001b[1;36m8\u001b[0m,  \u001b[1;36m9\u001b[0m, \u001b[1;36m10\u001b[0m,  \u001b[1;36m5\u001b[0m,  \u001b[1;36m3\u001b[0m, \u001b[1;36m16\u001b[0m, \u001b[1;36m29\u001b[0m, \u001b[1;36m18\u001b[0m, \u001b[1;36m17\u001b[0m\u001b[1m]\u001b[0m\u001b[1m]\u001b[0m\u001b[1m)\u001b[0m\n"
      ]
     },
     "metadata": {},
     "output_type": "display_data"
    },
    {
     "data": {
      "text/html": [
       "<pre style=\"white-space:pre;overflow-x:auto;line-height:normal;font-family:Menlo,'DejaVu Sans Mono',consolas,'Courier New',monospace\"><span style=\"color: #800080; text-decoration-color: #800080; font-weight: bold\">tensor</span><span style=\"font-weight: bold\">([[</span><span style=\"color: #008080; text-decoration-color: #008080; font-weight: bold\">-3.6874</span>, <span style=\"color: #008080; text-decoration-color: #008080; font-weight: bold\">-3.6279</span>, <span style=\"color: #008080; text-decoration-color: #008080; font-weight: bold\">-2.6626</span>, <span style=\"color: #008080; text-decoration-color: #008080; font-weight: bold\">-4.0727</span>, <span style=\"color: #008080; text-decoration-color: #008080; font-weight: bold\">-4.0226</span>, <span style=\"color: #008080; text-decoration-color: #008080; font-weight: bold\">-3.1744</span>, <span style=\"color: #008080; text-decoration-color: #008080; font-weight: bold\">-3.5468</span>, <span style=\"color: #008080; text-decoration-color: #008080; font-weight: bold\">-3.4274</span>,\n",
       "         <span style=\"color: #008080; text-decoration-color: #008080; font-weight: bold\">-3.1006</span>, <span style=\"color: #008080; text-decoration-color: #008080; font-weight: bold\">-3.7910</span><span style=\"font-weight: bold\">]]</span>, <span style=\"color: #808000; text-decoration-color: #808000\">grad_fn</span>=<span style=\"font-weight: bold\">&lt;</span><span style=\"color: #ff00ff; text-decoration-color: #ff00ff; font-weight: bold\">SqueezeBackward1</span><span style=\"font-weight: bold\">&gt;)</span>\n",
       "</pre>\n"
      ],
      "text/plain": [
       "\u001b[1;35mtensor\u001b[0m\u001b[1m(\u001b[0m\u001b[1m[\u001b[0m\u001b[1m[\u001b[0m\u001b[1;36m-3.6874\u001b[0m, \u001b[1;36m-3.6279\u001b[0m, \u001b[1;36m-2.6626\u001b[0m, \u001b[1;36m-4.0727\u001b[0m, \u001b[1;36m-4.0226\u001b[0m, \u001b[1;36m-3.1744\u001b[0m, \u001b[1;36m-3.5468\u001b[0m, \u001b[1;36m-3.4274\u001b[0m,\n",
       "         \u001b[1;36m-3.1006\u001b[0m, \u001b[1;36m-3.7910\u001b[0m\u001b[1m]\u001b[0m\u001b[1m]\u001b[0m, \u001b[33mgrad_fn\u001b[0m=\u001b[1m<\u001b[0m\u001b[1;95mSqueezeBackward1\u001b[0m\u001b[1m>\u001b[0m\u001b[1m)\u001b[0m\n"
      ]
     },
     "metadata": {},
     "output_type": "display_data"
    },
    {
     "data": {
      "text/html": [
       "<pre style=\"white-space:pre;overflow-x:auto;line-height:normal;font-family:Menlo,'DejaVu Sans Mono',consolas,'Courier New',monospace\"><span style=\"color: #800080; text-decoration-color: #800080; font-weight: bold\">tensor</span><span style=\"font-weight: bold\">(</span><span style=\"color: #008080; text-decoration-color: #008080; font-weight: bold\">18</span><span style=\"font-weight: bold\">)</span>\n",
       "</pre>\n"
      ],
      "text/plain": [
       "\u001b[1;35mtensor\u001b[0m\u001b[1m(\u001b[0m\u001b[1;36m18\u001b[0m\u001b[1m)\u001b[0m\n"
      ]
     },
     "metadata": {},
     "output_type": "display_data"
    },
    {
     "data": {
      "text/html": [
       "<pre style=\"white-space:pre;overflow-x:auto;line-height:normal;font-family:Menlo,'DejaVu Sans Mono',consolas,'Courier New',monospace\"><span style=\"color: #800080; text-decoration-color: #800080; font-weight: bold\">tensor</span><span style=\"font-weight: bold\">([</span><span style=\"color: #008080; text-decoration-color: #008080; font-weight: bold\">-3.3336</span>, <span style=\"color: #008080; text-decoration-color: #008080; font-weight: bold\">-3.1731</span>, <span style=\"color: #008080; text-decoration-color: #008080; font-weight: bold\">-3.4470</span>, <span style=\"color: #008080; text-decoration-color: #008080; font-weight: bold\">-3.1285</span>, <span style=\"color: #008080; text-decoration-color: #008080; font-weight: bold\">-3.7196</span>, <span style=\"color: #008080; text-decoration-color: #008080; font-weight: bold\">-3.9131</span>, <span style=\"color: #008080; text-decoration-color: #008080; font-weight: bold\">-3.3501</span>, <span style=\"color: #008080; text-decoration-color: #008080; font-weight: bold\">-3.2531</span>,\n",
       "        <span style=\"color: #008080; text-decoration-color: #008080; font-weight: bold\">-3.3494</span>, <span style=\"color: #008080; text-decoration-color: #008080; font-weight: bold\">-2.9712</span>, <span style=\"color: #008080; text-decoration-color: #008080; font-weight: bold\">-3.7877</span>, <span style=\"color: #008080; text-decoration-color: #008080; font-weight: bold\">-3.5398</span>, <span style=\"color: #008080; text-decoration-color: #008080; font-weight: bold\">-3.6971</span>, <span style=\"color: #008080; text-decoration-color: #008080; font-weight: bold\">-3.6754</span>, <span style=\"color: #008080; text-decoration-color: #008080; font-weight: bold\">-3.9580</span>, <span style=\"color: #008080; text-decoration-color: #008080; font-weight: bold\">-3.5421</span>,\n",
       "        <span style=\"color: #008080; text-decoration-color: #008080; font-weight: bold\">-3.4955</span>, <span style=\"color: #008080; text-decoration-color: #008080; font-weight: bold\">-3.6183</span>, <span style=\"color: #008080; text-decoration-color: #008080; font-weight: bold\">-3.1006</span>, <span style=\"color: #008080; text-decoration-color: #008080; font-weight: bold\">-3.7417</span>, <span style=\"color: #008080; text-decoration-color: #008080; font-weight: bold\">-3.5753</span>, <span style=\"color: #008080; text-decoration-color: #008080; font-weight: bold\">-3.7682</span>, <span style=\"color: #008080; text-decoration-color: #008080; font-weight: bold\">-2.8173</span>, <span style=\"color: #008080; text-decoration-color: #008080; font-weight: bold\">-3.6226</span>,\n",
       "        <span style=\"color: #008080; text-decoration-color: #008080; font-weight: bold\">-3.4183</span>, <span style=\"color: #008080; text-decoration-color: #008080; font-weight: bold\">-3.5909</span>, <span style=\"color: #008080; text-decoration-color: #008080; font-weight: bold\">-3.6321</span>, <span style=\"color: #008080; text-decoration-color: #008080; font-weight: bold\">-3.0892</span>, <span style=\"color: #008080; text-decoration-color: #008080; font-weight: bold\">-3.8611</span>, <span style=\"color: #008080; text-decoration-color: #008080; font-weight: bold\">-3.4434</span>, <span style=\"color: #008080; text-decoration-color: #008080; font-weight: bold\">-3.8720</span>, <span style=\"color: #008080; text-decoration-color: #008080; font-weight: bold\">-3.7705</span><span style=\"font-weight: bold\">]</span>,\n",
       "       <span style=\"color: #808000; text-decoration-color: #808000\">grad_fn</span>=<span style=\"font-weight: bold\">&lt;</span><span style=\"color: #ff00ff; text-decoration-color: #ff00ff; font-weight: bold\">SliceBackward0</span><span style=\"font-weight: bold\">&gt;)</span>\n",
       "</pre>\n"
      ],
      "text/plain": [
       "\u001b[1;35mtensor\u001b[0m\u001b[1m(\u001b[0m\u001b[1m[\u001b[0m\u001b[1;36m-3.3336\u001b[0m, \u001b[1;36m-3.1731\u001b[0m, \u001b[1;36m-3.4470\u001b[0m, \u001b[1;36m-3.1285\u001b[0m, \u001b[1;36m-3.7196\u001b[0m, \u001b[1;36m-3.9131\u001b[0m, \u001b[1;36m-3.3501\u001b[0m, \u001b[1;36m-3.2531\u001b[0m,\n",
       "        \u001b[1;36m-3.3494\u001b[0m, \u001b[1;36m-2.9712\u001b[0m, \u001b[1;36m-3.7877\u001b[0m, \u001b[1;36m-3.5398\u001b[0m, \u001b[1;36m-3.6971\u001b[0m, \u001b[1;36m-3.6754\u001b[0m, \u001b[1;36m-3.9580\u001b[0m, \u001b[1;36m-3.5421\u001b[0m,\n",
       "        \u001b[1;36m-3.4955\u001b[0m, \u001b[1;36m-3.6183\u001b[0m, \u001b[1;36m-3.1006\u001b[0m, \u001b[1;36m-3.7417\u001b[0m, \u001b[1;36m-3.5753\u001b[0m, \u001b[1;36m-3.7682\u001b[0m, \u001b[1;36m-2.8173\u001b[0m, \u001b[1;36m-3.6226\u001b[0m,\n",
       "        \u001b[1;36m-3.4183\u001b[0m, \u001b[1;36m-3.5909\u001b[0m, \u001b[1;36m-3.6321\u001b[0m, \u001b[1;36m-3.0892\u001b[0m, \u001b[1;36m-3.8611\u001b[0m, \u001b[1;36m-3.4434\u001b[0m, \u001b[1;36m-3.8720\u001b[0m, \u001b[1;36m-3.7705\u001b[0m\u001b[1m]\u001b[0m,\n",
       "       \u001b[33mgrad_fn\u001b[0m=\u001b[1m<\u001b[0m\u001b[1;95mSliceBackward0\u001b[0m\u001b[1m>\u001b[0m\u001b[1m)\u001b[0m\n"
      ]
     },
     "metadata": {},
     "output_type": "display_data"
    },
    {
     "data": {
      "text/html": [
       "<pre style=\"white-space:pre;overflow-x:auto;line-height:normal;font-family:Menlo,'DejaVu Sans Mono',consolas,'Courier New',monospace\"><span style=\"color: #800080; text-decoration-color: #800080; font-weight: bold\">tensor</span><span style=\"font-weight: bold\">(</span><span style=\"color: #008080; text-decoration-color: #008080; font-weight: bold\">-3.1006</span>, <span style=\"color: #808000; text-decoration-color: #808000\">grad_fn</span>=<span style=\"font-weight: bold\">&lt;</span><span style=\"color: #ff00ff; text-decoration-color: #ff00ff; font-weight: bold\">SelectBackward0</span><span style=\"font-weight: bold\">&gt;)</span>\n",
       "</pre>\n"
      ],
      "text/plain": [
       "\u001b[1;35mtensor\u001b[0m\u001b[1m(\u001b[0m\u001b[1;36m-3.1006\u001b[0m, \u001b[33mgrad_fn\u001b[0m=\u001b[1m<\u001b[0m\u001b[1;95mSelectBackward0\u001b[0m\u001b[1m>\u001b[0m\u001b[1m)\u001b[0m\n"
      ]
     },
     "metadata": {},
     "output_type": "display_data"
    }
   ],
   "source": [
    "# Show how to get policy by  \n",
    "\n",
    "labels = prompt_chosen\n",
    "labels[labels == 0] = 0\n",
    "print(output.logits.log_softmax(-1))\n",
    "print(labels)\n",
    "per_token_logps = torch.gather(output.logits.log_softmax(-1), dim=2, \n",
    "                               index=labels.unsqueeze(2)).squeeze(2)\n",
    "print(per_token_logps)\n",
    "\n",
    "# 假设取idx=8的token， 那么拿到的token号为18\n",
    "# 在idx=8的 32 logits 里面取 第18个logits， 即为 PI\n",
    "idx = labels[0,8]\n",
    "print(idx)\n",
    "print(output.logits.log_softmax(-1)[0,8,:])\n",
    "print(per_token_logps[0,8])"
   ]
  },
  {
   "cell_type": "code",
   "execution_count": 5,
   "id": "472afcdb-0ea9-416f-8639-5b0220484a7a",
   "metadata": {},
   "outputs": [],
   "source": [
    "# 分别计算 ref/model, chosen/rejected,  logtis/prob value\n",
    "logits_chosen_ref = ref_model(**x_chosen).logits\n",
    "logits_rejected_ref = ref_model(**x_rejected).logits\n",
    "logits_chosen = model(**x_chosen).logits\n",
    "logits_rejected = model(**x_rejected).logits\n",
    "\n",
    "probs_chosen_ref = get_probs(logits_chosen_ref, prompt_chosen)\n",
    "probs_chosen = get_probs(logits_chosen, prompt_chosen)\n",
    "probs_rejected_ref = get_probs(logits_rejected_ref, prompt_rejected)\n",
    "probs_rejected = get_probs(logits_rejected, prompt_rejected)"
   ]
  },
  {
   "cell_type": "code",
   "execution_count": 6,
   "id": "09ae28a9-7525-4abd-9f22-df2fb94d135f",
   "metadata": {},
   "outputs": [
    {
     "data": {
      "text/html": [
       "<pre style=\"white-space:pre;overflow-x:auto;line-height:normal;font-family:Menlo,'DejaVu Sans Mono',consolas,'Courier New',monospace\"><span style=\"color: #800080; text-decoration-color: #800080; font-weight: bold\">tensor</span><span style=\"font-weight: bold\">([[</span><span style=\"color: #008080; text-decoration-color: #008080; font-weight: bold\">0.0000</span>, <span style=\"color: #008080; text-decoration-color: #008080; font-weight: bold\">0.0000</span>, <span style=\"color: #008080; text-decoration-color: #008080; font-weight: bold\">0.0000</span>, <span style=\"color: #008080; text-decoration-color: #008080; font-weight: bold\">0.0000</span>, <span style=\"color: #008080; text-decoration-color: #008080; font-weight: bold\">0.0000</span>, <span style=\"color: #008080; text-decoration-color: #008080; font-weight: bold\">0.0000</span>, <span style=\"color: #008080; text-decoration-color: #008080; font-weight: bold\">0.7205</span>, <span style=\"color: #008080; text-decoration-color: #008080; font-weight: bold\">0.7328</span>, <span style=\"color: #008080; text-decoration-color: #008080; font-weight: bold\">0.7633</span>,\n",
       "         <span style=\"color: #008080; text-decoration-color: #008080; font-weight: bold\">0.6709</span><span style=\"font-weight: bold\">]]</span>, <span style=\"color: #808000; text-decoration-color: #808000\">grad_fn</span>=<span style=\"font-weight: bold\">&lt;</span><span style=\"color: #ff00ff; text-decoration-color: #ff00ff; font-weight: bold\">MulBackward0</span><span style=\"font-weight: bold\">&gt;)</span>\n",
       "</pre>\n"
      ],
      "text/plain": [
       "\u001b[1;35mtensor\u001b[0m\u001b[1m(\u001b[0m\u001b[1m[\u001b[0m\u001b[1m[\u001b[0m\u001b[1;36m0.0000\u001b[0m, \u001b[1;36m0.0000\u001b[0m, \u001b[1;36m0.0000\u001b[0m, \u001b[1;36m0.0000\u001b[0m, \u001b[1;36m0.0000\u001b[0m, \u001b[1;36m0.0000\u001b[0m, \u001b[1;36m0.7205\u001b[0m, \u001b[1;36m0.7328\u001b[0m, \u001b[1;36m0.7633\u001b[0m,\n",
       "         \u001b[1;36m0.6709\u001b[0m\u001b[1m]\u001b[0m\u001b[1m]\u001b[0m, \u001b[33mgrad_fn\u001b[0m=\u001b[1m<\u001b[0m\u001b[1;95mMulBackward0\u001b[0m\u001b[1m>\u001b[0m\u001b[1m)\u001b[0m\n"
      ]
     },
     "metadata": {},
     "output_type": "display_data"
    },
    {
     "data": {
      "text/html": [
       "<pre style=\"white-space:pre;overflow-x:auto;line-height:normal;font-family:Menlo,'DejaVu Sans Mono',consolas,'Courier New',monospace\"><span style=\"color: #800080; text-decoration-color: #800080; font-weight: bold\">tensor</span><span style=\"font-weight: bold\">([</span><span style=\"color: #008080; text-decoration-color: #008080; font-weight: bold\">0.2888</span><span style=\"font-weight: bold\">]</span>, <span style=\"color: #808000; text-decoration-color: #808000\">grad_fn</span>=<span style=\"font-weight: bold\">&lt;</span><span style=\"color: #ff00ff; text-decoration-color: #ff00ff; font-weight: bold\">DivBackward0</span><span style=\"font-weight: bold\">&gt;)</span>\n",
       "</pre>\n"
      ],
      "text/plain": [
       "\u001b[1;35mtensor\u001b[0m\u001b[1m(\u001b[0m\u001b[1m[\u001b[0m\u001b[1;36m0.2888\u001b[0m\u001b[1m]\u001b[0m, \u001b[33mgrad_fn\u001b[0m=\u001b[1m<\u001b[0m\u001b[1;95mDivBackward0\u001b[0m\u001b[1m>\u001b[0m\u001b[1m)\u001b[0m\n"
      ]
     },
     "metadata": {},
     "output_type": "display_data"
    }
   ],
   "source": [
    "import torch.nn.functional as F\n",
    "\n",
    "beta = 0.1\n",
    "pi_logratios = probs_chosen - probs_rejected\n",
    "ref_logratios = probs_chosen_ref - probs_rejected_ref\n",
    "logits = pi_logratios - ref_logratios\n",
    "losses = -F.logsigmoid(beta * logits ) * label\n",
    "print(losses)\n",
    "loss = losses.sum(-1)/attention_mask.sum()\n",
    "print(loss)"
   ]
  },
  {
   "cell_type": "markdown",
   "id": "10bf3fdf-81a8-4096-b9c0-b67cbaaeed4c",
   "metadata": {},
   "source": [
    "### DPO Overfitting"
   ]
  },
  {
   "cell_type": "markdown",
   "id": "ceca01fd-23db-4eef-bde2-9d069d9a7f2b",
   "metadata": {},
   "source": [
    "在IPO论文提到DPO的过拟合问题 \"A General Theoretical Paradigm to Understand Learning from Human Preferences\"\n",
    "\n",
    "简易理解，对于BT Model来说，目标是使的两个reward差距尽可能大, 对于DPO来说, 一个hack的方向是$/pi(y')$的策略为0，那么就能使BT Model达到$+\\infty$, 即造成过拟合了"
   ]
  },
  {
   "cell_type": "markdown",
   "id": "1da97557-df64-4369-8d53-a85a92d777c5",
   "metadata": {},
   "source": [
    "$$\\mathcal{L}_{DPO}(\\pi;\\pi_{ref}) = -\\mathbb{E}_{(a, y_w, y_l)_{\\sim}\\mathcal{D}}[\\log \\sigma(\\beta\\log\\frac{\\pi_\\theta(y_w|x)}{\\pi_{\\text{ref}}(y_w|x)}-\\beta\\log\\frac{\\textcolor{red}{\\pi_\\theta(y_l|x)}}{\\pi_{\\text{ref}}(y_l|x)})]$$"
   ]
  },
  {
   "cell_type": "markdown",
   "id": "8714336b-6701-4c2b-b09e-1c36fd121660",
   "metadata": {},
   "source": [
    "Consider the simple example where we have two actions $y$ and $y'$ such that $p^* (y \\succ y') = 1$, i.e., $y$ is always preferred to $y'$. Then the Bradley-Terry model would require that $(r(y)- r( y')) \\rightarrow +\\infty$ to satisfy(1). If we plug this into the optimal policy (7)  then we would get that $\\frac{\\pi^*(y')}{\\pi^*(y)} =0$ (i.e., $\\pi^*(y')=0$) irrespective of what constant $\\tau$ is used for the KL-regularisation. Thus the strength of the KL-regularisation becomes weaker and weaker the more deterministic the preferences.\n",
    "\n",
    "The weakness of the KL-regularisation becomes even more pronounced in the finite data regime, where we only have access to a sample estimate of the preference $\\hat{p}(y \\succ y' )$. Even if the true preference is, e.g., $p^* (y \\succ y') = 0.8$, empirically it can be very possible when we only have a few data points to estimate $\\hat{p}(y \\succ y' ) = 1$, in which case the empirical optimal policy would make $\\pi(y')=0$ for any $\\tau$. **This means that overfitting can be a substantial empirical issue, especially when the context and action spaces are extremely large as it is for large language models.**"
   ]
  },
  {
   "cell_type": "code",
   "execution_count": 7,
   "id": "8d1bb690-a302-48ca-bcfa-cb5b59b20380",
   "metadata": {},
   "outputs": [
    {
     "data": {
      "text/html": [
       "<pre style=\"white-space:pre;overflow-x:auto;line-height:normal;font-family:Menlo,'DejaVu Sans Mono',consolas,'Courier New',monospace\">step <span style=\"color: #008080; text-decoration-color: #008080; font-weight: bold\">0</span>, loss:<span style=\"color: #008080; text-decoration-color: #008080; font-weight: bold\">0.27543747425079346</span>, pi_rej:<span style=\"color: #008080; text-decoration-color: #008080; font-weight: bold\">0.02571609802544117</span>, log_pro<span style=\"color: #00ff00; text-decoration-color: #00ff00; font-weight: bold\">b:0</span>.<span style=\"color: #008080; text-decoration-color: #008080; font-weight: bold\">5251864194869995</span>\n",
       "</pre>\n"
      ],
      "text/plain": [
       "step \u001b[1;36m0\u001b[0m, loss:\u001b[1;36m0.27543747425079346\u001b[0m, pi_rej:\u001b[1;36m0.02571609802544117\u001b[0m, log_pro\u001b[1;92mb:0\u001b[0m.\u001b[1;36m5251864194869995\u001b[0m\n"
      ]
     },
     "metadata": {},
     "output_type": "display_data"
    },
    {
     "data": {
      "text/html": [
       "<pre style=\"white-space:pre;overflow-x:auto;line-height:normal;font-family:Menlo,'DejaVu Sans Mono',consolas,'Courier New',monospace\">step <span style=\"color: #008080; text-decoration-color: #008080; font-weight: bold\">10</span>, loss:<span style=\"color: #008080; text-decoration-color: #008080; font-weight: bold\">0.18525154888629913</span>, pi_rej:<span style=\"color: #008080; text-decoration-color: #008080; font-weight: bold\">0.0008630071533843875</span>, log_pro<span style=\"color: #00ff00; text-decoration-color: #00ff00; font-weight: bold\">b:0</span>.<span style=\"color: #008080; text-decoration-color: #008080; font-weight: bold\">6439502835273743</span>\n",
       "</pre>\n"
      ],
      "text/plain": [
       "step \u001b[1;36m10\u001b[0m, loss:\u001b[1;36m0.18525154888629913\u001b[0m, pi_rej:\u001b[1;36m0.0008630071533843875\u001b[0m, log_pro\u001b[1;92mb:0\u001b[0m.\u001b[1;36m6439502835273743\u001b[0m\n"
      ]
     },
     "metadata": {},
     "output_type": "display_data"
    },
    {
     "data": {
      "text/html": [
       "<pre style=\"white-space:pre;overflow-x:auto;line-height:normal;font-family:Menlo,'DejaVu Sans Mono',consolas,'Courier New',monospace\">step <span style=\"color: #008080; text-decoration-color: #008080; font-weight: bold\">20</span>, loss:<span style=\"color: #008080; text-decoration-color: #008080; font-weight: bold\">0.15686500072479248</span>, pi_rej:<span style=\"color: #008080; text-decoration-color: #008080; font-weight: bold\">0.00019264750881120563</span>, log_pro<span style=\"color: #00ff00; text-decoration-color: #00ff00; font-weight: bold\">b:0</span>.<span style=\"color: #008080; text-decoration-color: #008080; font-weight: bold\">6901400685310364</span>\n",
       "</pre>\n"
      ],
      "text/plain": [
       "step \u001b[1;36m20\u001b[0m, loss:\u001b[1;36m0.15686500072479248\u001b[0m, pi_rej:\u001b[1;36m0.00019264750881120563\u001b[0m, log_pro\u001b[1;92mb:0\u001b[0m.\u001b[1;36m6901400685310364\u001b[0m\n"
      ]
     },
     "metadata": {},
     "output_type": "display_data"
    },
    {
     "data": {
      "text/html": [
       "<pre style=\"white-space:pre;overflow-x:auto;line-height:normal;font-family:Menlo,'DejaVu Sans Mono',consolas,'Courier New',monospace\">step <span style=\"color: #008080; text-decoration-color: #008080; font-weight: bold\">30</span>, loss:<span style=\"color: #008080; text-decoration-color: #008080; font-weight: bold\">0.13771897554397583</span>, pi_rej:<span style=\"color: #008080; text-decoration-color: #008080; font-weight: bold\">5.310169217409566e-05</span>, log_pro<span style=\"color: #00ff00; text-decoration-color: #00ff00; font-weight: bold\">b:0</span>.<span style=\"color: #008080; text-decoration-color: #008080; font-weight: bold\">7245691418647766</span>\n",
       "</pre>\n"
      ],
      "text/plain": [
       "step \u001b[1;36m30\u001b[0m, loss:\u001b[1;36m0.13771897554397583\u001b[0m, pi_rej:\u001b[1;36m5.310169217409566e-05\u001b[0m, log_pro\u001b[1;92mb:0\u001b[0m.\u001b[1;36m7245691418647766\u001b[0m\n"
      ]
     },
     "metadata": {},
     "output_type": "display_data"
    },
    {
     "data": {
      "text/html": [
       "<pre style=\"white-space:pre;overflow-x:auto;line-height:normal;font-family:Menlo,'DejaVu Sans Mono',consolas,'Courier New',monospace\">step <span style=\"color: #008080; text-decoration-color: #008080; font-weight: bold\">40</span>, loss:<span style=\"color: #008080; text-decoration-color: #008080; font-weight: bold\">0.11610408872365952</span>, pi_rej:<span style=\"color: #008080; text-decoration-color: #008080; font-weight: bold\">1.0352722711104434e-05</span>, log_pro<span style=\"color: #00ff00; text-decoration-color: #00ff00; font-weight: bold\">b:0</span>.<span style=\"color: #008080; text-decoration-color: #008080; font-weight: bold\">7606845498085022</span>\n",
       "</pre>\n"
      ],
      "text/plain": [
       "step \u001b[1;36m40\u001b[0m, loss:\u001b[1;36m0.11610408872365952\u001b[0m, pi_rej:\u001b[1;36m1.0352722711104434e-05\u001b[0m, log_pro\u001b[1;92mb:0\u001b[0m.\u001b[1;36m7606845498085022\u001b[0m\n"
      ]
     },
     "metadata": {},
     "output_type": "display_data"
    },
    {
     "data": {
      "text/html": [
       "<pre style=\"white-space:pre;overflow-x:auto;line-height:normal;font-family:Menlo,'DejaVu Sans Mono',consolas,'Courier New',monospace\">step <span style=\"color: #008080; text-decoration-color: #008080; font-weight: bold\">50</span>, loss:<span style=\"color: #008080; text-decoration-color: #008080; font-weight: bold\">0.10306473821401596</span>, pi_rej:<span style=\"color: #008080; text-decoration-color: #008080; font-weight: bold\">3.1641964142181678e-06</span>, log_pro<span style=\"color: #00ff00; text-decoration-color: #00ff00; font-weight: bold\">b:0</span>.<span style=\"color: #008080; text-decoration-color: #008080; font-weight: bold\">7849951982498169</span>\n",
       "</pre>\n"
      ],
      "text/plain": [
       "step \u001b[1;36m50\u001b[0m, loss:\u001b[1;36m0.10306473821401596\u001b[0m, pi_rej:\u001b[1;36m3.1641964142181678e-06\u001b[0m, log_pro\u001b[1;92mb:0\u001b[0m.\u001b[1;36m7849951982498169\u001b[0m\n"
      ]
     },
     "metadata": {},
     "output_type": "display_data"
    },
    {
     "data": {
      "text/html": [
       "<pre style=\"white-space:pre;overflow-x:auto;line-height:normal;font-family:Menlo,'DejaVu Sans Mono',consolas,'Courier New',monospace\">step <span style=\"color: #008080; text-decoration-color: #008080; font-weight: bold\">60</span>, loss:<span style=\"color: #008080; text-decoration-color: #008080; font-weight: bold\">0.09161391109228134</span>, pi_rej:<span style=\"color: #008080; text-decoration-color: #008080; font-weight: bold\">9.90513171927887e-07</span>, log_pro<span style=\"color: #00ff00; text-decoration-color: #00ff00; font-weight: bold\">b:0</span>.<span style=\"color: #008080; text-decoration-color: #008080; font-weight: bold\">8045430183410645</span>\n",
       "</pre>\n"
      ],
      "text/plain": [
       "step \u001b[1;36m60\u001b[0m, loss:\u001b[1;36m0.09161391109228134\u001b[0m, pi_rej:\u001b[1;36m9.90513171927887e-07\u001b[0m, log_pro\u001b[1;92mb:0\u001b[0m.\u001b[1;36m8045430183410645\u001b[0m\n"
      ]
     },
     "metadata": {},
     "output_type": "display_data"
    },
    {
     "data": {
      "text/html": [
       "<pre style=\"white-space:pre;overflow-x:auto;line-height:normal;font-family:Menlo,'DejaVu Sans Mono',consolas,'Courier New',monospace\">step <span style=\"color: #008080; text-decoration-color: #008080; font-weight: bold\">70</span>, loss:<span style=\"color: #008080; text-decoration-color: #008080; font-weight: bold\">0.08273182809352875</span>, pi_rej:<span style=\"color: #008080; text-decoration-color: #008080; font-weight: bold\">3.521437861309096e-07</span>, log_pro<span style=\"color: #00ff00; text-decoration-color: #00ff00; font-weight: bold\">b:0</span>.<span style=\"color: #008080; text-decoration-color: #008080; font-weight: bold\">8213726878166199</span>\n",
       "</pre>\n"
      ],
      "text/plain": [
       "step \u001b[1;36m70\u001b[0m, loss:\u001b[1;36m0.08273182809352875\u001b[0m, pi_rej:\u001b[1;36m3.521437861309096e-07\u001b[0m, log_pro\u001b[1;92mb:0\u001b[0m.\u001b[1;36m8213726878166199\u001b[0m\n"
      ]
     },
     "metadata": {},
     "output_type": "display_data"
    },
    {
     "data": {
      "text/html": [
       "<pre style=\"white-space:pre;overflow-x:auto;line-height:normal;font-family:Menlo,'DejaVu Sans Mono',consolas,'Courier New',monospace\">step <span style=\"color: #008080; text-decoration-color: #008080; font-weight: bold\">80</span>, loss:<span style=\"color: #008080; text-decoration-color: #008080; font-weight: bold\">0.07515686005353928</span>, pi_rej:<span style=\"color: #008080; text-decoration-color: #008080; font-weight: bold\">1.3183397129523655e-07</span>, log_pro<span style=\"color: #00ff00; text-decoration-color: #00ff00; font-weight: bold\">b:0</span>.<span style=\"color: #008080; text-decoration-color: #008080; font-weight: bold\">8358487486839294</span>\n",
       "</pre>\n"
      ],
      "text/plain": [
       "step \u001b[1;36m80\u001b[0m, loss:\u001b[1;36m0.07515686005353928\u001b[0m, pi_rej:\u001b[1;36m1.3183397129523655e-07\u001b[0m, log_pro\u001b[1;92mb:0\u001b[0m.\u001b[1;36m8358487486839294\u001b[0m\n"
      ]
     },
     "metadata": {},
     "output_type": "display_data"
    },
    {
     "data": {
      "text/html": [
       "<pre style=\"white-space:pre;overflow-x:auto;line-height:normal;font-family:Menlo,'DejaVu Sans Mono',consolas,'Courier New',monospace\">step <span style=\"color: #008080; text-decoration-color: #008080; font-weight: bold\">90</span>, loss:<span style=\"color: #008080; text-decoration-color: #008080; font-weight: bold\">0.06924159824848175</span>, pi_rej:<span style=\"color: #008080; text-decoration-color: #008080; font-weight: bold\">5.6914647217354286e-08</span>, log_pro<span style=\"color: #00ff00; text-decoration-color: #00ff00; font-weight: bold\">b:0</span>.<span style=\"color: #008080; text-decoration-color: #008080; font-weight: bold\">8472704887390137</span>\n",
       "</pre>\n"
      ],
      "text/plain": [
       "step \u001b[1;36m90\u001b[0m, loss:\u001b[1;36m0.06924159824848175\u001b[0m, pi_rej:\u001b[1;36m5.6914647217354286e-08\u001b[0m, log_pro\u001b[1;92mb:0\u001b[0m.\u001b[1;36m8472704887390137\u001b[0m\n"
      ]
     },
     "metadata": {},
     "output_type": "display_data"
    }
   ],
   "source": [
    "# 手撕DPO训练\n",
    "import torch.optim as optim\n",
    "\n",
    "model = LlamaForCausalLM(config)\n",
    "optimizer = optim.SGD(model.parameters(), lr=0.1)\n",
    "epochs = 100\n",
    "epochs_print = epochs//10\n",
    "\n",
    "neg_poilicy_prob = [] # pi_l\n",
    "logistic_prob = [] # DPO beta( log(pi_w/pi_ref_w)  - log(pi_l/pi_ref_l))\n",
    "loss_record = [] # DPO loss\n",
    "for i in range(epochs):\n",
    "    \n",
    "    optimizer.zero_grad()\n",
    "\n",
    "    # forward get logits\n",
    "    with torch.no_grad():\n",
    "        logits_chosen_ref = ref_model(**x_chosen).logits\n",
    "        logits_rejected_ref = ref_model(**x_rejected).logits\n",
    "    logits_chosen = model(**x_chosen).logits\n",
    "    logits_rejected = model(**x_rejected).logits\n",
    "\n",
    "    # logits to logprob\n",
    "    probs_chosen_ref = get_probs(logits_chosen_ref, prompt_chosen)\n",
    "    probs_chosen = get_probs(logits_chosen, prompt_chosen)\n",
    "    probs_rejected_ref = get_probs(logits_rejected_ref, prompt_rejected)\n",
    "    probs_rejected = get_probs(logits_rejected, prompt_rejected)\n",
    "\n",
    "    # loss\n",
    "    beta = 0.1\n",
    "    pi_logratios = probs_chosen - probs_rejected\n",
    "    ref_logratios = probs_chosen_ref - probs_rejected_ref\n",
    "    logits = pi_logratios - ref_logratios\n",
    "    losses = -F.logsigmoid( beta * logits ) * label\n",
    "    loss = losses.sum(-1)/attention_mask.sum()\n",
    "\n",
    "    # print(loss)\n",
    "    loss_record.append(loss.item())\n",
    "\n",
    "    # loss back\n",
    "    loss.backward()\n",
    "    optimizer.step()\n",
    "\n",
    "    neg_poilicy_prob.append(torch.exp(probs_rejected[:,-1]).item())\n",
    "    logistic_prob.append(torch.sigmoid( beta * logits)[:,-1].item())\n",
    "    \n",
    "    if i % epochs_print == 0:\n",
    "        print(f'step {i}, loss:{loss.item()}, pi_rej:{neg_poilicy_prob[-1]}, log_prob:{logistic_prob[-1]}')\n",
    "        # print('negative sample policy Probability: ', torch.exp(probs_rejected[:,-1]).item())\n",
    "        # print('DPO Probability:', torch.sigmoid( beta * logits)[:,-1].item())"
   ]
  },
  {
   "cell_type": "code",
   "execution_count": 8,
   "id": "f626763a-6fb1-4c59-bb22-ff91aa84844c",
   "metadata": {},
   "outputs": [
    {
     "data": {
      "text/html": [
       "<pre style=\"white-space:pre;overflow-x:auto;line-height:normal;font-family:Menlo,'DejaVu Sans Mono',consolas,'Courier New',monospace\"></pre>\n"
      ],
      "text/plain": []
     },
     "metadata": {},
     "output_type": "display_data"
    },
    {
     "data": {
      "image/png": "[encoded data removed]",
      "text/plain": [
       "\u001b[1m<\u001b[0m\u001b[1;95mFigure\u001b[0m\u001b[39m size 120\u001b[0m\u001b[1;36m0x400\u001b[0m\u001b[39m with \u001b[0m\u001b[1;36m3\u001b[0m\u001b[39m Axes\u001b[0m\u001b[1m>\u001b[0m"
      ]
     },
     "metadata": {},
     "output_type": "display_data"
    }
   ],
   "source": [
    "import matplotlib.pyplot as plt\n",
    "\n",
    "fig, axes = plt.subplots(nrows=1, ncols=3, figsize=(12, 4))\n",
    "\n",
    "x = range(len(neg_poilicy_prob))\n",
    "y = neg_poilicy_prob\n",
    "axes[0].plot(x, y)\n",
    "axes[0].set_title('DPO rejected Policy Probability')\n",
    "axes[0].set_xlabel('epochs')\n",
    "axes[0].set_ylabel('prob')\n",
    "\n",
    "x = range(len(logistic_prob))\n",
    "y = logistic_prob\n",
    "axes[1].plot(x, y)\n",
    "axes[1].set_title('DPO sigmoid')\n",
    "axes[1].set_xlabel('epochs')\n",
    "axes[1].set_ylabel('prob')\n",
    "\n",
    "x = range(len(loss_record))\n",
    "y = loss_record\n",
    "axes[2].plot(x, y)\n",
    "axes[2].set_title('DPO loss')\n",
    "axes[2].set_xlabel('epochs')\n",
    "axes[2].set_ylabel('loss')\n",
    "\n",
    "# plt.grid(True)\n",
    "plt.show()"
   ]
  },
  {
   "cell_type": "markdown",
   "id": "a2a1006f-a76a-42c4-b9f3-22647cc6c220",
   "metadata": {},
   "source": [
    "# IPO"
   ]
  },
  {
   "cell_type": "markdown",
   "id": "4aadc85a-b4d2-45ef-9c15-4492981d8e65",
   "metadata": {},
   "source": [
    "IPO的$h_\\pi(y, y',x)$可展开成偏好的形式，可以复用DPO的logits计算公式\n",
    "$$\n",
    "\\begin{align*} h_\\pi(y, y',x) &= \\log\\left( \\frac{\\pi(y|x)\\pi_{ref}(y'|x)}{\\pi(y'|x)\\pi_{ref}(y|x)} \\right) \\\\\n",
    "&=\\log \\frac{\\pi(y|x)\\pi_{ref}(y'|x)}{\\pi_{ref}(y|x)\\pi(y'|x)}\\\\\n",
    "&= \\log \\frac{\\pi(y|x)}{\\pi_{ref}(y|x)} + \\log\\frac{\\pi_{ref}(y'|x)}{\\pi(y'|x)} \\\\\n",
    "&= \\log \\frac{\\pi(y|x)}{\\pi_{ref}(y|x)} - \\log\\frac{\\pi(y'|x)}{\\pi_{ref}(y'|x)}\n",
    "\\end{align*}\n",
    "$$\n",
    "差异在与DPO的$\\beta$ 超参数，在IPO中是$\\frac{\\tau^{-1}}{2}$​, IPO损失函数是二次的能够收敛\n",
    "\n",
    "> This simplified form of the loss  provides some valuable insights on the way in which ipo optimizes the policy $\\pi$:   ipo learns from preferences dataset simply  by regressing the gap between log-likelihood ratios $\\log(\\pi(y_{w})/\\pi(y_{l}))$ and $\\log(\\pi_{ref}(y_{w})/\\pi_{ref}(y_{l}))$  to $\\frac{\\tau^{-1}}2$.\n",
    "\n",
    "$$\n",
    "\\begin{align*}\n",
    "     \\underset{(y_w,y_l,x)\\sim D}{\\mathbb E} \\left(h_\\pi(y_{w}, y_{l},x) - \\frac{\\textcolor{red}{\\tau^{-1}}}2\\right)^2 .\n",
    "\\end{align*}\n",
    "$$"
   ]
  },
  {
   "cell_type": "code",
   "execution_count": 9,
   "id": "317aac14-d386-4d25-852f-fb99f7494bca",
   "metadata": {},
   "outputs": [],
   "source": [
    "def get_logits(model, ref_model, x_chosen, x_rejected):\n",
    "    # forward get logits\n",
    "    with torch.no_grad():\n",
    "        logits_chosen_ref = ref_model(**x_chosen).logits\n",
    "        logits_rejected_ref = ref_model(**x_rejected).logits\n",
    "    logits_chosen = model(**x_chosen).logits\n",
    "    logits_rejected = model(**x_rejected).logits\n",
    "\n",
    "    # logits to logprob\n",
    "    probs_chosen_ref = get_probs(logits_chosen_ref, prompt_chosen)\n",
    "    probs_chosen = get_probs(logits_chosen, prompt_chosen)\n",
    "    probs_rejected_ref = get_probs(logits_rejected_ref, prompt_rejected)\n",
    "    probs_rejected = get_probs(logits_rejected, prompt_rejected)\n",
    "\n",
    "    # loss\n",
    "    # beta = 0.1\n",
    "    pi_logratios = probs_chosen - probs_rejected\n",
    "    ref_logratios = probs_chosen_ref - probs_rejected_ref\n",
    "    logits = pi_logratios - ref_logratios\n",
    "    return logits, probs_rejected"
   ]
  },
  {
   "cell_type": "code",
   "execution_count": 10,
   "id": "28f8f7fd-498e-46bd-b983-947fa475c228",
   "metadata": {},
   "outputs": [],
   "source": [
    "# 手撕IPO训练\n",
    "import torch.optim as optim\n",
    "\n",
    "def train_XPO(model, beta, loss_type, epochs, lr, optim_type='SGD'):\n",
    "    # model = LlamaForCausalLM(config)\n",
    "    if optim_type == 'ADAM':\n",
    "        optimizer = optim.Adam(model.parameters(), lr=lr)# 策略会有较多波动\n",
    "    elif optim_type == 'SGD':\n",
    "        optimizer = optim.SGD(model.parameters(), lr=lr) # 实际分析\n",
    "    epochs_print = epochs//10\n",
    "    \n",
    "    neg_poilicy_prob = [] \n",
    "    logistic_prob = [] \n",
    "    loss_record = []\n",
    "    for i in range(epochs):\n",
    "        \n",
    "        optimizer.zero_grad()\n",
    "        logits, probs_rejected = get_logits(model, ref_model, x_chosen, x_rejected)\n",
    "\n",
    "        constant = 1.0 / ( beta * 2.0 ) # IPO\n",
    "        losses = None\n",
    "        if loss_type == 'DPO' :\n",
    "            losses = -F.logsigmoid( beta * logits ) * label\n",
    "        elif loss_type == 'IPO' :\n",
    "            losses = torch.square( logits - constant ) * label\n",
    "            \n",
    "        loss = losses.sum(-1)/attention_mask.sum()\n",
    "        neg_poilicy_prob.append(torch.exp(probs_rejected[:,-1]).item())\n",
    "        # logistic_prob.append(torch.square(logits - constant)[:,-1].item())\n",
    "        loss_record.append(loss.item())\n",
    "\n",
    "        # loss back\n",
    "        loss.backward()\n",
    "        optimizer.step()\n",
    "        is_print = False\n",
    "        if i % epochs_print == 0 & is_print:\n",
    "            print(f'step {i}, loss:{loss.item()}, pi_rej:{neg_poilicy_prob[-1]}')\n",
    "    print('-'*50)\n",
    "    return neg_poilicy_prob, logistic_prob, loss_record"
   ]
  },
  {
   "cell_type": "code",
   "execution_count": 11,
   "id": "a8af528a-27be-40b5-9041-01fb29ddd97a",
   "metadata": {},
   "outputs": [],
   "source": [
    "import copy\n",
    "model = LlamaForCausalLM(config)"
   ]
  },
  {
   "cell_type": "code",
   "execution_count": 12,
   "id": "a16e8112-81de-4d9f-9c55-3c56708a1b7d",
   "metadata": {
    "scrolled": true
   },
   "outputs": [
    {
     "data": {
      "text/html": [
       "<pre style=\"white-space:pre;overflow-x:auto;line-height:normal;font-family:Menlo,'DejaVu Sans Mono',consolas,'Courier New',monospace\">step <span style=\"color: #008080; text-decoration-color: #008080; font-weight: bold\">0</span>, loss:<span style=\"color: #008080; text-decoration-color: #008080; font-weight: bold\">9.241183280944824</span>, pi_rej:<span style=\"color: #008080; text-decoration-color: #008080; font-weight: bold\">0.028185999020934105</span>\n",
       "</pre>\n"
      ],
      "text/plain": [
       "step \u001b[1;36m0\u001b[0m, loss:\u001b[1;36m9.241183280944824\u001b[0m, pi_rej:\u001b[1;36m0.028185999020934105\u001b[0m\n"
      ]
     },
     "metadata": {},
     "output_type": "display_data"
    },
    {
     "data": {
      "text/html": [
       "<pre style=\"white-space:pre;overflow-x:auto;line-height:normal;font-family:Menlo,'DejaVu Sans Mono',consolas,'Courier New',monospace\">step <span style=\"color: #008080; text-decoration-color: #008080; font-weight: bold\">10</span>, loss:<span style=\"color: #008080; text-decoration-color: #008080; font-weight: bold\">3.000115156173706</span>, pi_rej:<span style=\"color: #008080; text-decoration-color: #008080; font-weight: bold\">0.009844155982136726</span>\n",
       "</pre>\n"
      ],
      "text/plain": [
       "step \u001b[1;36m10\u001b[0m, loss:\u001b[1;36m3.000115156173706\u001b[0m, pi_rej:\u001b[1;36m0.009844155982136726\u001b[0m\n"
      ]
     },
     "metadata": {},
     "output_type": "display_data"
    },
    {
     "data": {
      "text/html": [
       "<pre style=\"white-space:pre;overflow-x:auto;line-height:normal;font-family:Menlo,'DejaVu Sans Mono',consolas,'Courier New',monospace\">step <span style=\"color: #008080; text-decoration-color: #008080; font-weight: bold\">20</span>, loss:<span style=\"color: #008080; text-decoration-color: #008080; font-weight: bold\">1.5880062580108643</span>, pi_rej:<span style=\"color: #008080; text-decoration-color: #008080; font-weight: bold\">0.00653720973059535</span>\n",
       "</pre>\n"
      ],
      "text/plain": [
       "step \u001b[1;36m20\u001b[0m, loss:\u001b[1;36m1.5880062580108643\u001b[0m, pi_rej:\u001b[1;36m0.00653720973059535\u001b[0m\n"
      ]
     },
     "metadata": {},
     "output_type": "display_data"
    },
    {
     "data": {
      "text/html": [
       "<pre style=\"white-space:pre;overflow-x:auto;line-height:normal;font-family:Menlo,'DejaVu Sans Mono',consolas,'Courier New',monospace\">step <span style=\"color: #008080; text-decoration-color: #008080; font-weight: bold\">30</span>, loss:<span style=\"color: #008080; text-decoration-color: #008080; font-weight: bold\">0.9619183540344238</span>, pi_rej:<span style=\"color: #008080; text-decoration-color: #008080; font-weight: bold\">0.005039808806031942</span>\n",
       "</pre>\n"
      ],
      "text/plain": [
       "step \u001b[1;36m30\u001b[0m, loss:\u001b[1;36m0.9619183540344238\u001b[0m, pi_rej:\u001b[1;36m0.005039808806031942\u001b[0m\n"
      ]
     },
     "metadata": {},
     "output_type": "display_data"
    },
    {
     "data": {
      "text/html": [
       "<pre style=\"white-space:pre;overflow-x:auto;line-height:normal;font-family:Menlo,'DejaVu Sans Mono',consolas,'Courier New',monospace\">step <span style=\"color: #008080; text-decoration-color: #008080; font-weight: bold\">40</span>, loss:<span style=\"color: #008080; text-decoration-color: #008080; font-weight: bold\">0.6139577627182007</span>, pi_rej:<span style=\"color: #008080; text-decoration-color: #008080; font-weight: bold\">0.004204006399959326</span>\n",
       "</pre>\n"
      ],
      "text/plain": [
       "step \u001b[1;36m40\u001b[0m, loss:\u001b[1;36m0.6139577627182007\u001b[0m, pi_rej:\u001b[1;36m0.004204006399959326\u001b[0m\n"
      ]
     },
     "metadata": {},
     "output_type": "display_data"
    },
    {
     "data": {
      "text/html": [
       "<pre style=\"white-space:pre;overflow-x:auto;line-height:normal;font-family:Menlo,'DejaVu Sans Mono',consolas,'Courier New',monospace\">step <span style=\"color: #008080; text-decoration-color: #008080; font-weight: bold\">50</span>, loss:<span style=\"color: #008080; text-decoration-color: #008080; font-weight: bold\">0.40225809812545776</span>, pi_rej:<span style=\"color: #008080; text-decoration-color: #008080; font-weight: bold\">0.003679264336824417</span>\n",
       "</pre>\n"
      ],
      "text/plain": [
       "step \u001b[1;36m50\u001b[0m, loss:\u001b[1;36m0.40225809812545776\u001b[0m, pi_rej:\u001b[1;36m0.003679264336824417\u001b[0m\n"
      ]
     },
     "metadata": {},
     "output_type": "display_data"
    },
    {
     "data": {
      "text/html": [
       "<pre style=\"white-space:pre;overflow-x:auto;line-height:normal;font-family:Menlo,'DejaVu Sans Mono',consolas,'Courier New',monospace\">step <span style=\"color: #008080; text-decoration-color: #008080; font-weight: bold\">60</span>, loss:<span style=\"color: #008080; text-decoration-color: #008080; font-weight: bold\">0.26754266023635864</span>, pi_rej:<span style=\"color: #008080; text-decoration-color: #008080; font-weight: bold\">0.00332315219566226</span>\n",
       "</pre>\n"
      ],
      "text/plain": [
       "step \u001b[1;36m60\u001b[0m, loss:\u001b[1;36m0.26754266023635864\u001b[0m, pi_rej:\u001b[1;36m0.00332315219566226\u001b[0m\n"
      ]
     },
     "metadata": {},
     "output_type": "display_data"
    },
    {
     "data": {
      "text/html": [
       "<pre style=\"white-space:pre;overflow-x:auto;line-height:normal;font-family:Menlo,'DejaVu Sans Mono',consolas,'Courier New',monospace\">step <span style=\"color: #008080; text-decoration-color: #008080; font-weight: bold\">70</span>, loss:<span style=\"color: #008080; text-decoration-color: #008080; font-weight: bold\">0.17960873246192932</span>, pi_rej:<span style=\"color: #008080; text-decoration-color: #008080; font-weight: bold\">0.003068384947255254</span>\n",
       "</pre>\n"
      ],
      "text/plain": [
       "step \u001b[1;36m70\u001b[0m, loss:\u001b[1;36m0.17960873246192932\u001b[0m, pi_rej:\u001b[1;36m0.003068384947255254\u001b[0m\n"
      ]
     },
     "metadata": {},
     "output_type": "display_data"
    },
    {
     "data": {
      "text/html": [
       "<pre style=\"white-space:pre;overflow-x:auto;line-height:normal;font-family:Menlo,'DejaVu Sans Mono',consolas,'Courier New',monospace\">step <span style=\"color: #008080; text-decoration-color: #008080; font-weight: bold\">80</span>, loss:<span style=\"color: #008080; text-decoration-color: #008080; font-weight: bold\">0.12130749225616455</span>, pi_rej:<span style=\"color: #008080; text-decoration-color: #008080; font-weight: bold\">0.002879391424357891</span>\n",
       "</pre>\n"
      ],
      "text/plain": [
       "step \u001b[1;36m80\u001b[0m, loss:\u001b[1;36m0.12130749225616455\u001b[0m, pi_rej:\u001b[1;36m0.002879391424357891\u001b[0m\n"
      ]
     },
     "metadata": {},
     "output_type": "display_data"
    },
    {
     "data": {
      "text/html": [
       "<pre style=\"white-space:pre;overflow-x:auto;line-height:normal;font-family:Menlo,'DejaVu Sans Mono',consolas,'Courier New',monospace\">step <span style=\"color: #008080; text-decoration-color: #008080; font-weight: bold\">90</span>, loss:<span style=\"color: #008080; text-decoration-color: #008080; font-weight: bold\">0.08226241171360016</span>, pi_rej:<span style=\"color: #008080; text-decoration-color: #008080; font-weight: bold\">0.0027355703059583902</span>\n",
       "</pre>\n"
      ],
      "text/plain": [
       "step \u001b[1;36m90\u001b[0m, loss:\u001b[1;36m0.08226241171360016\u001b[0m, pi_rej:\u001b[1;36m0.0027355703059583902\u001b[0m\n"
      ]
     },
     "metadata": {},
     "output_type": "display_data"
    },
    {
     "data": {
      "text/html": [
       "<pre style=\"white-space:pre;overflow-x:auto;line-height:normal;font-family:Menlo,'DejaVu Sans Mono',consolas,'Courier New',monospace\">--------------------------------------------------\n",
       "</pre>\n"
      ],
      "text/plain": [
       "--------------------------------------------------\n"
      ]
     },
     "metadata": {},
     "output_type": "display_data"
    },
    {
     "data": {
      "text/html": [
       "<pre style=\"white-space:pre;overflow-x:auto;line-height:normal;font-family:Menlo,'DejaVu Sans Mono',consolas,'Courier New',monospace\">step <span style=\"color: #008080; text-decoration-color: #008080; font-weight: bold\">0</span>, loss:<span style=\"color: #008080; text-decoration-color: #008080; font-weight: bold\">0.32821744680404663</span>, pi_rej:<span style=\"color: #008080; text-decoration-color: #008080; font-weight: bold\">0.028185999020934105</span>\n",
       "</pre>\n"
      ],
      "text/plain": [
       "step \u001b[1;36m0\u001b[0m, loss:\u001b[1;36m0.32821744680404663\u001b[0m, pi_rej:\u001b[1;36m0.028185999020934105\u001b[0m\n"
      ]
     },
     "metadata": {},
     "output_type": "display_data"
    },
    {
     "data": {
      "text/html": [
       "<pre style=\"white-space:pre;overflow-x:auto;line-height:normal;font-family:Menlo,'DejaVu Sans Mono',consolas,'Courier New',monospace\">step <span style=\"color: #008080; text-decoration-color: #008080; font-weight: bold\">10</span>, loss:<span style=\"color: #008080; text-decoration-color: #008080; font-weight: bold\">0.0698447972536087</span>, pi_rej:<span style=\"color: #008080; text-decoration-color: #008080; font-weight: bold\">0.021184636279940605</span>\n",
       "</pre>\n"
      ],
      "text/plain": [
       "step \u001b[1;36m10\u001b[0m, loss:\u001b[1;36m0.0698447972536087\u001b[0m, pi_rej:\u001b[1;36m0.021184636279940605\u001b[0m\n"
      ]
     },
     "metadata": {},
     "output_type": "display_data"
    },
    {
     "data": {
      "text/html": [
       "<pre style=\"white-space:pre;overflow-x:auto;line-height:normal;font-family:Menlo,'DejaVu Sans Mono',consolas,'Courier New',monospace\">step <span style=\"color: #008080; text-decoration-color: #008080; font-weight: bold\">20</span>, loss:<span style=\"color: #008080; text-decoration-color: #008080; font-weight: bold\">0.015846412628889084</span>, pi_rej:<span style=\"color: #008080; text-decoration-color: #008080; font-weight: bold\">0.018712883815169334</span>\n",
       "</pre>\n"
      ],
      "text/plain": [
       "step \u001b[1;36m20\u001b[0m, loss:\u001b[1;36m0.015846412628889084\u001b[0m, pi_rej:\u001b[1;36m0.018712883815169334\u001b[0m\n"
      ]
     },
     "metadata": {},
     "output_type": "display_data"
    },
    {
     "data": {
      "text/html": [
       "<pre style=\"white-space:pre;overflow-x:auto;line-height:normal;font-family:Menlo,'DejaVu Sans Mono',consolas,'Courier New',monospace\">step <span style=\"color: #008080; text-decoration-color: #008080; font-weight: bold\">30</span>, loss:<span style=\"color: #008080; text-decoration-color: #008080; font-weight: bold\">0.0038118339143693447</span>, pi_rej:<span style=\"color: #008080; text-decoration-color: #008080; font-weight: bold\">0.0176984965801239</span>\n",
       "</pre>\n"
      ],
      "text/plain": [
       "step \u001b[1;36m30\u001b[0m, loss:\u001b[1;36m0.0038118339143693447\u001b[0m, pi_rej:\u001b[1;36m0.0176984965801239\u001b[0m\n"
      ]
     },
     "metadata": {},
     "output_type": "display_data"
    },
    {
     "data": {
      "text/html": [
       "<pre style=\"white-space:pre;overflow-x:auto;line-height:normal;font-family:Menlo,'DejaVu Sans Mono',consolas,'Courier New',monospace\">step <span style=\"color: #008080; text-decoration-color: #008080; font-weight: bold\">40</span>, loss:<span style=\"color: #008080; text-decoration-color: #008080; font-weight: bold\">0.000958874064963311</span>, pi_rej:<span style=\"color: #008080; text-decoration-color: #008080; font-weight: bold\">0.017246972769498825</span>\n",
       "</pre>\n"
      ],
      "text/plain": [
       "step \u001b[1;36m40\u001b[0m, loss:\u001b[1;36m0.000958874064963311\u001b[0m, pi_rej:\u001b[1;36m0.017246972769498825\u001b[0m\n"
      ]
     },
     "metadata": {},
     "output_type": "display_data"
    },
    {
     "data": {
      "text/html": [
       "<pre style=\"white-space:pre;overflow-x:auto;line-height:normal;font-family:Menlo,'DejaVu Sans Mono',consolas,'Courier New',monospace\">step <span style=\"color: #008080; text-decoration-color: #008080; font-weight: bold\">50</span>, loss:<span style=\"color: #008080; text-decoration-color: #008080; font-weight: bold\">0.00024955178378149867</span>, pi_rej:<span style=\"color: #008080; text-decoration-color: #008080; font-weight: bold\">0.0170372873544693</span>\n",
       "</pre>\n"
      ],
      "text/plain": [
       "step \u001b[1;36m50\u001b[0m, loss:\u001b[1;36m0.00024955178378149867\u001b[0m, pi_rej:\u001b[1;36m0.0170372873544693\u001b[0m\n"
      ]
     },
     "metadata": {},
     "output_type": "display_data"
    },
    {
     "data": {
      "text/html": [
       "<pre style=\"white-space:pre;overflow-x:auto;line-height:normal;font-family:Menlo,'DejaVu Sans Mono',consolas,'Courier New',monospace\">step <span style=\"color: #008080; text-decoration-color: #008080; font-weight: bold\">60</span>, loss:<span style=\"color: #008080; text-decoration-color: #008080; font-weight: bold\">6.668438436463475e-05</span>, pi_rej:<span style=\"color: #008080; text-decoration-color: #008080; font-weight: bold\">0.01693759858608246</span>\n",
       "</pre>\n"
      ],
      "text/plain": [
       "step \u001b[1;36m60\u001b[0m, loss:\u001b[1;36m6.668438436463475e-05\u001b[0m, pi_rej:\u001b[1;36m0.01693759858608246\u001b[0m\n"
      ]
     },
     "metadata": {},
     "output_type": "display_data"
    },
    {
     "data": {
      "text/html": [
       "<pre style=\"white-space:pre;overflow-x:auto;line-height:normal;font-family:Menlo,'DejaVu Sans Mono',consolas,'Courier New',monospace\">step <span style=\"color: #008080; text-decoration-color: #008080; font-weight: bold\">70</span>, loss:<span style=\"color: #008080; text-decoration-color: #008080; font-weight: bold\">1.8197568351752125e-05</span>, pi_rej:<span style=\"color: #008080; text-decoration-color: #008080; font-weight: bold\">0.01688951440155506</span>\n",
       "</pre>\n"
      ],
      "text/plain": [
       "step \u001b[1;36m70\u001b[0m, loss:\u001b[1;36m1.8197568351752125e-05\u001b[0m, pi_rej:\u001b[1;36m0.01688951440155506\u001b[0m\n"
      ]
     },
     "metadata": {},
     "output_type": "display_data"
    },
    {
     "data": {
      "text/html": [
       "<pre style=\"white-space:pre;overflow-x:auto;line-height:normal;font-family:Menlo,'DejaVu Sans Mono',consolas,'Courier New',monospace\">step <span style=\"color: #008080; text-decoration-color: #008080; font-weight: bold\">80</span>, loss:<span style=\"color: #008080; text-decoration-color: #008080; font-weight: bold\">5.051856078353012e-06</span>, pi_rej:<span style=\"color: #008080; text-decoration-color: #008080; font-weight: bold\">0.016866078600287437</span>\n",
       "</pre>\n"
      ],
      "text/plain": [
       "step \u001b[1;36m80\u001b[0m, loss:\u001b[1;36m5.051856078353012e-06\u001b[0m, pi_rej:\u001b[1;36m0.016866078600287437\u001b[0m\n"
      ]
     },
     "metadata": {},
     "output_type": "display_data"
    },
    {
     "data": {
      "text/html": [
       "<pre style=\"white-space:pre;overflow-x:auto;line-height:normal;font-family:Menlo,'DejaVu Sans Mono',consolas,'Courier New',monospace\">step <span style=\"color: #008080; text-decoration-color: #008080; font-weight: bold\">90</span>, loss:<span style=\"color: #008080; text-decoration-color: #008080; font-weight: bold\">1.4240991959013627e-06</span>, pi_rej:<span style=\"color: #008080; text-decoration-color: #008080; font-weight: bold\">0.016854582354426384</span>\n",
       "</pre>\n"
      ],
      "text/plain": [
       "step \u001b[1;36m90\u001b[0m, loss:\u001b[1;36m1.4240991959013627e-06\u001b[0m, pi_rej:\u001b[1;36m0.016854582354426384\u001b[0m\n"
      ]
     },
     "metadata": {},
     "output_type": "display_data"
    },
    {
     "data": {
      "text/html": [
       "<pre style=\"white-space:pre;overflow-x:auto;line-height:normal;font-family:Menlo,'DejaVu Sans Mono',consolas,'Courier New',monospace\">--------------------------------------------------\n",
       "</pre>\n"
      ],
      "text/plain": [
       "--------------------------------------------------\n"
      ]
     },
     "metadata": {},
     "output_type": "display_data"
    },
    {
     "data": {
      "text/html": [
       "<pre style=\"white-space:pre;overflow-x:auto;line-height:normal;font-family:Menlo,'DejaVu Sans Mono',consolas,'Courier New',monospace\">step <span style=\"color: #008080; text-decoration-color: #008080; font-weight: bold\">0</span>, loss:<span style=\"color: #008080; text-decoration-color: #008080; font-weight: bold\">0.1140967383980751</span>, pi_rej:<span style=\"color: #008080; text-decoration-color: #008080; font-weight: bold\">0.028185999020934105</span>\n",
       "</pre>\n"
      ],
      "text/plain": [
       "step \u001b[1;36m0\u001b[0m, loss:\u001b[1;36m0.1140967383980751\u001b[0m, pi_rej:\u001b[1;36m0.028185999020934105\u001b[0m\n"
      ]
     },
     "metadata": {},
     "output_type": "display_data"
    },
    {
     "data": {
      "text/html": [
       "<pre style=\"white-space:pre;overflow-x:auto;line-height:normal;font-family:Menlo,'DejaVu Sans Mono',consolas,'Courier New',monospace\">step <span style=\"color: #008080; text-decoration-color: #008080; font-weight: bold\">10</span>, loss:<span style=\"color: #008080; text-decoration-color: #008080; font-weight: bold\">0.021921474486589432</span>, pi_rej:<span style=\"color: #008080; text-decoration-color: #008080; font-weight: bold\">0.024130914360284805</span>\n",
       "</pre>\n"
      ],
      "text/plain": [
       "step \u001b[1;36m10\u001b[0m, loss:\u001b[1;36m0.021921474486589432\u001b[0m, pi_rej:\u001b[1;36m0.024130914360284805\u001b[0m\n"
      ]
     },
     "metadata": {},
     "output_type": "display_data"
    },
    {
     "data": {
      "text/html": [
       "<pre style=\"white-space:pre;overflow-x:auto;line-height:normal;font-family:Menlo,'DejaVu Sans Mono',consolas,'Courier New',monospace\">step <span style=\"color: #008080; text-decoration-color: #008080; font-weight: bold\">20</span>, loss:<span style=\"color: #008080; text-decoration-color: #008080; font-weight: bold\">0.004328717477619648</span>, pi_rej:<span style=\"color: #008080; text-decoration-color: #008080; font-weight: bold\">0.02248886600136757</span>\n",
       "</pre>\n"
      ],
      "text/plain": [
       "step \u001b[1;36m20\u001b[0m, loss:\u001b[1;36m0.004328717477619648\u001b[0m, pi_rej:\u001b[1;36m0.02248886600136757\u001b[0m\n"
      ]
     },
     "metadata": {},
     "output_type": "display_data"
    },
    {
     "data": {
      "text/html": [
       "<pre style=\"white-space:pre;overflow-x:auto;line-height:normal;font-family:Menlo,'DejaVu Sans Mono',consolas,'Courier New',monospace\">step <span style=\"color: #008080; text-decoration-color: #008080; font-weight: bold\">30</span>, loss:<span style=\"color: #008080; text-decoration-color: #008080; font-weight: bold\">0.0008835766348056495</span>, pi_rej:<span style=\"color: #008080; text-decoration-color: #008080; font-weight: bold\">0.021779734641313553</span>\n",
       "</pre>\n"
      ],
      "text/plain": [
       "step \u001b[1;36m30\u001b[0m, loss:\u001b[1;36m0.0008835766348056495\u001b[0m, pi_rej:\u001b[1;36m0.021779734641313553\u001b[0m\n"
      ]
     },
     "metadata": {},
     "output_type": "display_data"
    },
    {
     "data": {
      "text/html": [
       "<pre style=\"white-space:pre;overflow-x:auto;line-height:normal;font-family:Menlo,'DejaVu Sans Mono',consolas,'Courier New',monospace\">step <span style=\"color: #008080; text-decoration-color: #008080; font-weight: bold\">40</span>, loss:<span style=\"color: #008080; text-decoration-color: #008080; font-weight: bold\">0.00018642170471139252</span>, pi_rej:<span style=\"color: #008080; text-decoration-color: #008080; font-weight: bold\">0.021462177857756615</span>\n",
       "</pre>\n"
      ],
      "text/plain": [
       "step \u001b[1;36m40\u001b[0m, loss:\u001b[1;36m0.00018642170471139252\u001b[0m, pi_rej:\u001b[1;36m0.021462177857756615\u001b[0m\n"
      ]
     },
     "metadata": {},
     "output_type": "display_data"
    },
    {
     "data": {
      "text/html": [
       "<pre style=\"white-space:pre;overflow-x:auto;line-height:normal;font-family:Menlo,'DejaVu Sans Mono',consolas,'Courier New',monospace\">step <span style=\"color: #008080; text-decoration-color: #008080; font-weight: bold\">50</span>, loss:<span style=\"color: #008080; text-decoration-color: #008080; font-weight: bold\">4.0681905375095084e-05</span>, pi_rej:<span style=\"color: #008080; text-decoration-color: #008080; font-weight: bold\">0.02131732553243637</span>\n",
       "</pre>\n"
      ],
      "text/plain": [
       "step \u001b[1;36m50\u001b[0m, loss:\u001b[1;36m4.0681905375095084e-05\u001b[0m, pi_rej:\u001b[1;36m0.02131732553243637\u001b[0m\n"
      ]
     },
     "metadata": {},
     "output_type": "display_data"
    },
    {
     "data": {
      "text/html": [
       "<pre style=\"white-space:pre;overflow-x:auto;line-height:normal;font-family:Menlo,'DejaVu Sans Mono',consolas,'Courier New',monospace\">step <span style=\"color: #008080; text-decoration-color: #008080; font-weight: bold\">60</span>, loss:<span style=\"color: #008080; text-decoration-color: #008080; font-weight: bold\">9.191646313411184e-06</span>, pi_rej:<span style=\"color: #008080; text-decoration-color: #008080; font-weight: bold\">0.02125060185790062</span>\n",
       "</pre>\n"
      ],
      "text/plain": [
       "step \u001b[1;36m60\u001b[0m, loss:\u001b[1;36m9.191646313411184e-06\u001b[0m, pi_rej:\u001b[1;36m0.02125060185790062\u001b[0m\n"
      ]
     },
     "metadata": {},
     "output_type": "display_data"
    },
    {
     "data": {
      "text/html": [
       "<pre style=\"white-space:pre;overflow-x:auto;line-height:normal;font-family:Menlo,'DejaVu Sans Mono',consolas,'Courier New',monospace\">step <span style=\"color: #008080; text-decoration-color: #008080; font-weight: bold\">70</span>, loss:<span style=\"color: #008080; text-decoration-color: #008080; font-weight: bold\">2.1525854663195787e-06</span>, pi_rej:<span style=\"color: #008080; text-decoration-color: #008080; font-weight: bold\">0.021219708025455475</span>\n",
       "</pre>\n"
      ],
      "text/plain": [
       "step \u001b[1;36m70\u001b[0m, loss:\u001b[1;36m2.1525854663195787e-06\u001b[0m, pi_rej:\u001b[1;36m0.021219708025455475\u001b[0m\n"
      ]
     },
     "metadata": {},
     "output_type": "display_data"
    },
    {
     "data": {
      "text/html": [
       "<pre style=\"white-space:pre;overflow-x:auto;line-height:normal;font-family:Menlo,'DejaVu Sans Mono',consolas,'Courier New',monospace\">step <span style=\"color: #008080; text-decoration-color: #008080; font-weight: bold\">80</span>, loss:<span style=\"color: #008080; text-decoration-color: #008080; font-weight: bold\">5.233673618931789e-07</span>, pi_rej:<span style=\"color: #008080; text-decoration-color: #008080; font-weight: bold\">0.021205363795161247</span>\n",
       "</pre>\n"
      ],
      "text/plain": [
       "step \u001b[1;36m80\u001b[0m, loss:\u001b[1;36m5.233673618931789e-07\u001b[0m, pi_rej:\u001b[1;36m0.021205363795161247\u001b[0m\n"
      ]
     },
     "metadata": {},
     "output_type": "display_data"
    },
    {
     "data": {
      "text/html": [
       "<pre style=\"white-space:pre;overflow-x:auto;line-height:normal;font-family:Menlo,'DejaVu Sans Mono',consolas,'Courier New',monospace\">step <span style=\"color: #008080; text-decoration-color: #008080; font-weight: bold\">90</span>, loss:<span style=\"color: #008080; text-decoration-color: #008080; font-weight: bold\">1.3274295440623973e-07</span>, pi_rej:<span style=\"color: #008080; text-decoration-color: #008080; font-weight: bold\">0.02119869738817215</span>\n",
       "</pre>\n"
      ],
      "text/plain": [
       "step \u001b[1;36m90\u001b[0m, loss:\u001b[1;36m1.3274295440623973e-07\u001b[0m, pi_rej:\u001b[1;36m0.02119869738817215\u001b[0m\n"
      ]
     },
     "metadata": {},
     "output_type": "display_data"
    },
    {
     "data": {
      "text/html": [
       "<pre style=\"white-space:pre;overflow-x:auto;line-height:normal;font-family:Menlo,'DejaVu Sans Mono',consolas,'Courier New',monospace\">--------------------------------------------------\n",
       "</pre>\n"
      ],
      "text/plain": [
       "--------------------------------------------------\n"
      ]
     },
     "metadata": {},
     "output_type": "display_data"
    },
    {
     "data": {
      "text/html": [
       "<pre style=\"white-space:pre;overflow-x:auto;line-height:normal;font-family:Menlo,'DejaVu Sans Mono',consolas,'Courier New',monospace\">step <span style=\"color: #008080; text-decoration-color: #008080; font-weight: bold\">0</span>, loss:<span style=\"color: #008080; text-decoration-color: #008080; font-weight: bold\">0.27308985590934753</span>, pi_rej:<span style=\"color: #008080; text-decoration-color: #008080; font-weight: bold\">0.028185999020934105</span>\n",
       "</pre>\n"
      ],
      "text/plain": [
       "step \u001b[1;36m0\u001b[0m, loss:\u001b[1;36m0.27308985590934753\u001b[0m, pi_rej:\u001b[1;36m0.028185999020934105\u001b[0m\n"
      ]
     },
     "metadata": {},
     "output_type": "display_data"
    },
    {
     "data": {
      "text/html": [
       "<pre style=\"white-space:pre;overflow-x:auto;line-height:normal;font-family:Menlo,'DejaVu Sans Mono',consolas,'Courier New',monospace\">step <span style=\"color: #008080; text-decoration-color: #008080; font-weight: bold\">10</span>, loss:<span style=\"color: #008080; text-decoration-color: #008080; font-weight: bold\">0.24445787072181702</span>, pi_rej:<span style=\"color: #008080; text-decoration-color: #008080; font-weight: bold\">0.013257395476102829</span>\n",
       "</pre>\n"
      ],
      "text/plain": [
       "step \u001b[1;36m10\u001b[0m, loss:\u001b[1;36m0.24445787072181702\u001b[0m, pi_rej:\u001b[1;36m0.013257395476102829\u001b[0m\n"
      ]
     },
     "metadata": {},
     "output_type": "display_data"
    },
    {
     "data": {
      "text/html": [
       "<pre style=\"white-space:pre;overflow-x:auto;line-height:normal;font-family:Menlo,'DejaVu Sans Mono',consolas,'Courier New',monospace\">step <span style=\"color: #008080; text-decoration-color: #008080; font-weight: bold\">20</span>, loss:<span style=\"color: #008080; text-decoration-color: #008080; font-weight: bold\">0.22840695083141327</span>, pi_rej:<span style=\"color: #008080; text-decoration-color: #008080; font-weight: bold\">0.008358149789273739</span>\n",
       "</pre>\n"
      ],
      "text/plain": [
       "step \u001b[1;36m20\u001b[0m, loss:\u001b[1;36m0.22840695083141327\u001b[0m, pi_rej:\u001b[1;36m0.008358149789273739\u001b[0m\n"
      ]
     },
     "metadata": {},
     "output_type": "display_data"
    },
    {
     "data": {
      "text/html": [
       "<pre style=\"white-space:pre;overflow-x:auto;line-height:normal;font-family:Menlo,'DejaVu Sans Mono',consolas,'Courier New',monospace\">step <span style=\"color: #008080; text-decoration-color: #008080; font-weight: bold\">30</span>, loss:<span style=\"color: #008080; text-decoration-color: #008080; font-weight: bold\">0.2178965061903</span>, pi_rej:<span style=\"color: #008080; text-decoration-color: #008080; font-weight: bold\">0.005742396228015423</span>\n",
       "</pre>\n"
      ],
      "text/plain": [
       "step \u001b[1;36m30\u001b[0m, loss:\u001b[1;36m0.2178965061903\u001b[0m, pi_rej:\u001b[1;36m0.005742396228015423\u001b[0m\n"
      ]
     },
     "metadata": {},
     "output_type": "display_data"
    },
    {
     "data": {
      "text/html": [
       "<pre style=\"white-space:pre;overflow-x:auto;line-height:normal;font-family:Menlo,'DejaVu Sans Mono',consolas,'Courier New',monospace\">step <span style=\"color: #008080; text-decoration-color: #008080; font-weight: bold\">40</span>, loss:<span style=\"color: #008080; text-decoration-color: #008080; font-weight: bold\">0.20973455905914307</span>, pi_rej:<span style=\"color: #008080; text-decoration-color: #008080; font-weight: bold\">0.004138132557272911</span>\n",
       "</pre>\n"
      ],
      "text/plain": [
       "step \u001b[1;36m40\u001b[0m, loss:\u001b[1;36m0.20973455905914307\u001b[0m, pi_rej:\u001b[1;36m0.004138132557272911\u001b[0m\n"
      ]
     },
     "metadata": {},
     "output_type": "display_data"
    },
    {
     "data": {
      "text/html": [
       "<pre style=\"white-space:pre;overflow-x:auto;line-height:normal;font-family:Menlo,'DejaVu Sans Mono',consolas,'Courier New',monospace\">step <span style=\"color: #008080; text-decoration-color: #008080; font-weight: bold\">50</span>, loss:<span style=\"color: #008080; text-decoration-color: #008080; font-weight: bold\">0.20281533896923065</span>, pi_rej:<span style=\"color: #008080; text-decoration-color: #008080; font-weight: bold\">0.0031000615563243628</span>\n",
       "</pre>\n"
      ],
      "text/plain": [
       "step \u001b[1;36m50\u001b[0m, loss:\u001b[1;36m0.20281533896923065\u001b[0m, pi_rej:\u001b[1;36m0.0031000615563243628\u001b[0m\n"
      ]
     },
     "metadata": {},
     "output_type": "display_data"
    },
    {
     "data": {
      "text/html": [
       "<pre style=\"white-space:pre;overflow-x:auto;line-height:normal;font-family:Menlo,'DejaVu Sans Mono',consolas,'Courier New',monospace\">step <span style=\"color: #008080; text-decoration-color: #008080; font-weight: bold\">60</span>, loss:<span style=\"color: #008080; text-decoration-color: #008080; font-weight: bold\">0.19664201140403748</span>, pi_rej:<span style=\"color: #008080; text-decoration-color: #008080; font-weight: bold\">0.002389432629570365</span>\n",
       "</pre>\n"
      ],
      "text/plain": [
       "step \u001b[1;36m60\u001b[0m, loss:\u001b[1;36m0.19664201140403748\u001b[0m, pi_rej:\u001b[1;36m0.002389432629570365\u001b[0m\n"
      ]
     },
     "metadata": {},
     "output_type": "display_data"
    },
    {
     "data": {
      "text/html": [
       "<pre style=\"white-space:pre;overflow-x:auto;line-height:normal;font-family:Menlo,'DejaVu Sans Mono',consolas,'Courier New',monospace\">step <span style=\"color: #008080; text-decoration-color: #008080; font-weight: bold\">70</span>, loss:<span style=\"color: #008080; text-decoration-color: #008080; font-weight: bold\">0.19094102084636688</span>, pi_rej:<span style=\"color: #008080; text-decoration-color: #008080; font-weight: bold\">0.0018740908708423376</span>\n",
       "</pre>\n"
      ],
      "text/plain": [
       "step \u001b[1;36m70\u001b[0m, loss:\u001b[1;36m0.19094102084636688\u001b[0m, pi_rej:\u001b[1;36m0.0018740908708423376\u001b[0m\n"
      ]
     },
     "metadata": {},
     "output_type": "display_data"
    },
    {
     "data": {
      "text/html": [
       "<pre style=\"white-space:pre;overflow-x:auto;line-height:normal;font-family:Menlo,'DejaVu Sans Mono',consolas,'Courier New',monospace\">step <span style=\"color: #008080; text-decoration-color: #008080; font-weight: bold\">80</span>, loss:<span style=\"color: #008080; text-decoration-color: #008080; font-weight: bold\">0.18554818630218506</span>, pi_rej:<span style=\"color: #008080; text-decoration-color: #008080; font-weight: bold\">0.001482684863731265</span>\n",
       "</pre>\n"
      ],
      "text/plain": [
       "step \u001b[1;36m80\u001b[0m, loss:\u001b[1;36m0.18554818630218506\u001b[0m, pi_rej:\u001b[1;36m0.001482684863731265\u001b[0m\n"
      ]
     },
     "metadata": {},
     "output_type": "display_data"
    },
    {
     "data": {
      "text/html": [
       "<pre style=\"white-space:pre;overflow-x:auto;line-height:normal;font-family:Menlo,'DejaVu Sans Mono',consolas,'Courier New',monospace\">step <span style=\"color: #008080; text-decoration-color: #008080; font-weight: bold\">90</span>, loss:<span style=\"color: #008080; text-decoration-color: #008080; font-weight: bold\">0.18037734925746918</span>, pi_rej:<span style=\"color: #008080; text-decoration-color: #008080; font-weight: bold\">0.0011763381771743298</span>\n",
       "</pre>\n"
      ],
      "text/plain": [
       "step \u001b[1;36m90\u001b[0m, loss:\u001b[1;36m0.18037734925746918\u001b[0m, pi_rej:\u001b[1;36m0.0011763381771743298\u001b[0m\n"
      ]
     },
     "metadata": {},
     "output_type": "display_data"
    },
    {
     "data": {
      "text/html": [
       "<pre style=\"white-space:pre;overflow-x:auto;line-height:normal;font-family:Menlo,'DejaVu Sans Mono',consolas,'Courier New',monospace\">--------------------------------------------------\n",
       "</pre>\n"
      ],
      "text/plain": [
       "--------------------------------------------------\n"
      ]
     },
     "metadata": {},
     "output_type": "display_data"
    },
    {
     "data": {
      "text/html": [
       "<pre style=\"white-space:pre;overflow-x:auto;line-height:normal;font-family:Menlo,'DejaVu Sans Mono',consolas,'Courier New',monospace\">step <span style=\"color: #008080; text-decoration-color: #008080; font-weight: bold\">0</span>, loss:<span style=\"color: #008080; text-decoration-color: #008080; font-weight: bold\">0.25889891386032104</span>, pi_rej:<span style=\"color: #008080; text-decoration-color: #008080; font-weight: bold\">0.028185999020934105</span>\n",
       "</pre>\n"
      ],
      "text/plain": [
       "step \u001b[1;36m0\u001b[0m, loss:\u001b[1;36m0.25889891386032104\u001b[0m, pi_rej:\u001b[1;36m0.028185999020934105\u001b[0m\n"
      ]
     },
     "metadata": {},
     "output_type": "display_data"
    },
    {
     "data": {
      "text/html": [
       "<pre style=\"white-space:pre;overflow-x:auto;line-height:normal;font-family:Menlo,'DejaVu Sans Mono',consolas,'Courier New',monospace\">step <span style=\"color: #008080; text-decoration-color: #008080; font-weight: bold\">10</span>, loss:<span style=\"color: #008080; text-decoration-color: #008080; font-weight: bold\">0.07539781928062439</span>, pi_rej:<span style=\"color: #008080; text-decoration-color: #008080; font-weight: bold\">0.005990082863718271</span>\n",
       "</pre>\n"
      ],
      "text/plain": [
       "step \u001b[1;36m10\u001b[0m, loss:\u001b[1;36m0.07539781928062439\u001b[0m, pi_rej:\u001b[1;36m0.005990082863718271\u001b[0m\n"
      ]
     },
     "metadata": {},
     "output_type": "display_data"
    },
    {
     "data": {
      "text/html": [
       "<pre style=\"white-space:pre;overflow-x:auto;line-height:normal;font-family:Menlo,'DejaVu Sans Mono',consolas,'Courier New',monospace\">step <span style=\"color: #008080; text-decoration-color: #008080; font-weight: bold\">20</span>, loss:<span style=\"color: #008080; text-decoration-color: #008080; font-weight: bold\">0.051763445138931274</span>, pi_rej:<span style=\"color: #008080; text-decoration-color: #008080; font-weight: bold\">0.0036503258161246777</span>\n",
       "</pre>\n"
      ],
      "text/plain": [
       "step \u001b[1;36m20\u001b[0m, loss:\u001b[1;36m0.051763445138931274\u001b[0m, pi_rej:\u001b[1;36m0.0036503258161246777\u001b[0m\n"
      ]
     },
     "metadata": {},
     "output_type": "display_data"
    },
    {
     "data": {
      "text/html": [
       "<pre style=\"white-space:pre;overflow-x:auto;line-height:normal;font-family:Menlo,'DejaVu Sans Mono',consolas,'Courier New',monospace\">step <span style=\"color: #008080; text-decoration-color: #008080; font-weight: bold\">30</span>, loss:<span style=\"color: #008080; text-decoration-color: #008080; font-weight: bold\">0.04021027684211731</span>, pi_rej:<span style=\"color: #008080; text-decoration-color: #008080; font-weight: bold\">0.0026391276624053717</span>\n",
       "</pre>\n"
      ],
      "text/plain": [
       "step \u001b[1;36m30\u001b[0m, loss:\u001b[1;36m0.04021027684211731\u001b[0m, pi_rej:\u001b[1;36m0.0026391276624053717\u001b[0m\n"
      ]
     },
     "metadata": {},
     "output_type": "display_data"
    },
    {
     "data": {
      "text/html": [
       "<pre style=\"white-space:pre;overflow-x:auto;line-height:normal;font-family:Menlo,'DejaVu Sans Mono',consolas,'Courier New',monospace\">step <span style=\"color: #008080; text-decoration-color: #008080; font-weight: bold\">40</span>, loss:<span style=\"color: #008080; text-decoration-color: #008080; font-weight: bold\">0.03301092982292175</span>, pi_rej:<span style=\"color: #008080; text-decoration-color: #008080; font-weight: bold\">0.0020557024981826544</span>\n",
       "</pre>\n"
      ],
      "text/plain": [
       "step \u001b[1;36m40\u001b[0m, loss:\u001b[1;36m0.03301092982292175\u001b[0m, pi_rej:\u001b[1;36m0.0020557024981826544\u001b[0m\n"
      ]
     },
     "metadata": {},
     "output_type": "display_data"
    },
    {
     "data": {
      "text/html": [
       "<pre style=\"white-space:pre;overflow-x:auto;line-height:normal;font-family:Menlo,'DejaVu Sans Mono',consolas,'Courier New',monospace\">step <span style=\"color: #008080; text-decoration-color: #008080; font-weight: bold\">50</span>, loss:<span style=\"color: #008080; text-decoration-color: #008080; font-weight: bold\">0.027989184483885765</span>, pi_rej:<span style=\"color: #008080; text-decoration-color: #008080; font-weight: bold\">0.0016677023377269506</span>\n",
       "</pre>\n"
      ],
      "text/plain": [
       "step \u001b[1;36m50\u001b[0m, loss:\u001b[1;36m0.027989184483885765\u001b[0m, pi_rej:\u001b[1;36m0.0016677023377269506\u001b[0m\n"
      ]
     },
     "metadata": {},
     "output_type": "display_data"
    },
    {
     "data": {
      "text/html": [
       "<pre style=\"white-space:pre;overflow-x:auto;line-height:normal;font-family:Menlo,'DejaVu Sans Mono',consolas,'Courier New',monospace\">step <span style=\"color: #008080; text-decoration-color: #008080; font-weight: bold\">60</span>, loss:<span style=\"color: #008080; text-decoration-color: #008080; font-weight: bold\">0.024254828691482544</span>, pi_rej:<span style=\"color: #008080; text-decoration-color: #008080; font-weight: bold\">0.0013887881068512797</span>\n",
       "</pre>\n"
      ],
      "text/plain": [
       "step \u001b[1;36m60\u001b[0m, loss:\u001b[1;36m0.024254828691482544\u001b[0m, pi_rej:\u001b[1;36m0.0013887881068512797\u001b[0m\n"
      ]
     },
     "metadata": {},
     "output_type": "display_data"
    },
    {
     "data": {
      "text/html": [
       "<pre style=\"white-space:pre;overflow-x:auto;line-height:normal;font-family:Menlo,'DejaVu Sans Mono',consolas,'Courier New',monospace\">step <span style=\"color: #008080; text-decoration-color: #008080; font-weight: bold\">70</span>, loss:<span style=\"color: #008080; text-decoration-color: #008080; font-weight: bold\">0.0213661827147007</span>, pi_rej:<span style=\"color: #008080; text-decoration-color: #008080; font-weight: bold\">0.0011786238756030798</span>\n",
       "</pre>\n"
      ],
      "text/plain": [
       "step \u001b[1;36m70\u001b[0m, loss:\u001b[1;36m0.0213661827147007\u001b[0m, pi_rej:\u001b[1;36m0.0011786238756030798\u001b[0m\n"
      ]
     },
     "metadata": {},
     "output_type": "display_data"
    },
    {
     "data": {
      "text/html": [
       "<pre style=\"white-space:pre;overflow-x:auto;line-height:normal;font-family:Menlo,'DejaVu Sans Mono',consolas,'Courier New',monospace\">step <span style=\"color: #008080; text-decoration-color: #008080; font-weight: bold\">80</span>, loss:<span style=\"color: #008080; text-decoration-color: #008080; font-weight: bold\">0.019072115421295166</span>, pi_rej:<span style=\"color: #008080; text-decoration-color: #008080; font-weight: bold\">0.001015281304717064</span>\n",
       "</pre>\n"
      ],
      "text/plain": [
       "step \u001b[1;36m80\u001b[0m, loss:\u001b[1;36m0.019072115421295166\u001b[0m, pi_rej:\u001b[1;36m0.001015281304717064\u001b[0m\n"
      ]
     },
     "metadata": {},
     "output_type": "display_data"
    },
    {
     "data": {
      "text/html": [
       "<pre style=\"white-space:pre;overflow-x:auto;line-height:normal;font-family:Menlo,'DejaVu Sans Mono',consolas,'Courier New',monospace\">step <span style=\"color: #008080; text-decoration-color: #008080; font-weight: bold\">90</span>, loss:<span style=\"color: #008080; text-decoration-color: #008080; font-weight: bold\">0.01721445843577385</span>, pi_rej:<span style=\"color: #008080; text-decoration-color: #008080; font-weight: bold\">0.0008855166379362345</span>\n",
       "</pre>\n"
      ],
      "text/plain": [
       "step \u001b[1;36m90\u001b[0m, loss:\u001b[1;36m0.01721445843577385\u001b[0m, pi_rej:\u001b[1;36m0.0008855166379362345\u001b[0m\n"
      ]
     },
     "metadata": {},
     "output_type": "display_data"
    },
    {
     "data": {
      "text/html": [
       "<pre style=\"white-space:pre;overflow-x:auto;line-height:normal;font-family:Menlo,'DejaVu Sans Mono',consolas,'Courier New',monospace\">--------------------------------------------------\n",
       "</pre>\n"
      ],
      "text/plain": [
       "--------------------------------------------------\n"
      ]
     },
     "metadata": {},
     "output_type": "display_data"
    }
   ],
   "source": [
    "epochs = 100\n",
    "IPO_lr = 0.0001 # IPO lr更低，收敛更低\n",
    "DPO_lr = 0.01\n",
    "model_tmp = copy.deepcopy(model)\n",
    "pi_1, _, _ = train_XPO(model_tmp, 0.1, 'IPO', epochs, IPO_lr) # IPO 用较大学习率容易训飞\n",
    "model_tmp = copy.deepcopy(model)\n",
    "pi_2, _, _ = train_XPO(model_tmp, 0.5, 'IPO', epochs, IPO_lr)\n",
    "model_tmp = copy.deepcopy(model)\n",
    "pi_3, _, _ = train_XPO(model_tmp, 1.0, 'IPO', epochs, IPO_lr)\n",
    "model_tmp = copy.deepcopy(model)\n",
    "pi_4, _, _ = train_XPO(model_tmp, 0.1, 'DPO', epochs, DPO_lr)\n",
    "model_tmp = copy.deepcopy(model)\n",
    "pi_5, _, _ = train_XPO(model_tmp, 0.5, 'DPO', epochs, DPO_lr)"
   ]
  },
  {
   "cell_type": "markdown",
   "id": "ec25204f-7621-4ebc-8aab-7c1c8f5b961d",
   "metadata": {},
   "source": [
    "# DPO/IPO 收敛情况对比"
   ]
  },
  {
   "cell_type": "markdown",
   "id": "10b39aae-6104-475a-9219-9988cdba6be5",
   "metadata": {},
   "source": [
    "对于DPO来说$\\beta$的取值不影响最后的$\\pi(y')$收敛的结果，而IPO则能避免策略收敛到0, 并且$\\beta$ 可控收敛到的取值"
   ]
  },
  {
   "cell_type": "code",
   "execution_count": 13,
   "id": "51baa1f3-5191-4acb-be29-e85ed365fcbe",
   "metadata": {},
   "outputs": [
    {
     "data": {
      "text/html": [
       "<pre style=\"white-space:pre;overflow-x:auto;line-height:normal;font-family:Menlo,'DejaVu Sans Mono',consolas,'Courier New',monospace\"></pre>\n"
      ],
      "text/plain": []
     },
     "metadata": {},
     "output_type": "display_data"
    },
    {
     "data": {
      "image/png": "[encoded data removed]",
      "text/plain": [
       "\u001b[1m<\u001b[0m\u001b[1;95mFigure\u001b[0m\u001b[39m size 64\u001b[0m\u001b[1;36m0x480\u001b[0m\u001b[39m with \u001b[0m\u001b[1;36m1\u001b[0m\u001b[39m Axes\u001b[0m\u001b[1m>\u001b[0m"
      ]
     },
     "metadata": {},
     "output_type": "display_data"
    }
   ],
   "source": [
    "x = range(len(pi_1))\n",
    "plt.plot(x, pi_1, label='IPO_0.1_lr_0.0001')\n",
    "plt.plot(x, pi_2, label='IPO_0.5_lr_0.0001')\n",
    "plt.plot(x, pi_3, label='IPO_1.0_lr_0.0001')\n",
    "plt.plot(x, pi_4, label='DPO_0.1_lr_0.01')\n",
    "plt.plot(x, pi_5, label='DPO_0.5_lr_0.01')\n",
    "plt.legend()\n",
    "plt.title('pi')\n",
    "plt.xlabel('x')\n",
    "plt.ylabel('pi_rejected')\n",
    "plt.show()"
   ]
  },
  {
   "cell_type": "markdown",
   "id": "633a20d3-b149-4d12-b709-71877c8ba73c",
   "metadata": {},
   "source": [
    "# IPO优化策略稳定性分析"
   ]
  },
  {
   "cell_type": "code",
   "execution_count": 14,
   "id": "4a14b725-07b2-42e0-ae2d-c08226908fc7",
   "metadata": {
    "scrolled": true
   },
   "outputs": [
    {
     "data": {
      "text/html": [
       "<pre style=\"white-space:pre;overflow-x:auto;line-height:normal;font-family:Menlo,'DejaVu Sans Mono',consolas,'Courier New',monospace\">step <span style=\"color: #008080; text-decoration-color: #008080; font-weight: bold\">0</span>, loss:<span style=\"color: #008080; text-decoration-color: #008080; font-weight: bold\">0.32821744680404663</span>, pi_rej:<span style=\"color: #008080; text-decoration-color: #008080; font-weight: bold\">0.028185999020934105</span>\n",
       "</pre>\n"
      ],
      "text/plain": [
       "step \u001b[1;36m0\u001b[0m, loss:\u001b[1;36m0.32821744680404663\u001b[0m, pi_rej:\u001b[1;36m0.028185999020934105\u001b[0m\n"
      ]
     },
     "metadata": {},
     "output_type": "display_data"
    },
    {
     "data": {
      "text/html": [
       "<pre style=\"white-space:pre;overflow-x:auto;line-height:normal;font-family:Menlo,'DejaVu Sans Mono',consolas,'Courier New',monospace\">step <span style=\"color: #008080; text-decoration-color: #008080; font-weight: bold\">10</span>, loss:<span style=\"color: #008080; text-decoration-color: #008080; font-weight: bold\">0.006162584759294987</span>, pi_rej:<span style=\"color: #008080; text-decoration-color: #008080; font-weight: bold\">0.019381465390324593</span>\n",
       "</pre>\n"
      ],
      "text/plain": [
       "step \u001b[1;36m10\u001b[0m, loss:\u001b[1;36m0.006162584759294987\u001b[0m, pi_rej:\u001b[1;36m0.019381465390324593\u001b[0m\n"
      ]
     },
     "metadata": {},
     "output_type": "display_data"
    },
    {
     "data": {
      "text/html": [
       "<pre style=\"white-space:pre;overflow-x:auto;line-height:normal;font-family:Menlo,'DejaVu Sans Mono',consolas,'Courier New',monospace\">step <span style=\"color: #008080; text-decoration-color: #008080; font-weight: bold\">20</span>, loss:<span style=\"color: #008080; text-decoration-color: #008080; font-weight: bold\">0.0010414734715595841</span>, pi_rej:<span style=\"color: #008080; text-decoration-color: #008080; font-weight: bold\">0.020152214914560318</span>\n",
       "</pre>\n"
      ],
      "text/plain": [
       "step \u001b[1;36m20\u001b[0m, loss:\u001b[1;36m0.0010414734715595841\u001b[0m, pi_rej:\u001b[1;36m0.020152214914560318\u001b[0m\n"
      ]
     },
     "metadata": {},
     "output_type": "display_data"
    },
    {
     "data": {
      "text/html": [
       "<pre style=\"white-space:pre;overflow-x:auto;line-height:normal;font-family:Menlo,'DejaVu Sans Mono',consolas,'Courier New',monospace\">step <span style=\"color: #008080; text-decoration-color: #008080; font-weight: bold\">30</span>, loss:<span style=\"color: #008080; text-decoration-color: #008080; font-weight: bold\">0.0001487518020439893</span>, pi_rej:<span style=\"color: #008080; text-decoration-color: #008080; font-weight: bold\">0.02052498236298561</span>\n",
       "</pre>\n"
      ],
      "text/plain": [
       "step \u001b[1;36m30\u001b[0m, loss:\u001b[1;36m0.0001487518020439893\u001b[0m, pi_rej:\u001b[1;36m0.02052498236298561\u001b[0m\n"
      ]
     },
     "metadata": {},
     "output_type": "display_data"
    },
    {
     "data": {
      "text/html": [
       "<pre style=\"white-space:pre;overflow-x:auto;line-height:normal;font-family:Menlo,'DejaVu Sans Mono',consolas,'Courier New',monospace\">step <span style=\"color: #008080; text-decoration-color: #008080; font-weight: bold\">40</span>, loss:<span style=\"color: #008080; text-decoration-color: #008080; font-weight: bold\">2.0701951143564656e-05</span>, pi_rej:<span style=\"color: #008080; text-decoration-color: #008080; font-weight: bold\">0.020670507103204727</span>\n",
       "</pre>\n"
      ],
      "text/plain": [
       "step \u001b[1;36m40\u001b[0m, loss:\u001b[1;36m2.0701951143564656e-05\u001b[0m, pi_rej:\u001b[1;36m0.020670507103204727\u001b[0m\n"
      ]
     },
     "metadata": {},
     "output_type": "display_data"
    },
    {
     "data": {
      "text/html": [
       "<pre style=\"white-space:pre;overflow-x:auto;line-height:normal;font-family:Menlo,'DejaVu Sans Mono',consolas,'Courier New',monospace\">step <span style=\"color: #008080; text-decoration-color: #008080; font-weight: bold\">50</span>, loss:<span style=\"color: #008080; text-decoration-color: #008080; font-weight: bold\">2.8750951059919316e-06</span>, pi_rej:<span style=\"color: #008080; text-decoration-color: #008080; font-weight: bold\">0.020725209265947342</span>\n",
       "</pre>\n"
      ],
      "text/plain": [
       "step \u001b[1;36m50\u001b[0m, loss:\u001b[1;36m2.8750951059919316e-06\u001b[0m, pi_rej:\u001b[1;36m0.020725209265947342\u001b[0m\n"
      ]
     },
     "metadata": {},
     "output_type": "display_data"
    },
    {
     "data": {
      "text/html": [
       "<pre style=\"white-space:pre;overflow-x:auto;line-height:normal;font-family:Menlo,'DejaVu Sans Mono',consolas,'Courier New',monospace\">step <span style=\"color: #008080; text-decoration-color: #008080; font-weight: bold\">60</span>, loss:<span style=\"color: #008080; text-decoration-color: #008080; font-weight: bold\">3.9838491261434683e-07</span>, pi_rej:<span style=\"color: #008080; text-decoration-color: #008080; font-weight: bold\">0.02074563503265381</span>\n",
       "</pre>\n"
      ],
      "text/plain": [
       "step \u001b[1;36m60\u001b[0m, loss:\u001b[1;36m3.9838491261434683e-07\u001b[0m, pi_rej:\u001b[1;36m0.02074563503265381\u001b[0m\n"
      ]
     },
     "metadata": {},
     "output_type": "display_data"
    },
    {
     "data": {
      "text/html": [
       "<pre style=\"white-space:pre;overflow-x:auto;line-height:normal;font-family:Menlo,'DejaVu Sans Mono',consolas,'Courier New',monospace\">step <span style=\"color: #008080; text-decoration-color: #008080; font-weight: bold\">70</span>, loss:<span style=\"color: #008080; text-decoration-color: #008080; font-weight: bold\">5.534787916872119e-08</span>, pi_rej:<span style=\"color: #008080; text-decoration-color: #008080; font-weight: bold\">0.020753243938088417</span>\n",
       "</pre>\n"
      ],
      "text/plain": [
       "step \u001b[1;36m70\u001b[0m, loss:\u001b[1;36m5.534787916872119e-08\u001b[0m, pi_rej:\u001b[1;36m0.020753243938088417\u001b[0m\n"
      ]
     },
     "metadata": {},
     "output_type": "display_data"
    },
    {
     "data": {
      "text/html": [
       "<pre style=\"white-space:pre;overflow-x:auto;line-height:normal;font-family:Menlo,'DejaVu Sans Mono',consolas,'Courier New',monospace\">step <span style=\"color: #008080; text-decoration-color: #008080; font-weight: bold\">80</span>, loss:<span style=\"color: #008080; text-decoration-color: #008080; font-weight: bold\">7.664505474735961e-09</span>, pi_rej:<span style=\"color: #008080; text-decoration-color: #008080; font-weight: bold\">0.0207560695707798</span>\n",
       "</pre>\n"
      ],
      "text/plain": [
       "step \u001b[1;36m80\u001b[0m, loss:\u001b[1;36m7.664505474735961e-09\u001b[0m, pi_rej:\u001b[1;36m0.0207560695707798\u001b[0m\n"
      ]
     },
     "metadata": {},
     "output_type": "display_data"
    },
    {
     "data": {
      "text/html": [
       "<pre style=\"white-space:pre;overflow-x:auto;line-height:normal;font-family:Menlo,'DejaVu Sans Mono',consolas,'Courier New',monospace\">step <span style=\"color: #008080; text-decoration-color: #008080; font-weight: bold\">90</span>, loss:<span style=\"color: #008080; text-decoration-color: #008080; font-weight: bold\">1.0486758128536167e-09</span>, pi_rej:<span style=\"color: #008080; text-decoration-color: #008080; font-weight: bold\">0.02075713872909546</span>\n",
       "</pre>\n"
      ],
      "text/plain": [
       "step \u001b[1;36m90\u001b[0m, loss:\u001b[1;36m1.0486758128536167e-09\u001b[0m, pi_rej:\u001b[1;36m0.02075713872909546\u001b[0m\n"
      ]
     },
     "metadata": {},
     "output_type": "display_data"
    },
    {
     "data": {
      "text/html": [
       "<pre style=\"white-space:pre;overflow-x:auto;line-height:normal;font-family:Menlo,'DejaVu Sans Mono',consolas,'Courier New',monospace\">--------------------------------------------------\n",
       "</pre>\n"
      ],
      "text/plain": [
       "--------------------------------------------------\n"
      ]
     },
     "metadata": {},
     "output_type": "display_data"
    },
    {
     "data": {
      "text/html": [
       "<pre style=\"white-space:pre;overflow-x:auto;line-height:normal;font-family:Menlo,'DejaVu Sans Mono',consolas,'Courier New',monospace\">step <span style=\"color: #008080; text-decoration-color: #008080; font-weight: bold\">0</span>, loss:<span style=\"color: #008080; text-decoration-color: #008080; font-weight: bold\">0.32821744680404663</span>, pi_rej:<span style=\"color: #008080; text-decoration-color: #008080; font-weight: bold\">0.028185999020934105</span>\n",
       "</pre>\n"
      ],
      "text/plain": [
       "step \u001b[1;36m0\u001b[0m, loss:\u001b[1;36m0.32821744680404663\u001b[0m, pi_rej:\u001b[1;36m0.028185999020934105\u001b[0m\n"
      ]
     },
     "metadata": {},
     "output_type": "display_data"
    },
    {
     "data": {
      "text/html": [
       "<pre style=\"white-space:pre;overflow-x:auto;line-height:normal;font-family:Menlo,'DejaVu Sans Mono',consolas,'Courier New',monospace\">step <span style=\"color: #008080; text-decoration-color: #008080; font-weight: bold\">10</span>, loss:<span style=\"color: #008080; text-decoration-color: #008080; font-weight: bold\">3.0531963624014224e-09</span>, pi_rej:<span style=\"color: #008080; text-decoration-color: #008080; font-weight: bold\">0.016689235344529152</span>\n",
       "</pre>\n"
      ],
      "text/plain": [
       "step \u001b[1;36m10\u001b[0m, loss:\u001b[1;36m3.0531963624014224e-09\u001b[0m, pi_rej:\u001b[1;36m0.016689235344529152\u001b[0m\n"
      ]
     },
     "metadata": {},
     "output_type": "display_data"
    },
    {
     "data": {
      "text/html": [
       "<pre style=\"white-space:pre;overflow-x:auto;line-height:normal;font-family:Menlo,'DejaVu Sans Mono',consolas,'Courier New',monospace\">step <span style=\"color: #008080; text-decoration-color: #008080; font-weight: bold\">20</span>, loss:<span style=\"color: #008080; text-decoration-color: #008080; font-weight: bold\">6.707523533995563e-13</span>, pi_rej:<span style=\"color: #008080; text-decoration-color: #008080; font-weight: bold\">0.016688941046595573</span>\n",
       "</pre>\n"
      ],
      "text/plain": [
       "step \u001b[1;36m20\u001b[0m, loss:\u001b[1;36m6.707523533995563e-13\u001b[0m, pi_rej:\u001b[1;36m0.016688941046595573\u001b[0m\n"
      ]
     },
     "metadata": {},
     "output_type": "display_data"
    },
    {
     "data": {
      "text/html": [
       "<pre style=\"white-space:pre;overflow-x:auto;line-height:normal;font-family:Menlo,'DejaVu Sans Mono',consolas,'Courier New',monospace\">step <span style=\"color: #008080; text-decoration-color: #008080; font-weight: bold\">30</span>, loss:<span style=\"color: #008080; text-decoration-color: #008080; font-weight: bold\">6.821210534347505e-14</span>, pi_rej:<span style=\"color: #008080; text-decoration-color: #008080; font-weight: bold\">0.016688941046595573</span>\n",
       "</pre>\n"
      ],
      "text/plain": [
       "step \u001b[1;36m30\u001b[0m, loss:\u001b[1;36m6.821210534347505e-14\u001b[0m, pi_rej:\u001b[1;36m0.016688941046595573\u001b[0m\n"
      ]
     },
     "metadata": {},
     "output_type": "display_data"
    },
    {
     "data": {
      "text/html": [
       "<pre style=\"white-space:pre;overflow-x:auto;line-height:normal;font-family:Menlo,'DejaVu Sans Mono',consolas,'Courier New',monospace\">step <span style=\"color: #008080; text-decoration-color: #008080; font-weight: bold\">40</span>, loss:<span style=\"color: #008080; text-decoration-color: #008080; font-weight: bold\">2.842170943040401e-14</span>, pi_rej:<span style=\"color: #008080; text-decoration-color: #008080; font-weight: bold\">0.016688933596014977</span>\n",
       "</pre>\n"
      ],
      "text/plain": [
       "step \u001b[1;36m40\u001b[0m, loss:\u001b[1;36m2.842170943040401e-14\u001b[0m, pi_rej:\u001b[1;36m0.016688933596014977\u001b[0m\n"
      ]
     },
     "metadata": {},
     "output_type": "display_data"
    },
    {
     "data": {
      "text/html": [
       "<pre style=\"white-space:pre;overflow-x:auto;line-height:normal;font-family:Menlo,'DejaVu Sans Mono',consolas,'Courier New',monospace\">step <span style=\"color: #008080; text-decoration-color: #008080; font-weight: bold\">50</span>, loss:<span style=\"color: #008080; text-decoration-color: #008080; font-weight: bold\">1.0800249448028251e-13</span>, pi_rej:<span style=\"color: #008080; text-decoration-color: #008080; font-weight: bold\">0.016688933596014977</span>\n",
       "</pre>\n"
      ],
      "text/plain": [
       "step \u001b[1;36m50\u001b[0m, loss:\u001b[1;36m1.0800249448028251e-13\u001b[0m, pi_rej:\u001b[1;36m0.016688933596014977\u001b[0m\n"
      ]
     },
     "metadata": {},
     "output_type": "display_data"
    },
    {
     "data": {
      "text/html": [
       "<pre style=\"white-space:pre;overflow-x:auto;line-height:normal;font-family:Menlo,'DejaVu Sans Mono',consolas,'Courier New',monospace\">step <span style=\"color: #008080; text-decoration-color: #008080; font-weight: bold\">60</span>, loss:<span style=\"color: #008080; text-decoration-color: #008080; font-weight: bold\">1.1368683941568192e-14</span>, pi_rej:<span style=\"color: #008080; text-decoration-color: #008080; font-weight: bold\">0.016688941046595573</span>\n",
       "</pre>\n"
      ],
      "text/plain": [
       "step \u001b[1;36m60\u001b[0m, loss:\u001b[1;36m1.1368683941568192e-14\u001b[0m, pi_rej:\u001b[1;36m0.016688941046595573\u001b[0m\n"
      ]
     },
     "metadata": {},
     "output_type": "display_data"
    },
    {
     "data": {
      "text/html": [
       "<pre style=\"white-space:pre;overflow-x:auto;line-height:normal;font-family:Menlo,'DejaVu Sans Mono',consolas,'Courier New',monospace\">step <span style=\"color: #008080; text-decoration-color: #008080; font-weight: bold\">70</span>, loss:<span style=\"color: #008080; text-decoration-color: #008080; font-weight: bold\">5.684341886080802e-14</span>, pi_rej:<span style=\"color: #008080; text-decoration-color: #008080; font-weight: bold\">0.01668892428278923</span>\n",
       "</pre>\n"
      ],
      "text/plain": [
       "step \u001b[1;36m70\u001b[0m, loss:\u001b[1;36m5.684341886080802e-14\u001b[0m, pi_rej:\u001b[1;36m0.01668892428278923\u001b[0m\n"
      ]
     },
     "metadata": {},
     "output_type": "display_data"
    },
    {
     "data": {
      "text/html": [
       "<pre style=\"white-space:pre;overflow-x:auto;line-height:normal;font-family:Menlo,'DejaVu Sans Mono',consolas,'Courier New',monospace\">step <span style=\"color: #008080; text-decoration-color: #008080; font-weight: bold\">80</span>, loss:<span style=\"color: #008080; text-decoration-color: #008080; font-weight: bold\">3.979039252493925e-14</span>, pi_rej:<span style=\"color: #008080; text-decoration-color: #008080; font-weight: bold\">0.016688933596014977</span>\n",
       "</pre>\n"
      ],
      "text/plain": [
       "step \u001b[1;36m80\u001b[0m, loss:\u001b[1;36m3.979039252493925e-14\u001b[0m, pi_rej:\u001b[1;36m0.016688933596014977\u001b[0m\n"
      ]
     },
     "metadata": {},
     "output_type": "display_data"
    },
    {
     "data": {
      "text/html": [
       "<pre style=\"white-space:pre;overflow-x:auto;line-height:normal;font-family:Menlo,'DejaVu Sans Mono',consolas,'Courier New',monospace\">step <span style=\"color: #008080; text-decoration-color: #008080; font-weight: bold\">90</span>, loss:<span style=\"color: #008080; text-decoration-color: #008080; font-weight: bold\">2.2737367883136385e-14</span>, pi_rej:<span style=\"color: #008080; text-decoration-color: #008080; font-weight: bold\">0.016688941046595573</span>\n",
       "</pre>\n"
      ],
      "text/plain": [
       "step \u001b[1;36m90\u001b[0m, loss:\u001b[1;36m2.2737367883136385e-14\u001b[0m, pi_rej:\u001b[1;36m0.016688941046595573\u001b[0m\n"
      ]
     },
     "metadata": {},
     "output_type": "display_data"
    },
    {
     "data": {
      "text/html": [
       "<pre style=\"white-space:pre;overflow-x:auto;line-height:normal;font-family:Menlo,'DejaVu Sans Mono',consolas,'Courier New',monospace\">--------------------------------------------------\n",
       "</pre>\n"
      ],
      "text/plain": [
       "--------------------------------------------------\n"
      ]
     },
     "metadata": {},
     "output_type": "display_data"
    },
    {
     "data": {
      "text/html": [
       "<pre style=\"white-space:pre;overflow-x:auto;line-height:normal;font-family:Menlo,'DejaVu Sans Mono',consolas,'Courier New',monospace\">step <span style=\"color: #008080; text-decoration-color: #008080; font-weight: bold\">0</span>, loss:<span style=\"color: #008080; text-decoration-color: #008080; font-weight: bold\">0.25889891386032104</span>, pi_rej:<span style=\"color: #008080; text-decoration-color: #008080; font-weight: bold\">0.028185999020934105</span>\n",
       "</pre>\n"
      ],
      "text/plain": [
       "step \u001b[1;36m0\u001b[0m, loss:\u001b[1;36m0.25889891386032104\u001b[0m, pi_rej:\u001b[1;36m0.028185999020934105\u001b[0m\n"
      ]
     },
     "metadata": {},
     "output_type": "display_data"
    },
    {
     "data": {
      "text/html": [
       "<pre style=\"white-space:pre;overflow-x:auto;line-height:normal;font-family:Menlo,'DejaVu Sans Mono',consolas,'Courier New',monospace\">step <span style=\"color: #008080; text-decoration-color: #008080; font-weight: bold\">10</span>, loss:<span style=\"color: #008080; text-decoration-color: #008080; font-weight: bold\">0.19374188780784607</span>, pi_rej:<span style=\"color: #008080; text-decoration-color: #008080; font-weight: bold\">0.01875227876007557</span>\n",
       "</pre>\n"
      ],
      "text/plain": [
       "step \u001b[1;36m10\u001b[0m, loss:\u001b[1;36m0.19374188780784607\u001b[0m, pi_rej:\u001b[1;36m0.01875227876007557\u001b[0m\n"
      ]
     },
     "metadata": {},
     "output_type": "display_data"
    },
    {
     "data": {
      "text/html": [
       "<pre style=\"white-space:pre;overflow-x:auto;line-height:normal;font-family:Menlo,'DejaVu Sans Mono',consolas,'Courier New',monospace\">step <span style=\"color: #008080; text-decoration-color: #008080; font-weight: bold\">20</span>, loss:<span style=\"color: #008080; text-decoration-color: #008080; font-weight: bold\">0.15519781410694122</span>, pi_rej:<span style=\"color: #008080; text-decoration-color: #008080; font-weight: bold\">0.014312122948467731</span>\n",
       "</pre>\n"
      ],
      "text/plain": [
       "step \u001b[1;36m20\u001b[0m, loss:\u001b[1;36m0.15519781410694122\u001b[0m, pi_rej:\u001b[1;36m0.014312122948467731\u001b[0m\n"
      ]
     },
     "metadata": {},
     "output_type": "display_data"
    },
    {
     "data": {
      "text/html": [
       "<pre style=\"white-space:pre;overflow-x:auto;line-height:normal;font-family:Menlo,'DejaVu Sans Mono',consolas,'Courier New',monospace\">step <span style=\"color: #008080; text-decoration-color: #008080; font-weight: bold\">30</span>, loss:<span style=\"color: #008080; text-decoration-color: #008080; font-weight: bold\">0.1316295564174652</span>, pi_rej:<span style=\"color: #008080; text-decoration-color: #008080; font-weight: bold\">0.011859148740768433</span>\n",
       "</pre>\n"
      ],
      "text/plain": [
       "step \u001b[1;36m30\u001b[0m, loss:\u001b[1;36m0.1316295564174652\u001b[0m, pi_rej:\u001b[1;36m0.011859148740768433\u001b[0m\n"
      ]
     },
     "metadata": {},
     "output_type": "display_data"
    },
    {
     "data": {
      "text/html": [
       "<pre style=\"white-space:pre;overflow-x:auto;line-height:normal;font-family:Menlo,'DejaVu Sans Mono',consolas,'Courier New',monospace\">step <span style=\"color: #008080; text-decoration-color: #008080; font-weight: bold\">40</span>, loss:<span style=\"color: #008080; text-decoration-color: #008080; font-weight: bold\">0.11602728068828583</span>, pi_rej:<span style=\"color: #008080; text-decoration-color: #008080; font-weight: bold\">0.010270449332892895</span>\n",
       "</pre>\n"
      ],
      "text/plain": [
       "step \u001b[1;36m40\u001b[0m, loss:\u001b[1;36m0.11602728068828583\u001b[0m, pi_rej:\u001b[1;36m0.010270449332892895\u001b[0m\n"
      ]
     },
     "metadata": {},
     "output_type": "display_data"
    },
    {
     "data": {
      "text/html": [
       "<pre style=\"white-space:pre;overflow-x:auto;line-height:normal;font-family:Menlo,'DejaVu Sans Mono',consolas,'Courier New',monospace\">step <span style=\"color: #008080; text-decoration-color: #008080; font-weight: bold\">50</span>, loss:<span style=\"color: #008080; text-decoration-color: #008080; font-weight: bold\">0.10484852641820908</span>, pi_rej:<span style=\"color: #008080; text-decoration-color: #008080; font-weight: bold\">0.009122051298618317</span>\n",
       "</pre>\n"
      ],
      "text/plain": [
       "step \u001b[1;36m50\u001b[0m, loss:\u001b[1;36m0.10484852641820908\u001b[0m, pi_rej:\u001b[1;36m0.009122051298618317\u001b[0m\n"
      ]
     },
     "metadata": {},
     "output_type": "display_data"
    },
    {
     "data": {
      "text/html": [
       "<pre style=\"white-space:pre;overflow-x:auto;line-height:normal;font-family:Menlo,'DejaVu Sans Mono',consolas,'Courier New',monospace\">step <span style=\"color: #008080; text-decoration-color: #008080; font-weight: bold\">60</span>, loss:<span style=\"color: #008080; text-decoration-color: #008080; font-weight: bold\">0.09632495790719986</span>, pi_rej:<span style=\"color: #008080; text-decoration-color: #008080; font-weight: bold\">0.00823388621211052</span>\n",
       "</pre>\n"
      ],
      "text/plain": [
       "step \u001b[1;36m60\u001b[0m, loss:\u001b[1;36m0.09632495790719986\u001b[0m, pi_rej:\u001b[1;36m0.00823388621211052\u001b[0m\n"
      ]
     },
     "metadata": {},
     "output_type": "display_data"
    },
    {
     "data": {
      "text/html": [
       "<pre style=\"white-space:pre;overflow-x:auto;line-height:normal;font-family:Menlo,'DejaVu Sans Mono',consolas,'Courier New',monospace\">step <span style=\"color: #008080; text-decoration-color: #008080; font-weight: bold\">70</span>, loss:<span style=\"color: #008080; text-decoration-color: #008080; font-weight: bold\">0.08952262997627258</span>, pi_rej:<span style=\"color: #008080; text-decoration-color: #008080; font-weight: bold\">0.007517651654779911</span>\n",
       "</pre>\n"
      ],
      "text/plain": [
       "step \u001b[1;36m70\u001b[0m, loss:\u001b[1;36m0.08952262997627258\u001b[0m, pi_rej:\u001b[1;36m0.007517651654779911\u001b[0m\n"
      ]
     },
     "metadata": {},
     "output_type": "display_data"
    },
    {
     "data": {
      "text/html": [
       "<pre style=\"white-space:pre;overflow-x:auto;line-height:normal;font-family:Menlo,'DejaVu Sans Mono',consolas,'Courier New',monospace\">step <span style=\"color: #008080; text-decoration-color: #008080; font-weight: bold\">80</span>, loss:<span style=\"color: #008080; text-decoration-color: #008080; font-weight: bold\">0.08390940725803375</span>, pi_rej:<span style=\"color: #008080; text-decoration-color: #008080; font-weight: bold\">0.006923911161720753</span>\n",
       "</pre>\n"
      ],
      "text/plain": [
       "step \u001b[1;36m80\u001b[0m, loss:\u001b[1;36m0.08390940725803375\u001b[0m, pi_rej:\u001b[1;36m0.006923911161720753\u001b[0m\n"
      ]
     },
     "metadata": {},
     "output_type": "display_data"
    },
    {
     "data": {
      "text/html": [
       "<pre style=\"white-space:pre;overflow-x:auto;line-height:normal;font-family:Menlo,'DejaVu Sans Mono',consolas,'Courier New',monospace\">step <span style=\"color: #008080; text-decoration-color: #008080; font-weight: bold\">90</span>, loss:<span style=\"color: #008080; text-decoration-color: #008080; font-weight: bold\">0.07915981113910675</span>, pi_rej:<span style=\"color: #008080; text-decoration-color: #008080; font-weight: bold\">0.006421979051083326</span>\n",
       "</pre>\n"
      ],
      "text/plain": [
       "step \u001b[1;36m90\u001b[0m, loss:\u001b[1;36m0.07915981113910675\u001b[0m, pi_rej:\u001b[1;36m0.006421979051083326\u001b[0m\n"
      ]
     },
     "metadata": {},
     "output_type": "display_data"
    },
    {
     "data": {
      "text/html": [
       "<pre style=\"white-space:pre;overflow-x:auto;line-height:normal;font-family:Menlo,'DejaVu Sans Mono',consolas,'Courier New',monospace\">--------------------------------------------------\n",
       "</pre>\n"
      ],
      "text/plain": [
       "--------------------------------------------------\n"
      ]
     },
     "metadata": {},
     "output_type": "display_data"
    },
    {
     "data": {
      "text/html": [
       "<pre style=\"white-space:pre;overflow-x:auto;line-height:normal;font-family:Menlo,'DejaVu Sans Mono',consolas,'Courier New',monospace\">step <span style=\"color: #008080; text-decoration-color: #008080; font-weight: bold\">0</span>, loss:<span style=\"color: #008080; text-decoration-color: #008080; font-weight: bold\">0.32821744680404663</span>, pi_rej:<span style=\"color: #008080; text-decoration-color: #008080; font-weight: bold\">0.028185999020934105</span>\n",
       "</pre>\n"
      ],
      "text/plain": [
       "step \u001b[1;36m0\u001b[0m, loss:\u001b[1;36m0.32821744680404663\u001b[0m, pi_rej:\u001b[1;36m0.028185999020934105\u001b[0m\n"
      ]
     },
     "metadata": {},
     "output_type": "display_data"
    },
    {
     "data": {
      "text/html": [
       "<pre style=\"white-space:pre;overflow-x:auto;line-height:normal;font-family:Menlo,'DejaVu Sans Mono',consolas,'Courier New',monospace\">step <span style=\"color: #008080; text-decoration-color: #008080; font-weight: bold\">10</span>, loss:<span style=\"color: #008080; text-decoration-color: #008080; font-weight: bold\">0.00022005513892509043</span>, pi_rej:<span style=\"color: #008080; text-decoration-color: #008080; font-weight: bold\">0.02730717696249485</span>\n",
       "</pre>\n"
      ],
      "text/plain": [
       "step \u001b[1;36m10\u001b[0m, loss:\u001b[1;36m0.00022005513892509043\u001b[0m, pi_rej:\u001b[1;36m0.02730717696249485\u001b[0m\n"
      ]
     },
     "metadata": {},
     "output_type": "display_data"
    },
    {
     "data": {
      "text/html": [
       "<pre style=\"white-space:pre;overflow-x:auto;line-height:normal;font-family:Menlo,'DejaVu Sans Mono',consolas,'Courier New',monospace\">step <span style=\"color: #008080; text-decoration-color: #008080; font-weight: bold\">20</span>, loss:<span style=\"color: #008080; text-decoration-color: #008080; font-weight: bold\">0.00636764382943511</span>, pi_rej:<span style=\"color: #008080; text-decoration-color: #008080; font-weight: bold\">0.024495596066117287</span>\n",
       "</pre>\n"
      ],
      "text/plain": [
       "step \u001b[1;36m20\u001b[0m, loss:\u001b[1;36m0.00636764382943511\u001b[0m, pi_rej:\u001b[1;36m0.024495596066117287\u001b[0m\n"
      ]
     },
     "metadata": {},
     "output_type": "display_data"
    },
    {
     "data": {
      "text/html": [
       "<pre style=\"white-space:pre;overflow-x:auto;line-height:normal;font-family:Menlo,'DejaVu Sans Mono',consolas,'Courier New',monospace\">step <span style=\"color: #008080; text-decoration-color: #008080; font-weight: bold\">30</span>, loss:<span style=\"color: #008080; text-decoration-color: #008080; font-weight: bold\">0.0011496776714920998</span>, pi_rej:<span style=\"color: #008080; text-decoration-color: #008080; font-weight: bold\">0.028168324381113052</span>\n",
       "</pre>\n"
      ],
      "text/plain": [
       "step \u001b[1;36m30\u001b[0m, loss:\u001b[1;36m0.0011496776714920998\u001b[0m, pi_rej:\u001b[1;36m0.028168324381113052\u001b[0m\n"
      ]
     },
     "metadata": {},
     "output_type": "display_data"
    },
    {
     "data": {
      "text/html": [
       "<pre style=\"white-space:pre;overflow-x:auto;line-height:normal;font-family:Menlo,'DejaVu Sans Mono',consolas,'Courier New',monospace\">step <span style=\"color: #008080; text-decoration-color: #008080; font-weight: bold\">40</span>, loss:<span style=\"color: #008080; text-decoration-color: #008080; font-weight: bold\">0.00025527598336338997</span>, pi_rej:<span style=\"color: #008080; text-decoration-color: #008080; font-weight: bold\">0.027442611753940582</span>\n",
       "</pre>\n"
      ],
      "text/plain": [
       "step \u001b[1;36m40\u001b[0m, loss:\u001b[1;36m0.00025527598336338997\u001b[0m, pi_rej:\u001b[1;36m0.027442611753940582\u001b[0m\n"
      ]
     },
     "metadata": {},
     "output_type": "display_data"
    },
    {
     "data": {
      "text/html": [
       "<pre style=\"white-space:pre;overflow-x:auto;line-height:normal;font-family:Menlo,'DejaVu Sans Mono',consolas,'Courier New',monospace\">step <span style=\"color: #008080; text-decoration-color: #008080; font-weight: bold\">50</span>, loss:<span style=\"color: #008080; text-decoration-color: #008080; font-weight: bold\">0.00032119604293257</span>, pi_rej:<span style=\"color: #008080; text-decoration-color: #008080; font-weight: bold\">0.0264128427952528</span>\n",
       "</pre>\n"
      ],
      "text/plain": [
       "step \u001b[1;36m50\u001b[0m, loss:\u001b[1;36m0.00032119604293257\u001b[0m, pi_rej:\u001b[1;36m0.0264128427952528\u001b[0m\n"
      ]
     },
     "metadata": {},
     "output_type": "display_data"
    },
    {
     "data": {
      "text/html": [
       "<pre style=\"white-space:pre;overflow-x:auto;line-height:normal;font-family:Menlo,'DejaVu Sans Mono',consolas,'Courier New',monospace\">step <span style=\"color: #008080; text-decoration-color: #008080; font-weight: bold\">60</span>, loss:<span style=\"color: #008080; text-decoration-color: #008080; font-weight: bold\">3.7737095226475503e-06</span>, pi_rej:<span style=\"color: #008080; text-decoration-color: #008080; font-weight: bold\">0.026918908581137657</span>\n",
       "</pre>\n"
      ],
      "text/plain": [
       "step \u001b[1;36m60\u001b[0m, loss:\u001b[1;36m3.7737095226475503e-06\u001b[0m, pi_rej:\u001b[1;36m0.026918908581137657\u001b[0m\n"
      ]
     },
     "metadata": {},
     "output_type": "display_data"
    },
    {
     "data": {
      "text/html": [
       "<pre style=\"white-space:pre;overflow-x:auto;line-height:normal;font-family:Menlo,'DejaVu Sans Mono',consolas,'Courier New',monospace\">step <span style=\"color: #008080; text-decoration-color: #008080; font-weight: bold\">70</span>, loss:<span style=\"color: #008080; text-decoration-color: #008080; font-weight: bold\">4.166369035374373e-05</span>, pi_rej:<span style=\"color: #008080; text-decoration-color: #008080; font-weight: bold\">0.027181468904018402</span>\n",
       "</pre>\n"
      ],
      "text/plain": [
       "step \u001b[1;36m70\u001b[0m, loss:\u001b[1;36m4.166369035374373e-05\u001b[0m, pi_rej:\u001b[1;36m0.027181468904018402\u001b[0m\n"
      ]
     },
     "metadata": {},
     "output_type": "display_data"
    },
    {
     "data": {
      "text/html": [
       "<pre style=\"white-space:pre;overflow-x:auto;line-height:normal;font-family:Menlo,'DejaVu Sans Mono',consolas,'Courier New',monospace\">step <span style=\"color: #008080; text-decoration-color: #008080; font-weight: bold\">80</span>, loss:<span style=\"color: #008080; text-decoration-color: #008080; font-weight: bold\">5.102820978208911e-06</span>, pi_rej:<span style=\"color: #008080; text-decoration-color: #008080; font-weight: bold\">0.027070391923189163</span>\n",
       "</pre>\n"
      ],
      "text/plain": [
       "step \u001b[1;36m80\u001b[0m, loss:\u001b[1;36m5.102820978208911e-06\u001b[0m, pi_rej:\u001b[1;36m0.027070391923189163\u001b[0m\n"
      ]
     },
     "metadata": {},
     "output_type": "display_data"
    },
    {
     "data": {
      "text/html": [
       "<pre style=\"white-space:pre;overflow-x:auto;line-height:normal;font-family:Menlo,'DejaVu Sans Mono',consolas,'Courier New',monospace\">step <span style=\"color: #008080; text-decoration-color: #008080; font-weight: bold\">90</span>, loss:<span style=\"color: #008080; text-decoration-color: #008080; font-weight: bold\">1.4645540886704111e-06</span>, pi_rej:<span style=\"color: #008080; text-decoration-color: #008080; font-weight: bold\">0.026965124532580376</span>\n",
       "</pre>\n"
      ],
      "text/plain": [
       "step \u001b[1;36m90\u001b[0m, loss:\u001b[1;36m1.4645540886704111e-06\u001b[0m, pi_rej:\u001b[1;36m0.026965124532580376\u001b[0m\n"
      ]
     },
     "metadata": {},
     "output_type": "display_data"
    },
    {
     "data": {
      "text/html": [
       "<pre style=\"white-space:pre;overflow-x:auto;line-height:normal;font-family:Menlo,'DejaVu Sans Mono',consolas,'Courier New',monospace\">--------------------------------------------------\n",
       "</pre>\n"
      ],
      "text/plain": [
       "--------------------------------------------------\n"
      ]
     },
     "metadata": {},
     "output_type": "display_data"
    }
   ],
   "source": [
    "epochs = 100\n",
    "IPO_lr = 0.0001\n",
    "DPO_lr = 0.01\n",
    "model_tmp = copy.deepcopy(model)\n",
    "pi_1, _, _ = train_XPO(model_tmp, 0.5, 'IPO', epochs, 0.01) # IPO 用较大学习率容易训飞\n",
    "model_tmp = copy.deepcopy(model)\n",
    "pi_2, _, _ = train_XPO(model_tmp, 0.5, 'IPO', epochs, 0.001)\n",
    "model_tmp = copy.deepcopy(model)\n",
    "pi_3, _, _ = train_XPO(model_tmp, 0.5, 'DPO', epochs, 0.001)\n",
    "model_tmp = copy.deepcopy(model)\n",
    "pi_4, _, _ = train_XPO(model_tmp, 0.5, 'IPO', epochs, 0.001, 'ADAM') # IPO 用较大学习率容易训飞"
   ]
  },
  {
   "cell_type": "code",
   "execution_count": 15,
   "id": "8d2752df-2c9d-4ac3-877b-db941804da03",
   "metadata": {},
   "outputs": [
    {
     "data": {
      "text/html": [
       "<pre style=\"white-space:pre;overflow-x:auto;line-height:normal;font-family:Menlo,'DejaVu Sans Mono',consolas,'Courier New',monospace\"></pre>\n"
      ],
      "text/plain": []
     },
     "metadata": {},
     "output_type": "display_data"
    },
    {
     "data": {
      "image/png": "[encoded data removed]",
      "text/plain": [
       "\u001b[1m<\u001b[0m\u001b[1;95mFigure\u001b[0m\u001b[39m size 64\u001b[0m\u001b[1;36m0x480\u001b[0m\u001b[39m with \u001b[0m\u001b[1;36m1\u001b[0m\u001b[39m Axes\u001b[0m\u001b[1m>\u001b[0m"
      ]
     },
     "metadata": {},
     "output_type": "display_data"
    }
   ],
   "source": [
    "x = range(len(pi_1))\n",
    "plt.plot(x, pi_1, label='IPO_0.5_lr0.01')\n",
    "plt.plot(x, pi_4, label='IPO_0.5_lr0.01_ADAM')\n",
    "plt.plot(x, pi_2, label='IPO_0.5_lr0.0001')\n",
    "plt.plot(x, pi_3, label='DPO_0.5_lr0.0001')\n",
    "plt.legend()\n",
    "plt.title('pi')\n",
    "plt.xlabel('x')\n",
    "plt.ylabel('pi_rejected')\n",
    "plt.show()"
   ]
  },
  {
   "cell_type": "code",
   "execution_count": null,
   "id": "e016f766-e0ff-4081-9f16-fbf0aae8ea5b",
   "metadata": {},
   "outputs": [],
   "source": []
  }
 ],
 "metadata": {
  "kernelspec": {
   "display_name": "Python 3 (ipykernel)",
   "language": "python",
   "name": "python3"
  },
  "language_info": {
   "codemirror_mode": {
    "name": "ipython",
    "version": 3
   },
   "file_extension": ".py",
   "mimetype": "text/x-python",
   "name": "python",
   "nbconvert_exporter": "python",
   "pygments_lexer": "ipython3",
   "version": "3.9.18"
  }
 },
 "nbformat": 4,
 "nbformat_minor": 5
}
